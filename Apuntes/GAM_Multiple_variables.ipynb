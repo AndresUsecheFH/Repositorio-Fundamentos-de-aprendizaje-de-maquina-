{
  "nbformat": 4,
  "nbformat_minor": 0,
  "metadata": {
    "colab": {
      "provenance": []
    },
    "kernelspec": {
      "name": "ir",
      "display_name": "R"
    },
    "language_info": {
      "name": "R"
    }
  },
  "cells": [
    {
      "cell_type": "code",
      "execution_count": null,
      "metadata": {
        "id": "s9qgYJ4lPB-_"
      },
      "outputs": [],
      "source": []
    },
    {
      "cell_type": "code",
      "source": [
        "install.packages('ISLR2')\n",
        "library(ISLR2)\n",
        "attach(Wage)"
      ],
      "metadata": {
        "colab": {
          "base_uri": "https://localhost:8080/"
        },
        "id": "1BCURwlDQD4y",
        "outputId": "e6bd9e07-413e-416f-a3d5-bba89773a8ea"
      },
      "execution_count": 1,
      "outputs": [
        {
          "output_type": "stream",
          "name": "stderr",
          "text": [
            "Installing package into ‘/usr/local/lib/R/site-library’\n",
            "(as ‘lib’ is unspecified)\n",
            "\n"
          ]
        }
      ]
    },
    {
      "cell_type": "code",
      "source": [
        "str(Wage)"
      ],
      "metadata": {
        "colab": {
          "base_uri": "https://localhost:8080/"
        },
        "id": "CkmSHTz7QR66",
        "outputId": "27674a4c-7d70-458e-89c6-f651a2b8db50"
      },
      "execution_count": 3,
      "outputs": [
        {
          "output_type": "stream",
          "name": "stdout",
          "text": [
            "'data.frame':\t3000 obs. of  11 variables:\n",
            " $ year      : int  2006 2004 2003 2003 2005 2008 2009 2008 2006 2004 ...\n",
            " $ age       : int  18 24 45 43 50 54 44 30 41 52 ...\n",
            " $ maritl    : Factor w/ 5 levels \"1. Never Married\",..: 1 1 2 2 4 2 2 1 1 2 ...\n",
            " $ race      : Factor w/ 4 levels \"1. White\",\"2. Black\",..: 1 1 1 3 1 1 4 3 2 1 ...\n",
            " $ education : Factor w/ 5 levels \"1. < HS Grad\",..: 1 4 3 4 2 4 3 3 3 2 ...\n",
            " $ region    : Factor w/ 9 levels \"1. New England\",..: 2 2 2 2 2 2 2 2 2 2 ...\n",
            " $ jobclass  : Factor w/ 2 levels \"1. Industrial\",..: 1 2 1 2 2 2 1 2 2 2 ...\n",
            " $ health    : Factor w/ 2 levels \"1. <=Good\",\"2. >=Very Good\": 1 2 1 2 1 2 2 1 2 2 ...\n",
            " $ health_ins: Factor w/ 2 levels \"1. Yes\",\"2. No\": 2 2 1 1 1 1 1 1 1 1 ...\n",
            " $ logwage   : num  4.32 4.26 4.88 5.04 4.32 ...\n",
            " $ wage      : num  75 70.5 131 154.7 75 ...\n"
          ]
        }
      ]
    },
    {
      "cell_type": "code",
      "source": [
        "install.packages('caret')"
      ],
      "metadata": {
        "colab": {
          "base_uri": "https://localhost:8080/"
        },
        "id": "ANs38wV-SUUE",
        "outputId": "d22b995a-d777-47fc-dd08-6098fcf53e55"
      },
      "execution_count": 8,
      "outputs": [
        {
          "output_type": "stream",
          "name": "stderr",
          "text": [
            "Installing package into ‘/usr/local/lib/R/site-library’\n",
            "(as ‘lib’ is unspecified)\n",
            "\n",
            "also installing the dependencies ‘listenv’, ‘parallelly’, ‘future’, ‘globals’, ‘shape’, ‘future.apply’, ‘numDeriv’, ‘progressr’, ‘SQUAREM’, ‘diagram’, ‘lava’, ‘prodlim’, ‘proxy’, ‘iterators’, ‘clock’, ‘gower’, ‘hardhat’, ‘ipred’, ‘sparsevctrs’, ‘timeDate’, ‘e1071’, ‘foreach’, ‘ModelMetrics’, ‘plyr’, ‘pROC’, ‘recipes’, ‘reshape2’\n",
            "\n",
            "\n"
          ]
        }
      ]
    },
    {
      "cell_type": "code",
      "source": [
        "library(tidyverse)\n",
        "library(caret)\n",
        "set.seed(123)\n",
        "training.samples<-Wage$wage %>%\n",
        "   createDataPartition(p=0.8,list=FALSE)\n",
        "train.data<-Wage[training.samples, ]\n",
        "test.data<-Wage[-training.samples, ]"
      ],
      "metadata": {
        "colab": {
          "base_uri": "https://localhost:8080/"
        },
        "id": "69RWv05FRxeZ",
        "outputId": "d2aa0809-82f0-4db5-812a-8c74958df4d1"
      },
      "execution_count": 9,
      "outputs": [
        {
          "output_type": "stream",
          "name": "stderr",
          "text": [
            "Loading required package: lattice\n",
            "\n",
            "\n",
            "Attaching package: ‘caret’\n",
            "\n",
            "\n",
            "The following object is masked from ‘package:purrr’:\n",
            "\n",
            "    lift\n",
            "\n",
            "\n"
          ]
        }
      ]
    },
    {
      "cell_type": "code",
      "source": [
        "# Modelo de regresión lineal en función de año, edad y educación\n",
        "\n",
        "modeloRL = lm(formula = wage ~ year + age + education, data = train.data)\n",
        "summary(modeloRL)\n",
        "predictions<-modeloRL %>% predict(test.data)\n",
        "data.frame(\n",
        "  RMSE=RMSE(predictions,test.data$wage),\n",
        "  R2=R2(predictions,test.data$wage)\n",
        ")"
      ],
      "metadata": {
        "colab": {
          "base_uri": "https://localhost:8080/",
          "height": 528
        },
        "id": "Jw8UuBVCRVG5",
        "outputId": "aa95acbc-e5b2-4a64-bea8-29ada2661e6c"
      },
      "execution_count": 11,
      "outputs": [
        {
          "output_type": "display_data",
          "data": {
            "text/plain": [
              "\n",
              "Call:\n",
              "lm(formula = wage ~ year + age + education, data = train.data)\n",
              "\n",
              "Residuals:\n",
              "     Min       1Q   Median       3Q      Max \n",
              "-107.421  -19.640   -3.631   14.528  219.395 \n",
              "\n",
              "Coefficients:\n",
              "                              Estimate Std. Error t value Pr(>|t|)    \n",
              "(Intercept)                 -1.303e+03  7.226e+02  -1.803   0.0715 .  \n",
              "year                         6.801e-01  3.603e-01   1.887   0.0592 .  \n",
              "age                          5.617e-01  6.368e-02   8.820  < 2e-16 ***\n",
              "education2. HS Grad          1.129e+01  2.765e+00   4.084 4.56e-05 ***\n",
              "education3. Some College     2.357e+01  2.904e+00   8.115 7.66e-16 ***\n",
              "education4. College Grad     3.930e+01  2.888e+00  13.609  < 2e-16 ***\n",
              "education5. Advanced Degree  6.415e+01  3.124e+00  20.537  < 2e-16 ***\n",
              "---\n",
              "Signif. codes:  0 ‘***’ 0.001 ‘**’ 0.01 ‘*’ 0.05 ‘.’ 0.1 ‘ ’ 1\n",
              "\n",
              "Residual standard error: 35.8 on 2395 degrees of freedom\n",
              "Multiple R-squared:  0.2577,\tAdjusted R-squared:  0.2559 \n",
              "F-statistic: 138.6 on 6 and 2395 DF,  p-value: < 2.2e-16\n"
            ]
          },
          "metadata": {}
        },
        {
          "output_type": "display_data",
          "data": {
            "text/html": [
              "<table class=\"dataframe\">\n",
              "<caption>A data.frame: 1 × 2</caption>\n",
              "<thead>\n",
              "\t<tr><th scope=col>RMSE</th><th scope=col>R2</th></tr>\n",
              "\t<tr><th scope=col>&lt;dbl&gt;</th><th scope=col>&lt;dbl&gt;</th></tr>\n",
              "</thead>\n",
              "<tbody>\n",
              "\t<tr><td>36.28799</td><td>0.2771217</td></tr>\n",
              "</tbody>\n",
              "</table>\n"
            ],
            "text/markdown": "\nA data.frame: 1 × 2\n\n| RMSE &lt;dbl&gt; | R2 &lt;dbl&gt; |\n|---|---|\n| 36.28799 | 0.2771217 |\n\n",
            "text/latex": "A data.frame: 1 × 2\n\\begin{tabular}{ll}\n RMSE & R2\\\\\n <dbl> & <dbl>\\\\\n\\hline\n\t 36.28799 & 0.2771217\\\\\n\\end{tabular}\n",
            "text/plain": [
              "  RMSE     R2       \n",
              "1 36.28799 0.2771217"
            ]
          },
          "metadata": {}
        }
      ]
    },
    {
      "cell_type": "code",
      "source": [
        "install.packages('gam')\n",
        "library(gam)"
      ],
      "metadata": {
        "colab": {
          "base_uri": "https://localhost:8080/"
        },
        "id": "cu-D8CYMUR6P",
        "outputId": "182b30b6-f3a4-459c-e47e-e3fd85344fcb"
      },
      "execution_count": 13,
      "outputs": [
        {
          "output_type": "stream",
          "name": "stderr",
          "text": [
            "Installing package into ‘/usr/local/lib/R/site-library’\n",
            "(as ‘lib’ is unspecified)\n",
            "\n",
            "Loading required package: splines\n",
            "\n",
            "Loading required package: foreach\n",
            "\n",
            "\n",
            "Attaching package: ‘foreach’\n",
            "\n",
            "\n",
            "The following objects are masked from ‘package:purrr’:\n",
            "\n",
            "    accumulate, when\n",
            "\n",
            "\n",
            "Loaded gam 1.22-5\n",
            "\n",
            "\n"
          ]
        }
      ]
    },
    {
      "cell_type": "code",
      "source": [
        "gam.m3 <- gam(wage ~ s(year , 6) + s(age , 7) + education ,\n",
        "data = train.data)\n",
        "summary(gam.m3)"
      ],
      "metadata": {
        "colab": {
          "base_uri": "https://localhost:8080/",
          "height": 555
        },
        "id": "d9Jrtme8UJbY",
        "outputId": "4f666779-bd3a-4e0b-f89f-17fe5ba9dbaa"
      },
      "execution_count": 18,
      "outputs": [
        {
          "output_type": "display_data",
          "data": {
            "text/plain": [
              "\n",
              "Call: gam(formula = wage ~ s(year, 6) + s(age, 7) + education, data = train.data)\n",
              "Deviance Residuals:\n",
              "    Min      1Q  Median      3Q     Max \n",
              "-110.67  -19.64   -3.11   14.57  213.07 \n",
              "\n",
              "(Dispersion Parameter for gaussian family taken to be 1223.35)\n",
              "\n",
              "    Null Deviance: 4134235 on 2401 degrees of freedom\n",
              "Residual Deviance: 2916465 on 2384 degrees of freedom\n",
              "AIC: 23913.17 \n",
              "\n",
              "Number of Local Scoring Iterations: NA \n",
              "\n",
              "Anova for Parametric Effects\n",
              "             Df  Sum Sq Mean Sq  F value    Pr(>F)    \n",
              "s(year, 6)    1   11252   11252   9.1977  0.002449 ** \n",
              "s(age, 7)     1  153082  153082 125.1337 < 2.2e-16 ***\n",
              "education     4  839435  209859 171.5444 < 2.2e-16 ***\n",
              "Residuals  2384 2916465    1223                       \n",
              "---\n",
              "Signif. codes:  0 ‘***’ 0.001 ‘**’ 0.01 ‘*’ 0.05 ‘.’ 0.1 ‘ ’ 1\n",
              "\n",
              "Anova for Nonparametric Effects\n",
              "            Npar Df  Npar F  Pr(F)    \n",
              "(Intercept)                           \n",
              "s(year, 6)        5  0.7044 0.6202    \n",
              "s(age, 7)         6 20.1256 <2e-16 ***\n",
              "education                             \n",
              "---\n",
              "Signif. codes:  0 ‘***’ 0.001 ‘**’ 0.01 ‘*’ 0.05 ‘.’ 0.1 ‘ ’ 1"
            ]
          },
          "metadata": {}
        }
      ]
    },
    {
      "cell_type": "code",
      "source": [
        "predictions<- gam.m3 %>% predict(test.data)\n",
        "data.frame(\n",
        "  RMSE=RMSE(predictions,test.data$wage),\n",
        "  R2=R2(predictions,test.data$wage)\n",
        ")"
      ],
      "metadata": {
        "colab": {
          "base_uri": "https://localhost:8080/",
          "height": 129
        },
        "id": "Lpia9lk0Sjt5",
        "outputId": "118bf370-904d-477d-abcc-cb793d2ab80b"
      },
      "execution_count": 19,
      "outputs": [
        {
          "output_type": "display_data",
          "data": {
            "text/html": [
              "<table class=\"dataframe\">\n",
              "<caption>A data.frame: 1 × 2</caption>\n",
              "<thead>\n",
              "\t<tr><th scope=col>RMSE</th><th scope=col>R2</th></tr>\n",
              "\t<tr><th scope=col>&lt;dbl&gt;</th><th scope=col>&lt;dbl&gt;</th></tr>\n",
              "</thead>\n",
              "<tbody>\n",
              "\t<tr><td>35.96274</td><td>0.2891908</td></tr>\n",
              "</tbody>\n",
              "</table>\n"
            ],
            "text/markdown": "\nA data.frame: 1 × 2\n\n| RMSE &lt;dbl&gt; | R2 &lt;dbl&gt; |\n|---|---|\n| 35.96274 | 0.2891908 |\n\n",
            "text/latex": "A data.frame: 1 × 2\n\\begin{tabular}{ll}\n RMSE & R2\\\\\n <dbl> & <dbl>\\\\\n\\hline\n\t 35.96274 & 0.2891908\\\\\n\\end{tabular}\n",
            "text/plain": [
              "  RMSE     R2       \n",
              "1 35.96274 0.2891908"
            ]
          },
          "metadata": {}
        }
      ]
    }
  ]
}