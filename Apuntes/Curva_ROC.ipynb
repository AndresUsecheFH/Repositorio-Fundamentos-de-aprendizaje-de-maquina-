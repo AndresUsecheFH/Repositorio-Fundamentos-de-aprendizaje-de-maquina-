{
  "nbformat": 4,
  "nbformat_minor": 0,
  "metadata": {
    "colab": {
      "provenance": []
    },
    "kernelspec": {
      "name": "ir",
      "display_name": "R"
    },
    "language_info": {
      "name": "R"
    }
  },
  "cells": [
    {
      "cell_type": "code",
      "source": [
        "# Instalación de librerías necesarias\n",
        "install.packages(\"dplyr\")\n",
        "install.packages(\"caTools\")    # Para regresión logística\n",
        "library(caTools)\n",
        "library(MASS)\n",
        "library(\"dplyr\")"
      ],
      "metadata": {
        "collapsed": true,
        "id": "y7E3L3clbutq"
      },
      "execution_count": null,
      "outputs": []
    },
    {
      "cell_type": "markdown",
      "source": [
        "Las variables del conjunto de datos quality.csv son las siguientes:\n",
        "\n",
        "\n",
        "\n",
        "1.   **MemberID**: numera a los pacientes del 1 al 131, y es sólo un número identificativo.\n",
        "2.   **InpatientDays**: es el número de visitas hospitalarias, o el número de días que la persona pasó en el hospital.\n",
        "3.   **ERVisits**: es el número de veces que el paciente acudió a urgencias.\n",
        "4.   **OfficeVisits**: es el número de veces que el paciente acudió a la consulta de un médico.\n",
        "5.   **Narcótics**: es el número de recetas de narcóticos que tiene el paciente.\n",
        "6.   **DaysSinceLastERVisit**: es el número de días transcurridos entre la última visita del paciente a urgencias y el final del periodo de estudio (se establece en la duración del periodo de estudio si nunca visitó urgencias).\n",
        "7.   **Pain**: es el número de visitas en las que el paciente se quejó de dolor.\n",
        "TotalVisitas: es el número total de veces que el paciente visitó a cualquier proveedor sanitario.\n",
        "8.   **ProviderCount**: es el número de proveedores que atendieron al paciente.\n",
        "9.   **MedicalClaims**: es el número de días en los que el paciente tuvo una reclamación médica.\n",
        "10.   **ClaimLines**: es el número total de reclamaciones médicas.\n",
        "11.   **StartedOnCombination**: es si el paciente empezó a tomar una combinación de medicamentos para tratar su diabetes (TRUE o FALSE).\n",
        "12.   **AcuteDrugGapSmall**: es la fracción de medicamentos agudos que se repusieron rápidamente después de que se agotara la prescripción.\n",
        "13.   **PoorCare**: es el resultado o la variable dependiente, y es igual a 1 si el paciente tuvo una mala atención, e igual a 0 si el paciente tuvo una buena atención.\n",
        "\n",
        "La variable dependiente se modela como una variable binaria:\n",
        "\n",
        "**PoorCare**: 1, si la atención fue de baja calidad, 0 si fue de alta calidad.\n",
        "\n"
      ],
      "metadata": {
        "id": "p90c3cXydr40"
      }
    },
    {
      "cell_type": "code",
      "source": [
        "# Lectura del dataset\n",
        "data <- read.csv(\"quality.csv\")\n",
        "str(data)"
      ],
      "metadata": {
        "id": "x8i-IkG6cA2O"
      },
      "execution_count": null,
      "outputs": []
    },
    {
      "cell_type": "code",
      "source": [
        "# Análisis Exploratorio de los datos\n",
        "print(head(data))"
      ],
      "metadata": {
        "id": "naswIVL7cI_9"
      },
      "execution_count": null,
      "outputs": []
    },
    {
      "cell_type": "code",
      "source": [
        "summary(data)"
      ],
      "metadata": {
        "id": "woh7MsYjcRD8"
      },
      "execution_count": null,
      "outputs": []
    },
    {
      "cell_type": "code",
      "source": [
        "# Creación de los datasets de entrenamiento y prueba\n",
        "split <- sample.split(data, SplitRatio = 0.8)\n",
        "train <- subset(data, split == \"TRUE\")\n",
        "test <- subset(data, split == \"FALSE\")"
      ],
      "metadata": {
        "id": "fUV7Cb-xcZGS"
      },
      "execution_count": 7,
      "outputs": []
    },
    {
      "cell_type": "code",
      "source": [
        "# Creación del modelo de regresión logística\n",
        "model = glm(PoorCare~.,train , family=\"binomial\")"
      ],
      "metadata": {
        "id": "1bAOmL-jciZT"
      },
      "execution_count": 8,
      "outputs": []
    },
    {
      "cell_type": "code",
      "source": [
        "# Predicción de probabilidades de la clase positiva\n",
        "pred_test <- predict(model,test,type=\"response\")\n",
        "pred_test"
      ],
      "metadata": {
        "id": "tr2k7rqjcpbI"
      },
      "execution_count": null,
      "outputs": []
    },
    {
      "cell_type": "code",
      "source": [
        "table(Actualvalue=test$PoorCare,Predictedvalue=pred_test>0.5) # asumiendo un umbral de 0.5"
      ],
      "metadata": {
        "id": "I9XQVbh7c2rY"
      },
      "execution_count": null,
      "outputs": []
    }
  ]
}