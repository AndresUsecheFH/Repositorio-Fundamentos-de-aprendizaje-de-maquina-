{
  "nbformat": 4,
  "nbformat_minor": 0,
  "metadata": {
    "colab": {
      "provenance": []
    },
    "kernelspec": {
      "name": "ir",
      "display_name": "R"
    },
    "language_info": {
      "name": "R"
    }
  },
  "cells": [
    {
      "cell_type": "code",
      "execution_count": null,
      "metadata": {
        "colab": {
          "base_uri": "https://localhost:8080/"
        },
        "id": "NAMfYcPx0mKw",
        "outputId": "d464dd2c-255a-46d3-dad8-9a24e3b642b3"
      },
      "outputs": [
        {
          "output_type": "stream",
          "name": "stderr",
          "text": [
            "Loading required package: caret\n",
            "\n",
            "Warning message in library(package, lib.loc = lib.loc, character.only = TRUE, logical.return = TRUE, :\n",
            "“there is no package called ‘caret’”\n",
            "Installing package into ‘/usr/local/lib/R/site-library’\n",
            "(as ‘lib’ is unspecified)\n",
            "\n",
            "also installing the dependencies ‘listenv’, ‘parallelly’, ‘future’, ‘globals’, ‘shape’, ‘future.apply’, ‘numDeriv’, ‘progressr’, ‘SQUAREM’, ‘diagram’, ‘lava’, ‘prodlim’, ‘proxy’, ‘iterators’, ‘clock’, ‘gower’, ‘hardhat’, ‘ipred’, ‘sparsevctrs’, ‘timeDate’, ‘e1071’, ‘foreach’, ‘ModelMetrics’, ‘plyr’, ‘pROC’, ‘recipes’, ‘reshape2’\n",
            "\n",
            "\n",
            "Loading required package: glmnet\n",
            "\n",
            "Warning message in library(package, lib.loc = lib.loc, character.only = TRUE, logical.return = TRUE, :\n",
            "“there is no package called ‘glmnet’”\n",
            "Installing package into ‘/usr/local/lib/R/site-library’\n",
            "(as ‘lib’ is unspecified)\n",
            "\n",
            "also installing the dependency ‘RcppEigen’\n",
            "\n",
            "\n",
            "Loading required package: pROC\n",
            "\n",
            "Type 'citation(\"pROC\")' for a citation.\n",
            "\n",
            "\n",
            "Attaching package: ‘pROC’\n",
            "\n",
            "\n",
            "The following objects are masked from ‘package:stats’:\n",
            "\n",
            "    cov, smooth, var\n",
            "\n",
            "\n",
            "Loading required package: ROCR\n",
            "\n",
            "Warning message in library(package, lib.loc = lib.loc, character.only = TRUE, logical.return = TRUE, :\n",
            "“there is no package called ‘ROCR’”\n",
            "Installing package into ‘/usr/local/lib/R/site-library’\n",
            "(as ‘lib’ is unspecified)\n",
            "\n",
            "also installing the dependencies ‘bitops’, ‘gtools’, ‘caTools’, ‘gplots’\n",
            "\n",
            "\n"
          ]
        }
      ],
      "source": [
        "if (!require('caret')) install.packages('caret')\n",
        "if (!require('glmnet')) install.packages('glmnet')\n",
        "if (!require('pROC')) install.packages('pROC')\n",
        "if (!require('ROCR')) install.packages('ROCR')"
      ]
    },
    {
      "cell_type": "code",
      "source": [
        "library(glmnet)\n",
        "library(caret)\n",
        "library(pROC)\n",
        "library(ROCR)"
      ],
      "metadata": {
        "colab": {
          "base_uri": "https://localhost:8080/"
        },
        "id": "TnDZTa8n2rMs",
        "outputId": "27c931a1-c5ab-472b-9df3-1f0cf2a931a8"
      },
      "execution_count": null,
      "outputs": [
        {
          "output_type": "stream",
          "name": "stderr",
          "text": [
            "Loading required package: Matrix\n",
            "\n",
            "Loaded glmnet 4.1-8\n",
            "\n",
            "Loading required package: ggplot2\n",
            "\n",
            "Loading required package: lattice\n",
            "\n"
          ]
        }
      ]
    },
    {
      "cell_type": "code",
      "source": [
        "df<-read.csv(\"/content/demanda_diaria.csv\", header=TRUE, dec=\",\")\n",
        "str(df)\n",
        "head(df)"
      ],
      "metadata": {
        "colab": {
          "base_uri": "https://localhost:8080/",
          "height": 581
        },
        "id": "X5jXhghl1UTr",
        "outputId": "57be6ff7-1e9e-4119-8f23-6a57f0222751"
      },
      "execution_count": null,
      "outputs": [
        {
          "output_type": "stream",
          "name": "stdout",
          "text": [
            "'data.frame':\t730 obs. of  16 variables:\n",
            " $ indice    : int  1 2 3 4 5 6 7 8 9 10 ...\n",
            " $ fecha     : chr  \"01-01-2018\" \"02-01-2018\" \"03-01-2018\" \"04-01-2018\" ...\n",
            " $ temporada : int  1 1 1 1 1 1 1 1 1 1 ...\n",
            " $ ano       : int  0 0 0 0 0 0 0 0 0 0 ...\n",
            " $ mes       : int  1 1 1 1 1 1 1 1 1 1 ...\n",
            " $ festivo   : int  0 0 0 0 0 0 0 0 0 0 ...\n",
            " $ dia       : int  6 0 1 2 3 4 5 6 0 1 ...\n",
            " $ laboral   : int  0 0 1 1 1 1 1 0 0 1 ...\n",
            " $ clima     : int  2 2 1 1 1 1 2 2 1 1 ...\n",
            " $ temp      : chr  \"14.110847\" \"14.902598\" \"8.050924\" \"8.2\" ...\n",
            " $ atemp     : chr  \"18.18125\" \"17.68695\" \"9.47025\" \"10.6061\" ...\n",
            " $ humedad   : chr  \"80.5833\" \"69.6087\" \"43.7273\" \"59.0435\" ...\n",
            " $ viento    : chr  \"10.749882\" \"16.652113\" \"16.636703\" \"10.739832\" ...\n",
            " $ casual    : int  331 131 120 108 82 88 148 68 54 41 ...\n",
            " $ registrado: int  654 670 1229 1454 1518 1518 1362 891 768 1280 ...\n",
            " $ conteo    : int  985 801 1349 1562 1600 1606 1510 959 822 1321 ...\n"
          ]
        },
        {
          "output_type": "display_data",
          "data": {
            "text/html": [
              "<table class=\"dataframe\">\n",
              "<caption>A data.frame: 6 × 16</caption>\n",
              "<thead>\n",
              "\t<tr><th></th><th scope=col>indice</th><th scope=col>fecha</th><th scope=col>temporada</th><th scope=col>ano</th><th scope=col>mes</th><th scope=col>festivo</th><th scope=col>dia</th><th scope=col>laboral</th><th scope=col>clima</th><th scope=col>temp</th><th scope=col>atemp</th><th scope=col>humedad</th><th scope=col>viento</th><th scope=col>casual</th><th scope=col>registrado</th><th scope=col>conteo</th></tr>\n",
              "\t<tr><th></th><th scope=col>&lt;int&gt;</th><th scope=col>&lt;chr&gt;</th><th scope=col>&lt;int&gt;</th><th scope=col>&lt;int&gt;</th><th scope=col>&lt;int&gt;</th><th scope=col>&lt;int&gt;</th><th scope=col>&lt;int&gt;</th><th scope=col>&lt;int&gt;</th><th scope=col>&lt;int&gt;</th><th scope=col>&lt;chr&gt;</th><th scope=col>&lt;chr&gt;</th><th scope=col>&lt;chr&gt;</th><th scope=col>&lt;chr&gt;</th><th scope=col>&lt;int&gt;</th><th scope=col>&lt;int&gt;</th><th scope=col>&lt;int&gt;</th></tr>\n",
              "</thead>\n",
              "<tbody>\n",
              "\t<tr><th scope=row>1</th><td>1</td><td>01-01-2018</td><td>1</td><td>0</td><td>1</td><td>0</td><td>6</td><td>0</td><td>2</td><td>14.110847</td><td>18.18125</td><td>80.5833</td><td>10.749882</td><td>331</td><td> 654</td><td> 985</td></tr>\n",
              "\t<tr><th scope=row>2</th><td>2</td><td>02-01-2018</td><td>1</td><td>0</td><td>1</td><td>0</td><td>0</td><td>0</td><td>2</td><td>14.902598</td><td>17.68695</td><td>69.6087</td><td>16.652113</td><td>131</td><td> 670</td><td> 801</td></tr>\n",
              "\t<tr><th scope=row>3</th><td>3</td><td>03-01-2018</td><td>1</td><td>0</td><td>1</td><td>0</td><td>1</td><td>1</td><td>1</td><td>8.050924 </td><td>9.47025 </td><td>43.7273</td><td>16.636703</td><td>120</td><td>1229</td><td>1349</td></tr>\n",
              "\t<tr><th scope=row>4</th><td>4</td><td>04-01-2018</td><td>1</td><td>0</td><td>1</td><td>0</td><td>2</td><td>1</td><td>1</td><td>8.2      </td><td>10.6061 </td><td>59.0435</td><td>10.739832</td><td>108</td><td>1454</td><td>1562</td></tr>\n",
              "\t<tr><th scope=row>5</th><td>5</td><td>05-01-2018</td><td>1</td><td>0</td><td>1</td><td>0</td><td>3</td><td>1</td><td>1</td><td>9.305237 </td><td>11.4635 </td><td>43.6957</td><td>12.5223  </td><td> 82</td><td>1518</td><td>1600</td></tr>\n",
              "\t<tr><th scope=row>6</th><td>6</td><td>06-01-2018</td><td>1</td><td>0</td><td>1</td><td>0</td><td>4</td><td>1</td><td>1</td><td>8.378268 </td><td>11.66045</td><td>51.8261</td><td>6.0008684</td><td> 88</td><td>1518</td><td>1606</td></tr>\n",
              "</tbody>\n",
              "</table>\n"
            ],
            "text/markdown": "\nA data.frame: 6 × 16\n\n| <!--/--> | indice &lt;int&gt; | fecha &lt;chr&gt; | temporada &lt;int&gt; | ano &lt;int&gt; | mes &lt;int&gt; | festivo &lt;int&gt; | dia &lt;int&gt; | laboral &lt;int&gt; | clima &lt;int&gt; | temp &lt;chr&gt; | atemp &lt;chr&gt; | humedad &lt;chr&gt; | viento &lt;chr&gt; | casual &lt;int&gt; | registrado &lt;int&gt; | conteo &lt;int&gt; |\n|---|---|---|---|---|---|---|---|---|---|---|---|---|---|---|---|---|\n| 1 | 1 | 01-01-2018 | 1 | 0 | 1 | 0 | 6 | 0 | 2 | 14.110847 | 18.18125 | 80.5833 | 10.749882 | 331 |  654 |  985 |\n| 2 | 2 | 02-01-2018 | 1 | 0 | 1 | 0 | 0 | 0 | 2 | 14.902598 | 17.68695 | 69.6087 | 16.652113 | 131 |  670 |  801 |\n| 3 | 3 | 03-01-2018 | 1 | 0 | 1 | 0 | 1 | 1 | 1 | 8.050924  | 9.47025  | 43.7273 | 16.636703 | 120 | 1229 | 1349 |\n| 4 | 4 | 04-01-2018 | 1 | 0 | 1 | 0 | 2 | 1 | 1 | 8.2       | 10.6061  | 59.0435 | 10.739832 | 108 | 1454 | 1562 |\n| 5 | 5 | 05-01-2018 | 1 | 0 | 1 | 0 | 3 | 1 | 1 | 9.305237  | 11.4635  | 43.6957 | 12.5223   |  82 | 1518 | 1600 |\n| 6 | 6 | 06-01-2018 | 1 | 0 | 1 | 0 | 4 | 1 | 1 | 8.378268  | 11.66045 | 51.8261 | 6.0008684 |  88 | 1518 | 1606 |\n\n",
            "text/latex": "A data.frame: 6 × 16\n\\begin{tabular}{r|llllllllllllllll}\n  & indice & fecha & temporada & ano & mes & festivo & dia & laboral & clima & temp & atemp & humedad & viento & casual & registrado & conteo\\\\\n  & <int> & <chr> & <int> & <int> & <int> & <int> & <int> & <int> & <int> & <chr> & <chr> & <chr> & <chr> & <int> & <int> & <int>\\\\\n\\hline\n\t1 & 1 & 01-01-2018 & 1 & 0 & 1 & 0 & 6 & 0 & 2 & 14.110847 & 18.18125 & 80.5833 & 10.749882 & 331 &  654 &  985\\\\\n\t2 & 2 & 02-01-2018 & 1 & 0 & 1 & 0 & 0 & 0 & 2 & 14.902598 & 17.68695 & 69.6087 & 16.652113 & 131 &  670 &  801\\\\\n\t3 & 3 & 03-01-2018 & 1 & 0 & 1 & 0 & 1 & 1 & 1 & 8.050924  & 9.47025  & 43.7273 & 16.636703 & 120 & 1229 & 1349\\\\\n\t4 & 4 & 04-01-2018 & 1 & 0 & 1 & 0 & 2 & 1 & 1 & 8.2       & 10.6061  & 59.0435 & 10.739832 & 108 & 1454 & 1562\\\\\n\t5 & 5 & 05-01-2018 & 1 & 0 & 1 & 0 & 3 & 1 & 1 & 9.305237  & 11.4635  & 43.6957 & 12.5223   &  82 & 1518 & 1600\\\\\n\t6 & 6 & 06-01-2018 & 1 & 0 & 1 & 0 & 4 & 1 & 1 & 8.378268  & 11.66045 & 51.8261 & 6.0008684 &  88 & 1518 & 1606\\\\\n\\end{tabular}\n",
            "text/plain": [
              "  indice fecha      temporada ano mes festivo dia laboral clima temp     \n",
              "1 1      01-01-2018 1         0   1   0       6   0       2     14.110847\n",
              "2 2      02-01-2018 1         0   1   0       0   0       2     14.902598\n",
              "3 3      03-01-2018 1         0   1   0       1   1       1     8.050924 \n",
              "4 4      04-01-2018 1         0   1   0       2   1       1     8.2      \n",
              "5 5      05-01-2018 1         0   1   0       3   1       1     9.305237 \n",
              "6 6      06-01-2018 1         0   1   0       4   1       1     8.378268 \n",
              "  atemp    humedad viento    casual registrado conteo\n",
              "1 18.18125 80.5833 10.749882 331     654        985  \n",
              "2 17.68695 69.6087 16.652113 131     670        801  \n",
              "3 9.47025  43.7273 16.636703 120    1229       1349  \n",
              "4 10.6061  59.0435 10.739832 108    1454       1562  \n",
              "5 11.4635  43.6957 12.5223    82    1518       1600  \n",
              "6 11.66045 51.8261 6.0008684  88    1518       1606  "
            ]
          },
          "metadata": {}
        }
      ]
    },
    {
      "cell_type": "code",
      "source": [
        "df2 <- df[, !names(df) %in% c(\"indice\",\"fecha\",\"casual\",\"registrados\")]\n",
        "head(df2)"
      ],
      "metadata": {
        "colab": {
          "base_uri": "https://localhost:8080/",
          "height": 286
        },
        "id": "AYMOS4P35fbT",
        "outputId": "b4e3f189-6114-4419-edde-82d9dcf69ae6"
      },
      "execution_count": null,
      "outputs": [
        {
          "output_type": "display_data",
          "data": {
            "text/html": [
              "<table class=\"dataframe\">\n",
              "<caption>A data.frame: 6 × 13</caption>\n",
              "<thead>\n",
              "\t<tr><th></th><th scope=col>temporada</th><th scope=col>ano</th><th scope=col>mes</th><th scope=col>festivo</th><th scope=col>dia</th><th scope=col>laboral</th><th scope=col>clima</th><th scope=col>temp</th><th scope=col>atemp</th><th scope=col>humedad</th><th scope=col>viento</th><th scope=col>registrado</th><th scope=col>conteo</th></tr>\n",
              "\t<tr><th></th><th scope=col>&lt;int&gt;</th><th scope=col>&lt;int&gt;</th><th scope=col>&lt;int&gt;</th><th scope=col>&lt;int&gt;</th><th scope=col>&lt;int&gt;</th><th scope=col>&lt;int&gt;</th><th scope=col>&lt;int&gt;</th><th scope=col>&lt;chr&gt;</th><th scope=col>&lt;chr&gt;</th><th scope=col>&lt;chr&gt;</th><th scope=col>&lt;chr&gt;</th><th scope=col>&lt;int&gt;</th><th scope=col>&lt;int&gt;</th></tr>\n",
              "</thead>\n",
              "<tbody>\n",
              "\t<tr><th scope=row>1</th><td>1</td><td>0</td><td>1</td><td>0</td><td>6</td><td>0</td><td>2</td><td>14.110847</td><td>18.18125</td><td>80.5833</td><td>10.749882</td><td> 654</td><td> 985</td></tr>\n",
              "\t<tr><th scope=row>2</th><td>1</td><td>0</td><td>1</td><td>0</td><td>0</td><td>0</td><td>2</td><td>14.902598</td><td>17.68695</td><td>69.6087</td><td>16.652113</td><td> 670</td><td> 801</td></tr>\n",
              "\t<tr><th scope=row>3</th><td>1</td><td>0</td><td>1</td><td>0</td><td>1</td><td>1</td><td>1</td><td>8.050924 </td><td>9.47025 </td><td>43.7273</td><td>16.636703</td><td>1229</td><td>1349</td></tr>\n",
              "\t<tr><th scope=row>4</th><td>1</td><td>0</td><td>1</td><td>0</td><td>2</td><td>1</td><td>1</td><td>8.2      </td><td>10.6061 </td><td>59.0435</td><td>10.739832</td><td>1454</td><td>1562</td></tr>\n",
              "\t<tr><th scope=row>5</th><td>1</td><td>0</td><td>1</td><td>0</td><td>3</td><td>1</td><td>1</td><td>9.305237 </td><td>11.4635 </td><td>43.6957</td><td>12.5223  </td><td>1518</td><td>1600</td></tr>\n",
              "\t<tr><th scope=row>6</th><td>1</td><td>0</td><td>1</td><td>0</td><td>4</td><td>1</td><td>1</td><td>8.378268 </td><td>11.66045</td><td>51.8261</td><td>6.0008684</td><td>1518</td><td>1606</td></tr>\n",
              "</tbody>\n",
              "</table>\n"
            ],
            "text/markdown": "\nA data.frame: 6 × 13\n\n| <!--/--> | temporada &lt;int&gt; | ano &lt;int&gt; | mes &lt;int&gt; | festivo &lt;int&gt; | dia &lt;int&gt; | laboral &lt;int&gt; | clima &lt;int&gt; | temp &lt;chr&gt; | atemp &lt;chr&gt; | humedad &lt;chr&gt; | viento &lt;chr&gt; | registrado &lt;int&gt; | conteo &lt;int&gt; |\n|---|---|---|---|---|---|---|---|---|---|---|---|---|---|\n| 1 | 1 | 0 | 1 | 0 | 6 | 0 | 2 | 14.110847 | 18.18125 | 80.5833 | 10.749882 |  654 |  985 |\n| 2 | 1 | 0 | 1 | 0 | 0 | 0 | 2 | 14.902598 | 17.68695 | 69.6087 | 16.652113 |  670 |  801 |\n| 3 | 1 | 0 | 1 | 0 | 1 | 1 | 1 | 8.050924  | 9.47025  | 43.7273 | 16.636703 | 1229 | 1349 |\n| 4 | 1 | 0 | 1 | 0 | 2 | 1 | 1 | 8.2       | 10.6061  | 59.0435 | 10.739832 | 1454 | 1562 |\n| 5 | 1 | 0 | 1 | 0 | 3 | 1 | 1 | 9.305237  | 11.4635  | 43.6957 | 12.5223   | 1518 | 1600 |\n| 6 | 1 | 0 | 1 | 0 | 4 | 1 | 1 | 8.378268  | 11.66045 | 51.8261 | 6.0008684 | 1518 | 1606 |\n\n",
            "text/latex": "A data.frame: 6 × 13\n\\begin{tabular}{r|lllllllllllll}\n  & temporada & ano & mes & festivo & dia & laboral & clima & temp & atemp & humedad & viento & registrado & conteo\\\\\n  & <int> & <int> & <int> & <int> & <int> & <int> & <int> & <chr> & <chr> & <chr> & <chr> & <int> & <int>\\\\\n\\hline\n\t1 & 1 & 0 & 1 & 0 & 6 & 0 & 2 & 14.110847 & 18.18125 & 80.5833 & 10.749882 &  654 &  985\\\\\n\t2 & 1 & 0 & 1 & 0 & 0 & 0 & 2 & 14.902598 & 17.68695 & 69.6087 & 16.652113 &  670 &  801\\\\\n\t3 & 1 & 0 & 1 & 0 & 1 & 1 & 1 & 8.050924  & 9.47025  & 43.7273 & 16.636703 & 1229 & 1349\\\\\n\t4 & 1 & 0 & 1 & 0 & 2 & 1 & 1 & 8.2       & 10.6061  & 59.0435 & 10.739832 & 1454 & 1562\\\\\n\t5 & 1 & 0 & 1 & 0 & 3 & 1 & 1 & 9.305237  & 11.4635  & 43.6957 & 12.5223   & 1518 & 1600\\\\\n\t6 & 1 & 0 & 1 & 0 & 4 & 1 & 1 & 8.378268  & 11.66045 & 51.8261 & 6.0008684 & 1518 & 1606\\\\\n\\end{tabular}\n",
            "text/plain": [
              "  temporada ano mes festivo dia laboral clima temp      atemp    humedad\n",
              "1 1         0   1   0       6   0       2     14.110847 18.18125 80.5833\n",
              "2 1         0   1   0       0   0       2     14.902598 17.68695 69.6087\n",
              "3 1         0   1   0       1   1       1     8.050924  9.47025  43.7273\n",
              "4 1         0   1   0       2   1       1     8.2       10.6061  59.0435\n",
              "5 1         0   1   0       3   1       1     9.305237  11.4635  43.6957\n",
              "6 1         0   1   0       4   1       1     8.378268  11.66045 51.8261\n",
              "  viento    registrado conteo\n",
              "1 10.749882  654        985  \n",
              "2 16.652113  670        801  \n",
              "3 16.636703 1229       1349  \n",
              "4 10.739832 1454       1562  \n",
              "5 12.5223   1518       1600  \n",
              "6 6.0008684 1518       1606  "
            ]
          },
          "metadata": {}
        }
      ]
    },
    {
      "cell_type": "code",
      "source": [
        "df2$temp <- as.numeric(df2$temp)\n",
        "df2$atemp <- as.numeric(df2$atemp)\n",
        "df2$humedad <- as.numeric(df2$humedad)\n",
        "df2$viento <- as.numeric(df2$viento)\n",
        "head(df2)"
      ],
      "metadata": {
        "colab": {
          "base_uri": "https://localhost:8080/",
          "height": 286
        },
        "id": "Xahj_vf96KjH",
        "outputId": "5a39a026-6273-40c2-eeea-3c2dfbf5d0f1"
      },
      "execution_count": null,
      "outputs": [
        {
          "output_type": "display_data",
          "data": {
            "text/html": [
              "<table class=\"dataframe\">\n",
              "<caption>A data.frame: 6 × 13</caption>\n",
              "<thead>\n",
              "\t<tr><th></th><th scope=col>temporada</th><th scope=col>ano</th><th scope=col>mes</th><th scope=col>festivo</th><th scope=col>dia</th><th scope=col>laboral</th><th scope=col>clima</th><th scope=col>temp</th><th scope=col>atemp</th><th scope=col>humedad</th><th scope=col>viento</th><th scope=col>registrado</th><th scope=col>conteo</th></tr>\n",
              "\t<tr><th></th><th scope=col>&lt;int&gt;</th><th scope=col>&lt;int&gt;</th><th scope=col>&lt;int&gt;</th><th scope=col>&lt;int&gt;</th><th scope=col>&lt;int&gt;</th><th scope=col>&lt;int&gt;</th><th scope=col>&lt;int&gt;</th><th scope=col>&lt;dbl&gt;</th><th scope=col>&lt;dbl&gt;</th><th scope=col>&lt;dbl&gt;</th><th scope=col>&lt;dbl&gt;</th><th scope=col>&lt;int&gt;</th><th scope=col>&lt;int&gt;</th></tr>\n",
              "</thead>\n",
              "<tbody>\n",
              "\t<tr><th scope=row>1</th><td>1</td><td>0</td><td>1</td><td>0</td><td>6</td><td>0</td><td>2</td><td>14.110847</td><td>18.18125</td><td>80.5833</td><td>10.749882</td><td> 654</td><td> 985</td></tr>\n",
              "\t<tr><th scope=row>2</th><td>1</td><td>0</td><td>1</td><td>0</td><td>0</td><td>0</td><td>2</td><td>14.902598</td><td>17.68695</td><td>69.6087</td><td>16.652113</td><td> 670</td><td> 801</td></tr>\n",
              "\t<tr><th scope=row>3</th><td>1</td><td>0</td><td>1</td><td>0</td><td>1</td><td>1</td><td>1</td><td> 8.050924</td><td> 9.47025</td><td>43.7273</td><td>16.636703</td><td>1229</td><td>1349</td></tr>\n",
              "\t<tr><th scope=row>4</th><td>1</td><td>0</td><td>1</td><td>0</td><td>2</td><td>1</td><td>1</td><td> 8.200000</td><td>10.60610</td><td>59.0435</td><td>10.739832</td><td>1454</td><td>1562</td></tr>\n",
              "\t<tr><th scope=row>5</th><td>1</td><td>0</td><td>1</td><td>0</td><td>3</td><td>1</td><td>1</td><td> 9.305237</td><td>11.46350</td><td>43.6957</td><td>12.522300</td><td>1518</td><td>1600</td></tr>\n",
              "\t<tr><th scope=row>6</th><td>1</td><td>0</td><td>1</td><td>0</td><td>4</td><td>1</td><td>1</td><td> 8.378268</td><td>11.66045</td><td>51.8261</td><td> 6.000868</td><td>1518</td><td>1606</td></tr>\n",
              "</tbody>\n",
              "</table>\n"
            ],
            "text/markdown": "\nA data.frame: 6 × 13\n\n| <!--/--> | temporada &lt;int&gt; | ano &lt;int&gt; | mes &lt;int&gt; | festivo &lt;int&gt; | dia &lt;int&gt; | laboral &lt;int&gt; | clima &lt;int&gt; | temp &lt;dbl&gt; | atemp &lt;dbl&gt; | humedad &lt;dbl&gt; | viento &lt;dbl&gt; | registrado &lt;int&gt; | conteo &lt;int&gt; |\n|---|---|---|---|---|---|---|---|---|---|---|---|---|---|\n| 1 | 1 | 0 | 1 | 0 | 6 | 0 | 2 | 14.110847 | 18.18125 | 80.5833 | 10.749882 |  654 |  985 |\n| 2 | 1 | 0 | 1 | 0 | 0 | 0 | 2 | 14.902598 | 17.68695 | 69.6087 | 16.652113 |  670 |  801 |\n| 3 | 1 | 0 | 1 | 0 | 1 | 1 | 1 |  8.050924 |  9.47025 | 43.7273 | 16.636703 | 1229 | 1349 |\n| 4 | 1 | 0 | 1 | 0 | 2 | 1 | 1 |  8.200000 | 10.60610 | 59.0435 | 10.739832 | 1454 | 1562 |\n| 5 | 1 | 0 | 1 | 0 | 3 | 1 | 1 |  9.305237 | 11.46350 | 43.6957 | 12.522300 | 1518 | 1600 |\n| 6 | 1 | 0 | 1 | 0 | 4 | 1 | 1 |  8.378268 | 11.66045 | 51.8261 |  6.000868 | 1518 | 1606 |\n\n",
            "text/latex": "A data.frame: 6 × 13\n\\begin{tabular}{r|lllllllllllll}\n  & temporada & ano & mes & festivo & dia & laboral & clima & temp & atemp & humedad & viento & registrado & conteo\\\\\n  & <int> & <int> & <int> & <int> & <int> & <int> & <int> & <dbl> & <dbl> & <dbl> & <dbl> & <int> & <int>\\\\\n\\hline\n\t1 & 1 & 0 & 1 & 0 & 6 & 0 & 2 & 14.110847 & 18.18125 & 80.5833 & 10.749882 &  654 &  985\\\\\n\t2 & 1 & 0 & 1 & 0 & 0 & 0 & 2 & 14.902598 & 17.68695 & 69.6087 & 16.652113 &  670 &  801\\\\\n\t3 & 1 & 0 & 1 & 0 & 1 & 1 & 1 &  8.050924 &  9.47025 & 43.7273 & 16.636703 & 1229 & 1349\\\\\n\t4 & 1 & 0 & 1 & 0 & 2 & 1 & 1 &  8.200000 & 10.60610 & 59.0435 & 10.739832 & 1454 & 1562\\\\\n\t5 & 1 & 0 & 1 & 0 & 3 & 1 & 1 &  9.305237 & 11.46350 & 43.6957 & 12.522300 & 1518 & 1600\\\\\n\t6 & 1 & 0 & 1 & 0 & 4 & 1 & 1 &  8.378268 & 11.66045 & 51.8261 &  6.000868 & 1518 & 1606\\\\\n\\end{tabular}\n",
            "text/plain": [
              "  temporada ano mes festivo dia laboral clima temp      atemp    humedad\n",
              "1 1         0   1   0       6   0       2     14.110847 18.18125 80.5833\n",
              "2 1         0   1   0       0   0       2     14.902598 17.68695 69.6087\n",
              "3 1         0   1   0       1   1       1      8.050924  9.47025 43.7273\n",
              "4 1         0   1   0       2   1       1      8.200000 10.60610 59.0435\n",
              "5 1         0   1   0       3   1       1      9.305237 11.46350 43.6957\n",
              "6 1         0   1   0       4   1       1      8.378268 11.66045 51.8261\n",
              "  viento    registrado conteo\n",
              "1 10.749882  654        985  \n",
              "2 16.652113  670        801  \n",
              "3 16.636703 1229       1349  \n",
              "4 10.739832 1454       1562  \n",
              "5 12.522300 1518       1600  \n",
              "6  6.000868 1518       1606  "
            ]
          },
          "metadata": {}
        }
      ]
    },
    {
      "cell_type": "code",
      "source": [
        "\n",
        "# Dividir el dataset en entrenamiento (70%) y prueba (20%)\n",
        "set.seed(159)\n",
        "train_index <- createDataPartition(df2$conteo, p = 0.70, list = FALSE)\n",
        "train_data <- df2[train_index, ]\n",
        "test_data <- df2[-train_index, ]"
      ],
      "metadata": {
        "id": "9tfS0G8z-7xc"
      },
      "execution_count": null,
      "outputs": []
    },
    {
      "cell_type": "markdown",
      "source": [
        "MODELO PRELIMINAR"
      ],
      "metadata": {
        "id": "SCCw1RKC7n_C"
      }
    },
    {
      "cell_type": "code",
      "source": [
        "modelo0=lm(conteo~.,data=train_data)\n",
        "summary(modelo0)"
      ],
      "metadata": {
        "colab": {
          "base_uri": "https://localhost:8080/",
          "height": 520
        },
        "id": "ycmyAzcR7k_b",
        "outputId": "cb02eb5e-43c7-4264-ab02-b7a8af6bad61"
      },
      "execution_count": null,
      "outputs": [
        {
          "output_type": "display_data",
          "data": {
            "text/plain": [
              "\n",
              "Call:\n",
              "lm(formula = conteo ~ ., data = train_data)\n",
              "\n",
              "Residuals:\n",
              "    Min      1Q  Median      3Q     Max \n",
              "-988.39 -241.30  -30.55  182.35 1538.30 \n",
              "\n",
              "Coefficients:\n",
              "              Estimate Std. Error t value Pr(>|t|)    \n",
              "(Intercept)  506.97968  123.37671   4.109 4.64e-05 ***\n",
              "temporada    -39.12311   31.05711  -1.260   0.2084    \n",
              "ano           24.16845   55.06908   0.439   0.6609    \n",
              "mes           -4.40940    8.92729  -0.494   0.6216    \n",
              "festivo     -268.06212  117.15926  -2.288   0.0226 *  \n",
              "dia           21.82303    8.47091   2.576   0.0103 *  \n",
              "laboral     -986.95107   43.71943 -22.575  < 2e-16 ***\n",
              "clima        -54.57828   44.14769  -1.236   0.2169    \n",
              "temp          25.67290   16.17505   1.587   0.1131    \n",
              "atemp         10.80624   15.03499   0.719   0.4726    \n",
              "humedad       -2.06881    1.69922  -1.218   0.2240    \n",
              "viento        -8.03475    3.58363  -2.242   0.0254 *  \n",
              "registrado     1.16796    0.02489  46.918  < 2e-16 ***\n",
              "---\n",
              "Signif. codes:  0 ‘***’ 0.001 ‘**’ 0.01 ‘*’ 0.05 ‘.’ 0.1 ‘ ’ 1\n",
              "\n",
              "Residual standard error: 384.8 on 501 degrees of freedom\n",
              "Multiple R-squared:  0.961,\tAdjusted R-squared:  0.9601 \n",
              "F-statistic:  1029 on 12 and 501 DF,  p-value: < 2.2e-16\n"
            ]
          },
          "metadata": {}
        }
      ]
    },
    {
      "cell_type": "code",
      "source": [
        "AIC(modelo0)\n",
        "pred<-predict(modelo0, train_data, se.fit=TRUE)\n",
        "\n",
        "RMSE<-sqrt(mean((pred$fit-train_data$conteo)^2))\n",
        "RMSE"
      ],
      "metadata": {
        "colab": {
          "base_uri": "https://localhost:8080/",
          "height": 52
        },
        "id": "zG2Q4bf7QHqb",
        "outputId": "caf8bce5-d2ef-4af6-9fe0-724f0642785d"
      },
      "execution_count": null,
      "outputs": [
        {
          "output_type": "display_data",
          "data": {
            "text/html": [
              "7592.83253337824"
            ],
            "text/markdown": "7592.83253337824",
            "text/latex": "7592.83253337824",
            "text/plain": [
              "[1] 7592.833"
            ]
          },
          "metadata": {}
        },
        {
          "output_type": "display_data",
          "data": {
            "text/html": [
              "379.877175408546"
            ],
            "text/markdown": "379.877175408546",
            "text/latex": "379.877175408546",
            "text/plain": [
              "[1] 379.8772"
            ]
          },
          "metadata": {}
        }
      ]
    },
    {
      "cell_type": "markdown",
      "source": [
        "2. Punto"
      ],
      "metadata": {
        "id": "miIhcp8UBeIg"
      }
    },
    {
      "cell_type": "markdown",
      "source": [
        "Con datos train"
      ],
      "metadata": {
        "id": "7HZKqMyjBkrX"
      }
    },
    {
      "cell_type": "code",
      "source": [
        "df3 <- df2[, !names(df2) %in% c(\"temporada\",\"ano\",\"mes\",\"festivo\",\"clima\",\"atemp\",\"humedad\")]\n",
        "head(df3)"
      ],
      "metadata": {
        "colab": {
          "base_uri": "https://localhost:8080/",
          "height": 286
        },
        "id": "I5g7hx5-FpAU",
        "outputId": "49ad34a0-cb4b-4e17-ba76-bdaad2d7119a"
      },
      "execution_count": null,
      "outputs": [
        {
          "output_type": "display_data",
          "data": {
            "text/html": [
              "<table class=\"dataframe\">\n",
              "<caption>A data.frame: 6 × 6</caption>\n",
              "<thead>\n",
              "\t<tr><th></th><th scope=col>dia</th><th scope=col>laboral</th><th scope=col>temp</th><th scope=col>viento</th><th scope=col>registrado</th><th scope=col>conteo</th></tr>\n",
              "\t<tr><th></th><th scope=col>&lt;int&gt;</th><th scope=col>&lt;int&gt;</th><th scope=col>&lt;dbl&gt;</th><th scope=col>&lt;dbl&gt;</th><th scope=col>&lt;int&gt;</th><th scope=col>&lt;int&gt;</th></tr>\n",
              "</thead>\n",
              "<tbody>\n",
              "\t<tr><th scope=row>1</th><td>6</td><td>0</td><td>14.110847</td><td>10.749882</td><td> 654</td><td> 985</td></tr>\n",
              "\t<tr><th scope=row>2</th><td>0</td><td>0</td><td>14.902598</td><td>16.652113</td><td> 670</td><td> 801</td></tr>\n",
              "\t<tr><th scope=row>3</th><td>1</td><td>1</td><td> 8.050924</td><td>16.636703</td><td>1229</td><td>1349</td></tr>\n",
              "\t<tr><th scope=row>4</th><td>2</td><td>1</td><td> 8.200000</td><td>10.739832</td><td>1454</td><td>1562</td></tr>\n",
              "\t<tr><th scope=row>5</th><td>3</td><td>1</td><td> 9.305237</td><td>12.522300</td><td>1518</td><td>1600</td></tr>\n",
              "\t<tr><th scope=row>6</th><td>4</td><td>1</td><td> 8.378268</td><td> 6.000868</td><td>1518</td><td>1606</td></tr>\n",
              "</tbody>\n",
              "</table>\n"
            ],
            "text/markdown": "\nA data.frame: 6 × 6\n\n| <!--/--> | dia &lt;int&gt; | laboral &lt;int&gt; | temp &lt;dbl&gt; | viento &lt;dbl&gt; | registrado &lt;int&gt; | conteo &lt;int&gt; |\n|---|---|---|---|---|---|---|\n| 1 | 6 | 0 | 14.110847 | 10.749882 |  654 |  985 |\n| 2 | 0 | 0 | 14.902598 | 16.652113 |  670 |  801 |\n| 3 | 1 | 1 |  8.050924 | 16.636703 | 1229 | 1349 |\n| 4 | 2 | 1 |  8.200000 | 10.739832 | 1454 | 1562 |\n| 5 | 3 | 1 |  9.305237 | 12.522300 | 1518 | 1600 |\n| 6 | 4 | 1 |  8.378268 |  6.000868 | 1518 | 1606 |\n\n",
            "text/latex": "A data.frame: 6 × 6\n\\begin{tabular}{r|llllll}\n  & dia & laboral & temp & viento & registrado & conteo\\\\\n  & <int> & <int> & <dbl> & <dbl> & <int> & <int>\\\\\n\\hline\n\t1 & 6 & 0 & 14.110847 & 10.749882 &  654 &  985\\\\\n\t2 & 0 & 0 & 14.902598 & 16.652113 &  670 &  801\\\\\n\t3 & 1 & 1 &  8.050924 & 16.636703 & 1229 & 1349\\\\\n\t4 & 2 & 1 &  8.200000 & 10.739832 & 1454 & 1562\\\\\n\t5 & 3 & 1 &  9.305237 & 12.522300 & 1518 & 1600\\\\\n\t6 & 4 & 1 &  8.378268 &  6.000868 & 1518 & 1606\\\\\n\\end{tabular}\n",
            "text/plain": [
              "  dia laboral temp      viento    registrado conteo\n",
              "1 6   0       14.110847 10.749882  654        985  \n",
              "2 0   0       14.902598 16.652113  670        801  \n",
              "3 1   1        8.050924 16.636703 1229       1349  \n",
              "4 2   1        8.200000 10.739832 1454       1562  \n",
              "5 3   1        9.305237 12.522300 1518       1600  \n",
              "6 4   1        8.378268  6.000868 1518       1606  "
            ]
          },
          "metadata": {}
        }
      ]
    },
    {
      "cell_type": "code",
      "source": [
        "# Dividir el dataset en entrenamiento (70%) y prueba (20%)\n",
        "set.seed(159)\n",
        "train_index <- createDataPartition(df3$conteo, p = 0.70, list = FALSE)\n",
        "train_data <- df3[train_index, ]\n",
        "test_data <- df3[-train_index, ]"
      ],
      "metadata": {
        "id": "ZCX7NbQ-HEf-"
      },
      "execution_count": null,
      "outputs": []
    },
    {
      "cell_type": "code",
      "source": [
        "#festivo, dia, laboral, temp, viento, registrado tiene p-valor<alpha\n",
        "modelo1=lm(conteo~.,data=train_data)\n",
        "summary(modelo1)"
      ],
      "metadata": {
        "colab": {
          "base_uri": "https://localhost:8080/",
          "height": 399
        },
        "id": "zVg9q6I-8U7s",
        "outputId": "0becbda6-f7ae-401c-c3b1-92fbe7164c65"
      },
      "execution_count": null,
      "outputs": [
        {
          "output_type": "display_data",
          "data": {
            "text/plain": [
              "\n",
              "Call:\n",
              "lm(formula = conteo ~ ., data = train_data)\n",
              "\n",
              "Residuals:\n",
              "     Min       1Q   Median       3Q      Max \n",
              "-1082.99  -233.63   -49.16   215.66  1617.65 \n",
              "\n",
              "Coefficients:\n",
              "              Estimate Std. Error t value Pr(>|t|)    \n",
              "(Intercept)  182.18567   78.93306   2.308  0.02139 *  \n",
              "dia           23.27640    8.49148   2.741  0.00634 ** \n",
              "laboral     -983.24337   38.85805 -25.303  < 2e-16 ***\n",
              "temp          34.53946    2.77946  12.427  < 2e-16 ***\n",
              "viento        -5.25107    3.38503  -1.551  0.12146    \n",
              "registrado     1.17586    0.01431  82.182  < 2e-16 ***\n",
              "---\n",
              "Signif. codes:  0 ‘***’ 0.001 ‘**’ 0.01 ‘*’ 0.05 ‘.’ 0.1 ‘ ’ 1\n",
              "\n",
              "Residual standard error: 392.6 on 508 degrees of freedom\n",
              "Multiple R-squared:  0.9588,\tAdjusted R-squared:  0.9584 \n",
              "F-statistic:  2366 on 5 and 508 DF,  p-value: < 2.2e-16\n"
            ]
          },
          "metadata": {}
        }
      ]
    },
    {
      "cell_type": "code",
      "source": [
        "AIC(modelo1)\n",
        "pred1<-predict(modelo1, train_data, se.fit=TRUE)\n",
        "\n",
        "RMSE<-sqrt(mean((pred1$fit-train_data$conteo)^2))\n",
        "RMSE"
      ],
      "metadata": {
        "colab": {
          "base_uri": "https://localhost:8080/",
          "height": 52
        },
        "id": "Zubz7dFO-P-j",
        "outputId": "546ff89d-1079-4786-dd97-7050de0aa9f2"
      },
      "execution_count": null,
      "outputs": [
        {
          "output_type": "display_data",
          "data": {
            "text/html": [
              "7606.78143700039"
            ],
            "text/markdown": "7606.78143700039",
            "text/latex": "7606.78143700039",
            "text/plain": [
              "[1] 7606.781"
            ]
          },
          "metadata": {}
        },
        {
          "output_type": "display_data",
          "data": {
            "text/html": [
              "390.346820508851"
            ],
            "text/markdown": "390.346820508851",
            "text/latex": "390.346820508851",
            "text/plain": [
              "[1] 390.3468"
            ]
          },
          "metadata": {}
        }
      ]
    },
    {
      "cell_type": "markdown",
      "source": [
        "R2= 0.958\n",
        "RMSE=391.46"
      ],
      "metadata": {
        "id": "JFbxtkaz-cJa"
      }
    },
    {
      "cell_type": "markdown",
      "source": [
        "CON DATOS TEST"
      ],
      "metadata": {
        "id": "1yBMi3ARBnwX"
      }
    },
    {
      "cell_type": "code",
      "source": [
        "#festivo, dia, laboral, temp, viento, registrado tiene p-valor<alpha\n",
        "modelo1_test=lm(conteo~.,data=test_data)\n",
        "summary(modelo1_test)"
      ],
      "metadata": {
        "colab": {
          "base_uri": "https://localhost:8080/",
          "height": 399
        },
        "id": "I_3IJrRw-Sbp",
        "outputId": "a9eaa2a4-7664-4282-eeaa-571bc23d4f67"
      },
      "execution_count": null,
      "outputs": [
        {
          "output_type": "display_data",
          "data": {
            "text/plain": [
              "\n",
              "Call:\n",
              "lm(formula = conteo ~ ., data = test_data)\n",
              "\n",
              "Residuals:\n",
              "    Min      1Q  Median      3Q     Max \n",
              "-682.51 -190.97  -40.16  178.09 1863.06 \n",
              "\n",
              "Coefficients:\n",
              "              Estimate Std. Error t value Pr(>|t|)    \n",
              "(Intercept)  292.74427  115.70430   2.530   0.0121 *  \n",
              "dia           13.53009   12.18877   1.110   0.2682    \n",
              "laboral     -926.36741   56.17675 -16.490  < 2e-16 ***\n",
              "temp          30.90145    3.71465   8.319 1.12e-14 ***\n",
              "viento        -5.42504    4.73948  -1.145   0.2537    \n",
              "registrado     1.15552    0.01873  61.694  < 2e-16 ***\n",
              "---\n",
              "Signif. codes:  0 ‘***’ 0.001 ‘**’ 0.01 ‘*’ 0.05 ‘.’ 0.1 ‘ ’ 1\n",
              "\n",
              "Residual standard error: 337.5 on 210 degrees of freedom\n",
              "Multiple R-squared:  0.9712,\tAdjusted R-squared:  0.9705 \n",
              "F-statistic:  1416 on 5 and 210 DF,  p-value: < 2.2e-16\n"
            ]
          },
          "metadata": {}
        }
      ]
    },
    {
      "cell_type": "code",
      "source": [
        "AIC(modelo1_test)\n",
        "pred2<-predict(modelo1_test, test_data, se.fit=TRUE)\n",
        "\n",
        "RMSE<-sqrt(mean((pred2$fit-test_data$conteo)^2))\n",
        "RMSE"
      ],
      "metadata": {
        "colab": {
          "base_uri": "https://localhost:8080/",
          "height": 52
        },
        "id": "p8s3ZYu-CE8F",
        "outputId": "d5aee942-be8a-40ae-9769-77829390053b"
      },
      "execution_count": null,
      "outputs": [
        {
          "output_type": "display_data",
          "data": {
            "text/html": [
              "3135.80327787802"
            ],
            "text/markdown": "3135.80327787802",
            "text/latex": "3135.80327787802",
            "text/plain": [
              "[1] 3135.803"
            ]
          },
          "metadata": {}
        },
        {
          "output_type": "display_data",
          "data": {
            "text/html": [
              "332.772123981771"
            ],
            "text/markdown": "332.772123981771",
            "text/latex": "332.772123981771",
            "text/plain": [
              "[1] 332.7721"
            ]
          },
          "metadata": {}
        }
      ]
    },
    {
      "cell_type": "markdown",
      "source": [
        "R2= 0.9712\n",
        "RMSE = 332.93"
      ],
      "metadata": {
        "id": "jROSZVKQCQVU"
      }
    },
    {
      "cell_type": "markdown",
      "source": [
        "PUNTO 3 - ridge"
      ],
      "metadata": {
        "id": "orwNgO7eCeRF"
      }
    },
    {
      "cell_type": "code",
      "source": [
        "\n",
        "x <- model.matrix(conteo ~ ., data = train_data)\n",
        "# para remover el intercepto\n",
        "x <- x[, -1]\n",
        "y <- train_data$conteo\n",
        "\n",
        "\n",
        "fitridge <- glmnet(x, y, alpha = 0)\n",
        "\n",
        "# Ver la variacion de los coeficientes con el lambda\n",
        "plot(fitridge, xvar=\"lambda\")\n",
        "\n",
        "\n",
        "foundridge <- cv.glmnet(x, y, alpha = 0, nfolds = 5)"
      ],
      "metadata": {
        "colab": {
          "base_uri": "https://localhost:8080/",
          "height": 437
        },
        "id": "2nOA0iQYEpgp",
        "outputId": "1d156267-7979-4444-f4c2-fbebb922f3be"
      },
      "execution_count": null,
      "outputs": [
        {
          "output_type": "display_data",
          "data": {
            "text/plain": [
              "plot without title"
            ],
            "image/png": "[encoded data removed]"
          },
          "metadata": {
            "image/png": {
              "width": 420,
              "height": 420
            }
          }
        }
      ]
    },
    {
      "cell_type": "code",
      "source": [
        "plot(foundridge)"
      ],
      "metadata": {
        "colab": {
          "base_uri": "https://localhost:8080/",
          "height": 437
        },
        "id": "vdLtyS6-FHfV",
        "outputId": "247f87e4-b996-4cf8-8671-881b327ad0fc"
      },
      "execution_count": null,
      "outputs": [
        {
          "output_type": "display_data",
          "data": {
            "text/plain": [
              "plot without title"
            ],
            "image/png": "[encoded data removed]"
          },
          "metadata": {
            "image/png": {
              "width": 420,
              "height": 420
            }
          }
        }
      ]
    },
    {
      "cell_type": "code",
      "source": [
        "#veo los lambda minimos\n",
        "foundridge$lambda.1se"
      ],
      "metadata": {
        "colab": {
          "base_uri": "https://localhost:8080/",
          "height": 34
        },
        "id": "Hs4wGCPCFLiF",
        "outputId": "b3610d9c-ddf0-4884-c1de-e02dfaa8d6cb"
      },
      "execution_count": null,
      "outputs": [
        {
          "output_type": "display_data",
          "data": {
            "text/html": [
              "217.936147748461"
            ],
            "text/markdown": "217.936147748461",
            "text/latex": "217.936147748461",
            "text/plain": [
              "[1] 217.9361"
            ]
          },
          "metadata": {}
        }
      ]
    },
    {
      "cell_type": "code",
      "source": [
        "foundridge$lambda.min"
      ],
      "metadata": {
        "colab": {
          "base_uri": "https://localhost:8080/",
          "height": 34
        },
        "id": "73XxdmoVFSNd",
        "outputId": "a16c2799-e924-4d4a-d94b-dcc09773d723"
      },
      "execution_count": null,
      "outputs": [
        {
          "output_type": "display_data",
          "data": {
            "text/html": [
              "180.934418591778"
            ],
            "text/markdown": "180.934418591778",
            "text/latex": "180.934418591778",
            "text/plain": [
              "[1] 180.9344"
            ]
          },
          "metadata": {}
        }
      ]
    },
    {
      "cell_type": "code",
      "source": [
        "\n",
        "x_test <- model.matrix(conteo ~ ., data = test_data)[, -1]\n",
        "\n",
        "x_test <- x_test[, colnames(x)]\n",
        "y_test <- test_data$conteo\n",
        "\n",
        "\n",
        "predicciones <- predict.glmnet(fitridge, newx = x_test, s = foundridge$lambda.min)"
      ],
      "metadata": {
        "id": "LoKJQWUcMjdp"
      },
      "execution_count": null,
      "outputs": []
    },
    {
      "source": [
        "erroresridge=sqrt(mean((predicciones-y_test)^2))"
      ],
      "cell_type": "code",
      "metadata": {
        "id": "8uDN_J__N5tj"
      },
      "execution_count": null,
      "outputs": []
    },
    {
      "cell_type": "code",
      "source": [
        "erroresridge"
      ],
      "metadata": {
        "colab": {
          "base_uri": "https://localhost:8080/",
          "height": 34
        },
        "id": "Ooz3bqqJN__q",
        "outputId": "115ac1ce-d336-45c8-b95e-bf92706a002a"
      },
      "execution_count": null,
      "outputs": [
        {
          "output_type": "display_data",
          "data": {
            "text/html": [
              "370.73408081403"
            ],
            "text/markdown": "370.73408081403",
            "text/latex": "370.73408081403",
            "text/plain": [
              "[1] 370.7341"
            ]
          },
          "metadata": {}
        }
      ]
    },
    {
      "cell_type": "markdown",
      "source": [
        "Punto 4 - lasso"
      ],
      "metadata": {
        "id": "f1ZtW6AVH5kt"
      }
    },
    {
      "cell_type": "code",
      "source": [
        "\n",
        "\n",
        "fitlasso <- glmnet(x, y, alpha = 1)\n",
        "\n",
        "\n",
        "plot(fitlasso, xvar=\"lambda\")\n",
        "\n",
        "\n",
        "foundlasso <- cv.glmnet(x, y, alpha = 0, nfolds = 5)"
      ],
      "metadata": {
        "colab": {
          "base_uri": "https://localhost:8080/",
          "height": 437
        },
        "id": "YjaxaCYII5PJ",
        "outputId": "ac03efd1-55ce-4e38-9ea0-00911a2fa189"
      },
      "execution_count": null,
      "outputs": [
        {
          "output_type": "display_data",
          "data": {
            "text/plain": [
              "plot without title"
            ],
            "image/png": "[encoded data removed]"
          },
          "metadata": {
            "image/png": {
              "width": 420,
              "height": 420
            }
          }
        }
      ]
    },
    {
      "cell_type": "code",
      "source": [
        "#veo los lambda minimos\n",
        "foundlasso$lambda.1se"
      ],
      "metadata": {
        "colab": {
          "base_uri": "https://localhost:8080/",
          "height": 34
        },
        "id": "d_5NSwe5JnN1",
        "outputId": "3c7aecbe-7126-48c8-a931-170aec7ea507"
      },
      "execution_count": null,
      "outputs": [
        {
          "output_type": "display_data",
          "data": {
            "text/html": [
              "239.184653110248"
            ],
            "text/markdown": "239.184653110248",
            "text/latex": "239.184653110248",
            "text/plain": [
              "[1] 239.1847"
            ]
          },
          "metadata": {}
        }
      ]
    },
    {
      "cell_type": "code",
      "source": [
        "foundlasso$lambda.min"
      ],
      "metadata": {
        "colab": {
          "base_uri": "https://localhost:8080/",
          "height": 34
        },
        "id": "482v62KLJsG8",
        "outputId": "329119c0-cee7-4e30-b61a-c8c83e1bd726"
      },
      "execution_count": null,
      "outputs": [
        {
          "output_type": "display_data",
          "data": {
            "text/html": [
              "180.934418591778"
            ],
            "text/markdown": "180.934418591778",
            "text/latex": "180.934418591778",
            "text/plain": [
              "[1] 180.9344"
            ]
          },
          "metadata": {}
        }
      ]
    },
    {
      "source": [
        "\n",
        "x <- model.matrix(conteo ~ ., data = train_data)\n",
        "\n",
        "x <- x[, -1]\n",
        "y <- train_data$conteo\n",
        "\n",
        "fitlasso <- glmnet(x, y, alpha = 1)\n",
        "\n",
        "foundlasso <- cv.glmnet(x, y, alpha = 1, nfolds = 5)\n",
        "\n",
        "x_test <- model.matrix(conteo ~ ., data = test_data)[, -1]\n",
        "\n",
        "\n",
        "x_test <- x_test[, colnames(x)]\n",
        "\n",
        "y_test <- test_data$conteo\n",
        "\n",
        "\n",
        "predicciones2 <- predict.glmnet(fitlasso, newx = x_test, s = foundlasso$lambda.min)"
      ],
      "cell_type": "code",
      "metadata": {
        "id": "_bW6DyGOOxyt"
      },
      "execution_count": null,
      "outputs": []
    },
    {
      "cell_type": "code",
      "source": [
        "erroreslasso=sqrt(mean((predicciones2-y_test)^2))"
      ],
      "metadata": {
        "id": "mBcaPWYYO4Fz"
      },
      "execution_count": null,
      "outputs": []
    },
    {
      "cell_type": "code",
      "source": [
        "erroreslasso"
      ],
      "metadata": {
        "colab": {
          "base_uri": "https://localhost:8080/",
          "height": 34
        },
        "id": "JLMDdWg1O8HK",
        "outputId": "26ad4a18-b013-4214-9436-f8879f7a0dd2"
      },
      "execution_count": null,
      "outputs": [
        {
          "output_type": "display_data",
          "data": {
            "text/html": [
              "337.288164162218"
            ],
            "text/markdown": "337.288164162218",
            "text/latex": "337.288164162218",
            "text/plain": [
              "[1] 337.2882"
            ]
          },
          "metadata": {}
        }
      ]
    },
    {
      "cell_type": "markdown",
      "source": [
        "PUNTO 5 ELASTIC-NET"
      ],
      "metadata": {
        "id": "SGBrxE5sJ_eb"
      }
    },
    {
      "cell_type": "code",
      "source": [
        "# aqui hago redes elasticas de 0.1 a 0.9\n",
        "for (i in 1:10){\n",
        "  assign(paste(\"found\", i, sep=\"\"), cv.glmnet(x, y, nfolds=5,\n",
        "                                              alpha=i/10,))}"
      ],
      "metadata": {
        "id": "p3jNqTsrKCkr"
      },
      "execution_count": null,
      "outputs": []
    },
    {
      "cell_type": "code",
      "source": [
        "min(foundridge$cvm)"
      ],
      "metadata": {
        "colab": {
          "base_uri": "https://localhost:8080/",
          "height": 34
        },
        "id": "gAoPYewqKscy",
        "outputId": "ddfcb16f-2913-408e-a1bc-7b4620bf2faf"
      },
      "execution_count": null,
      "outputs": [
        {
          "output_type": "display_data",
          "data": {
            "text/html": [
              "208371.760848844"
            ],
            "text/markdown": "208371.760848844",
            "text/latex": "208371.760848844",
            "text/plain": [
              "[1] 208371.8"
            ]
          },
          "metadata": {}
        }
      ]
    },
    {
      "cell_type": "code",
      "source": [
        "min(found1$cvm)"
      ],
      "metadata": {
        "colab": {
          "base_uri": "https://localhost:8080/",
          "height": 34
        },
        "id": "KXj8jVbBKvYa",
        "outputId": "959c4b25-c3ab-4ccd-d28e-d13438093e74"
      },
      "execution_count": null,
      "outputs": [
        {
          "output_type": "display_data",
          "data": {
            "text/html": [
              "152314.990561643"
            ],
            "text/markdown": "152314.990561643",
            "text/latex": "152314.990561643",
            "text/plain": [
              "[1] 152315"
            ]
          },
          "metadata": {}
        }
      ]
    },
    {
      "cell_type": "code",
      "source": [
        "min(found2$cvm)"
      ],
      "metadata": {
        "colab": {
          "base_uri": "https://localhost:8080/",
          "height": 34
        },
        "id": "HO8523sMKxGB",
        "outputId": "b6868b2c-ae4f-48b0-80a3-81833b191c28"
      },
      "execution_count": null,
      "outputs": [
        {
          "output_type": "display_data",
          "data": {
            "text/html": [
              "150815.855836586"
            ],
            "text/markdown": "150815.855836586",
            "text/latex": "150815.855836586",
            "text/plain": [
              "[1] 150815.9"
            ]
          },
          "metadata": {}
        }
      ]
    },
    {
      "cell_type": "code",
      "source": [
        "min(found3$cvm)"
      ],
      "metadata": {
        "colab": {
          "base_uri": "https://localhost:8080/",
          "height": 34
        },
        "id": "h-zwvmSaLHVB",
        "outputId": "bc8b889b-0b98-4b0e-a2a3-33392182c459"
      },
      "execution_count": null,
      "outputs": [
        {
          "output_type": "display_data",
          "data": {
            "text/html": [
              "152976.343564112"
            ],
            "text/markdown": "152976.343564112",
            "text/latex": "152976.343564112",
            "text/plain": [
              "[1] 152976.3"
            ]
          },
          "metadata": {}
        }
      ]
    },
    {
      "cell_type": "code",
      "source": [
        "min(found4$cvm)"
      ],
      "metadata": {
        "colab": {
          "base_uri": "https://localhost:8080/",
          "height": 34
        },
        "id": "MMCBzWURLIZZ",
        "outputId": "c57217fe-8941-49e9-c9c7-6910688b28b2"
      },
      "execution_count": null,
      "outputs": [
        {
          "output_type": "display_data",
          "data": {
            "text/html": [
              "152193.086698363"
            ],
            "text/markdown": "152193.086698363",
            "text/latex": "152193.086698363",
            "text/plain": [
              "[1] 152193.1"
            ]
          },
          "metadata": {}
        }
      ]
    },
    {
      "cell_type": "code",
      "source": [
        "min(found5$cvm)"
      ],
      "metadata": {
        "colab": {
          "base_uri": "https://localhost:8080/",
          "height": 34
        },
        "id": "xrEDq9o6LI8T",
        "outputId": "8517bdec-0eed-4f94-f3c2-fa9c1aa957f1"
      },
      "execution_count": null,
      "outputs": [
        {
          "output_type": "display_data",
          "data": {
            "text/html": [
              "155318.567404682"
            ],
            "text/markdown": "155318.567404682",
            "text/latex": "155318.567404682",
            "text/plain": [
              "[1] 155318.6"
            ]
          },
          "metadata": {}
        }
      ]
    },
    {
      "cell_type": "code",
      "source": [
        "min(found6$cvm)"
      ],
      "metadata": {
        "colab": {
          "base_uri": "https://localhost:8080/",
          "height": 34
        },
        "id": "SanFwNwALJg5",
        "outputId": "dbebb1d3-c35c-455f-81e5-ddb8d7a93ec1"
      },
      "execution_count": null,
      "outputs": [
        {
          "output_type": "display_data",
          "data": {
            "text/html": [
              "154128.288651526"
            ],
            "text/markdown": "154128.288651526",
            "text/latex": "154128.288651526",
            "text/plain": [
              "[1] 154128.3"
            ]
          },
          "metadata": {}
        }
      ]
    },
    {
      "cell_type": "code",
      "source": [
        "min(found7$cvm)"
      ],
      "metadata": {
        "colab": {
          "base_uri": "https://localhost:8080/",
          "height": 34
        },
        "id": "m5SdUqd4LM5R",
        "outputId": "d0453931-63f5-43bb-ba98-b2a2912eab46"
      },
      "execution_count": null,
      "outputs": [
        {
          "output_type": "display_data",
          "data": {
            "text/html": [
              "158166.165614416"
            ],
            "text/markdown": "158166.165614416",
            "text/latex": "158166.165614416",
            "text/plain": [
              "[1] 158166.2"
            ]
          },
          "metadata": {}
        }
      ]
    },
    {
      "cell_type": "code",
      "source": [
        "min(found8$cvm)"
      ],
      "metadata": {
        "colab": {
          "base_uri": "https://localhost:8080/",
          "height": 34
        },
        "id": "6zXZi-LTLNcC",
        "outputId": "48bdf3c9-5518-4051-df6e-58fb19fdbbdd"
      },
      "execution_count": null,
      "outputs": [
        {
          "output_type": "display_data",
          "data": {
            "text/html": [
              "154686.255418812"
            ],
            "text/markdown": "154686.255418812",
            "text/latex": "154686.255418812",
            "text/plain": [
              "[1] 154686.3"
            ]
          },
          "metadata": {}
        }
      ]
    },
    {
      "cell_type": "code",
      "source": [
        "min(found9$cvm)"
      ],
      "metadata": {
        "colab": {
          "base_uri": "https://localhost:8080/",
          "height": 34
        },
        "id": "hma8SWKLLOCp",
        "outputId": "3b3a9f8a-0583-48f2-e49b-85a05c843be4"
      },
      "execution_count": null,
      "outputs": [
        {
          "output_type": "display_data",
          "data": {
            "text/html": [
              "152173.771252793"
            ],
            "text/markdown": "152173.771252793",
            "text/latex": "152173.771252793",
            "text/plain": [
              "[1] 152173.8"
            ]
          },
          "metadata": {}
        }
      ]
    },
    {
      "cell_type": "code",
      "source": [
        "elastic1<-glmnet(x,y,alpha = 0.1)\n",
        "coef(elastic1,s=found2$lambda.1se)"
      ],
      "metadata": {
        "colab": {
          "base_uri": "https://localhost:8080/",
          "height": 156
        },
        "id": "3jTOaeopLOtZ",
        "outputId": "4cc94ee6-75a4-4827-ef30-0ef9d7162dbe"
      },
      "execution_count": null,
      "outputs": [
        {
          "output_type": "display_data",
          "data": {
            "text/plain": [
              "6 x 1 sparse Matrix of class \"dgCMatrix\"\n",
              "                     s1\n",
              "(Intercept)  192.489798\n",
              "dia           23.074468\n",
              "laboral     -887.866501\n",
              "temp          35.111349\n",
              "viento        -5.045375\n",
              "registrado     1.119442"
            ]
          },
          "metadata": {}
        }
      ]
    },
    {
      "cell_type": "code",
      "source": [
        "predicciones3 <- predict.glmnet(elastic1, x_test, s = elastic1$lambda.min)"
      ],
      "metadata": {
        "id": "0TuItEjePlVj"
      },
      "execution_count": null,
      "outputs": []
    },
    {
      "cell_type": "code",
      "source": [
        " erroreselastic=sqrt(mean((predicciones3-x_test[,1])^2))"
      ],
      "metadata": {
        "id": "OtJW9cWaPoGE"
      },
      "execution_count": null,
      "outputs": []
    },
    {
      "cell_type": "code",
      "source": [
        "erroreselastic"
      ],
      "metadata": {
        "colab": {
          "base_uri": "https://localhost:8080/",
          "height": 34
        },
        "id": "pYRklu2DP0EK",
        "outputId": "ce5b7caa-3ca8-4f0a-d684-41fde39543b1"
      },
      "execution_count": null,
      "outputs": [
        {
          "output_type": "display_data",
          "data": {
            "text/html": [
              "4774.02157497169"
            ],
            "text/markdown": "4774.02157497169",
            "text/latex": "4774.02157497169",
            "text/plain": [
              "[1] 4774.022"
            ]
          },
          "metadata": {}
        }
      ]
    },
    {
      "cell_type": "markdown",
      "source": [
        "6 PUNTO - MEJOR MODELO"
      ],
      "metadata": {
        "id": "8ReyX-gMP3Zi"
      }
    },
    {
      "cell_type": "markdown",
      "source": [
        "EL MEJOR MODELO FUE EL MODELO 01 ya que tiene el RMSE mas bajo con los valores de prueba RMSE=332.93 Y R2 = 0.9712"
      ],
      "metadata": {
        "id": "j4dJMfihRKZK"
      }
    }
  ]
}