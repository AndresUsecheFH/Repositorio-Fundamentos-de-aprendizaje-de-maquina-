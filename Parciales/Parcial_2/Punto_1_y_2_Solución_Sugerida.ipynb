{
  "nbformat": 4,
  "nbformat_minor": 0,
  "metadata": {
    "colab": {
      "provenance": []
    },
    "kernelspec": {
      "name": "ir",
      "display_name": "R"
    },
    "language_info": {
      "name": "R"
    }
  },
  "cells": [
    {
      "cell_type": "markdown",
      "source": [
        "# **REGRESION** **LINEAL**"
      ],
      "metadata": {
        "id": "QPzrAznhUwC_"
      }
    },
    {
      "cell_type": "markdown",
      "source": [
        "**# PUNTO REGRESIÓN LINEAL**"
      ],
      "metadata": {
        "id": "-cp27Utf4Y-P"
      }
    },
    {
      "cell_type": "markdown",
      "source": [
        "Todas las variables de un modelo de regresion lineal deben ser númericas"
      ],
      "metadata": {
        "id": "4zFwvZvGoP48"
      }
    },
    {
      "cell_type": "code",
      "source": [
        "if (!require('caret')) install.packages('caret')"
      ],
      "metadata": {
        "colab": {
          "base_uri": "https://localhost:8080/"
        },
        "id": "2jdnzHIX6J0g",
        "outputId": "28b71ed4-6a00-48af-a706-8f0dc730edbf"
      },
      "execution_count": 1,
      "outputs": [
        {
          "output_type": "stream",
          "name": "stderr",
          "text": [
            "Loading required package: caret\n",
            "\n",
            "Warning message in library(package, lib.loc = lib.loc, character.only = TRUE, logical.return = TRUE, :\n",
            "“there is no package called ‘caret’”\n",
            "Installing package into ‘/usr/local/lib/R/site-library’\n",
            "(as ‘lib’ is unspecified)\n",
            "\n",
            "also installing the dependencies ‘listenv’, ‘parallelly’, ‘future’, ‘globals’, ‘shape’, ‘future.apply’, ‘numDeriv’, ‘progressr’, ‘SQUAREM’, ‘diagram’, ‘lava’, ‘prodlim’, ‘proxy’, ‘iterators’, ‘clock’, ‘gower’, ‘hardhat’, ‘ipred’, ‘sparsevctrs’, ‘timeDate’, ‘e1071’, ‘foreach’, ‘ModelMetrics’, ‘plyr’, ‘pROC’, ‘recipes’, ‘reshape2’\n",
            "\n",
            "\n"
          ]
        }
      ]
    },
    {
      "cell_type": "code",
      "source": [
        "install.packages(\"MASS\")"
      ],
      "metadata": {
        "colab": {
          "base_uri": "https://localhost:8080/"
        },
        "id": "xAEA_Ui32PcP",
        "outputId": "4c86379e-4ad4-42fb-d670-72c89634235d"
      },
      "execution_count": 2,
      "outputs": [
        {
          "output_type": "stream",
          "name": "stderr",
          "text": [
            "Installing package into ‘/usr/local/lib/R/site-library’\n",
            "(as ‘lib’ is unspecified)\n",
            "\n"
          ]
        }
      ]
    },
    {
      "cell_type": "code",
      "source": [
        "library(\"MASS\")\n",
        "library(tidyverse)\n",
        "library(caret)\n",
        "library(ggplot2)\n",
        "library(splines)\n",
        "library(mgcv)"
      ],
      "metadata": {
        "colab": {
          "base_uri": "https://localhost:8080/"
        },
        "id": "pPpQVJ022UfH",
        "outputId": "0253d1d1-2342-452a-e8a7-8d6c2c53ed05"
      },
      "execution_count": 3,
      "outputs": [
        {
          "output_type": "stream",
          "name": "stderr",
          "text": [
            "── \u001b[1mAttaching core tidyverse packages\u001b[22m ──────────────────────── tidyverse 2.0.0 ──\n",
            "\u001b[32m✔\u001b[39m \u001b[34mdplyr    \u001b[39m 1.1.4     \u001b[32m✔\u001b[39m \u001b[34mreadr    \u001b[39m 2.1.5\n",
            "\u001b[32m✔\u001b[39m \u001b[34mforcats  \u001b[39m 1.0.0     \u001b[32m✔\u001b[39m \u001b[34mstringr  \u001b[39m 1.5.1\n",
            "\u001b[32m✔\u001b[39m \u001b[34mggplot2  \u001b[39m 3.5.2     \u001b[32m✔\u001b[39m \u001b[34mtibble   \u001b[39m 3.2.1\n",
            "\u001b[32m✔\u001b[39m \u001b[34mlubridate\u001b[39m 1.9.4     \u001b[32m✔\u001b[39m \u001b[34mtidyr    \u001b[39m 1.3.1\n",
            "\u001b[32m✔\u001b[39m \u001b[34mpurrr    \u001b[39m 1.0.4     \n",
            "── \u001b[1mConflicts\u001b[22m ────────────────────────────────────────── tidyverse_conflicts() ──\n",
            "\u001b[31m✖\u001b[39m \u001b[34mdplyr\u001b[39m::\u001b[32mfilter()\u001b[39m masks \u001b[34mstats\u001b[39m::filter()\n",
            "\u001b[31m✖\u001b[39m \u001b[34mdplyr\u001b[39m::\u001b[32mlag()\u001b[39m    masks \u001b[34mstats\u001b[39m::lag()\n",
            "\u001b[31m✖\u001b[39m \u001b[34mdplyr\u001b[39m::\u001b[32mselect()\u001b[39m masks \u001b[34mMASS\u001b[39m::select()\n",
            "\u001b[36mℹ\u001b[39m Use the conflicted package (\u001b[3m\u001b[34m<http://conflicted.r-lib.org/>\u001b[39m\u001b[23m) to force all conflicts to become errors\n",
            "Loading required package: lattice\n",
            "\n",
            "\n",
            "Attaching package: ‘caret’\n",
            "\n",
            "\n",
            "The following object is masked from ‘package:purrr’:\n",
            "\n",
            "    lift\n",
            "\n",
            "\n",
            "Loading required package: nlme\n",
            "\n",
            "\n",
            "Attaching package: ‘nlme’\n",
            "\n",
            "\n",
            "The following object is masked from ‘package:dplyr’:\n",
            "\n",
            "    collapse\n",
            "\n",
            "\n",
            "This is mgcv 1.9-3. For overview type 'help(\"mgcv-package\")'.\n",
            "\n"
          ]
        }
      ]
    },
    {
      "cell_type": "code",
      "execution_count": null,
      "metadata": {
        "colab": {
          "base_uri": "https://localhost:8080/"
        },
        "id": "v-MNzd5WaTba",
        "outputId": "eef39a33-0fea-4d4b-a1ff-f8613d257e80"
      },
      "outputs": [
        {
          "output_type": "stream",
          "name": "stderr",
          "text": [
            "Installing package into ‘/usr/local/lib/R/site-library’\n",
            "(as ‘lib’ is unspecified)\n",
            "\n",
            "Installing package into ‘/usr/local/lib/R/site-library’\n",
            "(as ‘lib’ is unspecified)\n",
            "\n",
            "also installing the dependency ‘zoo’\n",
            "\n",
            "\n",
            "Installing package into ‘/usr/local/lib/R/site-library’\n",
            "(as ‘lib’ is unspecified)\n",
            "\n",
            "Installing package into ‘/usr/local/lib/R/site-library’\n",
            "(as ‘lib’ is unspecified)\n",
            "\n"
          ]
        }
      ],
      "source": [
        "install.packages(\"corrplot\")\n",
        "install.packages(\"lmtest\")\n",
        "install.packages(\"MASS\")\n",
        "install.packages(\"leaps\")\n"
      ]
    },
    {
      "cell_type": "code",
      "source": [
        "library(corrplot)\n",
        "library(lmtest)\n",
        "library(MASS)\n",
        "library(leaps)\n",
        "library(caret)\n",
        "library(ggplot2)"
      ],
      "metadata": {
        "id": "E9MRZ_Pp45CA",
        "colab": {
          "base_uri": "https://localhost:8080/"
        },
        "outputId": "6f38564a-236a-49f3-def8-a988d50c548d"
      },
      "execution_count": null,
      "outputs": [
        {
          "output_type": "stream",
          "name": "stderr",
          "text": [
            "corrplot 0.95 loaded\n",
            "\n",
            "Loading required package: zoo\n",
            "\n",
            "\n",
            "Attaching package: ‘zoo’\n",
            "\n",
            "\n",
            "The following objects are masked from ‘package:base’:\n",
            "\n",
            "    as.Date, as.Date.numeric\n",
            "\n",
            "\n"
          ]
        }
      ]
    },
    {
      "cell_type": "markdown",
      "source": [
        "- En este caso, quilates, x, y, están como chr pero debería ser numérica\n",
        "\n",
        "\n",
        "\n",
        "- Talla es una variabe=le categorica (1,2,3) por lo que se debe convertir a factor y posteriormente dumificar\n",
        "\n",
        "- Color y claridad tambien son categorias por lo que se debe convertir a factor y dumificar\n"
      ],
      "metadata": {
        "id": "mmIvK7yToUS1"
      }
    },
    {
      "cell_type": "code",
      "source": [
        "regtecnica <- read.csv(\"/content/demanda_diaria.csv\")\n",
        "\n",
        "str(regtecnica)"
      ],
      "metadata": {
        "colab": {
          "base_uri": "https://localhost:8080/"
        },
        "id": "7jJgUitT46lw",
        "outputId": "d579b4af-7a25-4067-9472-2235aaaeb201"
      },
      "execution_count": null,
      "outputs": [
        {
          "output_type": "stream",
          "name": "stdout",
          "text": [
            "'data.frame':\t730 obs. of  16 variables:\n",
            " $ indice    : int  1 2 3 4 5 6 7 8 9 10 ...\n",
            " $ fecha     : chr  \"01-01-2018\" \"02-01-2018\" \"03-01-2018\" \"04-01-2018\" ...\n",
            " $ temporada : int  1 1 1 1 1 1 1 1 1 1 ...\n",
            " $ ano       : int  0 0 0 0 0 0 0 0 0 0 ...\n",
            " $ mes       : int  1 1 1 1 1 1 1 1 1 1 ...\n",
            " $ festivo   : int  0 0 0 0 0 0 0 0 0 0 ...\n",
            " $ dia       : int  6 0 1 2 3 4 5 6 0 1 ...\n",
            " $ laboral   : int  0 0 1 1 1 1 1 0 0 1 ...\n",
            " $ clima     : int  2 2 1 1 1 1 2 2 1 1 ...\n",
            " $ temp      : num  14.11 14.9 8.05 8.2 9.31 ...\n",
            " $ atemp     : num  18.18 17.69 9.47 10.61 11.46 ...\n",
            " $ humedad   : num  80.6 69.6 43.7 59 43.7 ...\n",
            " $ viento    : num  10.7 16.7 16.6 10.7 12.5 ...\n",
            " $ casual    : int  331 131 120 108 82 88 148 68 54 41 ...\n",
            " $ registrado: int  654 670 1229 1454 1518 1518 1362 891 768 1280 ...\n",
            " $ conteo    : int  985 801 1349 1562 1600 1606 1510 959 822 1321 ...\n"
          ]
        }
      ]
    },
    {
      "cell_type": "markdown",
      "source": [
        "# Conversión de variables"
      ],
      "metadata": {
        "id": "cLuXUAdNo5Bk"
      }
    },
    {
      "cell_type": "code",
      "source": [
        "regtecnica$temporada <-as.factor(regtecnica$temporada)\n",
        "regtecnica$ano <-as.factor(regtecnica$ano)\n",
        "regtecnica$festivo <-as.factor(regtecnica$festivo)\n",
        "regtecnica$mes <-as.factor(regtecnica$mes)\n",
        "regtecnica$dia<-as.factor(regtecnica$dia)\n",
        "regtecnica$laboral<-as.factor(regtecnica$laboral)\n",
        "regtecnica$clima<-as.factor(regtecnica$clima)"
      ],
      "metadata": {
        "id": "Mkb-NZAz5SfT"
      },
      "execution_count": null,
      "outputs": []
    },
    {
      "cell_type": "code",
      "source": [
        "str(regtecnica)"
      ],
      "metadata": {
        "colab": {
          "base_uri": "https://localhost:8080/"
        },
        "id": "a9QRvWWK5j5O",
        "outputId": "48e3e476-204d-484e-f20d-632ed08d4d46"
      },
      "execution_count": null,
      "outputs": [
        {
          "output_type": "stream",
          "name": "stdout",
          "text": [
            "'data.frame':\t730 obs. of  16 variables:\n",
            " $ indice    : int  1 2 3 4 5 6 7 8 9 10 ...\n",
            " $ fecha     : chr  \"01-01-2018\" \"02-01-2018\" \"03-01-2018\" \"04-01-2018\" ...\n",
            " $ temporada : Factor w/ 4 levels \"1\",\"2\",\"3\",\"4\": 1 1 1 1 1 1 1 1 1 1 ...\n",
            " $ ano       : Factor w/ 2 levels \"0\",\"1\": 1 1 1 1 1 1 1 1 1 1 ...\n",
            " $ mes       : Factor w/ 12 levels \"1\",\"2\",\"3\",\"4\",..: 1 1 1 1 1 1 1 1 1 1 ...\n",
            " $ festivo   : Factor w/ 2 levels \"0\",\"1\": 1 1 1 1 1 1 1 1 1 1 ...\n",
            " $ dia       : Factor w/ 7 levels \"0\",\"1\",\"2\",\"3\",..: 7 1 2 3 4 5 6 7 1 2 ...\n",
            " $ laboral   : Factor w/ 2 levels \"0\",\"1\": 1 1 2 2 2 2 2 1 1 2 ...\n",
            " $ clima     : Factor w/ 3 levels \"1\",\"2\",\"3\": 2 2 1 1 1 1 2 2 1 1 ...\n",
            " $ temp      : num  14.11 14.9 8.05 8.2 9.31 ...\n",
            " $ atemp     : num  18.18 17.69 9.47 10.61 11.46 ...\n",
            " $ humedad   : num  80.6 69.6 43.7 59 43.7 ...\n",
            " $ viento    : num  10.7 16.7 16.6 10.7 12.5 ...\n",
            " $ casual    : int  331 131 120 108 82 88 148 68 54 41 ...\n",
            " $ registrado: int  654 670 1229 1454 1518 1518 1362 891 768 1280 ...\n",
            " $ conteo    : int  985 801 1349 1562 1600 1606 1510 959 822 1321 ...\n"
          ]
        }
      ]
    },
    {
      "cell_type": "code",
      "source": [
        "regtecnica$fecha <- NULL\n",
        "regtecnica$casual <- NULL\n",
        "regtecnica$registrado <- NULL\n",
        "regtecnica$indice <- NULL"
      ],
      "metadata": {
        "id": "GasHx3vd6bkL"
      },
      "execution_count": null,
      "outputs": []
    },
    {
      "cell_type": "code",
      "source": [
        "str(regtecnica)"
      ],
      "metadata": {
        "colab": {
          "base_uri": "https://localhost:8080/"
        },
        "id": "qBjb9ASt6dNs",
        "outputId": "a8de7265-3023-4451-fd47-b1cc52b8e2ab"
      },
      "execution_count": null,
      "outputs": [
        {
          "output_type": "stream",
          "name": "stdout",
          "text": [
            "'data.frame':\t730 obs. of  12 variables:\n",
            " $ temporada: Factor w/ 4 levels \"1\",\"2\",\"3\",\"4\": 1 1 1 1 1 1 1 1 1 1 ...\n",
            " $ ano      : Factor w/ 2 levels \"0\",\"1\": 1 1 1 1 1 1 1 1 1 1 ...\n",
            " $ mes      : Factor w/ 12 levels \"1\",\"2\",\"3\",\"4\",..: 1 1 1 1 1 1 1 1 1 1 ...\n",
            " $ festivo  : Factor w/ 2 levels \"0\",\"1\": 1 1 1 1 1 1 1 1 1 1 ...\n",
            " $ dia      : Factor w/ 7 levels \"0\",\"1\",\"2\",\"3\",..: 7 1 2 3 4 5 6 7 1 2 ...\n",
            " $ laboral  : Factor w/ 2 levels \"0\",\"1\": 1 1 2 2 2 2 2 1 1 2 ...\n",
            " $ clima    : Factor w/ 3 levels \"1\",\"2\",\"3\": 2 2 1 1 1 1 2 2 1 1 ...\n",
            " $ temp     : num  14.11 14.9 8.05 8.2 9.31 ...\n",
            " $ atemp    : num  18.18 17.69 9.47 10.61 11.46 ...\n",
            " $ humedad  : num  80.6 69.6 43.7 59 43.7 ...\n",
            " $ viento   : num  10.7 16.7 16.6 10.7 12.5 ...\n",
            " $ conteo   : int  985 801 1349 1562 1600 1606 1510 959 822 1321 ...\n"
          ]
        }
      ]
    },
    {
      "cell_type": "code",
      "source": [
        "carterawin<-dummyVars(\"~.\",data=regtecnica)\n",
        "carterafin<-as.data.frame(predict(carterawin,newdata=regtecnica))"
      ],
      "metadata": {
        "id": "_EC2iKl-_osq"
      },
      "execution_count": null,
      "outputs": []
    },
    {
      "cell_type": "code",
      "source": [
        "str(carterafin)"
      ],
      "metadata": {
        "colab": {
          "base_uri": "https://localhost:8080/"
        },
        "id": "HtiL-J5cAUCe",
        "outputId": "ef8f87ff-9146-4a84-dd8b-806234123fab"
      },
      "execution_count": null,
      "outputs": [
        {
          "output_type": "stream",
          "name": "stdout",
          "text": [
            "'data.frame':\t730 obs. of  37 variables:\n",
            " $ temporada.1: num  1 1 1 1 1 1 1 1 1 1 ...\n",
            " $ temporada.2: num  0 0 0 0 0 0 0 0 0 0 ...\n",
            " $ temporada.3: num  0 0 0 0 0 0 0 0 0 0 ...\n",
            " $ temporada.4: num  0 0 0 0 0 0 0 0 0 0 ...\n",
            " $ ano.0      : num  1 1 1 1 1 1 1 1 1 1 ...\n",
            " $ ano.1      : num  0 0 0 0 0 0 0 0 0 0 ...\n",
            " $ mes.1      : num  1 1 1 1 1 1 1 1 1 1 ...\n",
            " $ mes.2      : num  0 0 0 0 0 0 0 0 0 0 ...\n",
            " $ mes.3      : num  0 0 0 0 0 0 0 0 0 0 ...\n",
            " $ mes.4      : num  0 0 0 0 0 0 0 0 0 0 ...\n",
            " $ mes.5      : num  0 0 0 0 0 0 0 0 0 0 ...\n",
            " $ mes.6      : num  0 0 0 0 0 0 0 0 0 0 ...\n",
            " $ mes.7      : num  0 0 0 0 0 0 0 0 0 0 ...\n",
            " $ mes.8      : num  0 0 0 0 0 0 0 0 0 0 ...\n",
            " $ mes.9      : num  0 0 0 0 0 0 0 0 0 0 ...\n",
            " $ mes.10     : num  0 0 0 0 0 0 0 0 0 0 ...\n",
            " $ mes.11     : num  0 0 0 0 0 0 0 0 0 0 ...\n",
            " $ mes.12     : num  0 0 0 0 0 0 0 0 0 0 ...\n",
            " $ festivo.0  : num  1 1 1 1 1 1 1 1 1 1 ...\n",
            " $ festivo.1  : num  0 0 0 0 0 0 0 0 0 0 ...\n",
            " $ dia.0      : num  0 1 0 0 0 0 0 0 1 0 ...\n",
            " $ dia.1      : num  0 0 1 0 0 0 0 0 0 1 ...\n",
            " $ dia.2      : num  0 0 0 1 0 0 0 0 0 0 ...\n",
            " $ dia.3      : num  0 0 0 0 1 0 0 0 0 0 ...\n",
            " $ dia.4      : num  0 0 0 0 0 1 0 0 0 0 ...\n",
            " $ dia.5      : num  0 0 0 0 0 0 1 0 0 0 ...\n",
            " $ dia.6      : num  1 0 0 0 0 0 0 1 0 0 ...\n",
            " $ laboral.0  : num  1 1 0 0 0 0 0 1 1 0 ...\n",
            " $ laboral.1  : num  0 0 1 1 1 1 1 0 0 1 ...\n",
            " $ clima.1    : num  0 0 1 1 1 1 0 0 1 1 ...\n",
            " $ clima.2    : num  1 1 0 0 0 0 1 1 0 0 ...\n",
            " $ clima.3    : num  0 0 0 0 0 0 0 0 0 0 ...\n",
            " $ temp       : num  14.11 14.9 8.05 8.2 9.31 ...\n",
            " $ atemp      : num  18.18 17.69 9.47 10.61 11.46 ...\n",
            " $ humedad    : num  80.6 69.6 43.7 59 43.7 ...\n",
            " $ viento     : num  10.7 16.7 16.6 10.7 12.5 ...\n",
            " $ conteo     : num  985 801 1349 1562 1600 ...\n"
          ]
        }
      ]
    },
    {
      "cell_type": "code",
      "source": [
        "carterafin2<-within(carterafin,rm(temporada.4,mes.12,festivo.1,dia.6,laboral.1,clima.3))\n",
        "str(carterafin2)"
      ],
      "metadata": {
        "colab": {
          "base_uri": "https://localhost:8080/"
        },
        "id": "xF-70NxaBMiW",
        "outputId": "3fedf8c3-fcb4-4307-f628-1a2aec195691"
      },
      "execution_count": null,
      "outputs": [
        {
          "output_type": "stream",
          "name": "stdout",
          "text": [
            "'data.frame':\t730 obs. of  31 variables:\n",
            " $ temporada.1: num  1 1 1 1 1 1 1 1 1 1 ...\n",
            " $ temporada.2: num  0 0 0 0 0 0 0 0 0 0 ...\n",
            " $ temporada.3: num  0 0 0 0 0 0 0 0 0 0 ...\n",
            " $ ano.0      : num  1 1 1 1 1 1 1 1 1 1 ...\n",
            " $ ano.1      : num  0 0 0 0 0 0 0 0 0 0 ...\n",
            " $ mes.1      : num  1 1 1 1 1 1 1 1 1 1 ...\n",
            " $ mes.2      : num  0 0 0 0 0 0 0 0 0 0 ...\n",
            " $ mes.3      : num  0 0 0 0 0 0 0 0 0 0 ...\n",
            " $ mes.4      : num  0 0 0 0 0 0 0 0 0 0 ...\n",
            " $ mes.5      : num  0 0 0 0 0 0 0 0 0 0 ...\n",
            " $ mes.6      : num  0 0 0 0 0 0 0 0 0 0 ...\n",
            " $ mes.7      : num  0 0 0 0 0 0 0 0 0 0 ...\n",
            " $ mes.8      : num  0 0 0 0 0 0 0 0 0 0 ...\n",
            " $ mes.9      : num  0 0 0 0 0 0 0 0 0 0 ...\n",
            " $ mes.10     : num  0 0 0 0 0 0 0 0 0 0 ...\n",
            " $ mes.11     : num  0 0 0 0 0 0 0 0 0 0 ...\n",
            " $ festivo.0  : num  1 1 1 1 1 1 1 1 1 1 ...\n",
            " $ dia.0      : num  0 1 0 0 0 0 0 0 1 0 ...\n",
            " $ dia.1      : num  0 0 1 0 0 0 0 0 0 1 ...\n",
            " $ dia.2      : num  0 0 0 1 0 0 0 0 0 0 ...\n",
            " $ dia.3      : num  0 0 0 0 1 0 0 0 0 0 ...\n",
            " $ dia.4      : num  0 0 0 0 0 1 0 0 0 0 ...\n",
            " $ dia.5      : num  0 0 0 0 0 0 1 0 0 0 ...\n",
            " $ laboral.0  : num  1 1 0 0 0 0 0 1 1 0 ...\n",
            " $ clima.1    : num  0 0 1 1 1 1 0 0 1 1 ...\n",
            " $ clima.2    : num  1 1 0 0 0 0 1 1 0 0 ...\n",
            " $ temp       : num  14.11 14.9 8.05 8.2 9.31 ...\n",
            " $ atemp      : num  18.18 17.69 9.47 10.61 11.46 ...\n",
            " $ humedad    : num  80.6 69.6 43.7 59 43.7 ...\n",
            " $ viento     : num  10.7 16.7 16.6 10.7 12.5 ...\n",
            " $ conteo     : num  985 801 1349 1562 1600 ...\n"
          ]
        }
      ]
    },
    {
      "cell_type": "markdown",
      "source": [
        "# Modelo"
      ],
      "metadata": {
        "id": "xwn9NiiVpX4v"
      }
    },
    {
      "cell_type": "markdown",
      "source": [
        " Plantee un modelo preliminar para predecir la demanda (llámelo modelo0)."
      ],
      "metadata": {
        "id": "YZwQ97lz18ib"
      }
    },
    {
      "cell_type": "code",
      "source": [
        "set.seed(920203) #se deja alguna semilla para que el muestreo sea replicable\n",
        "#aquí se define el tamaño de la muestra, en este caso entrenamiento tendrá el 80% de los casos\n",
        "sample <- sample.int(nrow(carterafin2), floor(.8*nrow(carterafin2)))\n",
        "regtecnica.train <- carterafin2[sample, ]\n",
        "regtecnica.test <- carterafin2[-sample, ]"
      ],
      "metadata": {
        "id": "XtF88Tav5P0O"
      },
      "execution_count": null,
      "outputs": []
    },
    {
      "cell_type": "code",
      "source": [
        "#CREANDO MODELO 0\n",
        "\n",
        "# un modelo con todas las variables (preespecificado)\n",
        "modelo0<- lm(conteo ~.,data=regtecnica.train)"
      ],
      "metadata": {
        "id": "LKIRn3uxCE1R"
      },
      "execution_count": null,
      "outputs": []
    },
    {
      "cell_type": "markdown",
      "source": [
        "**Seleccione las variables que sean significativas a un nivel de significancia = 0.01, y plantee un nuevo modelo (llámelo modelo1). Calcule las métricas de desempeño (RMSE, R2) tanto en entrenamiento como en prueba.**"
      ],
      "metadata": {
        "id": "3DEPX7yM1_fB"
      }
    },
    {
      "cell_type": "code",
      "source": [
        "modelostep<- step(modelo0,direction=\"both\")\n",
        "summary(modelostep)"
      ],
      "metadata": {
        "colab": {
          "base_uri": "https://localhost:8080/",
          "height": 1000
        },
        "id": "1pbEsF1FCPfP",
        "outputId": "163116ff-b38d-472f-bc8b-49eb4fe64736"
      },
      "execution_count": null,
      "outputs": [
        {
          "output_type": "stream",
          "name": "stdout",
          "text": [
            "Start:  AIC=7764.71\n",
            "conteo ~ temporada.1 + temporada.2 + temporada.3 + ano.0 + ano.1 + \n",
            "    mes.1 + mes.2 + mes.3 + mes.4 + mes.5 + mes.6 + mes.7 + mes.8 + \n",
            "    mes.9 + mes.10 + mes.11 + festivo.0 + dia.0 + dia.1 + dia.2 + \n",
            "    dia.3 + dia.4 + dia.5 + laboral.0 + clima.1 + clima.2 + temp + \n",
            "    atemp + humedad + viento\n",
            "\n",
            "\n",
            "Step:  AIC=7764.71\n",
            "conteo ~ temporada.1 + temporada.2 + temporada.3 + ano.0 + ano.1 + \n",
            "    mes.1 + mes.2 + mes.3 + mes.4 + mes.5 + mes.6 + mes.7 + mes.8 + \n",
            "    mes.9 + mes.10 + mes.11 + festivo.0 + dia.0 + dia.1 + dia.2 + \n",
            "    dia.3 + dia.4 + dia.5 + clima.1 + clima.2 + temp + atemp + \n",
            "    humedad + viento\n",
            "\n",
            "\n",
            "Step:  AIC=7764.71\n",
            "conteo ~ temporada.1 + temporada.2 + temporada.3 + ano.0 + mes.1 + \n",
            "    mes.2 + mes.3 + mes.4 + mes.5 + mes.6 + mes.7 + mes.8 + mes.9 + \n",
            "    mes.10 + mes.11 + festivo.0 + dia.0 + dia.1 + dia.2 + dia.3 + \n",
            "    dia.4 + dia.5 + clima.1 + clima.2 + temp + atemp + humedad + \n",
            "    viento\n",
            "\n",
            "              Df Sum of Sq       RSS    AIC\n",
            "- dia.5        1      1107 314446986 7762.7\n",
            "- mes.1        1      2404 314448284 7762.7\n",
            "- mes.11       1     13710 314459590 7762.7\n",
            "- dia.3        1     85165 314531045 7762.9\n",
            "- mes.7        1    171849 314617728 7763.0\n",
            "- dia.4        1    233665 314679544 7763.1\n",
            "- mes.2        1    251357 314697236 7763.2\n",
            "- temp         1    568764 315014643 7763.8\n",
            "- dia.2        1    843096 315288975 7764.3\n",
            "<none>                     314445879 7764.7\n",
            "- mes.4        1   2315981 316761860 7767.0\n",
            "- mes.6        1   2369853 316815733 7767.1\n",
            "- mes.8        1   2875033 317320913 7768.0\n",
            "- dia.1        1   2897429 317343308 7768.1\n",
            "- temporada.2  1   4075258 318521137 7770.2\n",
            "- atemp        1   4630880 319076760 7771.2\n",
            "- mes.5        1   4731105 319176984 7771.4\n",
            "- mes.3        1   4763949 319209829 7771.5\n",
            "- festivo.0    1   5359484 319805363 7772.6\n",
            "- temporada.3  1   5664500 320110380 7773.1\n",
            "- dia.0        1   8064080 322509959 7777.5\n",
            "- mes.10       1   9876882 324322761 7780.8\n",
            "- humedad      1  11056783 325502662 7782.9\n",
            "- mes.9        1  14202591 328648470 7788.5\n",
            "- viento       1  17935599 332381478 7795.1\n",
            "- temporada.1  1  29075492 343521371 7814.4\n",
            "- clima.2      1  35733034 350178913 7825.6\n",
            "- clima.1      1  53041130 367487010 7853.7\n",
            "- ano.0        1 568632068 883077947 8365.7\n",
            "\n",
            "Step:  AIC=7762.71\n",
            "conteo ~ temporada.1 + temporada.2 + temporada.3 + ano.0 + mes.1 + \n",
            "    mes.2 + mes.3 + mes.4 + mes.5 + mes.6 + mes.7 + mes.8 + mes.9 + \n",
            "    mes.10 + mes.11 + festivo.0 + dia.0 + dia.1 + dia.2 + dia.3 + \n",
            "    dia.4 + clima.1 + clima.2 + temp + atemp + humedad + viento\n",
            "\n",
            "              Df Sum of Sq       RSS    AIC\n",
            "- mes.1        1      2390 314449377 7760.7\n",
            "- mes.11       1     13625 314460611 7760.7\n",
            "- dia.3        1     99075 314546061 7760.9\n",
            "- mes.7        1    173380 314620367 7761.0\n",
            "- mes.2        1    252340 314699326 7761.2\n",
            "- dia.4        1    290352 314737338 7761.3\n",
            "- temp         1    569071 315016058 7761.8\n",
            "<none>                     314446986 7762.7\n",
            "- dia.2        1   1085001 315531987 7762.7\n",
            "+ dia.5        1      1107 314445879 7764.7\n",
            "+ laboral.0    1      1107 314445879 7764.7\n",
            "- mes.4        1   2319651 316766638 7765.0\n",
            "- mes.6        1   2375760 316822747 7765.1\n",
            "- mes.8        1   2882341 317329327 7766.0\n",
            "- dia.1        1   3699437 318146423 7767.5\n",
            "- temporada.2  1   4078559 318525545 7768.2\n",
            "- atemp        1   4630643 319077629 7769.2\n",
            "- mes.5        1   4747589 319194575 7769.5\n",
            "- mes.3        1   4768083 319215069 7769.5\n",
            "- festivo.0    1   5374380 319821366 7770.6\n",
            "- temporada.3  1   5669779 320116766 7771.1\n",
            "- mes.10       1   9889838 324336824 7778.8\n",
            "- dia.0        1  10530273 324977259 7779.9\n",
            "- humedad      1  11055812 325502798 7780.9\n",
            "- mes.9        1  14226279 328673265 7786.6\n",
            "- viento       1  17934499 332381485 7793.1\n",
            "- temporada.1  1  29078581 343525568 7812.4\n",
            "- clima.2      1  35745995 350192982 7823.6\n",
            "- clima.1      1  53042069 367489056 7851.7\n",
            "- ano.0        1 568648522 883095508 8363.8\n",
            "\n",
            "Step:  AIC=7760.72\n",
            "conteo ~ temporada.1 + temporada.2 + temporada.3 + ano.0 + mes.2 + \n",
            "    mes.3 + mes.4 + mes.5 + mes.6 + mes.7 + mes.8 + mes.9 + mes.10 + \n",
            "    mes.11 + festivo.0 + dia.0 + dia.1 + dia.2 + dia.3 + dia.4 + \n",
            "    clima.1 + clima.2 + temp + atemp + humedad + viento\n",
            "\n",
            "              Df Sum of Sq       RSS    AIC\n",
            "- mes.11       1     14340 314463717 7758.7\n",
            "- dia.3        1     98727 314548104 7758.9\n",
            "- mes.7        1    170992 314620369 7759.0\n",
            "- dia.4        1    288425 314737802 7759.3\n",
            "- mes.2        1    427396 314876772 7759.5\n",
            "- temp         1    570760 315020136 7759.8\n",
            "<none>                     314449377 7760.7\n",
            "- dia.2        1   1082618 315531995 7760.7\n",
            "+ mes.1        1      2390 314446986 7762.7\n",
            "+ dia.5        1      1093 314448284 7762.7\n",
            "+ laboral.0    1      1093 314448284 7762.7\n",
            "- mes.6        1   2475021 316924397 7763.3\n",
            "- mes.4        1   2570876 317020252 7763.5\n",
            "- mes.8        1   2914615 317363992 7764.1\n",
            "- dia.1        1   3704227 318153604 7765.6\n",
            "- atemp        1   4629915 319079291 7767.3\n",
            "- temporada.2  1   4669937 319119313 7767.3\n",
            "- mes.5        1   5151094 319600471 7768.2\n",
            "- festivo.0    1   5395310 319844687 7768.7\n",
            "- temporada.3  1   5935767 320385143 7769.6\n",
            "- mes.3        1   7329170 321778547 7772.2\n",
            "- mes.10       1   9887448 324336824 7776.8\n",
            "- dia.0        1  10530216 324979593 7778.0\n",
            "- humedad      1  11071216 325520593 7778.9\n",
            "- mes.9        1  14418861 328868238 7784.9\n",
            "- viento       1  17988899 332438276 7791.2\n",
            "- clima.2      1  35788180 350237556 7821.7\n",
            "- temporada.1  1  48267330 362716707 7842.1\n",
            "- clima.1      1  53118371 367567747 7849.9\n",
            "- ano.0        1 568695913 883145290 8361.8\n",
            "\n",
            "Step:  AIC=7758.74\n",
            "conteo ~ temporada.1 + temporada.2 + temporada.3 + ano.0 + mes.2 + \n",
            "    mes.3 + mes.4 + mes.5 + mes.6 + mes.7 + mes.8 + mes.9 + mes.10 + \n",
            "    festivo.0 + dia.0 + dia.1 + dia.2 + dia.3 + dia.4 + clima.1 + \n",
            "    clima.2 + temp + atemp + humedad + viento\n",
            "\n",
            "              Df Sum of Sq       RSS    AIC\n",
            "- dia.3        1    100907 314564624 7756.9\n",
            "- mes.7        1    209755 314673472 7757.1\n",
            "- dia.4        1    286127 314749844 7757.3\n",
            "- mes.2        1    435995 314899711 7757.6\n",
            "- temp         1    573881 315037598 7757.8\n",
            "- dia.2        1   1077974 315541691 7758.7\n",
            "<none>                     314463717 7758.7\n",
            "+ mes.11       1     14340 314449377 7760.7\n",
            "+ mes.1        1      3106 314460611 7760.7\n",
            "+ laboral.0    1      1004 314462713 7760.7\n",
            "+ dia.5        1      1004 314462713 7760.7\n",
            "- mes.6        1   2658819 317122536 7761.7\n",
            "- mes.4        1   2708812 317172529 7761.8\n",
            "- mes.8        1   3219947 317683664 7762.7\n",
            "- dia.1        1   3691486 318155202 7763.6\n",
            "- atemp        1   4629287 319093003 7765.3\n",
            "- temporada.2  1   4860003 319323720 7765.7\n",
            "- mes.5        1   5376312 319840029 7766.6\n",
            "- festivo.0    1   5537644 320001361 7766.9\n",
            "- temporada.3  1   5988726 320452443 7767.8\n",
            "- mes.3        1   7508591 321972308 7770.5\n",
            "- dia.0        1  10518234 324981951 7776.0\n",
            "- humedad      1  11057722 325521439 7776.9\n",
            "- mes.10       1  14422811 328886527 7782.9\n",
            "- mes.9        1  16504821 330968538 7786.6\n",
            "- viento       1  18061001 332524717 7789.4\n",
            "- clima.2      1  35773899 350237615 7819.7\n",
            "- clima.1      1  53118613 367582330 7847.9\n",
            "- temporada.1  1  65810894 380274611 7867.7\n",
            "- ano.0        1 569027328 883491045 8360.0\n",
            "\n",
            "Step:  AIC=7756.93\n",
            "conteo ~ temporada.1 + temporada.2 + temporada.3 + ano.0 + mes.2 + \n",
            "    mes.3 + mes.4 + mes.5 + mes.6 + mes.7 + mes.8 + mes.9 + mes.10 + \n",
            "    festivo.0 + dia.0 + dia.1 + dia.2 + dia.4 + clima.1 + clima.2 + \n",
            "    temp + atemp + humedad + viento\n",
            "\n",
            "              Df Sum of Sq       RSS    AIC\n",
            "- dia.4        1    206886 314771510 7755.3\n",
            "- mes.7        1    208063 314772687 7755.3\n",
            "- mes.2        1    431759 314996383 7755.7\n",
            "- temp         1    584001 315148625 7756.0\n",
            "- dia.2        1    978573 315543197 7756.7\n",
            "<none>                     314564624 7756.9\n",
            "+ dia.3        1    100907 314463717 7758.7\n",
            "+ laboral.0    1     33941 314530683 7758.9\n",
            "+ mes.11       1     16521 314548104 7758.9\n",
            "+ dia.5        1     15735 314548890 7758.9\n",
            "+ mes.1        1      2758 314561867 7758.9\n",
            "- mes.6        1   2687288 317251912 7759.9\n",
            "- mes.4        1   2712614 317277238 7759.9\n",
            "- mes.8        1   3186295 317750919 7760.8\n",
            "- dia.1        1   3685103 318249727 7761.7\n",
            "- atemp        1   4648090 319212714 7763.5\n",
            "- temporada.2  1   4864050 319428674 7763.9\n",
            "- mes.5        1   5390469 319955093 7764.9\n",
            "- festivo.0    1   5547369 320111993 7765.1\n",
            "- temporada.3  1   5932079 320496703 7765.8\n",
            "- mes.3        1   7543091 322107715 7768.8\n",
            "- dia.0        1  11007516 325572140 7775.0\n",
            "- humedad      1  11157620 325722244 7775.3\n",
            "- mes.10       1  14487979 329052603 7781.2\n",
            "- mes.9        1  16560268 331124892 7784.9\n",
            "- viento       1  18023777 332588401 7787.5\n",
            "- clima.2      1  37054994 351619618 7820.0\n",
            "- clima.1      1  54707454 369272078 7848.6\n",
            "- temporada.1  1  65835219 380399843 7865.9\n",
            "- ano.0        1 569077182 883641806 8358.1\n",
            "\n",
            "Step:  AIC=7755.31\n",
            "conteo ~ temporada.1 + temporada.2 + temporada.3 + ano.0 + mes.2 + \n",
            "    mes.3 + mes.4 + mes.5 + mes.6 + mes.7 + mes.8 + mes.9 + mes.10 + \n",
            "    festivo.0 + dia.0 + dia.1 + dia.2 + clima.1 + clima.2 + temp + \n",
            "    atemp + humedad + viento\n",
            "\n",
            "              Df Sum of Sq       RSS    AIC\n",
            "- mes.7        1    243618 315015128 7753.8\n",
            "- mes.2        1    435453 315206964 7754.1\n",
            "- temp         1    567835 315339345 7754.4\n",
            "- dia.2        1    813421 315584931 7754.8\n",
            "<none>                     314771510 7755.3\n",
            "+ dia.4        1    206886 314564624 7756.9\n",
            "+ laboral.0    1    107488 314664023 7757.1\n",
            "+ dia.5        1     75021 314696489 7757.2\n",
            "+ dia.3        1     21667 314749844 7757.3\n",
            "+ mes.11       1     13220 314758290 7757.3\n",
            "+ mes.1        1       845 314770665 7757.3\n",
            "- mes.6        1   2753601 317525111 7758.4\n",
            "- mes.4        1   2766701 317538211 7758.4\n",
            "- mes.8        1   3273712 318045223 7759.4\n",
            "- dia.1        1   3478415 318249925 7759.7\n",
            "- atemp        1   4586774 319358284 7761.8\n",
            "- temporada.2  1   4897761 319669271 7762.3\n",
            "- mes.5        1   5461646 320233156 7763.4\n",
            "- festivo.0    1   5604013 320375523 7763.6\n",
            "- temporada.3  1   6072767 320844277 7764.5\n",
            "- mes.3        1   7620938 322392449 7767.3\n",
            "- dia.0        1  10935572 325707083 7773.3\n",
            "- humedad      1  11009266 325780777 7773.4\n",
            "- mes.10       1  14620034 329391545 7779.8\n",
            "- mes.9        1  16819155 331590665 7783.7\n",
            "- viento       1  17930482 332701992 7785.7\n",
            "- clima.2      1  37178524 351950034 7818.5\n",
            "- clima.1      1  55052333 369823844 7847.4\n",
            "- temporada.1  1  65934020 380705530 7864.4\n",
            "- ano.0        1 568915359 883686869 8356.2\n",
            "\n",
            "Step:  AIC=7753.77\n",
            "conteo ~ temporada.1 + temporada.2 + temporada.3 + ano.0 + mes.2 + \n",
            "    mes.3 + mes.4 + mes.5 + mes.6 + mes.8 + mes.9 + mes.10 + \n",
            "    festivo.0 + dia.0 + dia.1 + dia.2 + clima.1 + clima.2 + temp + \n",
            "    atemp + humedad + viento\n",
            "\n",
            "              Df Sum of Sq       RSS    AIC\n",
            "- mes.2        1    343366 315358494 7752.4\n",
            "- temp         1    424045 315439173 7752.6\n",
            "- dia.2        1    804698 315819827 7753.3\n",
            "<none>                     315015128 7753.8\n",
            "+ mes.7        1    243618 314771510 7755.3\n",
            "+ dia.4        1    242441 314772687 7755.3\n",
            "+ laboral.0    1    127126 314888003 7755.5\n",
            "+ dia.5        1     72089 314943039 7755.6\n",
            "+ mes.11       1     54714 314960414 7755.7\n",
            "+ dia.3        1     17247 314997882 7755.7\n",
            "+ mes.1        1       753 315014375 7755.8\n",
            "- mes.4        1   2721917 317737046 7756.8\n",
            "- dia.1        1   3408342 318423471 7758.1\n",
            "- mes.6        1   3874545 318889673 7758.9\n",
            "- atemp        1   4382569 319397698 7759.8\n",
            "- temporada.2  1   4791681 319806809 7760.6\n",
            "- festivo.0    1   5898222 320913350 7762.6\n",
            "- mes.5        1   6538714 321553842 7763.8\n",
            "- mes.8        1   7270390 322285519 7765.1\n",
            "- temporada.3  1   7473978 322489107 7765.5\n",
            "- mes.3        1   7942094 322957223 7766.3\n",
            "- dia.0        1  10741160 325756288 7771.3\n",
            "- humedad      1  12069233 327084361 7773.7\n",
            "- mes.10       1  15274989 330290118 7779.4\n",
            "- viento       1  18728056 333743185 7785.5\n",
            "- clima.2      1  37434823 352449951 7817.3\n",
            "- mes.9        1  37503660 352518789 7817.5\n",
            "- clima.1      1  55025008 370040137 7845.8\n",
            "- temporada.1  1  66221530 381236658 7863.2\n",
            "- ano.0        1 572558857 887573985 8356.7\n",
            "\n",
            "Step:  AIC=7752.4\n",
            "conteo ~ temporada.1 + temporada.2 + temporada.3 + ano.0 + mes.3 + \n",
            "    mes.4 + mes.5 + mes.6 + mes.8 + mes.9 + mes.10 + festivo.0 + \n",
            "    dia.0 + dia.1 + dia.2 + clima.1 + clima.2 + temp + atemp + \n",
            "    humedad + viento\n",
            "\n",
            "              Df Sum of Sq       RSS    AIC\n",
            "- temp         1    472310 315830805 7751.3\n",
            "- dia.2        1    792978 316151472 7751.9\n",
            "<none>                     315358494 7752.4\n",
            "+ mes.2        1    343366 315015128 7753.8\n",
            "+ dia.4        1    238349 315120145 7754.0\n",
            "+ mes.1        1    180809 315177685 7754.1\n",
            "+ mes.7        1    151531 315206964 7754.1\n",
            "+ laboral.0    1    135177 315223318 7754.2\n",
            "+ dia.5        1     62089 315296405 7754.3\n",
            "+ mes.11       1     56114 315302381 7754.3\n",
            "+ dia.3        1     16266 315342228 7754.4\n",
            "- mes.4        1   2480462 317838957 7755.0\n",
            "- dia.1        1   3358952 318717446 7756.6\n",
            "- mes.6        1   3620892 318979386 7757.1\n",
            "- temporada.2  1   4506915 319865409 7758.7\n",
            "- atemp        1   4578029 319936523 7758.8\n",
            "- festivo.0    1   5946474 321304968 7761.3\n",
            "- mes.5        1   6228818 321587313 7761.8\n",
            "- mes.8        1   7177820 322536314 7763.5\n",
            "- temporada.3  1   7494862 322853356 7764.1\n",
            "- mes.3        1   7786390 323144884 7764.6\n",
            "- dia.0        1  10789409 326147904 7770.0\n",
            "- humedad      1  12478911 327837406 7773.1\n",
            "- mes.10       1  15194421 330552915 7777.9\n",
            "- viento       1  18596008 333954502 7783.9\n",
            "- clima.2      1  37312741 352671236 7815.7\n",
            "- mes.9        1  37453297 352811791 7815.9\n",
            "- clima.1      1  54845498 370203992 7844.0\n",
            "- temporada.1  1  77939150 393297645 7879.4\n",
            "- ano.0        1 572592538 887951032 8355.0\n",
            "\n",
            "Step:  AIC=7751.28\n",
            "conteo ~ temporada.1 + temporada.2 + temporada.3 + ano.0 + mes.3 + \n",
            "    mes.4 + mes.5 + mes.6 + mes.8 + mes.9 + mes.10 + festivo.0 + \n",
            "    dia.0 + dia.1 + dia.2 + clima.1 + clima.2 + atemp + humedad + \n",
            "    viento\n",
            "\n",
            "              Df Sum of Sq       RSS    AIC\n",
            "- dia.2        1    744259 316575064 7750.7\n",
            "<none>                     315830805 7751.3\n",
            "+ temp         1    472310 315358494 7752.4\n",
            "+ mes.2        1    391632 315439173 7752.6\n",
            "+ dia.4        1    208439 315622365 7752.9\n",
            "+ mes.1        1    183067 315647738 7752.9\n",
            "+ laboral.0    1    131109 315699696 7753.0\n",
            "+ dia.5        1     61165 315769640 7753.2\n",
            "+ mes.11       1     42068 315788737 7753.2\n",
            "+ mes.7        1     40446 315790359 7753.2\n",
            "+ dia.3        1     23166 315807639 7753.2\n",
            "- mes.4        1   2646376 318477181 7754.1\n",
            "- dia.1        1   3198990 319029795 7755.2\n",
            "- mes.6        1   3365411 319196215 7755.5\n",
            "- temporada.2  1   4740499 320571304 7758.0\n",
            "- mes.5        1   6091079 321921884 7760.4\n",
            "- festivo.0    1   6169202 322000006 7760.6\n",
            "- mes.8        1   6896520 322727325 7761.9\n",
            "- mes.3        1   7936348 323767152 7763.8\n",
            "- temporada.3  1   9116519 324947324 7765.9\n",
            "- dia.0        1  10676935 326507740 7768.7\n",
            "- humedad      1  12226245 328057049 7771.5\n",
            "- mes.10       1  15150108 330980913 7776.6\n",
            "- viento       1  21784866 337615670 7788.2\n",
            "- mes.9        1  36997053 352827858 7814.0\n",
            "- clima.2      1  38295564 354126368 7816.1\n",
            "- clima.1      1  56330151 372160956 7845.1\n",
            "- temporada.1  1  79016478 394847283 7879.7\n",
            "- atemp        1  94772244 410603049 7902.5\n",
            "- ano.0        1 572500461 888331266 8353.2\n",
            "\n",
            "Step:  AIC=7750.65\n",
            "conteo ~ temporada.1 + temporada.2 + temporada.3 + ano.0 + mes.3 + \n",
            "    mes.4 + mes.5 + mes.6 + mes.8 + mes.9 + mes.10 + festivo.0 + \n",
            "    dia.0 + dia.1 + clima.1 + clima.2 + atemp + humedad + viento\n",
            "\n",
            "              Df Sum of Sq       RSS    AIC\n",
            "<none>                     316575064 7750.7\n",
            "+ dia.2        1    744259 315830805 7751.3\n",
            "+ temp         1    423592 316151472 7751.9\n",
            "+ mes.2        1    376857 316198207 7752.0\n",
            "+ laboral.0    1    325955 316249109 7752.0\n",
            "+ dia.5        1    210267 316364797 7752.3\n",
            "+ mes.1        1    196990 316378075 7752.3\n",
            "+ dia.4        1     47505 316527559 7752.6\n",
            "+ mes.7        1     41477 316533587 7752.6\n",
            "+ mes.11       1     33727 316541337 7752.6\n",
            "+ dia.3        1      5454 316569611 7752.6\n",
            "- mes.4        1   2600078 319175142 7753.4\n",
            "- dia.1        1   2727622 319302686 7753.7\n",
            "- mes.6        1   3345229 319920293 7754.8\n",
            "- temporada.2  1   4661408 321236472 7757.2\n",
            "- mes.5        1   6073888 322648953 7759.7\n",
            "- festivo.0    1   6131970 322707034 7759.9\n",
            "- mes.8        1   6901216 323476281 7761.2\n",
            "- mes.3        1   7910811 324485875 7763.1\n",
            "- temporada.3  1   9073965 325649030 7765.2\n",
            "- dia.0        1   9972808 326547872 7766.8\n",
            "- humedad      1  12564223 329139287 7771.4\n",
            "- mes.10       1  15357228 331932292 7776.3\n",
            "- viento       1  22085304 338660368 7788.0\n",
            "- mes.9        1  37174506 353749570 7813.5\n",
            "- clima.2      1  38197165 354772230 7815.2\n",
            "- clima.1      1  56175897 372750962 7844.0\n",
            "- temporada.1  1  79382673 395957737 7879.3\n",
            "- atemp        1  94360482 410935547 7901.0\n",
            "- ano.0        1 572276821 888851886 8351.6\n"
          ]
        },
        {
          "output_type": "display_data",
          "data": {
            "text/plain": [
              "\n",
              "Call:\n",
              "lm(formula = conteo ~ temporada.1 + temporada.2 + temporada.3 + \n",
              "    ano.0 + mes.3 + mes.4 + mes.5 + mes.6 + mes.8 + mes.9 + mes.10 + \n",
              "    festivo.0 + dia.0 + dia.1 + clima.1 + clima.2 + atemp + humedad + \n",
              "    viento, data = regtecnica.train)\n",
              "\n",
              "Residuals:\n",
              "    Min      1Q  Median      3Q     Max \n",
              "-3439.0  -370.8    63.8   452.4  2857.9 \n",
              "\n",
              "Coefficients:\n",
              "             Estimate Std. Error t value Pr(>|t|)    \n",
              "(Intercept)  2303.736    431.150   5.343 1.33e-07 ***\n",
              "temporada.1 -1353.340    113.800 -11.892  < 2e-16 ***\n",
              "temporada.2  -540.353    187.507  -2.882 0.004105 ** \n",
              "temporada.3  -600.874    149.446  -4.021 6.59e-05 ***\n",
              "ano.0       -2016.050     63.139 -31.930  < 2e-16 ***\n",
              "mes.3         505.116    134.549   3.754 0.000192 ***\n",
              "mes.4         439.793    204.340   2.152 0.031801 *  \n",
              "mes.5         685.238    208.308   3.290 0.001066 ** \n",
              "mes.6         430.816    176.473   2.441 0.014942 *  \n",
              "mes.8         503.763    143.669   3.506 0.000490 ***\n",
              "mes.9        1075.640    132.173   8.138 2.58e-15 ***\n",
              "mes.10        723.519    138.322   5.231 2.38e-07 ***\n",
              "festivo.0     712.862    215.677   3.305 0.001009 ** \n",
              "dia.0        -378.778     89.862  -4.215 2.91e-05 ***\n",
              "dia.1        -209.219     94.909  -2.204 0.027898 *  \n",
              "clima.1      2156.145    215.527  10.004  < 2e-16 ***\n",
              "clima.2      1671.970    202.680   8.249 1.13e-15 ***\n",
              "atemp         101.183      7.804  12.966  < 2e-16 ***\n",
              "humedad       -14.648      3.096  -4.731 2.83e-06 ***\n",
              "viento        -41.829      6.669  -6.273 7.07e-10 ***\n",
              "---\n",
              "Signif. codes:  0 ‘***’ 0.001 ‘**’ 0.01 ‘*’ 0.05 ‘.’ 0.1 ‘ ’ 1\n",
              "\n",
              "Residual standard error: 749.2 on 564 degrees of freedom\n",
              "Multiple R-squared:  0.8562,\tAdjusted R-squared:  0.8513 \n",
              "F-statistic: 176.7 on 19 and 564 DF,  p-value: < 2.2e-16\n"
            ]
          },
          "metadata": {}
        }
      ]
    },
    {
      "cell_type": "code",
      "source": [
        "#un modelo con variables elegidas (preespecificado) menores a pvalor 0.01\n",
        "modelo1<- lm(conteo ~temporada.1+ temporada.2 + temporada.3 +ano.0 +mes.3+mes.5+mes.8+mes.9+mes.10+festivo.0+dia.0+clima.1+clima.2+atemp+humedad+viento,data=regtecnica.train)"
      ],
      "metadata": {
        "id": "R-XU4MMm79yZ"
      },
      "execution_count": null,
      "outputs": []
    },
    {
      "cell_type": "markdown",
      "source": [
        "RMSE Y R2 en PRUEBA\n",
        "\n",
        "- RMSE = 853.7888\n",
        "- R2 = 0.8023395\n",
        "\n"
      ],
      "metadata": {
        "id": "CZQUIpqQ9pNy"
      }
    },
    {
      "cell_type": "code",
      "source": [
        "predictions<-modelo1 %>% predict(regtecnica.test)\n",
        "data.frame(\n",
        "  RMSE=RMSE(predictions,regtecnica.test$conteo),\n",
        "  R2=R2(predictions,regtecnica.test$conteo)\n",
        ")"
      ],
      "metadata": {
        "colab": {
          "base_uri": "https://localhost:8080/",
          "height": 129
        },
        "id": "QKvgciYk9FK9",
        "outputId": "2d8c1a06-ab50-40c8-eb5a-0d887ed755a2"
      },
      "execution_count": null,
      "outputs": [
        {
          "output_type": "display_data",
          "data": {
            "text/html": [
              "<table class=\"dataframe\">\n",
              "<caption>A data.frame: 1 × 2</caption>\n",
              "<thead>\n",
              "\t<tr><th scope=col>RMSE</th><th scope=col>R2</th></tr>\n",
              "\t<tr><th scope=col>&lt;dbl&gt;</th><th scope=col>&lt;dbl&gt;</th></tr>\n",
              "</thead>\n",
              "<tbody>\n",
              "\t<tr><td>853.7888</td><td>0.8023395</td></tr>\n",
              "</tbody>\n",
              "</table>\n"
            ],
            "text/markdown": "\nA data.frame: 1 × 2\n\n| RMSE &lt;dbl&gt; | R2 &lt;dbl&gt; |\n|---|---|\n| 853.7888 | 0.8023395 |\n\n",
            "text/latex": "A data.frame: 1 × 2\n\\begin{tabular}{ll}\n RMSE & R2\\\\\n <dbl> & <dbl>\\\\\n\\hline\n\t 853.7888 & 0.8023395\\\\\n\\end{tabular}\n",
            "text/plain": [
              "  RMSE     R2       \n",
              "1 853.7888 0.8023395"
            ]
          },
          "metadata": {}
        }
      ]
    },
    {
      "cell_type": "markdown",
      "source": [
        "RMSE Y R2 EN ENTRENAMIENTO\n",
        "\n",
        "- RMSE= 754.9\n",
        "- R2 = 0.849"
      ],
      "metadata": {
        "id": "IV2KrjKS90ej"
      }
    },
    {
      "cell_type": "code",
      "source": [
        "summary(modelo1)"
      ],
      "metadata": {
        "colab": {
          "base_uri": "https://localhost:8080/",
          "height": 656
        },
        "id": "AC0g1wAW9deL",
        "outputId": "2de01965-fe3a-459b-8f44-1709465d4138"
      },
      "execution_count": null,
      "outputs": [
        {
          "output_type": "display_data",
          "data": {
            "text/plain": [
              "\n",
              "Call:\n",
              "lm(formula = conteo ~ temporada.1 + temporada.2 + temporada.3 + \n",
              "    ano.0 + mes.3 + mes.5 + mes.8 + mes.9 + mes.10 + festivo.0 + \n",
              "    dia.0 + clima.1 + clima.2 + atemp + humedad + viento, data = regtecnica.train)\n",
              "\n",
              "Residuals:\n",
              "    Min      1Q  Median      3Q     Max \n",
              "-3603.1  -377.5    61.2   448.2  2964.5 \n",
              "\n",
              "Coefficients:\n",
              "             Estimate Std. Error t value Pr(>|t|)    \n",
              "(Intercept)  2201.949    433.205   5.083 5.06e-07 ***\n",
              "temporada.1 -1315.792    113.243 -11.619  < 2e-16 ***\n",
              "temporada.2  -208.316    123.473  -1.687 0.092127 .  \n",
              "temporada.3  -596.563    149.691  -3.985 7.62e-05 ***\n",
              "ano.0       -2008.671     63.518 -31.624  < 2e-16 ***\n",
              "mes.3         346.384    119.884   2.889 0.004008 ** \n",
              "mes.5         290.159    138.441   2.096 0.036533 *  \n",
              "mes.8         399.342    139.661   2.859 0.004401 ** \n",
              "mes.9        1010.839    130.864   7.724 5.13e-14 ***\n",
              "mes.10        680.801    138.388   4.919 1.14e-06 ***\n",
              "festivo.0     808.815    213.506   3.788 0.000168 ***\n",
              "dia.0        -342.439     89.404  -3.830 0.000142 ***\n",
              "clima.1      2115.755    216.446   9.775  < 2e-16 ***\n",
              "clima.2      1652.653    203.893   8.105 3.25e-15 ***\n",
              "atemp         106.499      7.352  14.486  < 2e-16 ***\n",
              "humedad       -15.877      3.081  -5.153 3.55e-07 ***\n",
              "viento        -42.045      6.668  -6.305 5.80e-10 ***\n",
              "---\n",
              "Signif. codes:  0 ‘***’ 0.001 ‘**’ 0.01 ‘*’ 0.05 ‘.’ 0.1 ‘ ’ 1\n",
              "\n",
              "Residual standard error: 754.9 on 567 degrees of freedom\n",
              "Multiple R-squared:  0.8532,\tAdjusted R-squared:  0.849 \n",
              "F-statistic: 205.9 on 16 and 567 DF,  p-value: < 2.2e-16\n"
            ]
          },
          "metadata": {}
        }
      ]
    },
    {
      "cell_type": "code",
      "source": [
        "# Assuming your original dataframe is called 'carterafin2'\n",
        "new_df <- subset(carterafin2, select = c(temporada.1, temporada.2, temporada.3, ano.0, mes.3, mes.5, mes.8, mes.9, mes.10, festivo.0, dia.0, clima.1, clima.2, atemp, humedad, viento,conteo))\n",
        "\n",
        "# To view the structure of the new dataframe\n",
        "str(new_df)"
      ],
      "metadata": {
        "colab": {
          "base_uri": "https://localhost:8080/"
        },
        "id": "tdQAZEmVAvow",
        "outputId": "7017c553-da20-405e-9b85-169aaf720da4"
      },
      "execution_count": null,
      "outputs": [
        {
          "output_type": "stream",
          "name": "stdout",
          "text": [
            "'data.frame':\t730 obs. of  17 variables:\n",
            " $ temporada.1: num  1 1 1 1 1 1 1 1 1 1 ...\n",
            " $ temporada.2: num  0 0 0 0 0 0 0 0 0 0 ...\n",
            " $ temporada.3: num  0 0 0 0 0 0 0 0 0 0 ...\n",
            " $ ano.0      : num  1 1 1 1 1 1 1 1 1 1 ...\n",
            " $ mes.3      : num  0 0 0 0 0 0 0 0 0 0 ...\n",
            " $ mes.5      : num  0 0 0 0 0 0 0 0 0 0 ...\n",
            " $ mes.8      : num  0 0 0 0 0 0 0 0 0 0 ...\n",
            " $ mes.9      : num  0 0 0 0 0 0 0 0 0 0 ...\n",
            " $ mes.10     : num  0 0 0 0 0 0 0 0 0 0 ...\n",
            " $ festivo.0  : num  1 1 1 1 1 1 1 1 1 1 ...\n",
            " $ dia.0      : num  0 1 0 0 0 0 0 0 1 0 ...\n",
            " $ clima.1    : num  0 0 1 1 1 1 0 0 1 1 ...\n",
            " $ clima.2    : num  1 1 0 0 0 0 1 1 0 0 ...\n",
            " $ atemp      : num  18.18 17.69 9.47 10.61 11.46 ...\n",
            " $ humedad    : num  80.6 69.6 43.7 59 43.7 ...\n",
            " $ viento     : num  10.7 16.7 16.6 10.7 12.5 ...\n",
            " $ conteo     : num  985 801 1349 1562 1600 ...\n"
          ]
        }
      ]
    },
    {
      "cell_type": "markdown",
      "source": [
        "# REGULARIZACIÓN"
      ],
      "metadata": {
        "id": "icr0wkN-Jnil"
      }
    },
    {
      "cell_type": "markdown",
      "source": [
        "**(5) Plantee un modelo de regularización RIDGE, con las mismas variables del modelo1, usando validación cruzada. Pruebe con el lambda mínimo y el lambda a una desviación estándar. Compare el desempeño con ambos lambdas y escoja el lambda que conlleve a un menor overfitting, justifique su respuesta (llame el modelo final modelo2).**"
      ],
      "metadata": {
        "id": "VLO12szG_VsN"
      }
    },
    {
      "cell_type": "code",
      "source": [
        "install.packages(\"glmnet\")"
      ],
      "metadata": {
        "colab": {
          "base_uri": "https://localhost:8080/"
        },
        "id": "Pks4HpSp_aLO",
        "outputId": "965d8aa9-3848-471b-bfe6-4e86cb65a44c"
      },
      "execution_count": null,
      "outputs": [
        {
          "output_type": "stream",
          "name": "stderr",
          "text": [
            "Installing package into ‘/usr/local/lib/R/site-library’\n",
            "(as ‘lib’ is unspecified)\n",
            "\n",
            "also installing the dependency ‘RcppEigen’\n",
            "\n",
            "\n"
          ]
        }
      ]
    },
    {
      "cell_type": "code",
      "source": [
        "library(glmnet)"
      ],
      "metadata": {
        "colab": {
          "base_uri": "https://localhost:8080/"
        },
        "id": "_J0EkxPa_c62",
        "outputId": "a1e39a99-b9ce-4d06-9109-f0058d6e64e7"
      },
      "execution_count": null,
      "outputs": [
        {
          "output_type": "stream",
          "name": "stderr",
          "text": [
            "Loading required package: Matrix\n",
            "\n",
            "\n",
            "Attaching package: ‘Matrix’\n",
            "\n",
            "\n",
            "The following objects are masked from ‘package:tidyr’:\n",
            "\n",
            "    expand, pack, unpack\n",
            "\n",
            "\n",
            "Loaded glmnet 4.1-8\n",
            "\n"
          ]
        }
      ]
    },
    {
      "cell_type": "code",
      "source": [
        "dim(new_df)"
      ],
      "metadata": {
        "colab": {
          "base_uri": "https://localhost:8080/",
          "height": 34
        },
        "id": "Ux-elOQc_eCO",
        "outputId": "e9420484-4204-470f-de08-4d919084103c"
      },
      "execution_count": null,
      "outputs": [
        {
          "output_type": "display_data",
          "data": {
            "text/html": [
              "<style>\n",
              ".list-inline {list-style: none; margin:0; padding: 0}\n",
              ".list-inline>li {display: inline-block}\n",
              ".list-inline>li:not(:last-child)::after {content: \"\\00b7\"; padding: 0 .5ex}\n",
              "</style>\n",
              "<ol class=list-inline><li>730</li><li>17</li></ol>\n"
            ],
            "text/markdown": "1. 730\n2. 17\n\n\n",
            "text/latex": "\\begin{enumerate*}\n\\item 730\n\\item 17\n\\end{enumerate*}\n",
            "text/plain": [
              "[1] 730  17"
            ]
          },
          "metadata": {}
        }
      ]
    },
    {
      "cell_type": "markdown",
      "source": [
        "**Modelo Ridge**"
      ],
      "metadata": {
        "id": "Q9bUl-VHJhZ_"
      }
    },
    {
      "cell_type": "code",
      "source": [
        "which(colnames(new_df) == \"conteo\")"
      ],
      "metadata": {
        "colab": {
          "base_uri": "https://localhost:8080/",
          "height": 34
        },
        "id": "O34AeDgfKjvA",
        "outputId": "c958ac0a-52a4-4b16-f419-594d48be70b7"
      },
      "execution_count": null,
      "outputs": [
        {
          "output_type": "display_data",
          "data": {
            "text/html": [
              "17"
            ],
            "text/markdown": "17",
            "text/latex": "17",
            "text/plain": [
              "[1] 17"
            ]
          },
          "metadata": {}
        }
      ]
    },
    {
      "cell_type": "code",
      "source": [
        "str(new_df)"
      ],
      "metadata": {
        "colab": {
          "base_uri": "https://localhost:8080/"
        },
        "id": "Oga2HrsJAEVT",
        "outputId": "62a18b3f-5b7e-457a-ae60-84b3dad575d4"
      },
      "execution_count": null,
      "outputs": [
        {
          "output_type": "stream",
          "name": "stdout",
          "text": [
            "'data.frame':\t730 obs. of  17 variables:\n",
            " $ temporada.1: num  1 1 1 1 1 1 1 1 1 1 ...\n",
            " $ temporada.2: num  0 0 0 0 0 0 0 0 0 0 ...\n",
            " $ temporada.3: num  0 0 0 0 0 0 0 0 0 0 ...\n",
            " $ ano.0      : num  1 1 1 1 1 1 1 1 1 1 ...\n",
            " $ mes.3      : num  0 0 0 0 0 0 0 0 0 0 ...\n",
            " $ mes.5      : num  0 0 0 0 0 0 0 0 0 0 ...\n",
            " $ mes.8      : num  0 0 0 0 0 0 0 0 0 0 ...\n",
            " $ mes.9      : num  0 0 0 0 0 0 0 0 0 0 ...\n",
            " $ mes.10     : num  0 0 0 0 0 0 0 0 0 0 ...\n",
            " $ festivo.0  : num  1 1 1 1 1 1 1 1 1 1 ...\n",
            " $ dia.0      : num  0 1 0 0 0 0 0 0 1 0 ...\n",
            " $ clima.1    : num  0 0 1 1 1 1 0 0 1 1 ...\n",
            " $ clima.2    : num  1 1 0 0 0 0 1 1 0 0 ...\n",
            " $ atemp      : num  18.18 17.69 9.47 10.61 11.46 ...\n",
            " $ humedad    : num  80.6 69.6 43.7 59 43.7 ...\n",
            " $ viento     : num  10.7 16.7 16.6 10.7 12.5 ...\n",
            " $ conteo     : num  985 801 1349 1562 1600 ...\n"
          ]
        }
      ]
    },
    {
      "cell_type": "code",
      "source": [
        "set.seed(920203) #se deja alguna semilla para que el muestreo sea replicable\n",
        "#aquí se define el tamaño de la muestra, en este caso entrenamiento tendrá el 80% de los casos\n",
        "sample <- sample.int(nrow(new_df), floor(.8*nrow(new_df)))\n",
        "regtecnica.train <- new_df[sample, ]\n",
        "regtecnica.test <- new_df[-sample, ]"
      ],
      "metadata": {
        "id": "UeBa_mmsDZLp"
      },
      "execution_count": null,
      "outputs": []
    },
    {
      "cell_type": "code",
      "source": [
        "# Separar la variable objetivo (precio) de las variables predictoras\n",
        "predic.train <- as.matrix(regtecnica.train[ , -ncol(regtecnica.train)])\n",
        "precio.train <- regtecnica.train$conteo\n",
        "predic.test<- as.matrix(regtecnica.test[ , -ncol(regtecnica.test)])\n",
        "precio.test<- regtecnica.test$conteo"
      ],
      "metadata": {
        "id": "aQEJFndqBPlE"
      },
      "execution_count": null,
      "outputs": []
    },
    {
      "cell_type": "code",
      "source": [
        "fitridge<-glmnet(predic.train,precio.train,alpha = 0)"
      ],
      "metadata": {
        "id": "e15lNqOMIeaQ"
      },
      "execution_count": null,
      "outputs": []
    },
    {
      "cell_type": "code",
      "source": [
        "foundridge<-cv.glmnet(predic.train, precio.train,alpha=0,nfolds=5)"
      ],
      "metadata": {
        "id": "yd2bhnD0CR94"
      },
      "execution_count": null,
      "outputs": []
    },
    {
      "cell_type": "code",
      "source": [
        "#veo los lambda minimos\n",
        "foundridge$lambda.1se"
      ],
      "metadata": {
        "colab": {
          "base_uri": "https://localhost:8080/",
          "height": 34
        },
        "id": "ivNvwxeACYnz",
        "outputId": "0bdc5879-e4e0-471c-9806-4457217bd194"
      },
      "execution_count": null,
      "outputs": [
        {
          "output_type": "display_data",
          "data": {
            "text/html": [
              "348.313619600083"
            ],
            "text/markdown": "348.313619600083",
            "text/latex": "348.313619600083",
            "text/plain": [
              "[1] 348.3136"
            ]
          },
          "metadata": {}
        }
      ]
    },
    {
      "cell_type": "code",
      "source": [
        "foundridge$lambda.min"
      ],
      "metadata": {
        "colab": {
          "base_uri": "https://localhost:8080/",
          "height": 34
        },
        "id": "aJjA48-xCbaz",
        "outputId": "d15372d6-bb99-4e35-f5b3-1b356b1c05fe"
      },
      "execution_count": null,
      "outputs": [
        {
          "output_type": "display_data",
          "data": {
            "text/html": [
              "125.177424540803"
            ],
            "text/markdown": "125.177424540803",
            "text/latex": "125.177424540803",
            "text/plain": [
              "[1] 125.1774"
            ]
          },
          "metadata": {}
        }
      ]
    },
    {
      "cell_type": "markdown",
      "source": [
        "Desempeño en Prueba"
      ],
      "metadata": {
        "id": "YzGNB4slELbC"
      }
    },
    {
      "cell_type": "code",
      "source": [
        "#ridge lambda min\n",
        "predicciones2<-predict.glmnet(fitridge, predic.test, s=foundridge$lambda.min)\n",
        "data.frame(\n",
        "  RMSE=RMSE(predicciones2,regtecnica.test$conteo),\n",
        "  R2=R2(predicciones2,regtecnica.test$conteo)\n",
        ")\n",
        "\n",
        "#ridge lambda 1.se\n",
        "predicciones3<-predict.glmnet(fitridge, predic.test, s=foundridge$lambda.1se)\n",
        "data.frame(\n",
        "  RMSE=RMSE(predicciones3,regtecnica.test$conteo),\n",
        "  R2=R2(predicciones3,regtecnica.test$conteo)\n",
        ")\n"
      ],
      "metadata": {
        "colab": {
          "base_uri": "https://localhost:8080/",
          "height": 242
        },
        "id": "G5Xw9DHsCrmw",
        "outputId": "f29c5967-9e3d-42a2-9bb7-f150a01909b9"
      },
      "execution_count": null,
      "outputs": [
        {
          "output_type": "display_data",
          "data": {
            "text/html": [
              "<table class=\"dataframe\">\n",
              "<caption>A data.frame: 1 × 2</caption>\n",
              "<thead>\n",
              "\t<tr><th scope=col>RMSE</th><th scope=col>s1</th></tr>\n",
              "\t<tr><th scope=col>&lt;dbl&gt;</th><th scope=col>&lt;dbl&gt;</th></tr>\n",
              "</thead>\n",
              "<tbody>\n",
              "\t<tr><td>850.0999</td><td>0.8056793</td></tr>\n",
              "</tbody>\n",
              "</table>\n"
            ],
            "text/markdown": "\nA data.frame: 1 × 2\n\n| RMSE &lt;dbl&gt; | s1 &lt;dbl&gt; |\n|---|---|\n| 850.0999 | 0.8056793 |\n\n",
            "text/latex": "A data.frame: 1 × 2\n\\begin{tabular}{ll}\n RMSE & s1\\\\\n <dbl> & <dbl>\\\\\n\\hline\n\t 850.0999 & 0.8056793\\\\\n\\end{tabular}\n",
            "text/plain": [
              "  RMSE     s1       \n",
              "1 850.0999 0.8056793"
            ]
          },
          "metadata": {}
        },
        {
          "output_type": "display_data",
          "data": {
            "text/html": [
              "<table class=\"dataframe\">\n",
              "<caption>A data.frame: 1 × 2</caption>\n",
              "<thead>\n",
              "\t<tr><th scope=col>RMSE</th><th scope=col>s1</th></tr>\n",
              "\t<tr><th scope=col>&lt;dbl&gt;</th><th scope=col>&lt;dbl&gt;</th></tr>\n",
              "</thead>\n",
              "<tbody>\n",
              "\t<tr><td>886.0285</td><td>0.7981423</td></tr>\n",
              "</tbody>\n",
              "</table>\n"
            ],
            "text/markdown": "\nA data.frame: 1 × 2\n\n| RMSE &lt;dbl&gt; | s1 &lt;dbl&gt; |\n|---|---|\n| 886.0285 | 0.7981423 |\n\n",
            "text/latex": "A data.frame: 1 × 2\n\\begin{tabular}{ll}\n RMSE & s1\\\\\n <dbl> & <dbl>\\\\\n\\hline\n\t 886.0285 & 0.7981423\\\\\n\\end{tabular}\n",
            "text/plain": [
              "  RMSE     s1       \n",
              "1 886.0285 0.7981423"
            ]
          },
          "metadata": {}
        }
      ]
    },
    {
      "cell_type": "markdown",
      "source": [
        "Desempeño en entrenamiento"
      ],
      "metadata": {
        "id": "y9jWXc-cEZc4"
      }
    },
    {
      "cell_type": "code",
      "source": [
        "#ridge lambda min\n",
        "predicciones2<-predict.glmnet(fitridge, predic.train, s=foundridge$lambda.min)\n",
        "data.frame(\n",
        "  RMSE=RMSE(predicciones2,regtecnica.train$conteo),\n",
        "  R2=R2(predicciones2,regtecnica.train$conteo)\n",
        ")\n",
        "\n",
        "#ridge lambda 1se\n",
        "\n",
        "predicciones3<-predict.glmnet(fitridge, predic.train, s=foundridge$lambda.1se)\n",
        "data.frame(\n",
        "  RMSE=RMSE(predicciones3,regtecnica.train$conteo),\n",
        "  R2=R2(predicciones3,regtecnica.train$conteo)\n",
        ")\n"
      ],
      "metadata": {
        "colab": {
          "base_uri": "https://localhost:8080/",
          "height": 242
        },
        "id": "6ytVet3QD7ME",
        "outputId": "9a342fb0-5e24-4829-f712-f222ea8896dc"
      },
      "execution_count": null,
      "outputs": [
        {
          "output_type": "display_data",
          "data": {
            "text/html": [
              "<table class=\"dataframe\">\n",
              "<caption>A data.frame: 1 × 2</caption>\n",
              "<thead>\n",
              "\t<tr><th scope=col>RMSE</th><th scope=col>s1</th></tr>\n",
              "\t<tr><th scope=col>&lt;dbl&gt;</th><th scope=col>&lt;dbl&gt;</th></tr>\n",
              "</thead>\n",
              "<tbody>\n",
              "\t<tr><td>768.5169</td><td>0.8455157</td></tr>\n",
              "</tbody>\n",
              "</table>\n"
            ],
            "text/markdown": "\nA data.frame: 1 × 2\n\n| RMSE &lt;dbl&gt; | s1 &lt;dbl&gt; |\n|---|---|\n| 768.5169 | 0.8455157 |\n\n",
            "text/latex": "A data.frame: 1 × 2\n\\begin{tabular}{ll}\n RMSE & s1\\\\\n <dbl> & <dbl>\\\\\n\\hline\n\t 768.5169 & 0.8455157\\\\\n\\end{tabular}\n",
            "text/plain": [
              "  RMSE     s1       \n",
              "1 768.5169 0.8455157"
            ]
          },
          "metadata": {}
        },
        {
          "output_type": "display_data",
          "data": {
            "text/html": [
              "<table class=\"dataframe\">\n",
              "<caption>A data.frame: 1 × 2</caption>\n",
              "<thead>\n",
              "\t<tr><th scope=col>RMSE</th><th scope=col>s1</th></tr>\n",
              "\t<tr><th scope=col>&lt;dbl&gt;</th><th scope=col>&lt;dbl&gt;</th></tr>\n",
              "</thead>\n",
              "<tbody>\n",
              "\t<tr><td>814.6477</td><td>0.8345138</td></tr>\n",
              "</tbody>\n",
              "</table>\n"
            ],
            "text/markdown": "\nA data.frame: 1 × 2\n\n| RMSE &lt;dbl&gt; | s1 &lt;dbl&gt; |\n|---|---|\n| 814.6477 | 0.8345138 |\n\n",
            "text/latex": "A data.frame: 1 × 2\n\\begin{tabular}{ll}\n RMSE & s1\\\\\n <dbl> & <dbl>\\\\\n\\hline\n\t 814.6477 & 0.8345138\\\\\n\\end{tabular}\n",
            "text/plain": [
              "  RMSE     s1       \n",
              "1 814.6477 0.8345138"
            ]
          },
          "metadata": {}
        }
      ]
    },
    {
      "cell_type": "markdown",
      "source": [
        "Ambos modelos conllevan a un sobre ajuste, sin embargo, se recomedaria seleccionar el modelo con lambda 1.se debido a que en entrenamiento tiene un R2 de 0.83 y en prueba de 0.798, mientras que el modelo con lambda minimo en entrenamiento tiene un desempeño de 0.84 y en prueba de 0.80, lo que conlleva a un mayor sobre ajuste"
      ],
      "metadata": {
        "id": "5M4BQGiFFJnp"
      }
    },
    {
      "cell_type": "code",
      "source": [
        "Este seria el modelo2 con el mejor lambda"
      ],
      "metadata": {
        "id": "E8EyaAjXHTwd"
      },
      "execution_count": null,
      "outputs": []
    },
    {
      "cell_type": "code",
      "source": [
        "# Miremos los resultados usando ese valor de lambda con una desviación estándar más\n",
        "coef(foundridge,s=foundridge$lambda.1se)"
      ],
      "metadata": {
        "colab": {
          "base_uri": "https://localhost:8080/",
          "height": 364
        },
        "id": "2vq1CtymHFMW",
        "outputId": "e932c571-1725-4bc7-d326-7d0533da3131"
      },
      "execution_count": null,
      "outputs": [
        {
          "output_type": "display_data",
          "data": {
            "text/plain": [
              "17 x 1 sparse Matrix of class \"dgCMatrix\"\n",
              "                     s1\n",
              "(Intercept)  3955.38607\n",
              "temporada.1 -1133.18515\n",
              "temporada.2    98.88469\n",
              "temporada.3   -43.50642\n",
              "ano.0       -1782.42683\n",
              "mes.3         200.18916\n",
              "mes.5         325.95273\n",
              "mes.8         296.40232\n",
              "mes.9         797.91368\n",
              "mes.10        747.62432\n",
              "festivo.0     654.76663\n",
              "dia.0        -273.59277\n",
              "clima.1       758.67155\n",
              "clima.2       298.13630\n",
              "atemp          81.69278\n",
              "humedad       -15.71053\n",
              "viento        -47.04078"
            ]
          },
          "metadata": {}
        }
      ]
    },
    {
      "cell_type": "markdown",
      "source": [
        "(5) Plantee un modelo de regularización LASSO , con las mismas variables del modelo1, usando validación cruzada. Compare el desempeño con ambos lambdas y escoja el que conlleve a un menor overfitting, justifique su respuesta (llame el modelo final modelo3)"
      ],
      "metadata": {
        "id": "pEoPt0sAHYOd"
      }
    },
    {
      "cell_type": "code",
      "source": [
        "fitlasso<-glmnet(predic.train,precio.train,alpha = 1)"
      ],
      "metadata": {
        "id": "kErc3ExGIqPp"
      },
      "execution_count": null,
      "outputs": []
    },
    {
      "cell_type": "code",
      "source": [
        "foundlasso<-cv.glmnet(predic.train, precio.train,alpha=0,nfolds=5)\n",
        "\n",
        "#grafico lambda vs mse\n",
        "plot(foundlasso)"
      ],
      "metadata": {
        "colab": {
          "base_uri": "https://localhost:8080/",
          "height": 437
        },
        "id": "exLVNz1mHghU",
        "outputId": "a6f23473-54af-4e38-d39e-af24d381b9ad"
      },
      "execution_count": null,
      "outputs": [
        {
          "output_type": "display_data",
          "data": {
            "text/plain": [
              "plot without title"
            ],
            "image/png": "[encoded data removed]"
          },
          "metadata": {
            "image/png": {
              "width": 420,
              "height": 420
            }
          }
        }
      ]
    },
    {
      "cell_type": "code",
      "source": [
        "#PRUEBA\n",
        "#lasso lambda min\n",
        "predicciones2<-predict.glmnet(fitlasso, predic.test, s=foundlasso$lambda.min)\n",
        "data.frame(\n",
        "  RMSE=RMSE(predicciones2,regtecnica.test$conteo),\n",
        "  R2=R2(predicciones2,regtecnica.test$conteo)\n",
        ")\n",
        "\n",
        "#ridge lambda 1.se\n",
        "predicciones3<-predict.glmnet(fitlasso, predic.test, s=foundlasso$lambda.1se)\n",
        "data.frame(\n",
        "  RMSE=RMSE(predicciones3,regtecnica.test$conteo),\n",
        "  R2=R2(predicciones3,regtecnica.test$conteo)\n",
        ")\n"
      ],
      "metadata": {
        "colab": {
          "base_uri": "https://localhost:8080/",
          "height": 242
        },
        "id": "qC-koxA3I1v_",
        "outputId": "61489c5f-ed92-4cbd-cfc8-db701b6ee99f"
      },
      "execution_count": null,
      "outputs": [
        {
          "output_type": "display_data",
          "data": {
            "text/html": [
              "<table class=\"dataframe\">\n",
              "<caption>A data.frame: 1 × 2</caption>\n",
              "<thead>\n",
              "\t<tr><th scope=col>RMSE</th><th scope=col>s1</th></tr>\n",
              "\t<tr><th scope=col>&lt;dbl&gt;</th><th scope=col>&lt;dbl&gt;</th></tr>\n",
              "</thead>\n",
              "<tbody>\n",
              "\t<tr><td>945.5096</td><td>0.773269</td></tr>\n",
              "</tbody>\n",
              "</table>\n"
            ],
            "text/markdown": "\nA data.frame: 1 × 2\n\n| RMSE &lt;dbl&gt; | s1 &lt;dbl&gt; |\n|---|---|\n| 945.5096 | 0.773269 |\n\n",
            "text/latex": "A data.frame: 1 × 2\n\\begin{tabular}{ll}\n RMSE & s1\\\\\n <dbl> & <dbl>\\\\\n\\hline\n\t 945.5096 & 0.773269\\\\\n\\end{tabular}\n",
            "text/plain": [
              "  RMSE     s1      \n",
              "1 945.5096 0.773269"
            ]
          },
          "metadata": {}
        },
        {
          "output_type": "display_data",
          "data": {
            "text/html": [
              "<table class=\"dataframe\">\n",
              "<caption>A data.frame: 1 × 2</caption>\n",
              "<thead>\n",
              "\t<tr><th scope=col>RMSE</th><th scope=col>s1</th></tr>\n",
              "\t<tr><th scope=col>&lt;dbl&gt;</th><th scope=col>&lt;dbl&gt;</th></tr>\n",
              "</thead>\n",
              "<tbody>\n",
              "\t<tr><td>1005.488</td><td>0.7582409</td></tr>\n",
              "</tbody>\n",
              "</table>\n"
            ],
            "text/markdown": "\nA data.frame: 1 × 2\n\n| RMSE &lt;dbl&gt; | s1 &lt;dbl&gt; |\n|---|---|\n| 1005.488 | 0.7582409 |\n\n",
            "text/latex": "A data.frame: 1 × 2\n\\begin{tabular}{ll}\n RMSE & s1\\\\\n <dbl> & <dbl>\\\\\n\\hline\n\t 1005.488 & 0.7582409\\\\\n\\end{tabular}\n",
            "text/plain": [
              "  RMSE     s1       \n",
              "1 1005.488 0.7582409"
            ]
          },
          "metadata": {}
        }
      ]
    },
    {
      "cell_type": "code",
      "source": [
        "#ENTRENAMIENTO\n",
        "#ridge lambda min\n",
        "predicciones2<-predict.glmnet(fitlasso, predic.train, s = foundlasso$lambda.min)\n",
        "data.frame(\n",
        "  RMSE=RMSE(predicciones2,regtecnica.train$conteo),\n",
        "  R2=R2(predicciones2,regtecnica.train$conteo)\n",
        ")\n",
        "\n",
        "#ridge lambda 1se\n",
        "\n",
        "predicciones3<-predict.glmnet(fitlasso, predic.train, s=foundlasso$lambda.1se)\n",
        "data.frame(\n",
        "  RMSE=RMSE(predicciones3,regtecnica.train$conteo),\n",
        "  R2=R2(predicciones3,regtecnica.train$conteo)\n",
        ")"
      ],
      "metadata": {
        "colab": {
          "base_uri": "https://localhost:8080/",
          "height": 242
        },
        "id": "FhbHMSn9HhuF",
        "outputId": "2b09f8c0-3413-48cd-f456-27d11449ded5"
      },
      "execution_count": null,
      "outputs": [
        {
          "output_type": "display_data",
          "data": {
            "text/html": [
              "<table class=\"dataframe\">\n",
              "<caption>A data.frame: 1 × 2</caption>\n",
              "<thead>\n",
              "\t<tr><th scope=col>RMSE</th><th scope=col>s1</th></tr>\n",
              "\t<tr><th scope=col>&lt;dbl&gt;</th><th scope=col>&lt;dbl&gt;</th></tr>\n",
              "</thead>\n",
              "<tbody>\n",
              "\t<tr><td>889.1494</td><td>0.8023887</td></tr>\n",
              "</tbody>\n",
              "</table>\n"
            ],
            "text/markdown": "\nA data.frame: 1 × 2\n\n| RMSE &lt;dbl&gt; | s1 &lt;dbl&gt; |\n|---|---|\n| 889.1494 | 0.8023887 |\n\n",
            "text/latex": "A data.frame: 1 × 2\n\\begin{tabular}{ll}\n RMSE & s1\\\\\n <dbl> & <dbl>\\\\\n\\hline\n\t 889.1494 & 0.8023887\\\\\n\\end{tabular}\n",
            "text/plain": [
              "  RMSE     s1       \n",
              "1 889.1494 0.8023887"
            ]
          },
          "metadata": {}
        },
        {
          "output_type": "display_data",
          "data": {
            "text/html": [
              "<table class=\"dataframe\">\n",
              "<caption>A data.frame: 1 × 2</caption>\n",
              "<thead>\n",
              "\t<tr><th scope=col>RMSE</th><th scope=col>s1</th></tr>\n",
              "\t<tr><th scope=col>&lt;dbl&gt;</th><th scope=col>&lt;dbl&gt;</th></tr>\n",
              "</thead>\n",
              "<tbody>\n",
              "\t<tr><td>968.1419</td><td>0.7828178</td></tr>\n",
              "</tbody>\n",
              "</table>\n"
            ],
            "text/markdown": "\nA data.frame: 1 × 2\n\n| RMSE &lt;dbl&gt; | s1 &lt;dbl&gt; |\n|---|---|\n| 968.1419 | 0.7828178 |\n\n",
            "text/latex": "A data.frame: 1 × 2\n\\begin{tabular}{ll}\n RMSE & s1\\\\\n <dbl> & <dbl>\\\\\n\\hline\n\t 968.1419 & 0.7828178\\\\\n\\end{tabular}\n",
            "text/plain": [
              "  RMSE     s1       \n",
              "1 968.1419 0.7828178"
            ]
          },
          "metadata": {}
        }
      ]
    },
    {
      "cell_type": "markdown",
      "source": [
        "Ambos modelos estan sobre ajustados, debido a que en entrenamiento con lambda.1se se tiene un R2 de 0.783 y en prueba de 0.758, asi mismo con lambda minimo se tiene un desempeño de 0.802 en entrenamiento y de 0.773 en prueba, en general ambos modelos se desmpeñan muy similar.Sin embargo se recomendaria usar el que tiene un lambda 1.se ya que es un poquito menor el sobre ajuste"
      ],
      "metadata": {
        "id": "SDwId-aqJT99"
      }
    },
    {
      "cell_type": "markdown",
      "source": [
        "(3) Plantee un modelo de regularización ELASTIC NET usando las mismas variables del modelo1, optimizando el parámetro alfa (llámelo modelo4)."
      ],
      "metadata": {
        "id": "XJT5lW5bKciB"
      }
    },
    {
      "cell_type": "code",
      "source": [
        "# aqui hago redes elasticas de 0.1 a 0.9\n",
        "for (i in 1:10){\n",
        "  assign(paste(\"found\", i, sep=\"\"), cv.glmnet(predic.train, precio.train, nfolds=5,\n",
        "                                              alpha=i/10,))}"
      ],
      "metadata": {
        "id": "XQsOVF6tKlul"
      },
      "execution_count": null,
      "outputs": []
    },
    {
      "cell_type": "code",
      "source": [
        "print(min(found1$cvm))\n",
        "print(min(found2$cvm))\n",
        "print(min(found3$cvm))\n",
        "print(min(found4$cvm))\n",
        "print(min(found5$cvm))\n",
        "print(min(found6$cvm))\n",
        "print(min(found7$cvm))\n",
        "print(min(found8$cvm))\n",
        "print(min(found9$cvm))"
      ],
      "metadata": {
        "colab": {
          "base_uri": "https://localhost:8080/"
        },
        "id": "znfvlODxNBkd",
        "outputId": "3fcbadd1-2144-4b31-ba17-57845730b55c"
      },
      "execution_count": null,
      "outputs": [
        {
          "output_type": "stream",
          "name": "stdout",
          "text": [
            "[1] 593146.1\n",
            "[1] 594141.4\n",
            "[1] 594823.7\n",
            "[1] 621561.2\n",
            "[1] 595614.4\n",
            "[1] 585994.8\n",
            "[1] 603616.7\n",
            "[1] 604861.4\n",
            "[1] 610688.6\n"
          ]
        }
      ]
    },
    {
      "cell_type": "code",
      "source": [
        "elastic8<-glmnet(predic.train,precio.train,alpha = 0.6)\n",
        "coef(elastic8,s=found6$lambda.1se)"
      ],
      "metadata": {
        "colab": {
          "base_uri": "https://localhost:8080/",
          "height": 364
        },
        "id": "EWHGH7BqKv0B",
        "outputId": "934ff4f8-f8e3-4511-be86-5bd3cbd0b94a"
      },
      "execution_count": null,
      "outputs": [
        {
          "output_type": "display_data",
          "data": {
            "text/plain": [
              "17 x 1 sparse Matrix of class \"dgCMatrix\"\n",
              "                     s1\n",
              "(Intercept)  3274.95992\n",
              "temporada.1 -1204.60597\n",
              "temporada.2     .      \n",
              "temporada.3  -229.26321\n",
              "ano.0       -1975.14534\n",
              "mes.3         203.57142\n",
              "mes.5         196.35845\n",
              "mes.8         199.01545\n",
              "mes.9         793.39195\n",
              "mes.10        678.07381\n",
              "festivo.0     631.76596\n",
              "dia.0        -264.14829\n",
              "clima.1      1234.46051\n",
              "clima.2       754.07441\n",
              "atemp          96.36485\n",
              "humedad       -14.69499\n",
              "viento        -43.36425"
            ]
          },
          "metadata": {}
        }
      ]
    },
    {
      "cell_type": "markdown",
      "source": [
        "PRUEBA"
      ],
      "metadata": {
        "id": "qp5oAnDCNV0T"
      }
    },
    {
      "cell_type": "code",
      "source": [
        "#red elastica\n",
        "prediccionesred<-predict.glmnet(elastic8, predic.test, s=elastic8$lambda.1se)"
      ],
      "metadata": {
        "id": "PkjCel8fK79o"
      },
      "execution_count": null,
      "outputs": []
    },
    {
      "cell_type": "code",
      "source": [
        "data.frame(\n",
        "  RMSE=RMSE(prediccionesred,regtecnica.test$conteo),\n",
        "  R2=R2(prediccionesred,regtecnica.test$conteo)\n",
        ")"
      ],
      "metadata": {
        "colab": {
          "base_uri": "https://localhost:8080/",
          "height": 186
        },
        "id": "0RntjZxTK904",
        "outputId": "2e45c5a1-35fd-4e7d-dac0-cb5404ca74cb"
      },
      "execution_count": null,
      "outputs": [
        {
          "output_type": "stream",
          "name": "stderr",
          "text": [
            "Warning message in cor(obs, pred, use = ifelse(na.rm, \"complete.obs\", \"everything\")):\n",
            "“the standard deviation is zero”\n"
          ]
        },
        {
          "output_type": "display_data",
          "data": {
            "text/html": [
              "<table class=\"dataframe\">\n",
              "<caption>A data.frame: 1 × 77</caption>\n",
              "<thead>\n",
              "\t<tr><th scope=col>RMSE</th><th scope=col>R2.s0</th><th scope=col>R2.s1</th><th scope=col>R2.s2</th><th scope=col>R2.s3</th><th scope=col>R2.s4</th><th scope=col>R2.s5</th><th scope=col>R2.s6</th><th scope=col>R2.s7</th><th scope=col>R2.s8</th><th scope=col>⋯</th><th scope=col>R2.s66</th><th scope=col>R2.s67</th><th scope=col>R2.s68</th><th scope=col>R2.s69</th><th scope=col>R2.s70</th><th scope=col>R2.s71</th><th scope=col>R2.s72</th><th scope=col>R2.s73</th><th scope=col>R2.s74</th><th scope=col>R2.s75</th></tr>\n",
              "\t<tr><th scope=col>&lt;dbl&gt;</th><th scope=col>&lt;dbl&gt;</th><th scope=col>&lt;dbl&gt;</th><th scope=col>&lt;dbl&gt;</th><th scope=col>&lt;dbl&gt;</th><th scope=col>&lt;dbl&gt;</th><th scope=col>&lt;dbl&gt;</th><th scope=col>&lt;dbl&gt;</th><th scope=col>&lt;dbl&gt;</th><th scope=col>&lt;dbl&gt;</th><th scope=col>⋯</th><th scope=col>&lt;dbl&gt;</th><th scope=col>&lt;dbl&gt;</th><th scope=col>&lt;dbl&gt;</th><th scope=col>&lt;dbl&gt;</th><th scope=col>&lt;dbl&gt;</th><th scope=col>&lt;dbl&gt;</th><th scope=col>&lt;dbl&gt;</th><th scope=col>&lt;dbl&gt;</th><th scope=col>&lt;dbl&gt;</th><th scope=col>&lt;dbl&gt;</th></tr>\n",
              "</thead>\n",
              "<tbody>\n",
              "\t<tr><td>1040.248</td><td>NA</td><td>0.3318699</td><td>0.480708</td><td>0.6047805</td><td>0.6651851</td><td>0.6907059</td><td>0.703727</td><td>0.7112759</td><td>0.7160636</td><td>⋯</td><td>0.8040268</td><td>0.8039073</td><td>0.8037887</td><td>0.803675</td><td>0.8035779</td><td>0.8034824</td><td>0.8034022</td><td>0.8033223</td><td>0.8032452</td><td>0.8031836</td></tr>\n",
              "</tbody>\n",
              "</table>\n"
            ],
            "text/markdown": "\nA data.frame: 1 × 77\n\n| RMSE &lt;dbl&gt; | R2.s0 &lt;dbl&gt; | R2.s1 &lt;dbl&gt; | R2.s2 &lt;dbl&gt; | R2.s3 &lt;dbl&gt; | R2.s4 &lt;dbl&gt; | R2.s5 &lt;dbl&gt; | R2.s6 &lt;dbl&gt; | R2.s7 &lt;dbl&gt; | R2.s8 &lt;dbl&gt; | ⋯ ⋯ | R2.s66 &lt;dbl&gt; | R2.s67 &lt;dbl&gt; | R2.s68 &lt;dbl&gt; | R2.s69 &lt;dbl&gt; | R2.s70 &lt;dbl&gt; | R2.s71 &lt;dbl&gt; | R2.s72 &lt;dbl&gt; | R2.s73 &lt;dbl&gt; | R2.s74 &lt;dbl&gt; | R2.s75 &lt;dbl&gt; |\n|---|---|---|---|---|---|---|---|---|---|---|---|---|---|---|---|---|---|---|---|---|\n| 1040.248 | NA | 0.3318699 | 0.480708 | 0.6047805 | 0.6651851 | 0.6907059 | 0.703727 | 0.7112759 | 0.7160636 | ⋯ | 0.8040268 | 0.8039073 | 0.8037887 | 0.803675 | 0.8035779 | 0.8034824 | 0.8034022 | 0.8033223 | 0.8032452 | 0.8031836 |\n\n",
            "text/latex": "A data.frame: 1 × 77\n\\begin{tabular}{lllllllllllllllllllll}\n RMSE & R2.s0 & R2.s1 & R2.s2 & R2.s3 & R2.s4 & R2.s5 & R2.s6 & R2.s7 & R2.s8 & ⋯ & R2.s66 & R2.s67 & R2.s68 & R2.s69 & R2.s70 & R2.s71 & R2.s72 & R2.s73 & R2.s74 & R2.s75\\\\\n <dbl> & <dbl> & <dbl> & <dbl> & <dbl> & <dbl> & <dbl> & <dbl> & <dbl> & <dbl> & ⋯ & <dbl> & <dbl> & <dbl> & <dbl> & <dbl> & <dbl> & <dbl> & <dbl> & <dbl> & <dbl>\\\\\n\\hline\n\t 1040.248 & NA & 0.3318699 & 0.480708 & 0.6047805 & 0.6651851 & 0.6907059 & 0.703727 & 0.7112759 & 0.7160636 & ⋯ & 0.8040268 & 0.8039073 & 0.8037887 & 0.803675 & 0.8035779 & 0.8034824 & 0.8034022 & 0.8033223 & 0.8032452 & 0.8031836\\\\\n\\end{tabular}\n",
            "text/plain": [
              "  RMSE     R2.s0 R2.s1     R2.s2    R2.s3     R2.s4     R2.s5     R2.s6   \n",
              "1 1040.248 NA    0.3318699 0.480708 0.6047805 0.6651851 0.6907059 0.703727\n",
              "  R2.s7     R2.s8     ⋯ R2.s66    R2.s67    R2.s68    R2.s69   R2.s70   \n",
              "1 0.7112759 0.7160636 ⋯ 0.8040268 0.8039073 0.8037887 0.803675 0.8035779\n",
              "  R2.s71    R2.s72    R2.s73    R2.s74    R2.s75   \n",
              "1 0.8034824 0.8034022 0.8033223 0.8032452 0.8031836"
            ]
          },
          "metadata": {}
        }
      ]
    },
    {
      "cell_type": "markdown",
      "source": [
        "ENTRENAMIENTO"
      ],
      "metadata": {
        "id": "kuqWBxP3NYCi"
      }
    },
    {
      "cell_type": "code",
      "source": [
        "#red elastica\n",
        "prediccionesred<-predict.glmnet(elastic8, predic.train, s=elastic8$lambda.1se)\n",
        "data.frame(\n",
        "  RMSE=RMSE(prediccionesred,regtecnica.train$conteo),\n",
        "  R2=R2(prediccionesred,regtecnica.train$conteo)\n",
        ")"
      ],
      "metadata": {
        "colab": {
          "base_uri": "https://localhost:8080/",
          "height": 186
        },
        "id": "ocwh4Ln5NZUJ",
        "outputId": "f4321f7f-4809-4941-aec8-12158ecd494c"
      },
      "execution_count": null,
      "outputs": [
        {
          "output_type": "stream",
          "name": "stderr",
          "text": [
            "Warning message in cor(obs, pred, use = ifelse(na.rm, \"complete.obs\", \"everything\")):\n",
            "“the standard deviation is zero”\n"
          ]
        },
        {
          "output_type": "display_data",
          "data": {
            "text/html": [
              "<table class=\"dataframe\">\n",
              "<caption>A data.frame: 1 × 77</caption>\n",
              "<thead>\n",
              "\t<tr><th scope=col>RMSE</th><th scope=col>R2.s0</th><th scope=col>R2.s1</th><th scope=col>R2.s2</th><th scope=col>R2.s3</th><th scope=col>R2.s4</th><th scope=col>R2.s5</th><th scope=col>R2.s6</th><th scope=col>R2.s7</th><th scope=col>R2.s8</th><th scope=col>⋯</th><th scope=col>R2.s66</th><th scope=col>R2.s67</th><th scope=col>R2.s68</th><th scope=col>R2.s69</th><th scope=col>R2.s70</th><th scope=col>R2.s71</th><th scope=col>R2.s72</th><th scope=col>R2.s73</th><th scope=col>R2.s74</th><th scope=col>R2.s75</th></tr>\n",
              "\t<tr><th scope=col>&lt;dbl&gt;</th><th scope=col>&lt;dbl&gt;</th><th scope=col>&lt;dbl&gt;</th><th scope=col>&lt;dbl&gt;</th><th scope=col>&lt;dbl&gt;</th><th scope=col>&lt;dbl&gt;</th><th scope=col>&lt;dbl&gt;</th><th scope=col>&lt;dbl&gt;</th><th scope=col>&lt;dbl&gt;</th><th scope=col>&lt;dbl&gt;</th><th scope=col>⋯</th><th scope=col>&lt;dbl&gt;</th><th scope=col>&lt;dbl&gt;</th><th scope=col>&lt;dbl&gt;</th><th scope=col>&lt;dbl&gt;</th><th scope=col>&lt;dbl&gt;</th><th scope=col>&lt;dbl&gt;</th><th scope=col>&lt;dbl&gt;</th><th scope=col>&lt;dbl&gt;</th><th scope=col>&lt;dbl&gt;</th><th scope=col>&lt;dbl&gt;</th></tr>\n",
              "</thead>\n",
              "<tbody>\n",
              "\t<tr><td>992.164</td><td>NA</td><td>0.415779</td><td>0.5596948</td><td>0.6617396</td><td>0.7072013</td><td>0.7253199</td><td>0.7342077</td><td>0.7391895</td><td>0.7422477</td><td>⋯</td><td>0.8530062</td><td>0.8530332</td><td>0.8530571</td><td>0.8530775</td><td>0.8530933</td><td>0.8531073</td><td>0.8531181</td><td>0.8531279</td><td>0.8531364</td><td>0.8531426</td></tr>\n",
              "</tbody>\n",
              "</table>\n"
            ],
            "text/markdown": "\nA data.frame: 1 × 77\n\n| RMSE &lt;dbl&gt; | R2.s0 &lt;dbl&gt; | R2.s1 &lt;dbl&gt; | R2.s2 &lt;dbl&gt; | R2.s3 &lt;dbl&gt; | R2.s4 &lt;dbl&gt; | R2.s5 &lt;dbl&gt; | R2.s6 &lt;dbl&gt; | R2.s7 &lt;dbl&gt; | R2.s8 &lt;dbl&gt; | ⋯ ⋯ | R2.s66 &lt;dbl&gt; | R2.s67 &lt;dbl&gt; | R2.s68 &lt;dbl&gt; | R2.s69 &lt;dbl&gt; | R2.s70 &lt;dbl&gt; | R2.s71 &lt;dbl&gt; | R2.s72 &lt;dbl&gt; | R2.s73 &lt;dbl&gt; | R2.s74 &lt;dbl&gt; | R2.s75 &lt;dbl&gt; |\n|---|---|---|---|---|---|---|---|---|---|---|---|---|---|---|---|---|---|---|---|---|\n| 992.164 | NA | 0.415779 | 0.5596948 | 0.6617396 | 0.7072013 | 0.7253199 | 0.7342077 | 0.7391895 | 0.7422477 | ⋯ | 0.8530062 | 0.8530332 | 0.8530571 | 0.8530775 | 0.8530933 | 0.8531073 | 0.8531181 | 0.8531279 | 0.8531364 | 0.8531426 |\n\n",
            "text/latex": "A data.frame: 1 × 77\n\\begin{tabular}{lllllllllllllllllllll}\n RMSE & R2.s0 & R2.s1 & R2.s2 & R2.s3 & R2.s4 & R2.s5 & R2.s6 & R2.s7 & R2.s8 & ⋯ & R2.s66 & R2.s67 & R2.s68 & R2.s69 & R2.s70 & R2.s71 & R2.s72 & R2.s73 & R2.s74 & R2.s75\\\\\n <dbl> & <dbl> & <dbl> & <dbl> & <dbl> & <dbl> & <dbl> & <dbl> & <dbl> & <dbl> & ⋯ & <dbl> & <dbl> & <dbl> & <dbl> & <dbl> & <dbl> & <dbl> & <dbl> & <dbl> & <dbl>\\\\\n\\hline\n\t 992.164 & NA & 0.415779 & 0.5596948 & 0.6617396 & 0.7072013 & 0.7253199 & 0.7342077 & 0.7391895 & 0.7422477 & ⋯ & 0.8530062 & 0.8530332 & 0.8530571 & 0.8530775 & 0.8530933 & 0.8531073 & 0.8531181 & 0.8531279 & 0.8531364 & 0.8531426\\\\\n\\end{tabular}\n",
            "text/plain": [
              "  RMSE    R2.s0 R2.s1    R2.s2     R2.s3     R2.s4     R2.s5     R2.s6    \n",
              "1 992.164 NA    0.415779 0.5596948 0.6617396 0.7072013 0.7253199 0.7342077\n",
              "  R2.s7     R2.s8     ⋯ R2.s66    R2.s67    R2.s68    R2.s69    R2.s70   \n",
              "1 0.7391895 0.7422477 ⋯ 0.8530062 0.8530332 0.8530571 0.8530775 0.8530933\n",
              "  R2.s71    R2.s72    R2.s73    R2.s74    R2.s75   \n",
              "1 0.8531073 0.8531181 0.8531279 0.8531364 0.8531426"
            ]
          },
          "metadata": {}
        }
      ]
    },
    {
      "cell_type": "markdown",
      "source": [
        "EL R2 en entrenamiento para mi alpha = 0.73"
      ],
      "metadata": {
        "id": "ura3Fk80Ni9a"
      }
    },
    {
      "cell_type": "markdown",
      "source": [
        "EL R2 en prueba para mi alpha = 0.6 es de 0.7037"
      ],
      "metadata": {
        "id": "zItVFsidM6Gj"
      }
    },
    {
      "cell_type": "markdown",
      "source": [
        "**Entre los 5 modelos desarrollados, seleccione el mejor modelo teniendo en cuenta las métricas generadas en entrenamiento y prueba.**"
      ],
      "metadata": {
        "id": "XUQTiui6N3fG"
      }
    },
    {
      "cell_type": "markdown",
      "source": [
        "Entre los 5 modelos desarrollados, el mejor modelo Viendo los resultados, el mejor modelo es el 0 - base.  El modelo base tiene R2 = 0.84 en entrenamiento y R2=0.80 en prueba, superando a todos los demás modelos."
      ],
      "metadata": {
        "id": "Oef23Iz0N70O"
      }
    },
    {
      "cell_type": "markdown",
      "source": [
        "# PUNTO 2"
      ],
      "metadata": {
        "id": "ViYpv_UJbazb"
      }
    },
    {
      "cell_type": "markdown",
      "source": [
        "# **REGRESIÓN LOGÍSTICA**"
      ],
      "metadata": {
        "id": "4Cb1f54B8jrI"
      }
    },
    {
      "cell_type": "code",
      "source": [
        "if (!require('caret')) install.packages('caret')"
      ],
      "metadata": {
        "id": "-qGGBD-vcmXp"
      },
      "execution_count": null,
      "outputs": []
    },
    {
      "cell_type": "code",
      "source": [
        "\n",
        "if (!require('ROCR')) install.packages('ROCR')"
      ],
      "metadata": {
        "colab": {
          "base_uri": "https://localhost:8080/"
        },
        "id": "R0PdP1LU8qgq",
        "outputId": "9a716f7a-8362-4a07-dca0-a59bb56a4f59"
      },
      "execution_count": 4,
      "outputs": [
        {
          "output_type": "stream",
          "name": "stderr",
          "text": [
            "Loading required package: ROCR\n",
            "\n",
            "Warning message in library(package, lib.loc = lib.loc, character.only = TRUE, logical.return = TRUE, :\n",
            "“there is no package called ‘ROCR’”\n",
            "Installing package into ‘/usr/local/lib/R/site-library’\n",
            "(as ‘lib’ is unspecified)\n",
            "\n",
            "also installing the dependencies ‘bitops’, ‘gtools’, ‘caTools’, ‘gplots’\n",
            "\n",
            "\n"
          ]
        }
      ]
    },
    {
      "cell_type": "code",
      "source": [
        "library(caret)\n",
        "library(ROCR)\n",
        "library(ggplot2)\n",
        "library(readxl)"
      ],
      "metadata": {
        "id": "bx-YDvDy9ZiX"
      },
      "execution_count": 5,
      "outputs": []
    },
    {
      "cell_type": "code",
      "source": [
        "cartera<- read.csv(\"/content/Bonificacion.csv\")\n",
        "str(cartera)"
      ],
      "metadata": {
        "colab": {
          "base_uri": "https://localhost:8080/"
        },
        "id": "zZibk5uJPxQQ",
        "outputId": "5167a905-81f7-4000-b7c2-056ca1f3f497"
      },
      "execution_count": 6,
      "outputs": [
        {
          "output_type": "stream",
          "name": "stdout",
          "text": [
            "'data.frame':\t838 obs. of  12 variables:\n",
            " $ Personas_Hogar                    : num  7 2 12 6 1 8 5 9 7 10 ...\n",
            " $ Subsidio_agua                     : num  16471 22474 16312 16090 46700 ...\n",
            " $ Tipo_jardin                       : num  2 2 0 0 2 2 1 1 0 1 ...\n",
            " $ Tiempo_en_ducha                   : num  11 4 1 1 3 15 2 2 2 12 ...\n",
            " $ Cantidad_de_veces_que_se_lava_loza: num  8 2 2 1 1 7 2 3 1 10 ...\n",
            " $ Drenaje_diario                    : num  12 1 1 1 1 8 3 14 3 15 ...\n",
            " $ Lavadora                          : num  6 7 7 6 2 5 1 3 3 6 ...\n",
            " $ Cantidad_de_Litros_tomados        : num  4 2 2 4 1 3 5 3 5 2 ...\n",
            " $ Metros_inmueble                   : num  28 98 133 154 170 158 197 126 145 184 ...\n",
            " $ Bono                              : int  1 1 1 1 1 1 1 1 1 1 ...\n",
            " $ Mascotas                          : num  10 7 2 6 5 7 5 1 4 2 ...\n",
            " $ Fiestas_mes                       : num  5 4 2 7 7 2 5 5 9 5 ...\n"
          ]
        }
      ]
    },
    {
      "cell_type": "markdown",
      "source": [
        "La variable a predecir debe ser un factor y las demás numéricas"
      ],
      "metadata": {
        "id": "xv-f1EO7ssRu"
      }
    },
    {
      "cell_type": "markdown",
      "source": [
        "# Preparacion de Datos"
      ],
      "metadata": {
        "id": "_v7eABwI90jk"
      }
    },
    {
      "cell_type": "markdown",
      "source": [
        "Se debe convertir la variable a predecir a Factor"
      ],
      "metadata": {
        "id": "QBeD6mXI97Ih"
      }
    },
    {
      "cell_type": "code",
      "source": [
        "cartera$Bono<-as.factor(cartera$Bono)\n",
        "str(cartera)"
      ],
      "metadata": {
        "colab": {
          "base_uri": "https://localhost:8080/"
        },
        "id": "cOnWRWO99-Bt",
        "outputId": "bc57e693-1355-4c63-a30b-5a3e8621b09d"
      },
      "execution_count": 7,
      "outputs": [
        {
          "output_type": "stream",
          "name": "stdout",
          "text": [
            "'data.frame':\t838 obs. of  12 variables:\n",
            " $ Personas_Hogar                    : num  7 2 12 6 1 8 5 9 7 10 ...\n",
            " $ Subsidio_agua                     : num  16471 22474 16312 16090 46700 ...\n",
            " $ Tipo_jardin                       : num  2 2 0 0 2 2 1 1 0 1 ...\n",
            " $ Tiempo_en_ducha                   : num  11 4 1 1 3 15 2 2 2 12 ...\n",
            " $ Cantidad_de_veces_que_se_lava_loza: num  8 2 2 1 1 7 2 3 1 10 ...\n",
            " $ Drenaje_diario                    : num  12 1 1 1 1 8 3 14 3 15 ...\n",
            " $ Lavadora                          : num  6 7 7 6 2 5 1 3 3 6 ...\n",
            " $ Cantidad_de_Litros_tomados        : num  4 2 2 4 1 3 5 3 5 2 ...\n",
            " $ Metros_inmueble                   : num  28 98 133 154 170 158 197 126 145 184 ...\n",
            " $ Bono                              : Factor w/ 2 levels \"0\",\"1\": 2 2 2 2 2 2 2 2 2 2 ...\n",
            " $ Mascotas                          : num  10 7 2 6 5 7 5 1 4 2 ...\n",
            " $ Fiestas_mes                       : num  5 4 2 7 7 2 5 5 9 5 ...\n"
          ]
        }
      ]
    },
    {
      "cell_type": "markdown",
      "source": [
        "**La probabilidad de Renuncia es de 0.5**"
      ],
      "metadata": {
        "id": "jhkLH2T4u-Cw"
      }
    },
    {
      "cell_type": "code",
      "source": [
        "balance<-table(cartera$Bono)\n",
        "prop.table(balance)"
      ],
      "metadata": {
        "colab": {
          "base_uri": "https://localhost:8080/",
          "height": 69
        },
        "id": "6YZm38HI-FWQ",
        "outputId": "de6e8558-e815-4fc8-9899-28ecd59c0064"
      },
      "execution_count": 8,
      "outputs": [
        {
          "output_type": "display_data",
          "data": {
            "text/plain": [
              "\n",
              "        0         1 \n",
              "0.4618138 0.5381862 "
            ]
          },
          "metadata": {}
        }
      ]
    },
    {
      "cell_type": "code",
      "source": [
        "set.seed(1) #aquí se define el tamaño de la muestra, en este caso entrenamiento tendrá el 75% de los casos\n",
        "sample <- sample.int(nrow(cartera), floor(.75*nrow(cartera)))\n",
        "cartera.train <- cartera[sample, ]\n",
        "cartera.test <- cartera[-sample, ]"
      ],
      "metadata": {
        "id": "SeCk3G6L-IXV"
      },
      "execution_count": 9,
      "outputs": []
    },
    {
      "cell_type": "code",
      "source": [
        "str(cartera.train)"
      ],
      "metadata": {
        "colab": {
          "base_uri": "https://localhost:8080/"
        },
        "id": "_oqbzv1X-N-c",
        "outputId": "58fbfd6f-9aa6-483e-dfcd-bf8b3f0c5d6d"
      },
      "execution_count": 10,
      "outputs": [
        {
          "output_type": "stream",
          "name": "stdout",
          "text": [
            "'data.frame':\t628 obs. of  12 variables:\n",
            " $ Personas_Hogar                    : num  16.9 18 1 5 2 ...\n",
            " $ Subsidio_agua                     : num  31520 32876 40586 38874 32399 ...\n",
            " $ Tipo_jardin                       : num  1 2 0 1 2 0 1 2 1 2 ...\n",
            " $ Tiempo_en_ducha                   : num  10 12 7 4 10 ...\n",
            " $ Cantidad_de_veces_que_se_lava_loza: num  7.95 7 9 1 10 ...\n",
            " $ Drenaje_diario                    : num  12.5 16 10 1 12 ...\n",
            " $ Lavadora                          : num  6.51 1 2 3 1 ...\n",
            " $ Cantidad_de_Litros_tomados        : num  5 1 5 2 2 1 3 5 5 2 ...\n",
            " $ Metros_inmueble                   : num  159 97 103 84 41 ...\n",
            " $ Bono                              : Factor w/ 2 levels \"0\",\"1\": 1 1 2 1 1 2 2 2 2 1 ...\n",
            " $ Mascotas                          : num  3.46 4 9 10 5 ...\n",
            " $ Fiestas_mes                       : num  10 5 1 1 3 2 7 3 6 1 ...\n"
          ]
        }
      ]
    },
    {
      "cell_type": "markdown",
      "source": [
        "# MODELO"
      ],
      "metadata": {
        "id": "Hzkq1627-Q2o"
      }
    },
    {
      "cell_type": "markdown",
      "source": [
        "**(5) Plantee un modelo para predecir si un hogar debe recibir bonificación. Utilice un cutoff de 0.5. Calcule las métricas de desempeño (accuracy, F1-score para la clase positiva) tanto en entrenamiento como en prueba.**"
      ],
      "metadata": {
        "id": "JSBdUMlvQx0M"
      }
    },
    {
      "cell_type": "code",
      "source": [
        "##Modelo\n",
        "set.seed(1)\n",
        "modelo.logit<-glm(Bono~.,family=binomial,cartera.train) #Aqui solo se cambia la variable a predecir, de resto es igual\n",
        "#trace=0 impide ver todos los detalles de la optimización stepwise\n",
        "steplogit<-step(modelo.logit, direction=\"both\")\n",
        "summary(steplogit)"
      ],
      "metadata": {
        "colab": {
          "base_uri": "https://localhost:8080/",
          "height": 1000
        },
        "id": "FiqFSeBg-Z7I",
        "outputId": "5f5a8d67-1c91-42bb-ec43-04f643a4fddd"
      },
      "execution_count": 11,
      "outputs": [
        {
          "output_type": "stream",
          "name": "stdout",
          "text": [
            "Start:  AIC=646.64\n",
            "Bono ~ Personas_Hogar + Subsidio_agua + Tipo_jardin + Tiempo_en_ducha + \n",
            "    Cantidad_de_veces_que_se_lava_loza + Drenaje_diario + Lavadora + \n",
            "    Cantidad_de_Litros_tomados + Metros_inmueble + Mascotas + \n",
            "    Fiestas_mes\n",
            "\n",
            "                                     Df Deviance    AIC\n",
            "- Personas_Hogar                      1   622.96 644.96\n",
            "- Mascotas                            1   623.05 645.05\n",
            "<none>                                    622.64 646.64\n",
            "- Drenaje_diario                      1   624.97 646.97\n",
            "- Lavadora                            1   626.67 648.67\n",
            "- Fiestas_mes                         1   628.84 650.84\n",
            "- Cantidad_de_veces_que_se_lava_loza  1   629.64 651.64\n",
            "- Cantidad_de_Litros_tomados          1   632.87 654.87\n",
            "- Metros_inmueble                     1   637.34 659.34\n",
            "- Tipo_jardin                         1   638.88 660.88\n",
            "- Tiempo_en_ducha                     1   649.64 671.64\n",
            "- Subsidio_agua                       1   662.62 684.62\n",
            "\n",
            "Step:  AIC=644.96\n",
            "Bono ~ Subsidio_agua + Tipo_jardin + Tiempo_en_ducha + Cantidad_de_veces_que_se_lava_loza + \n",
            "    Drenaje_diario + Lavadora + Cantidad_de_Litros_tomados + \n",
            "    Metros_inmueble + Mascotas + Fiestas_mes\n",
            "\n",
            "                                     Df Deviance    AIC\n",
            "- Mascotas                            1   623.28 643.28\n",
            "<none>                                    622.96 644.96\n",
            "- Drenaje_diario                      1   625.26 645.26\n",
            "+ Personas_Hogar                      1   622.64 646.64\n",
            "- Lavadora                            1   627.02 647.02\n",
            "- Fiestas_mes                         1   628.88 648.88\n",
            "- Cantidad_de_veces_que_se_lava_loza  1   630.04 650.04\n",
            "- Cantidad_de_Litros_tomados          1   633.32 653.32\n",
            "- Metros_inmueble                     1   637.58 657.58\n",
            "- Tipo_jardin                         1   639.77 659.77\n",
            "- Tiempo_en_ducha                     1   649.73 669.73\n",
            "- Subsidio_agua                       1   663.53 683.53\n",
            "\n",
            "Step:  AIC=643.28\n",
            "Bono ~ Subsidio_agua + Tipo_jardin + Tiempo_en_ducha + Cantidad_de_veces_que_se_lava_loza + \n",
            "    Drenaje_diario + Lavadora + Cantidad_de_Litros_tomados + \n",
            "    Metros_inmueble + Fiestas_mes\n",
            "\n",
            "                                     Df Deviance    AIC\n",
            "<none>                                    623.28 643.28\n",
            "- Drenaje_diario                      1   625.65 643.65\n",
            "+ Mascotas                            1   622.96 644.96\n",
            "+ Personas_Hogar                      1   623.05 645.05\n",
            "- Lavadora                            1   627.72 645.72\n",
            "- Fiestas_mes                         1   629.16 647.16\n",
            "- Cantidad_de_veces_que_se_lava_loza  1   630.19 648.19\n",
            "- Cantidad_de_Litros_tomados          1   633.73 651.73\n",
            "- Metros_inmueble                     1   638.85 656.85\n",
            "- Tipo_jardin                         1   640.23 658.23\n",
            "- Tiempo_en_ducha                     1   650.31 668.31\n",
            "- Subsidio_agua                       1   663.70 681.70\n"
          ]
        },
        {
          "output_type": "display_data",
          "data": {
            "text/plain": [
              "\n",
              "Call:\n",
              "glm(formula = Bono ~ Subsidio_agua + Tipo_jardin + Tiempo_en_ducha + \n",
              "    Cantidad_de_veces_que_se_lava_loza + Drenaje_diario + Lavadora + \n",
              "    Cantidad_de_Litros_tomados + Metros_inmueble + Fiestas_mes, \n",
              "    family = binomial, data = cartera.train)\n",
              "\n",
              "Coefficients:\n",
              "                                     Estimate Std. Error z value Pr(>|z|)    \n",
              "(Intercept)                         1.818e+00  6.022e-01   3.020  0.00253 ** \n",
              "Subsidio_agua                      -6.830e-05  1.136e-05  -6.013 1.82e-09 ***\n",
              "Tipo_jardin                         5.318e-01  1.316e-01   4.041 5.33e-05 ***\n",
              "Tiempo_en_ducha                    -1.713e-01  3.400e-02  -5.040 4.66e-07 ***\n",
              "Cantidad_de_veces_que_se_lava_loza -1.418e-01  5.457e-02  -2.599  0.00935 ** \n",
              "Drenaje_diario                     -4.012e-02  2.601e-02  -1.543  0.12292    \n",
              "Lavadora                            1.140e-01  5.437e-02   2.097  0.03595 *  \n",
              "Cantidad_de_Litros_tomados          2.425e-01  7.590e-02   3.195  0.00140 ** \n",
              "Metros_inmueble                     8.412e-03  2.246e-03   3.746  0.00018 ***\n",
              "Fiestas_mes                         8.146e-02  3.392e-02   2.402  0.01631 *  \n",
              "---\n",
              "Signif. codes:  0 ‘***’ 0.001 ‘**’ 0.01 ‘*’ 0.05 ‘.’ 0.1 ‘ ’ 1\n",
              "\n",
              "(Dispersion parameter for binomial family taken to be 1)\n",
              "\n",
              "    Null deviance: 868.04  on 627  degrees of freedom\n",
              "Residual deviance: 623.28  on 618  degrees of freedom\n",
              "AIC: 643.28\n",
              "\n",
              "Number of Fisher Scoring iterations: 5\n"
            ]
          },
          "metadata": {}
        }
      ]
    },
    {
      "cell_type": "code",
      "source": [
        "#crea el pronostico base de entrenamiento\n",
        "prontrain<-ifelse(steplogit$fitted.values > 0.5,1,0)\n",
        "#tabla de confusión y estadisticas, base de entrenamiento\n",
        "conftrain<-confusionMatrix(as.factor(prontrain),cartera.train$Bono, positive = \"1\")\n",
        "conftrain\n",
        "\n",
        "train_f1 <- conftrain$byClass[\"F1\"]\n",
        "cat(\"Training F1-score:\", train_f1, \"\\n\")"
      ],
      "metadata": {
        "colab": {
          "base_uri": "https://localhost:8080/",
          "height": 503
        },
        "id": "9c19bOyPQg74",
        "outputId": "f8a6d729-03f2-47ad-c74f-0560c2085740"
      },
      "execution_count": 12,
      "outputs": [
        {
          "output_type": "display_data",
          "data": {
            "text/plain": [
              "Confusion Matrix and Statistics\n",
              "\n",
              "          Reference\n",
              "Prediction   0   1\n",
              "         0 212  75\n",
              "         1  82 259\n",
              "                                          \n",
              "               Accuracy : 0.75            \n",
              "                 95% CI : (0.7142, 0.7834)\n",
              "    No Information Rate : 0.5318          \n",
              "    P-Value [Acc > NIR] : <2e-16          \n",
              "                                          \n",
              "                  Kappa : 0.4972          \n",
              "                                          \n",
              " Mcnemar's Test P-Value : 0.632           \n",
              "                                          \n",
              "            Sensitivity : 0.7754          \n",
              "            Specificity : 0.7211          \n",
              "         Pos Pred Value : 0.7595          \n",
              "         Neg Pred Value : 0.7387          \n",
              "             Prevalence : 0.5318          \n",
              "         Detection Rate : 0.4124          \n",
              "   Detection Prevalence : 0.5430          \n",
              "      Balanced Accuracy : 0.7483          \n",
              "                                          \n",
              "       'Positive' Class : 1               \n",
              "                                          "
            ]
          },
          "metadata": {}
        },
        {
          "output_type": "stream",
          "name": "stdout",
          "text": [
            "Training F1-score: 0.7674074 \n"
          ]
        }
      ]
    },
    {
      "cell_type": "code",
      "source": [
        "#crea el pronóstico en validación\n",
        "probtest<-predict(steplogit,newdata = cartera.test,type='response')\n",
        "prontest<-ifelse(probtest > 0.5,1,0)\n",
        "conftest<-confusionMatrix(as.factor(prontest),cartera.test$Bono, positive = \"1\")\n",
        "conftest\n",
        "\n",
        "test_f1 <- conftest$byClass[\"F1\"]\n",
        "cat(\"Test F1-score:\", test_f1, \"\\n\")"
      ],
      "metadata": {
        "colab": {
          "base_uri": "https://localhost:8080/",
          "height": 503
        },
        "id": "AzpTFIctQmjv",
        "outputId": "c4e2f206-0d7f-470a-d09b-4d625e6ed5f4"
      },
      "execution_count": 13,
      "outputs": [
        {
          "output_type": "display_data",
          "data": {
            "text/plain": [
              "Confusion Matrix and Statistics\n",
              "\n",
              "          Reference\n",
              "Prediction  0  1\n",
              "         0 68 34\n",
              "         1 25 83\n",
              "                                          \n",
              "               Accuracy : 0.719           \n",
              "                 95% CI : (0.6531, 0.7787)\n",
              "    No Information Rate : 0.5571          \n",
              "    P-Value [Acc > NIR] : 9.996e-07       \n",
              "                                          \n",
              "                  Kappa : 0.4363          \n",
              "                                          \n",
              " Mcnemar's Test P-Value : 0.2976          \n",
              "                                          \n",
              "            Sensitivity : 0.7094          \n",
              "            Specificity : 0.7312          \n",
              "         Pos Pred Value : 0.7685          \n",
              "         Neg Pred Value : 0.6667          \n",
              "             Prevalence : 0.5571          \n",
              "         Detection Rate : 0.3952          \n",
              "   Detection Prevalence : 0.5143          \n",
              "      Balanced Accuracy : 0.7203          \n",
              "                                          \n",
              "       'Positive' Class : 1               \n",
              "                                          "
            ]
          },
          "metadata": {}
        },
        {
          "output_type": "stream",
          "name": "stdout",
          "text": [
            "Test F1-score: 0.7377778 \n"
          ]
        }
      ]
    },
    {
      "cell_type": "markdown",
      "source": [
        "**(3) De las variables presentes en el modelo final, si tuviera que eliminar una variable de las que quedaron en el modelo final, ¿cuál eliminaría y porqué?**"
      ],
      "metadata": {
        "id": "rIvOaoMDRICH"
      }
    },
    {
      "cell_type": "markdown",
      "source": [
        "Eliminaría la variable **Drenaje_diario** pues es la que tiene mayor p-value, dando a entender que es la menos significativa.                "
      ],
      "metadata": {
        "id": "eQY6tWKTRcCM"
      }
    },
    {
      "cell_type": "markdown",
      "source": [
        "Estos odd_change se interpretan en terminos de si son mayores a 1 o menor a 1, si el odd change es mayor a 1, significa que ante un aumento de uno en esa variable, permaneciendo las demas constantes, aumenta el chance de renunciar, si es menor a 1, el caso contrario"
      ],
      "metadata": {
        "id": "1Bxie8ZIt1vl"
      }
    },
    {
      "cell_type": "markdown",
      "source": [
        "**(8) Tomando como probabilidad base la probabilidad de obtener una bonificación, determine la probabilidad final que se obtiene al aumentar en 3 el número promedio de veces que se lava la loza diariamente, suponiendo que las demás variables no tienen ningún cambio. Realice este cálculo en una hoja de Excel, luego en el notebook valide el número obtenido (muestre que en los cálculos de R aparece dicho valor).**"
      ],
      "metadata": {
        "id": "lo7e2VeiTQIf"
      }
    },
    {
      "cell_type": "code",
      "source": [
        "coeficientes<-steplogit$coefficients\n",
        "odd_change<-exp(coeficientes)\n",
        "odd_change_ver<-as.data.frame(odd_change)\n",
        "odd_change_ver"
      ],
      "metadata": {
        "colab": {
          "base_uri": "https://localhost:8080/",
          "height": 412
        },
        "id": "_Ex8xprj-dng",
        "outputId": "ccd344ff-85b0-4eb8-f2f6-e24dc2ce7d8f"
      },
      "execution_count": 14,
      "outputs": [
        {
          "output_type": "display_data",
          "data": {
            "text/html": [
              "<table class=\"dataframe\">\n",
              "<caption>A data.frame: 10 × 1</caption>\n",
              "<thead>\n",
              "\t<tr><th></th><th scope=col>odd_change</th></tr>\n",
              "\t<tr><th></th><th scope=col>&lt;dbl&gt;</th></tr>\n",
              "</thead>\n",
              "<tbody>\n",
              "\t<tr><th scope=row>(Intercept)</th><td>6.1624848</td></tr>\n",
              "\t<tr><th scope=row>Subsidio_agua</th><td>0.9999317</td></tr>\n",
              "\t<tr><th scope=row>Tipo_jardin</th><td>1.7019542</td></tr>\n",
              "\t<tr><th scope=row>Tiempo_en_ducha</th><td>0.8425397</td></tr>\n",
              "\t<tr><th scope=row>Cantidad_de_veces_que_se_lava_loza</th><td>0.8677672</td></tr>\n",
              "\t<tr><th scope=row>Drenaje_diario</th><td>0.9606723</td></tr>\n",
              "\t<tr><th scope=row>Lavadora</th><td>1.1207886</td></tr>\n",
              "\t<tr><th scope=row>Cantidad_de_Litros_tomados</th><td>1.2744867</td></tr>\n",
              "\t<tr><th scope=row>Metros_inmueble</th><td>1.0084475</td></tr>\n",
              "\t<tr><th scope=row>Fiestas_mes</th><td>1.0848719</td></tr>\n",
              "</tbody>\n",
              "</table>\n"
            ],
            "text/markdown": "\nA data.frame: 10 × 1\n\n| <!--/--> | odd_change &lt;dbl&gt; |\n|---|---|\n| (Intercept) | 6.1624848 |\n| Subsidio_agua | 0.9999317 |\n| Tipo_jardin | 1.7019542 |\n| Tiempo_en_ducha | 0.8425397 |\n| Cantidad_de_veces_que_se_lava_loza | 0.8677672 |\n| Drenaje_diario | 0.9606723 |\n| Lavadora | 1.1207886 |\n| Cantidad_de_Litros_tomados | 1.2744867 |\n| Metros_inmueble | 1.0084475 |\n| Fiestas_mes | 1.0848719 |\n\n",
            "text/latex": "A data.frame: 10 × 1\n\\begin{tabular}{r|l}\n  & odd\\_change\\\\\n  & <dbl>\\\\\n\\hline\n\t(Intercept) & 6.1624848\\\\\n\tSubsidio\\_agua & 0.9999317\\\\\n\tTipo\\_jardin & 1.7019542\\\\\n\tTiempo\\_en\\_ducha & 0.8425397\\\\\n\tCantidad\\_de\\_veces\\_que\\_se\\_lava\\_loza & 0.8677672\\\\\n\tDrenaje\\_diario & 0.9606723\\\\\n\tLavadora & 1.1207886\\\\\n\tCantidad\\_de\\_Litros\\_tomados & 1.2744867\\\\\n\tMetros\\_inmueble & 1.0084475\\\\\n\tFiestas\\_mes & 1.0848719\\\\\n\\end{tabular}\n",
            "text/plain": [
              "                                   odd_change\n",
              "(Intercept)                        6.1624848 \n",
              "Subsidio_agua                      0.9999317 \n",
              "Tipo_jardin                        1.7019542 \n",
              "Tiempo_en_ducha                    0.8425397 \n",
              "Cantidad_de_veces_que_se_lava_loza 0.8677672 \n",
              "Drenaje_diario                     0.9606723 \n",
              "Lavadora                           1.1207886 \n",
              "Cantidad_de_Litros_tomados         1.2744867 \n",
              "Metros_inmueble                    1.0084475 \n",
              "Fiestas_mes                        1.0848719 "
            ]
          },
          "metadata": {}
        }
      ]
    },
    {
      "cell_type": "code",
      "source": [
        "#Odd ratios\n",
        "balance<-table(cartera$Bono)\n",
        "prop.table(balance)\n",
        "oddbase<-prop.table(balance)[2]/prop.table(balance)[1]\n",
        "oddbase"
      ],
      "metadata": {
        "colab": {
          "base_uri": "https://localhost:8080/",
          "height": 86
        },
        "id": "7mXET3XeB3Dc",
        "outputId": "d4eda62f-91ad-498d-93f0-24a469fa1416"
      },
      "execution_count": 15,
      "outputs": [
        {
          "output_type": "display_data",
          "data": {
            "text/plain": [
              "\n",
              "        0         1 \n",
              "0.4618138 0.5381862 "
            ]
          },
          "metadata": {}
        },
        {
          "output_type": "display_data",
          "data": {
            "text/html": [
              "<strong>1:</strong> 1.16537467700258"
            ],
            "text/markdown": "**1:** 1.16537467700258",
            "text/latex": "\\textbf{1:} 1.16537467700258",
            "text/plain": [
              "       1 \n",
              "1.165375 "
            ]
          },
          "metadata": {}
        }
      ]
    },
    {
      "cell_type": "code",
      "source": [
        "oddfin<-oddbase*odd_change\n",
        "prob1step<-as.data.frame(oddfin/(1+oddfin))\n",
        "View(prob1step)"
      ],
      "metadata": {
        "colab": {
          "base_uri": "https://localhost:8080/",
          "height": 411
        },
        "id": "5NFBrYxWBszK",
        "outputId": "6db8983a-e132-4826-9155-4a94288a229d"
      },
      "execution_count": null,
      "outputs": [
        {
          "output_type": "display_data",
          "data": {
            "text/plain": [
              "                                   oddfin/(1 + oddfin)\n",
              "(Intercept)                        0.8777746          \n",
              "Subsidio_agua                      0.5381692          \n",
              "Tipo_jardin                        0.6648136          \n",
              "Tiempo_en_ducha                    0.4954272          \n",
              "Cantidad_de_veces_que_se_lava_loza 0.5028027          \n",
              "Drenaje_diario                     0.5282002          \n",
              "Lavadora                           0.5663747          \n",
              "Cantidad_de_Litros_tomados         0.5976267          \n",
              "Metros_inmueble                    0.5402762          \n",
              "Fiestas_mes                        0.5583590          "
            ],
            "text/html": [
              "<table class=\"dataframe\">\n",
              "<caption>A data.frame: 10 × 1</caption>\n",
              "<thead>\n",
              "\t<tr><th></th><th scope=col>oddfin/(1 + oddfin)</th></tr>\n",
              "\t<tr><th></th><th scope=col>&lt;dbl&gt;</th></tr>\n",
              "</thead>\n",
              "<tbody>\n",
              "\t<tr><th scope=row>(Intercept)</th><td>0.8777746</td></tr>\n",
              "\t<tr><th scope=row>Subsidio_agua</th><td>0.5381692</td></tr>\n",
              "\t<tr><th scope=row>Tipo_jardin</th><td>0.6648136</td></tr>\n",
              "\t<tr><th scope=row>Tiempo_en_ducha</th><td>0.4954272</td></tr>\n",
              "\t<tr><th scope=row>Cantidad_de_veces_que_se_lava_loza</th><td>0.5028027</td></tr>\n",
              "\t<tr><th scope=row>Drenaje_diario</th><td>0.5282002</td></tr>\n",
              "\t<tr><th scope=row>Lavadora</th><td>0.5663747</td></tr>\n",
              "\t<tr><th scope=row>Cantidad_de_Litros_tomados</th><td>0.5976267</td></tr>\n",
              "\t<tr><th scope=row>Metros_inmueble</th><td>0.5402762</td></tr>\n",
              "\t<tr><th scope=row>Fiestas_mes</th><td>0.5583590</td></tr>\n",
              "</tbody>\n",
              "</table>\n"
            ],
            "text/markdown": "\nA data.frame: 10 × 1\n\n| <!--/--> | oddfin/(1 + oddfin) &lt;dbl&gt; |\n|---|---|\n| (Intercept) | 0.8777746 |\n| Subsidio_agua | 0.5381692 |\n| Tipo_jardin | 0.6648136 |\n| Tiempo_en_ducha | 0.4954272 |\n| Cantidad_de_veces_que_se_lava_loza | 0.5028027 |\n| Drenaje_diario | 0.5282002 |\n| Lavadora | 0.5663747 |\n| Cantidad_de_Litros_tomados | 0.5976267 |\n| Metros_inmueble | 0.5402762 |\n| Fiestas_mes | 0.5583590 |\n\n",
            "text/latex": "A data.frame: 10 × 1\n\\begin{tabular}{r|l}\n  & oddfin/(1 + oddfin)\\\\\n  & <dbl>\\\\\n\\hline\n\t(Intercept) & 0.8777746\\\\\n\tSubsidio\\_agua & 0.5381692\\\\\n\tTipo\\_jardin & 0.6648136\\\\\n\tTiempo\\_en\\_ducha & 0.4954272\\\\\n\tCantidad\\_de\\_veces\\_que\\_se\\_lava\\_loza & 0.5028027\\\\\n\tDrenaje\\_diario & 0.5282002\\\\\n\tLavadora & 0.5663747\\\\\n\tCantidad\\_de\\_Litros\\_tomados & 0.5976267\\\\\n\tMetros\\_inmueble & 0.5402762\\\\\n\tFiestas\\_mes & 0.5583590\\\\\n\\end{tabular}\n"
          },
          "metadata": {}
        }
      ]
    },
    {
      "cell_type": "code",
      "source": [
        "#crear matriz vacia\n",
        "oddprueba<-matrix(,4,29)\n",
        "probprueba<-matrix(,4,29)\n",
        "oddprueba"
      ],
      "metadata": {
        "colab": {
          "base_uri": "https://localhost:8080/",
          "height": 160
        },
        "id": "nUUNrWNcB9eH",
        "outputId": "d53f8426-7354-4b14-d98a-6d6cefe995a7"
      },
      "execution_count": null,
      "outputs": [
        {
          "output_type": "display_data",
          "data": {
            "text/html": [
              "<table class=\"dataframe\">\n",
              "<caption>A matrix: 4 × 29 of type lgl</caption>\n",
              "<tbody>\n",
              "\t<tr><td>NA</td><td>NA</td><td>NA</td><td>NA</td><td>NA</td><td>NA</td><td>NA</td><td>NA</td><td>NA</td><td>NA</td><td>⋯</td><td>NA</td><td>NA</td><td>NA</td><td>NA</td><td>NA</td><td>NA</td><td>NA</td><td>NA</td><td>NA</td><td>NA</td></tr>\n",
              "\t<tr><td>NA</td><td>NA</td><td>NA</td><td>NA</td><td>NA</td><td>NA</td><td>NA</td><td>NA</td><td>NA</td><td>NA</td><td>⋯</td><td>NA</td><td>NA</td><td>NA</td><td>NA</td><td>NA</td><td>NA</td><td>NA</td><td>NA</td><td>NA</td><td>NA</td></tr>\n",
              "\t<tr><td>NA</td><td>NA</td><td>NA</td><td>NA</td><td>NA</td><td>NA</td><td>NA</td><td>NA</td><td>NA</td><td>NA</td><td>⋯</td><td>NA</td><td>NA</td><td>NA</td><td>NA</td><td>NA</td><td>NA</td><td>NA</td><td>NA</td><td>NA</td><td>NA</td></tr>\n",
              "\t<tr><td>NA</td><td>NA</td><td>NA</td><td>NA</td><td>NA</td><td>NA</td><td>NA</td><td>NA</td><td>NA</td><td>NA</td><td>⋯</td><td>NA</td><td>NA</td><td>NA</td><td>NA</td><td>NA</td><td>NA</td><td>NA</td><td>NA</td><td>NA</td><td>NA</td></tr>\n",
              "</tbody>\n",
              "</table>\n"
            ],
            "text/markdown": "\nA matrix: 4 × 29 of type lgl\n\n| NA | NA | NA | NA | NA | NA | NA | NA | NA | NA | ⋯ | NA | NA | NA | NA | NA | NA | NA | NA | NA | NA |\n| NA | NA | NA | NA | NA | NA | NA | NA | NA | NA | ⋯ | NA | NA | NA | NA | NA | NA | NA | NA | NA | NA |\n| NA | NA | NA | NA | NA | NA | NA | NA | NA | NA | ⋯ | NA | NA | NA | NA | NA | NA | NA | NA | NA | NA |\n| NA | NA | NA | NA | NA | NA | NA | NA | NA | NA | ⋯ | NA | NA | NA | NA | NA | NA | NA | NA | NA | NA |\n\n",
            "text/latex": "A matrix: 4 × 29 of type lgl\n\\begin{tabular}{lllllllllllllllllllll}\n\t NA & NA & NA & NA & NA & NA & NA & NA & NA & NA & ⋯ & NA & NA & NA & NA & NA & NA & NA & NA & NA & NA\\\\\n\t NA & NA & NA & NA & NA & NA & NA & NA & NA & NA & ⋯ & NA & NA & NA & NA & NA & NA & NA & NA & NA & NA\\\\\n\t NA & NA & NA & NA & NA & NA & NA & NA & NA & NA & ⋯ & NA & NA & NA & NA & NA & NA & NA & NA & NA & NA\\\\\n\t NA & NA & NA & NA & NA & NA & NA & NA & NA & NA & ⋯ & NA & NA & NA & NA & NA & NA & NA & NA & NA & NA\\\\\n\\end{tabular}\n",
            "text/plain": [
              "     [,1] [,2] [,3] [,4] [,5] [,6] [,7] [,8] [,9] [,10] [,11] [,12] [,13] [,14]\n",
              "[1,] NA   NA   NA   NA   NA   NA   NA   NA   NA   NA    ⋯     NA    NA    NA   \n",
              "[2,] NA   NA   NA   NA   NA   NA   NA   NA   NA   NA    ⋯     NA    NA    NA   \n",
              "[3,] NA   NA   NA   NA   NA   NA   NA   NA   NA   NA    ⋯     NA    NA    NA   \n",
              "[4,] NA   NA   NA   NA   NA   NA   NA   NA   NA   NA    ⋯     NA    NA    NA   \n",
              "     [,15] [,16] [,17] [,18] [,19] [,20] [,21]\n",
              "[1,] NA    NA    NA    NA    NA    NA    NA   \n",
              "[2,] NA    NA    NA    NA    NA    NA    NA   \n",
              "[3,] NA    NA    NA    NA    NA    NA    NA   \n",
              "[4,] NA    NA    NA    NA    NA    NA    NA   "
            ]
          },
          "metadata": {}
        }
      ]
    },
    {
      "cell_type": "code",
      "source": [
        "#borrar el intercepto\n",
        "odd_change2<-odd_change[2:5]\n",
        "odd_change2"
      ],
      "metadata": {
        "colab": {
          "base_uri": "https://localhost:8080/",
          "height": 34
        },
        "id": "X_Bv5BikFIKB",
        "outputId": "17115494-d1f7-4f07-d76a-70af976036ec"
      },
      "execution_count": null,
      "outputs": [
        {
          "output_type": "display_data",
          "data": {
            "text/html": [
              "<style>\n",
              ".dl-inline {width: auto; margin:0; padding: 0}\n",
              ".dl-inline>dt, .dl-inline>dd {float: none; width: auto; display: inline-block}\n",
              ".dl-inline>dt::after {content: \":\\0020\"; padding-right: .5ex}\n",
              ".dl-inline>dt:not(:first-of-type) {padding-left: .5ex}\n",
              "</style><dl class=dl-inline><dt>Subsidio_agua</dt><dd>0.999931704292438</dd><dt>Tipo_jardin</dt><dd>1.70195422992666</dd><dt>Tiempo_en_ducha</dt><dd>0.842539721226044</dd><dt>Cantidad_de_veces_que_se_lava_loza</dt><dd>0.867767203001778</dd></dl>\n"
            ],
            "text/markdown": "Subsidio_agua\n:   0.999931704292438Tipo_jardin\n:   1.70195422992666Tiempo_en_ducha\n:   0.842539721226044Cantidad_de_veces_que_se_lava_loza\n:   0.867767203001778\n\n",
            "text/latex": "\\begin{description*}\n\\item[Subsidio\\textbackslash{}\\_agua] 0.999931704292438\n\\item[Tipo\\textbackslash{}\\_jardin] 1.70195422992666\n\\item[Tiempo\\textbackslash{}\\_en\\textbackslash{}\\_ducha] 0.842539721226044\n\\item[Cantidad\\textbackslash{}\\_de\\textbackslash{}\\_veces\\textbackslash{}\\_que\\textbackslash{}\\_se\\textbackslash{}\\_lava\\textbackslash{}\\_loza] 0.867767203001778\n\\end{description*}\n",
            "text/plain": [
              "                     Subsidio_agua                        Tipo_jardin \n",
              "                         0.9999317                          1.7019542 \n",
              "                   Tiempo_en_ducha Cantidad_de_veces_que_se_lava_loza \n",
              "                         0.8425397                          0.8677672 "
            ]
          },
          "metadata": {}
        }
      ]
    },
    {
      "cell_type": "code",
      "source": [
        "#guardar odd base y probabilidad base\n",
        "oddprueba[,11]<-oddbase\n",
        "probprueba[,11]<-oddprueba[,11]/(1+oddprueba[,11])\n",
        "oddprueba[,8:14]"
      ],
      "metadata": {
        "colab": {
          "base_uri": "https://localhost:8080/",
          "height": 160
        },
        "id": "w6ynlw93FQic",
        "outputId": "f3b1fa39-1cb2-4e40-d354-e8620841f6fc"
      },
      "execution_count": null,
      "outputs": [
        {
          "output_type": "display_data",
          "data": {
            "text/html": [
              "<table class=\"dataframe\">\n",
              "<caption>A matrix: 4 × 7 of type dbl</caption>\n",
              "<tbody>\n",
              "\t<tr><td>NA</td><td>NA</td><td>NA</td><td>1.165375</td><td>NA</td><td>NA</td><td>NA</td></tr>\n",
              "\t<tr><td>NA</td><td>NA</td><td>NA</td><td>1.165375</td><td>NA</td><td>NA</td><td>NA</td></tr>\n",
              "\t<tr><td>NA</td><td>NA</td><td>NA</td><td>1.165375</td><td>NA</td><td>NA</td><td>NA</td></tr>\n",
              "\t<tr><td>NA</td><td>NA</td><td>NA</td><td>1.165375</td><td>NA</td><td>NA</td><td>NA</td></tr>\n",
              "</tbody>\n",
              "</table>\n"
            ],
            "text/markdown": "\nA matrix: 4 × 7 of type dbl\n\n| NA | NA | NA | 1.165375 | NA | NA | NA |\n| NA | NA | NA | 1.165375 | NA | NA | NA |\n| NA | NA | NA | 1.165375 | NA | NA | NA |\n| NA | NA | NA | 1.165375 | NA | NA | NA |\n\n",
            "text/latex": "A matrix: 4 × 7 of type dbl\n\\begin{tabular}{lllllll}\n\t NA & NA & NA & 1.165375 & NA & NA & NA\\\\\n\t NA & NA & NA & 1.165375 & NA & NA & NA\\\\\n\t NA & NA & NA & 1.165375 & NA & NA & NA\\\\\n\t NA & NA & NA & 1.165375 & NA & NA & NA\\\\\n\\end{tabular}\n",
            "text/plain": [
              "     [,1] [,2] [,3] [,4]     [,5] [,6] [,7]\n",
              "[1,] NA   NA   NA   1.165375 NA   NA   NA  \n",
              "[2,] NA   NA   NA   1.165375 NA   NA   NA  \n",
              "[3,] NA   NA   NA   1.165375 NA   NA   NA  \n",
              "[4,] NA   NA   NA   1.165375 NA   NA   NA  "
            ]
          },
          "metadata": {}
        }
      ]
    },
    {
      "cell_type": "code",
      "source": [
        "#calcular odds y probabilidades 17 pasos adelante\n",
        "for (i in 12:29){\n",
        "  oddprueba[,i]<-oddprueba[,i-1]*odd_change2\n",
        "  probprueba[,i]<-oddprueba[,i]/(1+oddprueba[,i])\n",
        "}"
      ],
      "metadata": {
        "id": "fVBGOlkwFRmZ"
      },
      "execution_count": null,
      "outputs": []
    },
    {
      "cell_type": "code",
      "source": [
        "#y 10 atrás\n",
        "for (i in 10:1){\n",
        "  oddprueba[,i]<-oddprueba[,i+1]/odd_change2\n",
        "  probprueba[,i]<-oddprueba[,i]/(1+oddprueba[,i])\n",
        "}"
      ],
      "metadata": {
        "id": "wZeY4zKaFUtF"
      },
      "execution_count": null,
      "outputs": []
    },
    {
      "cell_type": "code",
      "source": [
        "oddprueba[,8:14]\n",
        "probprueba[,8:14]"
      ],
      "metadata": {
        "colab": {
          "base_uri": "https://localhost:8080/",
          "height": 302
        },
        "id": "eNKlKAhJFXdP",
        "outputId": "19d0a062-89e1-4dfd-8907-29051eabde7b"
      },
      "execution_count": null,
      "outputs": [
        {
          "output_type": "display_data",
          "data": {
            "text/html": [
              "<table class=\"dataframe\">\n",
              "<caption>A matrix: 4 × 7 of type dbl</caption>\n",
              "<tbody>\n",
              "\t<tr><td>1.1656135</td><td>1.1655339</td><td>1.1654543</td><td>1.165375</td><td>1.1652951</td><td>1.1652155</td><td>1.1651359</td></tr>\n",
              "\t<tr><td>0.2363861</td><td>0.4023183</td><td>0.6847274</td><td>1.165375</td><td>1.9834144</td><td>3.3756805</td><td>5.7452536</td></tr>\n",
              "\t<tr><td>1.9484731</td><td>1.6416660</td><td>1.3831688</td><td>1.165375</td><td>0.9818745</td><td>0.8272682</td><td>0.6970063</td></tr>\n",
              "\t<tr><td>1.7834292</td><td>1.5476014</td><td>1.3429577</td><td>1.165375</td><td>1.0112739</td><td>0.8775503</td><td>0.7615094</td></tr>\n",
              "</tbody>\n",
              "</table>\n"
            ],
            "text/markdown": "\nA matrix: 4 × 7 of type dbl\n\n| 1.1656135 | 1.1655339 | 1.1654543 | 1.165375 | 1.1652951 | 1.1652155 | 1.1651359 |\n| 0.2363861 | 0.4023183 | 0.6847274 | 1.165375 | 1.9834144 | 3.3756805 | 5.7452536 |\n| 1.9484731 | 1.6416660 | 1.3831688 | 1.165375 | 0.9818745 | 0.8272682 | 0.6970063 |\n| 1.7834292 | 1.5476014 | 1.3429577 | 1.165375 | 1.0112739 | 0.8775503 | 0.7615094 |\n\n",
            "text/latex": "A matrix: 4 × 7 of type dbl\n\\begin{tabular}{lllllll}\n\t 1.1656135 & 1.1655339 & 1.1654543 & 1.165375 & 1.1652951 & 1.1652155 & 1.1651359\\\\\n\t 0.2363861 & 0.4023183 & 0.6847274 & 1.165375 & 1.9834144 & 3.3756805 & 5.7452536\\\\\n\t 1.9484731 & 1.6416660 & 1.3831688 & 1.165375 & 0.9818745 & 0.8272682 & 0.6970063\\\\\n\t 1.7834292 & 1.5476014 & 1.3429577 & 1.165375 & 1.0112739 & 0.8775503 & 0.7615094\\\\\n\\end{tabular}\n",
            "text/plain": [
              "     [,1]      [,2]      [,3]      [,4]     [,5]      [,6]      [,7]     \n",
              "[1,] 1.1656135 1.1655339 1.1654543 1.165375 1.1652951 1.1652155 1.1651359\n",
              "[2,] 0.2363861 0.4023183 0.6847274 1.165375 1.9834144 3.3756805 5.7452536\n",
              "[3,] 1.9484731 1.6416660 1.3831688 1.165375 0.9818745 0.8272682 0.6970063\n",
              "[4,] 1.7834292 1.5476014 1.3429577 1.165375 1.0112739 0.8775503 0.7615094"
            ]
          },
          "metadata": {}
        },
        {
          "output_type": "display_data",
          "data": {
            "text/html": [
              "<table class=\"dataframe\">\n",
              "<caption>A matrix: 4 × 7 of type dbl</caption>\n",
              "<tbody>\n",
              "\t<tr><td>0.5382371</td><td>0.5382201</td><td>0.5382031</td><td>0.5381862</td><td>0.5381692</td><td>0.5381522</td><td>0.5381352</td></tr>\n",
              "\t<tr><td>0.1911912</td><td>0.2868952</td><td>0.4064322</td><td>0.5381862</td><td>0.6648136</td><td>0.7714641</td><td>0.8517476</td></tr>\n",
              "\t<tr><td>0.6608414</td><td>0.6214510</td><td>0.5803906</td><td>0.5381862</td><td>0.4954272</td><td>0.4527350</td><td>0.4107270</td></tr>\n",
              "\t<tr><td>0.6407309</td><td>0.6074739</td><td>0.5731891</td><td>0.5381862</td><td>0.5028027</td><td>0.4673911</td><td>0.4323050</td></tr>\n",
              "</tbody>\n",
              "</table>\n"
            ],
            "text/markdown": "\nA matrix: 4 × 7 of type dbl\n\n| 0.5382371 | 0.5382201 | 0.5382031 | 0.5381862 | 0.5381692 | 0.5381522 | 0.5381352 |\n| 0.1911912 | 0.2868952 | 0.4064322 | 0.5381862 | 0.6648136 | 0.7714641 | 0.8517476 |\n| 0.6608414 | 0.6214510 | 0.5803906 | 0.5381862 | 0.4954272 | 0.4527350 | 0.4107270 |\n| 0.6407309 | 0.6074739 | 0.5731891 | 0.5381862 | 0.5028027 | 0.4673911 | 0.4323050 |\n\n",
            "text/latex": "A matrix: 4 × 7 of type dbl\n\\begin{tabular}{lllllll}\n\t 0.5382371 & 0.5382201 & 0.5382031 & 0.5381862 & 0.5381692 & 0.5381522 & 0.5381352\\\\\n\t 0.1911912 & 0.2868952 & 0.4064322 & 0.5381862 & 0.6648136 & 0.7714641 & 0.8517476\\\\\n\t 0.6608414 & 0.6214510 & 0.5803906 & 0.5381862 & 0.4954272 & 0.4527350 & 0.4107270\\\\\n\t 0.6407309 & 0.6074739 & 0.5731891 & 0.5381862 & 0.5028027 & 0.4673911 & 0.4323050\\\\\n\\end{tabular}\n",
            "text/plain": [
              "     [,1]      [,2]      [,3]      [,4]      [,5]      [,6]      [,7]     \n",
              "[1,] 0.5382371 0.5382201 0.5382031 0.5381862 0.5381692 0.5381522 0.5381352\n",
              "[2,] 0.1911912 0.2868952 0.4064322 0.5381862 0.6648136 0.7714641 0.8517476\n",
              "[3,] 0.6608414 0.6214510 0.5803906 0.5381862 0.4954272 0.4527350 0.4107270\n",
              "[4,] 0.6407309 0.6074739 0.5731891 0.5381862 0.5028027 0.4673911 0.4323050"
            ]
          },
          "metadata": {}
        }
      ]
    },
    {
      "cell_type": "markdown",
      "source": [
        "**RTA : En la matriz se observa que al aumentar en 3 el número promedio de veces que se lava la loza diariamente, suponiendo que las demás variables no tienen ningún cambio, la probabilidad de Bono (dar una bonificacion) es de 0.4323050**\n",
        "\n",
        "- Prob Aumento 1 = 0.5028027\n",
        "- Prob Aumento 2 = 0.4673911\n",
        "- Prob Aumento 3 = 0.4323050"
      ],
      "metadata": {
        "id": "wun_xxJhaIFR"
      }
    },
    {
      "cell_type": "code",
      "source": [
        "steplogit$fitted.values"
      ],
      "metadata": {
        "colab": {
          "base_uri": "https://localhost:8080/",
          "height": 1000
        },
        "id": "uqiupF9YHLy8",
        "outputId": "a05fb882-4607-4fae-bfa0-a5c9e1f9d1cc"
      },
      "execution_count": null,
      "outputs": [
        {
          "output_type": "display_data",
          "data": {
            "text/html": [
              "<style>\n",
              ".dl-inline {width: auto; margin:0; padding: 0}\n",
              ".dl-inline>dt, .dl-inline>dd {float: none; width: auto; display: inline-block}\n",
              ".dl-inline>dt::after {content: \":\\0020\"; padding-right: .5ex}\n",
              ".dl-inline>dt:not(:first-of-type) {padding-left: .5ex}\n",
              "</style><dl class=dl-inline><dt>836</dt><dd>0.721730365767642</dd><dt>679</dt><dd>0.186295303045098</dd><dt>129</dt><dd>0.191262796069705</dd><dt>509</dt><dd>0.609022665779532</dd><dt>471</dt><dd>0.147357335194016</dd><dt>299</dt><dd>0.494941375106044</dd><dt>270</dt><dd>0.337588222000724</dd><dt>187</dt><dd>0.926091433848593</dd><dt>307</dt><dd>0.704954558308642</dd><dt>597</dt><dd>0.383215228432323</dd><dt>277</dt><dd>0.876631742595142</dd><dt>494</dt><dd>0.105355971808634</dd><dt>330</dt><dd>0.138322127606449</dd><dt>775</dt><dd>0.558662985496871</dd><dt>591</dt><dd>0.273944766944979</dd><dt>725</dt><dd>0.49403130365575</dd><dt>37</dt><dd>0.910234569088523</dd><dt>105</dt><dd>0.551958389399822</dd><dt>729</dt><dd>0.434032037617579</dd><dt>485</dt><dd>0.355217297798708</dd><dt>677</dt><dd>0.506260827710848</dd><dt>802</dt><dd>0.195025892357133</dd><dt>382</dt><dd>0.555832368431561</dd><dt>601</dt><dd>0.162182537448443</dd><dt>801</dt><dd>0.572992368791026</dd><dt>326</dt><dd>0.461343663205259</dd><dt>826</dt><dd>0.265746934974713</dd><dt>554</dt><dd>0.486918559481474</dd><dt>422</dt><dd>0.763927317797816</dd><dt>111</dt><dd>0.738583392731692</dd><dt>404</dt><dd>0.961627377382133</dd><dt>532</dt><dd>0.743667307661556</dd><dt>506</dt><dd>0.110631158459281</dd><dt>556</dt><dd>0.133426024856415</dd><dt>343</dt><dd>0.382672239316206</dd><dt>582</dt><dd>0.286374213732008</dd><dt>121</dt><dd>0.960636347969707</dd><dt>40</dt><dd>0.223183935755592</dd><dt>684</dt><dd>0.634748418705826</dd><dt>537</dt><dd>0.743667307661556</dd><dt>375</dt><dd>0.962716749051637</dd><dt>248</dt><dd>0.801785529444509</dd><dt>198</dt><dd>0.881047179583298</dd><dt>378</dt><dd>0.484823348443221</dd><dt>39</dt><dd>0.548206959574955</dd><dt>435</dt><dd>0.634951275142429</dd><dt>390</dt><dd>0.693248226669939</dd><dt>280</dt><dd>0.829672151051628</dd><dt>672</dt><dd>0.453966897363357</dd><dt>526</dt><dd>0.555646280464649</dd><dt>642</dt><dd>0.0544791261383664</dd><dt>45</dt><dd>0.560364393650826</dd><dt>402</dt><dd>0.743667307661556</dd><dt>22</dt><dd>0.952766173098189</dd><dt>718</dt><dd>0.436693146495263</dd><dt>742</dt><dd>0.362401057331218</dd><dt>193</dt><dd>0.793202226508321</dd><dt>371</dt><dd>0.564314777519683</dd><dt>499</dt><dd>0.0824734199887362</dd><dt>104</dt><dd>0.863862155264963</dd><dt>813</dt><dd>0.585985985826597</dd><dt>767</dt><dd>0.444052563739444</dd><dt>492</dt><dd>0.176537734427696</dd><dt>616</dt><dd>0.136140358567014</dd><dt>615</dt><dd>0.323634610851806</dd><dt>465</dt><dd>0.139020967594241</dd><dt>525</dt><dd>0.360593350728775</dd><dt>820</dt><dd>0.272407204322912</dd><dt>176</dt><dd>0.506260827710848</dd><dt>345</dt><dd>0.865195297638039</dd><dt>110</dt><dd>0.944300481450683</dd><dt>84</dt><dd>0.944300481450683</dd><dt>29</dt><dd>0.386519314332282</dd><dt>141</dt><dd>0.613541397466141</dd><dt>252</dt><dd>0.562309404805339</dd><dt>733</dt><dd>0.110145095691445</dd><dt>620</dt><dd>0.382949407337424</dd><dt>304</dt><dd>0.529553471172923</dd><dt>545</dt><dd>0.357646603140852</dd><dt>557</dt><dd>0.15246827212261</dd><dt>661</dt><dd>0.168880401696162</dd><dt>287</dt><dd>0.974109303059032</dd><dt>614</dt><dd>0.208544618666008</dd><dt>145</dt><dd>0.334353712943038</dd><dt>329</dt><dd>0.968684786905387</dd><dt>487</dt><dd>0.181870793203563</dd><dt>630</dt><dd>0.522554449457398</dd><dt>498</dt><dd>0.18674808835717</dd><dt>619</dt><dd>0.10834158277332</dd><dt>576</dt><dd>0.10755128240144</dd><dt>490</dt><dd>0.450937767667804</dd><dt>736</dt><dd>0.560870772375596</dd><dt>103</dt><dd>0.926201171071726</dd><dt>316</dt><dd>0.139962216930016</dd><dt>51</dt><dd>0.0590839542627331</dd><dt>763</dt><dd>0.118999471398415</dd><dt>290</dt><dd>0.642322952699547</dd><dt>650</dt><dd>0.278543133533918</dd><dt>838</dt><dd>0.531572351810766</dd><dt>282</dt><dd>0.872954399311817</dd><dt>143</dt><dd>0.982357174534443</dd><dt>442</dt><dd>0.507866977214371</dd><dt>285</dt><dd>0.91015494884479</dd><dt>682</dt><dd>0.238232122708855</dd><dt>48</dt><dd>0.849104984545342</dd><dt>501</dt><dd>0.609022665779532</dd><dt>716</dt><dd>0.417905043279526</dd><dt>511</dt><dd>0.163750719662427</dd><dt>295</dt><dd>0.0967407436063266</dd><dt>536</dt><dd>0.743667307661556</dd><dt>693</dt><dd>0.669869456908568</dd><dt>214</dt><dd>0.652619273906659</dd><dt>339</dt><dd>0.630982263615388</dd><dt>346</dt><dd>0.484823348443221</dd><dt>675</dt><dd>0.27197403207612</dd><dt>43</dt><dd>0.087730675253533</dd><dt>1</dt><dd>0.634951275142429</dd><dt>766</dt><dd>0.246499808894169</dd><dt>590</dt><dd>0.331589536694204</dd><dt>628</dt><dd>0.522554449457398</dd><dt>233</dt><dd>0.938187107535051</dd><dt>293</dt><dd>0.518908261137182</dd><dt>573</dt><dd>0.46554923953452</dd><dt>369</dt><dd>0.93431577961596</dd><dt>451</dt><dd>0.609022665779532</dd><dt>86</dt><dd>0.918447447467654</dd><dt>483</dt><dd>0.725073425605797</dd><dt>327</dt><dd>0.867930944887081</dd><dt>622</dt><dd>0.382949407337424</dd><dt>355</dt><dd>0.986761538490148</dd><dt>49</dt><dd>0.941130382315917</dd><dt>361</dt><dd>0.166085909553426</dd><dt>745</dt><dd>0.336641108635995</dd><dt>242</dt><dd>0.807341844481173</dd><dt>440</dt><dd>0.938187107535051</dd><dt>247</dt><dd>0.041318508089652</dd><dt>219</dt><dd>0.771192465668362</dd><dt>135</dt><dd>0.871880489911278</dd><dt>809</dt><dd>0.0711685878329656</dd><dt>807</dt><dd>0.31387323339656</dd><dt>377</dt><dd>0.109064335931504</dd><dt>408</dt><dd>0.96188193941876</dd><dt>744</dt><dd>0.0977496976357423</dd><dt>565</dt><dd>0.445639152924379</dd><dt>467</dt><dd>0.668931346065832</dd><dt>356</dt><dd>0.91015494884479</dd><dt>130</dt><dd>0.75168162335782</dd><dt>65</dt><dd>0.907850191455162</dd><dt>359</dt><dd>0.334353712943038</dd><dt>821</dt><dd>0.454704936464154</dd><dt>124</dt><dd>0.512870096830315</dd><dt>77</dt><dd>0.993565568186804</dd><dt>218</dt><dd>0.555832368431561</dd><dt>610</dt><dd>0.136140358567014</dd><dt>194</dt><dd>0.763696713486552</dd><dt>19</dt><dd>0.846892626352558</dd><dt>273</dt><dd>0.895759530510298</dd><dt>418</dt><dd>0.783942259963322</dd><dt>543</dt><dd>0.436299164910178</dd><dt>419</dt><dd>0.784333465753136</dd><dt>403</dt><dd>0.841884476887942</dd><dt>587</dt><dd>0.197129325644739</dd><dt>16</dt><dd>0.146270081823321</dd><dt>814</dt><dd>0.235727789405032</dd><dt>604</dt><dd>0.136140358567014</dd><dt>634</dt><dd>0.433816405650785</dd><dt>664</dt><dd>0.0995062897763877</dd><dt>138</dt><dd>0.300832947526712</dd><dt>500</dt><dd>0.0824734199887362</dd><dt>229</dt><dd>0.980967218129607</dd><dt>423</dt><dd>0.872954399311817</dd><dt>421</dt><dd>0.811328885944499</dd><dt>140</dt><dd>0.75168162335782</dd><dt>126</dt><dd>0.697022110025944</dd><dt>789</dt><dd>0.209512009820916</dd><dt>508</dt><dd>0.412608623285015</dd><dt>719</dt><dd>0.264716193820955</dd><dt>676</dt><dd>0.164820610505703</dd><dt>271</dt><dd>0.620293210228901</dd><dt>692</dt><dd>0.086719931918818</dd><dt>577</dt><dd>0.0535390427105863</dd><dt>512</dt><dd>0.328796245443704</dd><dt>714</dt><dd>0.159148748327895</dd><dt>504</dt><dd>0.110631158459281</dd><dt>457</dt><dd>0.28960965589169</dd><dt>358</dt><dd>0.778194129981513</dd><dt>127</dt><dd>0.564093057905725</dd><dt>645</dt><dd>0.391754147368656</dd><dt>41</dt><dd>0.980967218129607</dd><dt>548</dt><dd>0.229947344727981</dd><dt>305</dt><dd>0.624368105201748</dd><dt>413</dt><dd>0.604782387104292</dd><dt>749</dt><dd>0.563455931879685</dd><dt>740</dt><dd>0.620082035315336</dd><dt>309</dt><dd>0.824578296368886</dd><dt>441</dt><dd>0.84194565860228</dd><dt>117</dt><dd>0.804066926147563</dd><dt>644</dt><dd>0.177662632385454</dd><dt>470</dt><dd>0.214538548749575</dd><dt>756</dt><dd>0.257102920989519</dd><dt>562</dt><dd>⋯</dd><dt>336</dt><dd>0.0735196309506157</dd><dt>349</dt><dd>0.778194129981513</dd><dt>72</dt><dd>0.390498835690145</dd><dt>720</dt><dd>0.572213642109043</dd><dt>474</dt><dd>0.390584520184182</dd><dt>168</dt><dd>0.896816772009874</dd><dt>743</dt><dd>0.746963931531577</dd><dt>667</dt><dd>0.745745072382917</dd><dt>455</dt><dd>0.408305310596516</dd><dt>662</dt><dd>0.977940840726609</dd><dt>728</dt><dd>0.513828027682841</dd><dt>625</dt><dd>0.857414322136896</dd><dt>234</dt><dd>0.54168619855897</dd><dt>484</dt><dd>0.173220972467277</dd><dt>817</dt><dd>0.275288663563393</dd><dt>73</dt><dd>0.854270066048585</dd><dt>539</dt><dd>0.722750814829419</dd><dt>553</dt><dd>0.211304028763066</dd><dt>15</dt><dd>0.522554449457398</dd><dt>643</dt><dd>0.0790296550328877</dd><dt>294</dt><dd>0.920668276619346</dd><dt>62</dt><dd>0.936522189622904</dd><dt>792</dt><dd>0.788214420052103</dd><dt>35</dt><dd>0.829672151051628</dd><dt>381</dt><dd>0.348195835983081</dd><dt>687</dt><dd>0.177870404395161</dd><dt>689</dt><dd>0.274184924417766</dd><dt>711</dt><dd>0.993565568186804</dd><dt>31</dt><dd>0.773859538652655</dd><dt>549</dt><dd>0.460604308033251</dd><dt>28</dt><dd>0.826893641490333</dd><dt>825</dt><dd>0.452109353566281</dd><dt>148</dt><dd>0.572213642109043</dd><dt>652</dt><dd>0.172920536556442</dd><dt>572</dt><dd>0.941407638179939</dd><dt>284</dt><dd>0.846892626352558</dd><dt>334</dt><dd>0.609022665779532</dd><dt>609</dt><dd>0.957609582921808</dd><dt>268</dt><dd>0.837960272945242</dd><dt>93</dt><dd>0.428975225711567</dd><dt>637</dt><dd>0.886921501182622</dd><dt>300</dt><dd>0.979892188147076</dd><dt>739</dt><dd>0.689129294272788</dd><dt>241</dt><dd>0.48730616449755</dd><dt>33</dt><dd>0.634951275142429</dd><dt>437</dt><dd>0.424199305208012</dd><dt>788</dt><dd>0.923496277508501</dd><dt>713</dt><dd>0.580907408439071</dd><dt>217</dt><dd>0.611969867116773</dd><dt>108</dt><dd>0.541618224915195</dd><dt>660</dt><dd>0.980354183452417</dd><dt>832</dt><dd>0.310811083235298</dd><dt>209</dt><dd>0.0888611435497584</dd><dt>338</dt><dd>0.522232712698368</dd><dt>695</dt><dd>0.424199305208012</dd><dt>568</dt><dd>0.444950958965749</dd><dt>434</dt><dd>0.941130382315917</dd><dt>201</dt><dd>0.539827593913991</dd><dt>354</dt><dd>0.344596448596879</dd><dt>357</dt><dd>0.500903038939435</dd><dt>636</dt><dd>0.142634474645017</dd><dt>514</dt><dd>0.808520562081511</dd><dt>116</dt><dd>0.0507988466900947</dd><dt>810</dt><dd>0.341569602369967</dd><dt>784</dt><dd>0.285290028622258</dd><dt>818</dt><dd>0.276843945123705</dd><dt>439</dt><dd>0.979892188147076</dd><dt>197</dt><dd>0.466494360652143</dd><dt>220</dt><dd>0.431808812417727</dd><dt>462</dt><dd>0.263873334868064</dd><dt>833</dt><dd>0.745107537546654</dd><dt>235</dt><dd>0.751769417359771</dd><dt>513</dt><dd>0.246646568246037</dd><dt>633</dt><dd>0.687523971303806</dd><dt>173</dt><dd>0.125924883617331</dd><dt>83</dt><dd>0.968684786905387</dd><dt>564</dt><dd>0.212013982071169</dd><dt>407</dt><dd>0.118612051481556</dd><dt>324</dt><dd>0.216723414323621</dd><dt>185</dt><dd>0.722750814829419</dd><dt>180</dt><dd>0.560847377026863</dd><dt>464</dt><dd>0.251286433485787</dd><dt>493</dt><dd>0.0730850255457898</dd><dt>444</dt><dd>0.963634024016223</dd><dt>167</dt><dd>0.293766358048263</dd><dt>708</dt><dd>0.702235256442213</dd><dt>834</dt><dd>0.937330503139238</dd><dt>291</dt><dd>0.714322698255897</dd><dt>703</dt><dd>0.791584456013859</dd><dt>581</dt><dd>0.0590839542627331</dd><dt>706</dt><dd>0.959898513919574</dd><dt>823</dt><dd>0.300832947526712</dd><dt>546</dt><dd>0.94856197861544</dd><dt>56</dt><dd>0.0547236369806782</dd><dt>25</dt><dd>0.278843516958036</dd><dt>81</dt><dd>0.162674983044154</dd><dt>472</dt><dd>0.768470247857375</dd><dt>754</dt><dd>0.829672151051628</dd><dt>827</dt><dd>0.943755210266576</dd><dt>540</dt><dd>0.951024165338671</dd><dt>480</dt><dd>0.952798377786659</dd><dt>779</dt><dd>0.383312881349246</dd><dt>3</dt><dd>0.431948060203977</dd><dt>179</dt><dd>0.127054739628333</dd><dt>161</dt><dd>0.348195835983081</dd><dt>384</dt><dd>0.452109353566281</dd><dt>436</dt><dd>0.91015494884479</dd><dt>674</dt><dd>0.185796522856828</dd><dt>260</dt><dd>0.89420015794745</dd><dt>60</dt><dd>0.164647790587883</dd><dt>448</dt><dd>0.363132954406666</dd><dt>488</dt><dd>0.721483280274592</dd><dt>181</dt><dd>0.522554449457398</dd><dt>510</dt><dd>0.0627144408662181</dd><dt>133</dt><dd>0.928891084796514</dd><dt>428</dt><dd>0.244423234102204</dd><dt>698</dt><dd>0.483358682062381</dd><dt>279</dt><dd>0.172360831079363</dd><dt>550</dt><dd>0.544043098988538</dd><dt>798</dt><dd>0.872140417404004</dd><dt>605</dt><dd>0.753768806020294</dd><dt>150</dt><dd>0.426840541048234</dd><dt>623</dt><dd>0.783942259963322</dd><dt>169</dt><dd>0.216240892487811</dd><dt>694</dt><dd>0.256579260704375</dd><dt>588</dt><dd>0.040952909577787</dd><dt>255</dt><dd>0.522232712698368</dd><dt>18</dt><dd>0.148135296148886</dd><dt>44</dt><dd>0.914977184900621</dd><dt>668</dt><dd>0.337588222000724</dd><dt>747</dt><dd>0.63411358831129</dd><dt>91</dt><dd>0.90592711288206</dd><dt>164</dt><dd>0.572213642109043</dd><dt>32</dt><dd>0.0663501776490213</dd><dt>479</dt><dd>0.436030099957047</dd><dt>696</dt><dd>0.518000599498569</dd><dt>119</dt><dd>0.888602301413579</dd><dt>773</dt><dd>0.906391502356908</dd><dt>669</dt><dd>0.830440192379441</dd><dt>502</dt><dd>0.352594905715493</dd><dt>608</dt><dd>0.540460168049869</dd><dt>613</dt><dd>0.59546691341297</dd><dt>531</dt><dd>0.0514766079874584</dd><dt>89</dt><dd>0.411360805767062</dd><dt>654</dt><dd>0.563232515664259</dd><dt>405</dt><dd>0.813735658788486</dd><dt>21</dt><dd>0.560957516060071</dd><dt>79</dt><dd>0.526387196624932</dd><dt>781</dt><dd>0.530526692265004</dd><dt>578</dt><dd>0.815230448594239</dd><dt>192</dt><dd>0.807341844481173</dd><dt>541</dt><dd>0.923343326098373</dd><dt>815</dt><dd>0.938187107535051</dd><dt>71</dt><dd>0.223183935755592</dd><dt>699</dt><dd>0.490165842882907</dd><dt>315</dt><dd>0.559901422522965</dd><dt>702</dt><dd>0.166085909553426</dd><dt>760</dt><dd>0.400453399578957</dd><dt>414</dt><dd>0.42253630485284</dd><dt>58</dt><dd>0.800283376391063</dd><dt>603</dt><dd>0.960367830831568</dd><dt>114</dt><dd>0.250362012428993</dd><dt>320</dt><dd>0.59546691341297</dd><dt>774</dt><dd>0.689129294272788</dd><dt>34</dt><dd>0.855542641905839</dd><dt>828</dt><dd>0.949011147448441</dd><dt>722</dt><dd>0.356426262332947</dd><dt>735</dt><dd>0.513595027799629</dd><dt>205</dt><dd>0.948001184034301</dd><dt>606</dt><dd>0.414523308704207</dd><dt>824</dt><dd>0.263013928651539</dd><dt>301</dt><dd>0.340817972834272</dd><dt>632</dt><dd>0.855542641905839</dd><dt>322</dt><dd>0.177870404395161</dd><dt>741</dt><dd>0.412718371777655</dd><dt>515</dt><dd>0.0671357536718237</dd><dt>392</dt><dd>0.97778397711253</dd><dt>797</dt><dd>0.0820797526179928</dd><dt>281</dt><dd>0.725318232796579</dd><dt>808</dt><dd>0.559901422522965</dd><dt>238</dt><dd>0.949011147448441</dd><dt>122</dt><dd>0.342900913973469</dd><dt>212</dt><dd>0.943589039439598</dd><dt>5</dt><dd>0.743667307661556</dd><dt>812</dt><dd>0.950927163901227</dd><dt>20</dt><dd>0.743667307661556</dd><dt>183</dt><dd>0.535940251243862</dd><dt>544</dt><dd>0.246646568246037</dd><dt>748</dt><dd>0.854270066048585</dd><dt>647</dt><dd>0.949241817972124</dd><dt>2</dt><dd>0.386524395850431</dd><dt>385</dt><dd>0.591595977943292</dd><dt>547</dt><dd>0.370970484113733</dd><dt>69</dt><dd>0.88829026154411</dd><dt>478</dt><dd>0.949460628230004</dd><dt>780</dt><dd>0.935835844328118</dd><dt>296</dt><dd>0.664812796090624</dd><dt>765</dt><dd>0.382949407337424</dd><dt>459</dt><dd>0.820763432792879</dd><dt>132</dt><dd>0.20415294286307</dd></dl>\n"
            ],
            "text/markdown": "836\n:   0.721730365767642679\n:   0.186295303045098129\n:   0.191262796069705509\n:   0.609022665779532471\n:   0.147357335194016299\n:   0.494941375106044270\n:   0.337588222000724187\n:   0.926091433848593307\n:   0.704954558308642597\n:   0.383215228432323277\n:   0.876631742595142494\n:   0.105355971808634330\n:   0.138322127606449775\n:   0.558662985496871591\n:   0.273944766944979725\n:   0.4940313036557537\n:   0.910234569088523105\n:   0.551958389399822729\n:   0.434032037617579485\n:   0.355217297798708677\n:   0.506260827710848802\n:   0.195025892357133382\n:   0.555832368431561601\n:   0.162182537448443801\n:   0.572992368791026326\n:   0.461343663205259826\n:   0.265746934974713554\n:   0.486918559481474422\n:   0.763927317797816111\n:   0.738583392731692404\n:   0.961627377382133532\n:   0.743667307661556506\n:   0.110631158459281556\n:   0.133426024856415343\n:   0.382672239316206582\n:   0.286374213732008121\n:   0.96063634796970740\n:   0.223183935755592684\n:   0.634748418705826537\n:   0.743667307661556375\n:   0.962716749051637248\n:   0.801785529444509198\n:   0.881047179583298378\n:   0.48482334844322139\n:   0.548206959574955435\n:   0.634951275142429390\n:   0.693248226669939280\n:   0.829672151051628672\n:   0.453966897363357526\n:   0.555646280464649642\n:   0.054479126138366445\n:   0.560364393650826402\n:   0.74366730766155622\n:   0.952766173098189718\n:   0.436693146495263742\n:   0.362401057331218193\n:   0.793202226508321371\n:   0.564314777519683499\n:   0.0824734199887362104\n:   0.863862155264963813\n:   0.585985985826597767\n:   0.444052563739444492\n:   0.176537734427696616\n:   0.136140358567014615\n:   0.323634610851806465\n:   0.139020967594241525\n:   0.360593350728775820\n:   0.272407204322912176\n:   0.506260827710848345\n:   0.865195297638039110\n:   0.94430048145068384\n:   0.94430048145068329\n:   0.386519314332282141\n:   0.613541397466141252\n:   0.562309404805339733\n:   0.110145095691445620\n:   0.382949407337424304\n:   0.529553471172923545\n:   0.357646603140852557\n:   0.15246827212261661\n:   0.168880401696162287\n:   0.974109303059032614\n:   0.208544618666008145\n:   0.334353712943038329\n:   0.968684786905387487\n:   0.181870793203563630\n:   0.522554449457398498\n:   0.18674808835717619\n:   0.10834158277332576\n:   0.10755128240144490\n:   0.450937767667804736\n:   0.560870772375596103\n:   0.926201171071726316\n:   0.13996221693001651\n:   0.0590839542627331763\n:   0.118999471398415290\n:   0.642322952699547650\n:   0.278543133533918838\n:   0.531572351810766282\n:   0.872954399311817143\n:   0.982357174534443442\n:   0.507866977214371285\n:   0.91015494884479682\n:   0.23823212270885548\n:   0.849104984545342501\n:   0.609022665779532716\n:   0.417905043279526511\n:   0.163750719662427295\n:   0.0967407436063266536\n:   0.743667307661556693\n:   0.669869456908568214\n:   0.652619273906659339\n:   0.630982263615388346\n:   0.484823348443221675\n:   0.2719740320761243\n:   0.0877306752535331\n:   0.634951275142429766\n:   0.246499808894169590\n:   0.331589536694204628\n:   0.522554449457398233\n:   0.938187107535051293\n:   0.518908261137182573\n:   0.46554923953452369\n:   0.93431577961596451\n:   0.60902266577953286\n:   0.918447447467654483\n:   0.725073425605797327\n:   0.867930944887081622\n:   0.382949407337424355\n:   0.98676153849014849\n:   0.941130382315917361\n:   0.166085909553426745\n:   0.336641108635995242\n:   0.807341844481173440\n:   0.938187107535051247\n:   0.041318508089652219\n:   0.771192465668362135\n:   0.871880489911278809\n:   0.0711685878329656807\n:   0.31387323339656377\n:   0.109064335931504408\n:   0.96188193941876744\n:   0.0977496976357423565\n:   0.445639152924379467\n:   0.668931346065832356\n:   0.91015494884479130\n:   0.7516816233578265\n:   0.907850191455162359\n:   0.334353712943038821\n:   0.454704936464154124\n:   0.51287009683031577\n:   0.993565568186804218\n:   0.555832368431561610\n:   0.136140358567014194\n:   0.76369671348655219\n:   0.846892626352558273\n:   0.895759530510298418\n:   0.783942259963322543\n:   0.436299164910178419\n:   0.784333465753136403\n:   0.841884476887942587\n:   0.19712932564473916\n:   0.146270081823321814\n:   0.235727789405032604\n:   0.136140358567014634\n:   0.433816405650785664\n:   0.0995062897763877138\n:   0.300832947526712500\n:   0.0824734199887362229\n:   0.980967218129607423\n:   0.872954399311817421\n:   0.811328885944499140\n:   0.75168162335782126\n:   0.697022110025944789\n:   0.209512009820916508\n:   0.412608623285015719\n:   0.264716193820955676\n:   0.164820610505703271\n:   0.620293210228901692\n:   0.086719931918818577\n:   0.0535390427105863512\n:   0.328796245443704714\n:   0.159148748327895504\n:   0.110631158459281457\n:   0.28960965589169358\n:   0.778194129981513127\n:   0.564093057905725645\n:   0.39175414736865641\n:   0.980967218129607548\n:   0.229947344727981305\n:   0.624368105201748413\n:   0.604782387104292749\n:   0.563455931879685740\n:   0.620082035315336309\n:   0.824578296368886441\n:   0.84194565860228117\n:   0.804066926147563644\n:   0.177662632385454470\n:   0.214538548749575756\n:   0.257102920989519562\n:   ⋯336\n:   0.0735196309506157349\n:   0.77819412998151372\n:   0.390498835690145720\n:   0.572213642109043474\n:   0.390584520184182168\n:   0.896816772009874743\n:   0.746963931531577667\n:   0.745745072382917455\n:   0.408305310596516662\n:   0.977940840726609728\n:   0.513828027682841625\n:   0.857414322136896234\n:   0.54168619855897484\n:   0.173220972467277817\n:   0.27528866356339373\n:   0.854270066048585539\n:   0.722750814829419553\n:   0.21130402876306615\n:   0.522554449457398643\n:   0.0790296550328877294\n:   0.92066827661934662\n:   0.936522189622904792\n:   0.78821442005210335\n:   0.829672151051628381\n:   0.348195835983081687\n:   0.177870404395161689\n:   0.274184924417766711\n:   0.99356556818680431\n:   0.773859538652655549\n:   0.46060430803325128\n:   0.826893641490333825\n:   0.452109353566281148\n:   0.572213642109043652\n:   0.172920536556442572\n:   0.941407638179939284\n:   0.846892626352558334\n:   0.609022665779532609\n:   0.957609582921808268\n:   0.83796027294524293\n:   0.428975225711567637\n:   0.886921501182622300\n:   0.979892188147076739\n:   0.689129294272788241\n:   0.4873061644975533\n:   0.634951275142429437\n:   0.424199305208012788\n:   0.923496277508501713\n:   0.580907408439071217\n:   0.611969867116773108\n:   0.541618224915195660\n:   0.980354183452417832\n:   0.310811083235298209\n:   0.0888611435497584338\n:   0.522232712698368695\n:   0.424199305208012568\n:   0.444950958965749434\n:   0.941130382315917201\n:   0.539827593913991354\n:   0.344596448596879357\n:   0.500903038939435636\n:   0.142634474645017514\n:   0.808520562081511116\n:   0.0507988466900947810\n:   0.341569602369967784\n:   0.285290028622258818\n:   0.276843945123705439\n:   0.979892188147076197\n:   0.466494360652143220\n:   0.431808812417727462\n:   0.263873334868064833\n:   0.745107537546654235\n:   0.751769417359771513\n:   0.246646568246037633\n:   0.687523971303806173\n:   0.12592488361733183\n:   0.968684786905387564\n:   0.212013982071169407\n:   0.118612051481556324\n:   0.216723414323621185\n:   0.722750814829419180\n:   0.560847377026863464\n:   0.251286433485787493\n:   0.0730850255457898444\n:   0.963634024016223167\n:   0.293766358048263708\n:   0.702235256442213834\n:   0.937330503139238291\n:   0.714322698255897703\n:   0.791584456013859581\n:   0.0590839542627331706\n:   0.959898513919574823\n:   0.300832947526712546\n:   0.9485619786154456\n:   0.054723636980678225\n:   0.27884351695803681\n:   0.162674983044154472\n:   0.768470247857375754\n:   0.829672151051628827\n:   0.943755210266576540\n:   0.951024165338671480\n:   0.952798377786659779\n:   0.3833128813492463\n:   0.431948060203977179\n:   0.127054739628333161\n:   0.348195835983081384\n:   0.452109353566281436\n:   0.91015494884479674\n:   0.185796522856828260\n:   0.8942001579474560\n:   0.164647790587883448\n:   0.363132954406666488\n:   0.721483280274592181\n:   0.522554449457398510\n:   0.0627144408662181133\n:   0.928891084796514428\n:   0.244423234102204698\n:   0.483358682062381279\n:   0.172360831079363550\n:   0.544043098988538798\n:   0.872140417404004605\n:   0.753768806020294150\n:   0.426840541048234623\n:   0.783942259963322169\n:   0.216240892487811694\n:   0.256579260704375588\n:   0.040952909577787255\n:   0.52223271269836818\n:   0.14813529614888644\n:   0.914977184900621668\n:   0.337588222000724747\n:   0.6341135883112991\n:   0.90592711288206164\n:   0.57221364210904332\n:   0.0663501776490213479\n:   0.436030099957047696\n:   0.518000599498569119\n:   0.888602301413579773\n:   0.906391502356908669\n:   0.830440192379441502\n:   0.352594905715493608\n:   0.540460168049869613\n:   0.59546691341297531\n:   0.051476607987458489\n:   0.411360805767062654\n:   0.563232515664259405\n:   0.81373565878848621\n:   0.56095751606007179\n:   0.526387196624932781\n:   0.530526692265004578\n:   0.815230448594239192\n:   0.807341844481173541\n:   0.923343326098373815\n:   0.93818710753505171\n:   0.223183935755592699\n:   0.490165842882907315\n:   0.559901422522965702\n:   0.166085909553426760\n:   0.400453399578957414\n:   0.4225363048528458\n:   0.800283376391063603\n:   0.960367830831568114\n:   0.250362012428993320\n:   0.59546691341297774\n:   0.68912929427278834\n:   0.855542641905839828\n:   0.949011147448441722\n:   0.356426262332947735\n:   0.513595027799629205\n:   0.948001184034301606\n:   0.414523308704207824\n:   0.263013928651539301\n:   0.340817972834272632\n:   0.855542641905839322\n:   0.177870404395161741\n:   0.412718371777655515\n:   0.0671357536718237392\n:   0.97778397711253797\n:   0.0820797526179928281\n:   0.725318232796579808\n:   0.559901422522965238\n:   0.949011147448441122\n:   0.342900913973469212\n:   0.9435890394395985\n:   0.743667307661556812\n:   0.95092716390122720\n:   0.743667307661556183\n:   0.535940251243862544\n:   0.246646568246037748\n:   0.854270066048585647\n:   0.9492418179721242\n:   0.386524395850431385\n:   0.591595977943292547\n:   0.37097048411373369\n:   0.88829026154411478\n:   0.949460628230004780\n:   0.935835844328118296\n:   0.664812796090624765\n:   0.382949407337424459\n:   0.820763432792879132\n:   0.20415294286307\n\n",
            "text/latex": "\\begin{description*}\n\\item[836] 0.721730365767642\n\\item[679] 0.186295303045098\n\\item[129] 0.191262796069705\n\\item[509] 0.609022665779532\n\\item[471] 0.147357335194016\n\\item[299] 0.494941375106044\n\\item[270] 0.337588222000724\n\\item[187] 0.926091433848593\n\\item[307] 0.704954558308642\n\\item[597] 0.383215228432323\n\\item[277] 0.876631742595142\n\\item[494] 0.105355971808634\n\\item[330] 0.138322127606449\n\\item[775] 0.558662985496871\n\\item[591] 0.273944766944979\n\\item[725] 0.49403130365575\n\\item[37] 0.910234569088523\n\\item[105] 0.551958389399822\n\\item[729] 0.434032037617579\n\\item[485] 0.355217297798708\n\\item[677] 0.506260827710848\n\\item[802] 0.195025892357133\n\\item[382] 0.555832368431561\n\\item[601] 0.162182537448443\n\\item[801] 0.572992368791026\n\\item[326] 0.461343663205259\n\\item[826] 0.265746934974713\n\\item[554] 0.486918559481474\n\\item[422] 0.763927317797816\n\\item[111] 0.738583392731692\n\\item[404] 0.961627377382133\n\\item[532] 0.743667307661556\n\\item[506] 0.110631158459281\n\\item[556] 0.133426024856415\n\\item[343] 0.382672239316206\n\\item[582] 0.286374213732008\n\\item[121] 0.960636347969707\n\\item[40] 0.223183935755592\n\\item[684] 0.634748418705826\n\\item[537] 0.743667307661556\n\\item[375] 0.962716749051637\n\\item[248] 0.801785529444509\n\\item[198] 0.881047179583298\n\\item[378] 0.484823348443221\n\\item[39] 0.548206959574955\n\\item[435] 0.634951275142429\n\\item[390] 0.693248226669939\n\\item[280] 0.829672151051628\n\\item[672] 0.453966897363357\n\\item[526] 0.555646280464649\n\\item[642] 0.0544791261383664\n\\item[45] 0.560364393650826\n\\item[402] 0.743667307661556\n\\item[22] 0.952766173098189\n\\item[718] 0.436693146495263\n\\item[742] 0.362401057331218\n\\item[193] 0.793202226508321\n\\item[371] 0.564314777519683\n\\item[499] 0.0824734199887362\n\\item[104] 0.863862155264963\n\\item[813] 0.585985985826597\n\\item[767] 0.444052563739444\n\\item[492] 0.176537734427696\n\\item[616] 0.136140358567014\n\\item[615] 0.323634610851806\n\\item[465] 0.139020967594241\n\\item[525] 0.360593350728775\n\\item[820] 0.272407204322912\n\\item[176] 0.506260827710848\n\\item[345] 0.865195297638039\n\\item[110] 0.944300481450683\n\\item[84] 0.944300481450683\n\\item[29] 0.386519314332282\n\\item[141] 0.613541397466141\n\\item[252] 0.562309404805339\n\\item[733] 0.110145095691445\n\\item[620] 0.382949407337424\n\\item[304] 0.529553471172923\n\\item[545] 0.357646603140852\n\\item[557] 0.15246827212261\n\\item[661] 0.168880401696162\n\\item[287] 0.974109303059032\n\\item[614] 0.208544618666008\n\\item[145] 0.334353712943038\n\\item[329] 0.968684786905387\n\\item[487] 0.181870793203563\n\\item[630] 0.522554449457398\n\\item[498] 0.18674808835717\n\\item[619] 0.10834158277332\n\\item[576] 0.10755128240144\n\\item[490] 0.450937767667804\n\\item[736] 0.560870772375596\n\\item[103] 0.926201171071726\n\\item[316] 0.139962216930016\n\\item[51] 0.0590839542627331\n\\item[763] 0.118999471398415\n\\item[290] 0.642322952699547\n\\item[650] 0.278543133533918\n\\item[838] 0.531572351810766\n\\item[282] 0.872954399311817\n\\item[143] 0.982357174534443\n\\item[442] 0.507866977214371\n\\item[285] 0.91015494884479\n\\item[682] 0.238232122708855\n\\item[48] 0.849104984545342\n\\item[501] 0.609022665779532\n\\item[716] 0.417905043279526\n\\item[511] 0.163750719662427\n\\item[295] 0.0967407436063266\n\\item[536] 0.743667307661556\n\\item[693] 0.669869456908568\n\\item[214] 0.652619273906659\n\\item[339] 0.630982263615388\n\\item[346] 0.484823348443221\n\\item[675] 0.27197403207612\n\\item[43] 0.087730675253533\n\\item[1] 0.634951275142429\n\\item[766] 0.246499808894169\n\\item[590] 0.331589536694204\n\\item[628] 0.522554449457398\n\\item[233] 0.938187107535051\n\\item[293] 0.518908261137182\n\\item[573] 0.46554923953452\n\\item[369] 0.93431577961596\n\\item[451] 0.609022665779532\n\\item[86] 0.918447447467654\n\\item[483] 0.725073425605797\n\\item[327] 0.867930944887081\n\\item[622] 0.382949407337424\n\\item[355] 0.986761538490148\n\\item[49] 0.941130382315917\n\\item[361] 0.166085909553426\n\\item[745] 0.336641108635995\n\\item[242] 0.807341844481173\n\\item[440] 0.938187107535051\n\\item[247] 0.041318508089652\n\\item[219] 0.771192465668362\n\\item[135] 0.871880489911278\n\\item[809] 0.0711685878329656\n\\item[807] 0.31387323339656\n\\item[377] 0.109064335931504\n\\item[408] 0.96188193941876\n\\item[744] 0.0977496976357423\n\\item[565] 0.445639152924379\n\\item[467] 0.668931346065832\n\\item[356] 0.91015494884479\n\\item[130] 0.75168162335782\n\\item[65] 0.907850191455162\n\\item[359] 0.334353712943038\n\\item[821] 0.454704936464154\n\\item[124] 0.512870096830315\n\\item[77] 0.993565568186804\n\\item[218] 0.555832368431561\n\\item[610] 0.136140358567014\n\\item[194] 0.763696713486552\n\\item[19] 0.846892626352558\n\\item[273] 0.895759530510298\n\\item[418] 0.783942259963322\n\\item[543] 0.436299164910178\n\\item[419] 0.784333465753136\n\\item[403] 0.841884476887942\n\\item[587] 0.197129325644739\n\\item[16] 0.146270081823321\n\\item[814] 0.235727789405032\n\\item[604] 0.136140358567014\n\\item[634] 0.433816405650785\n\\item[664] 0.0995062897763877\n\\item[138] 0.300832947526712\n\\item[500] 0.0824734199887362\n\\item[229] 0.980967218129607\n\\item[423] 0.872954399311817\n\\item[421] 0.811328885944499\n\\item[140] 0.75168162335782\n\\item[126] 0.697022110025944\n\\item[789] 0.209512009820916\n\\item[508] 0.412608623285015\n\\item[719] 0.264716193820955\n\\item[676] 0.164820610505703\n\\item[271] 0.620293210228901\n\\item[692] 0.086719931918818\n\\item[577] 0.0535390427105863\n\\item[512] 0.328796245443704\n\\item[714] 0.159148748327895\n\\item[504] 0.110631158459281\n\\item[457] 0.28960965589169\n\\item[358] 0.778194129981513\n\\item[127] 0.564093057905725\n\\item[645] 0.391754147368656\n\\item[41] 0.980967218129607\n\\item[548] 0.229947344727981\n\\item[305] 0.624368105201748\n\\item[413] 0.604782387104292\n\\item[749] 0.563455931879685\n\\item[740] 0.620082035315336\n\\item[309] 0.824578296368886\n\\item[441] 0.84194565860228\n\\item[117] 0.804066926147563\n\\item[644] 0.177662632385454\n\\item[470] 0.214538548749575\n\\item[756] 0.257102920989519\n\\item[562] ⋯\n\\item[336] 0.0735196309506157\n\\item[349] 0.778194129981513\n\\item[72] 0.390498835690145\n\\item[720] 0.572213642109043\n\\item[474] 0.390584520184182\n\\item[168] 0.896816772009874\n\\item[743] 0.746963931531577\n\\item[667] 0.745745072382917\n\\item[455] 0.408305310596516\n\\item[662] 0.977940840726609\n\\item[728] 0.513828027682841\n\\item[625] 0.857414322136896\n\\item[234] 0.54168619855897\n\\item[484] 0.173220972467277\n\\item[817] 0.275288663563393\n\\item[73] 0.854270066048585\n\\item[539] 0.722750814829419\n\\item[553] 0.211304028763066\n\\item[15] 0.522554449457398\n\\item[643] 0.0790296550328877\n\\item[294] 0.920668276619346\n\\item[62] 0.936522189622904\n\\item[792] 0.788214420052103\n\\item[35] 0.829672151051628\n\\item[381] 0.348195835983081\n\\item[687] 0.177870404395161\n\\item[689] 0.274184924417766\n\\item[711] 0.993565568186804\n\\item[31] 0.773859538652655\n\\item[549] 0.460604308033251\n\\item[28] 0.826893641490333\n\\item[825] 0.452109353566281\n\\item[148] 0.572213642109043\n\\item[652] 0.172920536556442\n\\item[572] 0.941407638179939\n\\item[284] 0.846892626352558\n\\item[334] 0.609022665779532\n\\item[609] 0.957609582921808\n\\item[268] 0.837960272945242\n\\item[93] 0.428975225711567\n\\item[637] 0.886921501182622\n\\item[300] 0.979892188147076\n\\item[739] 0.689129294272788\n\\item[241] 0.48730616449755\n\\item[33] 0.634951275142429\n\\item[437] 0.424199305208012\n\\item[788] 0.923496277508501\n\\item[713] 0.580907408439071\n\\item[217] 0.611969867116773\n\\item[108] 0.541618224915195\n\\item[660] 0.980354183452417\n\\item[832] 0.310811083235298\n\\item[209] 0.0888611435497584\n\\item[338] 0.522232712698368\n\\item[695] 0.424199305208012\n\\item[568] 0.444950958965749\n\\item[434] 0.941130382315917\n\\item[201] 0.539827593913991\n\\item[354] 0.344596448596879\n\\item[357] 0.500903038939435\n\\item[636] 0.142634474645017\n\\item[514] 0.808520562081511\n\\item[116] 0.0507988466900947\n\\item[810] 0.341569602369967\n\\item[784] 0.285290028622258\n\\item[818] 0.276843945123705\n\\item[439] 0.979892188147076\n\\item[197] 0.466494360652143\n\\item[220] 0.431808812417727\n\\item[462] 0.263873334868064\n\\item[833] 0.745107537546654\n\\item[235] 0.751769417359771\n\\item[513] 0.246646568246037\n\\item[633] 0.687523971303806\n\\item[173] 0.125924883617331\n\\item[83] 0.968684786905387\n\\item[564] 0.212013982071169\n\\item[407] 0.118612051481556\n\\item[324] 0.216723414323621\n\\item[185] 0.722750814829419\n\\item[180] 0.560847377026863\n\\item[464] 0.251286433485787\n\\item[493] 0.0730850255457898\n\\item[444] 0.963634024016223\n\\item[167] 0.293766358048263\n\\item[708] 0.702235256442213\n\\item[834] 0.937330503139238\n\\item[291] 0.714322698255897\n\\item[703] 0.791584456013859\n\\item[581] 0.0590839542627331\n\\item[706] 0.959898513919574\n\\item[823] 0.300832947526712\n\\item[546] 0.94856197861544\n\\item[56] 0.0547236369806782\n\\item[25] 0.278843516958036\n\\item[81] 0.162674983044154\n\\item[472] 0.768470247857375\n\\item[754] 0.829672151051628\n\\item[827] 0.943755210266576\n\\item[540] 0.951024165338671\n\\item[480] 0.952798377786659\n\\item[779] 0.383312881349246\n\\item[3] 0.431948060203977\n\\item[179] 0.127054739628333\n\\item[161] 0.348195835983081\n\\item[384] 0.452109353566281\n\\item[436] 0.91015494884479\n\\item[674] 0.185796522856828\n\\item[260] 0.89420015794745\n\\item[60] 0.164647790587883\n\\item[448] 0.363132954406666\n\\item[488] 0.721483280274592\n\\item[181] 0.522554449457398\n\\item[510] 0.0627144408662181\n\\item[133] 0.928891084796514\n\\item[428] 0.244423234102204\n\\item[698] 0.483358682062381\n\\item[279] 0.172360831079363\n\\item[550] 0.544043098988538\n\\item[798] 0.872140417404004\n\\item[605] 0.753768806020294\n\\item[150] 0.426840541048234\n\\item[623] 0.783942259963322\n\\item[169] 0.216240892487811\n\\item[694] 0.256579260704375\n\\item[588] 0.040952909577787\n\\item[255] 0.522232712698368\n\\item[18] 0.148135296148886\n\\item[44] 0.914977184900621\n\\item[668] 0.337588222000724\n\\item[747] 0.63411358831129\n\\item[91] 0.90592711288206\n\\item[164] 0.572213642109043\n\\item[32] 0.0663501776490213\n\\item[479] 0.436030099957047\n\\item[696] 0.518000599498569\n\\item[119] 0.888602301413579\n\\item[773] 0.906391502356908\n\\item[669] 0.830440192379441\n\\item[502] 0.352594905715493\n\\item[608] 0.540460168049869\n\\item[613] 0.59546691341297\n\\item[531] 0.0514766079874584\n\\item[89] 0.411360805767062\n\\item[654] 0.563232515664259\n\\item[405] 0.813735658788486\n\\item[21] 0.560957516060071\n\\item[79] 0.526387196624932\n\\item[781] 0.530526692265004\n\\item[578] 0.815230448594239\n\\item[192] 0.807341844481173\n\\item[541] 0.923343326098373\n\\item[815] 0.938187107535051\n\\item[71] 0.223183935755592\n\\item[699] 0.490165842882907\n\\item[315] 0.559901422522965\n\\item[702] 0.166085909553426\n\\item[760] 0.400453399578957\n\\item[414] 0.42253630485284\n\\item[58] 0.800283376391063\n\\item[603] 0.960367830831568\n\\item[114] 0.250362012428993\n\\item[320] 0.59546691341297\n\\item[774] 0.689129294272788\n\\item[34] 0.855542641905839\n\\item[828] 0.949011147448441\n\\item[722] 0.356426262332947\n\\item[735] 0.513595027799629\n\\item[205] 0.948001184034301\n\\item[606] 0.414523308704207\n\\item[824] 0.263013928651539\n\\item[301] 0.340817972834272\n\\item[632] 0.855542641905839\n\\item[322] 0.177870404395161\n\\item[741] 0.412718371777655\n\\item[515] 0.0671357536718237\n\\item[392] 0.97778397711253\n\\item[797] 0.0820797526179928\n\\item[281] 0.725318232796579\n\\item[808] 0.559901422522965\n\\item[238] 0.949011147448441\n\\item[122] 0.342900913973469\n\\item[212] 0.943589039439598\n\\item[5] 0.743667307661556\n\\item[812] 0.950927163901227\n\\item[20] 0.743667307661556\n\\item[183] 0.535940251243862\n\\item[544] 0.246646568246037\n\\item[748] 0.854270066048585\n\\item[647] 0.949241817972124\n\\item[2] 0.386524395850431\n\\item[385] 0.591595977943292\n\\item[547] 0.370970484113733\n\\item[69] 0.88829026154411\n\\item[478] 0.949460628230004\n\\item[780] 0.935835844328118\n\\item[296] 0.664812796090624\n\\item[765] 0.382949407337424\n\\item[459] 0.820763432792879\n\\item[132] 0.20415294286307\n\\end{description*}\n",
            "text/plain": [
              "       836        679        129        509        471        299        270 \n",
              "0.72173037 0.18629530 0.19126280 0.60902267 0.14735734 0.49494138 0.33758822 \n",
              "       187        307        597        277        494        330        775 \n",
              "0.92609143 0.70495456 0.38321523 0.87663174 0.10535597 0.13832213 0.55866299 \n",
              "       591        725         37        105        729        485        677 \n",
              "0.27394477 0.49403130 0.91023457 0.55195839 0.43403204 0.35521730 0.50626083 \n",
              "       802        382        601        801        326        826        554 \n",
              "0.19502589 0.55583237 0.16218254 0.57299237 0.46134366 0.26574693 0.48691856 \n",
              "       422        111        404        532        506        556        343 \n",
              "0.76392732 0.73858339 0.96162738 0.74366731 0.11063116 0.13342602 0.38267224 \n",
              "       582        121         40        684        537        375        248 \n",
              "0.28637421 0.96063635 0.22318394 0.63474842 0.74366731 0.96271675 0.80178553 \n",
              "       198        378         39        435        390        280        672 \n",
              "0.88104718 0.48482335 0.54820696 0.63495128 0.69324823 0.82967215 0.45396690 \n",
              "       526        642         45        402         22        718        742 \n",
              "0.55564628 0.05447913 0.56036439 0.74366731 0.95276617 0.43669315 0.36240106 \n",
              "       193        371        499        104        813        767        492 \n",
              "0.79320223 0.56431478 0.08247342 0.86386216 0.58598599 0.44405256 0.17653773 \n",
              "       616        615        465        525        820        176        345 \n",
              "0.13614036 0.32363461 0.13902097 0.36059335 0.27240720 0.50626083 0.86519530 \n",
              "       110         84         29        141        252        733        620 \n",
              "0.94430048 0.94430048 0.38651931 0.61354140 0.56230940 0.11014510 0.38294941 \n",
              "       304        545        557        661        287        614        145 \n",
              "0.52955347 0.35764660 0.15246827 0.16888040 0.97410930 0.20854462 0.33435371 \n",
              "       329        487        630        498        619        576        490 \n",
              "0.96868479 0.18187079 0.52255445 0.18674809 0.10834158 0.10755128 0.45093777 \n",
              "       736        103        316         51        763        290        650 \n",
              "0.56087077 0.92620117 0.13996222 0.05908395 0.11899947 0.64232295 0.27854313 \n",
              "       838        282        143        442        285        682         48 \n",
              "0.53157235 0.87295440 0.98235717 0.50786698 0.91015495 0.23823212 0.84910498 \n",
              "       501        716        511        295        536        693        214 \n",
              "0.60902267 0.41790504 0.16375072 0.09674074 0.74366731 0.66986946 0.65261927 \n",
              "       339        346        675         43          1        766        590 \n",
              "0.63098226 0.48482335 0.27197403 0.08773068 0.63495128 0.24649981 0.33158954 \n",
              "       628        233        293        573        369        451         86 \n",
              "0.52255445 0.93818711 0.51890826 0.46554924 0.93431578 0.60902267 0.91844745 \n",
              "       483        327        622        355         49        361        745 \n",
              "0.72507343 0.86793094 0.38294941 0.98676154 0.94113038 0.16608591 0.33664111 \n",
              "       242        440        247        219        135        809        807 \n",
              "0.80734184 0.93818711 0.04131851 0.77119247 0.87188049 0.07116859 0.31387323 \n",
              "       377        408        744        565        467        356        130 \n",
              "0.10906434 0.96188194 0.09774970 0.44563915 0.66893135 0.91015495 0.75168162 \n",
              "        65        359        821        124         77        218        610 \n",
              "0.90785019 0.33435371 0.45470494 0.51287010 0.99356557 0.55583237 0.13614036 \n",
              "       194         19        273        418        543        419        403 \n",
              "0.76369671 0.84689263 0.89575953 0.78394226 0.43629916 0.78433347 0.84188448 \n",
              "       587         16        814        604        634        664        138 \n",
              "0.19712933 0.14627008 0.23572779 0.13614036 0.43381641 0.09950629 0.30083295 \n",
              "       500        229        423        421        140        126        789 \n",
              "0.08247342 0.98096722 0.87295440 0.81132889 0.75168162 0.69702211 0.20951201 \n",
              "       508        719        676        271        692        577        512 \n",
              "0.41260862 0.26471619 0.16482061 0.62029321 0.08671993 0.05353904 0.32879625 \n",
              "       714        504        457        358        127        645         41 \n",
              "0.15914875 0.11063116 0.28960966 0.77819413 0.56409306 0.39175415 0.98096722 \n",
              "       548        305        413        749        740        309        441 \n",
              "0.22994734 0.62436811 0.60478239 0.56345593 0.62008204 0.82457830 0.84194566 \n",
              "       117        644        470        756        562        336        349 \n",
              "0.80406693 0.17766263 0.21453855 0.25710292 0.66422075 0.51287010 0.95155288 \n",
              "        72        720        474        168        743        667        455 \n",
              "0.91155492 0.74075803 0.24919086 0.75168162 0.26133018 0.62750311 0.08796661 \n",
              "       662        728        625        234        484        817         73 \n",
              "0.56721735 0.41429855 0.57221364 0.94863928 0.17185914 0.21267421 0.06963586 \n",
              "       539        553         15        643        294         62        792 \n",
              "0.52400681 0.48421136 0.56431478 0.22369784 0.80028338 0.20383151 0.09298367 \n",
              "        35        381        687        689        711         31        549 \n",
              "0.82457830 0.81373566 0.31209579 0.50201363 0.30555885 0.94430048 0.41184295 \n",
              "        28        825        148        652        572        284        334 \n",
              "0.74705894 0.25354628 0.37693358 0.23654898 0.25251954 0.77347280 0.95279838 \n",
              "       609        268         93        637        300        739        241 \n",
              "0.25354628 0.90475362 0.88692150 0.61354140 0.25354628 0.56112456 0.41604091 \n",
              "        33        437        788        713        217        108        660 \n",
              "0.20218475 0.77719322 0.46867275 0.07509546 0.87188049 0.51399557 0.34777830 \n",
              "       832        209        338        695        568        434        201 \n",
              "0.47703292 0.94863928 0.78781762 0.23944898 0.20352629 0.84323114 0.99506873 \n",
              "       354        357        636        514        116        810        784 \n",
              "0.98781079 0.92766618 0.56503289 0.49888113 0.60478239 0.64633342 0.38165419 \n",
              "       818        439        197        220        462        833        235 \n",
              "0.23868052 0.97324232 0.39044547 0.83304414 0.47924739 0.12963412 0.97974494 \n",
              "       513        633        173         83        564        407        324 \n",
              "0.56318483 0.48358402 0.78474193 0.91015495 0.71610782 0.26387333 0.68912929 \n",
              "       185        180        464        493        444        167        708 \n",
              "0.11063116 0.92990253 0.82788703 0.24506675 0.56295261 0.44698864 0.07351963 \n",
              "       834        291        703        581        706        823        546 \n",
              "0.31486968 0.60881896 0.58317715 0.52863424 0.39661851 0.52587969 0.38399073 \n",
              "        56         25         81        472        754        827        540 \n",
              "0.94164998 0.72531823 0.97410930 0.51312876 0.24955984 0.55824972 0.56646324 \n",
              "       480        779          3        179        161        384        436 \n",
              "0.07344466 0.50913411 0.94127242 0.56230940 0.53706195 0.05908395 0.73995373 \n",
              "       674        260         60        448        488        181        510 \n",
              "0.14982852 0.57602327 0.07690561 0.67244281 0.60465504 0.80028338 0.08113840 \n",
              "       133        428        698        279        550        798        605 \n",
              "0.20383151 0.93733050 0.10252299 0.95820827 0.14869507 0.12800819 0.61354140 \n",
              "       150        623        169        694        588        255         18 \n",
              "0.97778398 0.57221364 0.47913872 0.65417252 0.80902771 0.98639834 0.46134366 \n",
              "        44        668        747         91        164         32        479 \n",
              "0.34904085 0.59822694 0.19385872 0.53631495 0.77819413 0.64641050 0.28731633 \n",
              "       696        119        773        669        502        608        613 \n",
              "0.16036739 0.62029321 0.47532810 0.23904343 0.08247342 0.13614036 0.25354628 \n",
              "       531         89        654        405         21         79        781 \n",
              "0.74366731 0.21423651 0.09352546 0.80178553 0.69538513 0.72531823 0.52364840 \n",
              "       578        192        541        815         71        699        315 \n",
              "0.03892803 0.99510973 0.03159824 0.57221364 0.97258545 0.10252299 0.94210487 \n",
              "       702        760        414         58        603        114        320 \n",
              "0.31027698 0.22600587 0.12898641 0.71109844 0.13614036 0.23857473 0.93236046 \n",
              "       774         34        828        722        735        205        606 \n",
              "0.20450152 0.92234685 0.31694406 0.24486506 0.14882578 0.81688271 0.13614036 \n",
              "       824        301        632        322        741        515        392 \n",
              "0.20889413 0.95971099 0.43381641 0.82076343 0.32510616 0.52803703 0.87701484 \n",
              "       797        281        808        238        122        212          5 \n",
              "0.23263194 0.60881896 0.29000322 0.26392601 0.83211362 0.84188448 0.81266926 \n",
              "       812         20        183        544        748        647          2 \n",
              "0.24800732 0.94863928 0.94375521 0.22999153 0.74366731 0.84798499 0.94111749 \n",
              "       385        547         69        478        780        296        765 \n",
              "0.78433347 0.76953163 0.16608591 0.17613261 0.69821569 0.22318394 0.31818869 \n",
              "       459        132         42        123        705        523        782 \n",
              "0.22182665 0.95317033 0.73858339 0.92234685 0.62414145 0.09136308 0.07353585 \n",
              "       617        555        397        264        177        638        303 \n",
              "0.22250602 0.17638995 0.82967215 0.88860230 0.33758822 0.47627720 0.37693358 \n",
              "        92        368        751        302        230        139          8 \n",
              "0.04061059 0.82076343 0.52459498 0.97324232 0.41604091 0.85738533 0.88558176 \n",
              "       215        189        475        340        115        396        686 \n",
              "0.79415346 0.56963816 0.23015064 0.96188194 0.56409306 0.86195453 0.30243063 \n",
              "       370        819        333        159        631        460        286 \n",
              "0.96162738 0.07351963 0.77819413 0.39049884 0.57221364 0.39058452 0.89681677 \n",
              "       595        109        770          7        112         27        594 \n",
              "0.74696393 0.74574507 0.40830531 0.97794084 0.51382803 0.85741432 0.54168620 \n",
              "       567        731        393        136        673        787        561 \n",
              "0.17322097 0.27528866 0.85427007 0.72275081 0.21130403 0.52255445 0.07902966 \n",
              "       243        400        399        222        266        158        651 \n",
              "0.92066828 0.93652219 0.78821442 0.82967215 0.34819584 0.17787040 0.27418492 \n",
              "       262        445        469        412        175        627        596 \n",
              "0.99356557 0.77385954 0.46060431 0.82689364 0.45210935 0.57221364 0.17292054 \n",
              "       261        166        503        415        425        666         99 \n",
              "0.94140764 0.84689263 0.60902267 0.95760958 0.83796027 0.42897523 0.88692150 \n",
              "         4        426        128        431        409        131        477 \n",
              "0.97989219 0.68912929 0.48730616 0.63495128 0.42419931 0.92349628 0.58090741 \n",
              "       125        518        240        575        753         85        213 \n",
              "0.61196987 0.54161822 0.98035418 0.31081108 0.08886114 0.52223271 0.42419931 \n",
              "       574        311        208        737        216        486        259 \n",
              "0.44495096 0.94113038 0.53982759 0.34459645 0.50090304 0.14263447 0.80852056 \n",
              "       799         87        648        516        424        535        360 \n",
              "0.05079885 0.34156960 0.28529003 0.27684395 0.97989219 0.46649436 0.43180881 \n",
              "       389        312        715        505        443        308        433 \n",
              "0.26387333 0.74510754 0.75176942 0.24664657 0.68752397 0.12592488 0.96868479 \n",
              "       700        790        806        203        456        835        690 \n",
              "0.21201398 0.11861205 0.21672341 0.72275081 0.56084738 0.25128643 0.07308503 \n",
              "       267        734        100        313        134        232        310 \n",
              "0.96363402 0.29376636 0.70223526 0.93733050 0.71432270 0.79158446 0.05908395 \n",
              "        11        331        321        795        365        542        256 \n",
              "0.95989851 0.30083295 0.94856198 0.05472364 0.27884352 0.16267498 0.76847025 \n",
              "       265         54        146        374        600        236        681 \n",
              "0.82967215 0.94375521 0.95102417 0.95279838 0.38331288 0.43194806 0.12705474 \n",
              "         6        420        250        571        258        730        761 \n",
              "0.34819584 0.45210935 0.91015495 0.18579652 0.89420016 0.16464779 0.36313295 \n",
              "       288        626        618        416        496        391        659 \n",
              "0.72148328 0.52255445 0.06271444 0.92889108 0.24442323 0.48335868 0.17236083 \n",
              "       796         55        182        463         61        528        691 \n",
              "0.54404310 0.87214042 0.75376881 0.42684054 0.78394226 0.21624089 0.25657926 \n",
              "       709        137        481         66        101        245        206 \n",
              "0.04095291 0.52223271 0.14813530 0.91497718 0.33758822 0.63411359 0.90592711 \n",
              "       621        317        830        292        350        153         17 \n",
              "0.57221364 0.06635018 0.43603010 0.51800060 0.88860230 0.90639150 0.83044019 \n",
              "       190        593        453        585        517        653        341 \n",
              "0.35259491 0.54046017 0.59546691 0.05147661 0.41136081 0.56323252 0.81373566 \n",
              "       522        641        649        430        226        184         36 \n",
              "0.56095752 0.52638720 0.53052669 0.81523045 0.80734184 0.92334333 0.93818711 \n",
              "        52        351        162         47        777        793         67 \n",
              "0.22318394 0.49016584 0.55990142 0.16608591 0.40045340 0.42253630 0.80028338 \n",
              "       253        473        269        449        446        170        704 \n",
              "0.96036783 0.25036201 0.59546691 0.68912929 0.85554264 0.94901115 0.35642626 \n",
              "       688        353        107        584        559         30        410 \n",
              "0.51359503 0.94800118 0.41452331 0.26301393 0.34081797 0.85554264 0.17787040 \n",
              "       598        372         13        778        401         82        376 \n",
              "0.41271837 0.06713575 0.97778398 0.08207975 0.72531823 0.55990142 0.94901115 \n",
              "       551        196        811        363        768        118        507 \n",
              "0.34290091 0.94358904 0.74366731 0.95092716 0.74366731 0.53594025 0.24664657 \n",
              "        98        191         26        683        599        318        244 \n",
              "0.85427007 0.94924182 0.38652440 0.59159598 0.37097048 0.88829026 0.94946063 \n",
              "        50        762        624        395        710 \n",
              "0.93583584 0.66481280 0.38294941 0.82076343 0.20415294 "
            ]
          },
          "metadata": {}
        }
      ]
    },
    {
      "cell_type": "code",
      "source": [
        "##nuevo sobre precision\n",
        "cartllev<-cbind(cartera.test,probtest)"
      ],
      "metadata": {
        "id": "WbJw1GR9HlI-"
      },
      "execution_count": null,
      "outputs": []
    },
    {
      "cell_type": "code",
      "source": [
        "#crear objeto de predicciones\n",
        "pr<-prediction(probtest,cartera.test$Bono)\n",
        "#creacion del objeto de la curva\n",
        "curvaROC<-performance(pr,measure=\"tpr\",x.measure=\"fpr\")"
      ],
      "metadata": {
        "id": "_8DJFPaQMzGk"
      },
      "execution_count": null,
      "outputs": []
    },
    {
      "cell_type": "code",
      "source": [
        "#grafico de la curva\n",
        "plot(curvaROC)\n",
        "#calcular el AUC\n",
        "auc<-performance(pr,measure = \"auc\")\n",
        "auc <- auc@y.values[[1]]\n",
        "#ver el AUC\n",
        "auc"
      ],
      "metadata": {
        "colab": {
          "base_uri": "https://localhost:8080/",
          "height": 454
        },
        "id": "jyEj4QE6NLIt",
        "outputId": "ab30ce9c-43fe-44ff-badd-f36060273312"
      },
      "execution_count": null,
      "outputs": [
        {
          "output_type": "display_data",
          "data": {
            "text/html": [
              "0.813666023343443"
            ],
            "text/markdown": "0.813666023343443",
            "text/latex": "0.813666023343443",
            "text/plain": [
              "[1] 0.813666"
            ]
          },
          "metadata": {}
        },
        {
          "output_type": "display_data",
          "data": {
            "text/plain": [
              "plot without title"
            ],
            "image/png": "[encoded data removed]"
          },
          "metadata": {
            "image/png": {
              "width": 420,
              "height": 420
            }
          }
        }
      ]
    },
    {
      "cell_type": "markdown",
      "source": [],
      "metadata": {
        "id": "T8jnNxe3LwER"
      }
    },
    {
      "cell_type": "markdown",
      "source": [
        "# EVALUACION FINANCIERA"
      ],
      "metadata": {
        "id": "Xh4qpItMNX-l"
      }
    },
    {
      "cell_type": "code",
      "source": [
        "#guardar las exhaustividades y puntos de corte\n",
        "tablafinan<-performance(pr,measure=\"rec\")\n",
        "cutoffs<-unlist(tablafinan@x.values)\n",
        "recalls<-unlist(tablafinan@y.values)"
      ],
      "metadata": {
        "id": "1xpg6QyLdCig"
      },
      "execution_count": null,
      "outputs": []
    },
    {
      "cell_type": "code",
      "source": [
        "#guardar las precisiones\n",
        "tablafina2<-performance(pr,measure=\"prec\")\n",
        "precisions<-unlist(tablafina2@y.values)"
      ],
      "metadata": {
        "id": "il_1v8FGdDd3"
      },
      "execution_count": null,
      "outputs": []
    },
    {
      "cell_type": "code",
      "source": [
        "#guardar f scores\n",
        "tablafina3<-performance(pr,measure=\"f\")\n",
        "fscores<-unlist(tablafina3@y.values)"
      ],
      "metadata": {
        "id": "ghgZa9XodJy3"
      },
      "execution_count": null,
      "outputs": []
    },
    {
      "cell_type": "code",
      "source": [
        "#crear la tabla conjunta\n",
        "tablacruce<-as.data.frame(cbind(cutoffs,precisions,recalls,fscores))\n",
        "tablacruce"
      ],
      "metadata": {
        "colab": {
          "base_uri": "https://localhost:8080/",
          "height": 1000
        },
        "id": "KNyCMQTGdNMt",
        "outputId": "e4db1b84-b51f-4c2d-f65e-3bcdaed15893"
      },
      "execution_count": null,
      "outputs": [
        {
          "output_type": "display_data",
          "data": {
            "text/html": [
              "<table class=\"dataframe\">\n",
              "<caption>A data.frame: 196 × 4</caption>\n",
              "<thead>\n",
              "\t<tr><th></th><th scope=col>cutoffs</th><th scope=col>precisions</th><th scope=col>recalls</th><th scope=col>fscores</th></tr>\n",
              "\t<tr><th></th><th scope=col>&lt;dbl&gt;</th><th scope=col>&lt;dbl&gt;</th><th scope=col>&lt;dbl&gt;</th><th scope=col>&lt;dbl&gt;</th></tr>\n",
              "</thead>\n",
              "<tbody>\n",
              "\t<tr><th scope=row></th><td>      Inf</td><td>NaN</td><td>0.000000000</td><td>       NaN</td></tr>\n",
              "\t<tr><th scope=row>221</th><td>0.9823572</td><td>  1</td><td>0.008547009</td><td>0.01694915</td></tr>\n",
              "\t<tr><th scope=row>257</th><td>0.9803542</td><td>  1</td><td>0.017094017</td><td>0.03361345</td></tr>\n",
              "\t<tr><th scope=row>227</th><td>0.9777840</td><td>  1</td><td>0.025641026</td><td>0.05000000</td></tr>\n",
              "\t<tr><th scope=row>348</th><td>0.9743676</td><td>  1</td><td>0.034188034</td><td>0.06611570</td></tr>\n",
              "\t<tr><th scope=row>152</th><td>0.9671897</td><td>  1</td><td>0.042735043</td><td>0.08196721</td></tr>\n",
              "\t<tr><th scope=row>186</th><td>0.9661423</td><td>  1</td><td>0.051282051</td><td>0.09756098</td></tr>\n",
              "\t<tr><th scope=row>347</th><td>0.9631547</td><td>  1</td><td>0.059829060</td><td>0.11290323</td></tr>\n",
              "\t<tr><th scope=row>90</th><td>0.9623328</td><td>  1</td><td>0.068376068</td><td>0.12800000</td></tr>\n",
              "\t<tr><th scope=row>283</th><td>0.9618819</td><td>  1</td><td>0.076923077</td><td>0.14285714</td></tr>\n",
              "\t<tr><th scope=row>204</th><td>0.9616274</td><td>  1</td><td>0.085470085</td><td>0.15748031</td></tr>\n",
              "\t<tr><th scope=row>102</th><td>0.9606363</td><td>  1</td><td>0.094017094</td><td>0.17187500</td></tr>\n",
              "\t<tr><th scope=row>9</th><td>0.9598746</td><td>  1</td><td>0.102564103</td><td>0.18604651</td></tr>\n",
              "\t<tr><th scope=row>337</th><td>0.9591823</td><td>  1</td><td>0.111111111</td><td>0.20000000</td></tr>\n",
              "\t<tr><th scope=row>352</th><td>0.9571854</td><td>  1</td><td>0.119658120</td><td>0.21374046</td></tr>\n",
              "\t<tr><th scope=row>195</th><td>0.9415745</td><td>  1</td><td>0.128205128</td><td>0.22727273</td></tr>\n",
              "\t<tr><th scope=row>276</th><td>0.9414076</td><td>  1</td><td>0.136752137</td><td>0.24060150</td></tr>\n",
              "\t<tr><th scope=row>362</th><td>0.9358358</td><td>  1</td><td>0.145299145</td><td>0.25373134</td></tr>\n",
              "\t<tr><th scope=row>274</th><td>0.9276662</td><td>  1</td><td>0.153846154</td><td>0.26666667</td></tr>\n",
              "\t<tr><th scope=row>383</th><td>0.9248424</td><td>  1</td><td>0.162393162</td><td>0.27941176</td></tr>\n",
              "\t<tr><th scope=row>298</th><td>0.9232858</td><td>  1</td><td>0.170940171</td><td>0.29197080</td></tr>\n",
              "\t<tr><th scope=row>53</th><td>0.9184474</td><td>  1</td><td>0.179487179</td><td>0.30434783</td></tr>\n",
              "\t<tr><th scope=row>202</th><td>0.9160864</td><td>  1</td><td>0.196581197</td><td>0.32857143</td></tr>\n",
              "\t<tr><th scope=row>251</th><td>0.9095717</td><td>  1</td><td>0.205128205</td><td>0.34042553</td></tr>\n",
              "\t<tr><th scope=row>95</th><td>0.9022541</td><td>  1</td><td>0.213675214</td><td>0.35211268</td></tr>\n",
              "\t<tr><th scope=row>149</th><td>0.8939586</td><td>  1</td><td>0.222222222</td><td>0.36363636</td></tr>\n",
              "\t<tr><th scope=row>249</th><td>0.8895443</td><td>  1</td><td>0.230769231</td><td>0.37500000</td></tr>\n",
              "\t<tr><th scope=row>325</th><td>0.8766317</td><td>  1</td><td>0.239316239</td><td>0.38620690</td></tr>\n",
              "\t<tr><th scope=row>172</th><td>0.8730378</td><td>  1</td><td>0.247863248</td><td>0.39726027</td></tr>\n",
              "\t<tr><th scope=row>438</th><td>0.8729544</td><td>  1</td><td>0.256410256</td><td>0.40816327</td></tr>\n",
              "\t<tr><th scope=row>⋮</th><td>⋮</td><td>⋮</td><td>⋮</td><td>⋮</td></tr>\n",
              "\t<tr><th scope=row>491</th><td>0.17753841</td><td>0.6201117</td><td>0.9487179</td><td>0.7500000</td></tr>\n",
              "\t<tr><th scope=row>727</th><td>0.17726145</td><td>0.6166667</td><td>0.9487179</td><td>0.7474747</td></tr>\n",
              "\t<tr><th scope=row>707</th><td>0.17618443</td><td>0.6132597</td><td>0.9487179</td><td>0.7449664</td></tr>\n",
              "\t<tr><th scope=row>566</th><td>0.16939383</td><td>0.6098901</td><td>0.9487179</td><td>0.7424749</td></tr>\n",
              "\t<tr><th scope=row>712</th><td>0.16270032</td><td>0.6065574</td><td>0.9487179</td><td>0.7400000</td></tr>\n",
              "\t<tr><th scope=row>697</th><td>0.16036739</td><td>0.6032609</td><td>0.9487179</td><td>0.7375415</td></tr>\n",
              "\t<tr><th scope=row>671</th><td>0.15308107</td><td>0.6000000</td><td>0.9487179</td><td>0.7350993</td></tr>\n",
              "\t<tr><th scope=row>88</th><td>0.14459725</td><td>0.6021505</td><td>0.9572650</td><td>0.7392739</td></tr>\n",
              "\t<tr><th scope=row>171</th><td>0.13996222</td><td>0.6042781</td><td>0.9658120</td><td>0.7434211</td></tr>\n",
              "\t<tr><th scope=row>612</th><td>0.13614036</td><td>0.6000000</td><td>0.9743590</td><td>0.7426710</td></tr>\n",
              "\t<tr><th scope=row>757</th><td>0.13232687</td><td>0.5968586</td><td>0.9743590</td><td>0.7402597</td></tr>\n",
              "\t<tr><th scope=row>529</th><td>0.13232512</td><td>0.5937500</td><td>0.9743590</td><td>0.7378641</td></tr>\n",
              "\t<tr><th scope=row>769</th><td>0.12990735</td><td>0.5906736</td><td>0.9743590</td><td>0.7354839</td></tr>\n",
              "\t<tr><th scope=row>657</th><td>0.12623648</td><td>0.5876289</td><td>0.9743590</td><td>0.7331190</td></tr>\n",
              "\t<tr><th scope=row>794</th><td>0.11031858</td><td>0.5846154</td><td>0.9743590</td><td>0.7307692</td></tr>\n",
              "\t<tr><th scope=row>665</th><td>0.11005648</td><td>0.5816327</td><td>0.9743590</td><td>0.7284345</td></tr>\n",
              "\t<tr><th scope=row>558</th><td>0.10905888</td><td>0.5786802</td><td>0.9743590</td><td>0.7261146</td></tr>\n",
              "\t<tr><th scope=row>804</th><td>0.10834158</td><td>0.5757576</td><td>0.9743590</td><td>0.7238095</td></tr>\n",
              "\t<tr><th scope=row>658</th><td>0.10777164</td><td>0.5728643</td><td>0.9743590</td><td>0.7215190</td></tr>\n",
              "\t<tr><th scope=row>560</th><td>0.09855717</td><td>0.5700000</td><td>0.9743590</td><td>0.7192429</td></tr>\n",
              "\t<tr><th scope=row>738</th><td>0.09695334</td><td>0.5671642</td><td>0.9743590</td><td>0.7169811</td></tr>\n",
              "\t<tr><th scope=row>342</th><td>0.09432804</td><td>0.5693069</td><td>0.9829060</td><td>0.7210031</td></tr>\n",
              "\t<tr><th scope=row>458</th><td>0.09231266</td><td>0.5665025</td><td>0.9829060</td><td>0.7187500</td></tr>\n",
              "\t<tr><th scope=row>586</th><td>0.08465523</td><td>0.5637255</td><td>0.9829060</td><td>0.7165109</td></tr>\n",
              "\t<tr><th scope=row>655</th><td>0.07924557</td><td>0.5609756</td><td>0.9829060</td><td>0.7142857</td></tr>\n",
              "\t<tr><th scope=row>246</th><td>0.07690561</td><td>0.5631068</td><td>0.9914530</td><td>0.7182663</td></tr>\n",
              "\t<tr><th scope=row>199</th><td>0.07355936</td><td>0.5652174</td><td>1.0000000</td><td>0.7222222</td></tr>\n",
              "\t<tr><th scope=row>701</th><td>0.05443175</td><td>0.5625000</td><td>1.0000000</td><td>0.7200000</td></tr>\n",
              "\t<tr><th scope=row>482</th><td>0.04417268</td><td>0.5598086</td><td>1.0000000</td><td>0.7177914</td></tr>\n",
              "\t<tr><th scope=row>497</th><td>0.04308681</td><td>0.5571429</td><td>1.0000000</td><td>0.7155963</td></tr>\n",
              "</tbody>\n",
              "</table>\n"
            ],
            "text/markdown": "\nA data.frame: 196 × 4\n\n| <!--/--> | cutoffs &lt;dbl&gt; | precisions &lt;dbl&gt; | recalls &lt;dbl&gt; | fscores &lt;dbl&gt; |\n|---|---|---|---|---|\n| <!----> |       Inf | NaN | 0.000000000 |        NaN |\n| 221 | 0.9823572 |   1 | 0.008547009 | 0.01694915 |\n| 257 | 0.9803542 |   1 | 0.017094017 | 0.03361345 |\n| 227 | 0.9777840 |   1 | 0.025641026 | 0.05000000 |\n| 348 | 0.9743676 |   1 | 0.034188034 | 0.06611570 |\n| 152 | 0.9671897 |   1 | 0.042735043 | 0.08196721 |\n| 186 | 0.9661423 |   1 | 0.051282051 | 0.09756098 |\n| 347 | 0.9631547 |   1 | 0.059829060 | 0.11290323 |\n| 90 | 0.9623328 |   1 | 0.068376068 | 0.12800000 |\n| 283 | 0.9618819 |   1 | 0.076923077 | 0.14285714 |\n| 204 | 0.9616274 |   1 | 0.085470085 | 0.15748031 |\n| 102 | 0.9606363 |   1 | 0.094017094 | 0.17187500 |\n| 9 | 0.9598746 |   1 | 0.102564103 | 0.18604651 |\n| 337 | 0.9591823 |   1 | 0.111111111 | 0.20000000 |\n| 352 | 0.9571854 |   1 | 0.119658120 | 0.21374046 |\n| 195 | 0.9415745 |   1 | 0.128205128 | 0.22727273 |\n| 276 | 0.9414076 |   1 | 0.136752137 | 0.24060150 |\n| 362 | 0.9358358 |   1 | 0.145299145 | 0.25373134 |\n| 274 | 0.9276662 |   1 | 0.153846154 | 0.26666667 |\n| 383 | 0.9248424 |   1 | 0.162393162 | 0.27941176 |\n| 298 | 0.9232858 |   1 | 0.170940171 | 0.29197080 |\n| 53 | 0.9184474 |   1 | 0.179487179 | 0.30434783 |\n| 202 | 0.9160864 |   1 | 0.196581197 | 0.32857143 |\n| 251 | 0.9095717 |   1 | 0.205128205 | 0.34042553 |\n| 95 | 0.9022541 |   1 | 0.213675214 | 0.35211268 |\n| 149 | 0.8939586 |   1 | 0.222222222 | 0.36363636 |\n| 249 | 0.8895443 |   1 | 0.230769231 | 0.37500000 |\n| 325 | 0.8766317 |   1 | 0.239316239 | 0.38620690 |\n| 172 | 0.8730378 |   1 | 0.247863248 | 0.39726027 |\n| 438 | 0.8729544 |   1 | 0.256410256 | 0.40816327 |\n| ⋮ | ⋮ | ⋮ | ⋮ | ⋮ |\n| 491 | 0.17753841 | 0.6201117 | 0.9487179 | 0.7500000 |\n| 727 | 0.17726145 | 0.6166667 | 0.9487179 | 0.7474747 |\n| 707 | 0.17618443 | 0.6132597 | 0.9487179 | 0.7449664 |\n| 566 | 0.16939383 | 0.6098901 | 0.9487179 | 0.7424749 |\n| 712 | 0.16270032 | 0.6065574 | 0.9487179 | 0.7400000 |\n| 697 | 0.16036739 | 0.6032609 | 0.9487179 | 0.7375415 |\n| 671 | 0.15308107 | 0.6000000 | 0.9487179 | 0.7350993 |\n| 88 | 0.14459725 | 0.6021505 | 0.9572650 | 0.7392739 |\n| 171 | 0.13996222 | 0.6042781 | 0.9658120 | 0.7434211 |\n| 612 | 0.13614036 | 0.6000000 | 0.9743590 | 0.7426710 |\n| 757 | 0.13232687 | 0.5968586 | 0.9743590 | 0.7402597 |\n| 529 | 0.13232512 | 0.5937500 | 0.9743590 | 0.7378641 |\n| 769 | 0.12990735 | 0.5906736 | 0.9743590 | 0.7354839 |\n| 657 | 0.12623648 | 0.5876289 | 0.9743590 | 0.7331190 |\n| 794 | 0.11031858 | 0.5846154 | 0.9743590 | 0.7307692 |\n| 665 | 0.11005648 | 0.5816327 | 0.9743590 | 0.7284345 |\n| 558 | 0.10905888 | 0.5786802 | 0.9743590 | 0.7261146 |\n| 804 | 0.10834158 | 0.5757576 | 0.9743590 | 0.7238095 |\n| 658 | 0.10777164 | 0.5728643 | 0.9743590 | 0.7215190 |\n| 560 | 0.09855717 | 0.5700000 | 0.9743590 | 0.7192429 |\n| 738 | 0.09695334 | 0.5671642 | 0.9743590 | 0.7169811 |\n| 342 | 0.09432804 | 0.5693069 | 0.9829060 | 0.7210031 |\n| 458 | 0.09231266 | 0.5665025 | 0.9829060 | 0.7187500 |\n| 586 | 0.08465523 | 0.5637255 | 0.9829060 | 0.7165109 |\n| 655 | 0.07924557 | 0.5609756 | 0.9829060 | 0.7142857 |\n| 246 | 0.07690561 | 0.5631068 | 0.9914530 | 0.7182663 |\n| 199 | 0.07355936 | 0.5652174 | 1.0000000 | 0.7222222 |\n| 701 | 0.05443175 | 0.5625000 | 1.0000000 | 0.7200000 |\n| 482 | 0.04417268 | 0.5598086 | 1.0000000 | 0.7177914 |\n| 497 | 0.04308681 | 0.5571429 | 1.0000000 | 0.7155963 |\n\n",
            "text/latex": "A data.frame: 196 × 4\n\\begin{tabular}{r|llll}\n  & cutoffs & precisions & recalls & fscores\\\\\n  & <dbl> & <dbl> & <dbl> & <dbl>\\\\\n\\hline\n\t &       Inf & NaN & 0.000000000 &        NaN\\\\\n\t221 & 0.9823572 &   1 & 0.008547009 & 0.01694915\\\\\n\t257 & 0.9803542 &   1 & 0.017094017 & 0.03361345\\\\\n\t227 & 0.9777840 &   1 & 0.025641026 & 0.05000000\\\\\n\t348 & 0.9743676 &   1 & 0.034188034 & 0.06611570\\\\\n\t152 & 0.9671897 &   1 & 0.042735043 & 0.08196721\\\\\n\t186 & 0.9661423 &   1 & 0.051282051 & 0.09756098\\\\\n\t347 & 0.9631547 &   1 & 0.059829060 & 0.11290323\\\\\n\t90 & 0.9623328 &   1 & 0.068376068 & 0.12800000\\\\\n\t283 & 0.9618819 &   1 & 0.076923077 & 0.14285714\\\\\n\t204 & 0.9616274 &   1 & 0.085470085 & 0.15748031\\\\\n\t102 & 0.9606363 &   1 & 0.094017094 & 0.17187500\\\\\n\t9 & 0.9598746 &   1 & 0.102564103 & 0.18604651\\\\\n\t337 & 0.9591823 &   1 & 0.111111111 & 0.20000000\\\\\n\t352 & 0.9571854 &   1 & 0.119658120 & 0.21374046\\\\\n\t195 & 0.9415745 &   1 & 0.128205128 & 0.22727273\\\\\n\t276 & 0.9414076 &   1 & 0.136752137 & 0.24060150\\\\\n\t362 & 0.9358358 &   1 & 0.145299145 & 0.25373134\\\\\n\t274 & 0.9276662 &   1 & 0.153846154 & 0.26666667\\\\\n\t383 & 0.9248424 &   1 & 0.162393162 & 0.27941176\\\\\n\t298 & 0.9232858 &   1 & 0.170940171 & 0.29197080\\\\\n\t53 & 0.9184474 &   1 & 0.179487179 & 0.30434783\\\\\n\t202 & 0.9160864 &   1 & 0.196581197 & 0.32857143\\\\\n\t251 & 0.9095717 &   1 & 0.205128205 & 0.34042553\\\\\n\t95 & 0.9022541 &   1 & 0.213675214 & 0.35211268\\\\\n\t149 & 0.8939586 &   1 & 0.222222222 & 0.36363636\\\\\n\t249 & 0.8895443 &   1 & 0.230769231 & 0.37500000\\\\\n\t325 & 0.8766317 &   1 & 0.239316239 & 0.38620690\\\\\n\t172 & 0.8730378 &   1 & 0.247863248 & 0.39726027\\\\\n\t438 & 0.8729544 &   1 & 0.256410256 & 0.40816327\\\\\n\t⋮ & ⋮ & ⋮ & ⋮ & ⋮\\\\\n\t491 & 0.17753841 & 0.6201117 & 0.9487179 & 0.7500000\\\\\n\t727 & 0.17726145 & 0.6166667 & 0.9487179 & 0.7474747\\\\\n\t707 & 0.17618443 & 0.6132597 & 0.9487179 & 0.7449664\\\\\n\t566 & 0.16939383 & 0.6098901 & 0.9487179 & 0.7424749\\\\\n\t712 & 0.16270032 & 0.6065574 & 0.9487179 & 0.7400000\\\\\n\t697 & 0.16036739 & 0.6032609 & 0.9487179 & 0.7375415\\\\\n\t671 & 0.15308107 & 0.6000000 & 0.9487179 & 0.7350993\\\\\n\t88 & 0.14459725 & 0.6021505 & 0.9572650 & 0.7392739\\\\\n\t171 & 0.13996222 & 0.6042781 & 0.9658120 & 0.7434211\\\\\n\t612 & 0.13614036 & 0.6000000 & 0.9743590 & 0.7426710\\\\\n\t757 & 0.13232687 & 0.5968586 & 0.9743590 & 0.7402597\\\\\n\t529 & 0.13232512 & 0.5937500 & 0.9743590 & 0.7378641\\\\\n\t769 & 0.12990735 & 0.5906736 & 0.9743590 & 0.7354839\\\\\n\t657 & 0.12623648 & 0.5876289 & 0.9743590 & 0.7331190\\\\\n\t794 & 0.11031858 & 0.5846154 & 0.9743590 & 0.7307692\\\\\n\t665 & 0.11005648 & 0.5816327 & 0.9743590 & 0.7284345\\\\\n\t558 & 0.10905888 & 0.5786802 & 0.9743590 & 0.7261146\\\\\n\t804 & 0.10834158 & 0.5757576 & 0.9743590 & 0.7238095\\\\\n\t658 & 0.10777164 & 0.5728643 & 0.9743590 & 0.7215190\\\\\n\t560 & 0.09855717 & 0.5700000 & 0.9743590 & 0.7192429\\\\\n\t738 & 0.09695334 & 0.5671642 & 0.9743590 & 0.7169811\\\\\n\t342 & 0.09432804 & 0.5693069 & 0.9829060 & 0.7210031\\\\\n\t458 & 0.09231266 & 0.5665025 & 0.9829060 & 0.7187500\\\\\n\t586 & 0.08465523 & 0.5637255 & 0.9829060 & 0.7165109\\\\\n\t655 & 0.07924557 & 0.5609756 & 0.9829060 & 0.7142857\\\\\n\t246 & 0.07690561 & 0.5631068 & 0.9914530 & 0.7182663\\\\\n\t199 & 0.07355936 & 0.5652174 & 1.0000000 & 0.7222222\\\\\n\t701 & 0.05443175 & 0.5625000 & 1.0000000 & 0.7200000\\\\\n\t482 & 0.04417268 & 0.5598086 & 1.0000000 & 0.7177914\\\\\n\t497 & 0.04308681 & 0.5571429 & 1.0000000 & 0.7155963\\\\\n\\end{tabular}\n",
            "text/plain": [
              "    cutoffs    precisions recalls     fscores   \n",
              "          Inf  NaN        0.000000000        NaN\n",
              "221 0.9823572    1        0.008547009 0.01694915\n",
              "257 0.9803542    1        0.017094017 0.03361345\n",
              "227 0.9777840    1        0.025641026 0.05000000\n",
              "348 0.9743676    1        0.034188034 0.06611570\n",
              "152 0.9671897    1        0.042735043 0.08196721\n",
              "186 0.9661423    1        0.051282051 0.09756098\n",
              "347 0.9631547    1        0.059829060 0.11290323\n",
              "90  0.9623328    1        0.068376068 0.12800000\n",
              "283 0.9618819    1        0.076923077 0.14285714\n",
              "204 0.9616274    1        0.085470085 0.15748031\n",
              "102 0.9606363    1        0.094017094 0.17187500\n",
              "9   0.9598746    1        0.102564103 0.18604651\n",
              "337 0.9591823    1        0.111111111 0.20000000\n",
              "352 0.9571854    1        0.119658120 0.21374046\n",
              "195 0.9415745    1        0.128205128 0.22727273\n",
              "276 0.9414076    1        0.136752137 0.24060150\n",
              "362 0.9358358    1        0.145299145 0.25373134\n",
              "274 0.9276662    1        0.153846154 0.26666667\n",
              "383 0.9248424    1        0.162393162 0.27941176\n",
              "298 0.9232858    1        0.170940171 0.29197080\n",
              "53  0.9184474    1        0.179487179 0.30434783\n",
              "202 0.9160864    1        0.196581197 0.32857143\n",
              "251 0.9095717    1        0.205128205 0.34042553\n",
              "95  0.9022541    1        0.213675214 0.35211268\n",
              "149 0.8939586    1        0.222222222 0.36363636\n",
              "249 0.8895443    1        0.230769231 0.37500000\n",
              "325 0.8766317    1        0.239316239 0.38620690\n",
              "172 0.8730378    1        0.247863248 0.39726027\n",
              "438 0.8729544    1        0.256410256 0.40816327\n",
              "⋮   ⋮          ⋮          ⋮           ⋮         \n",
              "491 0.17753841 0.6201117  0.9487179   0.7500000 \n",
              "727 0.17726145 0.6166667  0.9487179   0.7474747 \n",
              "707 0.17618443 0.6132597  0.9487179   0.7449664 \n",
              "566 0.16939383 0.6098901  0.9487179   0.7424749 \n",
              "712 0.16270032 0.6065574  0.9487179   0.7400000 \n",
              "697 0.16036739 0.6032609  0.9487179   0.7375415 \n",
              "671 0.15308107 0.6000000  0.9487179   0.7350993 \n",
              "88  0.14459725 0.6021505  0.9572650   0.7392739 \n",
              "171 0.13996222 0.6042781  0.9658120   0.7434211 \n",
              "612 0.13614036 0.6000000  0.9743590   0.7426710 \n",
              "757 0.13232687 0.5968586  0.9743590   0.7402597 \n",
              "529 0.13232512 0.5937500  0.9743590   0.7378641 \n",
              "769 0.12990735 0.5906736  0.9743590   0.7354839 \n",
              "657 0.12623648 0.5876289  0.9743590   0.7331190 \n",
              "794 0.11031858 0.5846154  0.9743590   0.7307692 \n",
              "665 0.11005648 0.5816327  0.9743590   0.7284345 \n",
              "558 0.10905888 0.5786802  0.9743590   0.7261146 \n",
              "804 0.10834158 0.5757576  0.9743590   0.7238095 \n",
              "658 0.10777164 0.5728643  0.9743590   0.7215190 \n",
              "560 0.09855717 0.5700000  0.9743590   0.7192429 \n",
              "738 0.09695334 0.5671642  0.9743590   0.7169811 \n",
              "342 0.09432804 0.5693069  0.9829060   0.7210031 \n",
              "458 0.09231266 0.5665025  0.9829060   0.7187500 \n",
              "586 0.08465523 0.5637255  0.9829060   0.7165109 \n",
              "655 0.07924557 0.5609756  0.9829060   0.7142857 \n",
              "246 0.07690561 0.5631068  0.9914530   0.7182663 \n",
              "199 0.07355936 0.5652174  1.0000000   0.7222222 \n",
              "701 0.05443175 0.5625000  1.0000000   0.7200000 \n",
              "482 0.04417268 0.5598086  1.0000000   0.7177914 \n",
              "497 0.04308681 0.5571429  1.0000000   0.7155963 "
            ]
          },
          "metadata": {}
        }
      ]
    },
    {
      "cell_type": "code",
      "source": [
        "\n",
        "#ver precisiones versus exhaustividad\n",
        "plot(tablacruce$precisions,tablacruce$recalls)"
      ],
      "metadata": {
        "colab": {
          "base_uri": "https://localhost:8080/",
          "height": 437
        },
        "id": "vRVXvop2dUym",
        "outputId": "0c49c41c-8dca-4d9c-d2fc-299b7220abcc"
      },
      "execution_count": null,
      "outputs": [
        {
          "output_type": "display_data",
          "data": {
            "text/plain": [
              "plot without title"
            ],
            "image/png": "[encoded data removed]"
          },
          "metadata": {
            "image/png": {
              "width": 420,
              "height": 420
            }
          }
        }
      ]
    },
    {
      "cell_type": "code",
      "source": [
        "#ver el cutoff que maximiza f score\n",
        "ggplot(tablacruce, aes(cutoffs,fscores))+geom_point()"
      ],
      "metadata": {
        "colab": {
          "base_uri": "https://localhost:8080/",
          "height": 492
        },
        "id": "ob-q3aqzdXyB",
        "outputId": "c1fad745-3037-4581-9fa8-fd3fa7612d0a"
      },
      "execution_count": null,
      "outputs": [
        {
          "output_type": "stream",
          "name": "stderr",
          "text": [
            "Warning message:\n",
            "“\u001b[1m\u001b[22mRemoved 1 row containing missing values or values outside the scale range\n",
            "(`geom_point()`).”\n"
          ]
        },
        {
          "output_type": "display_data",
          "data": {
            "text/plain": [
              "plot without title"
            ],
            "image/png": "[encoded data removed]"
          },
          "metadata": {
            "image/png": {
              "width": 420,
              "height": 420
            }
          }
        }
      ]
    },
    {
      "cell_type": "markdown",
      "source": [
        "**(5) Se selecciona un grupo de 2000 hogares para evaluar la implementación de la estrategia. Se ha estimado que por cada hogar categorizado correctamente se estima un ahorro promedio de 800, mientras que por cada hogar mal categorizado se estima un costo de 350. Basado en el cutoff de 0.5, ¿cuál sería la ganancia esperada en términos monetarios para este modelo?**"
      ],
      "metadata": {
        "id": "FckRuwCNVdM9"
      }
    },
    {
      "cell_type": "markdown",
      "source": [
        "Basandonos en un corte de 0.5014789 se espera una ganancia de 131.5566"
      ],
      "metadata": {
        "id": "HbrhYOG7WpdF"
      }
    },
    {
      "cell_type": "code",
      "source": [
        "#calcular las ganancias\n",
        "tablacruce$ganancia<-2000*prop.table(balance)[2]*recalls*(800-(350/precisions))"
      ],
      "metadata": {
        "id": "3yIsoIxVdZxD"
      },
      "execution_count": null,
      "outputs": []
    },
    {
      "cell_type": "code",
      "source": [
        "prop.table(balance)[2]"
      ],
      "metadata": {
        "colab": {
          "base_uri": "https://localhost:8080/",
          "height": 34
        },
        "id": "y8b5zfxTUaEG",
        "outputId": "8c9819d2-5ba9-4941-9a8d-aad4123ce6af"
      },
      "execution_count": null,
      "outputs": [
        {
          "output_type": "display_data",
          "data": {
            "text/html": [
              "<strong>1:</strong> 0.5381861575179"
            ],
            "text/markdown": "**1:** 0.5381861575179",
            "text/latex": "\\textbf{1:} 0.5381861575179",
            "text/plain": [
              "        1 \n",
              "0.5381862 "
            ]
          },
          "metadata": {}
        }
      ]
    },
    {
      "cell_type": "code",
      "source": [
        "tablaver<-subset(tablacruce, tablacruce$cutoffs>0.2 & tablacruce$cutoffs<0.54)\n",
        "View(tablaver)"
      ],
      "metadata": {
        "colab": {
          "base_uri": "https://localhost:8080/",
          "height": 1000
        },
        "id": "oTZcL2W7dsxk",
        "outputId": "b1137122-d6b8-4428-aefb-835be2c2df71"
      },
      "execution_count": null,
      "outputs": [
        {
          "output_type": "display_data",
          "data": {
            "text/plain": [
              "    cutoffs   precisions recalls   fscores   ganancia\n",
              "76  0.5363150 0.7941176  0.6923077 0.7397260 133.8566\n",
              "717 0.5265744 0.7864078  0.6923077 0.7363636 132.2466\n",
              "639 0.5263872 0.7788462  0.6923077 0.7330317 130.6366\n",
              "800 0.5225544 0.7714286  0.6923077 0.7297297 129.0267\n",
              "210 0.5138280 0.7735849  0.7008547 0.7354260 131.0966\n",
              "80  0.5078670 0.7757009  0.7094017 0.7410714 133.1666\n",
              "771 0.5014789 0.7685185  0.7094017 0.7377778 131.5566\n",
              "275 0.4901658 0.7706422  0.7179487 0.7433628 133.6266\n",
              "635 0.4835840 0.7636364  0.7179487 0.7400881 132.0166\n",
              "466 0.4829058 0.7567568  0.7179487 0.7368421 130.4066\n",
              "640 0.4762772 0.7500000  0.7179487 0.7336245 128.7967\n",
              "837 0.4729136 0.7433628  0.7179487 0.7304348 127.1867\n",
              "552 0.4649238 0.7368421  0.7179487 0.7272727 125.5768\n",
              "521 0.4533837 0.7304348  0.7179487 0.7241379 123.9668\n",
              "10  0.4451311 0.7327586  0.7264957 0.7296137 126.0368\n",
              "46  0.4318088 0.7350427  0.7350427 0.7350427 128.1067\n",
              "379 0.4313353 0.7372881  0.7435897 0.7404255 130.1767\n",
              "758 0.4258986 0.7310924  0.7435897 0.7372881 128.5667\n",
              "533 0.4241993 0.7272727  0.7521368 0.7394958 129.0267\n",
              "646 0.4200362 0.7213115  0.7521368 0.7364017 127.4167\n",
              "68  0.4160409 0.7235772  0.7606838 0.7416667 129.4867\n",
              "452 0.4145233 0.7177419  0.7606838 0.7385892 127.8767\n",
              "144 0.4141078 0.7200000  0.7692308 0.7438017 129.9467\n",
              "785 0.4132356 0.7142857  0.7692308 0.7407407 128.3367\n",
              "373 0.4052097 0.7165354  0.7777778 0.7459016 130.4066\n",
              "450 0.4032106 0.7209302  0.7948718 0.7560976 134.5465\n",
              "583 0.3953270 0.7153846  0.7948718 0.7530364 132.9366\n",
              "398 0.3865193 0.7175573  0.8034188 0.7580645 135.0065\n",
              "394 0.3826722 0.7196970  0.8119658 0.7630522 137.0765\n",
              "120 0.3820749 0.7218045  0.8205128 0.7680000 139.1464\n",
              "⋮   ⋮         ⋮          ⋮         ⋮         ⋮       \n",
              "156 0.3343537 0.7194245  0.8547009 0.7812500 144.2063\n",
              "527 0.3252335 0.7142857  0.8547009 0.7782101 142.5963\n",
              "524 0.3238464 0.7092199  0.8547009 0.7751938 140.9864\n",
              "732 0.3237147 0.7042254  0.8547009 0.7722008 139.3764\n",
              "723 0.3218507 0.6993007  0.8547009 0.7692308 137.7665\n",
              "520 0.3124185 0.6944444  0.8547009 0.7662835 136.1565\n",
              "791 0.3112644 0.6896552  0.8547009 0.7633588 134.5465\n",
              "14  0.3102770 0.6917808  0.8632479 0.7680608 136.6165\n",
              "752 0.3090633 0.6870748  0.8632479 0.7651515 135.0065\n",
              "367 0.2991421 0.6891892  0.8717949 0.7698113 137.0765\n",
              "678 0.2847463 0.6845638  0.8717949 0.7669173 135.4665\n",
              "476 0.2846898 0.6800000  0.8717949 0.7640449 133.8566\n",
              "726 0.2845794 0.6754967  0.8717949 0.7611940 132.2466\n",
              "364 0.2801761 0.6776316  0.8803419 0.7657993 134.3165\n",
              "721 0.2702155 0.6732026  0.8803419 0.7629630 132.7066\n",
              "685 0.2688051 0.6688312  0.8803419 0.7601476 131.0966\n",
              "786 0.2664674 0.6645161  0.8803419 0.7573529 129.4867\n",
              "772 0.2535463 0.6582278  0.8888889 0.7563636 128.3367\n",
              "239 0.2525117 0.6603774  0.8974359 0.7608696 130.4066\n",
              "755 0.2487091 0.6562500  0.8974359 0.7581227 128.7967\n",
              "380 0.2466466 0.6583851  0.9059829 0.7625899 130.8666\n",
              "468 0.2387469 0.6543210  0.9059829 0.7598566 129.2567\n",
              "759 0.2333363 0.6503067  0.9059829 0.7571429 127.6467\n",
              "656 0.2266215 0.6463415  0.9059829 0.7544484 126.0368\n",
              "228 0.2262376 0.6506024  0.9230769 0.7632509 130.1767\n",
              "314 0.2242009 0.6526946  0.9316239 0.7676056 132.2466\n",
              "489 0.2237660 0.6488095  0.9316239 0.7649123 130.6366\n",
              "461 0.2196789 0.6449704  0.9316239 0.7622378 129.0267\n",
              "663 0.2053190 0.6411765  0.9316239 0.7595819 127.4167\n",
              "592 0.2022163 0.6374269  0.9316239 0.7569444 125.8068"
            ],
            "text/html": [
              "<table class=\"dataframe\">\n",
              "<caption>A data.frame: 65 × 5</caption>\n",
              "<thead>\n",
              "\t<tr><th></th><th scope=col>cutoffs</th><th scope=col>precisions</th><th scope=col>recalls</th><th scope=col>fscores</th><th scope=col>ganancia</th></tr>\n",
              "\t<tr><th></th><th scope=col>&lt;dbl&gt;</th><th scope=col>&lt;dbl&gt;</th><th scope=col>&lt;dbl&gt;</th><th scope=col>&lt;dbl&gt;</th><th scope=col>&lt;dbl&gt;</th></tr>\n",
              "</thead>\n",
              "<tbody>\n",
              "\t<tr><th scope=row>76</th><td>0.5363150</td><td>0.7941176</td><td>0.6923077</td><td>0.7397260</td><td>133.8566</td></tr>\n",
              "\t<tr><th scope=row>717</th><td>0.5265744</td><td>0.7864078</td><td>0.6923077</td><td>0.7363636</td><td>132.2466</td></tr>\n",
              "\t<tr><th scope=row>639</th><td>0.5263872</td><td>0.7788462</td><td>0.6923077</td><td>0.7330317</td><td>130.6366</td></tr>\n",
              "\t<tr><th scope=row>800</th><td>0.5225544</td><td>0.7714286</td><td>0.6923077</td><td>0.7297297</td><td>129.0267</td></tr>\n",
              "\t<tr><th scope=row>210</th><td>0.5138280</td><td>0.7735849</td><td>0.7008547</td><td>0.7354260</td><td>131.0966</td></tr>\n",
              "\t<tr><th scope=row>80</th><td>0.5078670</td><td>0.7757009</td><td>0.7094017</td><td>0.7410714</td><td>133.1666</td></tr>\n",
              "\t<tr><th scope=row>771</th><td>0.5014789</td><td>0.7685185</td><td>0.7094017</td><td>0.7377778</td><td>131.5566</td></tr>\n",
              "\t<tr><th scope=row>275</th><td>0.4901658</td><td>0.7706422</td><td>0.7179487</td><td>0.7433628</td><td>133.6266</td></tr>\n",
              "\t<tr><th scope=row>635</th><td>0.4835840</td><td>0.7636364</td><td>0.7179487</td><td>0.7400881</td><td>132.0166</td></tr>\n",
              "\t<tr><th scope=row>466</th><td>0.4829058</td><td>0.7567568</td><td>0.7179487</td><td>0.7368421</td><td>130.4066</td></tr>\n",
              "\t<tr><th scope=row>640</th><td>0.4762772</td><td>0.7500000</td><td>0.7179487</td><td>0.7336245</td><td>128.7967</td></tr>\n",
              "\t<tr><th scope=row>837</th><td>0.4729136</td><td>0.7433628</td><td>0.7179487</td><td>0.7304348</td><td>127.1867</td></tr>\n",
              "\t<tr><th scope=row>552</th><td>0.4649238</td><td>0.7368421</td><td>0.7179487</td><td>0.7272727</td><td>125.5768</td></tr>\n",
              "\t<tr><th scope=row>521</th><td>0.4533837</td><td>0.7304348</td><td>0.7179487</td><td>0.7241379</td><td>123.9668</td></tr>\n",
              "\t<tr><th scope=row>10</th><td>0.4451311</td><td>0.7327586</td><td>0.7264957</td><td>0.7296137</td><td>126.0368</td></tr>\n",
              "\t<tr><th scope=row>46</th><td>0.4318088</td><td>0.7350427</td><td>0.7350427</td><td>0.7350427</td><td>128.1067</td></tr>\n",
              "\t<tr><th scope=row>379</th><td>0.4313353</td><td>0.7372881</td><td>0.7435897</td><td>0.7404255</td><td>130.1767</td></tr>\n",
              "\t<tr><th scope=row>758</th><td>0.4258986</td><td>0.7310924</td><td>0.7435897</td><td>0.7372881</td><td>128.5667</td></tr>\n",
              "\t<tr><th scope=row>533</th><td>0.4241993</td><td>0.7272727</td><td>0.7521368</td><td>0.7394958</td><td>129.0267</td></tr>\n",
              "\t<tr><th scope=row>646</th><td>0.4200362</td><td>0.7213115</td><td>0.7521368</td><td>0.7364017</td><td>127.4167</td></tr>\n",
              "\t<tr><th scope=row>68</th><td>0.4160409</td><td>0.7235772</td><td>0.7606838</td><td>0.7416667</td><td>129.4867</td></tr>\n",
              "\t<tr><th scope=row>452</th><td>0.4145233</td><td>0.7177419</td><td>0.7606838</td><td>0.7385892</td><td>127.8767</td></tr>\n",
              "\t<tr><th scope=row>144</th><td>0.4141078</td><td>0.7200000</td><td>0.7692308</td><td>0.7438017</td><td>129.9467</td></tr>\n",
              "\t<tr><th scope=row>785</th><td>0.4132356</td><td>0.7142857</td><td>0.7692308</td><td>0.7407407</td><td>128.3367</td></tr>\n",
              "\t<tr><th scope=row>373</th><td>0.4052097</td><td>0.7165354</td><td>0.7777778</td><td>0.7459016</td><td>130.4066</td></tr>\n",
              "\t<tr><th scope=row>450</th><td>0.4032106</td><td>0.7209302</td><td>0.7948718</td><td>0.7560976</td><td>134.5465</td></tr>\n",
              "\t<tr><th scope=row>583</th><td>0.3953270</td><td>0.7153846</td><td>0.7948718</td><td>0.7530364</td><td>132.9366</td></tr>\n",
              "\t<tr><th scope=row>398</th><td>0.3865193</td><td>0.7175573</td><td>0.8034188</td><td>0.7580645</td><td>135.0065</td></tr>\n",
              "\t<tr><th scope=row>394</th><td>0.3826722</td><td>0.7196970</td><td>0.8119658</td><td>0.7630522</td><td>137.0765</td></tr>\n",
              "\t<tr><th scope=row>120</th><td>0.3820749</td><td>0.7218045</td><td>0.8205128</td><td>0.7680000</td><td>139.1464</td></tr>\n",
              "\t<tr><th scope=row>⋮</th><td>⋮</td><td>⋮</td><td>⋮</td><td>⋮</td><td>⋮</td></tr>\n",
              "\t<tr><th scope=row>156</th><td>0.3343537</td><td>0.7194245</td><td>0.8547009</td><td>0.7812500</td><td>144.2063</td></tr>\n",
              "\t<tr><th scope=row>527</th><td>0.3252335</td><td>0.7142857</td><td>0.8547009</td><td>0.7782101</td><td>142.5963</td></tr>\n",
              "\t<tr><th scope=row>524</th><td>0.3238464</td><td>0.7092199</td><td>0.8547009</td><td>0.7751938</td><td>140.9864</td></tr>\n",
              "\t<tr><th scope=row>732</th><td>0.3237147</td><td>0.7042254</td><td>0.8547009</td><td>0.7722008</td><td>139.3764</td></tr>\n",
              "\t<tr><th scope=row>723</th><td>0.3218507</td><td>0.6993007</td><td>0.8547009</td><td>0.7692308</td><td>137.7665</td></tr>\n",
              "\t<tr><th scope=row>520</th><td>0.3124185</td><td>0.6944444</td><td>0.8547009</td><td>0.7662835</td><td>136.1565</td></tr>\n",
              "\t<tr><th scope=row>791</th><td>0.3112644</td><td>0.6896552</td><td>0.8547009</td><td>0.7633588</td><td>134.5465</td></tr>\n",
              "\t<tr><th scope=row>14</th><td>0.3102770</td><td>0.6917808</td><td>0.8632479</td><td>0.7680608</td><td>136.6165</td></tr>\n",
              "\t<tr><th scope=row>752</th><td>0.3090633</td><td>0.6870748</td><td>0.8632479</td><td>0.7651515</td><td>135.0065</td></tr>\n",
              "\t<tr><th scope=row>367</th><td>0.2991421</td><td>0.6891892</td><td>0.8717949</td><td>0.7698113</td><td>137.0765</td></tr>\n",
              "\t<tr><th scope=row>678</th><td>0.2847463</td><td>0.6845638</td><td>0.8717949</td><td>0.7669173</td><td>135.4665</td></tr>\n",
              "\t<tr><th scope=row>476</th><td>0.2846898</td><td>0.6800000</td><td>0.8717949</td><td>0.7640449</td><td>133.8566</td></tr>\n",
              "\t<tr><th scope=row>726</th><td>0.2845794</td><td>0.6754967</td><td>0.8717949</td><td>0.7611940</td><td>132.2466</td></tr>\n",
              "\t<tr><th scope=row>364</th><td>0.2801761</td><td>0.6776316</td><td>0.8803419</td><td>0.7657993</td><td>134.3165</td></tr>\n",
              "\t<tr><th scope=row>721</th><td>0.2702155</td><td>0.6732026</td><td>0.8803419</td><td>0.7629630</td><td>132.7066</td></tr>\n",
              "\t<tr><th scope=row>685</th><td>0.2688051</td><td>0.6688312</td><td>0.8803419</td><td>0.7601476</td><td>131.0966</td></tr>\n",
              "\t<tr><th scope=row>786</th><td>0.2664674</td><td>0.6645161</td><td>0.8803419</td><td>0.7573529</td><td>129.4867</td></tr>\n",
              "\t<tr><th scope=row>772</th><td>0.2535463</td><td>0.6582278</td><td>0.8888889</td><td>0.7563636</td><td>128.3367</td></tr>\n",
              "\t<tr><th scope=row>239</th><td>0.2525117</td><td>0.6603774</td><td>0.8974359</td><td>0.7608696</td><td>130.4066</td></tr>\n",
              "\t<tr><th scope=row>755</th><td>0.2487091</td><td>0.6562500</td><td>0.8974359</td><td>0.7581227</td><td>128.7967</td></tr>\n",
              "\t<tr><th scope=row>380</th><td>0.2466466</td><td>0.6583851</td><td>0.9059829</td><td>0.7625899</td><td>130.8666</td></tr>\n",
              "\t<tr><th scope=row>468</th><td>0.2387469</td><td>0.6543210</td><td>0.9059829</td><td>0.7598566</td><td>129.2567</td></tr>\n",
              "\t<tr><th scope=row>759</th><td>0.2333363</td><td>0.6503067</td><td>0.9059829</td><td>0.7571429</td><td>127.6467</td></tr>\n",
              "\t<tr><th scope=row>656</th><td>0.2266215</td><td>0.6463415</td><td>0.9059829</td><td>0.7544484</td><td>126.0368</td></tr>\n",
              "\t<tr><th scope=row>228</th><td>0.2262376</td><td>0.6506024</td><td>0.9230769</td><td>0.7632509</td><td>130.1767</td></tr>\n",
              "\t<tr><th scope=row>314</th><td>0.2242009</td><td>0.6526946</td><td>0.9316239</td><td>0.7676056</td><td>132.2466</td></tr>\n",
              "\t<tr><th scope=row>489</th><td>0.2237660</td><td>0.6488095</td><td>0.9316239</td><td>0.7649123</td><td>130.6366</td></tr>\n",
              "\t<tr><th scope=row>461</th><td>0.2196789</td><td>0.6449704</td><td>0.9316239</td><td>0.7622378</td><td>129.0267</td></tr>\n",
              "\t<tr><th scope=row>663</th><td>0.2053190</td><td>0.6411765</td><td>0.9316239</td><td>0.7595819</td><td>127.4167</td></tr>\n",
              "\t<tr><th scope=row>592</th><td>0.2022163</td><td>0.6374269</td><td>0.9316239</td><td>0.7569444</td><td>125.8068</td></tr>\n",
              "</tbody>\n",
              "</table>\n"
            ],
            "text/markdown": "\nA data.frame: 65 × 5\n\n| <!--/--> | cutoffs &lt;dbl&gt; | precisions &lt;dbl&gt; | recalls &lt;dbl&gt; | fscores &lt;dbl&gt; | ganancia &lt;dbl&gt; |\n|---|---|---|---|---|---|\n| 76 | 0.5363150 | 0.7941176 | 0.6923077 | 0.7397260 | 133.8566 |\n| 717 | 0.5265744 | 0.7864078 | 0.6923077 | 0.7363636 | 132.2466 |\n| 639 | 0.5263872 | 0.7788462 | 0.6923077 | 0.7330317 | 130.6366 |\n| 800 | 0.5225544 | 0.7714286 | 0.6923077 | 0.7297297 | 129.0267 |\n| 210 | 0.5138280 | 0.7735849 | 0.7008547 | 0.7354260 | 131.0966 |\n| 80 | 0.5078670 | 0.7757009 | 0.7094017 | 0.7410714 | 133.1666 |\n| 771 | 0.5014789 | 0.7685185 | 0.7094017 | 0.7377778 | 131.5566 |\n| 275 | 0.4901658 | 0.7706422 | 0.7179487 | 0.7433628 | 133.6266 |\n| 635 | 0.4835840 | 0.7636364 | 0.7179487 | 0.7400881 | 132.0166 |\n| 466 | 0.4829058 | 0.7567568 | 0.7179487 | 0.7368421 | 130.4066 |\n| 640 | 0.4762772 | 0.7500000 | 0.7179487 | 0.7336245 | 128.7967 |\n| 837 | 0.4729136 | 0.7433628 | 0.7179487 | 0.7304348 | 127.1867 |\n| 552 | 0.4649238 | 0.7368421 | 0.7179487 | 0.7272727 | 125.5768 |\n| 521 | 0.4533837 | 0.7304348 | 0.7179487 | 0.7241379 | 123.9668 |\n| 10 | 0.4451311 | 0.7327586 | 0.7264957 | 0.7296137 | 126.0368 |\n| 46 | 0.4318088 | 0.7350427 | 0.7350427 | 0.7350427 | 128.1067 |\n| 379 | 0.4313353 | 0.7372881 | 0.7435897 | 0.7404255 | 130.1767 |\n| 758 | 0.4258986 | 0.7310924 | 0.7435897 | 0.7372881 | 128.5667 |\n| 533 | 0.4241993 | 0.7272727 | 0.7521368 | 0.7394958 | 129.0267 |\n| 646 | 0.4200362 | 0.7213115 | 0.7521368 | 0.7364017 | 127.4167 |\n| 68 | 0.4160409 | 0.7235772 | 0.7606838 | 0.7416667 | 129.4867 |\n| 452 | 0.4145233 | 0.7177419 | 0.7606838 | 0.7385892 | 127.8767 |\n| 144 | 0.4141078 | 0.7200000 | 0.7692308 | 0.7438017 | 129.9467 |\n| 785 | 0.4132356 | 0.7142857 | 0.7692308 | 0.7407407 | 128.3367 |\n| 373 | 0.4052097 | 0.7165354 | 0.7777778 | 0.7459016 | 130.4066 |\n| 450 | 0.4032106 | 0.7209302 | 0.7948718 | 0.7560976 | 134.5465 |\n| 583 | 0.3953270 | 0.7153846 | 0.7948718 | 0.7530364 | 132.9366 |\n| 398 | 0.3865193 | 0.7175573 | 0.8034188 | 0.7580645 | 135.0065 |\n| 394 | 0.3826722 | 0.7196970 | 0.8119658 | 0.7630522 | 137.0765 |\n| 120 | 0.3820749 | 0.7218045 | 0.8205128 | 0.7680000 | 139.1464 |\n| ⋮ | ⋮ | ⋮ | ⋮ | ⋮ | ⋮ |\n| 156 | 0.3343537 | 0.7194245 | 0.8547009 | 0.7812500 | 144.2063 |\n| 527 | 0.3252335 | 0.7142857 | 0.8547009 | 0.7782101 | 142.5963 |\n| 524 | 0.3238464 | 0.7092199 | 0.8547009 | 0.7751938 | 140.9864 |\n| 732 | 0.3237147 | 0.7042254 | 0.8547009 | 0.7722008 | 139.3764 |\n| 723 | 0.3218507 | 0.6993007 | 0.8547009 | 0.7692308 | 137.7665 |\n| 520 | 0.3124185 | 0.6944444 | 0.8547009 | 0.7662835 | 136.1565 |\n| 791 | 0.3112644 | 0.6896552 | 0.8547009 | 0.7633588 | 134.5465 |\n| 14 | 0.3102770 | 0.6917808 | 0.8632479 | 0.7680608 | 136.6165 |\n| 752 | 0.3090633 | 0.6870748 | 0.8632479 | 0.7651515 | 135.0065 |\n| 367 | 0.2991421 | 0.6891892 | 0.8717949 | 0.7698113 | 137.0765 |\n| 678 | 0.2847463 | 0.6845638 | 0.8717949 | 0.7669173 | 135.4665 |\n| 476 | 0.2846898 | 0.6800000 | 0.8717949 | 0.7640449 | 133.8566 |\n| 726 | 0.2845794 | 0.6754967 | 0.8717949 | 0.7611940 | 132.2466 |\n| 364 | 0.2801761 | 0.6776316 | 0.8803419 | 0.7657993 | 134.3165 |\n| 721 | 0.2702155 | 0.6732026 | 0.8803419 | 0.7629630 | 132.7066 |\n| 685 | 0.2688051 | 0.6688312 | 0.8803419 | 0.7601476 | 131.0966 |\n| 786 | 0.2664674 | 0.6645161 | 0.8803419 | 0.7573529 | 129.4867 |\n| 772 | 0.2535463 | 0.6582278 | 0.8888889 | 0.7563636 | 128.3367 |\n| 239 | 0.2525117 | 0.6603774 | 0.8974359 | 0.7608696 | 130.4066 |\n| 755 | 0.2487091 | 0.6562500 | 0.8974359 | 0.7581227 | 128.7967 |\n| 380 | 0.2466466 | 0.6583851 | 0.9059829 | 0.7625899 | 130.8666 |\n| 468 | 0.2387469 | 0.6543210 | 0.9059829 | 0.7598566 | 129.2567 |\n| 759 | 0.2333363 | 0.6503067 | 0.9059829 | 0.7571429 | 127.6467 |\n| 656 | 0.2266215 | 0.6463415 | 0.9059829 | 0.7544484 | 126.0368 |\n| 228 | 0.2262376 | 0.6506024 | 0.9230769 | 0.7632509 | 130.1767 |\n| 314 | 0.2242009 | 0.6526946 | 0.9316239 | 0.7676056 | 132.2466 |\n| 489 | 0.2237660 | 0.6488095 | 0.9316239 | 0.7649123 | 130.6366 |\n| 461 | 0.2196789 | 0.6449704 | 0.9316239 | 0.7622378 | 129.0267 |\n| 663 | 0.2053190 | 0.6411765 | 0.9316239 | 0.7595819 | 127.4167 |\n| 592 | 0.2022163 | 0.6374269 | 0.9316239 | 0.7569444 | 125.8068 |\n\n",
            "text/latex": "A data.frame: 65 × 5\n\\begin{tabular}{r|lllll}\n  & cutoffs & precisions & recalls & fscores & ganancia\\\\\n  & <dbl> & <dbl> & <dbl> & <dbl> & <dbl>\\\\\n\\hline\n\t76 & 0.5363150 & 0.7941176 & 0.6923077 & 0.7397260 & 133.8566\\\\\n\t717 & 0.5265744 & 0.7864078 & 0.6923077 & 0.7363636 & 132.2466\\\\\n\t639 & 0.5263872 & 0.7788462 & 0.6923077 & 0.7330317 & 130.6366\\\\\n\t800 & 0.5225544 & 0.7714286 & 0.6923077 & 0.7297297 & 129.0267\\\\\n\t210 & 0.5138280 & 0.7735849 & 0.7008547 & 0.7354260 & 131.0966\\\\\n\t80 & 0.5078670 & 0.7757009 & 0.7094017 & 0.7410714 & 133.1666\\\\\n\t771 & 0.5014789 & 0.7685185 & 0.7094017 & 0.7377778 & 131.5566\\\\\n\t275 & 0.4901658 & 0.7706422 & 0.7179487 & 0.7433628 & 133.6266\\\\\n\t635 & 0.4835840 & 0.7636364 & 0.7179487 & 0.7400881 & 132.0166\\\\\n\t466 & 0.4829058 & 0.7567568 & 0.7179487 & 0.7368421 & 130.4066\\\\\n\t640 & 0.4762772 & 0.7500000 & 0.7179487 & 0.7336245 & 128.7967\\\\\n\t837 & 0.4729136 & 0.7433628 & 0.7179487 & 0.7304348 & 127.1867\\\\\n\t552 & 0.4649238 & 0.7368421 & 0.7179487 & 0.7272727 & 125.5768\\\\\n\t521 & 0.4533837 & 0.7304348 & 0.7179487 & 0.7241379 & 123.9668\\\\\n\t10 & 0.4451311 & 0.7327586 & 0.7264957 & 0.7296137 & 126.0368\\\\\n\t46 & 0.4318088 & 0.7350427 & 0.7350427 & 0.7350427 & 128.1067\\\\\n\t379 & 0.4313353 & 0.7372881 & 0.7435897 & 0.7404255 & 130.1767\\\\\n\t758 & 0.4258986 & 0.7310924 & 0.7435897 & 0.7372881 & 128.5667\\\\\n\t533 & 0.4241993 & 0.7272727 & 0.7521368 & 0.7394958 & 129.0267\\\\\n\t646 & 0.4200362 & 0.7213115 & 0.7521368 & 0.7364017 & 127.4167\\\\\n\t68 & 0.4160409 & 0.7235772 & 0.7606838 & 0.7416667 & 129.4867\\\\\n\t452 & 0.4145233 & 0.7177419 & 0.7606838 & 0.7385892 & 127.8767\\\\\n\t144 & 0.4141078 & 0.7200000 & 0.7692308 & 0.7438017 & 129.9467\\\\\n\t785 & 0.4132356 & 0.7142857 & 0.7692308 & 0.7407407 & 128.3367\\\\\n\t373 & 0.4052097 & 0.7165354 & 0.7777778 & 0.7459016 & 130.4066\\\\\n\t450 & 0.4032106 & 0.7209302 & 0.7948718 & 0.7560976 & 134.5465\\\\\n\t583 & 0.3953270 & 0.7153846 & 0.7948718 & 0.7530364 & 132.9366\\\\\n\t398 & 0.3865193 & 0.7175573 & 0.8034188 & 0.7580645 & 135.0065\\\\\n\t394 & 0.3826722 & 0.7196970 & 0.8119658 & 0.7630522 & 137.0765\\\\\n\t120 & 0.3820749 & 0.7218045 & 0.8205128 & 0.7680000 & 139.1464\\\\\n\t⋮ & ⋮ & ⋮ & ⋮ & ⋮ & ⋮\\\\\n\t156 & 0.3343537 & 0.7194245 & 0.8547009 & 0.7812500 & 144.2063\\\\\n\t527 & 0.3252335 & 0.7142857 & 0.8547009 & 0.7782101 & 142.5963\\\\\n\t524 & 0.3238464 & 0.7092199 & 0.8547009 & 0.7751938 & 140.9864\\\\\n\t732 & 0.3237147 & 0.7042254 & 0.8547009 & 0.7722008 & 139.3764\\\\\n\t723 & 0.3218507 & 0.6993007 & 0.8547009 & 0.7692308 & 137.7665\\\\\n\t520 & 0.3124185 & 0.6944444 & 0.8547009 & 0.7662835 & 136.1565\\\\\n\t791 & 0.3112644 & 0.6896552 & 0.8547009 & 0.7633588 & 134.5465\\\\\n\t14 & 0.3102770 & 0.6917808 & 0.8632479 & 0.7680608 & 136.6165\\\\\n\t752 & 0.3090633 & 0.6870748 & 0.8632479 & 0.7651515 & 135.0065\\\\\n\t367 & 0.2991421 & 0.6891892 & 0.8717949 & 0.7698113 & 137.0765\\\\\n\t678 & 0.2847463 & 0.6845638 & 0.8717949 & 0.7669173 & 135.4665\\\\\n\t476 & 0.2846898 & 0.6800000 & 0.8717949 & 0.7640449 & 133.8566\\\\\n\t726 & 0.2845794 & 0.6754967 & 0.8717949 & 0.7611940 & 132.2466\\\\\n\t364 & 0.2801761 & 0.6776316 & 0.8803419 & 0.7657993 & 134.3165\\\\\n\t721 & 0.2702155 & 0.6732026 & 0.8803419 & 0.7629630 & 132.7066\\\\\n\t685 & 0.2688051 & 0.6688312 & 0.8803419 & 0.7601476 & 131.0966\\\\\n\t786 & 0.2664674 & 0.6645161 & 0.8803419 & 0.7573529 & 129.4867\\\\\n\t772 & 0.2535463 & 0.6582278 & 0.8888889 & 0.7563636 & 128.3367\\\\\n\t239 & 0.2525117 & 0.6603774 & 0.8974359 & 0.7608696 & 130.4066\\\\\n\t755 & 0.2487091 & 0.6562500 & 0.8974359 & 0.7581227 & 128.7967\\\\\n\t380 & 0.2466466 & 0.6583851 & 0.9059829 & 0.7625899 & 130.8666\\\\\n\t468 & 0.2387469 & 0.6543210 & 0.9059829 & 0.7598566 & 129.2567\\\\\n\t759 & 0.2333363 & 0.6503067 & 0.9059829 & 0.7571429 & 127.6467\\\\\n\t656 & 0.2266215 & 0.6463415 & 0.9059829 & 0.7544484 & 126.0368\\\\\n\t228 & 0.2262376 & 0.6506024 & 0.9230769 & 0.7632509 & 130.1767\\\\\n\t314 & 0.2242009 & 0.6526946 & 0.9316239 & 0.7676056 & 132.2466\\\\\n\t489 & 0.2237660 & 0.6488095 & 0.9316239 & 0.7649123 & 130.6366\\\\\n\t461 & 0.2196789 & 0.6449704 & 0.9316239 & 0.7622378 & 129.0267\\\\\n\t663 & 0.2053190 & 0.6411765 & 0.9316239 & 0.7595819 & 127.4167\\\\\n\t592 & 0.2022163 & 0.6374269 & 0.9316239 & 0.7569444 & 125.8068\\\\\n\\end{tabular}\n"
          },
          "metadata": {}
        }
      ]
    },
    {
      "cell_type": "markdown",
      "source": [
        "**(4) Si el cutoff se disminuye a 0.3, ¿cómo afectaría el precision y el recall? ¿Cómo afectaría la ganancia obtenida en el ítem anterior? Justifique sus respuestas. Valídelas con los resultados obtenidos en el notebook.**\n",
        "\n"
      ],
      "metadata": {
        "id": "8T8aOos1XI0i"
      }
    },
    {
      "cell_type": "markdown",
      "source": [
        "Si el punto de corte disminuye a 0.3, el recall aumenta ya que hay mas verdaderos positivos y menos falsos negativos, sin embargo aumentan los falsos positivos, por lo que el precision disminuye. Con un cutoff aproximado de 0.2991421, la ganancia aumenta de 131.5566 a 137.0765, la presicion disminuye a 0.6891892 y el recall aumenta de 0.7094017 a  0.8717949"
      ],
      "metadata": {
        "id": "uH91GSbrXOEz"
      }
    },
    {
      "cell_type": "code",
      "source": [
        "#crea el pronóstico en validación\n",
        "probtest<-predict(steplogit,newdata = cartera.test,type='response')\n",
        "prontest<-ifelse(probtest > 0.5,1,0)\n",
        "\n",
        "conftest<-confusionMatrix(as.factor(prontest),cartera.test$Renuncia, positive = \"1\")\n",
        "conftest"
      ],
      "metadata": {
        "colab": {
          "base_uri": "https://localhost:8080/",
          "height": 499
        },
        "id": "viiFaoZfeyMD",
        "outputId": "a2211f77-8959-447e-fa8b-cec16408574c"
      },
      "execution_count": null,
      "outputs": [
        {
          "output_type": "display_data",
          "data": {
            "text/plain": [
              "Confusion Matrix and Statistics\n",
              "\n",
              "          Reference\n",
              "Prediction   0   1\n",
              "         0 112   8\n",
              "         1   7 123\n",
              "                                        \n",
              "               Accuracy : 0.94          \n",
              "                 95% CI : (0.903, 0.966)\n",
              "    No Information Rate : 0.524         \n",
              "    P-Value [Acc > NIR] : <2e-16        \n",
              "                                        \n",
              "                  Kappa : 0.8798        \n",
              "                                        \n",
              " Mcnemar's Test P-Value : 1             \n",
              "                                        \n",
              "            Sensitivity : 0.9389        \n",
              "            Specificity : 0.9412        \n",
              "         Pos Pred Value : 0.9462        \n",
              "         Neg Pred Value : 0.9333        \n",
              "             Prevalence : 0.5240        \n",
              "         Detection Rate : 0.4920        \n",
              "   Detection Prevalence : 0.5200        \n",
              "      Balanced Accuracy : 0.9401        \n",
              "                                        \n",
              "       'Positive' Class : 1             \n",
              "                                        "
            ]
          },
          "metadata": {}
        }
      ]
    }
  ]
}