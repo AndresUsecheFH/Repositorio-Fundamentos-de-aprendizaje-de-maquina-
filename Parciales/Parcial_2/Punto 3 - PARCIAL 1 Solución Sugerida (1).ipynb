{
  "nbformat": 4,
  "nbformat_minor": 0,
  "metadata": {
    "colab": {
      "provenance": []
    },
    "kernelspec": {
      "name": "ir",
      "display_name": "R"
    },
    "language_info": {
      "name": "R"
    }
  },
  "cells": [
    {
      "cell_type": "markdown",
      "source": [
        "#Punto 3 – Solución Sugerida\n",
        "\n"
      ],
      "metadata": {
        "id": "e8KTctlc4JXE"
      }
    },
    {
      "cell_type": "code",
      "execution_count": 1,
      "metadata": {
        "id": "6PtEFwTjwZ8b",
        "colab": {
          "base_uri": "https://localhost:8080/"
        },
        "outputId": "d900ee74-d035-4aa3-9323-38ea2574dc5a"
      },
      "outputs": [
        {
          "output_type": "stream",
          "name": "stderr",
          "text": [
            "Loading required package: caret\n",
            "\n",
            "Warning message in library(package, lib.loc = lib.loc, character.only = TRUE, logical.return = TRUE, :\n",
            "“there is no package called ‘caret’”\n",
            "Installing package into ‘/usr/local/lib/R/site-library’\n",
            "(as ‘lib’ is unspecified)\n",
            "\n",
            "also installing the dependencies ‘listenv’, ‘parallelly’, ‘future’, ‘globals’, ‘shape’, ‘future.apply’, ‘numDeriv’, ‘progressr’, ‘SQUAREM’, ‘diagram’, ‘lava’, ‘prodlim’, ‘proxy’, ‘iterators’, ‘clock’, ‘gower’, ‘hardhat’, ‘ipred’, ‘timeDate’, ‘e1071’, ‘foreach’, ‘ModelMetrics’, ‘plyr’, ‘pROC’, ‘recipes’, ‘reshape2’\n",
            "\n",
            "\n",
            "Loading required package: glmnet\n",
            "\n",
            "Warning message in library(package, lib.loc = lib.loc, character.only = TRUE, logical.return = TRUE, :\n",
            "“there is no package called ‘glmnet’”\n",
            "Installing package into ‘/usr/local/lib/R/site-library’\n",
            "(as ‘lib’ is unspecified)\n",
            "\n",
            "also installing the dependency ‘RcppEigen’\n",
            "\n",
            "\n",
            "Loading required package: pROC\n",
            "\n",
            "Type 'citation(\"pROC\")' for a citation.\n",
            "\n",
            "\n",
            "Attaching package: ‘pROC’\n",
            "\n",
            "\n",
            "The following objects are masked from ‘package:stats’:\n",
            "\n",
            "    cov, smooth, var\n",
            "\n",
            "\n"
          ]
        }
      ],
      "source": [
        "# Cargar las librerías necesarias\n",
        "if (!require('caret')) install.packages('caret')\n",
        "if (!require('glmnet')) install.packages('glmnet')\n",
        "if (!require('pROC')) install.packages('pROC')"
      ]
    },
    {
      "cell_type": "code",
      "source": [
        "# Cargar librerías necesarias\n",
        "library(MASS)   # Para stepAIC\n",
        "library(caret)  # Para crear particiones de datos\n",
        "\n",
        "# Cargar el dataset\n",
        "data <- read.csv(\"Diamantes.csv\")\n",
        "\n",
        "# Verificar las primeras filas y nombres de las columnas para asegurar que los datos están cargados correctamente\n",
        "head(data)\n",
        "str(data)\n",
        "\n",
        "# Seleccionar 10,000 registros aleatoriamente\n",
        "set.seed(123)\n",
        "sample_data <- data[sample(1:nrow(data), 10000), ]\n",
        "\n",
        "# Verificar los valores únicos para cada columna categórica\n",
        "unique(sample_data$talla)\n",
        "unique(sample_data$color)\n",
        "unique(sample_data$claridad)\n",
        "\n",
        "# Convertir variables categóricas a factores\n",
        "sample_data$talla <- factor(sample_data$talla, levels = 0:4)\n",
        "sample_data$color <- factor(sample_data$color, levels = 0:6)\n",
        "sample_data$claridad <- factor(sample_data$claridad, levels = 0:7)\n",
        "\n",
        "# Verificar las conversiones a factores\n",
        "str(sample_data$talla)\n",
        "str(sample_data$color)\n",
        "str(sample_data$claridad)\n",
        "\n",
        "# Dividir el dataset en entrenamiento (75%) y prueba (25%)\n",
        "set.seed(123)\n",
        "train_index <- createDataPartition(sample_data$precio, p = 0.75, list = FALSE)\n",
        "train_data <- sample_data[train_index, ]\n",
        "test_data <- sample_data[-train_index, ]"
      ],
      "metadata": {
        "colab": {
          "base_uri": "https://localhost:8080/",
          "height": 599
        },
        "id": "WwU-yOjU2CZc",
        "outputId": "b8881fe5-d396-4b60-e3b8-608e0a7e4942"
      },
      "execution_count": 13,
      "outputs": [
        {
          "output_type": "display_data",
          "data": {
            "text/html": [
              "<table class=\"dataframe\">\n",
              "<caption>A data.frame: 6 × 11</caption>\n",
              "<thead>\n",
              "\t<tr><th></th><th scope=col>indice</th><th scope=col>quilates</th><th scope=col>talla</th><th scope=col>color</th><th scope=col>claridad</th><th scope=col>profundidad</th><th scope=col>tabla</th><th scope=col>precio</th><th scope=col>x</th><th scope=col>y</th><th scope=col>z</th></tr>\n",
              "\t<tr><th></th><th scope=col>&lt;int&gt;</th><th scope=col>&lt;dbl&gt;</th><th scope=col>&lt;int&gt;</th><th scope=col>&lt;int&gt;</th><th scope=col>&lt;int&gt;</th><th scope=col>&lt;dbl&gt;</th><th scope=col>&lt;dbl&gt;</th><th scope=col>&lt;int&gt;</th><th scope=col>&lt;dbl&gt;</th><th scope=col>&lt;dbl&gt;</th><th scope=col>&lt;dbl&gt;</th></tr>\n",
              "</thead>\n",
              "<tbody>\n",
              "\t<tr><th scope=row>1</th><td>0</td><td>0.23</td><td>2</td><td>1</td><td>3</td><td>61.5</td><td>55</td><td>326</td><td>3.95</td><td>3.98</td><td>2.43</td></tr>\n",
              "\t<tr><th scope=row>2</th><td>1</td><td>0.21</td><td>3</td><td>1</td><td>2</td><td>59.8</td><td>61</td><td>326</td><td>3.89</td><td>3.84</td><td>2.31</td></tr>\n",
              "\t<tr><th scope=row>3</th><td>2</td><td>0.23</td><td>1</td><td>1</td><td>4</td><td>56.9</td><td>65</td><td>327</td><td>4.05</td><td>4.07</td><td>2.31</td></tr>\n",
              "\t<tr><th scope=row>4</th><td>3</td><td>0.29</td><td>3</td><td>5</td><td>5</td><td>62.4</td><td>58</td><td>334</td><td>4.20</td><td>4.23</td><td>2.63</td></tr>\n",
              "\t<tr><th scope=row>5</th><td>4</td><td>0.31</td><td>1</td><td>6</td><td>3</td><td>63.3</td><td>58</td><td>335</td><td>4.34</td><td>4.35</td><td>2.75</td></tr>\n",
              "\t<tr><th scope=row>6</th><td>5</td><td>0.24</td><td>4</td><td>6</td><td>7</td><td>62.8</td><td>57</td><td>336</td><td>3.94</td><td>3.96</td><td>2.48</td></tr>\n",
              "</tbody>\n",
              "</table>\n"
            ],
            "text/markdown": "\nA data.frame: 6 × 11\n\n| <!--/--> | indice &lt;int&gt; | quilates &lt;dbl&gt; | talla &lt;int&gt; | color &lt;int&gt; | claridad &lt;int&gt; | profundidad &lt;dbl&gt; | tabla &lt;dbl&gt; | precio &lt;int&gt; | x &lt;dbl&gt; | y &lt;dbl&gt; | z &lt;dbl&gt; |\n|---|---|---|---|---|---|---|---|---|---|---|---|\n| 1 | 0 | 0.23 | 2 | 1 | 3 | 61.5 | 55 | 326 | 3.95 | 3.98 | 2.43 |\n| 2 | 1 | 0.21 | 3 | 1 | 2 | 59.8 | 61 | 326 | 3.89 | 3.84 | 2.31 |\n| 3 | 2 | 0.23 | 1 | 1 | 4 | 56.9 | 65 | 327 | 4.05 | 4.07 | 2.31 |\n| 4 | 3 | 0.29 | 3 | 5 | 5 | 62.4 | 58 | 334 | 4.20 | 4.23 | 2.63 |\n| 5 | 4 | 0.31 | 1 | 6 | 3 | 63.3 | 58 | 335 | 4.34 | 4.35 | 2.75 |\n| 6 | 5 | 0.24 | 4 | 6 | 7 | 62.8 | 57 | 336 | 3.94 | 3.96 | 2.48 |\n\n",
            "text/latex": "A data.frame: 6 × 11\n\\begin{tabular}{r|lllllllllll}\n  & indice & quilates & talla & color & claridad & profundidad & tabla & precio & x & y & z\\\\\n  & <int> & <dbl> & <int> & <int> & <int> & <dbl> & <dbl> & <int> & <dbl> & <dbl> & <dbl>\\\\\n\\hline\n\t1 & 0 & 0.23 & 2 & 1 & 3 & 61.5 & 55 & 326 & 3.95 & 3.98 & 2.43\\\\\n\t2 & 1 & 0.21 & 3 & 1 & 2 & 59.8 & 61 & 326 & 3.89 & 3.84 & 2.31\\\\\n\t3 & 2 & 0.23 & 1 & 1 & 4 & 56.9 & 65 & 327 & 4.05 & 4.07 & 2.31\\\\\n\t4 & 3 & 0.29 & 3 & 5 & 5 & 62.4 & 58 & 334 & 4.20 & 4.23 & 2.63\\\\\n\t5 & 4 & 0.31 & 1 & 6 & 3 & 63.3 & 58 & 335 & 4.34 & 4.35 & 2.75\\\\\n\t6 & 5 & 0.24 & 4 & 6 & 7 & 62.8 & 57 & 336 & 3.94 & 3.96 & 2.48\\\\\n\\end{tabular}\n",
            "text/plain": [
              "  indice quilates talla color claridad profundidad tabla precio x    y    z   \n",
              "1 0      0.23     2     1     3        61.5        55    326    3.95 3.98 2.43\n",
              "2 1      0.21     3     1     2        59.8        61    326    3.89 3.84 2.31\n",
              "3 2      0.23     1     1     4        56.9        65    327    4.05 4.07 2.31\n",
              "4 3      0.29     3     5     5        62.4        58    334    4.20 4.23 2.63\n",
              "5 4      0.31     1     6     3        63.3        58    335    4.34 4.35 2.75\n",
              "6 5      0.24     4     6     7        62.8        57    336    3.94 3.96 2.48"
            ]
          },
          "metadata": {}
        },
        {
          "output_type": "stream",
          "name": "stdout",
          "text": [
            "'data.frame':\t53940 obs. of  11 variables:\n",
            " $ indice     : int  0 1 2 3 4 5 6 7 8 9 ...\n",
            " $ quilates   : num  0.23 0.21 0.23 0.29 0.31 0.24 0.24 0.26 0.22 0.23 ...\n",
            " $ talla      : int  2 3 1 3 1 4 4 4 0 4 ...\n",
            " $ color      : int  1 1 1 5 6 6 5 4 1 4 ...\n",
            " $ claridad   : int  3 2 4 5 3 7 6 2 5 4 ...\n",
            " $ profundidad: num  61.5 59.8 56.9 62.4 63.3 62.8 62.3 61.9 65.1 59.4 ...\n",
            " $ tabla      : num  55 61 65 58 58 57 57 55 61 61 ...\n",
            " $ precio     : int  326 326 327 334 335 336 336 337 337 338 ...\n",
            " $ x          : num  3.95 3.89 4.05 4.2 4.34 3.94 3.95 4.07 3.87 4 ...\n",
            " $ y          : num  3.98 3.84 4.07 4.23 4.35 3.96 3.98 4.11 3.78 4.05 ...\n",
            " $ z          : num  2.43 2.31 2.31 2.63 2.75 2.48 2.47 2.53 2.49 2.39 ...\n"
          ]
        },
        {
          "output_type": "display_data",
          "data": {
            "text/html": [
              "<style>\n",
              ".list-inline {list-style: none; margin:0; padding: 0}\n",
              ".list-inline>li {display: inline-block}\n",
              ".list-inline>li:not(:last-child)::after {content: \"\\00b7\"; padding: 0 .5ex}\n",
              "</style>\n",
              "<ol class=list-inline><li>2</li><li>1</li><li>4</li><li>3</li><li>0</li></ol>\n"
            ],
            "text/markdown": "1. 2\n2. 1\n3. 4\n4. 3\n5. 0\n\n\n",
            "text/latex": "\\begin{enumerate*}\n\\item 2\n\\item 1\n\\item 4\n\\item 3\n\\item 0\n\\end{enumerate*}\n",
            "text/plain": [
              "[1] 2 1 4 3 0"
            ]
          },
          "metadata": {}
        },
        {
          "output_type": "display_data",
          "data": {
            "text/html": [
              "<style>\n",
              ".list-inline {list-style: none; margin:0; padding: 0}\n",
              ".list-inline>li {display: inline-block}\n",
              ".list-inline>li:not(:last-child)::after {content: \"\\00b7\"; padding: 0 .5ex}\n",
              "</style>\n",
              "<ol class=list-inline><li>5</li><li>3</li><li>0</li><li>4</li><li>1</li><li>2</li><li>6</li></ol>\n"
            ],
            "text/markdown": "1. 5\n2. 3\n3. 0\n4. 4\n5. 1\n6. 2\n7. 6\n\n\n",
            "text/latex": "\\begin{enumerate*}\n\\item 5\n\\item 3\n\\item 0\n\\item 4\n\\item 1\n\\item 2\n\\item 6\n\\end{enumerate*}\n",
            "text/plain": [
              "[1] 5 3 0 4 1 2 6"
            ]
          },
          "metadata": {}
        },
        {
          "output_type": "display_data",
          "data": {
            "text/html": [
              "<style>\n",
              ".list-inline {list-style: none; margin:0; padding: 0}\n",
              ".list-inline>li {display: inline-block}\n",
              ".list-inline>li:not(:last-child)::after {content: \"\\00b7\"; padding: 0 .5ex}\n",
              "</style>\n",
              "<ol class=list-inline><li>4</li><li>6</li><li>1</li><li>2</li><li>5</li><li>7</li><li>3</li><li>0</li></ol>\n"
            ],
            "text/markdown": "1. 4\n2. 6\n3. 1\n4. 2\n5. 5\n6. 7\n7. 3\n8. 0\n\n\n",
            "text/latex": "\\begin{enumerate*}\n\\item 4\n\\item 6\n\\item 1\n\\item 2\n\\item 5\n\\item 7\n\\item 3\n\\item 0\n\\end{enumerate*}\n",
            "text/plain": [
              "[1] 4 6 1 2 5 7 3 0"
            ]
          },
          "metadata": {}
        },
        {
          "output_type": "stream",
          "name": "stdout",
          "text": [
            " Factor w/ 5 levels \"0\",\"1\",\"2\",\"3\",..: 3 3 3 3 3 2 5 2 3 5 ...\n",
            " Factor w/ 7 levels \"0\",\"1\",\"2\",\"3\",..: 6 4 1 5 2 2 1 5 2 6 ...\n",
            " Factor w/ 8 levels \"0\",\"1\",\"2\",\"3\",..: 5 5 5 7 2 3 6 3 5 3 ...\n"
          ]
        }
      ]
    },
    {
      "cell_type": "code",
      "source": [
        "# MODELO COMPLETO\n",
        "\n",
        "# Crear el modelo de regresión lineal completo\n",
        "model_full <- lm(precio ~ ., data = train_data)\n",
        "\n",
        "# Aplicar stepwise\n",
        "model_stepwise <- stepAIC(model_full, direction = \"both\")\n",
        "\n",
        "# Resumen del modelo stepwise\n",
        "summary(model_stepwise)\n",
        "\n",
        "# Evaluar el desempeño en términos de RMSE y R² en el conjunto de prueba\n",
        "preds <- predict(model_stepwise, newdata = test_data)\n",
        "rmse <- sqrt(mean((test_data$precio - preds)^2))\n",
        "r_squared <- 1 - sum((test_data$precio - preds)^2) / sum((test_data$precio - mean(test_data$precio))^2)\n",
        "\n",
        "cat(\"RMSE:\", rmse, \"\\nR²:\", r_squared, \"\\n\")"
      ],
      "metadata": {
        "colab": {
          "base_uri": "https://localhost:8080/",
          "height": 1000
        },
        "id": "cXDVo75VBI4l",
        "outputId": "05acd486-275b-474a-8de5-3e8fe4201b77"
      },
      "execution_count": 14,
      "outputs": [
        {
          "output_type": "stream",
          "name": "stdout",
          "text": [
            "Start:  AIC=105418\n",
            "precio ~ indice + quilates + talla + color + claridad + profundidad + \n",
            "    tabla + x + y + z\n",
            "\n",
            "              Df  Sum of Sq        RSS    AIC\n",
            "<none>                      9.4403e+09 105418\n",
            "- profundidad  1    3506717 9.4438e+09 105419\n",
            "- tabla        1    5558202 9.4458e+09 105420\n",
            "- y            1   16495561 9.4568e+09 105429\n",
            "- x            1   23417454 9.4637e+09 105435\n",
            "- z            1   34201933 9.4745e+09 105443\n",
            "- indice       1   51914230 9.4922e+09 105457\n",
            "- talla        4  155039489 9.5953e+09 105532\n",
            "- color        6 2489316679 1.1930e+10 107162\n",
            "- claridad     7 4610033187 1.4050e+10 108387\n",
            "- quilates     1 9901784067 1.9342e+10 110797\n"
          ]
        },
        {
          "output_type": "display_data",
          "data": {
            "text/plain": [
              "\n",
              "Call:\n",
              "lm(formula = precio ~ indice + quilates + talla + color + claridad + \n",
              "    profundidad + tabla + x + y + z, data = train_data)\n",
              "\n",
              "Residuals:\n",
              "     Min       1Q   Median       3Q      Max \n",
              "-15228.4   -597.7   -169.9    374.3   9953.4 \n",
              "\n",
              "Coefficients:\n",
              "              Estimate Std. Error t value Pr(>|t|)    \n",
              "(Intercept) -4.512e+03  1.434e+03  -3.146 0.001659 ** \n",
              "indice       5.917e-03  9.227e-04   6.412 1.52e-10 ***\n",
              "quilates     1.144e+04  1.292e+02  88.558  < 2e-16 ***\n",
              "talla1       6.200e+02  9.650e+01   6.424 1.41e-10 ***\n",
              "talla2       9.579e+02  9.528e+01  10.054  < 2e-16 ***\n",
              "talla3       8.835e+02  9.134e+01   9.673  < 2e-16 ***\n",
              "talla4       8.182e+02  9.366e+01   8.736  < 2e-16 ***\n",
              "color1      -2.044e+02  4.794e+01  -4.263 2.04e-05 ***\n",
              "color2      -3.397e+02  4.853e+01  -7.000 2.78e-12 ***\n",
              "color3      -4.850e+02  4.709e+01 -10.297  < 2e-16 ***\n",
              "color4      -1.035e+03  5.042e+01 -20.519  < 2e-16 ***\n",
              "color5      -1.570e+03  5.715e+01 -27.476  < 2e-16 ***\n",
              "color6      -2.400e+03  7.032e+01 -34.132  < 2e-16 ***\n",
              "claridad1    5.206e+03  1.433e+02  36.318  < 2e-16 ***\n",
              "claridad2    3.595e+03  1.236e+02  29.075  < 2e-16 ***\n",
              "claridad3    2.646e+03  1.240e+02  21.338  < 2e-16 ***\n",
              "claridad4    4.532e+03  1.260e+02  35.969  < 2e-16 ***\n",
              "claridad5    4.203e+03  1.243e+02  33.820  < 2e-16 ***\n",
              "claridad6    4.915e+03  1.330e+02  36.953  < 2e-16 ***\n",
              "claridad7    4.852e+03  1.294e+02  37.511  < 2e-16 ***\n",
              "profundidad  3.215e+01  1.929e+01   1.667 0.095643 .  \n",
              "tabla       -1.630e+01  7.767e+00  -2.098 0.035925 *  \n",
              "x           -1.284e+03  2.980e+02  -4.307 1.68e-05 ***\n",
              "y            1.073e+03  2.969e+02   3.615 0.000303 ***\n",
              "z           -1.364e+03  2.621e+02  -5.205 1.99e-07 ***\n",
              "---\n",
              "Signif. codes:  0 ‘***’ 0.001 ‘**’ 0.01 ‘*’ 0.05 ‘.’ 0.1 ‘ ’ 1\n",
              "\n",
              "Residual standard error: 1124 on 7477 degrees of freedom\n",
              "Multiple R-squared:  0.9207,\tAdjusted R-squared:  0.9205 \n",
              "F-statistic:  3619 on 24 and 7477 DF,  p-value: < 2.2e-16\n"
            ]
          },
          "metadata": {}
        },
        {
          "output_type": "stream",
          "name": "stdout",
          "text": [
            "RMSE: 1057.031 \n",
            "R²: 0.9259723 \n"
          ]
        }
      ]
    },
    {
      "cell_type": "code",
      "source": [
        "# MODELO ELASTIC NET\n",
        "\n",
        "# Separar la variable objetivo (precio) de las variables predictoras\n",
        "x_train <- as.matrix(train_data[ , -ncol(train_data)])\n",
        "y_train <- train_data$precio\n",
        "x_test <- as.matrix(test_data[ , -ncol(test_data)])\n",
        "y_test <- test_data$precio\n",
        "\n",
        "# Sintonizar parámetro alpha\n",
        "for (i in 1:9){\n",
        "  assign(paste(\"found\", i, sep=\"\"), cv.glmnet(x_train, y_train, nfolds=5, alpha=i/10))}\n",
        "\n",
        "print(min(found1$cvm))\n",
        "print(min(found2$cvm))\n",
        "print(min(found3$cvm))\n",
        "print(min(found4$cvm))\n",
        "print(min(found5$cvm))\n",
        "print(min(found6$cvm))\n",
        "print(min(found7$cvm))\n",
        "print(min(found8$cvm))\n",
        "print(min(found9$cvm))"
      ],
      "metadata": {
        "colab": {
          "base_uri": "https://localhost:8080/"
        },
        "id": "T5TlFyG5A6yQ",
        "outputId": "acc59cc2-58ee-40d3-d96a-4b345846bff3"
      },
      "execution_count": 26,
      "outputs": [
        {
          "output_type": "stream",
          "name": "stdout",
          "text": [
            "[1] 15841.38\n",
            "[1] 14039.45\n",
            "[1] 14986.4\n",
            "[1] 14410.65\n",
            "[1] 15548.98\n",
            "[1] 15261.39\n",
            "[1] 13540.52\n",
            "[1] 15580.12\n",
            "[1] 13904.98\n"
          ]
        }
      ]
    },
    {
      "cell_type": "code",
      "source": [
        "# Entrenar el modelo Elastic Net\n",
        "set.seed(123)\n",
        "cv_model <- cv.glmnet(x_train, y_train, alpha = 0.7)  # alpha = 1 para Elastic Net\n",
        "best_lambda <- cv_model$lambda.min\n",
        "\n",
        "# Resumen del modelo\n",
        "print(cv_model)\n",
        "print(coef(cv_model,s=best_lambda))\n",
        "\n",
        "# Hacer predicciones en el conjunto de prueba\n",
        "preds <- predict(cv_model, s = best_lambda, newx = x_test)\n",
        "\n",
        "# Evaluar el desempeño en términos de RMSE y R²\n",
        "rmse <- sqrt(mean((y_test - preds)^2))\n",
        "r_squared <- 1 - sum((y_test - preds)^2) / sum((y_test - mean(y_test))^2)\n",
        "\n",
        "cat(\"RMSE:\", rmse, \"\\nR²:\", r_squared, \"\\n\")\n",
        "cat(\"Lambda óptimo:\", best_lambda, \"\\n\")"
      ],
      "metadata": {
        "colab": {
          "base_uri": "https://localhost:8080/"
        },
        "id": "xu1T3g8QChD5",
        "outputId": "9eaa2c19-9f8f-42f4-8593-051ea4d12f50"
      },
      "execution_count": 29,
      "outputs": [
        {
          "output_type": "stream",
          "name": "stdout",
          "text": [
            "\n",
            "Call:  cv.glmnet(x = x_train, y = y_train, alpha = 0.7) \n",
            "\n",
            "Measure: Mean-Squared Error \n",
            "\n",
            "    Lambda Index Measure    SE Nonzero\n",
            "min  104.2    44   13520 324.6       2\n",
            "1se  104.2    44   13520 324.6       2\n",
            "11 x 1 sparse Matrix of class \"dgCMatrix\"\n",
            "                     s1\n",
            "(Intercept) -10.0687058\n",
            "indice        .        \n",
            "quilates    300.1838334\n",
            "talla         .        \n",
            "color         .        \n",
            "claridad      .        \n",
            "profundidad   .        \n",
            "tabla         .        \n",
            "precio        0.9416024\n",
            "x             .        \n",
            "y             .        \n",
            "RMSE: 108.633 \n",
            "R²: 0.9992181 \n",
            "Lambda óptimo: 104.2097 \n"
          ]
        }
      ]
    },
    {
      "cell_type": "markdown",
      "source": [
        "\n",
        "1. **Modelo de Regresión Lineal Múltiple con Método Stepwise:**\n",
        "\n",
        "   Usamos un modelo de regresión lineal múltiple para predecir el precio de los diamantes y aplicamos el método stepwise para seleccionar las variables más importantes. Las variables finales en el modelo incluyeron `quilates`, `talla`, `color`, y `claridad`. Evaluamos el modelo y obtuvimos un RMSE de 1057.031 y un \\( R^2 \\) de 0.9205. Esto significa que el modelo explica aproximadamente el 92.05% de la variabilidad en los precios de los diamantes, lo cual es bastante bueno.\n",
        "\n",
        "2. **Modelo de Regresión Lineal con Regularización Elastic Net:**\n",
        "\n",
        "   Luego, ajustamos un modelo de Elastic Net, que es un tipo de regresión lineal con regularización para evitar el sobreajuste. Encontramos el mejor valor de lambda para la regularización, que resultó ser 104.2. Este modelo tuvo un RMSE de 108.63 y un \\( R^2 \\) de 0.99 con datos de prueba. Comparado con el modelo sin regularización, el Elastic Net mejoró sustancialmente el desempeño, con un menor RMSE y un \\( R^2 \\) más alto. Esto sugiere que la regularización ayuda a hacer mejores predicciones al manejar mejor las variables del modelo."
      ],
      "metadata": {
        "id": "IdNVwAXO4Bcq"
      }
    },
    {
      "cell_type": "markdown",
      "source": [
        "![image.png](data:image/png;base64,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)"
      ],
      "metadata": {
        "id": "EXixaythF0L_"
      }
    },
    {
      "cell_type": "markdown",
      "source": [
        "## Lambda = 104.2\n",
        "## alfa = 0.7\n",
        "## m = (300.1838 , 0 , 0 , 0 , 0 , 0 , 0.9416 , 0 , 0)"
      ],
      "metadata": {
        "id": "fG8LGpqqF3-T"
      }
    }
  ]
}