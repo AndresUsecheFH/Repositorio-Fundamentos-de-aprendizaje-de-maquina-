{
  "nbformat": 4,
  "nbformat_minor": 0,
  "metadata": {
    "colab": {
      "provenance": []
    },
    "kernelspec": {
      "name": "ir",
      "display_name": "R"
    },
    "language_info": {
      "name": "R"
    }
  },
  "cells": [
    {
      "cell_type": "code",
      "execution_count": null,
      "metadata": {
        "colab": {
          "base_uri": "https://localhost:8080/"
        },
        "id": "YaRAKWhkQllO",
        "outputId": "37dcf7a0-98e7-48c5-aaf6-fa75dd6c8d28"
      },
      "outputs": [
        {
          "output_type": "stream",
          "name": "stderr",
          "text": [
            "Loading required package: caret\n",
            "\n",
            "Warning message in library(package, lib.loc = lib.loc, character.only = TRUE, logical.return = TRUE, :\n",
            "“there is no package called ‘caret’”\n",
            "Installing package into ‘/usr/local/lib/R/site-library’\n",
            "(as ‘lib’ is unspecified)\n",
            "\n",
            "also installing the dependencies ‘listenv’, ‘parallelly’, ‘future’, ‘globals’, ‘shape’, ‘future.apply’, ‘numDeriv’, ‘progressr’, ‘SQUAREM’, ‘diagram’, ‘lava’, ‘prodlim’, ‘proxy’, ‘iterators’, ‘clock’, ‘gower’, ‘hardhat’, ‘ipred’, ‘sparsevctrs’, ‘timeDate’, ‘e1071’, ‘foreach’, ‘ModelMetrics’, ‘plyr’, ‘pROC’, ‘recipes’, ‘reshape2’\n",
            "\n",
            "\n",
            "Loading required package: glmnet\n",
            "\n",
            "Warning message in library(package, lib.loc = lib.loc, character.only = TRUE, logical.return = TRUE, :\n",
            "“there is no package called ‘glmnet’”\n",
            "Installing package into ‘/usr/local/lib/R/site-library’\n",
            "(as ‘lib’ is unspecified)\n",
            "\n",
            "also installing the dependency ‘RcppEigen’\n",
            "\n",
            "\n",
            "Loading required package: pROC\n",
            "\n",
            "Type 'citation(\"pROC\")' for a citation.\n",
            "\n",
            "\n",
            "Attaching package: ‘pROC’\n",
            "\n",
            "\n",
            "The following objects are masked from ‘package:stats’:\n",
            "\n",
            "    cov, smooth, var\n",
            "\n",
            "\n",
            "Loading required package: ROCR\n",
            "\n",
            "Warning message in library(package, lib.loc = lib.loc, character.only = TRUE, logical.return = TRUE, :\n",
            "“there is no package called ‘ROCR’”\n",
            "Installing package into ‘/usr/local/lib/R/site-library’\n",
            "(as ‘lib’ is unspecified)\n",
            "\n",
            "also installing the dependencies ‘bitops’, ‘gtools’, ‘caTools’, ‘gplots’\n",
            "\n",
            "\n"
          ]
        }
      ],
      "source": [
        "if (!require('caret')) install.packages('caret')\n",
        "if (!require('glmnet')) install.packages('glmnet')\n",
        "if (!require('pROC')) install.packages('pROC')\n",
        "if (!require('ROCR')) install.packages('ROCR')"
      ]
    },
    {
      "source": [
        "if (!require('MLmetrics')) install.packages('MLmetrics')"
      ],
      "cell_type": "code",
      "metadata": {
        "colab": {
          "base_uri": "https://localhost:8080/"
        },
        "id": "2aF8gakwU_7G",
        "outputId": "d7bbfc59-1a28-4dc8-e5bd-e276938ef283"
      },
      "execution_count": null,
      "outputs": [
        {
          "output_type": "stream",
          "name": "stderr",
          "text": [
            "Loading required package: MLmetrics\n",
            "\n",
            "\n",
            "Attaching package: ‘MLmetrics’\n",
            "\n",
            "\n",
            "The following objects are masked from ‘package:caret’:\n",
            "\n",
            "    MAE, RMSE\n",
            "\n",
            "\n",
            "The following object is masked from ‘package:base’:\n",
            "\n",
            "    Recall\n",
            "\n",
            "\n"
          ]
        }
      ]
    },
    {
      "cell_type": "code",
      "source": [
        "\n",
        "library(tidyverse)\n",
        "library(caret)\n",
        "library(pROC)\n",
        "library(e1071)"
      ],
      "metadata": {
        "id": "gR_e8d1TQmeP"
      },
      "execution_count": null,
      "outputs": []
    },
    {
      "cell_type": "code",
      "source": [
        "\n",
        "data <- read.csv(\"/content/Bonificacion.csv\")\n"
      ],
      "metadata": {
        "id": "TZ9iHmQtWF08"
      },
      "execution_count": null,
      "outputs": []
    },
    {
      "cell_type": "code",
      "source": [
        "\n",
        "str(data)\n",
        "summary(data)\n",
        "head(data)"
      ],
      "metadata": {
        "colab": {
          "base_uri": "https://localhost:8080/",
          "height": 1000
        },
        "id": "ueT7vSMrWkrT",
        "outputId": "407684ae-b3ed-4f24-901a-97fc8b42e363"
      },
      "execution_count": null,
      "outputs": [
        {
          "output_type": "stream",
          "name": "stdout",
          "text": [
            "'data.frame':\t838 obs. of  12 variables:\n",
            " $ Personas_Hogar                    : num  7 2 12 6 1 8 5 9 7 10 ...\n",
            " $ Subsidio_agua                     : num  16471 22474 16312 16090 46700 ...\n",
            " $ Tipo_jardin                       : num  2 2 0 0 2 2 1 1 0 1 ...\n",
            " $ Tiempo_en_ducha                   : num  11 4 1 1 3 15 2 2 2 12 ...\n",
            " $ Cantidad_de_veces_que_se_lava_loza: num  8 2 2 1 1 7 2 3 1 10 ...\n",
            " $ Drenaje_diario                    : num  12 1 1 1 1 8 3 14 3 15 ...\n",
            " $ Lavadora                          : num  6 7 7 6 2 5 1 3 3 6 ...\n",
            " $ Cantidad_de_Litros_tomados        : num  4 2 2 4 1 3 5 3 5 2 ...\n",
            " $ Metros_inmueble                   : num  28 98 133 154 170 158 197 126 145 184 ...\n",
            " $ Bono                              : int  1 1 1 1 1 1 1 1 1 1 ...\n",
            " $ Mascotas                          : num  10 7 2 6 5 7 5 1 4 2 ...\n",
            " $ Fiestas_mes                       : num  5 4 2 7 7 2 5 5 9 5 ...\n"
          ]
        },
        {
          "output_type": "display_data",
          "data": {
            "text/plain": [
              " Personas_Hogar  Subsidio_agua    Tipo_jardin    Tiempo_en_ducha \n",
              " Min.   : 1.00   Min.   :15243   Min.   :0.000   Min.   : 1.000  \n",
              " 1st Qu.: 5.00   1st Qu.:25843   1st Qu.:0.000   1st Qu.: 2.000  \n",
              " Median :10.00   Median :35996   Median :1.000   Median : 7.000  \n",
              " Mean   :10.95   Mean   :33913   Mean   :0.854   Mean   : 6.962  \n",
              " 3rd Qu.:14.71   3rd Qu.:40319   3rd Qu.:2.000   3rd Qu.:11.000  \n",
              " Max.   :68.36   Max.   :55109   Max.   :2.357   Max.   :16.000  \n",
              " Cantidad_de_veces_que_se_lava_loza Drenaje_diario      Lavadora    \n",
              " Min.   : 1.000                     Min.   : 1.000   Min.   :1.000  \n",
              " 1st Qu.: 2.000                     1st Qu.: 3.000   1st Qu.:2.000  \n",
              " Median : 6.000                     Median :10.000   Median :4.000  \n",
              " Mean   : 5.162                     Mean   : 8.772   Mean   :3.828  \n",
              " 3rd Qu.: 8.000                     3rd Qu.:13.000   3rd Qu.:5.108  \n",
              " Max.   :10.000                     Max.   :16.000   Max.   :7.000  \n",
              " Cantidad_de_Litros_tomados Metros_inmueble      Bono           Mascotas     \n",
              " Min.   :1.000              Min.   : 25.0   Min.   :0.0000   Min.   : 1.000  \n",
              " 1st Qu.:2.000              1st Qu.: 79.0   1st Qu.:0.0000   1st Qu.: 3.415  \n",
              " Median :3.000              Median :103.0   Median :1.0000   Median : 6.000  \n",
              " Mean   :2.943              Mean   :114.7   Mean   :0.5382   Mean   : 5.816  \n",
              " 3rd Qu.:4.000              3rd Qu.:148.0   3rd Qu.:1.0000   3rd Qu.: 8.000  \n",
              " Max.   :5.000              Max.   :467.3   Max.   :1.0000   Max.   :10.000  \n",
              "  Fiestas_mes    \n",
              " Min.   : 1.000  \n",
              " 1st Qu.: 3.000  \n",
              " Median : 5.797  \n",
              " Mean   : 5.494  \n",
              " 3rd Qu.: 8.000  \n",
              " Max.   :15.851  "
            ]
          },
          "metadata": {}
        },
        {
          "output_type": "display_data",
          "data": {
            "text/html": [
              "<table class=\"dataframe\">\n",
              "<caption>A data.frame: 6 × 12</caption>\n",
              "<thead>\n",
              "\t<tr><th></th><th scope=col>Personas_Hogar</th><th scope=col>Subsidio_agua</th><th scope=col>Tipo_jardin</th><th scope=col>Tiempo_en_ducha</th><th scope=col>Cantidad_de_veces_que_se_lava_loza</th><th scope=col>Drenaje_diario</th><th scope=col>Lavadora</th><th scope=col>Cantidad_de_Litros_tomados</th><th scope=col>Metros_inmueble</th><th scope=col>Bono</th><th scope=col>Mascotas</th><th scope=col>Fiestas_mes</th></tr>\n",
              "\t<tr><th></th><th scope=col>&lt;dbl&gt;</th><th scope=col>&lt;dbl&gt;</th><th scope=col>&lt;dbl&gt;</th><th scope=col>&lt;dbl&gt;</th><th scope=col>&lt;dbl&gt;</th><th scope=col>&lt;dbl&gt;</th><th scope=col>&lt;dbl&gt;</th><th scope=col>&lt;dbl&gt;</th><th scope=col>&lt;dbl&gt;</th><th scope=col>&lt;int&gt;</th><th scope=col>&lt;dbl&gt;</th><th scope=col>&lt;dbl&gt;</th></tr>\n",
              "</thead>\n",
              "<tbody>\n",
              "\t<tr><th scope=row>1</th><td> 7</td><td>16471</td><td>2</td><td>11</td><td>8</td><td>12</td><td>6</td><td>4</td><td> 28</td><td>1</td><td>10</td><td>5</td></tr>\n",
              "\t<tr><th scope=row>2</th><td> 2</td><td>22474</td><td>2</td><td> 4</td><td>2</td><td> 1</td><td>7</td><td>2</td><td> 98</td><td>1</td><td> 7</td><td>4</td></tr>\n",
              "\t<tr><th scope=row>3</th><td>12</td><td>16312</td><td>0</td><td> 1</td><td>2</td><td> 1</td><td>7</td><td>2</td><td>133</td><td>1</td><td> 2</td><td>2</td></tr>\n",
              "\t<tr><th scope=row>4</th><td> 6</td><td>16090</td><td>0</td><td> 1</td><td>1</td><td> 1</td><td>6</td><td>4</td><td>154</td><td>1</td><td> 6</td><td>7</td></tr>\n",
              "\t<tr><th scope=row>5</th><td> 1</td><td>46700</td><td>2</td><td> 3</td><td>1</td><td> 1</td><td>2</td><td>1</td><td>170</td><td>1</td><td> 5</td><td>7</td></tr>\n",
              "\t<tr><th scope=row>6</th><td> 8</td><td>35360</td><td>2</td><td>15</td><td>7</td><td> 8</td><td>5</td><td>3</td><td>158</td><td>1</td><td> 7</td><td>2</td></tr>\n",
              "</tbody>\n",
              "</table>\n"
            ],
            "text/markdown": "\nA data.frame: 6 × 12\n\n| <!--/--> | Personas_Hogar &lt;dbl&gt; | Subsidio_agua &lt;dbl&gt; | Tipo_jardin &lt;dbl&gt; | Tiempo_en_ducha &lt;dbl&gt; | Cantidad_de_veces_que_se_lava_loza &lt;dbl&gt; | Drenaje_diario &lt;dbl&gt; | Lavadora &lt;dbl&gt; | Cantidad_de_Litros_tomados &lt;dbl&gt; | Metros_inmueble &lt;dbl&gt; | Bono &lt;int&gt; | Mascotas &lt;dbl&gt; | Fiestas_mes &lt;dbl&gt; |\n|---|---|---|---|---|---|---|---|---|---|---|---|---|\n| 1 |  7 | 16471 | 2 | 11 | 8 | 12 | 6 | 4 |  28 | 1 | 10 | 5 |\n| 2 |  2 | 22474 | 2 |  4 | 2 |  1 | 7 | 2 |  98 | 1 |  7 | 4 |\n| 3 | 12 | 16312 | 0 |  1 | 2 |  1 | 7 | 2 | 133 | 1 |  2 | 2 |\n| 4 |  6 | 16090 | 0 |  1 | 1 |  1 | 6 | 4 | 154 | 1 |  6 | 7 |\n| 5 |  1 | 46700 | 2 |  3 | 1 |  1 | 2 | 1 | 170 | 1 |  5 | 7 |\n| 6 |  8 | 35360 | 2 | 15 | 7 |  8 | 5 | 3 | 158 | 1 |  7 | 2 |\n\n",
            "text/latex": "A data.frame: 6 × 12\n\\begin{tabular}{r|llllllllllll}\n  & Personas\\_Hogar & Subsidio\\_agua & Tipo\\_jardin & Tiempo\\_en\\_ducha & Cantidad\\_de\\_veces\\_que\\_se\\_lava\\_loza & Drenaje\\_diario & Lavadora & Cantidad\\_de\\_Litros\\_tomados & Metros\\_inmueble & Bono & Mascotas & Fiestas\\_mes\\\\\n  & <dbl> & <dbl> & <dbl> & <dbl> & <dbl> & <dbl> & <dbl> & <dbl> & <dbl> & <int> & <dbl> & <dbl>\\\\\n\\hline\n\t1 &  7 & 16471 & 2 & 11 & 8 & 12 & 6 & 4 &  28 & 1 & 10 & 5\\\\\n\t2 &  2 & 22474 & 2 &  4 & 2 &  1 & 7 & 2 &  98 & 1 &  7 & 4\\\\\n\t3 & 12 & 16312 & 0 &  1 & 2 &  1 & 7 & 2 & 133 & 1 &  2 & 2\\\\\n\t4 &  6 & 16090 & 0 &  1 & 1 &  1 & 6 & 4 & 154 & 1 &  6 & 7\\\\\n\t5 &  1 & 46700 & 2 &  3 & 1 &  1 & 2 & 1 & 170 & 1 &  5 & 7\\\\\n\t6 &  8 & 35360 & 2 & 15 & 7 &  8 & 5 & 3 & 158 & 1 &  7 & 2\\\\\n\\end{tabular}\n",
            "text/plain": [
              "  Personas_Hogar Subsidio_agua Tipo_jardin Tiempo_en_ducha\n",
              "1  7             16471         2           11             \n",
              "2  2             22474         2            4             \n",
              "3 12             16312         0            1             \n",
              "4  6             16090         0            1             \n",
              "5  1             46700         2            3             \n",
              "6  8             35360         2           15             \n",
              "  Cantidad_de_veces_que_se_lava_loza Drenaje_diario Lavadora\n",
              "1 8                                  12             6       \n",
              "2 2                                   1             7       \n",
              "3 2                                   1             7       \n",
              "4 1                                   1             6       \n",
              "5 1                                   1             2       \n",
              "6 7                                   8             5       \n",
              "  Cantidad_de_Litros_tomados Metros_inmueble Bono Mascotas Fiestas_mes\n",
              "1 4                           28             1    10       5          \n",
              "2 2                           98             1     7       4          \n",
              "3 2                          133             1     2       2          \n",
              "4 4                          154             1     6       7          \n",
              "5 1                          170             1     5       7          \n",
              "6 3                          158             1     7       2          "
            ]
          },
          "metadata": {}
        }
      ]
    },
    {
      "cell_type": "code",
      "source": [
        "\n",
        "\n",
        "data$Bono <- as.factor(data$Bono)\n"
      ],
      "metadata": {
        "id": "dO3ykNqaWIn8"
      },
      "execution_count": null,
      "outputs": []
    },
    {
      "cell_type": "code",
      "source": [
        "\n",
        "set.seed(159)\n",
        "train_index <- createDataPartition(data$Bono, p = 0.7, list = FALSE)\n",
        "train_data <- data[train_index, ]\n",
        "test_data <- data[-train_index, ]\n"
      ],
      "metadata": {
        "id": "Gnkra5S1WLF7"
      },
      "execution_count": null,
      "outputs": []
    },
    {
      "cell_type": "markdown",
      "source": [
        "PUNTO 1"
      ],
      "metadata": {
        "id": "7SXKFpnXXUCQ"
      }
    },
    {
      "cell_type": "code",
      "source": [
        "\n",
        "\n",
        "modelo <- glm(Bono ~ ., data = train_data, family = \"binomial\")\n",
        "\n",
        "# Predicciones en entrenamiento\n",
        "pred_train_prob <- predict(modelo, type = \"response\")\n",
        "pred_train <- ifelse(pred_train_prob >= 0.5, 1, 0)\n",
        "\n",
        "# Predicciones en prueba\n",
        "pred_test_prob <- predict(modelo, newdata = test_data, type = \"response\")\n",
        "pred_test <- ifelse(pred_test_prob >= 0.5, 1, 0)\n"
      ],
      "metadata": {
        "id": "CatKdPylWOSs"
      },
      "execution_count": null,
      "outputs": []
    },
    {
      "cell_type": "code",
      "source": [
        "\n",
        "# Métricas entrenamiento\n",
        "confusionMatrix(factor(pred_train), train_data$Bono, positive = \"1\")\n",
        "\n"
      ],
      "metadata": {
        "colab": {
          "base_uri": "https://localhost:8080/",
          "height": 486
        },
        "id": "WvMYTZqHbwNH",
        "outputId": "02dbbfa6-0e23-4c4e-9a4d-5a9ac5f30c37"
      },
      "execution_count": null,
      "outputs": [
        {
          "output_type": "display_data",
          "data": {
            "text/plain": [
              "Confusion Matrix and Statistics\n",
              "\n",
              "          Reference\n",
              "Prediction   0   1\n",
              "         0 190  78\n",
              "         1  81 238\n",
              "                                          \n",
              "               Accuracy : 0.7291          \n",
              "                 95% CI : (0.6912, 0.7647)\n",
              "    No Information Rate : 0.5383          \n",
              "    P-Value [Acc > NIR] : <2e-16          \n",
              "                                          \n",
              "                  Kappa : 0.4546          \n",
              "                                          \n",
              " Mcnemar's Test P-Value : 0.874           \n",
              "                                          \n",
              "            Sensitivity : 0.7532          \n",
              "            Specificity : 0.7011          \n",
              "         Pos Pred Value : 0.7461          \n",
              "         Neg Pred Value : 0.7090          \n",
              "             Prevalence : 0.5383          \n",
              "         Detection Rate : 0.4055          \n",
              "   Detection Prevalence : 0.5434          \n",
              "      Balanced Accuracy : 0.7271          \n",
              "                                          \n",
              "       'Positive' Class : 1               \n",
              "                                          "
            ]
          },
          "metadata": {}
        }
      ]
    },
    {
      "cell_type": "code",
      "source": [
        "# Métricas prueba\n",
        "confusionMatrix(factor(pred_test), test_data$Bono, positive = \"1\")"
      ],
      "metadata": {
        "colab": {
          "base_uri": "https://localhost:8080/",
          "height": 486
        },
        "id": "pOnCpEF5bxx3",
        "outputId": "90060869-b1d6-4024-defb-aad0be1f9fb4"
      },
      "execution_count": null,
      "outputs": [
        {
          "output_type": "display_data",
          "data": {
            "text/plain": [
              "Confusion Matrix and Statistics\n",
              "\n",
              "          Reference\n",
              "Prediction   0   1\n",
              "         0  89  35\n",
              "         1  27 100\n",
              "                                          \n",
              "               Accuracy : 0.753           \n",
              "                 95% CI : (0.6948, 0.8051)\n",
              "    No Information Rate : 0.5378          \n",
              "    P-Value [Acc > NIR] : 1.659e-12       \n",
              "                                          \n",
              "                  Kappa : 0.5055          \n",
              "                                          \n",
              " Mcnemar's Test P-Value : 0.374           \n",
              "                                          \n",
              "            Sensitivity : 0.7407          \n",
              "            Specificity : 0.7672          \n",
              "         Pos Pred Value : 0.7874          \n",
              "         Neg Pred Value : 0.7177          \n",
              "             Prevalence : 0.5378          \n",
              "         Detection Rate : 0.3984          \n",
              "   Detection Prevalence : 0.5060          \n",
              "      Balanced Accuracy : 0.7540          \n",
              "                                          \n",
              "       'Positive' Class : 1               \n",
              "                                          "
            ]
          },
          "metadata": {}
        }
      ]
    },
    {
      "cell_type": "code",
      "source": [
        "library(MLmetrics)\n",
        "F1_Score(y_pred = pred_train, y_true = train$Bono, positive = \"1\")\n",
        "F1_Score(y_pred = pred_test, y_true = test$Bono, positive = \"1\")\n"
      ],
      "metadata": {
        "colab": {
          "base_uri": "https://localhost:8080/",
          "height": 52
        },
        "id": "cSu1f-I2S0zS",
        "outputId": "764cd88f-3ca9-45b4-d201-a263f00fd73b"
      },
      "execution_count": null,
      "outputs": [
        {
          "output_type": "display_data",
          "data": {
            "text/html": [
              "0.749606299212598"
            ],
            "text/markdown": "0.749606299212598",
            "text/latex": "0.749606299212598",
            "text/plain": [
              "[1] 0.7496063"
            ]
          },
          "metadata": {}
        },
        {
          "output_type": "display_data",
          "data": {
            "text/html": [
              "0.763358778625954"
            ],
            "text/markdown": "0.763358778625954",
            "text/latex": "0.763358778625954",
            "text/plain": [
              "[1] 0.7633588"
            ]
          },
          "metadata": {}
        }
      ]
    },
    {
      "cell_type": "markdown",
      "source": [
        "PUNTO 2"
      ],
      "metadata": {
        "id": "iGtzzdutZYqQ"
      }
    },
    {
      "cell_type": "code",
      "source": [
        "summary(modelo)\n"
      ],
      "metadata": {
        "colab": {
          "base_uri": "https://localhost:8080/",
          "height": 503
        },
        "id": "OrD1_axUS-nq",
        "outputId": "7aacbe8c-148a-4bef-c2db-c4d6e81005ac"
      },
      "execution_count": null,
      "outputs": [
        {
          "output_type": "display_data",
          "data": {
            "text/plain": [
              "\n",
              "Call:\n",
              "glm(formula = Bono ~ ., family = \"binomial\", data = train_data)\n",
              "\n",
              "Coefficients:\n",
              "                                     Estimate Std. Error z value Pr(>|z|)    \n",
              "(Intercept)                         2.156e+00  6.947e-01   3.104 0.001908 ** \n",
              "Personas_Hogar                     -2.588e-02  1.718e-02  -1.506 0.132094    \n",
              "Subsidio_agua                      -6.814e-05  1.166e-05  -5.845 5.07e-09 ***\n",
              "Tipo_jardin                         5.496e-01  1.370e-01   4.012 6.02e-05 ***\n",
              "Tiempo_en_ducha                    -1.080e-01  3.486e-02  -3.098 0.001949 ** \n",
              "Cantidad_de_veces_que_se_lava_loza -2.295e-01  5.905e-02  -3.886 0.000102 ***\n",
              "Drenaje_diario                     -3.017e-02  2.746e-02  -1.098 0.271994    \n",
              "Lavadora                            6.696e-02  5.679e-02   1.179 0.238393    \n",
              "Cantidad_de_Litros_tomados          2.228e-01  7.944e-02   2.805 0.005028 ** \n",
              "Metros_inmueble                     7.871e-03  2.322e-03   3.390 0.000700 ***\n",
              "Mascotas                           -2.830e-02  3.659e-02  -0.773 0.439282    \n",
              "Fiestas_mes                         1.445e-01  3.618e-02   3.993 6.53e-05 ***\n",
              "---\n",
              "Signif. codes:  0 ‘***’ 0.001 ‘**’ 0.01 ‘*’ 0.05 ‘.’ 0.1 ‘ ’ 1\n",
              "\n",
              "(Dispersion parameter for binomial family taken to be 1)\n",
              "\n",
              "    Null deviance: 810.30  on 586  degrees of freedom\n",
              "Residual deviance: 590.91  on 575  degrees of freedom\n",
              "AIC: 614.91\n",
              "\n",
              "Number of Fisher Scoring iterations: 5\n"
            ]
          },
          "metadata": {}
        }
      ]
    },
    {
      "cell_type": "code",
      "source": [
        "coef(modelo)\n"
      ],
      "metadata": {
        "colab": {
          "base_uri": "https://localhost:8080/",
          "height": 139
        },
        "id": "Sn3k1g0zS_YS",
        "outputId": "7c46ecde-975d-472f-f9e3-a024bd7573ae"
      },
      "execution_count": null,
      "outputs": [
        {
          "output_type": "display_data",
          "data": {
            "text/html": [
              "<style>\n",
              ".dl-inline {width: auto; margin:0; padding: 0}\n",
              ".dl-inline>dt, .dl-inline>dd {float: none; width: auto; display: inline-block}\n",
              ".dl-inline>dt::after {content: \":\\0020\"; padding-right: .5ex}\n",
              ".dl-inline>dt:not(:first-of-type) {padding-left: .5ex}\n",
              "</style><dl class=dl-inline><dt>(Intercept)</dt><dd>2.15642572537056</dd><dt>Personas_Hogar</dt><dd>-0.0258763527665119</dd><dt>Subsidio_agua</dt><dd>-6.8138362142421e-05</dd><dt>Tipo_jardin</dt><dd>0.549641760383703</dd><dt>Tiempo_en_ducha</dt><dd>-0.107988862719944</dd><dt>Cantidad_de_veces_que_se_lava_loza</dt><dd>-0.229458039256415</dd><dt>Drenaje_diario</dt><dd>-0.0301677163076922</dd><dt>Lavadora</dt><dd>0.0669619658936536</dd><dt>Cantidad_de_Litros_tomados</dt><dd>0.222840936145679</dd><dt>Metros_inmueble</dt><dd>0.00787121736868057</dd><dt>Mascotas</dt><dd>-0.0283027924447261</dd><dt>Fiestas_mes</dt><dd>0.144451230584525</dd></dl>\n"
            ],
            "text/markdown": "(Intercept)\n:   2.15642572537056Personas_Hogar\n:   -0.0258763527665119Subsidio_agua\n:   -6.8138362142421e-05Tipo_jardin\n:   0.549641760383703Tiempo_en_ducha\n:   -0.107988862719944Cantidad_de_veces_que_se_lava_loza\n:   -0.229458039256415Drenaje_diario\n:   -0.0301677163076922Lavadora\n:   0.0669619658936536Cantidad_de_Litros_tomados\n:   0.222840936145679Metros_inmueble\n:   0.00787121736868057Mascotas\n:   -0.0283027924447261Fiestas_mes\n:   0.144451230584525\n\n",
            "text/latex": "\\begin{description*}\n\\item[(Intercept)] 2.15642572537056\n\\item[Personas\\textbackslash{}\\_Hogar] -0.0258763527665119\n\\item[Subsidio\\textbackslash{}\\_agua] -6.8138362142421e-05\n\\item[Tipo\\textbackslash{}\\_jardin] 0.549641760383703\n\\item[Tiempo\\textbackslash{}\\_en\\textbackslash{}\\_ducha] -0.107988862719944\n\\item[Cantidad\\textbackslash{}\\_de\\textbackslash{}\\_veces\\textbackslash{}\\_que\\textbackslash{}\\_se\\textbackslash{}\\_lava\\textbackslash{}\\_loza] -0.229458039256415\n\\item[Drenaje\\textbackslash{}\\_diario] -0.0301677163076922\n\\item[Lavadora] 0.0669619658936536\n\\item[Cantidad\\textbackslash{}\\_de\\textbackslash{}\\_Litros\\textbackslash{}\\_tomados] 0.222840936145679\n\\item[Metros\\textbackslash{}\\_inmueble] 0.00787121736868057\n\\item[Mascotas] -0.0283027924447261\n\\item[Fiestas\\textbackslash{}\\_mes] 0.144451230584525\n\\end{description*}\n",
            "text/plain": [
              "                       (Intercept)                     Personas_Hogar \n",
              "                      2.156426e+00                      -2.587635e-02 \n",
              "                     Subsidio_agua                        Tipo_jardin \n",
              "                     -6.813836e-05                       5.496418e-01 \n",
              "                   Tiempo_en_ducha Cantidad_de_veces_que_se_lava_loza \n",
              "                     -1.079889e-01                      -2.294580e-01 \n",
              "                    Drenaje_diario                           Lavadora \n",
              "                     -3.016772e-02                       6.696197e-02 \n",
              "        Cantidad_de_Litros_tomados                    Metros_inmueble \n",
              "                      2.228409e-01                       7.871217e-03 \n",
              "                          Mascotas                        Fiestas_mes \n",
              "                     -2.830279e-02                       1.444512e-01 "
            ]
          },
          "metadata": {}
        }
      ]
    },
    {
      "cell_type": "code",
      "source": [
        "steplogit<-step(modelo, direction=\"both\")\n",
        "summary(steplogit)"
      ],
      "metadata": {
        "colab": {
          "base_uri": "https://localhost:8080/",
          "height": 1000
        },
        "id": "GVuCIW3uZbgo",
        "outputId": "0360fe34-df7b-47b9-fc51-b4865d75a398"
      },
      "execution_count": null,
      "outputs": [
        {
          "output_type": "stream",
          "name": "stdout",
          "text": [
            "Start:  AIC=614.91\n",
            "Bono ~ Personas_Hogar + Subsidio_agua + Tipo_jardin + Tiempo_en_ducha + \n",
            "    Cantidad_de_veces_que_se_lava_loza + Drenaje_diario + Lavadora + \n",
            "    Cantidad_de_Litros_tomados + Metros_inmueble + Mascotas + \n",
            "    Fiestas_mes\n",
            "\n",
            "                                     Df Deviance    AIC\n",
            "- Mascotas                            1   591.51 613.51\n",
            "- Drenaje_diario                      1   592.11 614.11\n",
            "- Lavadora                            1   592.30 614.30\n",
            "<none>                                    590.91 614.91\n",
            "- Personas_Hogar                      1   593.15 615.15\n",
            "- Cantidad_de_Litros_tomados          1   598.95 620.95\n",
            "- Tiempo_en_ducha                     1   600.66 622.66\n",
            "- Metros_inmueble                     1   602.95 624.95\n",
            "- Cantidad_de_veces_que_se_lava_loza  1   606.86 628.86\n",
            "- Fiestas_mes                         1   607.54 629.54\n",
            "- Tipo_jardin                         1   607.68 629.68\n",
            "- Subsidio_agua                       1   629.29 651.29\n",
            "\n",
            "Step:  AIC=613.51\n",
            "Bono ~ Personas_Hogar + Subsidio_agua + Tipo_jardin + Tiempo_en_ducha + \n",
            "    Cantidad_de_veces_que_se_lava_loza + Drenaje_diario + Lavadora + \n",
            "    Cantidad_de_Litros_tomados + Metros_inmueble + Fiestas_mes\n",
            "\n",
            "                                     Df Deviance    AIC\n",
            "- Drenaje_diario                      1   592.80 612.80\n",
            "- Lavadora                            1   593.14 613.14\n",
            "- Personas_Hogar                      1   593.50 613.50\n",
            "<none>                                    591.51 613.51\n",
            "+ Mascotas                            1   590.91 614.91\n",
            "- Cantidad_de_Litros_tomados          1   599.81 619.81\n",
            "- Tiempo_en_ducha                     1   601.24 621.24\n",
            "- Metros_inmueble                     1   603.64 623.64\n",
            "- Cantidad_de_veces_que_se_lava_loza  1   607.10 627.10\n",
            "- Fiestas_mes                         1   608.12 628.12\n",
            "- Tipo_jardin                         1   608.87 628.87\n",
            "- Subsidio_agua                       1   629.70 649.70\n",
            "\n",
            "Step:  AIC=612.8\n",
            "Bono ~ Personas_Hogar + Subsidio_agua + Tipo_jardin + Tiempo_en_ducha + \n",
            "    Cantidad_de_veces_que_se_lava_loza + Lavadora + Cantidad_de_Litros_tomados + \n",
            "    Metros_inmueble + Fiestas_mes\n",
            "\n",
            "                                     Df Deviance    AIC\n",
            "- Lavadora                            1   594.55 612.55\n",
            "- Personas_Hogar                      1   594.74 612.74\n",
            "<none>                                    592.80 612.80\n",
            "+ Drenaje_diario                      1   591.51 613.51\n",
            "+ Mascotas                            1   592.11 614.11\n",
            "- Cantidad_de_Litros_tomados          1   600.88 618.88\n",
            "- Tiempo_en_ducha                     1   603.08 621.08\n",
            "- Metros_inmueble                     1   605.29 623.29\n",
            "- Fiestas_mes                         1   609.21 627.21\n",
            "- Tipo_jardin                         1   609.45 627.45\n",
            "- Cantidad_de_veces_que_se_lava_loza  1   616.25 634.25\n",
            "- Subsidio_agua                       1   630.06 648.06\n",
            "\n",
            "Step:  AIC=612.55\n",
            "Bono ~ Personas_Hogar + Subsidio_agua + Tipo_jardin + Tiempo_en_ducha + \n",
            "    Cantidad_de_veces_que_se_lava_loza + Cantidad_de_Litros_tomados + \n",
            "    Metros_inmueble + Fiestas_mes\n",
            "\n",
            "                                     Df Deviance    AIC\n",
            "- Personas_Hogar                      1   596.35 612.35\n",
            "<none>                                    594.55 612.55\n",
            "+ Lavadora                            1   592.80 612.80\n",
            "+ Drenaje_diario                      1   593.14 613.14\n",
            "+ Mascotas                            1   593.60 613.60\n",
            "- Cantidad_de_Litros_tomados          1   603.55 619.55\n",
            "- Tiempo_en_ducha                     1   604.25 620.25\n",
            "- Metros_inmueble                     1   606.93 622.93\n",
            "- Fiestas_mes                         1   610.07 626.07\n",
            "- Tipo_jardin                         1   613.60 629.60\n",
            "- Cantidad_de_veces_que_se_lava_loza  1   617.60 633.60\n",
            "- Subsidio_agua                       1   632.25 648.25\n",
            "\n",
            "Step:  AIC=612.35\n",
            "Bono ~ Subsidio_agua + Tipo_jardin + Tiempo_en_ducha + Cantidad_de_veces_que_se_lava_loza + \n",
            "    Cantidad_de_Litros_tomados + Metros_inmueble + Fiestas_mes\n",
            "\n",
            "                                     Df Deviance    AIC\n",
            "<none>                                    596.35 612.35\n",
            "+ Personas_Hogar                      1   594.55 612.55\n",
            "+ Lavadora                            1   594.74 612.74\n",
            "+ Drenaje_diario                      1   595.02 613.02\n",
            "+ Mascotas                            1   595.72 613.72\n",
            "- Cantidad_de_Litros_tomados          1   605.31 619.31\n",
            "- Tiempo_en_ducha                     1   605.49 619.49\n",
            "- Metros_inmueble                     1   607.08 621.08\n",
            "- Fiestas_mes                         1   610.27 624.27\n",
            "- Tipo_jardin                         1   617.83 631.83\n",
            "- Cantidad_de_veces_que_se_lava_loza  1   620.00 634.00\n",
            "- Subsidio_agua                       1   635.45 649.45\n"
          ]
        },
        {
          "output_type": "display_data",
          "data": {
            "text/plain": [
              "\n",
              "Call:\n",
              "glm(formula = Bono ~ Subsidio_agua + Tipo_jardin + Tiempo_en_ducha + \n",
              "    Cantidad_de_veces_que_se_lava_loza + Cantidad_de_Litros_tomados + \n",
              "    Metros_inmueble + Fiestas_mes, family = \"binomial\", data = train_data)\n",
              "\n",
              "Coefficients:\n",
              "                                     Estimate Std. Error z value Pr(>|z|)    \n",
              "(Intercept)                         1.884e+00  5.900e-01   3.193 0.001409 ** \n",
              "Subsidio_agua                      -6.813e-05  1.153e-05  -5.911 3.39e-09 ***\n",
              "Tipo_jardin                         5.959e-01  1.321e-01   4.510 6.49e-06 ***\n",
              "Tiempo_en_ducha                    -1.033e-01  3.441e-02  -3.002 0.002685 ** \n",
              "Cantidad_de_veces_que_se_lava_loza -2.537e-01  5.361e-02  -4.733 2.22e-06 ***\n",
              "Cantidad_de_Litros_tomados          2.318e-01  7.841e-02   2.956 0.003113 ** \n",
              "Metros_inmueble                     7.338e-03  2.321e-03   3.162 0.001567 ** \n",
              "Fiestas_mes                         1.277e-01  3.493e-02   3.657 0.000255 ***\n",
              "---\n",
              "Signif. codes:  0 ‘***’ 0.001 ‘**’ 0.01 ‘*’ 0.05 ‘.’ 0.1 ‘ ’ 1\n",
              "\n",
              "(Dispersion parameter for binomial family taken to be 1)\n",
              "\n",
              "    Null deviance: 810.30  on 586  degrees of freedom\n",
              "Residual deviance: 596.35  on 579  degrees of freedom\n",
              "AIC: 612.35\n",
              "\n",
              "Number of Fisher Scoring iterations: 5\n"
            ]
          },
          "metadata": {}
        }
      ]
    },
    {
      "cell_type": "markdown",
      "source": [
        "Eliminaria la s variables \"Personas_Hogar\", \"Lavadora\",\"Drenaje_diario y \"Mascotas ya que en el p-valor de los coeficiente todos estos son mayores a alpha=0.01, ademas esto se refuerza al hacer Step, este elimina las mismas variables quedando con un AIC mas bajo de: 612.35"
      ],
      "metadata": {
        "id": "XIgY6zRpZ_kx"
      }
    },
    {
      "cell_type": "markdown",
      "source": [
        "punto 4"
      ],
      "metadata": {
        "id": "yZIaWPWmXkU7"
      }
    },
    {
      "cell_type": "code",
      "source": [
        "# Simulamos para 2000 hogares usando la prueba\n",
        "cm <- confusionMatrix(as.factor(pred_test), test$Bono, positive = \"1\")\n",
        "\n",
        "TP <- cm$table[2,2]\n",
        "TN <- cm$table[1,1]\n",
        "FP <- cm$table[2,1]\n",
        "FN <- cm$table[1,2]\n",
        "\n",
        "ganancia <- (TP + TN) * 800 - (FP + FN) * 350\n",
        "ganancia\n"
      ],
      "metadata": {
        "colab": {
          "base_uri": "https://localhost:8080/",
          "height": 34
        },
        "id": "8ebeXb-TTuAf",
        "outputId": "feb6aa40-0dea-4bd3-f8d7-f83873add41e"
      },
      "execution_count": null,
      "outputs": [
        {
          "output_type": "display_data",
          "data": {
            "text/html": [
              "129500"
            ],
            "text/markdown": "129500",
            "text/latex": "129500",
            "text/plain": [
              "[1] 129500"
            ]
          },
          "metadata": {}
        }
      ]
    },
    {
      "cell_type": "code",
      "source": [
        "# Proporciones\n",
        "proporciones <- prop.table(cm$table)\n",
        "\n",
        "# Multiplico por 2000\n",
        "TP_2000 <- proporciones[2,2] * 2000\n",
        "TN_2000 <- proporciones[1,1] * 2000\n",
        "FP_2000 <- proporciones[2,1] * 2000\n",
        "FN_2000 <- proporciones[1,2] * 2000\n",
        "\n",
        "ganancia_esperada <- (TP_2000 + TN_2000) * 800 - (FP_2000 + FN_2000) * 350\n",
        "ganancia_esperada\n"
      ],
      "metadata": {
        "colab": {
          "base_uri": "https://localhost:8080/",
          "height": 34
        },
        "id": "E-k0mmw1TuLY",
        "outputId": "9d2c687f-5a2b-4519-a322-36977df08af6"
      },
      "execution_count": null,
      "outputs": [
        {
          "output_type": "display_data",
          "data": {
            "text/html": [
              "1031872.50996016"
            ],
            "text/markdown": "1031872.50996016",
            "text/latex": "1031872.50996016",
            "text/plain": [
              "[1] 1031873"
            ]
          },
          "metadata": {}
        }
      ]
    },
    {
      "cell_type": "markdown",
      "source": [
        "LA ganancia esperada seria de 1031872"
      ],
      "metadata": {
        "id": "sRCxHv1lchsr"
      }
    },
    {
      "cell_type": "markdown",
      "source": [
        "punto 5"
      ],
      "metadata": {
        "id": "V6DKR6cfXnAr"
      }
    },
    {
      "cell_type": "code",
      "source": [
        "#  cutoff 0.3\n",
        "pred_test_03 <- ifelse(prob_test > 0.3, 1, 0)\n",
        "cm_03 <- confusionMatrix(as.factor(pred_test_03), test$Bono, positive = \"1\")\n",
        "\n"
      ],
      "metadata": {
        "id": "qbJ4goGXTuZX"
      },
      "execution_count": null,
      "outputs": []
    },
    {
      "cell_type": "code",
      "source": [
        "\n",
        "# Métricas\n",
        "precision_03 <- cm_03$byClass[\"Precision\"]\n",
        "recall_03 <- cm_03$byClass[\"Recall\"]\n",
        "f1_03 <- F1_Score(y_pred = pred_test_03, y_true = test$Bono, positive = \"1\")\n",
        "\n"
      ],
      "metadata": {
        "id": "2NmSXhvua_RL"
      },
      "execution_count": null,
      "outputs": []
    },
    {
      "cell_type": "code",
      "source": [
        "f1_03"
      ],
      "metadata": {
        "colab": {
          "base_uri": "https://localhost:8080/",
          "height": 34
        },
        "id": "YfdWFEBxc9qT",
        "outputId": "5e82ffc8-7048-43a7-d5d3-3cdafc77afa2"
      },
      "execution_count": null,
      "outputs": [
        {
          "output_type": "display_data",
          "data": {
            "text/html": [
              "0.726153846153846"
            ],
            "text/markdown": "0.726153846153846",
            "text/latex": "0.726153846153846",
            "text/plain": [
              "[1] 0.7261538"
            ]
          },
          "metadata": {}
        }
      ]
    },
    {
      "cell_type": "code",
      "source": [
        "recall_03"
      ],
      "metadata": {
        "id": "6MMf3Xj-ezB-"
      },
      "execution_count": null,
      "outputs": []
    },
    {
      "cell_type": "code",
      "source": [
        "\n",
        "# Ganancia con 0.3\n",
        "prop_03 <- prop.table(cm_03$table)\n",
        "\n"
      ],
      "metadata": {
        "id": "9slR2TPIbAoa"
      },
      "execution_count": null,
      "outputs": []
    },
    {
      "cell_type": "code",
      "source": [
        "\n",
        "TP_03 <- prop_03[2,2] * 2000\n",
        "TN_03 <- prop_03[1,1] * 2000\n",
        "FP_03 <- prop_03[2,1] * 2000\n",
        "FN_03 <- prop_03[1,2] * 2000\n",
        "\n",
        "ganancia_03 <- (TP_03 + TN_03) * 800 - (FP_03 + FN_03) * 350\n",
        "ganancia_03"
      ],
      "metadata": {
        "colab": {
          "base_uri": "https://localhost:8080/",
          "height": 34
        },
        "id": "0QMFNNtnbDAy",
        "outputId": "58ccc951-8121-4170-e631-f41a499a344a"
      },
      "execution_count": null,
      "outputs": [
        {
          "output_type": "display_data",
          "data": {
            "text/html": [
              "784462.151394423"
            ],
            "text/markdown": "784462.151394423",
            "text/latex": "784462.151394423",
            "text/plain": [
              "[1] 784462.2"
            ]
          },
          "metadata": {}
        }
      ]
    },
    {
      "cell_type": "markdown",
      "source": [
        "La ganancia disminuiria de 1031872.509 a 784462.151 y el f-score tambien disminuye en los datos de prueba, debido al corte de luz, no alcanze a comparar los valores del recall sin embargo estos estan en el nootebook"
      ],
      "metadata": {
        "id": "RPo3TnvjctJ6"
      }
    }
  ]
}