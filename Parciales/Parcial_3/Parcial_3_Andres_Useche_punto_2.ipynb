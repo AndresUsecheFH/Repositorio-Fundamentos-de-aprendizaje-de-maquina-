{
  "nbformat": 4,
  "nbformat_minor": 0,
  "metadata": {
    "colab": {
      "provenance": []
    },
    "kernelspec": {
      "name": "ir",
      "display_name": "R"
    },
    "language_info": {
      "name": "R"
    }
  },
  "cells": [
    {
      "cell_type": "markdown",
      "source": [
        "Andres Felipe Useche Hernandez"
      ],
      "metadata": {
        "id": "FskgMFlEscjU"
      }
    },
    {
      "cell_type": "code",
      "source": [
        "install.packages(\"caTools\")\n",
        "install.packages(\"randomForest\")\n",
        "install.packages(\"caret\")\n",
        "install.packages(\"MLmetrics\")\n",
        "install.packages(\"ranger\")\n",
        "install.packages(\"adabag\")\n",
        "install.packages(\"gbm\")\n",
        "install.packages(\"xgboost\")\n",
        "install.packages(\"Matrix\")\n",
        "\n",
        "library(caret)\n",
        "library(caTools)\n",
        "library(dplyr)\n",
        "library(MLmetrics)"
      ],
      "metadata": {
        "colab": {
          "base_uri": "https://localhost:8080/"
        },
        "id": "Ao0o9jrtEk0Z",
        "outputId": "d8d19843-4266-460a-de3c-1206ae262147"
      },
      "execution_count": 1,
      "outputs": [
        {
          "output_type": "stream",
          "name": "stderr",
          "text": [
            "Installing package into ‘/usr/local/lib/R/site-library’\n",
            "(as ‘lib’ is unspecified)\n",
            "\n",
            "also installing the dependency ‘bitops’\n",
            "\n",
            "\n",
            "Installing package into ‘/usr/local/lib/R/site-library’\n",
            "(as ‘lib’ is unspecified)\n",
            "\n",
            "Installing package into ‘/usr/local/lib/R/site-library’\n",
            "(as ‘lib’ is unspecified)\n",
            "\n",
            "also installing the dependencies ‘listenv’, ‘parallelly’, ‘future’, ‘globals’, ‘shape’, ‘future.apply’, ‘numDeriv’, ‘progressr’, ‘SQUAREM’, ‘diagram’, ‘lava’, ‘prodlim’, ‘proxy’, ‘iterators’, ‘clock’, ‘gower’, ‘hardhat’, ‘ipred’, ‘sparsevctrs’, ‘timeDate’, ‘e1071’, ‘foreach’, ‘ModelMetrics’, ‘plyr’, ‘pROC’, ‘recipes’, ‘reshape2’\n",
            "\n",
            "\n",
            "Installing package into ‘/usr/local/lib/R/site-library’\n",
            "(as ‘lib’ is unspecified)\n",
            "\n",
            "also installing the dependencies ‘gtools’, ‘gplots’, ‘ROCR’\n",
            "\n",
            "\n",
            "Installing package into ‘/usr/local/lib/R/site-library’\n",
            "(as ‘lib’ is unspecified)\n",
            "\n",
            "also installing the dependency ‘RcppEigen’\n",
            "\n",
            "\n",
            "Installing package into ‘/usr/local/lib/R/site-library’\n",
            "(as ‘lib’ is unspecified)\n",
            "\n",
            "also installing the dependencies ‘XML’, ‘rgl’, ‘rlist’, ‘doParallel’, ‘ConsRank’\n",
            "\n",
            "\n",
            "Installing package into ‘/usr/local/lib/R/site-library’\n",
            "(as ‘lib’ is unspecified)\n",
            "\n",
            "Installing package into ‘/usr/local/lib/R/site-library’\n",
            "(as ‘lib’ is unspecified)\n",
            "\n",
            "Installing package into ‘/usr/local/lib/R/site-library’\n",
            "(as ‘lib’ is unspecified)\n",
            "\n",
            "Loading required package: ggplot2\n",
            "\n",
            "Loading required package: lattice\n",
            "\n",
            "\n",
            "Attaching package: ‘dplyr’\n",
            "\n",
            "\n",
            "The following objects are masked from ‘package:stats’:\n",
            "\n",
            "    filter, lag\n",
            "\n",
            "\n",
            "The following objects are masked from ‘package:base’:\n",
            "\n",
            "    intersect, setdiff, setequal, union\n",
            "\n",
            "\n",
            "\n",
            "Attaching package: ‘MLmetrics’\n",
            "\n",
            "\n",
            "The following objects are masked from ‘package:caret’:\n",
            "\n",
            "    MAE, RMSE\n",
            "\n",
            "\n",
            "The following object is masked from ‘package:base’:\n",
            "\n",
            "    Recall\n",
            "\n",
            "\n"
          ]
        }
      ]
    },
    {
      "cell_type": "code",
      "source": [
        "install.packages(\"readxl\")\n",
        "library(readxl)\n",
        "\n"
      ],
      "metadata": {
        "colab": {
          "base_uri": "https://localhost:8080/"
        },
        "id": "ob5ztdi9XoG5",
        "outputId": "0a9d384d-ae0c-47c2-e471-cef9b29346f4"
      },
      "execution_count": 69,
      "outputs": [
        {
          "output_type": "stream",
          "name": "stderr",
          "text": [
            "Installing package into ‘/usr/local/lib/R/site-library’\n",
            "(as ‘lib’ is unspecified)\n",
            "\n",
            "Warning message in install.packages(\"readxl\"):\n",
            "“installation of package ‘readxl’ had non-zero exit status”\n"
          ]
        }
      ]
    },
    {
      "cell_type": "markdown",
      "source": [
        "1 PUNTO"
      ],
      "metadata": {
        "id": "0ewOEHq8goLj"
      }
    },
    {
      "source": [
        "\n",
        "ruta_archivo <- \"/content/gifts_historico.xlsx\"\n",
        "df <- read_excel(ruta_archivo)\n"
      ],
      "cell_type": "code",
      "metadata": {
        "id": "noEw3QeFYPeS"
      },
      "execution_count": 83,
      "outputs": []
    },
    {
      "cell_type": "code",
      "source": [
        "head(df)"
      ],
      "metadata": {
        "colab": {
          "base_uri": "https://localhost:8080/",
          "height": 410
        },
        "id": "oqM01uRFYTqE",
        "outputId": "09ae6349-eb89-4ca6-d23a-ccb3ab8c0243"
      },
      "execution_count": 84,
      "outputs": [
        {
          "output_type": "display_data",
          "data": {
            "text/html": [
              "<table class=\"dataframe\">\n",
              "<caption>A tibble: 6 × 16</caption>\n",
              "<thead>\n",
              "\t<tr><th scope=col>Id</th><th scope=col>genero</th><th scope=col>edad</th><th scope=col>comportamiento_escolar</th><th scope=col>Obediencia_hogar</th><th scope=col>Intereses</th><th scope=col>Socioeconomía</th><th scope=col>Actividades_comunitarias</th><th scope=col>Num_hermanos</th><th scope=col>Vivienda</th><th scope=col>Estado_Salud</th><th scope=col>Religion_Familiar</th><th scope=col>Actividades_deportivas</th><th scope=col>Actividades_atrísticas</th><th scope=col>Aptitudes_científicas</th><th scope=col>reciberegalo</th></tr>\n",
              "\t<tr><th scope=col>&lt;dbl&gt;</th><th scope=col>&lt;chr&gt;</th><th scope=col>&lt;dbl&gt;</th><th scope=col>&lt;chr&gt;</th><th scope=col>&lt;dbl&gt;</th><th scope=col>&lt;chr&gt;</th><th scope=col>&lt;dbl&gt;</th><th scope=col>&lt;chr&gt;</th><th scope=col>&lt;dbl&gt;</th><th scope=col>&lt;chr&gt;</th><th scope=col>&lt;chr&gt;</th><th scope=col>&lt;chr&gt;</th><th scope=col>&lt;dbl&gt;</th><th scope=col>&lt;dbl&gt;</th><th scope=col>&lt;dbl&gt;</th><th scope=col>&lt;dbl&gt;</th></tr>\n",
              "</thead>\n",
              "<tbody>\n",
              "\t<tr><td>46314</td><td>M   </td><td>17</td><td>ALTO </td><td>1</td><td>Video Juegos  </td><td>4</td><td>No</td><td>1</td><td>RURAL </td><td>BAJO   </td><td>Catolicismo Romano</td><td>1</td><td>0</td><td>0</td><td>0</td></tr>\n",
              "\t<tr><td>46448</td><td>M   </td><td>16</td><td>MEDIO</td><td>5</td><td>Video Juegos  </td><td>3</td><td>Si</td><td>5</td><td>URBANA</td><td>BAJO   </td><td>Cristianismo      </td><td>1</td><td>0</td><td>0</td><td>0</td></tr>\n",
              "\t<tr><td>46732</td><td>M   </td><td>18</td><td>ALTO </td><td>3</td><td>Video Juegos  </td><td>1</td><td>No</td><td>5</td><td>RURAL </td><td>BAJO   </td><td>Cristianismo      </td><td>0</td><td>0</td><td>0</td><td>0</td></tr>\n",
              "\t<tr><td>46882</td><td>Nina</td><td>13</td><td>ALTO </td><td>6</td><td>Juegos de Mesa</td><td>6</td><td>No</td><td>2</td><td>RURAL </td><td>REGULAR</td><td>Catolicismo Romano</td><td>0</td><td>1</td><td>1</td><td>0</td></tr>\n",
              "\t<tr><td>47001</td><td>M   </td><td>12</td><td>ALTO </td><td>7</td><td>Video Juegos  </td><td>3</td><td>No</td><td>4</td><td>RURAL </td><td>BAJO   </td><td>Protestantismo    </td><td>0</td><td>1</td><td>0</td><td>1</td></tr>\n",
              "\t<tr><td>47113</td><td>F   </td><td> 7</td><td>ALTO </td><td>5</td><td>Juegos de Mesa</td><td>3</td><td>No</td><td>3</td><td>URBANA</td><td>REGULAR</td><td>Cristianismo      </td><td>0</td><td>0</td><td>0</td><td>0</td></tr>\n",
              "</tbody>\n",
              "</table>\n"
            ],
            "text/markdown": "\nA tibble: 6 × 16\n\n| Id &lt;dbl&gt; | genero &lt;chr&gt; | edad &lt;dbl&gt; | comportamiento_escolar &lt;chr&gt; | Obediencia_hogar &lt;dbl&gt; | Intereses &lt;chr&gt; | Socioeconomía &lt;dbl&gt; | Actividades_comunitarias &lt;chr&gt; | Num_hermanos &lt;dbl&gt; | Vivienda &lt;chr&gt; | Estado_Salud &lt;chr&gt; | Religion_Familiar &lt;chr&gt; | Actividades_deportivas &lt;dbl&gt; | Actividades_atrísticas &lt;dbl&gt; | Aptitudes_científicas &lt;dbl&gt; | reciberegalo &lt;dbl&gt; |\n|---|---|---|---|---|---|---|---|---|---|---|---|---|---|---|---|\n| 46314 | M    | 17 | ALTO  | 1 | Video Juegos   | 4 | No | 1 | RURAL  | BAJO    | Catolicismo Romano | 1 | 0 | 0 | 0 |\n| 46448 | M    | 16 | MEDIO | 5 | Video Juegos   | 3 | Si | 5 | URBANA | BAJO    | Cristianismo       | 1 | 0 | 0 | 0 |\n| 46732 | M    | 18 | ALTO  | 3 | Video Juegos   | 1 | No | 5 | RURAL  | BAJO    | Cristianismo       | 0 | 0 | 0 | 0 |\n| 46882 | Nina | 13 | ALTO  | 6 | Juegos de Mesa | 6 | No | 2 | RURAL  | REGULAR | Catolicismo Romano | 0 | 1 | 1 | 0 |\n| 47001 | M    | 12 | ALTO  | 7 | Video Juegos   | 3 | No | 4 | RURAL  | BAJO    | Protestantismo     | 0 | 1 | 0 | 1 |\n| 47113 | F    |  7 | ALTO  | 5 | Juegos de Mesa | 3 | No | 3 | URBANA | REGULAR | Cristianismo       | 0 | 0 | 0 | 0 |\n\n",
            "text/latex": "A tibble: 6 × 16\n\\begin{tabular}{llllllllllllllll}\n Id & genero & edad & comportamiento\\_escolar & Obediencia\\_hogar & Intereses & Socioeconomía & Actividades\\_comunitarias & Num\\_hermanos & Vivienda & Estado\\_Salud & Religion\\_Familiar & Actividades\\_deportivas & Actividades\\_atrísticas & Aptitudes\\_científicas & reciberegalo\\\\\n <dbl> & <chr> & <dbl> & <chr> & <dbl> & <chr> & <dbl> & <chr> & <dbl> & <chr> & <chr> & <chr> & <dbl> & <dbl> & <dbl> & <dbl>\\\\\n\\hline\n\t 46314 & M    & 17 & ALTO  & 1 & Video Juegos   & 4 & No & 1 & RURAL  & BAJO    & Catolicismo Romano & 1 & 0 & 0 & 0\\\\\n\t 46448 & M    & 16 & MEDIO & 5 & Video Juegos   & 3 & Si & 5 & URBANA & BAJO    & Cristianismo       & 1 & 0 & 0 & 0\\\\\n\t 46732 & M    & 18 & ALTO  & 3 & Video Juegos   & 1 & No & 5 & RURAL  & BAJO    & Cristianismo       & 0 & 0 & 0 & 0\\\\\n\t 46882 & Nina & 13 & ALTO  & 6 & Juegos de Mesa & 6 & No & 2 & RURAL  & REGULAR & Catolicismo Romano & 0 & 1 & 1 & 0\\\\\n\t 47001 & M    & 12 & ALTO  & 7 & Video Juegos   & 3 & No & 4 & RURAL  & BAJO    & Protestantismo     & 0 & 1 & 0 & 1\\\\\n\t 47113 & F    &  7 & ALTO  & 5 & Juegos de Mesa & 3 & No & 3 & URBANA & REGULAR & Cristianismo       & 0 & 0 & 0 & 0\\\\\n\\end{tabular}\n",
            "text/plain": [
              "  Id    genero edad comportamiento_escolar Obediencia_hogar Intereses     \n",
              "1 46314 M      17   ALTO                   1                Video Juegos  \n",
              "2 46448 M      16   MEDIO                  5                Video Juegos  \n",
              "3 46732 M      18   ALTO                   3                Video Juegos  \n",
              "4 46882 Nina   13   ALTO                   6                Juegos de Mesa\n",
              "5 47001 M      12   ALTO                   7                Video Juegos  \n",
              "6 47113 F       7   ALTO                   5                Juegos de Mesa\n",
              "  Socioeconomía Actividades_comunitarias Num_hermanos Vivienda Estado_Salud\n",
              "1 4             No                       1            RURAL    BAJO        \n",
              "2 3             Si                       5            URBANA   BAJO        \n",
              "3 1             No                       5            RURAL    BAJO        \n",
              "4 6             No                       2            RURAL    REGULAR     \n",
              "5 3             No                       4            RURAL    BAJO        \n",
              "6 3             No                       3            URBANA   REGULAR     \n",
              "  Religion_Familiar  Actividades_deportivas Actividades_atrísticas\n",
              "1 Catolicismo Romano 1                      0                     \n",
              "2 Cristianismo       1                      0                     \n",
              "3 Cristianismo       0                      0                     \n",
              "4 Catolicismo Romano 0                      1                     \n",
              "5 Protestantismo     0                      1                     \n",
              "6 Cristianismo       0                      0                     \n",
              "  Aptitudes_científicas reciberegalo\n",
              "1 0                     0           \n",
              "2 0                     0           \n",
              "3 0                     0           \n",
              "4 1                     0           \n",
              "5 0                     1           \n",
              "6 0                     0           "
            ]
          },
          "metadata": {}
        }
      ]
    },
    {
      "cell_type": "code",
      "source": [
        "\n",
        "ruta_archivo <- \"/content/gitfs_proximos.xlsx\"\n",
        "df_test <- read_excel(ruta_archivo)\n",
        "\n",
        "head(df_test)"
      ],
      "metadata": {
        "colab": {
          "base_uri": "https://localhost:8080/",
          "height": 306
        },
        "id": "F_-TYdNVpTSv",
        "outputId": "e8df2bf6-3e55-4b46-8450-0540321532fa"
      },
      "execution_count": 85,
      "outputs": [
        {
          "output_type": "display_data",
          "data": {
            "text/html": [
              "<table class=\"dataframe\">\n",
              "<caption>A tibble: 6 × 15</caption>\n",
              "<thead>\n",
              "\t<tr><th scope=col>Id</th><th scope=col>genero</th><th scope=col>edad</th><th scope=col>comportamiento_escolar</th><th scope=col>Obediencia_hogar</th><th scope=col>Intereses</th><th scope=col>Socioeconomía</th><th scope=col>Actividades_comunitarias</th><th scope=col>Num_hermanos</th><th scope=col>Vivienda</th><th scope=col>Estado_Salud</th><th scope=col>Religion_Familiar</th><th scope=col>Actividades_deportivas</th><th scope=col>Actividades_atrísticas</th><th scope=col>Aptitudes_científicas</th></tr>\n",
              "\t<tr><th scope=col>&lt;dbl&gt;</th><th scope=col>&lt;chr&gt;</th><th scope=col>&lt;dbl&gt;</th><th scope=col>&lt;chr&gt;</th><th scope=col>&lt;dbl&gt;</th><th scope=col>&lt;chr&gt;</th><th scope=col>&lt;dbl&gt;</th><th scope=col>&lt;chr&gt;</th><th scope=col>&lt;dbl&gt;</th><th scope=col>&lt;chr&gt;</th><th scope=col>&lt;chr&gt;</th><th scope=col>&lt;chr&gt;</th><th scope=col>&lt;dbl&gt;</th><th scope=col>&lt;dbl&gt;</th><th scope=col>&lt;dbl&gt;</th></tr>\n",
              "</thead>\n",
              "<tbody>\n",
              "\t<tr><td>238219</td><td>M</td><td>16</td><td>ALTO </td><td>3</td><td>Video Juegos   </td><td>5</td><td>No        </td><td>2</td><td>RURAL </td><td>BAJO   </td><td>Catolicismo Romano</td><td>0</td><td>1</td><td>0</td></tr>\n",
              "\t<tr><td>313882</td><td>M</td><td>17</td><td>ALTO </td><td>3</td><td>Video Juegos   </td><td>6</td><td>No realizo</td><td>4</td><td>RURAL </td><td>REGUAR </td><td>Protestantismo    </td><td>1</td><td>0</td><td>0</td></tr>\n",
              "\t<tr><td>106901</td><td>F</td><td>10</td><td>MEDIO</td><td>7</td><td>Muñecos/Muñecas</td><td>5</td><td>Si realizo</td><td>0</td><td>RURAL </td><td>REGUAR </td><td>Protestantismo    </td><td>1</td><td>1</td><td>0</td></tr>\n",
              "\t<tr><td>477646</td><td>M</td><td>18</td><td>ALTO </td><td>3</td><td>Video Juegos   </td><td>5</td><td>Si realizo</td><td>5</td><td>URBANA</td><td>REGULAR</td><td>Catolicismo Romano</td><td>1</td><td>0</td><td>0</td></tr>\n",
              "\t<tr><td>510663</td><td>M</td><td>17</td><td>ALTO </td><td>1</td><td>Video Juegos   </td><td>4</td><td>No        </td><td>1</td><td>RURAL </td><td>BAJO   </td><td>Catolicismo Romano</td><td>1</td><td>0</td><td>0</td></tr>\n",
              "\t<tr><td>439847</td><td>F</td><td> 6</td><td>MEDIO</td><td>5</td><td>Video Juegos   </td><td>2</td><td>No realizo</td><td>3</td><td>RURAL </td><td>BAJO   </td><td>Catolicismo Romano</td><td>1</td><td>0</td><td>0</td></tr>\n",
              "</tbody>\n",
              "</table>\n"
            ],
            "text/markdown": "\nA tibble: 6 × 15\n\n| Id &lt;dbl&gt; | genero &lt;chr&gt; | edad &lt;dbl&gt; | comportamiento_escolar &lt;chr&gt; | Obediencia_hogar &lt;dbl&gt; | Intereses &lt;chr&gt; | Socioeconomía &lt;dbl&gt; | Actividades_comunitarias &lt;chr&gt; | Num_hermanos &lt;dbl&gt; | Vivienda &lt;chr&gt; | Estado_Salud &lt;chr&gt; | Religion_Familiar &lt;chr&gt; | Actividades_deportivas &lt;dbl&gt; | Actividades_atrísticas &lt;dbl&gt; | Aptitudes_científicas &lt;dbl&gt; |\n|---|---|---|---|---|---|---|---|---|---|---|---|---|---|---|\n| 238219 | M | 16 | ALTO  | 3 | Video Juegos    | 5 | No         | 2 | RURAL  | BAJO    | Catolicismo Romano | 0 | 1 | 0 |\n| 313882 | M | 17 | ALTO  | 3 | Video Juegos    | 6 | No realizo | 4 | RURAL  | REGUAR  | Protestantismo     | 1 | 0 | 0 |\n| 106901 | F | 10 | MEDIO | 7 | Muñecos/Muñecas | 5 | Si realizo | 0 | RURAL  | REGUAR  | Protestantismo     | 1 | 1 | 0 |\n| 477646 | M | 18 | ALTO  | 3 | Video Juegos    | 5 | Si realizo | 5 | URBANA | REGULAR | Catolicismo Romano | 1 | 0 | 0 |\n| 510663 | M | 17 | ALTO  | 1 | Video Juegos    | 4 | No         | 1 | RURAL  | BAJO    | Catolicismo Romano | 1 | 0 | 0 |\n| 439847 | F |  6 | MEDIO | 5 | Video Juegos    | 2 | No realizo | 3 | RURAL  | BAJO    | Catolicismo Romano | 1 | 0 | 0 |\n\n",
            "text/latex": "A tibble: 6 × 15\n\\begin{tabular}{lllllllllllllll}\n Id & genero & edad & comportamiento\\_escolar & Obediencia\\_hogar & Intereses & Socioeconomía & Actividades\\_comunitarias & Num\\_hermanos & Vivienda & Estado\\_Salud & Religion\\_Familiar & Actividades\\_deportivas & Actividades\\_atrísticas & Aptitudes\\_científicas\\\\\n <dbl> & <chr> & <dbl> & <chr> & <dbl> & <chr> & <dbl> & <chr> & <dbl> & <chr> & <chr> & <chr> & <dbl> & <dbl> & <dbl>\\\\\n\\hline\n\t 238219 & M & 16 & ALTO  & 3 & Video Juegos    & 5 & No         & 2 & RURAL  & BAJO    & Catolicismo Romano & 0 & 1 & 0\\\\\n\t 313882 & M & 17 & ALTO  & 3 & Video Juegos    & 6 & No realizo & 4 & RURAL  & REGUAR  & Protestantismo     & 1 & 0 & 0\\\\\n\t 106901 & F & 10 & MEDIO & 7 & Muñecos/Muñecas & 5 & Si realizo & 0 & RURAL  & REGUAR  & Protestantismo     & 1 & 1 & 0\\\\\n\t 477646 & M & 18 & ALTO  & 3 & Video Juegos    & 5 & Si realizo & 5 & URBANA & REGULAR & Catolicismo Romano & 1 & 0 & 0\\\\\n\t 510663 & M & 17 & ALTO  & 1 & Video Juegos    & 4 & No         & 1 & RURAL  & BAJO    & Catolicismo Romano & 1 & 0 & 0\\\\\n\t 439847 & F &  6 & MEDIO & 5 & Video Juegos    & 2 & No realizo & 3 & RURAL  & BAJO    & Catolicismo Romano & 1 & 0 & 0\\\\\n\\end{tabular}\n",
            "text/plain": [
              "  Id     genero edad comportamiento_escolar Obediencia_hogar Intereses      \n",
              "1 238219 M      16   ALTO                   3                Video Juegos   \n",
              "2 313882 M      17   ALTO                   3                Video Juegos   \n",
              "3 106901 F      10   MEDIO                  7                Muñecos/Muñecas\n",
              "4 477646 M      18   ALTO                   3                Video Juegos   \n",
              "5 510663 M      17   ALTO                   1                Video Juegos   \n",
              "6 439847 F       6   MEDIO                  5                Video Juegos   \n",
              "  Socioeconomía Actividades_comunitarias Num_hermanos Vivienda Estado_Salud\n",
              "1 5             No                       2            RURAL    BAJO        \n",
              "2 6             No realizo               4            RURAL    REGUAR      \n",
              "3 5             Si realizo               0            RURAL    REGUAR      \n",
              "4 5             Si realizo               5            URBANA   REGULAR     \n",
              "5 4             No                       1            RURAL    BAJO        \n",
              "6 2             No realizo               3            RURAL    BAJO        \n",
              "  Religion_Familiar  Actividades_deportivas Actividades_atrísticas\n",
              "1 Catolicismo Romano 0                      1                     \n",
              "2 Protestantismo     1                      0                     \n",
              "3 Protestantismo     1                      1                     \n",
              "4 Catolicismo Romano 1                      0                     \n",
              "5 Catolicismo Romano 1                      0                     \n",
              "6 Catolicismo Romano 1                      0                     \n",
              "  Aptitudes_científicas\n",
              "1 0                    \n",
              "2 0                    \n",
              "3 0                    \n",
              "4 0                    \n",
              "5 0                    \n",
              "6 0                    "
            ]
          },
          "metadata": {}
        }
      ]
    },
    {
      "cell_type": "code",
      "source": [
        "df <- df[,-1]"
      ],
      "metadata": {
        "id": "G9pWRPjqYl5H"
      },
      "execution_count": 86,
      "outputs": []
    },
    {
      "cell_type": "code",
      "source": [
        "head(df)"
      ],
      "metadata": {
        "colab": {
          "base_uri": "https://localhost:8080/",
          "height": 410
        },
        "id": "XnirGHm9Yohg",
        "outputId": "90c7d9c3-a9ad-40d0-8ac3-db2204d030da"
      },
      "execution_count": 87,
      "outputs": [
        {
          "output_type": "display_data",
          "data": {
            "text/html": [
              "<table class=\"dataframe\">\n",
              "<caption>A tibble: 6 × 15</caption>\n",
              "<thead>\n",
              "\t<tr><th scope=col>genero</th><th scope=col>edad</th><th scope=col>comportamiento_escolar</th><th scope=col>Obediencia_hogar</th><th scope=col>Intereses</th><th scope=col>Socioeconomía</th><th scope=col>Actividades_comunitarias</th><th scope=col>Num_hermanos</th><th scope=col>Vivienda</th><th scope=col>Estado_Salud</th><th scope=col>Religion_Familiar</th><th scope=col>Actividades_deportivas</th><th scope=col>Actividades_atrísticas</th><th scope=col>Aptitudes_científicas</th><th scope=col>reciberegalo</th></tr>\n",
              "\t<tr><th scope=col>&lt;chr&gt;</th><th scope=col>&lt;dbl&gt;</th><th scope=col>&lt;chr&gt;</th><th scope=col>&lt;dbl&gt;</th><th scope=col>&lt;chr&gt;</th><th scope=col>&lt;dbl&gt;</th><th scope=col>&lt;chr&gt;</th><th scope=col>&lt;dbl&gt;</th><th scope=col>&lt;chr&gt;</th><th scope=col>&lt;chr&gt;</th><th scope=col>&lt;chr&gt;</th><th scope=col>&lt;dbl&gt;</th><th scope=col>&lt;dbl&gt;</th><th scope=col>&lt;dbl&gt;</th><th scope=col>&lt;dbl&gt;</th></tr>\n",
              "</thead>\n",
              "<tbody>\n",
              "\t<tr><td>M   </td><td>17</td><td>ALTO </td><td>1</td><td>Video Juegos  </td><td>4</td><td>No</td><td>1</td><td>RURAL </td><td>BAJO   </td><td>Catolicismo Romano</td><td>1</td><td>0</td><td>0</td><td>0</td></tr>\n",
              "\t<tr><td>M   </td><td>16</td><td>MEDIO</td><td>5</td><td>Video Juegos  </td><td>3</td><td>Si</td><td>5</td><td>URBANA</td><td>BAJO   </td><td>Cristianismo      </td><td>1</td><td>0</td><td>0</td><td>0</td></tr>\n",
              "\t<tr><td>M   </td><td>18</td><td>ALTO </td><td>3</td><td>Video Juegos  </td><td>1</td><td>No</td><td>5</td><td>RURAL </td><td>BAJO   </td><td>Cristianismo      </td><td>0</td><td>0</td><td>0</td><td>0</td></tr>\n",
              "\t<tr><td>Nina</td><td>13</td><td>ALTO </td><td>6</td><td>Juegos de Mesa</td><td>6</td><td>No</td><td>2</td><td>RURAL </td><td>REGULAR</td><td>Catolicismo Romano</td><td>0</td><td>1</td><td>1</td><td>0</td></tr>\n",
              "\t<tr><td>M   </td><td>12</td><td>ALTO </td><td>7</td><td>Video Juegos  </td><td>3</td><td>No</td><td>4</td><td>RURAL </td><td>BAJO   </td><td>Protestantismo    </td><td>0</td><td>1</td><td>0</td><td>1</td></tr>\n",
              "\t<tr><td>F   </td><td> 7</td><td>ALTO </td><td>5</td><td>Juegos de Mesa</td><td>3</td><td>No</td><td>3</td><td>URBANA</td><td>REGULAR</td><td>Cristianismo      </td><td>0</td><td>0</td><td>0</td><td>0</td></tr>\n",
              "</tbody>\n",
              "</table>\n"
            ],
            "text/markdown": "\nA tibble: 6 × 15\n\n| genero &lt;chr&gt; | edad &lt;dbl&gt; | comportamiento_escolar &lt;chr&gt; | Obediencia_hogar &lt;dbl&gt; | Intereses &lt;chr&gt; | Socioeconomía &lt;dbl&gt; | Actividades_comunitarias &lt;chr&gt; | Num_hermanos &lt;dbl&gt; | Vivienda &lt;chr&gt; | Estado_Salud &lt;chr&gt; | Religion_Familiar &lt;chr&gt; | Actividades_deportivas &lt;dbl&gt; | Actividades_atrísticas &lt;dbl&gt; | Aptitudes_científicas &lt;dbl&gt; | reciberegalo &lt;dbl&gt; |\n|---|---|---|---|---|---|---|---|---|---|---|---|---|---|---|\n| M    | 17 | ALTO  | 1 | Video Juegos   | 4 | No | 1 | RURAL  | BAJO    | Catolicismo Romano | 1 | 0 | 0 | 0 |\n| M    | 16 | MEDIO | 5 | Video Juegos   | 3 | Si | 5 | URBANA | BAJO    | Cristianismo       | 1 | 0 | 0 | 0 |\n| M    | 18 | ALTO  | 3 | Video Juegos   | 1 | No | 5 | RURAL  | BAJO    | Cristianismo       | 0 | 0 | 0 | 0 |\n| Nina | 13 | ALTO  | 6 | Juegos de Mesa | 6 | No | 2 | RURAL  | REGULAR | Catolicismo Romano | 0 | 1 | 1 | 0 |\n| M    | 12 | ALTO  | 7 | Video Juegos   | 3 | No | 4 | RURAL  | BAJO    | Protestantismo     | 0 | 1 | 0 | 1 |\n| F    |  7 | ALTO  | 5 | Juegos de Mesa | 3 | No | 3 | URBANA | REGULAR | Cristianismo       | 0 | 0 | 0 | 0 |\n\n",
            "text/latex": "A tibble: 6 × 15\n\\begin{tabular}{lllllllllllllll}\n genero & edad & comportamiento\\_escolar & Obediencia\\_hogar & Intereses & Socioeconomía & Actividades\\_comunitarias & Num\\_hermanos & Vivienda & Estado\\_Salud & Religion\\_Familiar & Actividades\\_deportivas & Actividades\\_atrísticas & Aptitudes\\_científicas & reciberegalo\\\\\n <chr> & <dbl> & <chr> & <dbl> & <chr> & <dbl> & <chr> & <dbl> & <chr> & <chr> & <chr> & <dbl> & <dbl> & <dbl> & <dbl>\\\\\n\\hline\n\t M    & 17 & ALTO  & 1 & Video Juegos   & 4 & No & 1 & RURAL  & BAJO    & Catolicismo Romano & 1 & 0 & 0 & 0\\\\\n\t M    & 16 & MEDIO & 5 & Video Juegos   & 3 & Si & 5 & URBANA & BAJO    & Cristianismo       & 1 & 0 & 0 & 0\\\\\n\t M    & 18 & ALTO  & 3 & Video Juegos   & 1 & No & 5 & RURAL  & BAJO    & Cristianismo       & 0 & 0 & 0 & 0\\\\\n\t Nina & 13 & ALTO  & 6 & Juegos de Mesa & 6 & No & 2 & RURAL  & REGULAR & Catolicismo Romano & 0 & 1 & 1 & 0\\\\\n\t M    & 12 & ALTO  & 7 & Video Juegos   & 3 & No & 4 & RURAL  & BAJO    & Protestantismo     & 0 & 1 & 0 & 1\\\\\n\t F    &  7 & ALTO  & 5 & Juegos de Mesa & 3 & No & 3 & URBANA & REGULAR & Cristianismo       & 0 & 0 & 0 & 0\\\\\n\\end{tabular}\n",
            "text/plain": [
              "  genero edad comportamiento_escolar Obediencia_hogar Intereses     \n",
              "1 M      17   ALTO                   1                Video Juegos  \n",
              "2 M      16   MEDIO                  5                Video Juegos  \n",
              "3 M      18   ALTO                   3                Video Juegos  \n",
              "4 Nina   13   ALTO                   6                Juegos de Mesa\n",
              "5 M      12   ALTO                   7                Video Juegos  \n",
              "6 F       7   ALTO                   5                Juegos de Mesa\n",
              "  Socioeconomía Actividades_comunitarias Num_hermanos Vivienda Estado_Salud\n",
              "1 4             No                       1            RURAL    BAJO        \n",
              "2 3             Si                       5            URBANA   BAJO        \n",
              "3 1             No                       5            RURAL    BAJO        \n",
              "4 6             No                       2            RURAL    REGULAR     \n",
              "5 3             No                       4            RURAL    BAJO        \n",
              "6 3             No                       3            URBANA   REGULAR     \n",
              "  Religion_Familiar  Actividades_deportivas Actividades_atrísticas\n",
              "1 Catolicismo Romano 1                      0                     \n",
              "2 Cristianismo       1                      0                     \n",
              "3 Cristianismo       0                      0                     \n",
              "4 Catolicismo Romano 0                      1                     \n",
              "5 Protestantismo     0                      1                     \n",
              "6 Cristianismo       0                      0                     \n",
              "  Aptitudes_científicas reciberegalo\n",
              "1 0                     0           \n",
              "2 0                     0           \n",
              "3 0                     0           \n",
              "4 1                     0           \n",
              "5 0                     1           \n",
              "6 0                     0           "
            ]
          },
          "metadata": {}
        }
      ]
    },
    {
      "cell_type": "code",
      "source": [
        "str(df)"
      ],
      "metadata": {
        "colab": {
          "base_uri": "https://localhost:8080/"
        },
        "id": "DB6PuMlIYyHc",
        "outputId": "95938af6-2483-4135-85ba-65ad87e91249"
      },
      "execution_count": 88,
      "outputs": [
        {
          "output_type": "stream",
          "name": "stdout",
          "text": [
            "tibble [249 × 15] (S3: tbl_df/tbl/data.frame)\n",
            " $ genero                  : chr [1:249] \"M\" \"M\" \"M\" \"Nina\" ...\n",
            " $ edad                    : num [1:249] 17 16 18 13 12 7 18 9 17 5 ...\n",
            " $ comportamiento_escolar  : chr [1:249] \"ALTO\" \"MEDIO\" \"ALTO\" \"ALTO\" ...\n",
            " $ Obediencia_hogar        : num [1:249] 1 5 3 6 7 5 6 9 2 2 ...\n",
            " $ Intereses               : chr [1:249] \"Video Juegos\" \"Video Juegos\" \"Video Juegos\" \"Juegos de Mesa\" ...\n",
            " $ Socioeconomía           : num [1:249] 4 3 1 6 3 3 1 1 1 3 ...\n",
            " $ Actividades_comunitarias: chr [1:249] \"No\" \"Si\" \"No\" \"No\" ...\n",
            " $ Num_hermanos            : num [1:249] 1 5 5 2 4 3 0 4 5 2 ...\n",
            " $ Vivienda                : chr [1:249] \"RURAL\" \"URBANA\" \"RURAL\" \"RURAL\" ...\n",
            " $ Estado_Salud            : chr [1:249] \"BAJO\" \"BAJO\" \"BAJO\" \"REGULAR\" ...\n",
            " $ Religion_Familiar       : chr [1:249] \"Catolicismo Romano\" \"Cristianismo\" \"Cristianismo\" \"Catolicismo Romano\" ...\n",
            " $ Actividades_deportivas  : num [1:249] 1 1 0 0 0 0 1 1 0 0 ...\n",
            " $ Actividades_atrísticas  : num [1:249] 0 0 0 1 1 0 0 1 0 1 ...\n",
            " $ Aptitudes_científicas   : num [1:249] 0 0 0 1 0 0 0 1 1 0 ...\n",
            " $ reciberegalo            : num [1:249] 0 0 0 0 1 0 0 1 0 0 ...\n"
          ]
        }
      ]
    },
    {
      "cell_type": "code",
      "source": [
        "df$reciberegalo <- factor(df$reciberegalo)\n",
        "df$genero <- factor(df$genero)\n",
        "df$comportamiento_escolar <- factor(df$comportamiento_escolar)\n",
        "df$Intereses <- factor(df$Intereses)\n",
        "df$Actividades_comunitarias <- factor(df$Actividades_comunitarias)\n",
        "df$Vivienda <- factor(df$Vivienda)\n",
        "df$Estado_Salud <- factor(df$Estado_Salud)\n",
        "df$Religion_Familiar <- factor(df$Religion_Familiar)"
      ],
      "metadata": {
        "id": "lDEhR9VnY4sD"
      },
      "execution_count": 89,
      "outputs": []
    },
    {
      "cell_type": "code",
      "source": [
        "# Separar las variables predictoras (X) y la variable objetivo (y)\n",
        "X <- select(df, -reciberegalo)\n",
        "y <- df$reciberegalo"
      ],
      "metadata": {
        "id": "M5b9OCwzZA-t"
      },
      "execution_count": 90,
      "outputs": []
    },
    {
      "cell_type": "code",
      "source": [
        "\n",
        "\n",
        "set.seed(159)\n",
        "\n",
        "split <- sample.split(y, SplitRatio = 0.75)\n",
        "X_train <- subset(X, split == TRUE)\n",
        "X_test <- subset(X, split == FALSE)\n",
        "y_train <- subset(y, split == TRUE)\n",
        "y_test <- subset(y, split == FALSE)"
      ],
      "metadata": {
        "id": "5S7vUSlpZI90"
      },
      "execution_count": 91,
      "outputs": []
    },
    {
      "cell_type": "markdown",
      "source": [
        "2 PUNTO"
      ],
      "metadata": {
        "id": "9oQizspagsUr"
      }
    },
    {
      "cell_type": "markdown",
      "source": [
        "GBM"
      ],
      "metadata": {
        "id": "B9Yq9rZQZm5N"
      }
    },
    {
      "cell_type": "code",
      "source": [
        "library(gbm)"
      ],
      "metadata": {
        "id": "FkUfirnjZmb0"
      },
      "execution_count": 79,
      "outputs": []
    },
    {
      "cell_type": "code",
      "source": [
        "\n",
        "set.seed(159)\n",
        "gb_model <- gbm(\n",
        "  formula = reciberegalo ~ .,\n",
        "  data = data.frame(X_train, reciberegalo = y_train_bin),\n",
        "  distribution = \"bernoulli\",                        # Distribución para clasificación binaria\n",
        "\n",
        ")"
      ],
      "metadata": {
        "id": "jV129ikaZosU"
      },
      "execution_count": 92,
      "outputs": []
    },
    {
      "cell_type": "code",
      "source": [
        "train_predictions <- predict(gb_model, X_train, type = \"response\")\n",
        "train_class <- ifelse(train_predictions > 0.35, 1, 0)\n",
        "cat(\"ENTRENAMIENTO\\n\")\n",
        "\n",
        "\n",
        "confusion_train <- confusionMatrix(factor(train_class), factor(y_train_bin))\n",
        "print(confusion_train)\n",
        "\n",
        "\n",
        "test_predictions <- predict(gb_model, X_test, type = \"response\")\n",
        "test_class <- ifelse(test_predictions > 0.35, 1, 0)\n",
        "cat(\"PRUEBA\\n\")\n",
        "\n",
        "confusion_test <- confusionMatrix(factor(test_class), factor(y_test_bin))\n",
        "print(confusion_test)"
      ],
      "metadata": {
        "colab": {
          "base_uri": "https://localhost:8080/"
        },
        "id": "Zn0KVUfSrVkT",
        "outputId": "0aae9940-0b71-40fc-d980-b1b7015602fe"
      },
      "execution_count": 93,
      "outputs": [
        {
          "output_type": "stream",
          "name": "stderr",
          "text": [
            "Using 100 trees...\n",
            "\n",
            "\n"
          ]
        },
        {
          "output_type": "stream",
          "name": "stdout",
          "text": [
            "ENTRENAMIENTO\n",
            "Confusion Matrix and Statistics\n",
            "\n",
            "          Reference\n",
            "Prediction   0   1\n",
            "         0 141   0\n",
            "         1   0  46\n",
            "                                     \n",
            "               Accuracy : 1          \n",
            "                 95% CI : (0.9805, 1)\n",
            "    No Information Rate : 0.754      \n",
            "    P-Value [Acc > NIR] : < 2.2e-16  \n",
            "                                     \n",
            "                  Kappa : 1          \n",
            "                                     \n",
            " Mcnemar's Test P-Value : NA         \n",
            "                                     \n",
            "            Sensitivity : 1.000      \n",
            "            Specificity : 1.000      \n",
            "         Pos Pred Value : 1.000      \n",
            "         Neg Pred Value : 1.000      \n",
            "             Prevalence : 0.754      \n",
            "         Detection Rate : 0.754      \n",
            "   Detection Prevalence : 0.754      \n",
            "      Balanced Accuracy : 1.000      \n",
            "                                     \n",
            "       'Positive' Class : 0          \n",
            "                                     \n"
          ]
        },
        {
          "output_type": "stream",
          "name": "stderr",
          "text": [
            "Using 100 trees...\n",
            "\n",
            "\n"
          ]
        },
        {
          "output_type": "stream",
          "name": "stdout",
          "text": [
            "PRUEBA\n",
            "Confusion Matrix and Statistics\n",
            "\n",
            "          Reference\n",
            "Prediction  0  1\n",
            "         0 47  0\n",
            "         1  0 15\n",
            "                                     \n",
            "               Accuracy : 1          \n",
            "                 95% CI : (0.9422, 1)\n",
            "    No Information Rate : 0.7581     \n",
            "    P-Value [Acc > NIR] : 3.482e-08  \n",
            "                                     \n",
            "                  Kappa : 1          \n",
            "                                     \n",
            " Mcnemar's Test P-Value : NA         \n",
            "                                     \n",
            "            Sensitivity : 1.0000     \n",
            "            Specificity : 1.0000     \n",
            "         Pos Pred Value : 1.0000     \n",
            "         Neg Pred Value : 1.0000     \n",
            "             Prevalence : 0.7581     \n",
            "         Detection Rate : 0.7581     \n",
            "   Detection Prevalence : 0.7581     \n",
            "      Balanced Accuracy : 1.0000     \n",
            "                                     \n",
            "       'Positive' Class : 0          \n",
            "                                     \n"
          ]
        }
      ]
    },
    {
      "cell_type": "markdown",
      "source": [
        "XGboost"
      ],
      "metadata": {
        "id": "h9EEbX_PcU1X"
      }
    },
    {
      "cell_type": "code",
      "source": [
        "library(xgboost)"
      ],
      "metadata": {
        "colab": {
          "base_uri": "https://localhost:8080/"
        },
        "id": "S0Rj77OKcg6h",
        "outputId": "e5f27cec-0d17-45e1-a605-33bb0542e54a"
      },
      "execution_count": 33,
      "outputs": [
        {
          "output_type": "stream",
          "name": "stderr",
          "text": [
            "\n",
            "Attaching package: ‘xgboost’\n",
            "\n",
            "\n",
            "The following object is masked from ‘package:dplyr’:\n",
            "\n",
            "    slice\n",
            "\n",
            "\n"
          ]
        }
      ]
    },
    {
      "source": [
        "\n",
        "\n",
        "str(X_train)\n",
        "\n",
        "\n",
        "factor_cols <- sapply(X_train, is.factor)\n",
        "X_train_factors <- X_train[, factor_cols, drop = FALSE]\n",
        "X_train_numeric <- X_train[, !factor_cols, drop = FALSE]\n",
        "\n",
        "\n",
        "dummy_model <- dummyVars(~ ., data = X_train_factors, fullRank = FALSE)\n",
        "\n",
        "X_train_encoded_factors <- as.data.frame(predict(dummy_model, newdata = X_train_factors))\n",
        "\n",
        "\n",
        "X_train_processed <- cbind(X_train_numeric, X_train_encoded_factors)\n",
        "\n",
        "X_train_matrix <- as.matrix(X_train_processed)\n",
        "\n",
        "X_test_factors <- X_test[, factor_cols, drop = FALSE]\n",
        "X_test_numeric <- X_test[, !factor_cols, drop = FALSE]\n",
        "\n",
        "\n",
        "X_test_encoded_factors <- as.data.frame(predict(dummy_model, newdata = X_test_factors))\n",
        "\n",
        "\n",
        "X_test_processed <- cbind(X_test_numeric, X_test_encoded_factors)\n",
        "\n",
        "\n",
        "X_test_matrix <- as.matrix(X_test_processed)\n",
        "\n",
        "\n",
        "dtrain <- xgb.DMatrix(data = X_train_matrix, label = y_train_bin)\n",
        "dtest <- xgb.DMatrix(data = X_test_matrix, label = y_test_bin)\n",
        "\n"
      ],
      "cell_type": "code",
      "metadata": {
        "colab": {
          "base_uri": "https://localhost:8080/"
        },
        "id": "PJhJ0wBGdOe-",
        "outputId": "8d5175fa-4684-4cd4-d168-a14069a3e288"
      },
      "execution_count": 94,
      "outputs": [
        {
          "output_type": "stream",
          "name": "stdout",
          "text": [
            "tibble [187 × 14] (S3: tbl_df/tbl/data.frame)\n",
            " $ genero                  : Factor w/ 4 levels \"F\",\"M\",\"Nina\",..: 2 2 2 3 2 1 2 2 2 1 ...\n",
            " $ edad                    : num [1:187] 17 16 18 13 12 7 18 9 17 9 ...\n",
            " $ comportamiento_escolar  : Factor w/ 3 levels \"ALTO\",\"BAJO\",..: 1 3 1 1 1 1 1 2 1 1 ...\n",
            " $ Obediencia_hogar        : num [1:187] 1 5 3 6 7 5 6 9 2 6 ...\n",
            " $ Intereses               : Factor w/ 4 levels \"Juegos al aire libre\",..: 4 4 4 2 4 2 4 4 4 4 ...\n",
            " $ Socioeconomía           : num [1:187] 4 3 1 6 3 3 1 1 1 2 ...\n",
            " $ Actividades_comunitarias: Factor w/ 5 levels \"No\",\"No realizo\",..: 1 4 1 1 1 1 1 5 1 1 ...\n",
            " $ Num_hermanos            : num [1:187] 1 5 5 2 4 3 0 4 5 3 ...\n",
            " $ Vivienda                : Factor w/ 2 levels \"RURAL\",\"URBANA\": 1 2 1 1 1 2 1 2 2 1 ...\n",
            " $ Estado_Salud            : Factor w/ 4 levels \"BAJO\",\"ÓPTIMO\",..: 1 1 1 4 1 4 1 2 1 4 ...\n",
            " $ Religion_Familiar       : Factor w/ 4 levels \"Catolicismo Romano\",..: 1 2 2 1 4 2 4 2 2 2 ...\n",
            " $ Actividades_deportivas  : num [1:187] 1 1 0 0 0 0 1 1 0 0 ...\n",
            " $ Actividades_atrísticas  : num [1:187] 0 0 0 1 1 0 0 1 0 1 ...\n",
            " $ Aptitudes_científicas   : num [1:187] 0 0 0 1 0 0 0 1 1 0 ...\n"
          ]
        }
      ]
    },
    {
      "cell_type": "code",
      "source": [
        "params <- list(\n",
        "  objective = \"binary:logistic\",  # Para clasificación binaria\n",
        "  eval_metric = \"logloss\"        # Métrica de evaluación: logloss\n",
        ")\n",
        "\n",
        "set.seed(159)\n",
        "xgb_model <- xgb.train(\n",
        "  params = params,\n",
        "  data = dtrain,\n",
        "  nrounds = 100\n",
        ")\n",
        "\n",
        "\n",
        "\n",
        "test_predictions_xgb <- predict(xgb_model, dtest)\n",
        "\n",
        "test_class_xgb <- ifelse(test_predictions_xgb > 0.5, 1, 0)\n",
        "\n",
        "\n",
        "cat(\"PRUEBA XGBoost\\n\")\n",
        "\n",
        "confusion_test_xgb <- confusionMatrix(factor(test_class_xgb), factor(y_test_bin))\n",
        "print(confusion_test_xgb)\n"
      ],
      "metadata": {
        "colab": {
          "base_uri": "https://localhost:8080/"
        },
        "id": "RKjMDImpqzke",
        "outputId": "31395ede-2bd7-4104-ecf7-8f0e34190013"
      },
      "execution_count": 97,
      "outputs": [
        {
          "output_type": "stream",
          "name": "stdout",
          "text": [
            "PRUEBA XGBoost\n",
            "Confusion Matrix and Statistics\n",
            "\n",
            "          Reference\n",
            "Prediction  0  1\n",
            "         0 45  0\n",
            "         1  2 15\n",
            "                                          \n",
            "               Accuracy : 0.9677          \n",
            "                 95% CI : (0.8883, 0.9961)\n",
            "    No Information Rate : 0.7581          \n",
            "    P-Value [Acc > NIR] : 7.43e-06        \n",
            "                                          \n",
            "                  Kappa : 0.9159          \n",
            "                                          \n",
            " Mcnemar's Test P-Value : 0.4795          \n",
            "                                          \n",
            "            Sensitivity : 0.9574          \n",
            "            Specificity : 1.0000          \n",
            "         Pos Pred Value : 1.0000          \n",
            "         Neg Pred Value : 0.8824          \n",
            "             Prevalence : 0.7581          \n",
            "         Detection Rate : 0.7258          \n",
            "   Detection Prevalence : 0.7258          \n",
            "      Balanced Accuracy : 0.9787          \n",
            "                                          \n",
            "       'Positive' Class : 0               \n",
            "                                          \n"
          ]
        }
      ]
    },
    {
      "cell_type": "markdown",
      "source": [
        "GBMlight"
      ],
      "metadata": {
        "id": "btLogZXedgGP"
      }
    },
    {
      "cell_type": "code",
      "source": [
        "install.packages(\"lightgbm\")\n",
        "library(lightgbm)"
      ],
      "metadata": {
        "colab": {
          "base_uri": "https://localhost:8080/"
        },
        "id": "oiI_UjcRdfqH",
        "outputId": "486513aa-4706-45aa-f832-d51fd29efac2"
      },
      "execution_count": 39,
      "outputs": [
        {
          "output_type": "stream",
          "name": "stderr",
          "text": [
            "Installing package into ‘/usr/local/lib/R/site-library’\n",
            "(as ‘lib’ is unspecified)\n",
            "\n"
          ]
        }
      ]
    },
    {
      "source": [
        "\n",
        "lgb_train_data <- lgb.Dataset(data = X_train_matrix, label = y_train_bin)\n",
        "lgb_test_data <- lgb.Dataset(data = X_test_matrix, label = y_test_bin)\n",
        "\n",
        "set.seed(159)\n",
        "model <- lgb.train(\n",
        "  data = lgb_train_data,\n",
        "  nrounds = 100,\n",
        "  valids = list(test = lgb_test_data),\n",
        "  early_stopping_rounds = 10,\n",
        "  verbose = 1\n",
        ")"
      ],
      "cell_type": "code",
      "metadata": {
        "colab": {
          "base_uri": "https://localhost:8080/"
        },
        "id": "uRkdwwuvgQIf",
        "outputId": "966368a3-69c1-4889-8060-cdefe7a6e6ad"
      },
      "execution_count": 99,
      "outputs": [
        {
          "output_type": "stream",
          "name": "stdout",
          "text": [
            "[LightGBM] [Warning] Found whitespace in feature_names, replace with underlines\n",
            "[LightGBM] [Info] Auto-choosing row-wise multi-threading, the overhead of testing was 0.000068 seconds.\n",
            "You can set `force_row_wise=true` to remove the overhead.\n",
            "And if memory is not enough, you can set `force_col_wise=true`.\n",
            "[LightGBM] [Info] Total Bins 83\n",
            "[LightGBM] [Info] Number of data points in the train set: 187, number of used features: 26\n",
            "[LightGBM] [Info] Start training from score 0.245989\n",
            "[LightGBM] [Warning] No further splits with positive gain, best gain: -inf\n",
            "[1]:  test's l2:0.156183 \n",
            "Will train until there is no improvement in 10 rounds.\n",
            "[LightGBM] [Warning] No further splits with positive gain, best gain: -inf\n",
            "[2]:  test's l2:0.135307 \n",
            "[LightGBM] [Warning] No further splits with positive gain, best gain: -inf\n",
            "[3]:  test's l2:0.117045 \n",
            "[LightGBM] [Warning] No further splits with positive gain, best gain: -inf\n",
            "[4]:  test's l2:0.103254 \n",
            "[LightGBM] [Warning] No further splits with positive gain, best gain: -inf\n",
            "[5]:  test's l2:0.0909098 \n",
            "[LightGBM] [Warning] No further splits with positive gain, best gain: -inf\n",
            "[6]:  test's l2:0.0817704 \n",
            "[LightGBM] [Warning] No further splits with positive gain, best gain: -inf\n",
            "[7]:  test's l2:0.0733399 \n",
            "[LightGBM] [Warning] No further splits with positive gain, best gain: -inf\n",
            "[8]:  test's l2:0.0672582 \n",
            "[LightGBM] [Warning] No further splits with positive gain, best gain: -inf\n",
            "[9]:  test's l2:0.0614226 \n",
            "[LightGBM] [Warning] No further splits with positive gain, best gain: -inf\n",
            "[10]:  test's l2:0.0573535 \n",
            "[LightGBM] [Warning] No further splits with positive gain, best gain: -inf\n",
            "[11]:  test's l2:0.0532458 \n",
            "[LightGBM] [Warning] No further splits with positive gain, best gain: -inf\n",
            "[12]:  test's l2:0.0505036 \n",
            "[LightGBM] [Warning] No further splits with positive gain, best gain: -inf\n",
            "[13]:  test's l2:0.0474578 \n",
            "[LightGBM] [Warning] No further splits with positive gain, best gain: -inf\n",
            "[14]:  test's l2:0.0448365 \n",
            "[LightGBM] [Warning] No further splits with positive gain, best gain: -inf\n",
            "[15]:  test's l2:0.0426433 \n",
            "[LightGBM] [Warning] No further splits with positive gain, best gain: -inf\n",
            "[16]:  test's l2:0.0408482 \n",
            "[LightGBM] [Warning] No further splits with positive gain, best gain: -inf\n",
            "[17]:  test's l2:0.0374984 \n",
            "[LightGBM] [Warning] No further splits with positive gain, best gain: -inf\n",
            "[18]:  test's l2:0.0348756 \n",
            "[LightGBM] [Warning] No further splits with positive gain, best gain: -inf\n",
            "[19]:  test's l2:0.0330745 \n",
            "[LightGBM] [Warning] No further splits with positive gain, best gain: -inf\n",
            "[20]:  test's l2:0.0317232 \n",
            "[LightGBM] [Warning] No further splits with positive gain, best gain: -inf\n",
            "[21]:  test's l2:0.0301868 \n",
            "[LightGBM] [Warning] No further splits with positive gain, best gain: -inf\n",
            "[22]:  test's l2:0.0290922 \n",
            "[LightGBM] [Warning] No further splits with positive gain, best gain: -inf\n",
            "[23]:  test's l2:0.0281091 \n",
            "[LightGBM] [Warning] No further splits with positive gain, best gain: -inf\n",
            "[24]:  test's l2:0.0273502 \n",
            "[LightGBM] [Warning] No further splits with positive gain, best gain: -inf\n",
            "[25]:  test's l2:0.0267754 \n",
            "[LightGBM] [Warning] No further splits with positive gain, best gain: -inf\n",
            "[26]:  test's l2:0.0262046 \n",
            "[LightGBM] [Warning] No further splits with positive gain, best gain: -inf\n",
            "[27]:  test's l2:0.0260022 \n",
            "[LightGBM] [Warning] No further splits with positive gain, best gain: -inf\n",
            "[28]:  test's l2:0.0256227 \n",
            "[LightGBM] [Warning] No further splits with positive gain, best gain: -inf\n",
            "[29]:  test's l2:0.0252753 \n",
            "[LightGBM] [Warning] No further splits with positive gain, best gain: -inf\n",
            "[30]:  test's l2:0.0250544 \n",
            "[LightGBM] [Warning] No further splits with positive gain, best gain: -inf\n",
            "[31]:  test's l2:0.0248128 \n",
            "[LightGBM] [Warning] No further splits with positive gain, best gain: -inf\n",
            "[32]:  test's l2:0.0245017 \n",
            "[LightGBM] [Warning] No further splits with positive gain, best gain: -inf\n",
            "[33]:  test's l2:0.0247586 \n",
            "[LightGBM] [Warning] No further splits with positive gain, best gain: -inf\n",
            "[34]:  test's l2:0.024719 \n",
            "[LightGBM] [Warning] No further splits with positive gain, best gain: -inf\n",
            "[35]:  test's l2:0.0245543 \n",
            "[LightGBM] [Warning] No further splits with positive gain, best gain: -inf\n",
            "[36]:  test's l2:0.0243884 \n",
            "[LightGBM] [Warning] No further splits with positive gain, best gain: -inf\n",
            "[37]:  test's l2:0.0242478 \n",
            "[LightGBM] [Warning] No further splits with positive gain, best gain: -inf\n",
            "[38]:  test's l2:0.0241055 \n",
            "[LightGBM] [Warning] No further splits with positive gain, best gain: -inf\n",
            "[39]:  test's l2:0.0239905 \n",
            "[LightGBM] [Warning] No further splits with positive gain, best gain: -inf\n",
            "[40]:  test's l2:0.0238773 \n",
            "[LightGBM] [Warning] No further splits with positive gain, best gain: -inf\n",
            "[41]:  test's l2:0.0237578 \n",
            "[LightGBM] [Warning] No further splits with positive gain, best gain: -inf\n",
            "[42]:  test's l2:0.0235573 \n",
            "[LightGBM] [Warning] No further splits with positive gain, best gain: -inf\n",
            "[43]:  test's l2:0.0232093 \n",
            "[LightGBM] [Warning] No further splits with positive gain, best gain: -inf\n",
            "[44]:  test's l2:0.0231119 \n",
            "[LightGBM] [Warning] No further splits with positive gain, best gain: -inf\n",
            "[45]:  test's l2:0.023214 \n",
            "[LightGBM] [Warning] No further splits with positive gain, best gain: -inf\n",
            "[46]:  test's l2:0.0233845 \n",
            "[LightGBM] [Warning] No further splits with positive gain, best gain: -inf\n",
            "[47]:  test's l2:0.0232217 \n",
            "[LightGBM] [Warning] No further splits with positive gain, best gain: -inf\n",
            "[48]:  test's l2:0.0231028 \n",
            "[LightGBM] [Warning] No further splits with positive gain, best gain: -inf\n",
            "[49]:  test's l2:0.0230204 \n",
            "[LightGBM] [Warning] No further splits with positive gain, best gain: -inf\n",
            "[50]:  test's l2:0.0229242 \n",
            "[LightGBM] [Warning] No further splits with positive gain, best gain: -inf\n",
            "[51]:  test's l2:0.0228726 \n",
            "[LightGBM] [Warning] No further splits with positive gain, best gain: -inf\n",
            "[52]:  test's l2:0.022781 \n",
            "[LightGBM] [Warning] No further splits with positive gain, best gain: -inf\n",
            "[53]:  test's l2:0.0226978 \n",
            "[LightGBM] [Warning] No further splits with positive gain, best gain: -inf\n",
            "[54]:  test's l2:0.0226282 \n",
            "[LightGBM] [Warning] No further splits with positive gain, best gain: -inf\n",
            "[55]:  test's l2:0.0225678 \n",
            "[LightGBM] [Warning] No further splits with positive gain, best gain: -inf\n",
            "[56]:  test's l2:0.0225298 \n",
            "[LightGBM] [Warning] No further splits with positive gain, best gain: -inf\n",
            "[57]:  test's l2:0.0226468 \n",
            "[LightGBM] [Warning] No further splits with positive gain, best gain: -inf\n",
            "[58]:  test's l2:0.0225832 \n",
            "[LightGBM] [Warning] No further splits with positive gain, best gain: -inf\n",
            "[59]:  test's l2:0.022452 \n",
            "[LightGBM] [Warning] No further splits with positive gain, best gain: -inf\n",
            "[60]:  test's l2:0.0225636 \n",
            "[LightGBM] [Warning] No further splits with positive gain, best gain: -inf\n",
            "[61]:  test's l2:0.0224355 \n",
            "[LightGBM] [Warning] No further splits with positive gain, best gain: -inf\n",
            "[62]:  test's l2:0.0223275 \n",
            "[LightGBM] [Warning] No further splits with positive gain, best gain: -inf\n",
            "[63]:  test's l2:0.0222726 \n",
            "[LightGBM] [Warning] No further splits with positive gain, best gain: -inf\n",
            "[64]:  test's l2:0.0222577 \n",
            "[LightGBM] [Warning] No further splits with positive gain, best gain: -inf\n",
            "[65]:  test's l2:0.0221629 \n",
            "[LightGBM] [Warning] No further splits with positive gain, best gain: -inf\n",
            "[66]:  test's l2:0.0221438 \n",
            "[LightGBM] [Warning] No further splits with positive gain, best gain: -inf\n",
            "[67]:  test's l2:0.0220591 \n",
            "[LightGBM] [Warning] No further splits with positive gain, best gain: -inf\n",
            "[68]:  test's l2:0.0219672 \n",
            "[LightGBM] [Warning] No further splits with positive gain, best gain: -inf\n",
            "[69]:  test's l2:0.0218549 \n",
            "[LightGBM] [Warning] No further splits with positive gain, best gain: -inf\n",
            "[70]:  test's l2:0.0219556 \n",
            "[LightGBM] [Warning] No further splits with positive gain, best gain: -inf\n",
            "[71]:  test's l2:0.0218629 \n",
            "[LightGBM] [Warning] No further splits with positive gain, best gain: -inf\n",
            "[72]:  test's l2:0.0217577 \n",
            "[LightGBM] [Warning] No further splits with positive gain, best gain: -inf\n",
            "[73]:  test's l2:0.0216573 \n",
            "[LightGBM] [Warning] No further splits with positive gain, best gain: -inf\n",
            "[74]:  test's l2:0.0215796 \n",
            "[LightGBM] [Warning] No further splits with positive gain, best gain: -inf\n",
            "[75]:  test's l2:0.0215213 \n",
            "[LightGBM] [Warning] No further splits with positive gain, best gain: -inf\n",
            "[76]:  test's l2:0.021556 \n",
            "[LightGBM] [Warning] No further splits with positive gain, best gain: -inf\n",
            "[77]:  test's l2:0.0214784 \n",
            "[LightGBM] [Warning] No further splits with positive gain, best gain: -inf\n",
            "[78]:  test's l2:0.0214729 \n",
            "[LightGBM] [Warning] No further splits with positive gain, best gain: -inf\n",
            "[79]:  test's l2:0.0214231 \n",
            "[LightGBM] [Warning] No further splits with positive gain, best gain: -inf\n",
            "[80]:  test's l2:0.0215492 \n",
            "[LightGBM] [Warning] No further splits with positive gain, best gain: -inf\n",
            "[81]:  test's l2:0.0214864 \n",
            "[LightGBM] [Warning] No further splits with positive gain, best gain: -inf\n",
            "[82]:  test's l2:0.0214181 \n",
            "[LightGBM] [Warning] No further splits with positive gain, best gain: -inf\n",
            "[83]:  test's l2:0.0214051 \n",
            "[LightGBM] [Warning] No further splits with positive gain, best gain: -inf\n",
            "[84]:  test's l2:0.0214487 \n",
            "[LightGBM] [Warning] No further splits with positive gain, best gain: -inf\n",
            "[85]:  test's l2:0.0214459 \n",
            "[LightGBM] [Warning] No further splits with positive gain, best gain: -inf\n",
            "[86]:  test's l2:0.0215775 \n",
            "[LightGBM] [Warning] No further splits with positive gain, best gain: -inf\n",
            "[87]:  test's l2:0.0214961 \n",
            "[LightGBM] [Warning] No further splits with positive gain, best gain: -inf\n",
            "[88]:  test's l2:0.0216051 \n",
            "[LightGBM] [Warning] No further splits with positive gain, best gain: -inf\n",
            "[89]:  test's l2:0.0215223 \n",
            "[LightGBM] [Warning] No further splits with positive gain, best gain: -inf\n",
            "[90]:  test's l2:0.0214658 \n",
            "[LightGBM] [Warning] No further splits with positive gain, best gain: -inf\n",
            "[91]:  test's l2:0.0213967 \n",
            "[LightGBM] [Warning] No further splits with positive gain, best gain: -inf\n",
            "[92]:  test's l2:0.0213675 \n",
            "[LightGBM] [Warning] No further splits with positive gain, best gain: -inf\n",
            "[93]:  test's l2:0.0212854 \n",
            "[LightGBM] [Warning] No further splits with positive gain, best gain: -inf\n",
            "[94]:  test's l2:0.021322 \n",
            "[LightGBM] [Warning] No further splits with positive gain, best gain: -inf\n",
            "[95]:  test's l2:0.021289 \n",
            "[LightGBM] [Warning] No further splits with positive gain, best gain: -inf\n",
            "[96]:  test's l2:0.021209 \n",
            "[LightGBM] [Warning] No further splits with positive gain, best gain: -inf\n",
            "[97]:  test's l2:0.0212593 \n",
            "[LightGBM] [Warning] No further splits with positive gain, best gain: -inf\n",
            "[98]:  test's l2:0.0211971 \n",
            "[LightGBM] [Warning] No further splits with positive gain, best gain: -inf\n",
            "[99]:  test's l2:0.0211278 \n",
            "[LightGBM] [Warning] No further splits with positive gain, best gain: -inf\n",
            "[100]:  test's l2:0.0210766 \n",
            "Did not meet early stopping, best iteration is: [100]:  test's l2:0.0210766\n"
          ]
        }
      ]
    },
    {
      "source": [
        "# Predicciones en entrenamiento\n",
        "cat(\"Métricas (ENTRENAMIENTO):\\n\")\n",
        "\n",
        "pred_probs <- predict(model, X_train_matrix)\n",
        "pred_labels <- ifelse(pred_probs > 0.45, \"1\", \"0\")\n",
        "pred_labels <- as.factor(pred_labels)\n",
        "\n",
        "confusionMatrix(pred_labels, as.factor(y_train_bin))\n",
        "\n",
        "cat(\"Métricas (PRUEBA):\\n\")\n",
        "\n",
        "pred_probs <- predict(model, X_test_matrix)\n",
        "pred_labels <- ifelse(pred_probs > 0.45, \"1\", \"0\")\n",
        "pred_labels <- as.factor(pred_labels)\n",
        "\n",
        "confusionMatrix(pred_labels, as.factor(y_test_bin))"
      ],
      "cell_type": "code",
      "metadata": {
        "colab": {
          "base_uri": "https://localhost:8080/",
          "height": 1000
        },
        "id": "DR5V9JzGgeE_",
        "outputId": "36781eb4-7331-4070-f832-6a81e48e0e86"
      },
      "execution_count": 100,
      "outputs": [
        {
          "output_type": "stream",
          "name": "stdout",
          "text": [
            "Métricas (ENTRENAMIENTO):\n"
          ]
        },
        {
          "output_type": "display_data",
          "data": {
            "text/plain": [
              "Confusion Matrix and Statistics\n",
              "\n",
              "          Reference\n",
              "Prediction   0   1\n",
              "         0 141   0\n",
              "         1   0  46\n",
              "                                     \n",
              "               Accuracy : 1          \n",
              "                 95% CI : (0.9805, 1)\n",
              "    No Information Rate : 0.754      \n",
              "    P-Value [Acc > NIR] : < 2.2e-16  \n",
              "                                     \n",
              "                  Kappa : 1          \n",
              "                                     \n",
              " Mcnemar's Test P-Value : NA         \n",
              "                                     \n",
              "            Sensitivity : 1.000      \n",
              "            Specificity : 1.000      \n",
              "         Pos Pred Value : 1.000      \n",
              "         Neg Pred Value : 1.000      \n",
              "             Prevalence : 0.754      \n",
              "         Detection Rate : 0.754      \n",
              "   Detection Prevalence : 0.754      \n",
              "      Balanced Accuracy : 1.000      \n",
              "                                     \n",
              "       'Positive' Class : 0          \n",
              "                                     "
            ]
          },
          "metadata": {}
        },
        {
          "output_type": "stream",
          "name": "stdout",
          "text": [
            "Métricas (PRUEBA):\n"
          ]
        },
        {
          "output_type": "display_data",
          "data": {
            "text/plain": [
              "Confusion Matrix and Statistics\n",
              "\n",
              "          Reference\n",
              "Prediction  0  1\n",
              "         0 45  0\n",
              "         1  2 15\n",
              "                                          \n",
              "               Accuracy : 0.9677          \n",
              "                 95% CI : (0.8883, 0.9961)\n",
              "    No Information Rate : 0.7581          \n",
              "    P-Value [Acc > NIR] : 7.43e-06        \n",
              "                                          \n",
              "                  Kappa : 0.9159          \n",
              "                                          \n",
              " Mcnemar's Test P-Value : 0.4795          \n",
              "                                          \n",
              "            Sensitivity : 0.9574          \n",
              "            Specificity : 1.0000          \n",
              "         Pos Pred Value : 1.0000          \n",
              "         Neg Pred Value : 0.8824          \n",
              "             Prevalence : 0.7581          \n",
              "         Detection Rate : 0.7258          \n",
              "   Detection Prevalence : 0.7258          \n",
              "      Balanced Accuracy : 0.9787          \n",
              "                                          \n",
              "       'Positive' Class : 0               \n",
              "                                          "
            ]
          },
          "metadata": {}
        }
      ]
    },
    {
      "cell_type": "markdown",
      "source": [
        "3  PUNTO"
      ],
      "metadata": {
        "id": "FTcS9FA0gvcj"
      }
    },
    {
      "cell_type": "markdown",
      "source": [
        "Sobre ajuste con XBoost"
      ],
      "metadata": {
        "id": "F8NmzuOkgyRD"
      }
    },
    {
      "source": [
        "\n",
        "y_train_bin <- as.numeric(y_train) - 1\n",
        "y_test_bin <- as.numeric(y_test) - 1\n",
        "set.seed(159)\n",
        "xgb_model_overfit <- xgboost(\n",
        " data = X_train_matrix,\n",
        "  label = y_train_bin,\n",
        "  objective = \"binary:logistic\",\n",
        "  nrounds = 10000,       # MUCHOS árboles\n",
        "  eta = 0.01,           # Paso pequeño\n",
        "  max_depth = 30,       # Árboles profundos\n",
        "  verbose = 0\n",
        ")\n",
        "\n",
        "\n",
        "train_preds_overfit <- ifelse(predict(xgb_model_overfit, X_train_matrix) > 0.5, 1, 0)\n",
        "test_preds_overfit <- ifelse(predict(xgb_model_overfit, X_test_matrix) > 0.5, 1, 0)\n",
        "\n",
        "\n",
        "train_acc_overfit <- mean(train_preds_overfit == y_train_bin)\n",
        "test_acc_overfit <- mean(test_preds_overfit == y_test_bin)\n",
        "\n",
        "cat(\"Sobreajuste:\\n\")\n",
        "cat(\"Accuracy entrenamiento:\", train_acc_overfit, \"\\n\")\n",
        "cat(\"Accuracy prueba:\", test_acc_overfit, \"\\n\")"
      ],
      "cell_type": "code",
      "metadata": {
        "colab": {
          "base_uri": "https://localhost:8080/"
        },
        "id": "QVWcqplzhb5f",
        "outputId": "969319b7-a5fa-48a4-f31b-38d0131d7f1e"
      },
      "execution_count": 103,
      "outputs": [
        {
          "output_type": "stream",
          "name": "stdout",
          "text": [
            "Sobreajuste:\n",
            "Accuracy entrenamiento: 1 \n",
            "Accuracy prueba: 0.9677419 \n"
          ]
        }
      ]
    },
    {
      "cell_type": "markdown",
      "source": [
        "Exite sobre-ajuste  ya que en los parametros del modelo del XBoost nrounds = 10000,  es decir que hay 10000 arboles, eta = 0.01, los pasos de aprendizaje son muy pequeños y max_depth = 30, es decir la profundidad maxima que puede tener cada arbol son 30 niveles. Todo esto genera sobre ajuste ya que en primer lugar al ser muchos arboles, en cada iteracion de arbol a arbol, un arol aprede de los errores del anterior, por lo tanto llegara el momento que el error sea muy bajo o nulo y esto genere sobre-entreanamiento con los datos de entrenamiento, obteniendo muy buenas metricas en este y al momento de meter los datos de prueba las metricas y el desempeño del modelo seran pesimas, generando prediciones erroneas. La tasa de aprendizaje al dar pasos tan pequeños, se demora mas, pero tendra menos errores a la hora de dar el paso y finalmente cada arbol al tener una profundidad maxima de 30 niveles, genera que se ajuste demasiado a los datos de entrenamiento y al momento de insertarle los datos de prueba cualquier pequeña variación generara una mala prediccion, ya que el modelo habra aprendido hazta de los ruidos y outliers del conjunto de entrenamiento."
      ],
      "metadata": {
        "id": "g9UDp5nYh5dg"
      }
    },
    {
      "cell_type": "markdown",
      "source": [
        "Sub-ajuste"
      ],
      "metadata": {
        "id": "hhLBoFR2hoTQ"
      }
    },
    {
      "cell_type": "code",
      "source": [
        "\n",
        "\n",
        "set.seed(159)\n",
        "xgb_model_overfit <- xgboost(\n",
        " data = X_train_matrix, # Usar la matriz procesada\n",
        "  label = y_train_bin, # Usar y_train_bin que ya está definido\n",
        "  objective = \"binary:logistic\",\n",
        "  nrounds = 5,       # MUCHOS árboles\n",
        "  eta = 0.3,           # Paso pequeño\n",
        "  max_depth = 1,       # Árboles profundos\n",
        "  verbose = 0\n",
        ")\n",
        "\n",
        "\n",
        "train_preds_overfit <- ifelse(predict(xgb_model_overfit, X_train_matrix) > 0.5, 1, 0)\n",
        "test_preds_overfit <- ifelse(predict(xgb_model_overfit, X_test_matrix) > 0.5, 1, 0)\n",
        "\n",
        "\n",
        "train_acc_overfit <- mean(train_preds_overfit == y_train_bin)\n",
        "test_acc_overfit <- mean(test_preds_overfit == y_test_bin)\n",
        "\n",
        "cat(\"Sobreajuste:\\n\")\n",
        "cat(\"Accuracy entrenamiento:\", train_acc_overfit, \"\\n\")\n",
        "cat(\"Accuracy prueba:\", test_acc_overfit, \"\\n\")"
      ],
      "metadata": {
        "colab": {
          "base_uri": "https://localhost:8080/"
        },
        "id": "1N7Wq2lihw3g",
        "outputId": "fcbc7d69-4993-4d99-8efa-d0212ebc73e5"
      },
      "execution_count": 104,
      "outputs": [
        {
          "output_type": "stream",
          "name": "stdout",
          "text": [
            "Sobreajuste:\n",
            "Accuracy entrenamiento: 0.9679144 \n",
            "Accuracy prueba: 0.9354839 \n"
          ]
        }
      ]
    },
    {
      "cell_type": "markdown",
      "source": [
        "Exite sub-ajuste ya que en los parametros del modelo del XBoost nrounds = 5, es decir que hay 5 arboles, eta = 0.3, los pasos de aprendizaje son grandes y max_depth = 1, es decir la profundidad maxima que puede tener cada arbol es de un nivel. Todo esto genera sub-ajuste ya que en primer lugar al ser pocos arboles,el modelo no dentra tantas iteraciones para corregir los errores, ya que solo hay 5 arboles, obteniendo un aprendizaje muy general y esto genere mal desempeño en los datos de entrenamiento y pesimo en los datos de prueba, generando prediciones erroneas. La tasa de aprendizaje al da pasos mas altos, existiendo un momento se quede en un bucle o que le cueste mas disminuir el error y finalmente cada arbol al tener una profundidad maxima de un nivel, genera que el aprendizaje sea muy general en los datos de entrenamiento y al momento de insertarle los datos de prueba la predicción sera peor."
      ],
      "metadata": {
        "id": "IZr6umBYjvun"
      }
    },
    {
      "cell_type": "markdown",
      "source": [
        "4 PUNTO"
      ],
      "metadata": {
        "id": "UnyrnLcZlz-A"
      }
    },
    {
      "cell_type": "markdown",
      "source": [
        "El mejor modelo con un accuracy de 1 en el conjunto de prueba fue GBM"
      ],
      "metadata": {
        "id": "7S4B6x62l_zw"
      }
    },
    {
      "cell_type": "code",
      "source": [
        "prediccion <- predict(gb_model, newdata = df_test[, setdiff(names(df_test), \"id\")], type = \"response\")"
      ],
      "metadata": {
        "colab": {
          "base_uri": "https://localhost:8080/"
        },
        "id": "5bzRYPx9mjuf",
        "outputId": "10d051da-b9c5-4cb0-cf61-bf1d6aa26af1"
      },
      "execution_count": 105,
      "outputs": [
        {
          "output_type": "stream",
          "name": "stderr",
          "text": [
            "Using 100 trees...\n",
            "\n",
            "\n",
            "Warning message in predict.gbm(gb_model, newdata = df_test[, setdiff(names(df_test), :\n",
            "“NAs introduced by coercion”\n"
          ]
        }
      ]
    },
    {
      "cell_type": "code",
      "source": [
        "head(prediccion)"
      ],
      "metadata": {
        "colab": {
          "base_uri": "https://localhost:8080/",
          "height": 34
        },
        "id": "Apa20EsTmRvd",
        "outputId": "450e427c-8eef-44ca-9880-5cec1f581085"
      },
      "execution_count": 106,
      "outputs": [
        {
          "output_type": "display_data",
          "data": {
            "text/html": [
              "<style>\n",
              ".list-inline {list-style: none; margin:0; padding: 0}\n",
              ".list-inline>li {display: inline-block}\n",
              ".list-inline>li:not(:last-child)::after {content: \"\\00b7\"; padding: 0 .5ex}\n",
              "</style>\n",
              "<ol class=list-inline><li>0.00175213145201523</li><li>0.00166835689820932</li><li>0.964314235764296</li><li>0.00209361064179764</li><li>0.00166835689820932</li><li>0.00175213145201523</li></ol>\n"
            ],
            "text/markdown": "1. 0.00175213145201523\n2. 0.00166835689820932\n3. 0.964314235764296\n4. 0.00209361064179764\n5. 0.00166835689820932\n6. 0.00175213145201523\n\n\n",
            "text/latex": "\\begin{enumerate*}\n\\item 0.00175213145201523\n\\item 0.00166835689820932\n\\item 0.964314235764296\n\\item 0.00209361064179764\n\\item 0.00166835689820932\n\\item 0.00175213145201523\n\\end{enumerate*}\n",
            "text/plain": [
              "[1] 0.001752131 0.001668357 0.964314236 0.002093611 0.001668357 0.001752131"
            ]
          },
          "metadata": {}
        }
      ]
    },
    {
      "cell_type": "code",
      "source": [
        "df_prediccion <- cbind(df_test,prediccion)"
      ],
      "metadata": {
        "id": "9yxDA8LAmP4G"
      },
      "execution_count": 107,
      "outputs": []
    },
    {
      "cell_type": "code",
      "source": [
        "head(df_prediccion)"
      ],
      "metadata": {
        "colab": {
          "base_uri": "https://localhost:8080/",
          "height": 306
        },
        "id": "z0XTjKt2pxmH",
        "outputId": "184867a6-7582-4c3e-ab7c-cd5b15154536"
      },
      "execution_count": 108,
      "outputs": [
        {
          "output_type": "display_data",
          "data": {
            "text/html": [
              "<table class=\"dataframe\">\n",
              "<caption>A data.frame: 6 × 16</caption>\n",
              "<thead>\n",
              "\t<tr><th></th><th scope=col>Id</th><th scope=col>genero</th><th scope=col>edad</th><th scope=col>comportamiento_escolar</th><th scope=col>Obediencia_hogar</th><th scope=col>Intereses</th><th scope=col>Socioeconomía</th><th scope=col>Actividades_comunitarias</th><th scope=col>Num_hermanos</th><th scope=col>Vivienda</th><th scope=col>Estado_Salud</th><th scope=col>Religion_Familiar</th><th scope=col>Actividades_deportivas</th><th scope=col>Actividades_atrísticas</th><th scope=col>Aptitudes_científicas</th><th scope=col>prediccion</th></tr>\n",
              "\t<tr><th></th><th scope=col>&lt;dbl&gt;</th><th scope=col>&lt;chr&gt;</th><th scope=col>&lt;dbl&gt;</th><th scope=col>&lt;chr&gt;</th><th scope=col>&lt;dbl&gt;</th><th scope=col>&lt;chr&gt;</th><th scope=col>&lt;dbl&gt;</th><th scope=col>&lt;chr&gt;</th><th scope=col>&lt;dbl&gt;</th><th scope=col>&lt;chr&gt;</th><th scope=col>&lt;chr&gt;</th><th scope=col>&lt;chr&gt;</th><th scope=col>&lt;dbl&gt;</th><th scope=col>&lt;dbl&gt;</th><th scope=col>&lt;dbl&gt;</th><th scope=col>&lt;dbl&gt;</th></tr>\n",
              "</thead>\n",
              "<tbody>\n",
              "\t<tr><th scope=row>1</th><td>238219</td><td>M</td><td>16</td><td>ALTO </td><td>3</td><td>Video Juegos   </td><td>5</td><td>No        </td><td>2</td><td>RURAL </td><td>BAJO   </td><td>Catolicismo Romano</td><td>0</td><td>1</td><td>0</td><td>0.001752131</td></tr>\n",
              "\t<tr><th scope=row>2</th><td>313882</td><td>M</td><td>17</td><td>ALTO </td><td>3</td><td>Video Juegos   </td><td>6</td><td>No realizo</td><td>4</td><td>RURAL </td><td>REGUAR </td><td>Protestantismo    </td><td>1</td><td>0</td><td>0</td><td>0.001668357</td></tr>\n",
              "\t<tr><th scope=row>3</th><td>106901</td><td>F</td><td>10</td><td>MEDIO</td><td>7</td><td>Muñecos/Muñecas</td><td>5</td><td>Si realizo</td><td>0</td><td>RURAL </td><td>REGUAR </td><td>Protestantismo    </td><td>1</td><td>1</td><td>0</td><td>0.964314236</td></tr>\n",
              "\t<tr><th scope=row>4</th><td>477646</td><td>M</td><td>18</td><td>ALTO </td><td>3</td><td>Video Juegos   </td><td>5</td><td>Si realizo</td><td>5</td><td>URBANA</td><td>REGULAR</td><td>Catolicismo Romano</td><td>1</td><td>0</td><td>0</td><td>0.002093611</td></tr>\n",
              "\t<tr><th scope=row>5</th><td>510663</td><td>M</td><td>17</td><td>ALTO </td><td>1</td><td>Video Juegos   </td><td>4</td><td>No        </td><td>1</td><td>RURAL </td><td>BAJO   </td><td>Catolicismo Romano</td><td>1</td><td>0</td><td>0</td><td>0.001668357</td></tr>\n",
              "\t<tr><th scope=row>6</th><td>439847</td><td>F</td><td> 6</td><td>MEDIO</td><td>5</td><td>Video Juegos   </td><td>2</td><td>No realizo</td><td>3</td><td>RURAL </td><td>BAJO   </td><td>Catolicismo Romano</td><td>1</td><td>0</td><td>0</td><td>0.001752131</td></tr>\n",
              "</tbody>\n",
              "</table>\n"
            ],
            "text/markdown": "\nA data.frame: 6 × 16\n\n| <!--/--> | Id &lt;dbl&gt; | genero &lt;chr&gt; | edad &lt;dbl&gt; | comportamiento_escolar &lt;chr&gt; | Obediencia_hogar &lt;dbl&gt; | Intereses &lt;chr&gt; | Socioeconomía &lt;dbl&gt; | Actividades_comunitarias &lt;chr&gt; | Num_hermanos &lt;dbl&gt; | Vivienda &lt;chr&gt; | Estado_Salud &lt;chr&gt; | Religion_Familiar &lt;chr&gt; | Actividades_deportivas &lt;dbl&gt; | Actividades_atrísticas &lt;dbl&gt; | Aptitudes_científicas &lt;dbl&gt; | prediccion &lt;dbl&gt; |\n|---|---|---|---|---|---|---|---|---|---|---|---|---|---|---|---|---|\n| 1 | 238219 | M | 16 | ALTO  | 3 | Video Juegos    | 5 | No         | 2 | RURAL  | BAJO    | Catolicismo Romano | 0 | 1 | 0 | 0.001752131 |\n| 2 | 313882 | M | 17 | ALTO  | 3 | Video Juegos    | 6 | No realizo | 4 | RURAL  | REGUAR  | Protestantismo     | 1 | 0 | 0 | 0.001668357 |\n| 3 | 106901 | F | 10 | MEDIO | 7 | Muñecos/Muñecas | 5 | Si realizo | 0 | RURAL  | REGUAR  | Protestantismo     | 1 | 1 | 0 | 0.964314236 |\n| 4 | 477646 | M | 18 | ALTO  | 3 | Video Juegos    | 5 | Si realizo | 5 | URBANA | REGULAR | Catolicismo Romano | 1 | 0 | 0 | 0.002093611 |\n| 5 | 510663 | M | 17 | ALTO  | 1 | Video Juegos    | 4 | No         | 1 | RURAL  | BAJO    | Catolicismo Romano | 1 | 0 | 0 | 0.001668357 |\n| 6 | 439847 | F |  6 | MEDIO | 5 | Video Juegos    | 2 | No realizo | 3 | RURAL  | BAJO    | Catolicismo Romano | 1 | 0 | 0 | 0.001752131 |\n\n",
            "text/latex": "A data.frame: 6 × 16\n\\begin{tabular}{r|llllllllllllllll}\n  & Id & genero & edad & comportamiento\\_escolar & Obediencia\\_hogar & Intereses & Socioeconomía & Actividades\\_comunitarias & Num\\_hermanos & Vivienda & Estado\\_Salud & Religion\\_Familiar & Actividades\\_deportivas & Actividades\\_atrísticas & Aptitudes\\_científicas & prediccion\\\\\n  & <dbl> & <chr> & <dbl> & <chr> & <dbl> & <chr> & <dbl> & <chr> & <dbl> & <chr> & <chr> & <chr> & <dbl> & <dbl> & <dbl> & <dbl>\\\\\n\\hline\n\t1 & 238219 & M & 16 & ALTO  & 3 & Video Juegos    & 5 & No         & 2 & RURAL  & BAJO    & Catolicismo Romano & 0 & 1 & 0 & 0.001752131\\\\\n\t2 & 313882 & M & 17 & ALTO  & 3 & Video Juegos    & 6 & No realizo & 4 & RURAL  & REGUAR  & Protestantismo     & 1 & 0 & 0 & 0.001668357\\\\\n\t3 & 106901 & F & 10 & MEDIO & 7 & Muñecos/Muñecas & 5 & Si realizo & 0 & RURAL  & REGUAR  & Protestantismo     & 1 & 1 & 0 & 0.964314236\\\\\n\t4 & 477646 & M & 18 & ALTO  & 3 & Video Juegos    & 5 & Si realizo & 5 & URBANA & REGULAR & Catolicismo Romano & 1 & 0 & 0 & 0.002093611\\\\\n\t5 & 510663 & M & 17 & ALTO  & 1 & Video Juegos    & 4 & No         & 1 & RURAL  & BAJO    & Catolicismo Romano & 1 & 0 & 0 & 0.001668357\\\\\n\t6 & 439847 & F &  6 & MEDIO & 5 & Video Juegos    & 2 & No realizo & 3 & RURAL  & BAJO    & Catolicismo Romano & 1 & 0 & 0 & 0.001752131\\\\\n\\end{tabular}\n",
            "text/plain": [
              "  Id     genero edad comportamiento_escolar Obediencia_hogar Intereses      \n",
              "1 238219 M      16   ALTO                   3                Video Juegos   \n",
              "2 313882 M      17   ALTO                   3                Video Juegos   \n",
              "3 106901 F      10   MEDIO                  7                Muñecos/Muñecas\n",
              "4 477646 M      18   ALTO                   3                Video Juegos   \n",
              "5 510663 M      17   ALTO                   1                Video Juegos   \n",
              "6 439847 F       6   MEDIO                  5                Video Juegos   \n",
              "  Socioeconomía Actividades_comunitarias Num_hermanos Vivienda Estado_Salud\n",
              "1 5             No                       2            RURAL    BAJO        \n",
              "2 6             No realizo               4            RURAL    REGUAR      \n",
              "3 5             Si realizo               0            RURAL    REGUAR      \n",
              "4 5             Si realizo               5            URBANA   REGULAR     \n",
              "5 4             No                       1            RURAL    BAJO        \n",
              "6 2             No realizo               3            RURAL    BAJO        \n",
              "  Religion_Familiar  Actividades_deportivas Actividades_atrísticas\n",
              "1 Catolicismo Romano 0                      1                     \n",
              "2 Protestantismo     1                      0                     \n",
              "3 Protestantismo     1                      1                     \n",
              "4 Catolicismo Romano 1                      0                     \n",
              "5 Catolicismo Romano 1                      0                     \n",
              "6 Catolicismo Romano 1                      0                     \n",
              "  Aptitudes_científicas prediccion \n",
              "1 0                     0.001752131\n",
              "2 0                     0.001668357\n",
              "3 0                     0.964314236\n",
              "4 0                     0.002093611\n",
              "5 0                     0.001668357\n",
              "6 0                     0.001752131"
            ]
          },
          "metadata": {}
        }
      ]
    }
  ]
}