{
  "nbformat": 4,
  "nbformat_minor": 0,
  "metadata": {
    "colab": {
      "provenance": []
    },
    "kernelspec": {
      "name": "ir",
      "display_name": "R"
    },
    "language_info": {
      "name": "R"
    }
  },
  "cells": [
    {
      "cell_type": "markdown",
      "source": [
        "#Punto 2 – Solución Sugerida\n"
      ],
      "metadata": {
        "id": "SkFe6gcgwOjt"
      }
    },
    {
      "cell_type": "code",
      "execution_count": 2,
      "metadata": {
        "id": "sI8gZ5HLhvcG",
        "colab": {
          "base_uri": "https://localhost:8080/"
        },
        "outputId": "dd44471d-3913-4c02-f9a0-e8a5b50f5c37"
      },
      "outputs": [
        {
          "output_type": "stream",
          "name": "stderr",
          "text": [
            "Loading required package: caret\n",
            "\n",
            "Warning message in library(package, lib.loc = lib.loc, character.only = TRUE, logical.return = TRUE, :\n",
            "“there is no package called ‘caret’”\n",
            "Installing package into ‘/usr/local/lib/R/site-library’\n",
            "(as ‘lib’ is unspecified)\n",
            "\n",
            "also installing the dependencies ‘listenv’, ‘parallelly’, ‘future’, ‘globals’, ‘shape’, ‘future.apply’, ‘numDeriv’, ‘progressr’, ‘SQUAREM’, ‘diagram’, ‘lava’, ‘prodlim’, ‘proxy’, ‘iterators’, ‘clock’, ‘gower’, ‘hardhat’, ‘ipred’, ‘sparsevctrs’, ‘timeDate’, ‘e1071’, ‘foreach’, ‘ModelMetrics’, ‘plyr’, ‘pROC’, ‘recipes’, ‘reshape2’\n",
            "\n",
            "\n",
            "Loading required package: e1071\n",
            "\n",
            "Loading required package: pROC\n",
            "\n",
            "Type 'citation(\"pROC\")' for a citation.\n",
            "\n",
            "\n",
            "Attaching package: ‘pROC’\n",
            "\n",
            "\n",
            "The following objects are masked from ‘package:stats’:\n",
            "\n",
            "    cov, smooth, var\n",
            "\n",
            "\n"
          ]
        }
      ],
      "source": [
        "# Cargar las librerías necesarias\n",
        "if (!require('caret')) install.packages('caret')\n",
        "if (!require('e1071')) install.packages('e1071')\n",
        "if (!require('pROC')) install.packages('pROC')\n"
      ]
    },
    {
      "cell_type": "code",
      "source": [
        "if (!require('MLmetrics')) install.packages('MLmetrics')\n"
      ],
      "metadata": {
        "colab": {
          "base_uri": "https://localhost:8080/"
        },
        "id": "9RlLCwliqXy6",
        "outputId": "65fd394b-39b2-4981-a5ad-c0982f3ab05d"
      },
      "execution_count": 3,
      "outputs": [
        {
          "output_type": "stream",
          "name": "stderr",
          "text": [
            "Loading required package: MLmetrics\n",
            "\n",
            "Warning message in library(package, lib.loc = lib.loc, character.only = TRUE, logical.return = TRUE, :\n",
            "“there is no package called ‘MLmetrics’”\n",
            "Installing package into ‘/usr/local/lib/R/site-library’\n",
            "(as ‘lib’ is unspecified)\n",
            "\n",
            "also installing the dependencies ‘bitops’, ‘gtools’, ‘caTools’, ‘gplots’, ‘ROCR’\n",
            "\n",
            "\n"
          ]
        }
      ]
    },
    {
      "cell_type": "code",
      "source": [
        "library(readxl)\n",
        "library(caret)\n",
        "library(MLmetrics)\n",
        "library(pROC)\n",
        "library(e1071)"
      ],
      "metadata": {
        "id": "k8SjuC4vqNwF",
        "colab": {
          "base_uri": "https://localhost:8080/"
        },
        "outputId": "13fb3596-525c-4de4-f718-5f3f2230043d"
      },
      "execution_count": 4,
      "outputs": [
        {
          "output_type": "stream",
          "name": "stderr",
          "text": [
            "Loading required package: ggplot2\n",
            "\n",
            "Loading required package: lattice\n",
            "\n",
            "\n",
            "Attaching package: ‘MLmetrics’\n",
            "\n",
            "\n",
            "The following objects are masked from ‘package:caret’:\n",
            "\n",
            "    MAE, RMSE\n",
            "\n",
            "\n",
            "The following object is masked from ‘package:base’:\n",
            "\n",
            "    Recall\n",
            "\n",
            "\n"
          ]
        }
      ]
    },
    {
      "cell_type": "code",
      "source": [
        "set.seed(1234)\n",
        "df <- read_excel('caso1a.xlsx')\n",
        "str(df)"
      ],
      "metadata": {
        "colab": {
          "base_uri": "https://localhost:8080/"
        },
        "id": "P3TQ868oudSd",
        "outputId": "48441813-514f-4eb7-a0a4-ac43ef7484c3"
      },
      "execution_count": 8,
      "outputs": [
        {
          "output_type": "stream",
          "name": "stdout",
          "text": [
            "tibble [7,260 × 5] (S3: tbl_df/tbl/data.frame)\n",
            " $ Genero        : chr [1:7260] \"FEMENINO\" \"FEMENINO\" \"MASCULINO\" \"FEMENINO\" ...\n",
            " $ estadocivil   : chr [1:7260] \"VIUDO\" \"CASADO\" \"SOLTERO\" \"SOLTERO\" ...\n",
            " $ edad          : chr [1:7260] \"51 - 60\" \"41 - 50\" \"41 - 50\" \"31 - 40\" ...\n",
            " $ ViviendaPropia: chr [1:7260] \"NO\" \"SI\" \"NO\" \"NO APLICA\" ...\n",
            " $ compra        : chr [1:7260] \"no\" \"no\" \"no\" \"si\" ...\n"
          ]
        }
      ]
    },
    {
      "cell_type": "code",
      "source": [
        "df$Genero <- as.factor(df$Genero)\n",
        "df$estadocivil <- as.factor(df$estadocivil)\n",
        "df$edad <- as.factor(df$edad)\n",
        "df$ViviendaPropia <- as.factor(df$ViviendaPropia)\n",
        "df$compra <- as.factor(df$compra)\n",
        "str(df)"
      ],
      "metadata": {
        "colab": {
          "base_uri": "https://localhost:8080/"
        },
        "id": "AMm2bKenO4W0",
        "outputId": "9c8740b3-ff0c-4fcc-f3a3-b574b673953d"
      },
      "execution_count": 9,
      "outputs": [
        {
          "output_type": "stream",
          "name": "stdout",
          "text": [
            "tibble [7,260 × 5] (S3: tbl_df/tbl/data.frame)\n",
            " $ Genero        : Factor w/ 2 levels \"FEMENINO\",\"MASCULINO\": 1 1 2 1 2 1 1 1 2 2 ...\n",
            " $ estadocivil   : Factor w/ 6 levels \"CASADO\",\"DIVORCIADO\",..: 6 1 4 4 1 6 4 4 1 4 ...\n",
            " $ edad          : Factor w/ 8 levels \"0 - 17\",\"18 - 22\",..: 6 5 5 4 5 6 4 6 4 NA ...\n",
            " $ ViviendaPropia: Factor w/ 3 levels \"NO\",\"NO APLICA\",..: 1 3 1 2 3 3 2 1 1 1 ...\n",
            " $ compra        : Factor w/ 2 levels \"no\",\"si\": 1 1 1 2 1 2 1 1 2 1 ...\n"
          ]
        }
      ]
    },
    {
      "cell_type": "code",
      "source": [
        "set.seed(1234)\n",
        "sample_train <- sample.int(nrow(df), floor(0.75 * nrow(df)))\n",
        "train_data <- df[sample_train, ]\n",
        "test_data <- df[-sample_train, ]\n",
        "str(train_data)"
      ],
      "metadata": {
        "colab": {
          "base_uri": "https://localhost:8080/"
        },
        "id": "YK1r711tOr5O",
        "outputId": "04e5ceed-149a-4818-e91e-a6de585fe9d3"
      },
      "execution_count": 10,
      "outputs": [
        {
          "output_type": "stream",
          "name": "stdout",
          "text": [
            "tibble [5,445 × 5] (S3: tbl_df/tbl/data.frame)\n",
            " $ Genero        : Factor w/ 2 levels \"FEMENINO\",\"MASCULINO\": 1 2 1 1 2 1 1 2 2 2 ...\n",
            " $ estadocivil   : Factor w/ 6 levels \"CASADO\",\"DIVORCIADO\",..: 1 4 4 1 1 1 4 1 4 4 ...\n",
            " $ edad          : Factor w/ 8 levels \"0 - 17\",\"18 - 22\",..: 4 5 5 5 4 6 6 4 5 3 ...\n",
            " $ ViviendaPropia: Factor w/ 3 levels \"NO\",\"NO APLICA\",..: 1 1 3 3 1 1 3 1 1 3 ...\n",
            " $ compra        : Factor w/ 2 levels \"no\",\"si\": 1 1 2 1 1 1 2 1 2 2 ...\n"
          ]
        }
      ]
    },
    {
      "cell_type": "code",
      "source": [
        "naive_model <- naiveBayes(compra ~ ., data = train_data)\n",
        "pred_naive_prob <- predict(naive_model, test_data, type = \"raw\")"
      ],
      "metadata": {
        "id": "AdRPO7Siw6mu"
      },
      "execution_count": 11,
      "outputs": []
    },
    {
      "cell_type": "code",
      "source": [
        "umbrales <- c(0.3, 0.5, 0.7)\n",
        "for (umbral in umbrales) {\n",
        "  pred_naive <- ifelse(pred_naive_prob[, 2] > umbral, 'si', 'no')\n",
        "  pred_naive <- factor(pred_naive, levels = levels(test_data$compra))\n",
        "  cat(\"Resultados para umbral de probabilidad =\", umbral, \":\\n\")\n",
        "  conf <- confusionMatrix(pred_naive, test_data$compra, positive = 'si')\n",
        "  print(conf)\n",
        "}\n"
      ],
      "metadata": {
        "colab": {
          "base_uri": "https://localhost:8080/"
        },
        "id": "14eHvLjwu15L",
        "outputId": "6bfa91f2-41b4-4dd6-c7bf-203667e8e74b"
      },
      "execution_count": 12,
      "outputs": [
        {
          "output_type": "stream",
          "name": "stdout",
          "text": [
            "Resultados para umbral de probabilidad = 0.3 :\n",
            "Confusion Matrix and Statistics\n",
            "\n",
            "          Reference\n",
            "Prediction  no  si\n",
            "        no 767 140\n",
            "        si 472 436\n",
            "                                          \n",
            "               Accuracy : 0.6628          \n",
            "                 95% CI : (0.6405, 0.6846)\n",
            "    No Information Rate : 0.6826          \n",
            "    P-Value [Acc > NIR] : 0.9667          \n",
            "                                          \n",
            "                  Kappa : 0.3258          \n",
            "                                          \n",
            " Mcnemar's Test P-Value : <2e-16          \n",
            "                                          \n",
            "            Sensitivity : 0.7569          \n",
            "            Specificity : 0.6190          \n",
            "         Pos Pred Value : 0.4802          \n",
            "         Neg Pred Value : 0.8456          \n",
            "             Prevalence : 0.3174          \n",
            "         Detection Rate : 0.2402          \n",
            "   Detection Prevalence : 0.5003          \n",
            "      Balanced Accuracy : 0.6880          \n",
            "                                          \n",
            "       'Positive' Class : si              \n",
            "                                          \n",
            "Resultados para umbral de probabilidad = 0.5 :\n",
            "Confusion Matrix and Statistics\n",
            "\n",
            "          Reference\n",
            "Prediction   no   si\n",
            "        no 1085  357\n",
            "        si  154  219\n",
            "                                          \n",
            "               Accuracy : 0.7185          \n",
            "                 95% CI : (0.6971, 0.7391)\n",
            "    No Information Rate : 0.6826          \n",
            "    P-Value [Acc > NIR] : 0.0005108       \n",
            "                                          \n",
            "                  Kappa : 0.2826          \n",
            "                                          \n",
            " Mcnemar's Test P-Value : < 2.2e-16       \n",
            "                                          \n",
            "            Sensitivity : 0.3802          \n",
            "            Specificity : 0.8757          \n",
            "         Pos Pred Value : 0.5871          \n",
            "         Neg Pred Value : 0.7524          \n",
            "             Prevalence : 0.3174          \n",
            "         Detection Rate : 0.1207          \n",
            "   Detection Prevalence : 0.2055          \n",
            "      Balanced Accuracy : 0.6280          \n",
            "                                          \n",
            "       'Positive' Class : si              \n",
            "                                          \n",
            "Resultados para umbral de probabilidad = 0.7 :\n",
            "Confusion Matrix and Statistics\n",
            "\n",
            "          Reference\n",
            "Prediction   no   si\n",
            "        no 1200  455\n",
            "        si   39  121\n",
            "                                          \n",
            "               Accuracy : 0.7278          \n",
            "                 95% CI : (0.7067, 0.7482)\n",
            "    No Information Rate : 0.6826          \n",
            "    P-Value [Acc > NIR] : 1.565e-05       \n",
            "                                          \n",
            "                  Kappa : 0.2214          \n",
            "                                          \n",
            " Mcnemar's Test P-Value : < 2.2e-16       \n",
            "                                          \n",
            "            Sensitivity : 0.21007         \n",
            "            Specificity : 0.96852         \n",
            "         Pos Pred Value : 0.75625         \n",
            "         Neg Pred Value : 0.72508         \n",
            "             Prevalence : 0.31736         \n",
            "         Detection Rate : 0.06667         \n",
            "   Detection Prevalence : 0.08815         \n",
            "      Balanced Accuracy : 0.58930         \n",
            "                                          \n",
            "       'Positive' Class : si              \n",
            "                                          \n"
          ]
        }
      ]
    },
    {
      "cell_type": "markdown",
      "source": [
        "\n",
        "- **Umbral = 0.3**:\n",
        "  - **Accuracy**: 0.6628\n",
        "\n",
        "- **Umbral = 0.5**:\n",
        "  - **Accuracy**: 0.7185\n",
        "\n",
        "- **Umbral = 0.7**:\n",
        "  - **Accuracy**: 0.7278\n",
        "\n",
        "El umbral de 0.7 es el seleccionado pues muestra el accuracy más alto: 0.7278"
      ],
      "metadata": {
        "id": "HoU6v0jvvack"
      }
    },
    {
      "cell_type": "markdown",
      "source": [
        "# PUNTO 3 CURVA ROC"
      ],
      "metadata": {
        "id": "PL-D-VyZ_-k-"
      }
    },
    {
      "cell_type": "code",
      "source": [
        "umbrales <- c(1.0, 0.9, 0.8, 0.7, 0.6, 0.5, 0.4, 0.3, 0.2, 0.1, 0.0)\n",
        "for (umbral in umbrales) {\n",
        "  pred_naive <- ifelse(pred_naive_prob[, 2] > umbral, 'si', 'no')\n",
        "  pred_naive <- factor(pred_naive, levels = levels(test_data$compra))\n",
        "  cat(\"Resultados para umbral de probabilidad =\", umbral, \":\\n\")\n",
        "  conf <- confusionMatrix(pred_naive, test_data$compra)\n",
        "  #print(conf)\n",
        "  print(conf$table)\n",
        "}\n",
        "\n",
        "library(pROC)\n",
        "roc_curve <- roc(as.numeric(test_data$compra == 'no'), pred_naive_prob[, 2])\n",
        "plot(roc_curve, col = \"blue\", main = \"Curva ROC - Naive Bayes\")\n",
        "auc_value <- auc(roc_curve)\n",
        "cat(\"AUC =\", auc_value, \"\\n\")"
      ],
      "metadata": {
        "colab": {
          "base_uri": "https://localhost:8080/",
          "height": 1000
        },
        "id": "ZPhuUwOj_6Tc",
        "outputId": "35bc6608-61cd-4b28-9b2a-8b64f23028f6"
      },
      "execution_count": 15,
      "outputs": [
        {
          "output_type": "stream",
          "name": "stdout",
          "text": [
            "Resultados para umbral de probabilidad = 1 :\n",
            "          Reference\n",
            "Prediction   no   si\n",
            "        no 1239  576\n",
            "        si    0    0\n",
            "Resultados para umbral de probabilidad = 0.9 :\n",
            "          Reference\n",
            "Prediction   no   si\n",
            "        no 1239  576\n",
            "        si    0    0\n",
            "Resultados para umbral de probabilidad = 0.8 :\n",
            "          Reference\n",
            "Prediction   no   si\n",
            "        no 1239  576\n",
            "        si    0    0\n",
            "Resultados para umbral de probabilidad = 0.7 :\n",
            "          Reference\n",
            "Prediction   no   si\n",
            "        no 1200  455\n",
            "        si   39  121\n",
            "Resultados para umbral de probabilidad = 0.6 :\n",
            "          Reference\n",
            "Prediction   no   si\n",
            "        no 1140  412\n",
            "        si   99  164\n",
            "Resultados para umbral de probabilidad = 0.5 :\n",
            "          Reference\n",
            "Prediction   no   si\n",
            "        no 1085  357\n",
            "        si  154  219\n",
            "Resultados para umbral de probabilidad = 0.4 :\n",
            "          Reference\n",
            "Prediction  no  si\n",
            "        no 931 214\n",
            "        si 308 362\n",
            "Resultados para umbral de probabilidad = 0.3 :\n",
            "          Reference\n",
            "Prediction  no  si\n",
            "        no 767 140\n",
            "        si 472 436\n",
            "Resultados para umbral de probabilidad = 0.2 :\n",
            "          Reference\n",
            "Prediction  no  si\n",
            "        no 551  94\n",
            "        si 688 482\n",
            "Resultados para umbral de probabilidad = 0.1 :\n",
            "          Reference\n",
            "Prediction   no   si\n",
            "        no  104   15\n",
            "        si 1135  561\n",
            "Resultados para umbral de probabilidad = 0 :\n",
            "          Reference\n",
            "Prediction   no   si\n",
            "        no    0    0\n",
            "        si 1239  576\n"
          ]
        },
        {
          "output_type": "stream",
          "name": "stderr",
          "text": [
            "Setting levels: control = 0, case = 1\n",
            "\n",
            "Setting direction: controls > cases\n",
            "\n"
          ]
        },
        {
          "output_type": "stream",
          "name": "stdout",
          "text": [
            "AUC = 0.7344633 \n"
          ]
        },
        {
          "output_type": "display_data",
          "data": {
            "text/plain": [
              "Plot with title “Curva ROC - Naive Bayes”"
            ],
            "image/png": "[encoded data removed]"
          },
          "metadata": {
            "image/png": {
              "width": 420,
              "height": 420
            }
          }
        }
      ]
    }
  ]
}