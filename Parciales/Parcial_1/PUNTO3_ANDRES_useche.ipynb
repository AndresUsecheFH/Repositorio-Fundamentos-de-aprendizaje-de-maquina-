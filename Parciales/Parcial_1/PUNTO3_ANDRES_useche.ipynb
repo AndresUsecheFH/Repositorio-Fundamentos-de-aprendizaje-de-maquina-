{
  "nbformat": 4,
  "nbformat_minor": 0,
  "metadata": {
    "colab": {
      "provenance": []
    },
    "kernelspec": {
      "name": "ir",
      "display_name": "R"
    },
    "language_info": {
      "name": "R"
    }
  },
  "cells": [
    {
      "cell_type": "code",
      "execution_count": null,
      "metadata": {
        "colab": {
          "base_uri": "https://localhost:8080/"
        },
        "id": "eIz6BMwV1xia",
        "outputId": "fc0b60ec-53f9-4e7f-c7b1-c0fcea3983dd"
      },
      "outputs": [
        {
          "output_type": "stream",
          "name": "stderr",
          "text": [
            "Loading required package: caret\n",
            "\n",
            "Warning message in library(package, lib.loc = lib.loc, character.only = TRUE, logical.return = TRUE, :\n",
            "“there is no package called ‘caret’”\n",
            "Installing package into ‘/usr/local/lib/R/site-library’\n",
            "(as ‘lib’ is unspecified)\n",
            "\n",
            "also installing the dependencies ‘listenv’, ‘parallelly’, ‘future’, ‘globals’, ‘shape’, ‘future.apply’, ‘numDeriv’, ‘progressr’, ‘SQUAREM’, ‘diagram’, ‘lava’, ‘prodlim’, ‘proxy’, ‘iterators’, ‘clock’, ‘gower’, ‘hardhat’, ‘ipred’, ‘sparsevctrs’, ‘timeDate’, ‘e1071’, ‘foreach’, ‘ModelMetrics’, ‘plyr’, ‘pROC’, ‘recipes’, ‘reshape2’\n",
            "\n",
            "\n"
          ]
        }
      ],
      "source": [
        "# Cargar las librerías necesarias\n",
        "if (!require('caret')) install.packages('caret')\n",
        "if (!require('e1071')) install.packages('e1071')\n",
        "if (!require('pROC')) install.packages('pROC')"
      ]
    },
    {
      "cell_type": "code",
      "execution_count": null,
      "metadata": {
        "id": "8pJ_LP61aai0"
      },
      "outputs": [],
      "source": [
        "if (!require('readxl')) install.packages('readxl')"
      ]
    },
    {
      "cell_type": "code",
      "source": [
        "set.seed(159)\n",
        "\n",
        "\n",
        "df <- read_excel(\"/content/caso1a.xlsx\")\n",
        "str(df)\n",
        "\n"
      ],
      "metadata": {
        "colab": {
          "base_uri": "https://localhost:8080/"
        },
        "id": "MIV1IInS2f6z",
        "outputId": "c2bce23a-2e13-418c-f47e-b3bb1dda5341"
      },
      "execution_count": null,
      "outputs": [
        {
          "output_type": "stream",
          "name": "stdout",
          "text": [
            "tibble [7,260 × 5] (S3: tbl_df/tbl/data.frame)\n",
            " $ Genero        : chr [1:7260] \"FEMENINO\" \"FEMENINO\" \"MASCULINO\" \"FEMENINO\" ...\n",
            " $ estadocivil   : chr [1:7260] \"VIUDO\" \"CASADO\" \"SOLTERO\" \"SOLTERO\" ...\n",
            " $ edad          : chr [1:7260] \"51 - 60\" \"41 - 50\" \"41 - 50\" \"31 - 40\" ...\n",
            " $ ViviendaPropia: chr [1:7260] \"NO\" \"SI\" \"NO\" \"NO APLICA\" ...\n",
            " $ compra        : chr [1:7260] \"no\" \"no\" \"no\" \"si\" ...\n"
          ]
        }
      ]
    },
    {
      "cell_type": "code",
      "source": [
        "#genero entrenamiento y validacion para cereal\n",
        "set.seed(159)\n",
        "sample <- sample.int(nrow(df), floor(.5*nrow(df)))\n",
        "train_data <- df[sample, ]\n",
        "test_data <- df[-sample, ]\n",
        "\n",
        "train_data$compra <- as.factor(train_data$compra)\n",
        "test_data$compra <- as.factor(test_data$compra)\n"
      ],
      "metadata": {
        "id": "7y3mb7M-_Mse"
      },
      "execution_count": null,
      "outputs": []
    },
    {
      "cell_type": "code",
      "source": [
        "\n",
        "naive_model <- naiveBayes(compra ~ ., data = train_data)"
      ],
      "metadata": {
        "id": "g-5jfKQ26cIh"
      },
      "execution_count": null,
      "outputs": []
    },
    {
      "cell_type": "code",
      "source": [
        "#guarda las probabilidades (para curva ROC)\n",
        "prednaiveprob<-predict(naive_model, test_data, type=\"raw\")"
      ],
      "metadata": {
        "id": "oCSSOuMD_Y31"
      },
      "execution_count": null,
      "outputs": []
    },
    {
      "cell_type": "code",
      "source": [
        "umbrales <- c(0.1,0.4,0.5, 0.6,0.7, 0.8)\n",
        "for (umbral in umbrales) {\n",
        "  # Predict class labels based on the threshold\n",
        "  pred_naive <- ifelse(prednaiveprob[, 1] > umbral, 'no', 'si')\n",
        "  # Convert predictions to factors with the correct levels\n",
        "  pred_naive <- factor(pred_naive, levels = levels(test_data$compra))\n",
        "\n",
        "\n",
        "  cat(\"Resultados para umbral de probabilidad =\", umbral, \":\\n\")\n",
        "  conf <- confusionMatrix(pred_naive, test_data$compra)\n",
        "  print(conf$table)\n",
        "  print(conf$byClass)\n",
        "}"
      ],
      "metadata": {
        "colab": {
          "base_uri": "https://localhost:8080/"
        },
        "id": "j7M4xEl--OLl",
        "outputId": "5adb895a-bbb1-4c47-d196-a33089640672"
      },
      "execution_count": null,
      "outputs": [
        {
          "output_type": "stream",
          "name": "stdout",
          "text": [
            "Resultados para umbral de probabilidad = 0.4 :\n",
            "          Reference\n",
            "Prediction   no   si\n",
            "        no 2192  885\n",
            "        si  201  352\n",
            "         Sensitivity          Specificity       Pos Pred Value \n",
            "           0.9160050            0.2845594            0.7123822 \n",
            "      Neg Pred Value            Precision               Recall \n",
            "           0.6365280            0.7123822            0.9160050 \n",
            "                  F1           Prevalence       Detection Rate \n",
            "           0.8014625            0.6592287            0.6038567 \n",
            "Detection Prevalence    Balanced Accuracy \n",
            "           0.8476584            0.6002822 \n",
            "Resultados para umbral de probabilidad = 0.6 :\n",
            "          Reference\n",
            "Prediction   no   si\n",
            "        no 1847  516\n",
            "        si  546  721\n",
            "         Sensitivity          Specificity       Pos Pred Value \n",
            "           0.7718345            0.5828618            0.7816335 \n",
            "      Neg Pred Value            Precision               Recall \n",
            "           0.5690608            0.7816335            0.7718345 \n",
            "                  F1           Prevalence       Detection Rate \n",
            "           0.7767031            0.6592287            0.5088154 \n",
            "Detection Prevalence    Balanced Accuracy \n",
            "           0.6509642            0.6773481 \n",
            "Resultados para umbral de probabilidad = 0.8 :\n",
            "          Reference\n",
            "Prediction   no   si\n",
            "        no 1126  202\n",
            "        si 1267 1035\n",
            "         Sensitivity          Specificity       Pos Pred Value \n",
            "           0.4705391            0.8367017            0.8478916 \n",
            "      Neg Pred Value            Precision               Recall \n",
            "           0.4496090            0.8478916            0.4705391 \n",
            "                  F1           Prevalence       Detection Rate \n",
            "           0.6052137            0.6592287            0.3101928 \n",
            "Detection Prevalence    Balanced Accuracy \n",
            "           0.3658402            0.6536204 \n"
          ]
        }
      ]
    },
    {
      "cell_type": "code",
      "source": [],
      "metadata": {
        "id": "a_ER0Z-OHbs4"
      },
      "execution_count": null,
      "outputs": []
    },
    {
      "cell_type": "code",
      "source": [
        "\n",
        "library(pROC)\n",
        "roc_curve <- roc(as.numeric(test_data$compra == 'si'), prednaiveprob[, 2])\n",
        "plot(roc_curve, col = \"blue\", main = \"Curva ROC - Naive Bayes\")\n",
        "auc_value <- auc(roc_curve)\n",
        "cat(\"AUC =\", auc_value, \"\\n\")"
      ],
      "metadata": {
        "colab": {
          "base_uri": "https://localhost:8080/",
          "height": 524
        },
        "id": "HCr8OCiP7tqa",
        "outputId": "6a8371e6-44d4-4b64-e1f1-582ed60637b6"
      },
      "execution_count": null,
      "outputs": [
        {
          "output_type": "stream",
          "name": "stderr",
          "text": [
            "Setting levels: control = 0, case = 1\n",
            "\n",
            "Setting direction: controls < cases\n",
            "\n"
          ]
        },
        {
          "output_type": "stream",
          "name": "stdout",
          "text": [
            "AUC = 0.7358982 \n"
          ]
        },
        {
          "output_type": "display_data",
          "data": {
            "text/plain": [
              "Plot with title “Curva ROC - Naive Bayes”"
            ],
            "image/png": "[encoded data removed]"
          },
          "metadata": {
            "image/png": {
              "width": 420,
              "height": 420
            }
          }
        }
      ]
    }
  ]
}