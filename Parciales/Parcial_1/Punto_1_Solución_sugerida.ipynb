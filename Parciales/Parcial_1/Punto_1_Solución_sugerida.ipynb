{
  "nbformat": 4,
  "nbformat_minor": 0,
  "metadata": {
    "colab": {
      "provenance": []
    },
    "kernelspec": {
      "name": "ir",
      "display_name": "R"
    },
    "language_info": {
      "name": "R"
    }
  },
  "cells": [
    {
      "cell_type": "markdown",
      "source": [
        "#Punto 1 – Solución Sugerida\n",
        "\n"
      ],
      "metadata": {
        "id": "Jf6-dpb2gxg4"
      }
    },
    {
      "cell_type": "code",
      "source": [
        "if (!require('caret')) install.packages('caret')\n",
        "if (!require('MLmetrics')) install.packages('MLmetrics')\n",
        "if (!require('e1071')) install.packages('e1071')"
      ],
      "metadata": {
        "colab": {
          "base_uri": "https://localhost:8080/"
        },
        "id": "TLR-dyUpbdev",
        "outputId": "82614d5c-5307-4c1e-caf5-53e744ff2149"
      },
      "execution_count": 1,
      "outputs": [
        {
          "output_type": "stream",
          "name": "stderr",
          "text": [
            "Loading required package: caret\n",
            "\n",
            "Warning message in library(package, lib.loc = lib.loc, character.only = TRUE, logical.return = TRUE, :\n",
            "“there is no package called ‘caret’”\n",
            "Installing package into ‘/usr/local/lib/R/site-library’\n",
            "(as ‘lib’ is unspecified)\n",
            "\n",
            "also installing the dependencies ‘listenv’, ‘parallelly’, ‘future’, ‘globals’, ‘shape’, ‘future.apply’, ‘numDeriv’, ‘progressr’, ‘SQUAREM’, ‘diagram’, ‘lava’, ‘prodlim’, ‘proxy’, ‘iterators’, ‘clock’, ‘gower’, ‘hardhat’, ‘ipred’, ‘sparsevctrs’, ‘timeDate’, ‘e1071’, ‘foreach’, ‘ModelMetrics’, ‘plyr’, ‘pROC’, ‘recipes’, ‘reshape2’\n",
            "\n",
            "\n",
            "Loading required package: MLmetrics\n",
            "\n",
            "Warning message in library(package, lib.loc = lib.loc, character.only = TRUE, logical.return = TRUE, :\n",
            "“there is no package called ‘MLmetrics’”\n",
            "Installing package into ‘/usr/local/lib/R/site-library’\n",
            "(as ‘lib’ is unspecified)\n",
            "\n",
            "also installing the dependencies ‘bitops’, ‘gtools’, ‘caTools’, ‘gplots’, ‘ROCR’\n",
            "\n",
            "\n",
            "Loading required package: e1071\n",
            "\n"
          ]
        }
      ]
    },
    {
      "cell_type": "code",
      "source": [
        "library(readxl)\n",
        "library(caret)\n",
        "library(MLmetrics)\n",
        "library(ROCR)\n",
        "library(e1071)"
      ],
      "metadata": {
        "colab": {
          "base_uri": "https://localhost:8080/"
        },
        "id": "P_CPHxOynQxg",
        "outputId": "5dbfc1e2-d10b-4dad-e0e3-6310fe56ecc2"
      },
      "execution_count": 2,
      "outputs": [
        {
          "output_type": "stream",
          "name": "stderr",
          "text": [
            "Loading required package: ggplot2\n",
            "\n",
            "Loading required package: lattice\n",
            "\n",
            "\n",
            "Attaching package: ‘MLmetrics’\n",
            "\n",
            "\n",
            "The following objects are masked from ‘package:caret’:\n",
            "\n",
            "    MAE, RMSE\n",
            "\n",
            "\n",
            "The following object is masked from ‘package:base’:\n",
            "\n",
            "    Recall\n",
            "\n",
            "\n"
          ]
        }
      ]
    },
    {
      "cell_type": "code",
      "source": [
        "set.seed(1234)\n",
        "df <- read_excel('gifts_historico.xlsx')\n",
        "str(df)"
      ],
      "metadata": {
        "colab": {
          "base_uri": "https://localhost:8080/"
        },
        "id": "Aci7rR-NgDmf",
        "outputId": "e5f51c9a-ab3b-4d9c-c729-baa6da87351c"
      },
      "execution_count": 3,
      "outputs": [
        {
          "output_type": "stream",
          "name": "stdout",
          "text": [
            "tibble [249 × 16] (S3: tbl_df/tbl/data.frame)\n",
            " $ Id                      : num [1:249] 46314 46448 46732 46882 47001 ...\n",
            " $ genero                  : chr [1:249] \"M\" \"M\" \"M\" \"Nina\" ...\n",
            " $ edad                    : num [1:249] 17 16 18 13 12 7 18 9 17 5 ...\n",
            " $ comportamiento_escolar  : chr [1:249] \"ALTO\" \"MEDIO\" \"ALTO\" \"ALTO\" ...\n",
            " $ Obediencia_hogar        : num [1:249] 1 5 3 6 7 5 6 9 2 2 ...\n",
            " $ Intereses               : chr [1:249] \"Video Juegos\" \"Video Juegos\" \"Video Juegos\" \"Juegos de Mesa\" ...\n",
            " $ Socioeconomía           : num [1:249] 4 3 1 6 3 3 1 1 1 3 ...\n",
            " $ Actividades_comunitarias: chr [1:249] \"No\" \"Si\" \"No\" \"No\" ...\n",
            " $ Num_hermanos            : num [1:249] 1 5 5 2 4 3 0 4 5 2 ...\n",
            " $ Vivienda                : chr [1:249] \"RURAL\" \"URBANA\" \"RURAL\" \"RURAL\" ...\n",
            " $ Estado_Salud            : chr [1:249] \"BAJO\" \"BAJO\" \"BAJO\" \"REGULAR\" ...\n",
            " $ Religion_Familiar       : chr [1:249] \"Catolicismo Romano\" \"Cristianismo\" \"Cristianismo\" \"Catolicismo Romano\" ...\n",
            " $ Actividades_deportivas  : num [1:249] 1 1 0 0 0 0 1 1 0 0 ...\n",
            " $ Actividades_atrísticas  : num [1:249] 0 0 0 1 1 0 0 1 0 1 ...\n",
            " $ Aptitudes_científicas   : num [1:249] 0 0 0 1 0 0 0 1 1 0 ...\n",
            " $ reciberegalo            : num [1:249] 0 0 0 0 1 0 0 1 0 0 ...\n"
          ]
        }
      ]
    },
    {
      "cell_type": "code",
      "source": [
        "# Eliminar variable no necesaria\n",
        "df_1 <- df[ , -c(1)]\n",
        "str(df_1)"
      ],
      "metadata": {
        "colab": {
          "base_uri": "https://localhost:8080/"
        },
        "id": "PWC-pp3OrWLx",
        "outputId": "14df89bc-9450-49c7-d485-977d64a58375"
      },
      "execution_count": 4,
      "outputs": [
        {
          "output_type": "stream",
          "name": "stdout",
          "text": [
            "tibble [249 × 15] (S3: tbl_df/tbl/data.frame)\n",
            " $ genero                  : chr [1:249] \"M\" \"M\" \"M\" \"Nina\" ...\n",
            " $ edad                    : num [1:249] 17 16 18 13 12 7 18 9 17 5 ...\n",
            " $ comportamiento_escolar  : chr [1:249] \"ALTO\" \"MEDIO\" \"ALTO\" \"ALTO\" ...\n",
            " $ Obediencia_hogar        : num [1:249] 1 5 3 6 7 5 6 9 2 2 ...\n",
            " $ Intereses               : chr [1:249] \"Video Juegos\" \"Video Juegos\" \"Video Juegos\" \"Juegos de Mesa\" ...\n",
            " $ Socioeconomía           : num [1:249] 4 3 1 6 3 3 1 1 1 3 ...\n",
            " $ Actividades_comunitarias: chr [1:249] \"No\" \"Si\" \"No\" \"No\" ...\n",
            " $ Num_hermanos            : num [1:249] 1 5 5 2 4 3 0 4 5 2 ...\n",
            " $ Vivienda                : chr [1:249] \"RURAL\" \"URBANA\" \"RURAL\" \"RURAL\" ...\n",
            " $ Estado_Salud            : chr [1:249] \"BAJO\" \"BAJO\" \"BAJO\" \"REGULAR\" ...\n",
            " $ Religion_Familiar       : chr [1:249] \"Catolicismo Romano\" \"Cristianismo\" \"Cristianismo\" \"Catolicismo Romano\" ...\n",
            " $ Actividades_deportivas  : num [1:249] 1 1 0 0 0 0 1 1 0 0 ...\n",
            " $ Actividades_atrísticas  : num [1:249] 0 0 0 1 1 0 0 1 0 1 ...\n",
            " $ Aptitudes_científicas   : num [1:249] 0 0 0 1 0 0 0 1 1 0 ...\n",
            " $ reciberegalo            : num [1:249] 0 0 0 0 1 0 0 1 0 0 ...\n"
          ]
        }
      ]
    },
    {
      "cell_type": "code",
      "source": [
        "#Convierte las categorías a números\n",
        "df_1$reciberegalo <- as.factor(df_1$reciberegalo)\n",
        "df_1$genero <- as.factor(df_1$genero)\n",
        "df_1$Intereses <- as.factor(df_1$Intereses )\n",
        "df_1$comportamiento_escolar <- as.factor(df_1$comportamiento_escolar)\n",
        "df_1$Vivienda <- as.factor(df_1$Vivienda)\n",
        "df_1$Actividades_comunitarias <- as.factor(df_1$Actividades_comunitarias)\n",
        "df_1$Estado_Salud <- as.factor(df_1$Estado_Salud)\n",
        "df_1$Religion_Familiar <- as.factor(df_1$Religion_Familiar)\n",
        "str(df_1)"
      ],
      "metadata": {
        "colab": {
          "base_uri": "https://localhost:8080/"
        },
        "id": "k0fqIfmHqiPE",
        "outputId": "3c52e127-80c4-4c89-a22c-37792fb0ad9d"
      },
      "execution_count": 5,
      "outputs": [
        {
          "output_type": "stream",
          "name": "stdout",
          "text": [
            "tibble [249 × 15] (S3: tbl_df/tbl/data.frame)\n",
            " $ genero                  : Factor w/ 4 levels \"F\",\"M\",\"Nina\",..: 2 2 2 3 2 1 2 2 2 3 ...\n",
            " $ edad                    : num [1:249] 17 16 18 13 12 7 18 9 17 5 ...\n",
            " $ comportamiento_escolar  : Factor w/ 3 levels \"ALTO\",\"BAJO\",..: 1 3 1 1 1 1 1 2 1 1 ...\n",
            " $ Obediencia_hogar        : num [1:249] 1 5 3 6 7 5 6 9 2 2 ...\n",
            " $ Intereses               : Factor w/ 4 levels \"Juegos al aire libre\",..: 4 4 4 2 4 2 4 4 4 3 ...\n",
            " $ Socioeconomía           : num [1:249] 4 3 1 6 3 3 1 1 1 3 ...\n",
            " $ Actividades_comunitarias: Factor w/ 5 levels \"No\",\"No realizo\",..: 1 4 1 1 1 1 1 5 1 1 ...\n",
            " $ Num_hermanos            : num [1:249] 1 5 5 2 4 3 0 4 5 2 ...\n",
            " $ Vivienda                : Factor w/ 2 levels \"RURAL\",\"URBANA\": 1 2 1 1 1 2 1 2 2 1 ...\n",
            " $ Estado_Salud            : Factor w/ 4 levels \"BAJO\",\"ÓPTIMO\",..: 1 1 1 4 1 4 1 2 1 4 ...\n",
            " $ Religion_Familiar       : Factor w/ 4 levels \"Catolicismo Romano\",..: 1 2 2 1 4 2 4 2 2 2 ...\n",
            " $ Actividades_deportivas  : num [1:249] 1 1 0 0 0 0 1 1 0 0 ...\n",
            " $ Actividades_atrísticas  : num [1:249] 0 0 0 1 1 0 0 1 0 1 ...\n",
            " $ Aptitudes_científicas   : num [1:249] 0 0 0 1 0 0 0 1 1 0 ...\n",
            " $ reciberegalo            : Factor w/ 2 levels \"0\",\"1\": 1 1 1 1 2 1 1 2 1 1 ...\n"
          ]
        }
      ]
    },
    {
      "cell_type": "code",
      "source": [
        "# Codifica varibles categóricas\n",
        "df_2<-dummyVars(\"~.\",data=df_1)\n",
        "df_3<-as.data.frame(predict(df_2,newdata=df_1))\n",
        "df_4<-within(df_3,rm(genero.F, comportamiento_escolar.ALTO, \"Intereses.Juegos de Mesa\", Actividades_comunitarias.No,\n",
        "                    Vivienda.RURAL, Estado_Salud.BAJO, Religion_Familiar.Cristianismo))\n",
        "df_4$reciberegalo<-as.factor(df_4$reciberegalo.1)\n",
        "str(df_4)"
      ],
      "metadata": {
        "colab": {
          "base_uri": "https://localhost:8080/"
        },
        "id": "SPN0RZ-QutJP",
        "outputId": "0b271cd8-577f-4e64-85dd-3dd1ed0a2ba9"
      },
      "execution_count": 6,
      "outputs": [
        {
          "output_type": "stream",
          "name": "stdout",
          "text": [
            "'data.frame':\t249 obs. of  29 variables:\n",
            " $ genero.M                                : num  1 1 1 0 1 0 1 1 1 0 ...\n",
            " $ genero.Nina                             : num  0 0 0 1 0 0 0 0 0 1 ...\n",
            " $ genero.Nino                             : num  0 0 0 0 0 0 0 0 0 0 ...\n",
            " $ edad                                    : num  17 16 18 13 12 7 18 9 17 5 ...\n",
            " $ comportamiento_escolar.BAJO             : num  0 0 0 0 0 0 0 1 0 0 ...\n",
            " $ comportamiento_escolar.MEDIO            : num  0 1 0 0 0 0 0 0 0 0 ...\n",
            " $ Obediencia_hogar                        : num  1 5 3 6 7 5 6 9 2 2 ...\n",
            " $ Intereses.Juegos al aire libre          : num  0 0 0 0 0 0 0 0 0 0 ...\n",
            " $ Intereses.Muñecos/Muñecas               : num  0 0 0 0 0 0 0 0 0 1 ...\n",
            " $ Intereses.Video Juegos                  : num  1 1 1 0 1 0 1 1 1 0 ...\n",
            " $ Socioeconomía                           : num  4 3 1 6 3 3 1 1 1 3 ...\n",
            " $ Actividades_comunitarias.No realizo     : num  0 0 0 0 0 0 0 0 0 0 ...\n",
            " $ Actividades_comunitarias.Realizo Algunas: num  0 0 0 0 0 0 0 0 0 0 ...\n",
            " $ Actividades_comunitarias.Si             : num  0 1 0 0 0 0 0 0 0 0 ...\n",
            " $ Actividades_comunitarias.Si realizo     : num  0 0 0 0 0 0 0 1 0 0 ...\n",
            " $ Num_hermanos                            : num  1 5 5 2 4 3 0 4 5 2 ...\n",
            " $ Vivienda.URBANA                         : num  0 1 0 0 0 1 0 1 1 0 ...\n",
            " $ Estado_Salud.ÓPTIMO                     : num  0 0 0 0 0 0 0 1 0 0 ...\n",
            " $ Estado_Salud.REGUAR                     : num  0 0 0 0 0 0 0 0 0 0 ...\n",
            " $ Estado_Salud.REGULAR                    : num  0 0 0 1 0 1 0 0 0 1 ...\n",
            " $ Religion_Familiar.Catolicismo Romano    : num  1 0 0 1 0 0 0 0 0 0 ...\n",
            " $ Religion_Familiar.Población Musulmana   : num  0 0 0 0 0 0 0 0 0 0 ...\n",
            " $ Religion_Familiar.Protestantismo        : num  0 0 0 0 1 0 1 0 0 0 ...\n",
            " $ Actividades_deportivas                  : num  1 1 0 0 0 0 1 1 0 0 ...\n",
            " $ Actividades_atrísticas                  : num  0 0 0 1 1 0 0 1 0 1 ...\n",
            " $ Aptitudes_científicas                   : num  0 0 0 1 0 0 0 1 1 0 ...\n",
            " $ reciberegalo.0                          : num  1 1 1 1 0 1 1 0 1 1 ...\n",
            " $ reciberegalo.1                          : num  0 0 0 0 1 0 0 1 0 0 ...\n",
            " $ reciberegalo                            : Factor w/ 2 levels \"0\",\"1\": 1 1 1 1 2 1 1 2 1 1 ...\n"
          ]
        }
      ]
    },
    {
      "cell_type": "code",
      "source": [
        "df_final <- df_4[ , -c(27, 28)]\n",
        "str(df_final)"
      ],
      "metadata": {
        "colab": {
          "base_uri": "https://localhost:8080/"
        },
        "id": "n-qY2nSQxHig",
        "outputId": "8f9e53ba-a338-471b-befa-deb846fbef06"
      },
      "execution_count": 7,
      "outputs": [
        {
          "output_type": "stream",
          "name": "stdout",
          "text": [
            "'data.frame':\t249 obs. of  27 variables:\n",
            " $ genero.M                                : num  1 1 1 0 1 0 1 1 1 0 ...\n",
            " $ genero.Nina                             : num  0 0 0 1 0 0 0 0 0 1 ...\n",
            " $ genero.Nino                             : num  0 0 0 0 0 0 0 0 0 0 ...\n",
            " $ edad                                    : num  17 16 18 13 12 7 18 9 17 5 ...\n",
            " $ comportamiento_escolar.BAJO             : num  0 0 0 0 0 0 0 1 0 0 ...\n",
            " $ comportamiento_escolar.MEDIO            : num  0 1 0 0 0 0 0 0 0 0 ...\n",
            " $ Obediencia_hogar                        : num  1 5 3 6 7 5 6 9 2 2 ...\n",
            " $ Intereses.Juegos al aire libre          : num  0 0 0 0 0 0 0 0 0 0 ...\n",
            " $ Intereses.Muñecos/Muñecas               : num  0 0 0 0 0 0 0 0 0 1 ...\n",
            " $ Intereses.Video Juegos                  : num  1 1 1 0 1 0 1 1 1 0 ...\n",
            " $ Socioeconomía                           : num  4 3 1 6 3 3 1 1 1 3 ...\n",
            " $ Actividades_comunitarias.No realizo     : num  0 0 0 0 0 0 0 0 0 0 ...\n",
            " $ Actividades_comunitarias.Realizo Algunas: num  0 0 0 0 0 0 0 0 0 0 ...\n",
            " $ Actividades_comunitarias.Si             : num  0 1 0 0 0 0 0 0 0 0 ...\n",
            " $ Actividades_comunitarias.Si realizo     : num  0 0 0 0 0 0 0 1 0 0 ...\n",
            " $ Num_hermanos                            : num  1 5 5 2 4 3 0 4 5 2 ...\n",
            " $ Vivienda.URBANA                         : num  0 1 0 0 0 1 0 1 1 0 ...\n",
            " $ Estado_Salud.ÓPTIMO                     : num  0 0 0 0 0 0 0 1 0 0 ...\n",
            " $ Estado_Salud.REGUAR                     : num  0 0 0 0 0 0 0 0 0 0 ...\n",
            " $ Estado_Salud.REGULAR                    : num  0 0 0 1 0 1 0 0 0 1 ...\n",
            " $ Religion_Familiar.Catolicismo Romano    : num  1 0 0 1 0 0 0 0 0 0 ...\n",
            " $ Religion_Familiar.Población Musulmana   : num  0 0 0 0 0 0 0 0 0 0 ...\n",
            " $ Religion_Familiar.Protestantismo        : num  0 0 0 0 1 0 1 0 0 0 ...\n",
            " $ Actividades_deportivas                  : num  1 1 0 0 0 0 1 1 0 0 ...\n",
            " $ Actividades_atrísticas                  : num  0 0 0 1 1 0 0 1 0 1 ...\n",
            " $ Aptitudes_científicas                   : num  0 0 0 1 0 0 0 1 1 0 ...\n",
            " $ reciberegalo                            : Factor w/ 2 levels \"0\",\"1\": 1 1 1 1 2 1 1 2 1 1 ...\n"
          ]
        }
      ]
    },
    {
      "cell_type": "code",
      "source": [
        "colnames(df_final)[8]<-\"Intereses.Juegos_aire_libre\"\n",
        "colnames(df_final)[9]<-\"Intereses.Munecos_Munecas\"\n",
        "colnames(df_final)[10]<-\"Intereses.VideoJuegos\"\n",
        "colnames(df_final)[12]<-\"Actividades_comunitarias.No_realizo\"\n",
        "colnames(df_final)[13]<-\"Actividades_comunitarias.Realizo_Algunas\"\n",
        "colnames(df_final)[15]<-\"Actividades_comunitarias.Si_realizo\"\n",
        "colnames(df_final)[21]<-\"Religion_Familiar.Catolicismo\"\n",
        "colnames(df_final)[22]<-\"Religion_Familiar.Musulmana\"\n",
        "str(df_final)"
      ],
      "metadata": {
        "colab": {
          "base_uri": "https://localhost:8080/"
        },
        "id": "LVaKsTcF8BGR",
        "outputId": "8a43f9a5-ec6a-44c2-9187-4cf5ec459c8a"
      },
      "execution_count": 8,
      "outputs": [
        {
          "output_type": "stream",
          "name": "stdout",
          "text": [
            "'data.frame':\t249 obs. of  27 variables:\n",
            " $ genero.M                                : num  1 1 1 0 1 0 1 1 1 0 ...\n",
            " $ genero.Nina                             : num  0 0 0 1 0 0 0 0 0 1 ...\n",
            " $ genero.Nino                             : num  0 0 0 0 0 0 0 0 0 0 ...\n",
            " $ edad                                    : num  17 16 18 13 12 7 18 9 17 5 ...\n",
            " $ comportamiento_escolar.BAJO             : num  0 0 0 0 0 0 0 1 0 0 ...\n",
            " $ comportamiento_escolar.MEDIO            : num  0 1 0 0 0 0 0 0 0 0 ...\n",
            " $ Obediencia_hogar                        : num  1 5 3 6 7 5 6 9 2 2 ...\n",
            " $ Intereses.Juegos_aire_libre             : num  0 0 0 0 0 0 0 0 0 0 ...\n",
            " $ Intereses.Munecos_Munecas               : num  0 0 0 0 0 0 0 0 0 1 ...\n",
            " $ Intereses.VideoJuegos                   : num  1 1 1 0 1 0 1 1 1 0 ...\n",
            " $ Socioeconomía                           : num  4 3 1 6 3 3 1 1 1 3 ...\n",
            " $ Actividades_comunitarias.No_realizo     : num  0 0 0 0 0 0 0 0 0 0 ...\n",
            " $ Actividades_comunitarias.Realizo_Algunas: num  0 0 0 0 0 0 0 0 0 0 ...\n",
            " $ Actividades_comunitarias.Si             : num  0 1 0 0 0 0 0 0 0 0 ...\n",
            " $ Actividades_comunitarias.Si_realizo     : num  0 0 0 0 0 0 0 1 0 0 ...\n",
            " $ Num_hermanos                            : num  1 5 5 2 4 3 0 4 5 2 ...\n",
            " $ Vivienda.URBANA                         : num  0 1 0 0 0 1 0 1 1 0 ...\n",
            " $ Estado_Salud.ÓPTIMO                     : num  0 0 0 0 0 0 0 1 0 0 ...\n",
            " $ Estado_Salud.REGUAR                     : num  0 0 0 0 0 0 0 0 0 0 ...\n",
            " $ Estado_Salud.REGULAR                    : num  0 0 0 1 0 1 0 0 0 1 ...\n",
            " $ Religion_Familiar.Catolicismo           : num  1 0 0 1 0 0 0 0 0 0 ...\n",
            " $ Religion_Familiar.Musulmana             : num  0 0 0 0 0 0 0 0 0 0 ...\n",
            " $ Religion_Familiar.Protestantismo        : num  0 0 0 0 1 0 1 0 0 0 ...\n",
            " $ Actividades_deportivas                  : num  1 1 0 0 0 0 1 1 0 0 ...\n",
            " $ Actividades_atrísticas                  : num  0 0 0 1 1 0 0 1 0 1 ...\n",
            " $ Aptitudes_científicas                   : num  0 0 0 1 0 0 0 1 1 0 ...\n",
            " $ reciberegalo                            : Factor w/ 2 levels \"0\",\"1\": 1 1 1 1 2 1 1 2 1 1 ...\n"
          ]
        }
      ]
    },
    {
      "cell_type": "code",
      "source": [
        "#Parte el conjunto de datos a 70 y 30\n",
        "set.seed(1234)\n",
        "head(df_final)\n",
        "sample <- sample.int(nrow(df_final), floor(0.70 * nrow(df_final)))\n",
        "train_data <- df_final[sample, ]\n",
        "test_data <- df_final[-sample, ]\n",
        "\n",
        "# Utiliza validación cruzada\n",
        "cross <- trainControl(method = \"cv\", number = 5)\n",
        "modeloknn <- train(\n",
        "  reciberegalo ~ .,\n",
        "  data = train_data,\n",
        "  method = \"knn\",\n",
        "  tuneGrid = expand.grid(k = 1:30),\n",
        "  trControl = cross,\n",
        "  metric = \"Accuracy\"\n",
        ")\n",
        "\n",
        "# Resumen del modelo\n",
        "modeloknn\n",
        "plot(modeloknn)"
      ],
      "metadata": {
        "colab": {
          "base_uri": "https://localhost:8080/",
          "height": 1000
        },
        "id": "90z1dPhwfOeY",
        "outputId": "26beadd5-4e54-42d0-f361-07bc356842f9"
      },
      "execution_count": 9,
      "outputs": [
        {
          "output_type": "display_data",
          "data": {
            "text/html": [
              "<table class=\"dataframe\">\n",
              "<caption>A data.frame: 6 × 27</caption>\n",
              "<thead>\n",
              "\t<tr><th></th><th scope=col>genero.M</th><th scope=col>genero.Nina</th><th scope=col>genero.Nino</th><th scope=col>edad</th><th scope=col>comportamiento_escolar.BAJO</th><th scope=col>comportamiento_escolar.MEDIO</th><th scope=col>Obediencia_hogar</th><th scope=col>Intereses.Juegos_aire_libre</th><th scope=col>Intereses.Munecos_Munecas</th><th scope=col>Intereses.VideoJuegos</th><th scope=col>⋯</th><th scope=col>Estado_Salud.ÓPTIMO</th><th scope=col>Estado_Salud.REGUAR</th><th scope=col>Estado_Salud.REGULAR</th><th scope=col>Religion_Familiar.Catolicismo</th><th scope=col>Religion_Familiar.Musulmana</th><th scope=col>Religion_Familiar.Protestantismo</th><th scope=col>Actividades_deportivas</th><th scope=col>Actividades_atrísticas</th><th scope=col>Aptitudes_científicas</th><th scope=col>reciberegalo</th></tr>\n",
              "\t<tr><th></th><th scope=col>&lt;dbl&gt;</th><th scope=col>&lt;dbl&gt;</th><th scope=col>&lt;dbl&gt;</th><th scope=col>&lt;dbl&gt;</th><th scope=col>&lt;dbl&gt;</th><th scope=col>&lt;dbl&gt;</th><th scope=col>&lt;dbl&gt;</th><th scope=col>&lt;dbl&gt;</th><th scope=col>&lt;dbl&gt;</th><th scope=col>&lt;dbl&gt;</th><th scope=col>⋯</th><th scope=col>&lt;dbl&gt;</th><th scope=col>&lt;dbl&gt;</th><th scope=col>&lt;dbl&gt;</th><th scope=col>&lt;dbl&gt;</th><th scope=col>&lt;dbl&gt;</th><th scope=col>&lt;dbl&gt;</th><th scope=col>&lt;dbl&gt;</th><th scope=col>&lt;dbl&gt;</th><th scope=col>&lt;dbl&gt;</th><th scope=col>&lt;fct&gt;</th></tr>\n",
              "</thead>\n",
              "<tbody>\n",
              "\t<tr><th scope=row>1</th><td>1</td><td>0</td><td>0</td><td>17</td><td>0</td><td>0</td><td>1</td><td>0</td><td>0</td><td>1</td><td>⋯</td><td>0</td><td>0</td><td>0</td><td>1</td><td>0</td><td>0</td><td>1</td><td>0</td><td>0</td><td>0</td></tr>\n",
              "\t<tr><th scope=row>2</th><td>1</td><td>0</td><td>0</td><td>16</td><td>0</td><td>1</td><td>5</td><td>0</td><td>0</td><td>1</td><td>⋯</td><td>0</td><td>0</td><td>0</td><td>0</td><td>0</td><td>0</td><td>1</td><td>0</td><td>0</td><td>0</td></tr>\n",
              "\t<tr><th scope=row>3</th><td>1</td><td>0</td><td>0</td><td>18</td><td>0</td><td>0</td><td>3</td><td>0</td><td>0</td><td>1</td><td>⋯</td><td>0</td><td>0</td><td>0</td><td>0</td><td>0</td><td>0</td><td>0</td><td>0</td><td>0</td><td>0</td></tr>\n",
              "\t<tr><th scope=row>4</th><td>0</td><td>1</td><td>0</td><td>13</td><td>0</td><td>0</td><td>6</td><td>0</td><td>0</td><td>0</td><td>⋯</td><td>0</td><td>0</td><td>1</td><td>1</td><td>0</td><td>0</td><td>0</td><td>1</td><td>1</td><td>0</td></tr>\n",
              "\t<tr><th scope=row>5</th><td>1</td><td>0</td><td>0</td><td>12</td><td>0</td><td>0</td><td>7</td><td>0</td><td>0</td><td>1</td><td>⋯</td><td>0</td><td>0</td><td>0</td><td>0</td><td>0</td><td>1</td><td>0</td><td>1</td><td>0</td><td>1</td></tr>\n",
              "\t<tr><th scope=row>6</th><td>0</td><td>0</td><td>0</td><td> 7</td><td>0</td><td>0</td><td>5</td><td>0</td><td>0</td><td>0</td><td>⋯</td><td>0</td><td>0</td><td>1</td><td>0</td><td>0</td><td>0</td><td>0</td><td>0</td><td>0</td><td>0</td></tr>\n",
              "</tbody>\n",
              "</table>\n"
            ],
            "text/markdown": "\nA data.frame: 6 × 27\n\n| <!--/--> | genero.M &lt;dbl&gt; | genero.Nina &lt;dbl&gt; | genero.Nino &lt;dbl&gt; | edad &lt;dbl&gt; | comportamiento_escolar.BAJO &lt;dbl&gt; | comportamiento_escolar.MEDIO &lt;dbl&gt; | Obediencia_hogar &lt;dbl&gt; | Intereses.Juegos_aire_libre &lt;dbl&gt; | Intereses.Munecos_Munecas &lt;dbl&gt; | Intereses.VideoJuegos &lt;dbl&gt; | ⋯ ⋯ | Estado_Salud.ÓPTIMO &lt;dbl&gt; | Estado_Salud.REGUAR &lt;dbl&gt; | Estado_Salud.REGULAR &lt;dbl&gt; | Religion_Familiar.Catolicismo &lt;dbl&gt; | Religion_Familiar.Musulmana &lt;dbl&gt; | Religion_Familiar.Protestantismo &lt;dbl&gt; | Actividades_deportivas &lt;dbl&gt; | Actividades_atrísticas &lt;dbl&gt; | Aptitudes_científicas &lt;dbl&gt; | reciberegalo &lt;fct&gt; |\n|---|---|---|---|---|---|---|---|---|---|---|---|---|---|---|---|---|---|---|---|---|---|\n| 1 | 1 | 0 | 0 | 17 | 0 | 0 | 1 | 0 | 0 | 1 | ⋯ | 0 | 0 | 0 | 1 | 0 | 0 | 1 | 0 | 0 | 0 |\n| 2 | 1 | 0 | 0 | 16 | 0 | 1 | 5 | 0 | 0 | 1 | ⋯ | 0 | 0 | 0 | 0 | 0 | 0 | 1 | 0 | 0 | 0 |\n| 3 | 1 | 0 | 0 | 18 | 0 | 0 | 3 | 0 | 0 | 1 | ⋯ | 0 | 0 | 0 | 0 | 0 | 0 | 0 | 0 | 0 | 0 |\n| 4 | 0 | 1 | 0 | 13 | 0 | 0 | 6 | 0 | 0 | 0 | ⋯ | 0 | 0 | 1 | 1 | 0 | 0 | 0 | 1 | 1 | 0 |\n| 5 | 1 | 0 | 0 | 12 | 0 | 0 | 7 | 0 | 0 | 1 | ⋯ | 0 | 0 | 0 | 0 | 0 | 1 | 0 | 1 | 0 | 1 |\n| 6 | 0 | 0 | 0 |  7 | 0 | 0 | 5 | 0 | 0 | 0 | ⋯ | 0 | 0 | 1 | 0 | 0 | 0 | 0 | 0 | 0 | 0 |\n\n",
            "text/latex": "A data.frame: 6 × 27\n\\begin{tabular}{r|lllllllllllllllllllll}\n  & genero.M & genero.Nina & genero.Nino & edad & comportamiento\\_escolar.BAJO & comportamiento\\_escolar.MEDIO & Obediencia\\_hogar & Intereses.Juegos\\_aire\\_libre & Intereses.Munecos\\_Munecas & Intereses.VideoJuegos & ⋯ & Estado\\_Salud.ÓPTIMO & Estado\\_Salud.REGUAR & Estado\\_Salud.REGULAR & Religion\\_Familiar.Catolicismo & Religion\\_Familiar.Musulmana & Religion\\_Familiar.Protestantismo & Actividades\\_deportivas & Actividades\\_atrísticas & Aptitudes\\_científicas & reciberegalo\\\\\n  & <dbl> & <dbl> & <dbl> & <dbl> & <dbl> & <dbl> & <dbl> & <dbl> & <dbl> & <dbl> & ⋯ & <dbl> & <dbl> & <dbl> & <dbl> & <dbl> & <dbl> & <dbl> & <dbl> & <dbl> & <fct>\\\\\n\\hline\n\t1 & 1 & 0 & 0 & 17 & 0 & 0 & 1 & 0 & 0 & 1 & ⋯ & 0 & 0 & 0 & 1 & 0 & 0 & 1 & 0 & 0 & 0\\\\\n\t2 & 1 & 0 & 0 & 16 & 0 & 1 & 5 & 0 & 0 & 1 & ⋯ & 0 & 0 & 0 & 0 & 0 & 0 & 1 & 0 & 0 & 0\\\\\n\t3 & 1 & 0 & 0 & 18 & 0 & 0 & 3 & 0 & 0 & 1 & ⋯ & 0 & 0 & 0 & 0 & 0 & 0 & 0 & 0 & 0 & 0\\\\\n\t4 & 0 & 1 & 0 & 13 & 0 & 0 & 6 & 0 & 0 & 0 & ⋯ & 0 & 0 & 1 & 1 & 0 & 0 & 0 & 1 & 1 & 0\\\\\n\t5 & 1 & 0 & 0 & 12 & 0 & 0 & 7 & 0 & 0 & 1 & ⋯ & 0 & 0 & 0 & 0 & 0 & 1 & 0 & 1 & 0 & 1\\\\\n\t6 & 0 & 0 & 0 &  7 & 0 & 0 & 5 & 0 & 0 & 0 & ⋯ & 0 & 0 & 1 & 0 & 0 & 0 & 0 & 0 & 0 & 0\\\\\n\\end{tabular}\n",
            "text/plain": [
              "  genero.M genero.Nina genero.Nino edad comportamiento_escolar.BAJO\n",
              "1 1        0           0           17   0                          \n",
              "2 1        0           0           16   0                          \n",
              "3 1        0           0           18   0                          \n",
              "4 0        1           0           13   0                          \n",
              "5 1        0           0           12   0                          \n",
              "6 0        0           0            7   0                          \n",
              "  comportamiento_escolar.MEDIO Obediencia_hogar Intereses.Juegos_aire_libre\n",
              "1 0                            1                0                          \n",
              "2 1                            5                0                          \n",
              "3 0                            3                0                          \n",
              "4 0                            6                0                          \n",
              "5 0                            7                0                          \n",
              "6 0                            5                0                          \n",
              "  Intereses.Munecos_Munecas Intereses.VideoJuegos ⋯ Estado_Salud.ÓPTIMO\n",
              "1 0                         1                     ⋯ 0                  \n",
              "2 0                         1                     ⋯ 0                  \n",
              "3 0                         1                     ⋯ 0                  \n",
              "4 0                         0                     ⋯ 0                  \n",
              "5 0                         1                     ⋯ 0                  \n",
              "6 0                         0                     ⋯ 0                  \n",
              "  Estado_Salud.REGUAR Estado_Salud.REGULAR Religion_Familiar.Catolicismo\n",
              "1 0                   0                    1                            \n",
              "2 0                   0                    0                            \n",
              "3 0                   0                    0                            \n",
              "4 0                   1                    1                            \n",
              "5 0                   0                    0                            \n",
              "6 0                   1                    0                            \n",
              "  Religion_Familiar.Musulmana Religion_Familiar.Protestantismo\n",
              "1 0                           0                               \n",
              "2 0                           0                               \n",
              "3 0                           0                               \n",
              "4 0                           0                               \n",
              "5 0                           1                               \n",
              "6 0                           0                               \n",
              "  Actividades_deportivas Actividades_atrísticas Aptitudes_científicas\n",
              "1 1                      0                      0                    \n",
              "2 1                      0                      0                    \n",
              "3 0                      0                      0                    \n",
              "4 0                      1                      1                    \n",
              "5 0                      1                      0                    \n",
              "6 0                      0                      0                    \n",
              "  reciberegalo\n",
              "1 0           \n",
              "2 0           \n",
              "3 0           \n",
              "4 0           \n",
              "5 1           \n",
              "6 0           "
            ]
          },
          "metadata": {}
        },
        {
          "output_type": "display_data",
          "data": {
            "text/plain": [
              "k-Nearest Neighbors \n",
              "\n",
              "174 samples\n",
              " 26 predictor\n",
              "  2 classes: '0', '1' \n",
              "\n",
              "No pre-processing\n",
              "Resampling: Cross-Validated (5 fold) \n",
              "Summary of sample sizes: 139, 139, 139, 140, 139 \n",
              "Resampling results across tuning parameters:\n",
              "\n",
              "  k   Accuracy   Kappa    \n",
              "   1  0.9371429  0.8252731\n",
              "   2  0.9485714  0.8558652\n",
              "   3  0.9369748  0.8248033\n",
              "   4  0.9428571  0.8432284\n",
              "   5  0.9485714  0.8567954\n",
              "   6  0.9426891  0.8411272\n",
              "   7  0.9428571  0.8371551\n",
              "   8  0.9484034  0.8537450\n",
              "   9  0.9542857  0.8694132\n",
              "  10  0.9541176  0.8681780\n",
              "  11  0.9541176  0.8681780\n",
              "  12  0.9484034  0.8537450\n",
              "  13  0.9482353  0.8513103\n",
              "  14  0.9484034  0.8526569\n",
              "  15  0.9598319  0.8878182\n",
              "  16  0.9425210  0.8357892\n",
              "  17  0.9541176  0.8722972\n",
              "  18  0.9368067  0.8212100\n",
              "  19  0.9368067  0.8212100\n",
              "  20  0.9368067  0.8212100\n",
              "  21  0.9368067  0.8212100\n",
              "  22  0.9312605  0.7997208\n",
              "  23  0.9369748  0.8193611\n",
              "  24  0.9310924  0.8015697\n",
              "  25  0.9310924  0.8015697\n",
              "  26  0.9196639  0.7638278\n",
              "  27  0.9196639  0.7647515\n",
              "  28  0.9310924  0.8031083\n",
              "  29  0.9196639  0.7647515\n",
              "  30  0.9196639  0.7638278\n",
              "\n",
              "Accuracy was used to select the optimal model using the largest value.\n",
              "The final value used for the model was k = 15."
            ]
          },
          "metadata": {}
        },
        {
          "output_type": "display_data",
          "data": {
            "text/plain": [
              "plot without title"
            ],
            "image/png": "[encoded data removed]"
          },
          "metadata": {
            "image/png": {
              "width": 420,
              "height": 420
            }
          }
        }
      ]
    },
    {
      "cell_type": "markdown",
      "source": [
        "**1)** Si bien se nos dice que el mejor valor para K es k = 26 con un accuracy de 0.7473, podemos ver que en términos de accuracy y con una menor cantidad de de vecinos, k = 15 posee un accuracy del 0.7470 (diferencia mínima en accuracy a comparación del anterior) y utilizando 11 vecinos menos."
      ],
      "metadata": {
        "id": "Z3W6wET9yizp"
      }
    },
    {
      "cell_type": "markdown",
      "source": [
        "# Modelo Base\n",
        "\n",
        "Utilizamos un valor intermedio que ofrezca un alto accuracy.  Según la gráfica anterior, puede ser K = 16"
      ],
      "metadata": {
        "id": "zj9mBT1XssIf"
      }
    },
    {
      "cell_type": "code",
      "source": [
        "# MODELO CON K = 16 - BASE\n",
        "set.seed(1234)\n",
        "test_pred = knn3(reciberegalo ~. ,  data=train_data, k = 16)\n",
        "# Desempeño en entrenamiento.\n",
        "print(\"ENTRENAMIENTO\")\n",
        "predmod <- predict(test_pred, train_data, type = \"prob\")\n",
        "pronknn<-ifelse(predmod[,2] > 0.3 ,1, 0)\n",
        "confusionMatrix(as.factor(pronknn), train_data$reciberegalo, positive = \"1\")\n",
        "# Desempeño en prueba.\n",
        "print(\"PRUEBA\")\n",
        "predmod <- predict(test_pred, test_data, type = \"prob\")\n",
        "pronknn<-ifelse(predmod[,2] > 0.3 ,1, 0)\n",
        "confusionMatrix(as.factor(pronknn), test_data$reciberegalo, positive = \"1\")"
      ],
      "metadata": {
        "colab": {
          "base_uri": "https://localhost:8080/",
          "height": 989
        },
        "id": "k3e8xCfMaPGt",
        "outputId": "ec319c9c-adee-4762-e2d1-32b69a71f90d"
      },
      "execution_count": 10,
      "outputs": [
        {
          "output_type": "stream",
          "name": "stdout",
          "text": [
            "[1] \"ENTRENAMIENTO\"\n"
          ]
        },
        {
          "output_type": "display_data",
          "data": {
            "text/plain": [
              "Confusion Matrix and Statistics\n",
              "\n",
              "          Reference\n",
              "Prediction   0   1\n",
              "         0 126   2\n",
              "         1   1  45\n",
              "                                          \n",
              "               Accuracy : 0.9828          \n",
              "                 95% CI : (0.9504, 0.9964)\n",
              "    No Information Rate : 0.7299          \n",
              "    P-Value [Acc > NIR] : <2e-16          \n",
              "                                          \n",
              "                  Kappa : 0.956           \n",
              "                                          \n",
              " Mcnemar's Test P-Value : 1               \n",
              "                                          \n",
              "            Sensitivity : 0.9574          \n",
              "            Specificity : 0.9921          \n",
              "         Pos Pred Value : 0.9783          \n",
              "         Neg Pred Value : 0.9844          \n",
              "             Prevalence : 0.2701          \n",
              "         Detection Rate : 0.2586          \n",
              "   Detection Prevalence : 0.2644          \n",
              "      Balanced Accuracy : 0.9748          \n",
              "                                          \n",
              "       'Positive' Class : 1               \n",
              "                                          "
            ]
          },
          "metadata": {}
        },
        {
          "output_type": "stream",
          "name": "stdout",
          "text": [
            "[1] \"PRUEBA\"\n"
          ]
        },
        {
          "output_type": "display_data",
          "data": {
            "text/plain": [
              "Confusion Matrix and Statistics\n",
              "\n",
              "          Reference\n",
              "Prediction  0  1\n",
              "         0 59  1\n",
              "         1  2 13\n",
              "                                          \n",
              "               Accuracy : 0.96            \n",
              "                 95% CI : (0.8875, 0.9917)\n",
              "    No Information Rate : 0.8133          \n",
              "    P-Value [Acc > NIR] : 0.0001827       \n",
              "                                          \n",
              "                  Kappa : 0.8718          \n",
              "                                          \n",
              " Mcnemar's Test P-Value : 1.0000000       \n",
              "                                          \n",
              "            Sensitivity : 0.9286          \n",
              "            Specificity : 0.9672          \n",
              "         Pos Pred Value : 0.8667          \n",
              "         Neg Pred Value : 0.9833          \n",
              "             Prevalence : 0.1867          \n",
              "         Detection Rate : 0.1733          \n",
              "   Detection Prevalence : 0.2000          \n",
              "      Balanced Accuracy : 0.9479          \n",
              "                                          \n",
              "       'Positive' Class : 1               \n",
              "                                          "
            ]
          },
          "metadata": {}
        }
      ]
    },
    {
      "cell_type": "markdown",
      "source": [
        "# Modelo con Overfitting\n",
        "\n",
        "Para demostrar un sobre-ajuste, utilizamos un valor pequeño de K, por ejemplo K = 1"
      ],
      "metadata": {
        "id": "m0TVHv_os6Tb"
      }
    },
    {
      "cell_type": "code",
      "source": [
        "# MODELO CON K = 1  - OVERFITTING\n",
        "set.seed(1234)\n",
        "test_pred = knn3(reciberegalo~., data=train_data, k = 1)\n",
        "# Desempeño en entrenamiento.\n",
        "print(\"ENTRENAMIENTO\")\n",
        "predmod <- predict(test_pred, train_data, type = \"prob\")\n",
        "pronknn<-ifelse(predmod[,2] > 0.3 ,1, 0)\n",
        "confusionMatrix(as.factor(pronknn), train_data$reciberegalo, positive = \"1\")\n",
        "# Desempeño en prueba.\n",
        "print(\"PRUEBA\")\n",
        "predmod <- predict(test_pred, test_data, type = \"prob\")\n",
        "pronknn<-ifelse(predmod[,2] > 0.3 ,1, 0)\n",
        "confusionMatrix(as.factor(pronknn), test_data$reciberegalo, positive = \"1\")"
      ],
      "metadata": {
        "colab": {
          "base_uri": "https://localhost:8080/",
          "height": 989
        },
        "id": "zOSf57i0eVi5",
        "outputId": "2f367a7e-fa8c-410a-f34d-e662784a611c"
      },
      "execution_count": 11,
      "outputs": [
        {
          "output_type": "stream",
          "name": "stdout",
          "text": [
            "[1] \"ENTRENAMIENTO\"\n"
          ]
        },
        {
          "output_type": "display_data",
          "data": {
            "text/plain": [
              "Confusion Matrix and Statistics\n",
              "\n",
              "          Reference\n",
              "Prediction   0   1\n",
              "         0 127   0\n",
              "         1   0  47\n",
              "                                    \n",
              "               Accuracy : 1         \n",
              "                 95% CI : (0.979, 1)\n",
              "    No Information Rate : 0.7299    \n",
              "    P-Value [Acc > NIR] : < 2.2e-16 \n",
              "                                    \n",
              "                  Kappa : 1         \n",
              "                                    \n",
              " Mcnemar's Test P-Value : NA        \n",
              "                                    \n",
              "            Sensitivity : 1.0000    \n",
              "            Specificity : 1.0000    \n",
              "         Pos Pred Value : 1.0000    \n",
              "         Neg Pred Value : 1.0000    \n",
              "             Prevalence : 0.2701    \n",
              "         Detection Rate : 0.2701    \n",
              "   Detection Prevalence : 0.2701    \n",
              "      Balanced Accuracy : 1.0000    \n",
              "                                    \n",
              "       'Positive' Class : 1         \n",
              "                                    "
            ]
          },
          "metadata": {}
        },
        {
          "output_type": "stream",
          "name": "stdout",
          "text": [
            "[1] \"PRUEBA\"\n"
          ]
        },
        {
          "output_type": "display_data",
          "data": {
            "text/plain": [
              "Confusion Matrix and Statistics\n",
              "\n",
              "          Reference\n",
              "Prediction  0  1\n",
              "         0 59  2\n",
              "         1  2 12\n",
              "                                         \n",
              "               Accuracy : 0.9467         \n",
              "                 95% CI : (0.869, 0.9853)\n",
              "    No Information Rate : 0.8133         \n",
              "    P-Value [Acc > NIR] : 0.0008108      \n",
              "                                         \n",
              "                  Kappa : 0.8244         \n",
              "                                         \n",
              " Mcnemar's Test P-Value : 1.0000000      \n",
              "                                         \n",
              "            Sensitivity : 0.8571         \n",
              "            Specificity : 0.9672         \n",
              "         Pos Pred Value : 0.8571         \n",
              "         Neg Pred Value : 0.9672         \n",
              "             Prevalence : 0.1867         \n",
              "         Detection Rate : 0.1600         \n",
              "   Detection Prevalence : 0.1867         \n",
              "      Balanced Accuracy : 0.9122         \n",
              "                                         \n",
              "       'Positive' Class : 1              \n",
              "                                         "
            ]
          },
          "metadata": {}
        }
      ]
    },
    {
      "cell_type": "markdown",
      "source": [
        "El modelo base muestra un accuracy de 0.9828 en Entrenamiento y 0.96 en Prueba.  El nuevo modelo muestra un accuracy de 1 en Entrenamiento (**mejora**), y 0.9467 en Prueba (**empeora**), mostrano un claro sobre-ajuste"
      ],
      "metadata": {
        "id": "42lBM-0WtEer"
      }
    },
    {
      "cell_type": "markdown",
      "source": [
        "# Modelo con Underfitting\n",
        "\n",
        "Para demostrar un sobre-ajuste, utilizamos un valor grande de K, por ejemplo K = 50"
      ],
      "metadata": {
        "id": "slLlOmYAtcCB"
      }
    },
    {
      "cell_type": "code",
      "source": [
        "# MODELO CON K = 50  - UNDERFITTING\n",
        "set.seed(1234)\n",
        "test_pred = knn3(reciberegalo~., data=train_data, k = 50)\n",
        "# Desempeño en entrenamiento.\n",
        "print(\"ENTRENAMIENTO\")\n",
        "predmod <- predict(test_pred, train_data, type = \"prob\")\n",
        "pronknn<-ifelse(predmod[,2] > 0.3 ,1, 0)\n",
        "confusionMatrix(as.factor(pronknn), train_data$reciberegalo, positive = \"1\")\n",
        "# Desempeño en prueba.\n",
        "print(\"PRUEBA\")\n",
        "predmod <- predict(test_pred, test_data, type = \"prob\")\n",
        "pronknn<-ifelse(predmod[,2] > 0.3 ,1, 0)\n",
        "confusionMatrix(as.factor(pronknn), test_data$reciberegalo, positive = \"1\")"
      ],
      "metadata": {
        "colab": {
          "base_uri": "https://localhost:8080/",
          "height": 989
        },
        "id": "eDn_EX8YsEkd",
        "outputId": "350b615a-7c40-4f77-cd06-3de585c8657b"
      },
      "execution_count": 12,
      "outputs": [
        {
          "output_type": "stream",
          "name": "stdout",
          "text": [
            "[1] \"ENTRENAMIENTO\"\n"
          ]
        },
        {
          "output_type": "display_data",
          "data": {
            "text/plain": [
              "Confusion Matrix and Statistics\n",
              "\n",
              "          Reference\n",
              "Prediction   0   1\n",
              "         0 118   1\n",
              "         1   9  46\n",
              "                                          \n",
              "               Accuracy : 0.9425          \n",
              "                 95% CI : (0.8968, 0.9721)\n",
              "    No Information Rate : 0.7299          \n",
              "    P-Value [Acc > NIR] : 4.972e-13       \n",
              "                                          \n",
              "                  Kappa : 0.8617          \n",
              "                                          \n",
              " Mcnemar's Test P-Value : 0.02686         \n",
              "                                          \n",
              "            Sensitivity : 0.9787          \n",
              "            Specificity : 0.9291          \n",
              "         Pos Pred Value : 0.8364          \n",
              "         Neg Pred Value : 0.9916          \n",
              "             Prevalence : 0.2701          \n",
              "         Detection Rate : 0.2644          \n",
              "   Detection Prevalence : 0.3161          \n",
              "      Balanced Accuracy : 0.9539          \n",
              "                                          \n",
              "       'Positive' Class : 1               \n",
              "                                          "
            ]
          },
          "metadata": {}
        },
        {
          "output_type": "stream",
          "name": "stdout",
          "text": [
            "[1] \"PRUEBA\"\n"
          ]
        },
        {
          "output_type": "display_data",
          "data": {
            "text/plain": [
              "Confusion Matrix and Statistics\n",
              "\n",
              "          Reference\n",
              "Prediction  0  1\n",
              "         0 55  1\n",
              "         1  6 13\n",
              "                                          \n",
              "               Accuracy : 0.9067          \n",
              "                 95% CI : (0.8171, 0.9616)\n",
              "    No Information Rate : 0.8133          \n",
              "    P-Value [Acc > NIR] : 0.02074         \n",
              "                                          \n",
              "                  Kappa : 0.7298          \n",
              "                                          \n",
              " Mcnemar's Test P-Value : 0.13057         \n",
              "                                          \n",
              "            Sensitivity : 0.9286          \n",
              "            Specificity : 0.9016          \n",
              "         Pos Pred Value : 0.6842          \n",
              "         Neg Pred Value : 0.9821          \n",
              "             Prevalence : 0.1867          \n",
              "         Detection Rate : 0.1733          \n",
              "   Detection Prevalence : 0.2533          \n",
              "      Balanced Accuracy : 0.9151          \n",
              "                                          \n",
              "       'Positive' Class : 1               \n",
              "                                          "
            ]
          },
          "metadata": {}
        }
      ]
    },
    {
      "cell_type": "markdown",
      "source": [
        "El modelo base muestra un accuracy de 0.9828 en Entrenamiento y 0.96 en Prueba.  Este último modelo muestra un accuracy de 0.9425 en Entrenamiento (**empeora**), y 0.9067 en Prueba (**empeora**) , mostrano un claro sub-ajuste"
      ],
      "metadata": {
        "id": "kewMB16htiIp"
      }
    },
    {
      "cell_type": "markdown",
      "source": [
        "# PUNTO 3 CURVA ROC"
      ],
      "metadata": {
        "id": "IiyR16j72TO1"
      }
    },
    {
      "cell_type": "code",
      "source": [
        "# Usamos el modelo base K = 16\n",
        "test_pred = knn3(reciberegalo ~. ,  data=test_data, k = 16)\n",
        "predmod <- predict(test_pred, test_data, type = \"prob\")\n",
        "\n",
        "umbrales <- c(1.0, 0.9, 0.8, 0.7, 0.6, 0.5, 0.4, 0.3, 0.2, 0.1, 0.0)\n",
        "for (umbral in umbrales) {\n",
        "  pronknn<-ifelse(predmod[,2] > umbral ,1, 0)\n",
        "  pronknn <- factor(pronknn, levels = levels(test_data$reciberegalo))\n",
        "  cat(\"Resultados para umbral de probabilidad =\", umbral, \":\\n\")\n",
        "  conf <- confusionMatrix(pronknn, test_data$reciberegalo)\n",
        "  print(conf$table)\n",
        "}\n",
        "\n",
        "library(pROC)\n",
        "roc_curve <- roc(as.numeric(test_data$reciberegalo == 0), predmod[,2])\n",
        "plot(roc_curve, col = \"blue\", main = \"Curva ROC - KNN\")\n",
        "auc_value <- auc(roc_curve)\n",
        "cat(\"AUC =\", auc_value, \"\\n\")"
      ],
      "metadata": {
        "colab": {
          "base_uri": "https://localhost:8080/",
          "height": 1000
        },
        "id": "u1eteiKk2ZBn",
        "outputId": "4195c17c-f76e-4f2c-c214-f96947145074"
      },
      "execution_count": 16,
      "outputs": [
        {
          "output_type": "stream",
          "name": "stdout",
          "text": [
            "Resultados para umbral de probabilidad = 1 :\n",
            "          Reference\n",
            "Prediction  0  1\n",
            "         0 61 14\n",
            "         1  0  0\n",
            "Resultados para umbral de probabilidad = 0.9 :\n",
            "          Reference\n",
            "Prediction  0  1\n",
            "         0 61 14\n",
            "         1  0  0\n",
            "Resultados para umbral de probabilidad = 0.8 :\n",
            "          Reference\n",
            "Prediction  0  1\n",
            "         0 61 14\n",
            "         1  0  0\n",
            "Resultados para umbral de probabilidad = 0.7 :\n",
            "          Reference\n",
            "Prediction  0  1\n",
            "         0 61 14\n",
            "         1  0  0\n",
            "Resultados para umbral de probabilidad = 0.6 :\n",
            "          Reference\n",
            "Prediction  0  1\n",
            "         0 61 11\n",
            "         1  0  3\n",
            "Resultados para umbral de probabilidad = 0.5 :\n",
            "          Reference\n",
            "Prediction  0  1\n",
            "         0 61  8\n",
            "         1  0  6\n",
            "Resultados para umbral de probabilidad = 0.4 :\n",
            "          Reference\n",
            "Prediction  0  1\n",
            "         0 60  5\n",
            "         1  1  9\n",
            "Resultados para umbral de probabilidad = 0.3 :\n",
            "          Reference\n",
            "Prediction  0  1\n",
            "         0 59  3\n",
            "         1  2 11\n",
            "Resultados para umbral de probabilidad = 0.2 :\n",
            "          Reference\n",
            "Prediction  0  1\n",
            "         0 59  1\n",
            "         1  2 13\n",
            "Resultados para umbral de probabilidad = 0.1 :\n",
            "          Reference\n",
            "Prediction  0  1\n",
            "         0 44  1\n",
            "         1 17 13\n",
            "Resultados para umbral de probabilidad = 0 :\n",
            "          Reference\n",
            "Prediction  0  1\n",
            "         0 30  0\n",
            "         1 31 14\n"
          ]
        },
        {
          "output_type": "stream",
          "name": "stderr",
          "text": [
            "Setting levels: control = 0, case = 1\n",
            "\n",
            "Setting direction: controls > cases\n",
            "\n"
          ]
        },
        {
          "output_type": "stream",
          "name": "stdout",
          "text": [
            "AUC = 0.9584309 \n"
          ]
        },
        {
          "output_type": "display_data",
          "data": {
            "text/plain": [
              "Plot with title “Curva ROC - KNN”"
            ],
            "image/png": "[encoded data removed]"
          },
          "metadata": {
            "image/png": {
              "width": 420,
              "height": 420
            }
          }
        }
      ]
    }
  ]
}