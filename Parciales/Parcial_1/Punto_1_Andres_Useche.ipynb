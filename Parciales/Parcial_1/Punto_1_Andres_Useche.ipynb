{
  "nbformat": 4,
  "nbformat_minor": 0,
  "metadata": {
    "colab": {
      "provenance": []
    },
    "kernelspec": {
      "name": "ir",
      "display_name": "R"
    },
    "language_info": {
      "name": "R"
    }
  },
  "cells": [
    {
      "cell_type": "code",
      "execution_count": 8,
      "metadata": {
        "id": "-8-DVZmCjpW7"
      },
      "outputs": [],
      "source": [
        "if (!require('caret')) install.packages('caret')\n",
        "if (!require('MLmetrics')) install.packages('MLmetrics')\n",
        "if (!require('e1071')) install.packages('e1071')"
      ]
    },
    {
      "cell_type": "code",
      "source": [
        "\n",
        "library(readxl)\n",
        "library(caret)\n",
        "library(MLmetrics)\n",
        "library(ROCR)\n",
        "library(e1071)"
      ],
      "metadata": {
        "id": "7fV04I9Bm4c1"
      },
      "execution_count": 24,
      "outputs": []
    },
    {
      "cell_type": "markdown",
      "source": [
        "CARGA DE DATOS Y EXPLORACIÓN\n",
        "\n",
        "```\n",
        "# Esto tiene formato de código\n",
        "```\n",
        "\n"
      ],
      "metadata": {
        "id": "E3eVGCZikuCt"
      }
    },
    {
      "cell_type": "code",
      "source": [
        "set.seed(159)\n",
        "\n",
        "# Obtener la ruta de un archivo XLSX de ejemplo del paquete\n",
        "df <-read_excel(\"/content/gifts_historico.xlsx\")\n",
        "\n",
        "\n",
        "str(df)\n",
        "head(df)\n"
      ],
      "metadata": {
        "colab": {
          "base_uri": "https://localhost:8080/",
          "height": 706
        },
        "id": "e2anYMwTkr79",
        "outputId": "50c6d528-d626-49d2-e568-09d21f9c8947"
      },
      "execution_count": 18,
      "outputs": [
        {
          "output_type": "stream",
          "name": "stdout",
          "text": [
            "tibble [249 × 16] (S3: tbl_df/tbl/data.frame)\n",
            " $ Id                      : num [1:249] 46314 46448 46732 46882 47001 ...\n",
            " $ genero                  : chr [1:249] \"M\" \"M\" \"M\" \"Nina\" ...\n",
            " $ edad                    : num [1:249] 17 16 18 13 12 7 18 9 17 5 ...\n",
            " $ comportamiento_escolar  : chr [1:249] \"ALTO\" \"MEDIO\" \"ALTO\" \"ALTO\" ...\n",
            " $ Obediencia_hogar        : num [1:249] 1 5 3 6 7 5 6 9 2 2 ...\n",
            " $ Intereses               : chr [1:249] \"Video Juegos\" \"Video Juegos\" \"Video Juegos\" \"Juegos de Mesa\" ...\n",
            " $ Socioeconomía           : num [1:249] 4 3 1 6 3 3 1 1 1 3 ...\n",
            " $ Actividades_comunitarias: chr [1:249] \"No\" \"Si\" \"No\" \"No\" ...\n",
            " $ Num_hermanos            : num [1:249] 1 5 5 2 4 3 0 4 5 2 ...\n",
            " $ Vivienda                : chr [1:249] \"RURAL\" \"URBANA\" \"RURAL\" \"RURAL\" ...\n",
            " $ Estado_Salud            : chr [1:249] \"BAJO\" \"BAJO\" \"BAJO\" \"REGULAR\" ...\n",
            " $ Religion_Familiar       : chr [1:249] \"Catolicismo Romano\" \"Cristianismo\" \"Cristianismo\" \"Catolicismo Romano\" ...\n",
            " $ Actividades_deportivas  : num [1:249] 1 1 0 0 0 0 1 1 0 0 ...\n",
            " $ Actividades_atrísticas  : num [1:249] 0 0 0 1 1 0 0 1 0 1 ...\n",
            " $ Aptitudes_científicas   : num [1:249] 0 0 0 1 0 0 0 1 1 0 ...\n",
            " $ reciberegalo            : num [1:249] 0 0 0 0 1 0 0 1 0 0 ...\n"
          ]
        },
        {
          "output_type": "display_data",
          "data": {
            "text/html": [
              "<table class=\"dataframe\">\n",
              "<caption>A tibble: 6 × 16</caption>\n",
              "<thead>\n",
              "\t<tr><th scope=col>Id</th><th scope=col>genero</th><th scope=col>edad</th><th scope=col>comportamiento_escolar</th><th scope=col>Obediencia_hogar</th><th scope=col>Intereses</th><th scope=col>Socioeconomía</th><th scope=col>Actividades_comunitarias</th><th scope=col>Num_hermanos</th><th scope=col>Vivienda</th><th scope=col>Estado_Salud</th><th scope=col>Religion_Familiar</th><th scope=col>Actividades_deportivas</th><th scope=col>Actividades_atrísticas</th><th scope=col>Aptitudes_científicas</th><th scope=col>reciberegalo</th></tr>\n",
              "\t<tr><th scope=col>&lt;dbl&gt;</th><th scope=col>&lt;chr&gt;</th><th scope=col>&lt;dbl&gt;</th><th scope=col>&lt;chr&gt;</th><th scope=col>&lt;dbl&gt;</th><th scope=col>&lt;chr&gt;</th><th scope=col>&lt;dbl&gt;</th><th scope=col>&lt;chr&gt;</th><th scope=col>&lt;dbl&gt;</th><th scope=col>&lt;chr&gt;</th><th scope=col>&lt;chr&gt;</th><th scope=col>&lt;chr&gt;</th><th scope=col>&lt;dbl&gt;</th><th scope=col>&lt;dbl&gt;</th><th scope=col>&lt;dbl&gt;</th><th scope=col>&lt;dbl&gt;</th></tr>\n",
              "</thead>\n",
              "<tbody>\n",
              "\t<tr><td>46314</td><td>M   </td><td>17</td><td>ALTO </td><td>1</td><td>Video Juegos  </td><td>4</td><td>No</td><td>1</td><td>RURAL </td><td>BAJO   </td><td>Catolicismo Romano</td><td>1</td><td>0</td><td>0</td><td>0</td></tr>\n",
              "\t<tr><td>46448</td><td>M   </td><td>16</td><td>MEDIO</td><td>5</td><td>Video Juegos  </td><td>3</td><td>Si</td><td>5</td><td>URBANA</td><td>BAJO   </td><td>Cristianismo      </td><td>1</td><td>0</td><td>0</td><td>0</td></tr>\n",
              "\t<tr><td>46732</td><td>M   </td><td>18</td><td>ALTO </td><td>3</td><td>Video Juegos  </td><td>1</td><td>No</td><td>5</td><td>RURAL </td><td>BAJO   </td><td>Cristianismo      </td><td>0</td><td>0</td><td>0</td><td>0</td></tr>\n",
              "\t<tr><td>46882</td><td>Nina</td><td>13</td><td>ALTO </td><td>6</td><td>Juegos de Mesa</td><td>6</td><td>No</td><td>2</td><td>RURAL </td><td>REGULAR</td><td>Catolicismo Romano</td><td>0</td><td>1</td><td>1</td><td>0</td></tr>\n",
              "\t<tr><td>47001</td><td>M   </td><td>12</td><td>ALTO </td><td>7</td><td>Video Juegos  </td><td>3</td><td>No</td><td>4</td><td>RURAL </td><td>BAJO   </td><td>Protestantismo    </td><td>0</td><td>1</td><td>0</td><td>1</td></tr>\n",
              "\t<tr><td>47113</td><td>F   </td><td> 7</td><td>ALTO </td><td>5</td><td>Juegos de Mesa</td><td>3</td><td>No</td><td>3</td><td>URBANA</td><td>REGULAR</td><td>Cristianismo      </td><td>0</td><td>0</td><td>0</td><td>0</td></tr>\n",
              "</tbody>\n",
              "</table>\n"
            ],
            "text/markdown": "\nA tibble: 6 × 16\n\n| Id &lt;dbl&gt; | genero &lt;chr&gt; | edad &lt;dbl&gt; | comportamiento_escolar &lt;chr&gt; | Obediencia_hogar &lt;dbl&gt; | Intereses &lt;chr&gt; | Socioeconomía &lt;dbl&gt; | Actividades_comunitarias &lt;chr&gt; | Num_hermanos &lt;dbl&gt; | Vivienda &lt;chr&gt; | Estado_Salud &lt;chr&gt; | Religion_Familiar &lt;chr&gt; | Actividades_deportivas &lt;dbl&gt; | Actividades_atrísticas &lt;dbl&gt; | Aptitudes_científicas &lt;dbl&gt; | reciberegalo &lt;dbl&gt; |\n|---|---|---|---|---|---|---|---|---|---|---|---|---|---|---|---|\n| 46314 | M    | 17 | ALTO  | 1 | Video Juegos   | 4 | No | 1 | RURAL  | BAJO    | Catolicismo Romano | 1 | 0 | 0 | 0 |\n| 46448 | M    | 16 | MEDIO | 5 | Video Juegos   | 3 | Si | 5 | URBANA | BAJO    | Cristianismo       | 1 | 0 | 0 | 0 |\n| 46732 | M    | 18 | ALTO  | 3 | Video Juegos   | 1 | No | 5 | RURAL  | BAJO    | Cristianismo       | 0 | 0 | 0 | 0 |\n| 46882 | Nina | 13 | ALTO  | 6 | Juegos de Mesa | 6 | No | 2 | RURAL  | REGULAR | Catolicismo Romano | 0 | 1 | 1 | 0 |\n| 47001 | M    | 12 | ALTO  | 7 | Video Juegos   | 3 | No | 4 | RURAL  | BAJO    | Protestantismo     | 0 | 1 | 0 | 1 |\n| 47113 | F    |  7 | ALTO  | 5 | Juegos de Mesa | 3 | No | 3 | URBANA | REGULAR | Cristianismo       | 0 | 0 | 0 | 0 |\n\n",
            "text/latex": "A tibble: 6 × 16\n\\begin{tabular}{llllllllllllllll}\n Id & genero & edad & comportamiento\\_escolar & Obediencia\\_hogar & Intereses & Socioeconomía & Actividades\\_comunitarias & Num\\_hermanos & Vivienda & Estado\\_Salud & Religion\\_Familiar & Actividades\\_deportivas & Actividades\\_atrísticas & Aptitudes\\_científicas & reciberegalo\\\\\n <dbl> & <chr> & <dbl> & <chr> & <dbl> & <chr> & <dbl> & <chr> & <dbl> & <chr> & <chr> & <chr> & <dbl> & <dbl> & <dbl> & <dbl>\\\\\n\\hline\n\t 46314 & M    & 17 & ALTO  & 1 & Video Juegos   & 4 & No & 1 & RURAL  & BAJO    & Catolicismo Romano & 1 & 0 & 0 & 0\\\\\n\t 46448 & M    & 16 & MEDIO & 5 & Video Juegos   & 3 & Si & 5 & URBANA & BAJO    & Cristianismo       & 1 & 0 & 0 & 0\\\\\n\t 46732 & M    & 18 & ALTO  & 3 & Video Juegos   & 1 & No & 5 & RURAL  & BAJO    & Cristianismo       & 0 & 0 & 0 & 0\\\\\n\t 46882 & Nina & 13 & ALTO  & 6 & Juegos de Mesa & 6 & No & 2 & RURAL  & REGULAR & Catolicismo Romano & 0 & 1 & 1 & 0\\\\\n\t 47001 & M    & 12 & ALTO  & 7 & Video Juegos   & 3 & No & 4 & RURAL  & BAJO    & Protestantismo     & 0 & 1 & 0 & 1\\\\\n\t 47113 & F    &  7 & ALTO  & 5 & Juegos de Mesa & 3 & No & 3 & URBANA & REGULAR & Cristianismo       & 0 & 0 & 0 & 0\\\\\n\\end{tabular}\n",
            "text/plain": [
              "  Id    genero edad comportamiento_escolar Obediencia_hogar Intereses     \n",
              "1 46314 M      17   ALTO                   1                Video Juegos  \n",
              "2 46448 M      16   MEDIO                  5                Video Juegos  \n",
              "3 46732 M      18   ALTO                   3                Video Juegos  \n",
              "4 46882 Nina   13   ALTO                   6                Juegos de Mesa\n",
              "5 47001 M      12   ALTO                   7                Video Juegos  \n",
              "6 47113 F       7   ALTO                   5                Juegos de Mesa\n",
              "  Socioeconomía Actividades_comunitarias Num_hermanos Vivienda Estado_Salud\n",
              "1 4             No                       1            RURAL    BAJO        \n",
              "2 3             Si                       5            URBANA   BAJO        \n",
              "3 1             No                       5            RURAL    BAJO        \n",
              "4 6             No                       2            RURAL    REGULAR     \n",
              "5 3             No                       4            RURAL    BAJO        \n",
              "6 3             No                       3            URBANA   REGULAR     \n",
              "  Religion_Familiar  Actividades_deportivas Actividades_atrísticas\n",
              "1 Catolicismo Romano 1                      0                     \n",
              "2 Cristianismo       1                      0                     \n",
              "3 Cristianismo       0                      0                     \n",
              "4 Catolicismo Romano 0                      1                     \n",
              "5 Protestantismo     0                      1                     \n",
              "6 Cristianismo       0                      0                     \n",
              "  Aptitudes_científicas reciberegalo\n",
              "1 0                     0           \n",
              "2 0                     0           \n",
              "3 0                     0           \n",
              "4 1                     0           \n",
              "5 0                     1           \n",
              "6 0                     0           "
            ]
          },
          "metadata": {}
        }
      ]
    },
    {
      "cell_type": "markdown",
      "source": [
        "PREPARACION DE LOS DATOS"
      ],
      "metadata": {
        "id": "MS_vGVowo641"
      }
    },
    {
      "cell_type": "code",
      "source": [
        "df$genero<-as.factor(df$genero)\n",
        "df$comportamiento_escolar<-as.factor(df$comportamiento_escolar)\n",
        "df$Intereses<-as.factor(df$Intereses)\n",
        "df$Actividades_comunitarias<-as.factor(df$Actividades_comunitarias)\n",
        "df$Vivienda<-as.factor(df$Vivienda)\n",
        "df$Estado_Salud<-as.factor(df$Estado_Salud)\n",
        "df$Religion_Familiar<-as.factor(df$Religion_Familiar)\n",
        "df$reciberegalo<-as.factor(df$reciberegalo)\n",
        "df$reciberegalo<-factor(df$reciberegalo,ordered=TRUE, levels=c(\"0\",\"1\"))"
      ],
      "metadata": {
        "id": "W-RHq2sro6Ae"
      },
      "execution_count": 19,
      "outputs": []
    },
    {
      "cell_type": "markdown",
      "source": [
        "SÉPARACION DE DATOS DE ENTRENAMIENTO Y PRUEBA"
      ],
      "metadata": {
        "id": "vTEVAKDyzzbo"
      }
    },
    {
      "cell_type": "code",
      "source": [
        "set.seed(159)\n",
        "#aquí se define el tamaño de la muestra, en este caso entrenamiento tendrá el 75% de los casos\n",
        "sample <- sample.int(nrow(df), floor(.75*nrow(df)))\n",
        "train_data <- df[sample, ]\n",
        "test_data <- df[-sample, ]\n"
      ],
      "metadata": {
        "id": "f6IrP_sxnKqz"
      },
      "execution_count": 20,
      "outputs": []
    },
    {
      "cell_type": "markdown",
      "source": [
        "MODELO"
      ],
      "metadata": {
        "id": "rV-yilTtz7X3"
      }
    },
    {
      "cell_type": "code",
      "source": [
        "\n",
        "set.seed(159)\n",
        "\n",
        "cross <- trainControl(method = \"cv\", number = 10)\n",
        "modeloknn1 <- train(\n",
        "  reciberegalo~ .,\n",
        "  data = train_data,\n",
        "  method = \"knn\",\n",
        "  tuneGrid = expand.grid(k = 1:30),\n",
        "  trControl = cross,\n",
        "  metric = \"Accuracy\"\n",
        ")\n",
        "\n"
      ],
      "metadata": {
        "id": "sfpMXQ9CoQMI"
      },
      "execution_count": 26,
      "outputs": []
    },
    {
      "cell_type": "code",
      "source": [
        "modeloknn1\n",
        "plot(modeloknn1)"
      ],
      "metadata": {
        "colab": {
          "base_uri": "https://localhost:8080/",
          "height": 1000
        },
        "id": "L2YlsqcivhZd",
        "outputId": "12099ef9-409d-424c-d011-a21249c1aec1"
      },
      "execution_count": 27,
      "outputs": [
        {
          "output_type": "display_data",
          "data": {
            "text/plain": [
              "k-Nearest Neighbors \n",
              "\n",
              "186 samples\n",
              " 15 predictor\n",
              "  2 classes: '0', '1' \n",
              "\n",
              "No pre-processing\n",
              "Resampling: Cross-Validated (10 fold) \n",
              "Summary of sample sizes: 167, 167, 168, 168, 167, 167, ... \n",
              "Resampling results across tuning parameters:\n",
              "\n",
              "  k   Accuracy   Kappa        \n",
              "   1  0.5801170  -0.0470161155\n",
              "   2  0.5640351  -0.1201774524\n",
              "   3  0.6605263  -0.0057512790\n",
              "   4  0.6707602   0.0185943639\n",
              "   5  0.6929825   0.0233103148\n",
              "   6  0.6602339  -0.0687573885\n",
              "   7  0.7038012   0.0018033082\n",
              "   8  0.6929825  -0.0034325109\n",
              "   9  0.6932749  -0.0265312114\n",
              "  10  0.7149123   0.0282020607\n",
              "  11  0.6766082  -0.0727491599\n",
              "  12  0.7040936  -0.0117614314\n",
              "  13  0.7201754  -0.0009801198\n",
              "  14  0.7146199   0.0061234909\n",
              "  15  0.7149123  -0.0279031967\n",
              "  16  0.7201754  -0.0036467046\n",
              "  17  0.7257310  -0.0096153846\n",
              "  18  0.7257310  -0.0096153846\n",
              "  19  0.7257310  -0.0096153846\n",
              "  20  0.7309942   0.0000000000\n",
              "  21  0.7309942   0.0000000000\n",
              "  22  0.7309942   0.0000000000\n",
              "  23  0.7309942   0.0000000000\n",
              "  24  0.7309942   0.0000000000\n",
              "  25  0.7309942   0.0000000000\n",
              "  26  0.7309942   0.0000000000\n",
              "  27  0.7309942   0.0000000000\n",
              "  28  0.7309942   0.0000000000\n",
              "  29  0.7309942   0.0000000000\n",
              "  30  0.7309942   0.0000000000\n",
              "\n",
              "Accuracy was used to select the optimal model using the largest value.\n",
              "The final value used for the model was k = 30."
            ]
          },
          "metadata": {}
        },
        {
          "output_type": "display_data",
          "data": {
            "text/plain": [
              "plot without title"
            ],
            "image/png": "[encoded data removed]"
          },
          "metadata": {
            "image/png": {
              "width": 420,
              "height": 420
            }
          }
        }
      ]
    },
    {
      "cell_type": "markdown",
      "source": [
        "EVALUACIÓN DEL MODELO CON DATOS DE PRUEBA"
      ],
      "metadata": {
        "id": "i6tmr80y0ATW"
      }
    },
    {
      "cell_type": "code",
      "source": [
        "predmod1<-predict(modeloknn1,newdata = test_data)\n",
        "predmod1 <- factor(predmod1, levels = levels(test_data$reciberegalo))\n",
        "confusionMatrix(predmod1, test_data$reciberegalo)"
      ],
      "metadata": {
        "colab": {
          "base_uri": "https://localhost:8080/",
          "height": 486
        },
        "id": "KRlPWt3BwQ90",
        "outputId": "def05a82-e1ef-4caf-fa51-b620af353837"
      },
      "execution_count": 28,
      "outputs": [
        {
          "output_type": "display_data",
          "data": {
            "text/plain": [
              "Confusion Matrix and Statistics\n",
              "\n",
              "          Reference\n",
              "Prediction  0  1\n",
              "         0 52 11\n",
              "         1  0  0\n",
              "                                         \n",
              "               Accuracy : 0.8254         \n",
              "                 95% CI : (0.709, 0.9095)\n",
              "    No Information Rate : 0.8254         \n",
              "    P-Value [Acc > NIR] : 0.579633       \n",
              "                                         \n",
              "                  Kappa : 0              \n",
              "                                         \n",
              " Mcnemar's Test P-Value : 0.002569       \n",
              "                                         \n",
              "            Sensitivity : 1.0000         \n",
              "            Specificity : 0.0000         \n",
              "         Pos Pred Value : 0.8254         \n",
              "         Neg Pred Value :    NaN         \n",
              "             Prevalence : 0.8254         \n",
              "         Detection Rate : 0.8254         \n",
              "   Detection Prevalence : 1.0000         \n",
              "      Balanced Accuracy : 0.5000         \n",
              "                                         \n",
              "       'Positive' Class : 0              \n",
              "                                         "
            ]
          },
          "metadata": {}
        }
      ]
    },
    {
      "cell_type": "markdown",
      "source": [
        "1.El mejor valor de K desde el punto de vista ACCURACY es K=20, El programa anuncia que el mejor ACCURACY seria de k=30, sin embargo el accuracy y el kapa son iguales desde K=20, por esta razon se seleciona 20"
      ],
      "metadata": {
        "id": "igPHCVW_wFo0"
      }
    },
    {
      "cell_type": "markdown",
      "source": [
        "OVERFITTING"
      ],
      "metadata": {
        "id": "paxUSzBe0IHl"
      }
    },
    {
      "cell_type": "code",
      "source": [
        "\n",
        "modeloknn_overfit <- train(\n",
        "  reciberegalo~ .,\n",
        "  data = train_data,\n",
        "  method = \"knn\",\n",
        "  tuneGrid = expand.grid(k = 1),\n",
        "  trControl = cross,\n",
        "  metric = \"Accuracy\"\n",
        ")\n",
        "\n",
        "\n",
        "pred_knn_overfit <- predict(modeloknn_overfit, newdata = test_data)\n",
        "pred_knn_overfit <- factor(pred_knn_overfit, levels = levels(test_data$reciberegalo))\n",
        "\n",
        "\n",
        "cat(\"Resultados con Overfitting (K = 1):\\n\")\n",
        "confusionMatrix(pred_knn_overfit, test_data$reciberegalo)\n",
        "\n"
      ],
      "metadata": {
        "colab": {
          "base_uri": "https://localhost:8080/",
          "height": 503
        },
        "id": "7pSLVKnNzFeJ",
        "outputId": "b59e199c-5fa9-4c2f-bfb1-5147a180231e"
      },
      "execution_count": 33,
      "outputs": [
        {
          "output_type": "stream",
          "name": "stdout",
          "text": [
            "Resultados con Overfitting (K = 1):\n"
          ]
        },
        {
          "output_type": "display_data",
          "data": {
            "text/plain": [
              "Confusion Matrix and Statistics\n",
              "\n",
              "          Reference\n",
              "Prediction  0  1\n",
              "         0 41  9\n",
              "         1 11  2\n",
              "                                          \n",
              "               Accuracy : 0.6825          \n",
              "                 95% CI : (0.5531, 0.7942)\n",
              "    No Information Rate : 0.8254          \n",
              "    P-Value [Acc > NIR] : 0.9983          \n",
              "                                          \n",
              "                  Kappa : -0.0277         \n",
              "                                          \n",
              " Mcnemar's Test P-Value : 0.8231          \n",
              "                                          \n",
              "            Sensitivity : 0.7885          \n",
              "            Specificity : 0.1818          \n",
              "         Pos Pred Value : 0.8200          \n",
              "         Neg Pred Value : 0.1538          \n",
              "             Prevalence : 0.8254          \n",
              "         Detection Rate : 0.6508          \n",
              "   Detection Prevalence : 0.7937          \n",
              "      Balanced Accuracy : 0.4851          \n",
              "                                          \n",
              "       'Positive' Class : 0               \n",
              "                                          "
            ]
          },
          "metadata": {}
        }
      ]
    },
    {
      "cell_type": "markdown",
      "source": [
        " El modelo tiene baja precisión y un recall aceptable\n",
        " Este se debe a que los datos se sobreajustaron a los datos de entrenamiento y a la hora de probar el modelo con los datos de prueba, no se obtienen los resultados esperados\n"
      ],
      "metadata": {
        "id": "OUXCM1Ja1dW7"
      }
    },
    {
      "cell_type": "markdown",
      "source": [
        "UNDERFITTING"
      ],
      "metadata": {
        "id": "NUkugfEJ0Ls9"
      }
    },
    {
      "cell_type": "code",
      "source": [
        "\n",
        "modeloknn_underfit <- train(\n",
        "  reciberegalo~ .,\n",
        "  data = train_data,\n",
        "  method = \"knn\",\n",
        "  tuneGrid = expand.grid(k = 30),\n",
        "  trControl = cross,\n",
        "  metric = \"Accuracy\"\n",
        ")\n",
        "\n",
        "\n",
        "pred_knn_underfit <- predict(modeloknn_underfit, newdata = test_data)\n",
        "pred_knn_underfit <- factor(pred_knn_underfit, levels = levels(test_data$reciberegalo))\n",
        "\n",
        "cat(\"Resultados con Underfitting (K = 30):\\n\")\n",
        "confusionMatrix(pred_knn_underfit, test_data$reciberegalo)\n",
        "\n"
      ],
      "metadata": {
        "colab": {
          "base_uri": "https://localhost:8080/",
          "height": 503
        },
        "id": "24prIIBEzYWz",
        "outputId": "3112c361-185d-4e04-81f7-d51834ef19b6"
      },
      "execution_count": 30,
      "outputs": [
        {
          "output_type": "stream",
          "name": "stdout",
          "text": [
            "Resultados con Underfitting (K = 30):\n"
          ]
        },
        {
          "output_type": "display_data",
          "data": {
            "text/plain": [
              "Confusion Matrix and Statistics\n",
              "\n",
              "          Reference\n",
              "Prediction  0  1\n",
              "         0 52 11\n",
              "         1  0  0\n",
              "                                         \n",
              "               Accuracy : 0.8254         \n",
              "                 95% CI : (0.709, 0.9095)\n",
              "    No Information Rate : 0.8254         \n",
              "    P-Value [Acc > NIR] : 0.579633       \n",
              "                                         \n",
              "                  Kappa : 0              \n",
              "                                         \n",
              " Mcnemar's Test P-Value : 0.002569       \n",
              "                                         \n",
              "            Sensitivity : 1.0000         \n",
              "            Specificity : 0.0000         \n",
              "         Pos Pred Value : 0.8254         \n",
              "         Neg Pred Value :    NaN         \n",
              "             Prevalence : 0.8254         \n",
              "         Detection Rate : 0.8254         \n",
              "   Detection Prevalence : 1.0000         \n",
              "      Balanced Accuracy : 0.5000         \n",
              "                                         \n",
              "       'Positive' Class : 0              \n",
              "                                         "
            ]
          },
          "metadata": {}
        }
      ]
    },
    {
      "cell_type": "markdown",
      "source": [
        "En este caso cuando k=30 la accuracy es de 0.82 y el recall de 1 y especificidad de 0, lo que quiere decir que el modelo se vuelve practicamnete mas \"promedio\" en las predicciones, provocando que no detecte bien muchas instancias.\n"
      ],
      "metadata": {
        "id": "nPHhQK_H1sLy"
      }
    }
  ]
}