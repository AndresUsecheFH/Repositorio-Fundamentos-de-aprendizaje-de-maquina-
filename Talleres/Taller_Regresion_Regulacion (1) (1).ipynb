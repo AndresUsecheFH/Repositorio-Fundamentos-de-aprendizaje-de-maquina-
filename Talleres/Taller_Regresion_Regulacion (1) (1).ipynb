{
  "nbformat": 4,
  "nbformat_minor": 0,
  "metadata": {
    "colab": {
      "provenance": []
    },
    "kernelspec": {
      "name": "ir",
      "display_name": "R"
    },
    "language_info": {
      "name": "R"
    }
  },
  "cells": [
    {
      "cell_type": "markdown",
      "source": [
        "# TALLER Regresión Regulación\n",
        "Andres Useche - Rafael Torregroza"
      ],
      "metadata": {
        "id": "FsbnIVqwnUig"
      }
    },
    {
      "cell_type": "markdown",
      "source": [
        "# Escenario 1"
      ],
      "metadata": {
        "id": "j0OftawWnmlF"
      }
    },
    {
      "cell_type": "markdown",
      "source": [
        "\n",
        "Loan Smart es una empresa de asesoramiento en materia de préstamos. Basándose en las características de sus clientes y en el monto del préstamo que necesitan, les aconsejan en qué institución financiera solicitar un préstamo. Hasta ahora sus recomendaciones se han basado en la experiencia empresarial. Ahora están tratando de aprovechar el poder de los datos que han recogido hasta ahora.\n",
        "\n",
        "Quieren comprobar si, dadas las características de sus clientes, pueden predecir las tasas de interés que les ofrecerán las distintas entidades financieras. Quieren hacer una prueba de concepto de esta idea. Nos han proporcionado los datos de una de estas entidades financieras.  Aplicaremos la técnica de REGRESIÓN LINEAL"
      ],
      "metadata": {
        "id": "kslnLfAknsv6"
      }
    },
    {
      "cell_type": "markdown",
      "source": [
        "# Escenario 2"
      ],
      "metadata": {
        "id": "wfbkdCtQnwT4"
      }
    },
    {
      "cell_type": "markdown",
      "source": [
        "**Variables en la base de datos**\n",
        "\n",
        "1.   **Amount.Requested**: es la cantidad en dólares solicitada en la solicitud de préstamo.\n",
        "2.   **Amount.Funded.By.Investors**: es la cantidad en dólares prestada al solicitante.\n",
        "3.   **Interest.Rate**: Tasa de interés del préstamo\n",
        "4.   **Loan.Length**: es la duración en meses del préstamo. Las duraciones consideradas en este informe son dos de las más populares: 36 meses y 60 meses.\n",
        "5.   **Loan.Purpose**: es la finalidad del préstamo declarada por el solicitante. Se clasifican en coche, tarjetas de crédito, consolidación de deudas, educación, reformas, vivienda, compras importantes, medicamentos, mudanzas, energías renovables, pequeñas empresas, vacaciones, bodas y otros.\n",
        "6.   **Debt.To.Income.Ratio**: es el porcentaje de los ingresos brutos del consumidor que se destina al pago de deudas.\n",
        "7.   **State**: es la abreviatura de los 50 estados de EE.UU. en los que reside el solicitante.\n",
        "8.   **Home.Ownership**: es la situación del solicitante en la vivienda actual, que incluye propiedad, alquiler o hipoteca.\n",
        "9.   **Monthly.Income**: es la cantidad mensual en dólares que gana el solicitante.\n",
        "10.   **FICO.Range**: es la medida de la solvencia del solicitante.\n",
        "11.   **Open.CREDIT.Lines**: es el número de líneas de crédito abiertas que tenía el solicitante en el momento de la solicitud.\n",
        "12.   **Revolving.CREDIT.Balance**: es el importe total pendiente de todas las líneas de crédito.\n",
        "13.   **Inquiries.in.the.Last.6.Months**: es el número de consultas autorizadas en los 6 meses en que una persona autoriza al prestamista a indagar sobre su solvencia.\n",
        "14.   **Employment.Length**: es el tiempo que lleva en el trabajo actual"
      ],
      "metadata": {
        "id": "DDzQ1A5Dn0mZ"
      }
    },
    {
      "cell_type": "code",
      "source": [
        "# Cargar librerías equivalentes en R\n",
        "install.packages(\"gridExtra\")\n",
        "\n",
        "library(dplyr)\n",
        "library(ggplot2)\n",
        "library(tidyr)\n",
        "library(readr)\n",
        "library(tibble)\n",
        "library(gridExtra)\n",
        "\n",
        "# Configurar el tema de gráficos similar a ggplot en Python\n",
        "theme_set(theme_minimal())\n",
        "\n",
        "# Desactivar warnings\n",
        "options(warn = -1)\n"
      ],
      "metadata": {
        "colab": {
          "base_uri": "https://localhost:8080/"
        },
        "id": "5tAK7yunn0Br",
        "outputId": "82e740bd-93f6-4050-94e3-f63905f0e2ca"
      },
      "execution_count": 1,
      "outputs": [
        {
          "output_type": "stream",
          "name": "stderr",
          "text": [
            "Installing package into ‘/usr/local/lib/R/site-library’\n",
            "(as ‘lib’ is unspecified)\n",
            "\n",
            "\n",
            "Attaching package: ‘dplyr’\n",
            "\n",
            "\n",
            "The following objects are masked from ‘package:stats’:\n",
            "\n",
            "    filter, lag\n",
            "\n",
            "\n",
            "The following objects are masked from ‘package:base’:\n",
            "\n",
            "    intersect, setdiff, setequal, union\n",
            "\n",
            "\n",
            "\n",
            "Attaching package: ‘gridExtra’\n",
            "\n",
            "\n",
            "The following object is masked from ‘package:dplyr’:\n",
            "\n",
            "    combine\n",
            "\n",
            "\n"
          ]
        }
      ]
    },
    {
      "cell_type": "code",
      "execution_count": 2,
      "metadata": {
        "colab": {
          "base_uri": "https://localhost:8080/",
          "height": 306
        },
        "id": "y3c8JZQ0nGsW",
        "outputId": "2b7b80c2-9ee3-421f-a38a-a9cf408cdbfb"
      },
      "outputs": [
        {
          "output_type": "display_data",
          "data": {
            "text/html": [
              "<table class=\"dataframe\">\n",
              "<caption>A data.frame: 6 × 15</caption>\n",
              "<thead>\n",
              "\t<tr><th></th><th scope=col>ID</th><th scope=col>Amount.Requested</th><th scope=col>Amount.Funded.By.Investors</th><th scope=col>Interest.Rate</th><th scope=col>Loan.Length</th><th scope=col>Loan.Purpose</th><th scope=col>Debt.To.Income.Ratio</th><th scope=col>State</th><th scope=col>Home.Ownership</th><th scope=col>Monthly.Income</th><th scope=col>FICO.Range</th><th scope=col>Open.CREDIT.Lines</th><th scope=col>Revolving.CREDIT.Balance</th><th scope=col>Inquiries.in.the.Last.6.Months</th><th scope=col>Employment.Length</th></tr>\n",
              "\t<tr><th></th><th scope=col>&lt;int&gt;</th><th scope=col>&lt;chr&gt;</th><th scope=col>&lt;chr&gt;</th><th scope=col>&lt;chr&gt;</th><th scope=col>&lt;chr&gt;</th><th scope=col>&lt;chr&gt;</th><th scope=col>&lt;chr&gt;</th><th scope=col>&lt;chr&gt;</th><th scope=col>&lt;chr&gt;</th><th scope=col>&lt;dbl&gt;</th><th scope=col>&lt;chr&gt;</th><th scope=col>&lt;chr&gt;</th><th scope=col>&lt;chr&gt;</th><th scope=col>&lt;int&gt;</th><th scope=col>&lt;chr&gt;</th></tr>\n",
              "</thead>\n",
              "<tbody>\n",
              "\t<tr><th scope=row>1</th><td>79542</td><td>25000</td><td>25000   </td><td>18.49%</td><td>60 months</td><td>debt_consolidation</td><td>27.56%</td><td>VA</td><td>MORTGAGE</td><td>8606.56</td><td>720-724</td><td>11</td><td>15210</td><td>3</td><td>5 years  </td></tr>\n",
              "\t<tr><th scope=row>2</th><td>75473</td><td>19750</td><td>19750   </td><td>17.27%</td><td>60 months</td><td>debt_consolidation</td><td>13.39%</td><td>NY</td><td>MORTGAGE</td><td>6737.50</td><td>710-714</td><td>14</td><td>19070</td><td>3</td><td>4 years  </td></tr>\n",
              "\t<tr><th scope=row>3</th><td>67265</td><td>2100 </td><td><span style=white-space:pre-wrap>2100    </span></td><td>14.33%</td><td>36 months</td><td><span style=white-space:pre-wrap>major_purchase    </span></td><td>3.50% </td><td>LA</td><td><span style=white-space:pre-wrap>OWN     </span></td><td>1000.00</td><td>690-694</td><td>13</td><td><span style=white-space:pre-wrap>893  </span></td><td>1</td><td>&lt; 1 year </td></tr>\n",
              "\t<tr><th scope=row>4</th><td>80167</td><td>28000</td><td>28000   </td><td>16.29%</td><td>36 months</td><td>credit_card       </td><td>19.62%</td><td>NV</td><td>MORTGAGE</td><td>7083.33</td><td>710-714</td><td>12</td><td>38194</td><td>1</td><td>10+ years</td></tr>\n",
              "\t<tr><th scope=row>5</th><td>17240</td><td>24250</td><td>17431.82</td><td>12.23%</td><td>60 months</td><td>credit_card       </td><td>23.79%</td><td>OH</td><td>MORTGAGE</td><td>5833.33</td><td>730-734</td><td>6 </td><td>31061</td><td>2</td><td>10+ years</td></tr>\n",
              "\t<tr><th scope=row>6</th><td>32737</td><td>5400 </td><td>5375    </td><td>8.90% </td><td>36 months</td><td>small_business    </td><td>6.27% </td><td>OH</td><td>RENT    </td><td>3000.00</td><td>785-789</td><td>2 </td><td>90   </td><td>2</td><td>n/a      </td></tr>\n",
              "</tbody>\n",
              "</table>\n"
            ],
            "text/markdown": "\nA data.frame: 6 × 15\n\n| <!--/--> | ID &lt;int&gt; | Amount.Requested &lt;chr&gt; | Amount.Funded.By.Investors &lt;chr&gt; | Interest.Rate &lt;chr&gt; | Loan.Length &lt;chr&gt; | Loan.Purpose &lt;chr&gt; | Debt.To.Income.Ratio &lt;chr&gt; | State &lt;chr&gt; | Home.Ownership &lt;chr&gt; | Monthly.Income &lt;dbl&gt; | FICO.Range &lt;chr&gt; | Open.CREDIT.Lines &lt;chr&gt; | Revolving.CREDIT.Balance &lt;chr&gt; | Inquiries.in.the.Last.6.Months &lt;int&gt; | Employment.Length &lt;chr&gt; |\n|---|---|---|---|---|---|---|---|---|---|---|---|---|---|---|---|\n| 1 | 79542 | 25000 | 25000    | 18.49% | 60 months | debt_consolidation | 27.56% | VA | MORTGAGE | 8606.56 | 720-724 | 11 | 15210 | 3 | 5 years   |\n| 2 | 75473 | 19750 | 19750    | 17.27% | 60 months | debt_consolidation | 13.39% | NY | MORTGAGE | 6737.50 | 710-714 | 14 | 19070 | 3 | 4 years   |\n| 3 | 67265 | 2100  | 2100     | 14.33% | 36 months | major_purchase     | 3.50%  | LA | OWN      | 1000.00 | 690-694 | 13 | 893   | 1 | &lt; 1 year  |\n| 4 | 80167 | 28000 | 28000    | 16.29% | 36 months | credit_card        | 19.62% | NV | MORTGAGE | 7083.33 | 710-714 | 12 | 38194 | 1 | 10+ years |\n| 5 | 17240 | 24250 | 17431.82 | 12.23% | 60 months | credit_card        | 23.79% | OH | MORTGAGE | 5833.33 | 730-734 | 6  | 31061 | 2 | 10+ years |\n| 6 | 32737 | 5400  | 5375     | 8.90%  | 36 months | small_business     | 6.27%  | OH | RENT     | 3000.00 | 785-789 | 2  | 90    | 2 | n/a       |\n\n",
            "text/latex": "A data.frame: 6 × 15\n\\begin{tabular}{r|lllllllllllllll}\n  & ID & Amount.Requested & Amount.Funded.By.Investors & Interest.Rate & Loan.Length & Loan.Purpose & Debt.To.Income.Ratio & State & Home.Ownership & Monthly.Income & FICO.Range & Open.CREDIT.Lines & Revolving.CREDIT.Balance & Inquiries.in.the.Last.6.Months & Employment.Length\\\\\n  & <int> & <chr> & <chr> & <chr> & <chr> & <chr> & <chr> & <chr> & <chr> & <dbl> & <chr> & <chr> & <chr> & <int> & <chr>\\\\\n\\hline\n\t1 & 79542 & 25000 & 25000    & 18.49\\% & 60 months & debt\\_consolidation & 27.56\\% & VA & MORTGAGE & 8606.56 & 720-724 & 11 & 15210 & 3 & 5 years  \\\\\n\t2 & 75473 & 19750 & 19750    & 17.27\\% & 60 months & debt\\_consolidation & 13.39\\% & NY & MORTGAGE & 6737.50 & 710-714 & 14 & 19070 & 3 & 4 years  \\\\\n\t3 & 67265 & 2100  & 2100     & 14.33\\% & 36 months & major\\_purchase     & 3.50\\%  & LA & OWN      & 1000.00 & 690-694 & 13 & 893   & 1 & < 1 year \\\\\n\t4 & 80167 & 28000 & 28000    & 16.29\\% & 36 months & credit\\_card        & 19.62\\% & NV & MORTGAGE & 7083.33 & 710-714 & 12 & 38194 & 1 & 10+ years\\\\\n\t5 & 17240 & 24250 & 17431.82 & 12.23\\% & 60 months & credit\\_card        & 23.79\\% & OH & MORTGAGE & 5833.33 & 730-734 & 6  & 31061 & 2 & 10+ years\\\\\n\t6 & 32737 & 5400  & 5375     & 8.90\\%  & 36 months & small\\_business     & 6.27\\%  & OH & RENT     & 3000.00 & 785-789 & 2  & 90    & 2 & n/a      \\\\\n\\end{tabular}\n",
            "text/plain": [
              "  ID    Amount.Requested Amount.Funded.By.Investors Interest.Rate Loan.Length\n",
              "1 79542 25000            25000                      18.49%        60 months  \n",
              "2 75473 19750            19750                      17.27%        60 months  \n",
              "3 67265 2100             2100                       14.33%        36 months  \n",
              "4 80167 28000            28000                      16.29%        36 months  \n",
              "5 17240 24250            17431.82                   12.23%        60 months  \n",
              "6 32737 5400             5375                       8.90%         36 months  \n",
              "  Loan.Purpose       Debt.To.Income.Ratio State Home.Ownership Monthly.Income\n",
              "1 debt_consolidation 27.56%               VA    MORTGAGE       8606.56       \n",
              "2 debt_consolidation 13.39%               NY    MORTGAGE       6737.50       \n",
              "3 major_purchase     3.50%                LA    OWN            1000.00       \n",
              "4 credit_card        19.62%               NV    MORTGAGE       7083.33       \n",
              "5 credit_card        23.79%               OH    MORTGAGE       5833.33       \n",
              "6 small_business     6.27%                OH    RENT           3000.00       \n",
              "  FICO.Range Open.CREDIT.Lines Revolving.CREDIT.Balance\n",
              "1 720-724    11                15210                   \n",
              "2 710-714    14                19070                   \n",
              "3 690-694    13                893                     \n",
              "4 710-714    12                38194                   \n",
              "5 730-734    6                 31061                   \n",
              "6 785-789    2                 90                      \n",
              "  Inquiries.in.the.Last.6.Months Employment.Length\n",
              "1 3                              5 years          \n",
              "2 3                              4 years          \n",
              "3 1                              < 1 year         \n",
              "4 1                              10+ years        \n",
              "5 2                              10+ years        \n",
              "6 2                              n/a              "
            ]
          },
          "metadata": {}
        }
      ],
      "source": [
        "df <- read.csv(\"loan_data_train.csv\")\n",
        "head(df)\n"
      ]
    },
    {
      "cell_type": "code",
      "source": [
        "colnames(df) <- gsub(\"\\\\.\", \"_\", colnames(df))\n",
        "colnames(df)\n"
      ],
      "metadata": {
        "colab": {
          "base_uri": "https://localhost:8080/",
          "height": 52
        },
        "id": "wxNR2iSSvac_",
        "outputId": "d40b90e1-2bad-48b4-fd16-217fabdbf99a"
      },
      "execution_count": 3,
      "outputs": [
        {
          "output_type": "display_data",
          "data": {
            "text/html": [
              "<style>\n",
              ".list-inline {list-style: none; margin:0; padding: 0}\n",
              ".list-inline>li {display: inline-block}\n",
              ".list-inline>li:not(:last-child)::after {content: \"\\00b7\"; padding: 0 .5ex}\n",
              "</style>\n",
              "<ol class=list-inline><li>'ID'</li><li>'Amount_Requested'</li><li>'Amount_Funded_By_Investors'</li><li>'Interest_Rate'</li><li>'Loan_Length'</li><li>'Loan_Purpose'</li><li>'Debt_To_Income_Ratio'</li><li>'State'</li><li>'Home_Ownership'</li><li>'Monthly_Income'</li><li>'FICO_Range'</li><li>'Open_CREDIT_Lines'</li><li>'Revolving_CREDIT_Balance'</li><li>'Inquiries_in_the_Last_6_Months'</li><li>'Employment_Length'</li></ol>\n"
            ],
            "text/markdown": "1. 'ID'\n2. 'Amount_Requested'\n3. 'Amount_Funded_By_Investors'\n4. 'Interest_Rate'\n5. 'Loan_Length'\n6. 'Loan_Purpose'\n7. 'Debt_To_Income_Ratio'\n8. 'State'\n9. 'Home_Ownership'\n10. 'Monthly_Income'\n11. 'FICO_Range'\n12. 'Open_CREDIT_Lines'\n13. 'Revolving_CREDIT_Balance'\n14. 'Inquiries_in_the_Last_6_Months'\n15. 'Employment_Length'\n\n\n",
            "text/latex": "\\begin{enumerate*}\n\\item 'ID'\n\\item 'Amount\\_Requested'\n\\item 'Amount\\_Funded\\_By\\_Investors'\n\\item 'Interest\\_Rate'\n\\item 'Loan\\_Length'\n\\item 'Loan\\_Purpose'\n\\item 'Debt\\_To\\_Income\\_Ratio'\n\\item 'State'\n\\item 'Home\\_Ownership'\n\\item 'Monthly\\_Income'\n\\item 'FICO\\_Range'\n\\item 'Open\\_CREDIT\\_Lines'\n\\item 'Revolving\\_CREDIT\\_Balance'\n\\item 'Inquiries\\_in\\_the\\_Last\\_6\\_Months'\n\\item 'Employment\\_Length'\n\\end{enumerate*}\n",
            "text/plain": [
              " [1] \"ID\"                             \"Amount_Requested\"              \n",
              " [3] \"Amount_Funded_By_Investors\"     \"Interest_Rate\"                 \n",
              " [5] \"Loan_Length\"                    \"Loan_Purpose\"                  \n",
              " [7] \"Debt_To_Income_Ratio\"           \"State\"                         \n",
              " [9] \"Home_Ownership\"                 \"Monthly_Income\"                \n",
              "[11] \"FICO_Range\"                     \"Open_CREDIT_Lines\"             \n",
              "[13] \"Revolving_CREDIT_Balance\"       \"Inquiries_in_the_Last_6_Months\"\n",
              "[15] \"Employment_Length\"             "
            ]
          },
          "metadata": {}
        }
      ]
    },
    {
      "cell_type": "code",
      "source": [
        "str(df)"
      ],
      "metadata": {
        "colab": {
          "base_uri": "https://localhost:8080/"
        },
        "id": "fTEIJV2Qvhm2",
        "outputId": "f2d5da7e-2533-49be-db2a-c8e612d16c4c"
      },
      "execution_count": 4,
      "outputs": [
        {
          "output_type": "stream",
          "name": "stdout",
          "text": [
            "'data.frame':\t2200 obs. of  15 variables:\n",
            " $ ID                            : int  79542 75473 67265 80167 17240 32737 71685 38028 32119 84563 ...\n",
            " $ Amount_Requested              : chr  \"25000\" \"19750\" \"2100\" \"28000\" ...\n",
            " $ Amount_Funded_By_Investors    : chr  \"25000\" \"19750\" \"2100\" \"28000\" ...\n",
            " $ Interest_Rate                 : chr  \"18.49%\" \"17.27%\" \"14.33%\" \"16.29%\" ...\n",
            " $ Loan_Length                   : chr  \"60 months\" \"60 months\" \"36 months\" \"36 months\" ...\n",
            " $ Loan_Purpose                  : chr  \"debt_consolidation\" \"debt_consolidation\" \"major_purchase\" \"credit_card\" ...\n",
            " $ Debt_To_Income_Ratio          : chr  \"27.56%\" \"13.39%\" \"3.50%\" \"19.62%\" ...\n",
            " $ State                         : chr  \"VA\" \"NY\" \"LA\" \"NV\" ...\n",
            " $ Home_Ownership                : chr  \"MORTGAGE\" \"MORTGAGE\" \"OWN\" \"MORTGAGE\" ...\n",
            " $ Monthly_Income                : num  8607 6738 1000 7083 5833 ...\n",
            " $ FICO_Range                    : chr  \"720-724\" \"710-714\" \"690-694\" \"710-714\" ...\n",
            " $ Open_CREDIT_Lines             : chr  \"11\" \"14\" \"13\" \"12\" ...\n",
            " $ Revolving_CREDIT_Balance      : chr  \"15210\" \"19070\" \"893\" \"38194\" ...\n",
            " $ Inquiries_in_the_Last_6_Months: int  3 3 1 1 2 2 0 1 0 1 ...\n",
            " $ Employment_Length             : chr  \"5 years\" \"4 years\" \"< 1 year\" \"10+ years\" ...\n"
          ]
        }
      ]
    },
    {
      "cell_type": "code",
      "source": [
        "colSums(is.na(df))\n"
      ],
      "metadata": {
        "colab": {
          "base_uri": "https://localhost:8080/",
          "height": 52
        },
        "id": "sdgGqkXbvt1y",
        "outputId": "15ddfa96-23bd-4b77-ab28-97bf1cec0bdb"
      },
      "execution_count": 5,
      "outputs": [
        {
          "output_type": "display_data",
          "data": {
            "text/html": [
              "<style>\n",
              ".dl-inline {width: auto; margin:0; padding: 0}\n",
              ".dl-inline>dt, .dl-inline>dd {float: none; width: auto; display: inline-block}\n",
              ".dl-inline>dt::after {content: \":\\0020\"; padding-right: .5ex}\n",
              ".dl-inline>dt:not(:first-of-type) {padding-left: .5ex}\n",
              "</style><dl class=dl-inline><dt>ID</dt><dd>1</dd><dt>Amount_Requested</dt><dd>1</dd><dt>Amount_Funded_By_Investors</dt><dd>1</dd><dt>Interest_Rate</dt><dd>0</dd><dt>Loan_Length</dt><dd>1</dd><dt>Loan_Purpose</dt><dd>1</dd><dt>Debt_To_Income_Ratio</dt><dd>1</dd><dt>State</dt><dd>1</dd><dt>Home_Ownership</dt><dd>1</dd><dt>Monthly_Income</dt><dd>3</dd><dt>FICO_Range</dt><dd>0</dd><dt>Open_CREDIT_Lines</dt><dd>4</dd><dt>Revolving_CREDIT_Balance</dt><dd>3</dd><dt>Inquiries_in_the_Last_6_Months</dt><dd>3</dd><dt>Employment_Length</dt><dd>0</dd></dl>\n"
            ],
            "text/markdown": "ID\n:   1Amount_Requested\n:   1Amount_Funded_By_Investors\n:   1Interest_Rate\n:   0Loan_Length\n:   1Loan_Purpose\n:   1Debt_To_Income_Ratio\n:   1State\n:   1Home_Ownership\n:   1Monthly_Income\n:   3FICO_Range\n:   0Open_CREDIT_Lines\n:   4Revolving_CREDIT_Balance\n:   3Inquiries_in_the_Last_6_Months\n:   3Employment_Length\n:   0\n\n",
            "text/latex": "\\begin{description*}\n\\item[ID] 1\n\\item[Amount\\textbackslash{}\\_Requested] 1\n\\item[Amount\\textbackslash{}\\_Funded\\textbackslash{}\\_By\\textbackslash{}\\_Investors] 1\n\\item[Interest\\textbackslash{}\\_Rate] 0\n\\item[Loan\\textbackslash{}\\_Length] 1\n\\item[Loan\\textbackslash{}\\_Purpose] 1\n\\item[Debt\\textbackslash{}\\_To\\textbackslash{}\\_Income\\textbackslash{}\\_Ratio] 1\n\\item[State] 1\n\\item[Home\\textbackslash{}\\_Ownership] 1\n\\item[Monthly\\textbackslash{}\\_Income] 3\n\\item[FICO\\textbackslash{}\\_Range] 0\n\\item[Open\\textbackslash{}\\_CREDIT\\textbackslash{}\\_Lines] 4\n\\item[Revolving\\textbackslash{}\\_CREDIT\\textbackslash{}\\_Balance] 3\n\\item[Inquiries\\textbackslash{}\\_in\\textbackslash{}\\_the\\textbackslash{}\\_Last\\textbackslash{}\\_6\\textbackslash{}\\_Months] 3\n\\item[Employment\\textbackslash{}\\_Length] 0\n\\end{description*}\n",
            "text/plain": [
              "                            ID               Amount_Requested \n",
              "                             1                              1 \n",
              "    Amount_Funded_By_Investors                  Interest_Rate \n",
              "                             1                              0 \n",
              "                   Loan_Length                   Loan_Purpose \n",
              "                             1                              1 \n",
              "          Debt_To_Income_Ratio                          State \n",
              "                             1                              1 \n",
              "                Home_Ownership                 Monthly_Income \n",
              "                             1                              3 \n",
              "                    FICO_Range              Open_CREDIT_Lines \n",
              "                             0                              4 \n",
              "      Revolving_CREDIT_Balance Inquiries_in_the_Last_6_Months \n",
              "                             3                              3 \n",
              "             Employment_Length \n",
              "                             0 "
            ]
          },
          "metadata": {}
        }
      ]
    },
    {
      "cell_type": "code",
      "source": [
        "mode_value <- names(which.max(table(df$Employment_Length)))\n",
        "mode_value\n"
      ],
      "metadata": {
        "colab": {
          "base_uri": "https://localhost:8080/",
          "height": 34
        },
        "id": "I3NrrNKRv6e-",
        "outputId": "d3c5ba87-52a0-47ca-8f87-909508c54974"
      },
      "execution_count": 6,
      "outputs": [
        {
          "output_type": "display_data",
          "data": {
            "text/html": [
              "'10+ years'"
            ],
            "text/markdown": "'10+ years'",
            "text/latex": "'10+ years'",
            "text/plain": [
              "[1] \"10+ years\""
            ]
          },
          "metadata": {}
        }
      ]
    },
    {
      "cell_type": "code",
      "source": [
        "mode_value <- names(which.max(table(df$Employment_Length, useNA = \"no\")))\n",
        "df$Employment_Length[is.na(df$Employment_Length)] <- mode_value\n"
      ],
      "metadata": {
        "id": "Mm2e3J2Rv7v5"
      },
      "execution_count": 7,
      "outputs": []
    },
    {
      "cell_type": "code",
      "source": [
        "colSums(is.na(df))"
      ],
      "metadata": {
        "colab": {
          "base_uri": "https://localhost:8080/",
          "height": 52
        },
        "id": "cEk-Ty-awBrr",
        "outputId": "a1e84273-0beb-4e9b-cf00-4a4f7ebb3fca"
      },
      "execution_count": 8,
      "outputs": [
        {
          "output_type": "display_data",
          "data": {
            "text/html": [
              "<style>\n",
              ".dl-inline {width: auto; margin:0; padding: 0}\n",
              ".dl-inline>dt, .dl-inline>dd {float: none; width: auto; display: inline-block}\n",
              ".dl-inline>dt::after {content: \":\\0020\"; padding-right: .5ex}\n",
              ".dl-inline>dt:not(:first-of-type) {padding-left: .5ex}\n",
              "</style><dl class=dl-inline><dt>ID</dt><dd>1</dd><dt>Amount_Requested</dt><dd>1</dd><dt>Amount_Funded_By_Investors</dt><dd>1</dd><dt>Interest_Rate</dt><dd>0</dd><dt>Loan_Length</dt><dd>1</dd><dt>Loan_Purpose</dt><dd>1</dd><dt>Debt_To_Income_Ratio</dt><dd>1</dd><dt>State</dt><dd>1</dd><dt>Home_Ownership</dt><dd>1</dd><dt>Monthly_Income</dt><dd>3</dd><dt>FICO_Range</dt><dd>0</dd><dt>Open_CREDIT_Lines</dt><dd>4</dd><dt>Revolving_CREDIT_Balance</dt><dd>3</dd><dt>Inquiries_in_the_Last_6_Months</dt><dd>3</dd><dt>Employment_Length</dt><dd>0</dd></dl>\n"
            ],
            "text/markdown": "ID\n:   1Amount_Requested\n:   1Amount_Funded_By_Investors\n:   1Interest_Rate\n:   0Loan_Length\n:   1Loan_Purpose\n:   1Debt_To_Income_Ratio\n:   1State\n:   1Home_Ownership\n:   1Monthly_Income\n:   3FICO_Range\n:   0Open_CREDIT_Lines\n:   4Revolving_CREDIT_Balance\n:   3Inquiries_in_the_Last_6_Months\n:   3Employment_Length\n:   0\n\n",
            "text/latex": "\\begin{description*}\n\\item[ID] 1\n\\item[Amount\\textbackslash{}\\_Requested] 1\n\\item[Amount\\textbackslash{}\\_Funded\\textbackslash{}\\_By\\textbackslash{}\\_Investors] 1\n\\item[Interest\\textbackslash{}\\_Rate] 0\n\\item[Loan\\textbackslash{}\\_Length] 1\n\\item[Loan\\textbackslash{}\\_Purpose] 1\n\\item[Debt\\textbackslash{}\\_To\\textbackslash{}\\_Income\\textbackslash{}\\_Ratio] 1\n\\item[State] 1\n\\item[Home\\textbackslash{}\\_Ownership] 1\n\\item[Monthly\\textbackslash{}\\_Income] 3\n\\item[FICO\\textbackslash{}\\_Range] 0\n\\item[Open\\textbackslash{}\\_CREDIT\\textbackslash{}\\_Lines] 4\n\\item[Revolving\\textbackslash{}\\_CREDIT\\textbackslash{}\\_Balance] 3\n\\item[Inquiries\\textbackslash{}\\_in\\textbackslash{}\\_the\\textbackslash{}\\_Last\\textbackslash{}\\_6\\textbackslash{}\\_Months] 3\n\\item[Employment\\textbackslash{}\\_Length] 0\n\\end{description*}\n",
            "text/plain": [
              "                            ID               Amount_Requested \n",
              "                             1                              1 \n",
              "    Amount_Funded_By_Investors                  Interest_Rate \n",
              "                             1                              0 \n",
              "                   Loan_Length                   Loan_Purpose \n",
              "                             1                              1 \n",
              "          Debt_To_Income_Ratio                          State \n",
              "                             1                              1 \n",
              "                Home_Ownership                 Monthly_Income \n",
              "                             1                              3 \n",
              "                    FICO_Range              Open_CREDIT_Lines \n",
              "                             0                              4 \n",
              "      Revolving_CREDIT_Balance Inquiries_in_the_Last_6_Months \n",
              "                             3                              3 \n",
              "             Employment_Length \n",
              "                             0 "
            ]
          },
          "metadata": {}
        }
      ]
    },
    {
      "cell_type": "code",
      "source": [
        "df <- na.omit(df)\n"
      ],
      "metadata": {
        "id": "GyjQz-REwgId"
      },
      "execution_count": 9,
      "outputs": []
    },
    {
      "cell_type": "code",
      "source": [
        "str(df)"
      ],
      "metadata": {
        "colab": {
          "base_uri": "https://localhost:8080/"
        },
        "id": "pUK_QQO6Klbx",
        "outputId": "ea1e7216-cc72-4a04-cbcf-d57701f1965a"
      },
      "execution_count": 10,
      "outputs": [
        {
          "output_type": "stream",
          "name": "stdout",
          "text": [
            "'data.frame':\t2186 obs. of  15 variables:\n",
            " $ ID                            : int  79542 75473 67265 80167 17240 32737 71685 38028 32119 84563 ...\n",
            " $ Amount_Requested              : chr  \"25000\" \"19750\" \"2100\" \"28000\" ...\n",
            " $ Amount_Funded_By_Investors    : chr  \"25000\" \"19750\" \"2100\" \"28000\" ...\n",
            " $ Interest_Rate                 : chr  \"18.49%\" \"17.27%\" \"14.33%\" \"16.29%\" ...\n",
            " $ Loan_Length                   : chr  \"60 months\" \"60 months\" \"36 months\" \"36 months\" ...\n",
            " $ Loan_Purpose                  : chr  \"debt_consolidation\" \"debt_consolidation\" \"major_purchase\" \"credit_card\" ...\n",
            " $ Debt_To_Income_Ratio          : chr  \"27.56%\" \"13.39%\" \"3.50%\" \"19.62%\" ...\n",
            " $ State                         : chr  \"VA\" \"NY\" \"LA\" \"NV\" ...\n",
            " $ Home_Ownership                : chr  \"MORTGAGE\" \"MORTGAGE\" \"OWN\" \"MORTGAGE\" ...\n",
            " $ Monthly_Income                : num  8607 6738 1000 7083 5833 ...\n",
            " $ FICO_Range                    : chr  \"720-724\" \"710-714\" \"690-694\" \"710-714\" ...\n",
            " $ Open_CREDIT_Lines             : chr  \"11\" \"14\" \"13\" \"12\" ...\n",
            " $ Revolving_CREDIT_Balance      : chr  \"15210\" \"19070\" \"893\" \"38194\" ...\n",
            " $ Inquiries_in_the_Last_6_Months: int  3 3 1 1 2 2 0 1 0 1 ...\n",
            " $ Employment_Length             : chr  \"5 years\" \"4 years\" \"< 1 year\" \"10+ years\" ...\n",
            " - attr(*, \"na.action\")= 'omit' Named int [1:14] 330 366 572 603 730 948 1022 1225 1386 1505 ...\n",
            "  ..- attr(*, \"names\")= chr [1:14] \"330\" \"366\" \"572\" \"603\" ...\n"
          ]
        }
      ]
    },
    {
      "cell_type": "code",
      "source": [
        "colSums(is.na(df))"
      ],
      "metadata": {
        "colab": {
          "base_uri": "https://localhost:8080/",
          "height": 52
        },
        "id": "R3OME2U3wmPL",
        "outputId": "01b99bff-ade6-401f-c0a7-94f24c7abbe3"
      },
      "execution_count": 11,
      "outputs": [
        {
          "output_type": "display_data",
          "data": {
            "text/html": [
              "<style>\n",
              ".dl-inline {width: auto; margin:0; padding: 0}\n",
              ".dl-inline>dt, .dl-inline>dd {float: none; width: auto; display: inline-block}\n",
              ".dl-inline>dt::after {content: \":\\0020\"; padding-right: .5ex}\n",
              ".dl-inline>dt:not(:first-of-type) {padding-left: .5ex}\n",
              "</style><dl class=dl-inline><dt>ID</dt><dd>0</dd><dt>Amount_Requested</dt><dd>0</dd><dt>Amount_Funded_By_Investors</dt><dd>0</dd><dt>Interest_Rate</dt><dd>0</dd><dt>Loan_Length</dt><dd>0</dd><dt>Loan_Purpose</dt><dd>0</dd><dt>Debt_To_Income_Ratio</dt><dd>0</dd><dt>State</dt><dd>0</dd><dt>Home_Ownership</dt><dd>0</dd><dt>Monthly_Income</dt><dd>0</dd><dt>FICO_Range</dt><dd>0</dd><dt>Open_CREDIT_Lines</dt><dd>0</dd><dt>Revolving_CREDIT_Balance</dt><dd>0</dd><dt>Inquiries_in_the_Last_6_Months</dt><dd>0</dd><dt>Employment_Length</dt><dd>0</dd></dl>\n"
            ],
            "text/markdown": "ID\n:   0Amount_Requested\n:   0Amount_Funded_By_Investors\n:   0Interest_Rate\n:   0Loan_Length\n:   0Loan_Purpose\n:   0Debt_To_Income_Ratio\n:   0State\n:   0Home_Ownership\n:   0Monthly_Income\n:   0FICO_Range\n:   0Open_CREDIT_Lines\n:   0Revolving_CREDIT_Balance\n:   0Inquiries_in_the_Last_6_Months\n:   0Employment_Length\n:   0\n\n",
            "text/latex": "\\begin{description*}\n\\item[ID] 0\n\\item[Amount\\textbackslash{}\\_Requested] 0\n\\item[Amount\\textbackslash{}\\_Funded\\textbackslash{}\\_By\\textbackslash{}\\_Investors] 0\n\\item[Interest\\textbackslash{}\\_Rate] 0\n\\item[Loan\\textbackslash{}\\_Length] 0\n\\item[Loan\\textbackslash{}\\_Purpose] 0\n\\item[Debt\\textbackslash{}\\_To\\textbackslash{}\\_Income\\textbackslash{}\\_Ratio] 0\n\\item[State] 0\n\\item[Home\\textbackslash{}\\_Ownership] 0\n\\item[Monthly\\textbackslash{}\\_Income] 0\n\\item[FICO\\textbackslash{}\\_Range] 0\n\\item[Open\\textbackslash{}\\_CREDIT\\textbackslash{}\\_Lines] 0\n\\item[Revolving\\textbackslash{}\\_CREDIT\\textbackslash{}\\_Balance] 0\n\\item[Inquiries\\textbackslash{}\\_in\\textbackslash{}\\_the\\textbackslash{}\\_Last\\textbackslash{}\\_6\\textbackslash{}\\_Months] 0\n\\item[Employment\\textbackslash{}\\_Length] 0\n\\end{description*}\n",
            "text/plain": [
              "                            ID               Amount_Requested \n",
              "                             0                              0 \n",
              "    Amount_Funded_By_Investors                  Interest_Rate \n",
              "                             0                              0 \n",
              "                   Loan_Length                   Loan_Purpose \n",
              "                             0                              0 \n",
              "          Debt_To_Income_Ratio                          State \n",
              "                             0                              0 \n",
              "                Home_Ownership                 Monthly_Income \n",
              "                             0                              0 \n",
              "                    FICO_Range              Open_CREDIT_Lines \n",
              "                             0                              0 \n",
              "      Revolving_CREDIT_Balance Inquiries_in_the_Last_6_Months \n",
              "                             0                              0 \n",
              "             Employment_Length \n",
              "                             0 "
            ]
          },
          "metadata": {}
        }
      ]
    },
    {
      "cell_type": "markdown",
      "source": [
        "# Modificación de tipos de datos"
      ],
      "metadata": {
        "id": "LuArsPbUxDOz"
      }
    },
    {
      "cell_type": "code",
      "source": [
        "cols_to_convert <- c(\"Amount_Requested\", \"Amount_Funded_By_Investors\",\n",
        "                     \"Open_CREDIT_Lines\", \"Revolving_CREDIT_Balance\",\n",
        "                     \"Inquiries_in_the_Last_6_Months\")\n",
        "\n",
        "df[cols_to_convert] <- lapply(df[cols_to_convert], as.numeric)\n"
      ],
      "metadata": {
        "id": "jcVujwO7xHH4"
      },
      "execution_count": 12,
      "outputs": []
    },
    {
      "cell_type": "code",
      "source": [
        "head(df)"
      ],
      "metadata": {
        "colab": {
          "base_uri": "https://localhost:8080/",
          "height": 306
        },
        "id": "IejePldqxVqF",
        "outputId": "ae87db07-0b66-49c6-b1c7-5329c17c6900"
      },
      "execution_count": 13,
      "outputs": [
        {
          "output_type": "display_data",
          "data": {
            "text/html": [
              "<table class=\"dataframe\">\n",
              "<caption>A data.frame: 6 × 15</caption>\n",
              "<thead>\n",
              "\t<tr><th></th><th scope=col>ID</th><th scope=col>Amount_Requested</th><th scope=col>Amount_Funded_By_Investors</th><th scope=col>Interest_Rate</th><th scope=col>Loan_Length</th><th scope=col>Loan_Purpose</th><th scope=col>Debt_To_Income_Ratio</th><th scope=col>State</th><th scope=col>Home_Ownership</th><th scope=col>Monthly_Income</th><th scope=col>FICO_Range</th><th scope=col>Open_CREDIT_Lines</th><th scope=col>Revolving_CREDIT_Balance</th><th scope=col>Inquiries_in_the_Last_6_Months</th><th scope=col>Employment_Length</th></tr>\n",
              "\t<tr><th></th><th scope=col>&lt;int&gt;</th><th scope=col>&lt;dbl&gt;</th><th scope=col>&lt;dbl&gt;</th><th scope=col>&lt;chr&gt;</th><th scope=col>&lt;chr&gt;</th><th scope=col>&lt;chr&gt;</th><th scope=col>&lt;chr&gt;</th><th scope=col>&lt;chr&gt;</th><th scope=col>&lt;chr&gt;</th><th scope=col>&lt;dbl&gt;</th><th scope=col>&lt;chr&gt;</th><th scope=col>&lt;dbl&gt;</th><th scope=col>&lt;dbl&gt;</th><th scope=col>&lt;dbl&gt;</th><th scope=col>&lt;chr&gt;</th></tr>\n",
              "</thead>\n",
              "<tbody>\n",
              "\t<tr><th scope=row>1</th><td>79542</td><td>25000</td><td>25000.00</td><td>18.49%</td><td>60 months</td><td>debt_consolidation</td><td>27.56%</td><td>VA</td><td>MORTGAGE</td><td>8606.56</td><td>720-724</td><td>11</td><td>15210</td><td>3</td><td>5 years  </td></tr>\n",
              "\t<tr><th scope=row>2</th><td>75473</td><td>19750</td><td>19750.00</td><td>17.27%</td><td>60 months</td><td>debt_consolidation</td><td>13.39%</td><td>NY</td><td>MORTGAGE</td><td>6737.50</td><td>710-714</td><td>14</td><td>19070</td><td>3</td><td>4 years  </td></tr>\n",
              "\t<tr><th scope=row>3</th><td>67265</td><td> 2100</td><td> 2100.00</td><td>14.33%</td><td>36 months</td><td><span style=white-space:pre-wrap>major_purchase    </span></td><td>3.50% </td><td>LA</td><td><span style=white-space:pre-wrap>OWN     </span></td><td>1000.00</td><td>690-694</td><td>13</td><td><span style=white-space:pre-wrap>  893</span></td><td>1</td><td>&lt; 1 year </td></tr>\n",
              "\t<tr><th scope=row>4</th><td>80167</td><td>28000</td><td>28000.00</td><td>16.29%</td><td>36 months</td><td>credit_card       </td><td>19.62%</td><td>NV</td><td>MORTGAGE</td><td>7083.33</td><td>710-714</td><td>12</td><td>38194</td><td>1</td><td>10+ years</td></tr>\n",
              "\t<tr><th scope=row>5</th><td>17240</td><td>24250</td><td>17431.82</td><td>12.23%</td><td>60 months</td><td>credit_card       </td><td>23.79%</td><td>OH</td><td>MORTGAGE</td><td>5833.33</td><td>730-734</td><td> 6</td><td>31061</td><td>2</td><td>10+ years</td></tr>\n",
              "\t<tr><th scope=row>6</th><td>32737</td><td> 5400</td><td> 5375.00</td><td>8.90% </td><td>36 months</td><td>small_business    </td><td>6.27% </td><td>OH</td><td>RENT    </td><td>3000.00</td><td>785-789</td><td> 2</td><td>   90</td><td>2</td><td>n/a      </td></tr>\n",
              "</tbody>\n",
              "</table>\n"
            ],
            "text/markdown": "\nA data.frame: 6 × 15\n\n| <!--/--> | ID &lt;int&gt; | Amount_Requested &lt;dbl&gt; | Amount_Funded_By_Investors &lt;dbl&gt; | Interest_Rate &lt;chr&gt; | Loan_Length &lt;chr&gt; | Loan_Purpose &lt;chr&gt; | Debt_To_Income_Ratio &lt;chr&gt; | State &lt;chr&gt; | Home_Ownership &lt;chr&gt; | Monthly_Income &lt;dbl&gt; | FICO_Range &lt;chr&gt; | Open_CREDIT_Lines &lt;dbl&gt; | Revolving_CREDIT_Balance &lt;dbl&gt; | Inquiries_in_the_Last_6_Months &lt;dbl&gt; | Employment_Length &lt;chr&gt; |\n|---|---|---|---|---|---|---|---|---|---|---|---|---|---|---|---|\n| 1 | 79542 | 25000 | 25000.00 | 18.49% | 60 months | debt_consolidation | 27.56% | VA | MORTGAGE | 8606.56 | 720-724 | 11 | 15210 | 3 | 5 years   |\n| 2 | 75473 | 19750 | 19750.00 | 17.27% | 60 months | debt_consolidation | 13.39% | NY | MORTGAGE | 6737.50 | 710-714 | 14 | 19070 | 3 | 4 years   |\n| 3 | 67265 |  2100 |  2100.00 | 14.33% | 36 months | major_purchase     | 3.50%  | LA | OWN      | 1000.00 | 690-694 | 13 |   893 | 1 | &lt; 1 year  |\n| 4 | 80167 | 28000 | 28000.00 | 16.29% | 36 months | credit_card        | 19.62% | NV | MORTGAGE | 7083.33 | 710-714 | 12 | 38194 | 1 | 10+ years |\n| 5 | 17240 | 24250 | 17431.82 | 12.23% | 60 months | credit_card        | 23.79% | OH | MORTGAGE | 5833.33 | 730-734 |  6 | 31061 | 2 | 10+ years |\n| 6 | 32737 |  5400 |  5375.00 | 8.90%  | 36 months | small_business     | 6.27%  | OH | RENT     | 3000.00 | 785-789 |  2 |    90 | 2 | n/a       |\n\n",
            "text/latex": "A data.frame: 6 × 15\n\\begin{tabular}{r|lllllllllllllll}\n  & ID & Amount\\_Requested & Amount\\_Funded\\_By\\_Investors & Interest\\_Rate & Loan\\_Length & Loan\\_Purpose & Debt\\_To\\_Income\\_Ratio & State & Home\\_Ownership & Monthly\\_Income & FICO\\_Range & Open\\_CREDIT\\_Lines & Revolving\\_CREDIT\\_Balance & Inquiries\\_in\\_the\\_Last\\_6\\_Months & Employment\\_Length\\\\\n  & <int> & <dbl> & <dbl> & <chr> & <chr> & <chr> & <chr> & <chr> & <chr> & <dbl> & <chr> & <dbl> & <dbl> & <dbl> & <chr>\\\\\n\\hline\n\t1 & 79542 & 25000 & 25000.00 & 18.49\\% & 60 months & debt\\_consolidation & 27.56\\% & VA & MORTGAGE & 8606.56 & 720-724 & 11 & 15210 & 3 & 5 years  \\\\\n\t2 & 75473 & 19750 & 19750.00 & 17.27\\% & 60 months & debt\\_consolidation & 13.39\\% & NY & MORTGAGE & 6737.50 & 710-714 & 14 & 19070 & 3 & 4 years  \\\\\n\t3 & 67265 &  2100 &  2100.00 & 14.33\\% & 36 months & major\\_purchase     & 3.50\\%  & LA & OWN      & 1000.00 & 690-694 & 13 &   893 & 1 & < 1 year \\\\\n\t4 & 80167 & 28000 & 28000.00 & 16.29\\% & 36 months & credit\\_card        & 19.62\\% & NV & MORTGAGE & 7083.33 & 710-714 & 12 & 38194 & 1 & 10+ years\\\\\n\t5 & 17240 & 24250 & 17431.82 & 12.23\\% & 60 months & credit\\_card        & 23.79\\% & OH & MORTGAGE & 5833.33 & 730-734 &  6 & 31061 & 2 & 10+ years\\\\\n\t6 & 32737 &  5400 &  5375.00 & 8.90\\%  & 36 months & small\\_business     & 6.27\\%  & OH & RENT     & 3000.00 & 785-789 &  2 &    90 & 2 & n/a      \\\\\n\\end{tabular}\n",
            "text/plain": [
              "  ID    Amount_Requested Amount_Funded_By_Investors Interest_Rate Loan_Length\n",
              "1 79542 25000            25000.00                   18.49%        60 months  \n",
              "2 75473 19750            19750.00                   17.27%        60 months  \n",
              "3 67265  2100             2100.00                   14.33%        36 months  \n",
              "4 80167 28000            28000.00                   16.29%        36 months  \n",
              "5 17240 24250            17431.82                   12.23%        60 months  \n",
              "6 32737  5400             5375.00                   8.90%         36 months  \n",
              "  Loan_Purpose       Debt_To_Income_Ratio State Home_Ownership Monthly_Income\n",
              "1 debt_consolidation 27.56%               VA    MORTGAGE       8606.56       \n",
              "2 debt_consolidation 13.39%               NY    MORTGAGE       6737.50       \n",
              "3 major_purchase     3.50%                LA    OWN            1000.00       \n",
              "4 credit_card        19.62%               NV    MORTGAGE       7083.33       \n",
              "5 credit_card        23.79%               OH    MORTGAGE       5833.33       \n",
              "6 small_business     6.27%                OH    RENT           3000.00       \n",
              "  FICO_Range Open_CREDIT_Lines Revolving_CREDIT_Balance\n",
              "1 720-724    11                15210                   \n",
              "2 710-714    14                19070                   \n",
              "3 690-694    13                  893                   \n",
              "4 710-714    12                38194                   \n",
              "5 730-734     6                31061                   \n",
              "6 785-789     2                   90                   \n",
              "  Inquiries_in_the_Last_6_Months Employment_Length\n",
              "1 3                              5 years          \n",
              "2 3                              4 years          \n",
              "3 1                              < 1 year         \n",
              "4 1                              10+ years        \n",
              "5 2                              10+ years        \n",
              "6 2                              n/a              "
            ]
          },
          "metadata": {}
        }
      ]
    },
    {
      "cell_type": "code",
      "source": [
        "df$Interest_Rate <- as.numeric(gsub(\"%\", \"\", df$Interest_Rate))\n"
      ],
      "metadata": {
        "id": "ifnfoVmByMRF"
      },
      "execution_count": 14,
      "outputs": []
    },
    {
      "cell_type": "code",
      "source": [
        "df$Loan_Length <- sapply(strsplit(df$Loan_Length, \" \"), `[`, 1)\n"
      ],
      "metadata": {
        "id": "LIJE0j21yto6"
      },
      "execution_count": 15,
      "outputs": []
    },
    {
      "cell_type": "code",
      "source": [
        "df$Loan_Length <- as.numeric(df$Loan_Length)\n"
      ],
      "metadata": {
        "id": "yNlXUjJ9zAa6"
      },
      "execution_count": 16,
      "outputs": []
    },
    {
      "cell_type": "code",
      "source": [
        "df$Debt_To_Income_Ratio <- as.numeric(gsub(\"%\", \"\", df$Debt_To_Income_Ratio))\n"
      ],
      "metadata": {
        "id": "IgHdtwRFzvJ5"
      },
      "execution_count": 17,
      "outputs": []
    },
    {
      "cell_type": "code",
      "source": [
        "head(df)"
      ],
      "metadata": {
        "colab": {
          "base_uri": "https://localhost:8080/",
          "height": 306
        },
        "id": "JHWBsMR3zwlh",
        "outputId": "9b1c03b8-dad9-4f2a-ad12-79a5250af62a"
      },
      "execution_count": 18,
      "outputs": [
        {
          "output_type": "display_data",
          "data": {
            "text/html": [
              "<table class=\"dataframe\">\n",
              "<caption>A data.frame: 6 × 15</caption>\n",
              "<thead>\n",
              "\t<tr><th></th><th scope=col>ID</th><th scope=col>Amount_Requested</th><th scope=col>Amount_Funded_By_Investors</th><th scope=col>Interest_Rate</th><th scope=col>Loan_Length</th><th scope=col>Loan_Purpose</th><th scope=col>Debt_To_Income_Ratio</th><th scope=col>State</th><th scope=col>Home_Ownership</th><th scope=col>Monthly_Income</th><th scope=col>FICO_Range</th><th scope=col>Open_CREDIT_Lines</th><th scope=col>Revolving_CREDIT_Balance</th><th scope=col>Inquiries_in_the_Last_6_Months</th><th scope=col>Employment_Length</th></tr>\n",
              "\t<tr><th></th><th scope=col>&lt;int&gt;</th><th scope=col>&lt;dbl&gt;</th><th scope=col>&lt;dbl&gt;</th><th scope=col>&lt;dbl&gt;</th><th scope=col>&lt;dbl&gt;</th><th scope=col>&lt;chr&gt;</th><th scope=col>&lt;dbl&gt;</th><th scope=col>&lt;chr&gt;</th><th scope=col>&lt;chr&gt;</th><th scope=col>&lt;dbl&gt;</th><th scope=col>&lt;chr&gt;</th><th scope=col>&lt;dbl&gt;</th><th scope=col>&lt;dbl&gt;</th><th scope=col>&lt;dbl&gt;</th><th scope=col>&lt;chr&gt;</th></tr>\n",
              "</thead>\n",
              "<tbody>\n",
              "\t<tr><th scope=row>1</th><td>79542</td><td>25000</td><td>25000.00</td><td>18.49</td><td>60</td><td>debt_consolidation</td><td>27.56</td><td>VA</td><td>MORTGAGE</td><td>8606.56</td><td>720-724</td><td>11</td><td>15210</td><td>3</td><td>5 years  </td></tr>\n",
              "\t<tr><th scope=row>2</th><td>75473</td><td>19750</td><td>19750.00</td><td>17.27</td><td>60</td><td>debt_consolidation</td><td>13.39</td><td>NY</td><td>MORTGAGE</td><td>6737.50</td><td>710-714</td><td>14</td><td>19070</td><td>3</td><td>4 years  </td></tr>\n",
              "\t<tr><th scope=row>3</th><td>67265</td><td> 2100</td><td> 2100.00</td><td>14.33</td><td>36</td><td><span style=white-space:pre-wrap>major_purchase    </span></td><td> 3.50</td><td>LA</td><td><span style=white-space:pre-wrap>OWN     </span></td><td>1000.00</td><td>690-694</td><td>13</td><td><span style=white-space:pre-wrap>  893</span></td><td>1</td><td>&lt; 1 year </td></tr>\n",
              "\t<tr><th scope=row>4</th><td>80167</td><td>28000</td><td>28000.00</td><td>16.29</td><td>36</td><td>credit_card       </td><td>19.62</td><td>NV</td><td>MORTGAGE</td><td>7083.33</td><td>710-714</td><td>12</td><td>38194</td><td>1</td><td>10+ years</td></tr>\n",
              "\t<tr><th scope=row>5</th><td>17240</td><td>24250</td><td>17431.82</td><td>12.23</td><td>60</td><td>credit_card       </td><td>23.79</td><td>OH</td><td>MORTGAGE</td><td>5833.33</td><td>730-734</td><td> 6</td><td>31061</td><td>2</td><td>10+ years</td></tr>\n",
              "\t<tr><th scope=row>6</th><td>32737</td><td> 5400</td><td> 5375.00</td><td> 8.90</td><td>36</td><td>small_business    </td><td> 6.27</td><td>OH</td><td>RENT    </td><td>3000.00</td><td>785-789</td><td> 2</td><td>   90</td><td>2</td><td>n/a      </td></tr>\n",
              "</tbody>\n",
              "</table>\n"
            ],
            "text/markdown": "\nA data.frame: 6 × 15\n\n| <!--/--> | ID &lt;int&gt; | Amount_Requested &lt;dbl&gt; | Amount_Funded_By_Investors &lt;dbl&gt; | Interest_Rate &lt;dbl&gt; | Loan_Length &lt;dbl&gt; | Loan_Purpose &lt;chr&gt; | Debt_To_Income_Ratio &lt;dbl&gt; | State &lt;chr&gt; | Home_Ownership &lt;chr&gt; | Monthly_Income &lt;dbl&gt; | FICO_Range &lt;chr&gt; | Open_CREDIT_Lines &lt;dbl&gt; | Revolving_CREDIT_Balance &lt;dbl&gt; | Inquiries_in_the_Last_6_Months &lt;dbl&gt; | Employment_Length &lt;chr&gt; |\n|---|---|---|---|---|---|---|---|---|---|---|---|---|---|---|---|\n| 1 | 79542 | 25000 | 25000.00 | 18.49 | 60 | debt_consolidation | 27.56 | VA | MORTGAGE | 8606.56 | 720-724 | 11 | 15210 | 3 | 5 years   |\n| 2 | 75473 | 19750 | 19750.00 | 17.27 | 60 | debt_consolidation | 13.39 | NY | MORTGAGE | 6737.50 | 710-714 | 14 | 19070 | 3 | 4 years   |\n| 3 | 67265 |  2100 |  2100.00 | 14.33 | 36 | major_purchase     |  3.50 | LA | OWN      | 1000.00 | 690-694 | 13 |   893 | 1 | &lt; 1 year  |\n| 4 | 80167 | 28000 | 28000.00 | 16.29 | 36 | credit_card        | 19.62 | NV | MORTGAGE | 7083.33 | 710-714 | 12 | 38194 | 1 | 10+ years |\n| 5 | 17240 | 24250 | 17431.82 | 12.23 | 60 | credit_card        | 23.79 | OH | MORTGAGE | 5833.33 | 730-734 |  6 | 31061 | 2 | 10+ years |\n| 6 | 32737 |  5400 |  5375.00 |  8.90 | 36 | small_business     |  6.27 | OH | RENT     | 3000.00 | 785-789 |  2 |    90 | 2 | n/a       |\n\n",
            "text/latex": "A data.frame: 6 × 15\n\\begin{tabular}{r|lllllllllllllll}\n  & ID & Amount\\_Requested & Amount\\_Funded\\_By\\_Investors & Interest\\_Rate & Loan\\_Length & Loan\\_Purpose & Debt\\_To\\_Income\\_Ratio & State & Home\\_Ownership & Monthly\\_Income & FICO\\_Range & Open\\_CREDIT\\_Lines & Revolving\\_CREDIT\\_Balance & Inquiries\\_in\\_the\\_Last\\_6\\_Months & Employment\\_Length\\\\\n  & <int> & <dbl> & <dbl> & <dbl> & <dbl> & <chr> & <dbl> & <chr> & <chr> & <dbl> & <chr> & <dbl> & <dbl> & <dbl> & <chr>\\\\\n\\hline\n\t1 & 79542 & 25000 & 25000.00 & 18.49 & 60 & debt\\_consolidation & 27.56 & VA & MORTGAGE & 8606.56 & 720-724 & 11 & 15210 & 3 & 5 years  \\\\\n\t2 & 75473 & 19750 & 19750.00 & 17.27 & 60 & debt\\_consolidation & 13.39 & NY & MORTGAGE & 6737.50 & 710-714 & 14 & 19070 & 3 & 4 years  \\\\\n\t3 & 67265 &  2100 &  2100.00 & 14.33 & 36 & major\\_purchase     &  3.50 & LA & OWN      & 1000.00 & 690-694 & 13 &   893 & 1 & < 1 year \\\\\n\t4 & 80167 & 28000 & 28000.00 & 16.29 & 36 & credit\\_card        & 19.62 & NV & MORTGAGE & 7083.33 & 710-714 & 12 & 38194 & 1 & 10+ years\\\\\n\t5 & 17240 & 24250 & 17431.82 & 12.23 & 60 & credit\\_card        & 23.79 & OH & MORTGAGE & 5833.33 & 730-734 &  6 & 31061 & 2 & 10+ years\\\\\n\t6 & 32737 &  5400 &  5375.00 &  8.90 & 36 & small\\_business     &  6.27 & OH & RENT     & 3000.00 & 785-789 &  2 &    90 & 2 & n/a      \\\\\n\\end{tabular}\n",
            "text/plain": [
              "  ID    Amount_Requested Amount_Funded_By_Investors Interest_Rate Loan_Length\n",
              "1 79542 25000            25000.00                   18.49         60         \n",
              "2 75473 19750            19750.00                   17.27         60         \n",
              "3 67265  2100             2100.00                   14.33         36         \n",
              "4 80167 28000            28000.00                   16.29         36         \n",
              "5 17240 24250            17431.82                   12.23         60         \n",
              "6 32737  5400             5375.00                    8.90         36         \n",
              "  Loan_Purpose       Debt_To_Income_Ratio State Home_Ownership Monthly_Income\n",
              "1 debt_consolidation 27.56                VA    MORTGAGE       8606.56       \n",
              "2 debt_consolidation 13.39                NY    MORTGAGE       6737.50       \n",
              "3 major_purchase      3.50                LA    OWN            1000.00       \n",
              "4 credit_card        19.62                NV    MORTGAGE       7083.33       \n",
              "5 credit_card        23.79                OH    MORTGAGE       5833.33       \n",
              "6 small_business      6.27                OH    RENT           3000.00       \n",
              "  FICO_Range Open_CREDIT_Lines Revolving_CREDIT_Balance\n",
              "1 720-724    11                15210                   \n",
              "2 710-714    14                19070                   \n",
              "3 690-694    13                  893                   \n",
              "4 710-714    12                38194                   \n",
              "5 730-734     6                31061                   \n",
              "6 785-789     2                   90                   \n",
              "  Inquiries_in_the_Last_6_Months Employment_Length\n",
              "1 3                              5 years          \n",
              "2 3                              4 years          \n",
              "3 1                              < 1 year         \n",
              "4 1                              10+ years        \n",
              "5 2                              10+ years        \n",
              "6 2                              n/a              "
            ]
          },
          "metadata": {}
        }
      ]
    },
    {
      "cell_type": "code",
      "source": [
        "df$Employment_Length <- as.numeric(gsub(\"<|years|year|\\\\+\", \"\", df$Employment_Length))\n"
      ],
      "metadata": {
        "id": "Z1lSGtmJ0P2h"
      },
      "execution_count": 19,
      "outputs": []
    },
    {
      "cell_type": "code",
      "source": [
        "library(tidyr)  # Para separar columnas\n",
        "\n",
        "# Separar la columna en dos nuevas columnas\n",
        "df <- separate(df, FICO_Range, into = c(\"Min_Fic\", \"Max_Fic\"), sep = \"-\", convert = TRUE)\n",
        "\n",
        "# Calcular la media de las dos columnas\n",
        "df$Fico_Mean <- (df$Min_Fic + df$Max_Fic) / 2\n",
        "\n",
        "# Ver el dataframe y los tipos de datos\n",
        "str(df)\n"
      ],
      "metadata": {
        "colab": {
          "base_uri": "https://localhost:8080/"
        },
        "id": "4ignUe9j0n-c",
        "outputId": "0172d1ca-c932-4faf-e6f8-24748ae993fe"
      },
      "execution_count": 20,
      "outputs": [
        {
          "output_type": "stream",
          "name": "stdout",
          "text": [
            "'data.frame':\t2186 obs. of  17 variables:\n",
            " $ ID                            : int  79542 75473 67265 80167 17240 32737 71685 38028 32119 84563 ...\n",
            " $ Amount_Requested              : num  25000 19750 2100 28000 24250 ...\n",
            " $ Amount_Funded_By_Investors    : num  25000 19750 2100 28000 17432 ...\n",
            " $ Interest_Rate                 : num  18.5 17.3 14.3 16.3 12.2 ...\n",
            " $ Loan_Length                   : num  60 60 36 36 60 36 60 36 60 36 ...\n",
            " $ Loan_Purpose                  : chr  \"debt_consolidation\" \"debt_consolidation\" \"major_purchase\" \"credit_card\" ...\n",
            " $ Debt_To_Income_Ratio          : num  27.6 13.4 3.5 19.6 23.8 ...\n",
            " $ State                         : chr  \"VA\" \"NY\" \"LA\" \"NV\" ...\n",
            " $ Home_Ownership                : chr  \"MORTGAGE\" \"MORTGAGE\" \"OWN\" \"MORTGAGE\" ...\n",
            " $ Monthly_Income                : num  8607 6738 1000 7083 5833 ...\n",
            " $ Min_Fic                       : int  720 710 690 710 730 785 665 735 740 765 ...\n",
            " $ Max_Fic                       : int  724 714 694 714 734 789 669 739 744 769 ...\n",
            " $ Open_CREDIT_Lines             : num  11 14 13 12 6 2 5 11 24 7 ...\n",
            " $ Revolving_CREDIT_Balance      : num  15210 19070 893 38194 31061 ...\n",
            " $ Inquiries_in_the_Last_6_Months: num  3 3 1 1 2 2 0 1 0 1 ...\n",
            " $ Employment_Length             : num  5 4 1 10 10 NA 2 1 NA NA ...\n",
            " $ Fico_Mean                     : num  722 712 692 712 732 787 667 737 742 767 ...\n"
          ]
        }
      ]
    },
    {
      "cell_type": "code",
      "source": [
        "df <- df[, !names(df) %in% c(\"ID\", \"FICO_Range\", \"Min_Fic\", \"Max_Fic\")]\n"
      ],
      "metadata": {
        "id": "C6hTmFU6015F"
      },
      "execution_count": 21,
      "outputs": []
    },
    {
      "cell_type": "code",
      "source": [
        "unique(df$Home_Ownership)\n"
      ],
      "metadata": {
        "colab": {
          "base_uri": "https://localhost:8080/",
          "height": 34
        },
        "id": "AerZCUI702wU",
        "outputId": "d8cc3612-afbd-48e0-b990-19a26e066a5e"
      },
      "execution_count": 22,
      "outputs": [
        {
          "output_type": "display_data",
          "data": {
            "text/html": [
              "<style>\n",
              ".list-inline {list-style: none; margin:0; padding: 0}\n",
              ".list-inline>li {display: inline-block}\n",
              ".list-inline>li:not(:last-child)::after {content: \"\\00b7\"; padding: 0 .5ex}\n",
              "</style>\n",
              "<ol class=list-inline><li>'MORTGAGE'</li><li>'OWN'</li><li>'RENT'</li><li>'OTHER'</li></ol>\n"
            ],
            "text/markdown": "1. 'MORTGAGE'\n2. 'OWN'\n3. 'RENT'\n4. 'OTHER'\n\n\n",
            "text/latex": "\\begin{enumerate*}\n\\item 'MORTGAGE'\n\\item 'OWN'\n\\item 'RENT'\n\\item 'OTHER'\n\\end{enumerate*}\n",
            "text/plain": [
              "[1] \"MORTGAGE\" \"OWN\"      \"RENT\"     \"OTHER\"   "
            ]
          },
          "metadata": {}
        }
      ]
    },
    {
      "cell_type": "code",
      "source": [
        "unique(df$State)\n"
      ],
      "metadata": {
        "colab": {
          "base_uri": "https://localhost:8080/",
          "height": 34
        },
        "id": "9NWxFRbx1ALs",
        "outputId": "9acb504f-1a3f-4485-cb73-ff58543d4c8e"
      },
      "execution_count": 23,
      "outputs": [
        {
          "output_type": "display_data",
          "data": {
            "text/html": [
              "<style>\n",
              ".list-inline {list-style: none; margin:0; padding: 0}\n",
              ".list-inline>li {display: inline-block}\n",
              ".list-inline>li:not(:last-child)::after {content: \"\\00b7\"; padding: 0 .5ex}\n",
              "</style>\n",
              "<ol class=list-inline><li>'VA'</li><li>'NY'</li><li>'LA'</li><li>'NV'</li><li>'OH'</li><li>'CA'</li><li>'IL'</li><li>'NC'</li><li>'NJ'</li><li>'WA'</li><li>'CT'</li><li>'AK'</li><li>'CO'</li><li>'MA'</li><li>'TX'</li><li>'VT'</li><li>'OK'</li><li>'FL'</li><li>'NH'</li><li>'GA'</li><li>'MN'</li><li>'MD'</li><li>'WY'</li><li>'PA'</li><li>'AL'</li><li>'AZ'</li><li>'SC'</li><li>'MI'</li><li>'OR'</li><li>'RI'</li><li>'NM'</li><li>'MO'</li><li>'WI'</li><li>'KY'</li><li>'UT'</li><li>'AR'</li><li>'WV'</li><li>'DE'</li><li>'MT'</li><li>'KS'</li><li>'DC'</li><li>'SD'</li><li>'HI'</li><li>'IN'</li><li>'MS'</li><li>'.'</li></ol>\n"
            ],
            "text/markdown": "1. 'VA'\n2. 'NY'\n3. 'LA'\n4. 'NV'\n5. 'OH'\n6. 'CA'\n7. 'IL'\n8. 'NC'\n9. 'NJ'\n10. 'WA'\n11. 'CT'\n12. 'AK'\n13. 'CO'\n14. 'MA'\n15. 'TX'\n16. 'VT'\n17. 'OK'\n18. 'FL'\n19. 'NH'\n20. 'GA'\n21. 'MN'\n22. 'MD'\n23. 'WY'\n24. 'PA'\n25. 'AL'\n26. 'AZ'\n27. 'SC'\n28. 'MI'\n29. 'OR'\n30. 'RI'\n31. 'NM'\n32. 'MO'\n33. 'WI'\n34. 'KY'\n35. 'UT'\n36. 'AR'\n37. 'WV'\n38. 'DE'\n39. 'MT'\n40. 'KS'\n41. 'DC'\n42. 'SD'\n43. 'HI'\n44. 'IN'\n45. 'MS'\n46. '.'\n\n\n",
            "text/latex": "\\begin{enumerate*}\n\\item 'VA'\n\\item 'NY'\n\\item 'LA'\n\\item 'NV'\n\\item 'OH'\n\\item 'CA'\n\\item 'IL'\n\\item 'NC'\n\\item 'NJ'\n\\item 'WA'\n\\item 'CT'\n\\item 'AK'\n\\item 'CO'\n\\item 'MA'\n\\item 'TX'\n\\item 'VT'\n\\item 'OK'\n\\item 'FL'\n\\item 'NH'\n\\item 'GA'\n\\item 'MN'\n\\item 'MD'\n\\item 'WY'\n\\item 'PA'\n\\item 'AL'\n\\item 'AZ'\n\\item 'SC'\n\\item 'MI'\n\\item 'OR'\n\\item 'RI'\n\\item 'NM'\n\\item 'MO'\n\\item 'WI'\n\\item 'KY'\n\\item 'UT'\n\\item 'AR'\n\\item 'WV'\n\\item 'DE'\n\\item 'MT'\n\\item 'KS'\n\\item 'DC'\n\\item 'SD'\n\\item 'HI'\n\\item 'IN'\n\\item 'MS'\n\\item '.'\n\\end{enumerate*}\n",
            "text/plain": [
              " [1] \"VA\" \"NY\" \"LA\" \"NV\" \"OH\" \"CA\" \"IL\" \"NC\" \"NJ\" \"WA\" \"CT\" \"AK\" \"CO\" \"MA\" \"TX\"\n",
              "[16] \"VT\" \"OK\" \"FL\" \"NH\" \"GA\" \"MN\" \"MD\" \"WY\" \"PA\" \"AL\" \"AZ\" \"SC\" \"MI\" \"OR\" \"RI\"\n",
              "[31] \"NM\" \"MO\" \"WI\" \"KY\" \"UT\" \"AR\" \"WV\" \"DE\" \"MT\" \"KS\" \"DC\" \"SD\" \"HI\" \"IN\" \"MS\"\n",
              "[46] \".\" "
            ]
          },
          "metadata": {}
        }
      ]
    },
    {
      "cell_type": "code",
      "source": [
        "unique(df$Loan_Purpose)\n"
      ],
      "metadata": {
        "colab": {
          "base_uri": "https://localhost:8080/",
          "height": 34
        },
        "id": "z7a4e0Ap1EuU",
        "outputId": "1a1243c8-891e-4f57-a1a6-14ad4f35c995"
      },
      "execution_count": 24,
      "outputs": [
        {
          "output_type": "display_data",
          "data": {
            "text/html": [
              "<style>\n",
              ".list-inline {list-style: none; margin:0; padding: 0}\n",
              ".list-inline>li {display: inline-block}\n",
              ".list-inline>li:not(:last-child)::after {content: \"\\00b7\"; padding: 0 .5ex}\n",
              "</style>\n",
              "<ol class=list-inline><li>'debt_consolidation'</li><li>'major_purchase'</li><li>'credit_card'</li><li>'small_business'</li><li>'home_improvement'</li><li>'other'</li><li>'car'</li><li>'moving'</li><li>'house'</li><li>'educational'</li><li>'vacation'</li><li>'wedding'</li><li>'medical'</li><li>'renewable_energy'</li></ol>\n"
            ],
            "text/markdown": "1. 'debt_consolidation'\n2. 'major_purchase'\n3. 'credit_card'\n4. 'small_business'\n5. 'home_improvement'\n6. 'other'\n7. 'car'\n8. 'moving'\n9. 'house'\n10. 'educational'\n11. 'vacation'\n12. 'wedding'\n13. 'medical'\n14. 'renewable_energy'\n\n\n",
            "text/latex": "\\begin{enumerate*}\n\\item 'debt\\_consolidation'\n\\item 'major\\_purchase'\n\\item 'credit\\_card'\n\\item 'small\\_business'\n\\item 'home\\_improvement'\n\\item 'other'\n\\item 'car'\n\\item 'moving'\n\\item 'house'\n\\item 'educational'\n\\item 'vacation'\n\\item 'wedding'\n\\item 'medical'\n\\item 'renewable\\_energy'\n\\end{enumerate*}\n",
            "text/plain": [
              " [1] \"debt_consolidation\" \"major_purchase\"     \"credit_card\"       \n",
              " [4] \"small_business\"     \"home_improvement\"   \"other\"             \n",
              " [7] \"car\"                \"moving\"             \"house\"             \n",
              "[10] \"educational\"        \"vacation\"           \"wedding\"           \n",
              "[13] \"medical\"            \"renewable_energy\"  "
            ]
          },
          "metadata": {}
        }
      ]
    },
    {
      "cell_type": "code",
      "source": [
        "library(dplyr)\n",
        "\n",
        "# Separar variables numéricas y categóricas\n",
        "Numeric_data <- names(df)[sapply(df, is.numeric)]\n",
        "Cat_data <- names(df)[sapply(df, is.character) | sapply(df, is.factor)]\n",
        "\n",
        "# Crear nuevos dataframes\n",
        "Num_Vars <- df %>% select(all_of(Numeric_data))\n",
        "Cat_Vars <- df %>% select(all_of(Cat_data))\n",
        "Y_Var <- df %>% select(Interest_Rate)\n",
        "\n",
        "# Mostrar resultados\n",
        "print(\"Num_Vars\")\n",
        "print(head(Num_Vars, 3))\n",
        "print(dim(Num_Vars))\n",
        "\n",
        "print(\"Cat_Vars\")\n",
        "print(head(Cat_Vars, 3))\n",
        "print(dim(Cat_Vars))\n",
        "\n",
        "print(\"Y_Var\")\n",
        "print(head(Y_Var, 3))\n",
        "print(dim(Y_Var))\n"
      ],
      "metadata": {
        "colab": {
          "base_uri": "https://localhost:8080/"
        },
        "id": "VljwEPk_1TVt",
        "outputId": "0f2e03da-802d-4c2a-fe7b-fa9279a61d67"
      },
      "execution_count": 25,
      "outputs": [
        {
          "output_type": "stream",
          "name": "stdout",
          "text": [
            "[1] \"Num_Vars\"\n",
            "  Amount_Requested Amount_Funded_By_Investors Interest_Rate Loan_Length\n",
            "1            25000                      25000         18.49          60\n",
            "2            19750                      19750         17.27          60\n",
            "3             2100                       2100         14.33          36\n",
            "  Debt_To_Income_Ratio Monthly_Income Open_CREDIT_Lines\n",
            "1                27.56        8606.56                11\n",
            "2                13.39        6737.50                14\n",
            "3                 3.50        1000.00                13\n",
            "  Revolving_CREDIT_Balance Inquiries_in_the_Last_6_Months Employment_Length\n",
            "1                    15210                              3                 5\n",
            "2                    19070                              3                 4\n",
            "3                      893                              1                 1\n",
            "  Fico_Mean\n",
            "1       722\n",
            "2       712\n",
            "3       692\n",
            "[1] 2186   11\n",
            "[1] \"Cat_Vars\"\n",
            "        Loan_Purpose State Home_Ownership\n",
            "1 debt_consolidation    VA       MORTGAGE\n",
            "2 debt_consolidation    NY       MORTGAGE\n",
            "3     major_purchase    LA            OWN\n",
            "[1] 2186    3\n",
            "[1] \"Y_Var\"\n",
            "  Interest_Rate\n",
            "1         18.49\n",
            "2         17.27\n",
            "3         14.33\n",
            "[1] 2186    1\n"
          ]
        }
      ]
    },
    {
      "cell_type": "code",
      "source": [
        "Cat_Vars <- Cat_Vars[, !names(Cat_Vars) %in% \"State\"]\n"
      ],
      "metadata": {
        "id": "Ng7ZWLcE1VvZ"
      },
      "execution_count": 26,
      "outputs": []
    },
    {
      "cell_type": "code",
      "source": [
        "Num_Vars <- Num_Vars[, !names(Num_Vars) %in% \"Interest_Rate\"]\n"
      ],
      "metadata": {
        "id": "ykH1Jygk1jir"
      },
      "execution_count": 27,
      "outputs": []
    },
    {
      "cell_type": "code",
      "source": [
        "colSums(is.na(Num_Vars))"
      ],
      "metadata": {
        "colab": {
          "base_uri": "https://localhost:8080/",
          "height": 52
        },
        "id": "zVGzOv8I1wk6",
        "outputId": "3e394818-032a-48ba-e6a2-17dcf92b0787"
      },
      "execution_count": 28,
      "outputs": [
        {
          "output_type": "display_data",
          "data": {
            "text/html": [
              "<style>\n",
              ".dl-inline {width: auto; margin:0; padding: 0}\n",
              ".dl-inline>dt, .dl-inline>dd {float: none; width: auto; display: inline-block}\n",
              ".dl-inline>dt::after {content: \":\\0020\"; padding-right: .5ex}\n",
              ".dl-inline>dt:not(:first-of-type) {padding-left: .5ex}\n",
              "</style><dl class=dl-inline><dt>Amount_Requested</dt><dd>4</dd><dt>Amount_Funded_By_Investors</dt><dd>3</dd><dt>Loan_Length</dt><dd>1</dd><dt>Debt_To_Income_Ratio</dt><dd>0</dd><dt>Monthly_Income</dt><dd>0</dd><dt>Open_CREDIT_Lines</dt><dd>3</dd><dt>Revolving_CREDIT_Balance</dt><dd>2</dd><dt>Inquiries_in_the_Last_6_Months</dt><dd>0</dd><dt>Employment_Length</dt><dd>70</dd><dt>Fico_Mean</dt><dd>0</dd></dl>\n"
            ],
            "text/markdown": "Amount_Requested\n:   4Amount_Funded_By_Investors\n:   3Loan_Length\n:   1Debt_To_Income_Ratio\n:   0Monthly_Income\n:   0Open_CREDIT_Lines\n:   3Revolving_CREDIT_Balance\n:   2Inquiries_in_the_Last_6_Months\n:   0Employment_Length\n:   70Fico_Mean\n:   0\n\n",
            "text/latex": "\\begin{description*}\n\\item[Amount\\textbackslash{}\\_Requested] 4\n\\item[Amount\\textbackslash{}\\_Funded\\textbackslash{}\\_By\\textbackslash{}\\_Investors] 3\n\\item[Loan\\textbackslash{}\\_Length] 1\n\\item[Debt\\textbackslash{}\\_To\\textbackslash{}\\_Income\\textbackslash{}\\_Ratio] 0\n\\item[Monthly\\textbackslash{}\\_Income] 0\n\\item[Open\\textbackslash{}\\_CREDIT\\textbackslash{}\\_Lines] 3\n\\item[Revolving\\textbackslash{}\\_CREDIT\\textbackslash{}\\_Balance] 2\n\\item[Inquiries\\textbackslash{}\\_in\\textbackslash{}\\_the\\textbackslash{}\\_Last\\textbackslash{}\\_6\\textbackslash{}\\_Months] 0\n\\item[Employment\\textbackslash{}\\_Length] 70\n\\item[Fico\\textbackslash{}\\_Mean] 0\n\\end{description*}\n",
            "text/plain": [
              "              Amount_Requested     Amount_Funded_By_Investors \n",
              "                             4                              3 \n",
              "                   Loan_Length           Debt_To_Income_Ratio \n",
              "                             1                              0 \n",
              "                Monthly_Income              Open_CREDIT_Lines \n",
              "                             0                              3 \n",
              "      Revolving_CREDIT_Balance Inquiries_in_the_Last_6_Months \n",
              "                             2                              0 \n",
              "             Employment_Length                      Fico_Mean \n",
              "                            70                              0 "
            ]
          },
          "metadata": {}
        }
      ]
    },
    {
      "cell_type": "code",
      "source": [
        "library(ggplot2)\n",
        "\n",
        "ggplot(Num_Vars, aes(y = Revolving_CREDIT_Balance)) +\n",
        "  geom_boxplot() +\n",
        "  theme_minimal()\n"
      ],
      "metadata": {
        "colab": {
          "base_uri": "https://localhost:8080/",
          "height": 437
        },
        "id": "GNyjeMr11_O1",
        "outputId": "a9b9de59-b233-40a6-9616-a9ce2f69e887"
      },
      "execution_count": 29,
      "outputs": [
        {
          "output_type": "display_data",
          "data": {
            "text/plain": [
              "plot without title"
            ],
            "image/png": "[encoded data removed]"
          },
          "metadata": {
            "image/png": {
              "width": 420,
              "height": 420
            }
          }
        }
      ]
    },
    {
      "cell_type": "code",
      "source": [
        "library(ggplot2)\n",
        "\n",
        "ggplot(Num_Vars, aes(x = Revolving_CREDIT_Balance)) +\n",
        "  geom_histogram(binwidth = 5000, fill = \"blue\", color = \"black\") +\n",
        "  theme_minimal()\n"
      ],
      "metadata": {
        "colab": {
          "base_uri": "https://localhost:8080/",
          "height": 437
        },
        "id": "gYigSGW22Q26",
        "outputId": "27664d14-9793-40ac-fce1-02f07f98b84a"
      },
      "execution_count": 30,
      "outputs": [
        {
          "output_type": "display_data",
          "data": {
            "text/plain": [
              "plot without title"
            ],
            "image/png": "[encoded data removed]"
          },
          "metadata": {
            "image/png": {
              "width": 420,
              "height": 420
            }
          }
        }
      ]
    },
    {
      "cell_type": "code",
      "source": [
        "outlier_missing_treatment <- function(x) {\n",
        "  x <- pmax(pmin(x, quantile(x, 0.95, na.rm = TRUE)), quantile(x, 0.05, na.rm = TRUE))\n",
        "  x[is.na(x)] <- median(x, na.rm = TRUE)\n",
        "  return(x)\n",
        "}\n"
      ],
      "metadata": {
        "id": "fHe48Umr2fBA"
      },
      "execution_count": 31,
      "outputs": []
    },
    {
      "cell_type": "code",
      "source": [
        "Num_Vars[] <- lapply(Num_Vars, outlier_missing_treatment)\n"
      ],
      "metadata": {
        "id": "yZ0AUJjH2kFc"
      },
      "execution_count": 32,
      "outputs": []
    },
    {
      "cell_type": "code",
      "source": [
        "library(ggplot2)\n",
        "\n",
        "ggplot(Num_Vars, aes(y = Revolving_CREDIT_Balance)) +\n",
        "  geom_boxplot(fill = \"skyblue\", color = \"black\") +\n",
        "  theme_minimal() +\n",
        "  ggtitle(\"Boxplot de Revolving_CREDIT_Balance (Tratado)\")\n"
      ],
      "metadata": {
        "colab": {
          "base_uri": "https://localhost:8080/",
          "height": 437
        },
        "id": "YkdSdGZP2q8s",
        "outputId": "dbfeb7f9-16ef-4807-fdf3-a6d373597b36"
      },
      "execution_count": 33,
      "outputs": [
        {
          "output_type": "display_data",
          "data": {
            "text/plain": [
              "plot without title"
            ],
            "image/png": "[encoded data removed]"
          },
          "metadata": {
            "image/png": {
              "width": 420,
              "height": 420
            }
          }
        }
      ]
    },
    {
      "cell_type": "code",
      "source": [
        "Mode_treatment <- function(x) {\n",
        "  mode_value <- names(sort(table(x), decreasing = TRUE))[1]  # Obtener la moda\n",
        "  x[is.na(x)] <- mode_value  # Reemplazar valores NA con la moda\n",
        "  return(x)\n",
        "}\n"
      ],
      "metadata": {
        "id": "MPnWkmql2vTm"
      },
      "execution_count": 34,
      "outputs": []
    },
    {
      "cell_type": "code",
      "source": [
        "Cat_Vars[] <- lapply(Cat_Vars, Mode_treatment)\n"
      ],
      "metadata": {
        "id": "WZsK1m9z2x6z"
      },
      "execution_count": 35,
      "outputs": []
    },
    {
      "cell_type": "markdown",
      "source": [
        "# Creación de variables \"dummmy\" para variables categóricas"
      ],
      "metadata": {
        "id": "kn95Qq4W23Sb"
      }
    },
    {
      "cell_type": "code",
      "source": [
        "dummy_vars <- model.matrix(~ . - 1, data = Cat_Vars)  # -1 elimina la columna de intercepto\n",
        "dummy_vars <- as.data.frame(dummy_vars)  # Convertir a data frame\n"
      ],
      "metadata": {
        "id": "jyoiL4EO208H"
      },
      "execution_count": 36,
      "outputs": []
    },
    {
      "cell_type": "code",
      "source": [
        "head(dummy_vars)"
      ],
      "metadata": {
        "colab": {
          "base_uri": "https://localhost:8080/",
          "height": 306
        },
        "id": "_roy7e_x3X5q",
        "outputId": "31985cf1-e481-4b40-e7da-9ceac052dd2b"
      },
      "execution_count": 37,
      "outputs": [
        {
          "output_type": "display_data",
          "data": {
            "text/html": [
              "<table class=\"dataframe\">\n",
              "<caption>A data.frame: 6 × 17</caption>\n",
              "<thead>\n",
              "\t<tr><th></th><th scope=col>Loan_Purposecar</th><th scope=col>Loan_Purposecredit_card</th><th scope=col>Loan_Purposedebt_consolidation</th><th scope=col>Loan_Purposeeducational</th><th scope=col>Loan_Purposehome_improvement</th><th scope=col>Loan_Purposehouse</th><th scope=col>Loan_Purposemajor_purchase</th><th scope=col>Loan_Purposemedical</th><th scope=col>Loan_Purposemoving</th><th scope=col>Loan_Purposeother</th><th scope=col>Loan_Purposerenewable_energy</th><th scope=col>Loan_Purposesmall_business</th><th scope=col>Loan_Purposevacation</th><th scope=col>Loan_Purposewedding</th><th scope=col>Home_OwnershipOTHER</th><th scope=col>Home_OwnershipOWN</th><th scope=col>Home_OwnershipRENT</th></tr>\n",
              "\t<tr><th></th><th scope=col>&lt;dbl&gt;</th><th scope=col>&lt;dbl&gt;</th><th scope=col>&lt;dbl&gt;</th><th scope=col>&lt;dbl&gt;</th><th scope=col>&lt;dbl&gt;</th><th scope=col>&lt;dbl&gt;</th><th scope=col>&lt;dbl&gt;</th><th scope=col>&lt;dbl&gt;</th><th scope=col>&lt;dbl&gt;</th><th scope=col>&lt;dbl&gt;</th><th scope=col>&lt;dbl&gt;</th><th scope=col>&lt;dbl&gt;</th><th scope=col>&lt;dbl&gt;</th><th scope=col>&lt;dbl&gt;</th><th scope=col>&lt;dbl&gt;</th><th scope=col>&lt;dbl&gt;</th><th scope=col>&lt;dbl&gt;</th></tr>\n",
              "</thead>\n",
              "<tbody>\n",
              "\t<tr><th scope=row>1</th><td>0</td><td>0</td><td>1</td><td>0</td><td>0</td><td>0</td><td>0</td><td>0</td><td>0</td><td>0</td><td>0</td><td>0</td><td>0</td><td>0</td><td>0</td><td>0</td><td>0</td></tr>\n",
              "\t<tr><th scope=row>2</th><td>0</td><td>0</td><td>1</td><td>0</td><td>0</td><td>0</td><td>0</td><td>0</td><td>0</td><td>0</td><td>0</td><td>0</td><td>0</td><td>0</td><td>0</td><td>0</td><td>0</td></tr>\n",
              "\t<tr><th scope=row>3</th><td>0</td><td>0</td><td>0</td><td>0</td><td>0</td><td>0</td><td>1</td><td>0</td><td>0</td><td>0</td><td>0</td><td>0</td><td>0</td><td>0</td><td>0</td><td>1</td><td>0</td></tr>\n",
              "\t<tr><th scope=row>4</th><td>0</td><td>1</td><td>0</td><td>0</td><td>0</td><td>0</td><td>0</td><td>0</td><td>0</td><td>0</td><td>0</td><td>0</td><td>0</td><td>0</td><td>0</td><td>0</td><td>0</td></tr>\n",
              "\t<tr><th scope=row>5</th><td>0</td><td>1</td><td>0</td><td>0</td><td>0</td><td>0</td><td>0</td><td>0</td><td>0</td><td>0</td><td>0</td><td>0</td><td>0</td><td>0</td><td>0</td><td>0</td><td>0</td></tr>\n",
              "\t<tr><th scope=row>6</th><td>0</td><td>0</td><td>0</td><td>0</td><td>0</td><td>0</td><td>0</td><td>0</td><td>0</td><td>0</td><td>0</td><td>1</td><td>0</td><td>0</td><td>0</td><td>0</td><td>1</td></tr>\n",
              "</tbody>\n",
              "</table>\n"
            ],
            "text/markdown": "\nA data.frame: 6 × 17\n\n| <!--/--> | Loan_Purposecar &lt;dbl&gt; | Loan_Purposecredit_card &lt;dbl&gt; | Loan_Purposedebt_consolidation &lt;dbl&gt; | Loan_Purposeeducational &lt;dbl&gt; | Loan_Purposehome_improvement &lt;dbl&gt; | Loan_Purposehouse &lt;dbl&gt; | Loan_Purposemajor_purchase &lt;dbl&gt; | Loan_Purposemedical &lt;dbl&gt; | Loan_Purposemoving &lt;dbl&gt; | Loan_Purposeother &lt;dbl&gt; | Loan_Purposerenewable_energy &lt;dbl&gt; | Loan_Purposesmall_business &lt;dbl&gt; | Loan_Purposevacation &lt;dbl&gt; | Loan_Purposewedding &lt;dbl&gt; | Home_OwnershipOTHER &lt;dbl&gt; | Home_OwnershipOWN &lt;dbl&gt; | Home_OwnershipRENT &lt;dbl&gt; |\n|---|---|---|---|---|---|---|---|---|---|---|---|---|---|---|---|---|---|\n| 1 | 0 | 0 | 1 | 0 | 0 | 0 | 0 | 0 | 0 | 0 | 0 | 0 | 0 | 0 | 0 | 0 | 0 |\n| 2 | 0 | 0 | 1 | 0 | 0 | 0 | 0 | 0 | 0 | 0 | 0 | 0 | 0 | 0 | 0 | 0 | 0 |\n| 3 | 0 | 0 | 0 | 0 | 0 | 0 | 1 | 0 | 0 | 0 | 0 | 0 | 0 | 0 | 0 | 1 | 0 |\n| 4 | 0 | 1 | 0 | 0 | 0 | 0 | 0 | 0 | 0 | 0 | 0 | 0 | 0 | 0 | 0 | 0 | 0 |\n| 5 | 0 | 1 | 0 | 0 | 0 | 0 | 0 | 0 | 0 | 0 | 0 | 0 | 0 | 0 | 0 | 0 | 0 |\n| 6 | 0 | 0 | 0 | 0 | 0 | 0 | 0 | 0 | 0 | 0 | 0 | 1 | 0 | 0 | 0 | 0 | 1 |\n\n",
            "text/latex": "A data.frame: 6 × 17\n\\begin{tabular}{r|lllllllllllllllll}\n  & Loan\\_Purposecar & Loan\\_Purposecredit\\_card & Loan\\_Purposedebt\\_consolidation & Loan\\_Purposeeducational & Loan\\_Purposehome\\_improvement & Loan\\_Purposehouse & Loan\\_Purposemajor\\_purchase & Loan\\_Purposemedical & Loan\\_Purposemoving & Loan\\_Purposeother & Loan\\_Purposerenewable\\_energy & Loan\\_Purposesmall\\_business & Loan\\_Purposevacation & Loan\\_Purposewedding & Home\\_OwnershipOTHER & Home\\_OwnershipOWN & Home\\_OwnershipRENT\\\\\n  & <dbl> & <dbl> & <dbl> & <dbl> & <dbl> & <dbl> & <dbl> & <dbl> & <dbl> & <dbl> & <dbl> & <dbl> & <dbl> & <dbl> & <dbl> & <dbl> & <dbl>\\\\\n\\hline\n\t1 & 0 & 0 & 1 & 0 & 0 & 0 & 0 & 0 & 0 & 0 & 0 & 0 & 0 & 0 & 0 & 0 & 0\\\\\n\t2 & 0 & 0 & 1 & 0 & 0 & 0 & 0 & 0 & 0 & 0 & 0 & 0 & 0 & 0 & 0 & 0 & 0\\\\\n\t3 & 0 & 0 & 0 & 0 & 0 & 0 & 1 & 0 & 0 & 0 & 0 & 0 & 0 & 0 & 0 & 1 & 0\\\\\n\t4 & 0 & 1 & 0 & 0 & 0 & 0 & 0 & 0 & 0 & 0 & 0 & 0 & 0 & 0 & 0 & 0 & 0\\\\\n\t5 & 0 & 1 & 0 & 0 & 0 & 0 & 0 & 0 & 0 & 0 & 0 & 0 & 0 & 0 & 0 & 0 & 0\\\\\n\t6 & 0 & 0 & 0 & 0 & 0 & 0 & 0 & 0 & 0 & 0 & 0 & 1 & 0 & 0 & 0 & 0 & 1\\\\\n\\end{tabular}\n",
            "text/plain": [
              "  Loan_Purposecar Loan_Purposecredit_card Loan_Purposedebt_consolidation\n",
              "1 0               0                       1                             \n",
              "2 0               0                       1                             \n",
              "3 0               0                       0                             \n",
              "4 0               1                       0                             \n",
              "5 0               1                       0                             \n",
              "6 0               0                       0                             \n",
              "  Loan_Purposeeducational Loan_Purposehome_improvement Loan_Purposehouse\n",
              "1 0                       0                            0                \n",
              "2 0                       0                            0                \n",
              "3 0                       0                            0                \n",
              "4 0                       0                            0                \n",
              "5 0                       0                            0                \n",
              "6 0                       0                            0                \n",
              "  Loan_Purposemajor_purchase Loan_Purposemedical Loan_Purposemoving\n",
              "1 0                          0                   0                 \n",
              "2 0                          0                   0                 \n",
              "3 1                          0                   0                 \n",
              "4 0                          0                   0                 \n",
              "5 0                          0                   0                 \n",
              "6 0                          0                   0                 \n",
              "  Loan_Purposeother Loan_Purposerenewable_energy Loan_Purposesmall_business\n",
              "1 0                 0                            0                         \n",
              "2 0                 0                            0                         \n",
              "3 0                 0                            0                         \n",
              "4 0                 0                            0                         \n",
              "5 0                 0                            0                         \n",
              "6 0                 0                            1                         \n",
              "  Loan_Purposevacation Loan_Purposewedding Home_OwnershipOTHER\n",
              "1 0                    0                   0                  \n",
              "2 0                    0                   0                  \n",
              "3 0                    0                   0                  \n",
              "4 0                    0                   0                  \n",
              "5 0                    0                   0                  \n",
              "6 0                    0                   0                  \n",
              "  Home_OwnershipOWN Home_OwnershipRENT\n",
              "1 0                 0                 \n",
              "2 0                 0                 \n",
              "3 1                 0                 \n",
              "4 0                 0                 \n",
              "5 0                 0                 \n",
              "6 0                 1                 "
            ]
          },
          "metadata": {}
        }
      ]
    },
    {
      "cell_type": "code",
      "source": [
        "df_final <- cbind(Num_Vars, dummy_vars, Y_Var)\n",
        "str(df_final)\n"
      ],
      "metadata": {
        "colab": {
          "base_uri": "https://localhost:8080/"
        },
        "id": "q3O_L9ai3g-p",
        "outputId": "32d19906-866c-4df7-d06d-379e00295c09"
      },
      "execution_count": 38,
      "outputs": [
        {
          "output_type": "stream",
          "name": "stdout",
          "text": [
            "'data.frame':\t2186 obs. of  28 variables:\n",
            " $ Amount_Requested              : num  25000 19750 2800 28000 24250 ...\n",
            " $ Amount_Funded_By_Investors    : num  25000 19750 2203 27950 17432 ...\n",
            " $ Loan_Length                   : num  60 60 36 36 60 36 60 36 60 36 ...\n",
            " $ Debt_To_Income_Ratio          : num  27.6 13.4 3.5 19.6 23.8 ...\n",
            " $ Monthly_Income                : num  8607 6738 2167 7083 5833 ...\n",
            " $ Open_CREDIT_Lines             : num  11 14 13 12 6 4 5 11 18 7 ...\n",
            " $ Revolving_CREDIT_Balance      : num  15210 19070 1041 38194 31061 ...\n",
            " $ Inquiries_in_the_Last_6_Months: num  3 3 1 1 2 2 0 1 0 1 ...\n",
            " $ Employment_Length             : num  5 4 1 10 10 5 2 1 5 5 ...\n",
            " $ Fico_Mean                     : num  722 712 692 712 732 777 667 737 742 767 ...\n",
            " $ Loan_Purposecar               : num  0 0 0 0 0 0 0 0 0 0 ...\n",
            " $ Loan_Purposecredit_card       : num  0 0 0 1 1 0 1 0 0 0 ...\n",
            " $ Loan_Purposedebt_consolidation: num  1 1 0 0 0 0 0 0 0 0 ...\n",
            " $ Loan_Purposeeducational       : num  0 0 0 0 0 0 0 0 0 0 ...\n",
            " $ Loan_Purposehome_improvement  : num  0 0 0 0 0 0 0 0 1 0 ...\n",
            " $ Loan_Purposehouse             : num  0 0 0 0 0 0 0 0 0 0 ...\n",
            " $ Loan_Purposemajor_purchase    : num  0 0 1 0 0 0 0 1 0 0 ...\n",
            " $ Loan_Purposemedical           : num  0 0 0 0 0 0 0 0 0 0 ...\n",
            " $ Loan_Purposemoving            : num  0 0 0 0 0 0 0 0 0 0 ...\n",
            " $ Loan_Purposeother             : num  0 0 0 0 0 0 0 0 0 1 ...\n",
            " $ Loan_Purposerenewable_energy  : num  0 0 0 0 0 0 0 0 0 0 ...\n",
            " $ Loan_Purposesmall_business    : num  0 0 0 0 0 1 0 0 0 0 ...\n",
            " $ Loan_Purposevacation          : num  0 0 0 0 0 0 0 0 0 0 ...\n",
            " $ Loan_Purposewedding           : num  0 0 0 0 0 0 0 0 0 0 ...\n",
            " $ Home_OwnershipOTHER           : num  0 0 0 0 0 0 0 0 0 0 ...\n",
            " $ Home_OwnershipOWN             : num  0 0 1 0 0 0 0 0 0 0 ...\n",
            " $ Home_OwnershipRENT            : num  0 0 0 0 0 1 1 1 0 0 ...\n",
            " $ Interest_Rate                 : num  18.5 17.3 14.3 16.3 12.2 ...\n"
          ]
        }
      ]
    },
    {
      "cell_type": "code",
      "source": [
        "library(ggplot2)\n",
        "\n",
        "ggplot(df_final, aes(x = Interest_Rate)) +\n",
        "  geom_density(fill = \"blue\", alpha = 0.5) +  # Gráfica de densidad con color\n",
        "  theme_minimal() +\n",
        "  ggtitle(\"Distribución de Interest Rate\")\n"
      ],
      "metadata": {
        "colab": {
          "base_uri": "https://localhost:8080/",
          "height": 437
        },
        "id": "zUXkGH557xj5",
        "outputId": "46c8d195-b440-4ca4-aa3d-f9cb1eff8416"
      },
      "execution_count": 39,
      "outputs": [
        {
          "output_type": "display_data",
          "data": {
            "text/plain": [
              "plot without title"
            ],
            "image/png": "[encoded data removed]"
          },
          "metadata": {
            "image/png": {
              "width": 420,
              "height": 420
            }
          }
        }
      ]
    },
    {
      "cell_type": "markdown",
      "source": [
        "#Selección de las variables más importantes"
      ],
      "metadata": {
        "id": "a3sc5aLO75fZ"
      }
    },
    {
      "cell_type": "code",
      "source": [
        "install.packages(\"caret\", dependencies = TRUE)\n"
      ],
      "metadata": {
        "colab": {
          "base_uri": "https://localhost:8080/"
        },
        "id": "dU5c5one8GH-",
        "outputId": "b649d921-185e-4d4a-c97f-ffd30f315b27"
      },
      "execution_count": 40,
      "outputs": [
        {
          "output_type": "stream",
          "name": "stderr",
          "text": [
            "Installing package into ‘/usr/local/lib/R/site-library’\n",
            "(as ‘lib’ is unspecified)\n",
            "\n",
            "also installing the dependencies ‘listenv’, ‘parallelly’, ‘rbibutils’, ‘future’, ‘globals’, ‘R.methodsS3’, ‘R.oo’, ‘R.utils’, ‘bitops’, ‘Rdpack’, ‘shape’, ‘future.apply’, ‘numDeriv’, ‘progressr’, ‘SQUAREM’, ‘R.cache’, ‘caTools’, ‘TH.data’, ‘profileModel’, ‘minqa’, ‘nloptr’, ‘reformulas’, ‘RcppEigen’, ‘lazyeval’, ‘plotrix’, ‘diagram’, ‘lava’, ‘styler’, ‘classInt’, ‘labelled’, ‘gplots’, ‘libcoin’, ‘matrixStats’, ‘multcomp’, ‘iterators’, ‘clock’, ‘gower’, ‘hardhat’, ‘sparsevctrs’, ‘timeDate’, ‘brglm’, ‘gtools’, ‘lme4’, ‘qvcalc’, ‘rex’, ‘Formula’, ‘plotmo’, ‘prodlim’, ‘combinat’, ‘questionr’, ‘ROCR’, ‘mvtnorm’, ‘modeltools’, ‘strucchange’, ‘coin’, ‘zoo’, ‘sandwich’, ‘ROSE’, ‘e1071’, ‘foreach’, ‘ModelMetrics’, ‘plyr’, ‘pROC’, ‘recipes’, ‘reshape2’, ‘BradleyTerry2’, ‘covr’, ‘Cubist’, ‘earth’, ‘ellipse’, ‘fastICA’, ‘gam’, ‘ipred’, ‘kernlab’, ‘klaR’, ‘mda’, ‘mlbench’, ‘MLmetrics’, ‘pamr’, ‘party’, ‘pls’, ‘proxy’, ‘randomForest’, ‘RANN’, ‘spls’, ‘superpc’, ‘themis’\n",
            "\n",
            "\n"
          ]
        }
      ]
    },
    {
      "cell_type": "code",
      "source": [
        "library(caret)\n",
        "\n",
        "set.seed(123)  # Para reproducibilidad\n",
        "train_index <- createDataPartition(df_final$Interest_Rate, p = 0.7, list = FALSE)\n",
        "\n",
        "train <- df_final[train_index, ]\n",
        "test <- df_final[-train_index, ]\n"
      ],
      "metadata": {
        "colab": {
          "base_uri": "https://localhost:8080/"
        },
        "id": "dmnPvpPQ8UNC",
        "outputId": "6c9c742f-9b3f-4320-dd26-a77faf3bcf51"
      },
      "execution_count": 41,
      "outputs": [
        {
          "output_type": "stream",
          "name": "stderr",
          "text": [
            "Loading required package: lattice\n",
            "\n"
          ]
        }
      ]
    },
    {
      "cell_type": "code",
      "source": [
        "# Separar la variable dependiente (Interest_Rate) de las independientes\n",
        "y_train <- train$Interest_Rate\n",
        "X_train <- train[, setdiff(names(train), \"Interest_Rate\")]\n",
        "\n",
        "y_test <- test$Interest_Rate\n",
        "X_test <- test[, setdiff(names(test), \"Interest_Rate\")]\n",
        "\n",
        "# Agregar una columna de constantes (intercepto) como hace sm.add_constant()\n",
        "X_train <- cbind(Intercept = 1, X_train)\n",
        "X_test <- cbind(Intercept = 1, X_test)\n"
      ],
      "metadata": {
        "id": "nSPUUyLB8U19"
      },
      "execution_count": 42,
      "outputs": []
    },
    {
      "cell_type": "code",
      "source": [
        "library(MASS)\n",
        "\n",
        "# Ajustar el modelo inicial con todas las variables\n",
        "full_model <- lm(Interest_Rate ~ ., data = train)\n",
        "\n",
        "# Aplicar selección de variables (hacia adelante y atrás)\n",
        "best_model <- stepAIC(full_model, direction = \"both\", trace = TRUE)\n",
        "\n"
      ],
      "metadata": {
        "colab": {
          "base_uri": "https://localhost:8080/"
        },
        "id": "-GOPnHzX8auj",
        "outputId": "c6822113-b684-47e2-ad41-2b44a09e68f4"
      },
      "execution_count": 43,
      "outputs": [
        {
          "output_type": "stream",
          "name": "stderr",
          "text": [
            "\n",
            "Attaching package: ‘MASS’\n",
            "\n",
            "\n",
            "The following object is masked from ‘package:dplyr’:\n",
            "\n",
            "    select\n",
            "\n",
            "\n"
          ]
        },
        {
          "output_type": "stream",
          "name": "stdout",
          "text": [
            "Start:  AIC=2038.54\n",
            "Interest_Rate ~ Amount_Requested + Amount_Funded_By_Investors + \n",
            "    Loan_Length + Debt_To_Income_Ratio + Monthly_Income + Open_CREDIT_Lines + \n",
            "    Revolving_CREDIT_Balance + Inquiries_in_the_Last_6_Months + \n",
            "    Employment_Length + Fico_Mean + Loan_Purposecar + Loan_Purposecredit_card + \n",
            "    Loan_Purposedebt_consolidation + Loan_Purposeeducational + \n",
            "    Loan_Purposehome_improvement + Loan_Purposehouse + Loan_Purposemajor_purchase + \n",
            "    Loan_Purposemedical + Loan_Purposemoving + Loan_Purposeother + \n",
            "    Loan_Purposerenewable_energy + Loan_Purposesmall_business + \n",
            "    Loan_Purposevacation + Loan_Purposewedding + Home_OwnershipOTHER + \n",
            "    Home_OwnershipOWN + Home_OwnershipRENT\n",
            "\n",
            "\n",
            "Step:  AIC=2038.54\n",
            "Interest_Rate ~ Amount_Requested + Amount_Funded_By_Investors + \n",
            "    Loan_Length + Debt_To_Income_Ratio + Monthly_Income + Open_CREDIT_Lines + \n",
            "    Revolving_CREDIT_Balance + Inquiries_in_the_Last_6_Months + \n",
            "    Employment_Length + Fico_Mean + Loan_Purposecar + Loan_Purposecredit_card + \n",
            "    Loan_Purposedebt_consolidation + Loan_Purposeeducational + \n",
            "    Loan_Purposehome_improvement + Loan_Purposehouse + Loan_Purposemajor_purchase + \n",
            "    Loan_Purposemedical + Loan_Purposemoving + Loan_Purposeother + \n",
            "    Loan_Purposerenewable_energy + Loan_Purposesmall_business + \n",
            "    Loan_Purposevacation + Home_OwnershipOTHER + Home_OwnershipOWN + \n",
            "    Home_OwnershipRENT\n",
            "\n",
            "                                 Df Sum of Sq     RSS    AIC\n",
            "- Loan_Purposemedical             1       0.4  5597.0 2036.6\n",
            "- Loan_Purposerenewable_energy    1       0.9  5597.5 2036.8\n",
            "- Loan_Purposecredit_card         1       1.1  5597.7 2036.8\n",
            "- Loan_Purposedebt_consolidation  1       1.6  5598.1 2037.0\n",
            "- Loan_Purposecar                 1       1.8  5598.4 2037.0\n",
            "- Loan_Purposehome_improvement    1       3.9  5600.5 2037.6\n",
            "- Employment_Length               1       4.6  5601.2 2037.8\n",
            "- Debt_To_Income_Ratio            1       5.3  5601.9 2038.0\n",
            "- Monthly_Income                  1       5.6  5602.2 2038.1\n",
            "- Loan_Purposehouse               1       5.8  5602.4 2038.1\n",
            "- Loan_Purposesmall_business      1       6.2  5602.8 2038.2\n",
            "<none>                                         5596.6 2038.5\n",
            "- Loan_Purposevacation            1       7.5  5604.1 2038.6\n",
            "- Home_OwnershipOWN               1       8.6  5605.2 2038.9\n",
            "- Home_OwnershipOTHER             1      10.0  5606.6 2039.3\n",
            "- Home_OwnershipRENT              1      13.5  5610.1 2040.2\n",
            "- Loan_Purposemajor_purchase      1      13.8  5610.4 2040.3\n",
            "- Revolving_CREDIT_Balance        1      15.0  5611.6 2040.6\n",
            "- Loan_Purposemoving              1      20.5  5617.1 2042.1\n",
            "- Loan_Purposeeducational         1      20.7  5617.3 2042.2\n",
            "- Loan_Purposeother               1      21.6  5618.2 2042.4\n",
            "- Amount_Requested                1      34.6  5631.2 2046.0\n",
            "- Open_CREDIT_Lines               1      46.5  5643.1 2049.2\n",
            "- Amount_Funded_By_Investors      1      62.4  5659.0 2053.5\n",
            "- Inquiries_in_the_Last_6_Months  1     355.6  5952.1 2130.8\n",
            "- Loan_Length                     1    2048.2  7644.8 2514.0\n",
            "- Fico_Mean                       1   12798.7 18395.3 3858.3\n",
            "\n",
            "Step:  AIC=2036.64\n",
            "Interest_Rate ~ Amount_Requested + Amount_Funded_By_Investors + \n",
            "    Loan_Length + Debt_To_Income_Ratio + Monthly_Income + Open_CREDIT_Lines + \n",
            "    Revolving_CREDIT_Balance + Inquiries_in_the_Last_6_Months + \n",
            "    Employment_Length + Fico_Mean + Loan_Purposecar + Loan_Purposecredit_card + \n",
            "    Loan_Purposedebt_consolidation + Loan_Purposeeducational + \n",
            "    Loan_Purposehome_improvement + Loan_Purposehouse + Loan_Purposemajor_purchase + \n",
            "    Loan_Purposemoving + Loan_Purposeother + Loan_Purposerenewable_energy + \n",
            "    Loan_Purposesmall_business + Loan_Purposevacation + Home_OwnershipOTHER + \n",
            "    Home_OwnershipOWN + Home_OwnershipRENT\n",
            "\n",
            "                                 Df Sum of Sq     RSS    AIC\n",
            "- Loan_Purposecredit_card         1       0.7  5597.7 2034.8\n",
            "- Loan_Purposerenewable_energy    1       0.7  5597.7 2034.8\n",
            "- Loan_Purposedebt_consolidation  1       1.2  5598.2 2035.0\n",
            "- Loan_Purposecar                 1       1.5  5598.4 2035.0\n",
            "- Loan_Purposehome_improvement    1       3.9  5600.9 2035.7\n",
            "- Employment_Length               1       4.7  5601.7 2035.9\n",
            "- Debt_To_Income_Ratio            1       5.3  5602.3 2036.1\n",
            "- Loan_Purposehouse               1       5.5  5602.5 2036.1\n",
            "- Monthly_Income                  1       5.6  5602.6 2036.2\n",
            "- Loan_Purposesmall_business      1       6.5  5603.5 2036.4\n",
            "- Loan_Purposevacation            1       7.2  5604.2 2036.6\n",
            "<none>                                         5597.0 2036.6\n",
            "- Home_OwnershipOWN               1       8.5  5605.5 2037.0\n",
            "- Home_OwnershipOTHER             1      10.0  5607.0 2037.4\n",
            "- Home_OwnershipRENT              1      13.4  5610.4 2038.3\n",
            "+ Loan_Purposemedical             1       0.4  5596.6 2038.5\n",
            "+ Loan_Purposewedding             1       0.4  5596.6 2038.5\n",
            "- Revolving_CREDIT_Balance        1      15.1  5612.1 2038.8\n",
            "- Loan_Purposemajor_purchase      1      16.0  5612.9 2039.0\n",
            "- Loan_Purposeeducational         1      21.1  5618.1 2040.4\n",
            "- Loan_Purposemoving              1      21.9  5618.9 2040.6\n",
            "- Loan_Purposeother               1      27.1  5624.1 2042.0\n",
            "- Amount_Requested                1      34.6  5631.6 2044.1\n",
            "- Open_CREDIT_Lines               1      46.5  5643.5 2047.3\n",
            "- Amount_Funded_By_Investors      1      62.4  5659.4 2051.6\n",
            "- Inquiries_in_the_Last_6_Months  1     356.0  5953.0 2129.0\n",
            "- Loan_Length                     1    2050.7  7647.7 2512.6\n",
            "- Fico_Mean                       1   12809.1 18406.1 3857.2\n",
            "\n",
            "Step:  AIC=2034.84\n",
            "Interest_Rate ~ Amount_Requested + Amount_Funded_By_Investors + \n",
            "    Loan_Length + Debt_To_Income_Ratio + Monthly_Income + Open_CREDIT_Lines + \n",
            "    Revolving_CREDIT_Balance + Inquiries_in_the_Last_6_Months + \n",
            "    Employment_Length + Fico_Mean + Loan_Purposecar + Loan_Purposedebt_consolidation + \n",
            "    Loan_Purposeeducational + Loan_Purposehome_improvement + \n",
            "    Loan_Purposehouse + Loan_Purposemajor_purchase + Loan_Purposemoving + \n",
            "    Loan_Purposeother + Loan_Purposerenewable_energy + Loan_Purposesmall_business + \n",
            "    Loan_Purposevacation + Home_OwnershipOTHER + Home_OwnershipOWN + \n",
            "    Home_OwnershipRENT\n",
            "\n",
            "                                 Df Sum of Sq     RSS    AIC\n",
            "- Loan_Purposerenewable_energy    1       0.5  5598.2 2033.0\n",
            "- Loan_Purposedebt_consolidation  1       0.6  5598.3 2033.0\n",
            "- Loan_Purposecar                 1       0.8  5598.5 2033.0\n",
            "- Loan_Purposehome_improvement    1       4.1  5601.8 2034.0\n",
            "- Loan_Purposehouse               1       4.8  5602.5 2034.2\n",
            "- Employment_Length               1       4.9  5602.5 2034.2\n",
            "- Debt_To_Income_Ratio            1       5.3  5603.0 2034.3\n",
            "- Monthly_Income                  1       5.8  5603.5 2034.4\n",
            "- Loan_Purposevacation            1       6.6  5604.3 2034.6\n",
            "- Loan_Purposesmall_business      1       7.2  5604.9 2034.8\n",
            "<none>                                         5597.7 2034.8\n",
            "- Home_OwnershipOWN               1       8.7  5606.4 2035.2\n",
            "- Home_OwnershipOTHER             1      10.2  5607.8 2035.6\n",
            "- Home_OwnershipRENT              1      13.4  5611.1 2036.5\n",
            "+ Loan_Purposewedding             1       1.1  5596.6 2036.5\n",
            "+ Loan_Purposecredit_card         1       0.7  5597.0 2036.6\n",
            "+ Loan_Purposemedical             1       0.0  5597.7 2036.8\n",
            "- Revolving_CREDIT_Balance        1      14.8  5612.5 2036.9\n",
            "- Loan_Purposeeducational         1      21.3  5619.0 2038.7\n",
            "- Loan_Purposemajor_purchase      1      21.7  5619.4 2038.8\n",
            "- Loan_Purposemoving              1      23.9  5621.6 2039.4\n",
            "- Amount_Requested                1      35.0  5632.7 2042.4\n",
            "- Open_CREDIT_Lines               1      46.1  5643.8 2045.4\n",
            "- Loan_Purposeother               1      49.5  5647.2 2046.3\n",
            "- Amount_Funded_By_Investors      1      62.2  5659.9 2049.8\n",
            "- Inquiries_in_the_Last_6_Months  1     356.0  5953.7 2127.2\n",
            "- Loan_Length                     1    2050.2  7647.9 2510.6\n",
            "- Fico_Mean                       1   12833.4 18431.1 3857.3\n",
            "\n",
            "Step:  AIC=2032.98\n",
            "Interest_Rate ~ Amount_Requested + Amount_Funded_By_Investors + \n",
            "    Loan_Length + Debt_To_Income_Ratio + Monthly_Income + Open_CREDIT_Lines + \n",
            "    Revolving_CREDIT_Balance + Inquiries_in_the_Last_6_Months + \n",
            "    Employment_Length + Fico_Mean + Loan_Purposecar + Loan_Purposedebt_consolidation + \n",
            "    Loan_Purposeeducational + Loan_Purposehome_improvement + \n",
            "    Loan_Purposehouse + Loan_Purposemajor_purchase + Loan_Purposemoving + \n",
            "    Loan_Purposeother + Loan_Purposesmall_business + Loan_Purposevacation + \n",
            "    Home_OwnershipOTHER + Home_OwnershipOWN + Home_OwnershipRENT\n",
            "\n",
            "                                 Df Sum of Sq     RSS    AIC\n",
            "- Loan_Purposedebt_consolidation  1       0.5  5598.8 2031.1\n",
            "- Loan_Purposecar                 1       0.7  5598.9 2031.2\n",
            "- Loan_Purposehome_improvement    1       4.0  5602.2 2032.1\n",
            "- Loan_Purposehouse               1       4.8  5603.0 2032.3\n",
            "- Employment_Length               1       4.9  5603.1 2032.3\n",
            "- Debt_To_Income_Ratio            1       5.3  5603.5 2032.4\n",
            "- Monthly_Income                  1       5.9  5604.1 2032.6\n",
            "- Loan_Purposevacation            1       6.5  5604.7 2032.8\n",
            "- Loan_Purposesmall_business      1       7.0  5605.3 2032.9\n",
            "<none>                                         5598.2 2033.0\n",
            "- Home_OwnershipOWN               1       8.7  5606.9 2033.4\n",
            "- Home_OwnershipOTHER             1      10.2  5608.4 2033.8\n",
            "+ Loan_Purposewedding             1       1.1  5597.1 2034.7\n",
            "- Home_OwnershipRENT              1      13.6  5611.8 2034.7\n",
            "+ Loan_Purposerenewable_energy    1       0.5  5597.7 2034.8\n",
            "+ Loan_Purposecredit_card         1       0.5  5597.7 2034.8\n",
            "+ Loan_Purposemedical             1       0.0  5598.2 2035.0\n",
            "- Revolving_CREDIT_Balance        1      14.8  5613.0 2035.0\n",
            "- Loan_Purposeeducational         1      21.2  5619.4 2036.8\n",
            "- Loan_Purposemajor_purchase      1      21.5  5619.7 2036.8\n",
            "- Loan_Purposemoving              1      23.8  5622.0 2037.5\n",
            "- Amount_Requested                1      34.9  5633.2 2040.5\n",
            "- Open_CREDIT_Lines               1      46.2  5644.4 2043.6\n",
            "- Loan_Purposeother               1      49.2  5647.4 2044.4\n",
            "- Amount_Funded_By_Investors      1      62.2  5660.4 2047.9\n",
            "- Inquiries_in_the_Last_6_Months  1     356.2  5954.4 2125.4\n",
            "- Loan_Length                     1    2050.2  7648.4 2508.7\n",
            "- Fico_Mean                       1   12873.2 18471.4 3858.7\n",
            "\n",
            "Step:  AIC=2031.13\n",
            "Interest_Rate ~ Amount_Requested + Amount_Funded_By_Investors + \n",
            "    Loan_Length + Debt_To_Income_Ratio + Monthly_Income + Open_CREDIT_Lines + \n",
            "    Revolving_CREDIT_Balance + Inquiries_in_the_Last_6_Months + \n",
            "    Employment_Length + Fico_Mean + Loan_Purposecar + Loan_Purposeeducational + \n",
            "    Loan_Purposehome_improvement + Loan_Purposehouse + Loan_Purposemajor_purchase + \n",
            "    Loan_Purposemoving + Loan_Purposeother + Loan_Purposesmall_business + \n",
            "    Loan_Purposevacation + Home_OwnershipOTHER + Home_OwnershipOWN + \n",
            "    Home_OwnershipRENT\n",
            "\n",
            "                                 Df Sum of Sq     RSS    AIC\n",
            "- Loan_Purposecar                 1       0.5  5599.2 2029.3\n",
            "- Loan_Purposehome_improvement    1       3.4  5602.2 2030.1\n",
            "- Loan_Purposehouse               1       4.4  5603.1 2030.3\n",
            "- Employment_Length               1       4.9  5603.7 2030.5\n",
            "- Debt_To_Income_Ratio            1       5.4  5604.1 2030.6\n",
            "- Monthly_Income                  1       5.8  5604.5 2030.7\n",
            "- Loan_Purposevacation            1       6.1  5604.9 2030.8\n",
            "- Loan_Purposesmall_business      1       6.5  5605.3 2030.9\n",
            "<none>                                         5598.8 2031.1\n",
            "- Home_OwnershipOWN               1       8.6  5607.3 2031.5\n",
            "- Home_OwnershipOTHER             1      10.0  5608.7 2031.9\n",
            "+ Loan_Purposewedding             1       1.5  5597.3 2032.7\n",
            "- Home_OwnershipRENT              1      13.5  5612.2 2032.8\n",
            "+ Loan_Purposedebt_consolidation  1       0.5  5598.2 2033.0\n",
            "+ Loan_Purposerenewable_energy    1       0.5  5598.3 2033.0\n",
            "+ Loan_Purposecredit_card         1       0.1  5598.6 2033.1\n",
            "+ Loan_Purposemedical             1       0.0  5598.7 2033.1\n",
            "- Revolving_CREDIT_Balance        1      15.3  5614.1 2033.3\n",
            "- Loan_Purposeeducational         1      20.7  5619.4 2034.8\n",
            "- Loan_Purposemajor_purchase      1      21.6  5620.3 2035.0\n",
            "- Loan_Purposemoving              1      23.3  5622.0 2035.5\n",
            "- Amount_Requested                1      35.2  5633.9 2038.7\n",
            "- Open_CREDIT_Lines               1      46.6  5645.4 2041.8\n",
            "- Loan_Purposeother               1      53.8  5652.6 2043.8\n",
            "- Amount_Funded_By_Investors      1      62.2  5661.0 2046.1\n",
            "- Inquiries_in_the_Last_6_Months  1     358.5  5957.2 2124.1\n",
            "- Loan_Length                     1    2062.2  7661.0 2509.2\n",
            "- Fico_Mean                       1   12877.9 18476.6 3857.1\n",
            "\n",
            "Step:  AIC=2029.26\n",
            "Interest_Rate ~ Amount_Requested + Amount_Funded_By_Investors + \n",
            "    Loan_Length + Debt_To_Income_Ratio + Monthly_Income + Open_CREDIT_Lines + \n",
            "    Revolving_CREDIT_Balance + Inquiries_in_the_Last_6_Months + \n",
            "    Employment_Length + Fico_Mean + Loan_Purposeeducational + \n",
            "    Loan_Purposehome_improvement + Loan_Purposehouse + Loan_Purposemajor_purchase + \n",
            "    Loan_Purposemoving + Loan_Purposeother + Loan_Purposesmall_business + \n",
            "    Loan_Purposevacation + Home_OwnershipOTHER + Home_OwnershipOWN + \n",
            "    Home_OwnershipRENT\n",
            "\n",
            "                                 Df Sum of Sq     RSS    AIC\n",
            "- Loan_Purposehome_improvement    1       3.2  5602.5 2028.1\n",
            "- Loan_Purposehouse               1       4.3  5603.5 2028.4\n",
            "- Employment_Length               1       4.9  5604.1 2028.6\n",
            "- Debt_To_Income_Ratio            1       5.3  5604.6 2028.7\n",
            "- Monthly_Income                  1       5.6  5604.8 2028.8\n",
            "- Loan_Purposevacation            1       6.0  5605.2 2028.9\n",
            "- Loan_Purposesmall_business      1       6.3  5605.6 2029.0\n",
            "<none>                                         5599.2 2029.3\n",
            "- Home_OwnershipOWN               1       8.7  5607.9 2029.6\n",
            "- Home_OwnershipOTHER             1      10.0  5609.2 2030.0\n",
            "+ Loan_Purposewedding             1       1.5  5597.7 2030.8\n",
            "- Home_OwnershipRENT              1      13.5  5612.7 2030.9\n",
            "+ Loan_Purposecar                 1       0.5  5598.8 2031.1\n",
            "+ Loan_Purposerenewable_energy    1       0.4  5598.8 2031.1\n",
            "+ Loan_Purposedebt_consolidation  1       0.3  5598.9 2031.2\n",
            "+ Loan_Purposecredit_card         1       0.2  5599.1 2031.2\n",
            "+ Loan_Purposemedical             1       0.0  5599.2 2031.2\n",
            "- Revolving_CREDIT_Balance        1      15.7  5614.9 2031.5\n",
            "- Loan_Purposeeducational         1      20.5  5619.7 2032.8\n",
            "- Loan_Purposemajor_purchase      1      21.2  5620.4 2033.0\n",
            "- Loan_Purposemoving              1      23.1  5622.3 2033.6\n",
            "- Amount_Requested                1      35.0  5634.2 2036.8\n",
            "- Open_CREDIT_Lines               1      46.5  5645.7 2039.9\n",
            "- Loan_Purposeother               1      53.4  5652.6 2041.8\n",
            "- Amount_Funded_By_Investors      1      62.0  5661.3 2044.1\n",
            "- Inquiries_in_the_Last_6_Months  1     358.0  5957.2 2122.1\n",
            "- Loan_Length                     1    2103.2  7702.4 2515.5\n",
            "- Fico_Mean                       1   12995.7 18594.9 3864.9\n",
            "\n",
            "Step:  AIC=2028.15\n",
            "Interest_Rate ~ Amount_Requested + Amount_Funded_By_Investors + \n",
            "    Loan_Length + Debt_To_Income_Ratio + Monthly_Income + Open_CREDIT_Lines + \n",
            "    Revolving_CREDIT_Balance + Inquiries_in_the_Last_6_Months + \n",
            "    Employment_Length + Fico_Mean + Loan_Purposeeducational + \n",
            "    Loan_Purposehouse + Loan_Purposemajor_purchase + Loan_Purposemoving + \n",
            "    Loan_Purposeother + Loan_Purposesmall_business + Loan_Purposevacation + \n",
            "    Home_OwnershipOTHER + Home_OwnershipOWN + Home_OwnershipRENT\n",
            "\n",
            "                                 Df Sum of Sq     RSS    AIC\n",
            "- Loan_Purposehouse               1       4.0  5606.5 2027.2\n",
            "- Employment_Length               1       4.9  5607.4 2027.5\n",
            "- Monthly_Income                  1       5.0  5607.5 2027.5\n",
            "- Debt_To_Income_Ratio            1       5.2  5607.7 2027.6\n",
            "- Loan_Purposesmall_business      1       5.5  5608.0 2027.7\n",
            "- Loan_Purposevacation            1       5.7  5608.2 2027.7\n",
            "<none>                                         5602.5 2028.1\n",
            "- Home_OwnershipOWN               1       8.7  5611.1 2028.5\n",
            "- Home_OwnershipOTHER             1       9.8  5612.3 2028.8\n",
            "+ Loan_Purposehome_improvement    1       3.2  5599.2 2029.3\n",
            "- Home_OwnershipRENT              1      11.9  5614.3 2029.4\n",
            "+ Loan_Purposewedding             1       1.7  5600.8 2029.7\n",
            "+ Loan_Purposecredit_card         1       0.4  5602.1 2030.0\n",
            "+ Loan_Purposerenewable_energy    1       0.4  5602.1 2030.0\n",
            "+ Loan_Purposecar                 1       0.3  5602.2 2030.1\n",
            "+ Loan_Purposemedical             1       0.1  5602.4 2030.1\n",
            "+ Loan_Purposedebt_consolidation  1       0.0  5602.4 2030.1\n",
            "- Revolving_CREDIT_Balance        1      17.0  5619.4 2030.8\n",
            "- Loan_Purposemajor_purchase      1      19.6  5622.1 2031.5\n",
            "- Loan_Purposeeducational         1      19.7  5622.2 2031.5\n",
            "- Loan_Purposemoving              1      22.5  5625.0 2032.3\n",
            "- Amount_Requested                1      37.3  5639.7 2036.3\n",
            "- Open_CREDIT_Lines               1      48.3  5650.8 2039.3\n",
            "- Loan_Purposeother               1      51.4  5653.9 2040.1\n",
            "- Amount_Funded_By_Investors      1      59.6  5662.1 2042.4\n",
            "- Inquiries_in_the_Last_6_Months  1     363.4  5965.9 2122.4\n",
            "- Loan_Length                     1    2118.0  7720.5 2517.1\n",
            "- Fico_Mean                       1   13127.2 18729.7 3873.9\n",
            "\n",
            "Step:  AIC=2027.24\n",
            "Interest_Rate ~ Amount_Requested + Amount_Funded_By_Investors + \n",
            "    Loan_Length + Debt_To_Income_Ratio + Monthly_Income + Open_CREDIT_Lines + \n",
            "    Revolving_CREDIT_Balance + Inquiries_in_the_Last_6_Months + \n",
            "    Employment_Length + Fico_Mean + Loan_Purposeeducational + \n",
            "    Loan_Purposemajor_purchase + Loan_Purposemoving + Loan_Purposeother + \n",
            "    Loan_Purposesmall_business + Loan_Purposevacation + Home_OwnershipOTHER + \n",
            "    Home_OwnershipOWN + Home_OwnershipRENT\n",
            "\n",
            "                                 Df Sum of Sq     RSS    AIC\n",
            "- Debt_To_Income_Ratio            1       4.9  5611.4 2026.6\n",
            "- Monthly_Income                  1       5.0  5611.4 2026.6\n",
            "- Loan_Purposesmall_business      1       5.3  5611.8 2026.7\n",
            "- Employment_Length               1       5.4  5611.9 2026.7\n",
            "- Loan_Purposevacation            1       5.6  5612.1 2026.8\n",
            "<none>                                         5606.5 2027.2\n",
            "- Home_OwnershipOWN               1       8.8  5615.3 2027.6\n",
            "- Home_OwnershipOTHER             1       9.8  5616.3 2027.9\n",
            "+ Loan_Purposehouse               1       4.0  5602.5 2028.1\n",
            "+ Loan_Purposehome_improvement    1       3.0  5603.5 2028.4\n",
            "- Home_OwnershipRENT              1      12.4  5618.9 2028.6\n",
            "+ Loan_Purposewedding             1       1.8  5604.7 2028.7\n",
            "+ Loan_Purposecredit_card         1       0.5  5605.9 2029.1\n",
            "+ Loan_Purposerenewable_energy    1       0.4  5606.1 2029.1\n",
            "+ Loan_Purposecar                 1       0.2  5606.2 2029.2\n",
            "+ Loan_Purposedebt_consolidation  1       0.2  5606.3 2029.2\n",
            "+ Loan_Purposemedical             1       0.1  5606.4 2029.2\n",
            "- Revolving_CREDIT_Balance        1      17.0  5623.5 2029.9\n",
            "- Loan_Purposemajor_purchase      1      19.1  5625.6 2030.5\n",
            "- Loan_Purposeeducational         1      19.5  5626.0 2030.6\n",
            "- Loan_Purposemoving              1      22.2  5628.7 2031.3\n",
            "- Amount_Requested                1      36.7  5643.2 2035.2\n",
            "- Open_CREDIT_Lines               1      49.2  5655.7 2038.6\n",
            "- Loan_Purposeother               1      50.5  5656.9 2039.0\n",
            "- Amount_Funded_By_Investors      1      60.3  5666.8 2041.6\n",
            "- Inquiries_in_the_Last_6_Months  1     367.3  5973.8 2122.4\n",
            "- Loan_Length                     1    2120.7  7727.2 2516.4\n",
            "- Fico_Mean                       1   13123.2 18729.7 3871.9\n",
            "\n",
            "Step:  AIC=2026.58\n",
            "Interest_Rate ~ Amount_Requested + Amount_Funded_By_Investors + \n",
            "    Loan_Length + Monthly_Income + Open_CREDIT_Lines + Revolving_CREDIT_Balance + \n",
            "    Inquiries_in_the_Last_6_Months + Employment_Length + Fico_Mean + \n",
            "    Loan_Purposeeducational + Loan_Purposemajor_purchase + Loan_Purposemoving + \n",
            "    Loan_Purposeother + Loan_Purposesmall_business + Loan_Purposevacation + \n",
            "    Home_OwnershipOTHER + Home_OwnershipOWN + Home_OwnershipRENT\n",
            "\n",
            "                                 Df Sum of Sq     RSS    AIC\n",
            "- Loan_Purposesmall_business      1       5.0  5616.4 2026.0\n",
            "- Employment_Length               1       5.4  5616.8 2026.1\n",
            "- Loan_Purposevacation            1       5.7  5617.1 2026.1\n",
            "<none>                                         5611.4 2026.6\n",
            "- Home_OwnershipOWN               1       9.1  5620.5 2027.1\n",
            "- Home_OwnershipOTHER             1       9.5  5620.9 2027.2\n",
            "+ Debt_To_Income_Ratio            1       4.9  5606.5 2027.2\n",
            "- Monthly_Income                  1      10.6  5622.0 2027.5\n",
            "+ Loan_Purposehouse               1       3.7  5607.7 2027.6\n",
            "+ Loan_Purposehome_improvement    1       2.8  5608.5 2027.8\n",
            "- Home_OwnershipRENT              1      12.6  5623.9 2028.0\n",
            "+ Loan_Purposewedding             1       1.8  5609.5 2028.1\n",
            "- Revolving_CREDIT_Balance        1      13.6  5625.0 2028.3\n",
            "+ Loan_Purposecredit_card         1       0.6  5610.8 2028.4\n",
            "+ Loan_Purposerenewable_energy    1       0.4  5611.0 2028.5\n",
            "+ Loan_Purposecar                 1       0.2  5611.2 2028.5\n",
            "+ Loan_Purposedebt_consolidation  1       0.2  5611.2 2028.5\n",
            "+ Loan_Purposemedical             1       0.1  5611.3 2028.6\n",
            "- Loan_Purposemajor_purchase      1      18.3  5629.7 2029.6\n",
            "- Loan_Purposeeducational         1      18.4  5629.8 2029.6\n",
            "- Loan_Purposemoving              1      22.2  5633.5 2030.6\n",
            "- Amount_Requested                1      36.3  5647.6 2034.4\n",
            "- Open_CREDIT_Lines               1      44.3  5655.7 2036.6\n",
            "- Loan_Purposeother               1      49.9  5661.3 2038.1\n",
            "- Amount_Funded_By_Investors      1      62.6  5674.0 2041.6\n",
            "- Inquiries_in_the_Last_6_Months  1     366.3  5977.7 2121.4\n",
            "- Loan_Length                     1    2116.0  7727.4 2514.5\n",
            "- Fico_Mean                       1   13493.8 19105.2 3900.3\n",
            "\n",
            "Step:  AIC=2025.95\n",
            "Interest_Rate ~ Amount_Requested + Amount_Funded_By_Investors + \n",
            "    Loan_Length + Monthly_Income + Open_CREDIT_Lines + Revolving_CREDIT_Balance + \n",
            "    Inquiries_in_the_Last_6_Months + Employment_Length + Fico_Mean + \n",
            "    Loan_Purposeeducational + Loan_Purposemajor_purchase + Loan_Purposemoving + \n",
            "    Loan_Purposeother + Loan_Purposevacation + Home_OwnershipOTHER + \n",
            "    Home_OwnershipOWN + Home_OwnershipRENT\n",
            "\n",
            "                                 Df Sum of Sq     RSS    AIC\n",
            "- Employment_Length               1       5.3  5621.7 2025.4\n",
            "- Loan_Purposevacation            1       5.5  5621.9 2025.4\n",
            "<none>                                         5616.4 2026.0\n",
            "- Home_OwnershipOWN               1       9.3  5625.7 2026.5\n",
            "- Home_OwnershipOTHER             1       9.4  5625.9 2026.5\n",
            "+ Loan_Purposesmall_business      1       5.0  5611.4 2026.6\n",
            "- Monthly_Income                  1      10.0  5626.4 2026.7\n",
            "+ Debt_To_Income_Ratio            1       4.7  5611.8 2026.7\n",
            "+ Loan_Purposehouse               1       3.5  5613.0 2027.0\n",
            "+ Loan_Purposehome_improvement    1       2.1  5614.3 2027.4\n",
            "+ Loan_Purposewedding             1       2.0  5614.4 2027.4\n",
            "- Home_OwnershipRENT              1      12.8  5629.2 2027.4\n",
            "+ Loan_Purposedebt_consolidation  1       0.9  5615.5 2027.7\n",
            "+ Loan_Purposecredit_card         1       0.9  5615.5 2027.7\n",
            "+ Loan_Purposerenewable_energy    1       0.3  5616.1 2027.9\n",
            "+ Loan_Purposemedical             1       0.1  5616.3 2027.9\n",
            "+ Loan_Purposecar                 1       0.1  5616.3 2027.9\n",
            "- Revolving_CREDIT_Balance        1      14.8  5631.2 2028.0\n",
            "- Loan_Purposemajor_purchase      1      17.2  5633.6 2028.6\n",
            "- Loan_Purposeeducational         1      17.9  5634.3 2028.8\n",
            "- Loan_Purposemoving              1      21.6  5638.0 2029.8\n",
            "- Amount_Requested                1      37.4  5653.8 2034.1\n",
            "- Open_CREDIT_Lines               1      44.6  5661.0 2036.1\n",
            "- Loan_Purposeother               1      48.2  5664.6 2037.0\n",
            "- Amount_Funded_By_Investors      1      61.3  5677.7 2040.6\n",
            "- Inquiries_in_the_Last_6_Months  1     372.3  5988.7 2122.2\n",
            "- Loan_Length                     1    2124.3  7740.8 2515.1\n",
            "- Fico_Mean                       1   13537.9 19154.3 3902.2\n",
            "\n",
            "Step:  AIC=2025.4\n",
            "Interest_Rate ~ Amount_Requested + Amount_Funded_By_Investors + \n",
            "    Loan_Length + Monthly_Income + Open_CREDIT_Lines + Revolving_CREDIT_Balance + \n",
            "    Inquiries_in_the_Last_6_Months + Fico_Mean + Loan_Purposeeducational + \n",
            "    Loan_Purposemajor_purchase + Loan_Purposemoving + Loan_Purposeother + \n",
            "    Loan_Purposevacation + Home_OwnershipOTHER + Home_OwnershipOWN + \n",
            "    Home_OwnershipRENT\n",
            "\n",
            "                                 Df Sum of Sq     RSS    AIC\n",
            "- Loan_Purposevacation            1       5.1  5626.8 2024.8\n",
            "<none>                                         5621.7 2025.4\n",
            "- Home_OwnershipOWN               1       8.3  5630.0 2025.7\n",
            "- Home_OwnershipOTHER             1       9.1  5630.8 2025.9\n",
            "+ Employment_Length               1       5.3  5616.4 2026.0\n",
            "+ Loan_Purposesmall_business      1       4.9  5616.8 2026.1\n",
            "- Monthly_Income                  1       9.9  5631.7 2026.1\n",
            "+ Debt_To_Income_Ratio            1       4.7  5617.1 2026.1\n",
            "- Home_OwnershipRENT              1      10.1  5631.8 2026.1\n",
            "+ Loan_Purposehouse               1       4.0  5617.8 2026.3\n",
            "+ Loan_Purposewedding             1       2.4  5619.4 2026.8\n",
            "+ Loan_Purposehome_improvement    1       2.1  5619.6 2026.8\n",
            "+ Loan_Purposedebt_consolidation  1       0.9  5620.9 2027.2\n",
            "- Revolving_CREDIT_Balance        1      13.8  5635.6 2027.2\n",
            "+ Loan_Purposecredit_card         1       0.9  5620.9 2027.2\n",
            "+ Loan_Purposerenewable_energy    1       0.4  5621.4 2027.3\n",
            "+ Loan_Purposemedical             1       0.1  5621.6 2027.4\n",
            "+ Loan_Purposecar                 1       0.1  5621.7 2027.4\n",
            "- Loan_Purposemajor_purchase      1      16.5  5638.2 2027.9\n",
            "- Loan_Purposeeducational         1      17.6  5639.4 2028.2\n",
            "- Loan_Purposemoving              1      21.6  5643.3 2029.3\n",
            "- Amount_Requested                1      36.6  5658.4 2033.3\n",
            "- Open_CREDIT_Lines               1      44.5  5666.3 2035.5\n",
            "- Loan_Purposeother               1      47.9  5669.6 2036.4\n",
            "- Amount_Funded_By_Investors      1      63.8  5685.5 2040.7\n",
            "- Inquiries_in_the_Last_6_Months  1     370.6  5992.4 2121.1\n",
            "- Loan_Length                     1    2122.1  7743.9 2513.7\n",
            "- Fico_Mean                       1   13550.0 19171.8 3901.6\n",
            "\n",
            "Step:  AIC=2024.79\n",
            "Interest_Rate ~ Amount_Requested + Amount_Funded_By_Investors + \n",
            "    Loan_Length + Monthly_Income + Open_CREDIT_Lines + Revolving_CREDIT_Balance + \n",
            "    Inquiries_in_the_Last_6_Months + Fico_Mean + Loan_Purposeeducational + \n",
            "    Loan_Purposemajor_purchase + Loan_Purposemoving + Loan_Purposeother + \n",
            "    Home_OwnershipOTHER + Home_OwnershipOWN + Home_OwnershipRENT\n",
            "\n",
            "                                 Df Sum of Sq     RSS    AIC\n",
            "<none>                                         5626.8 2024.8\n",
            "- Home_OwnershipOWN               1       8.4  5635.2 2025.1\n",
            "- Monthly_Income                  1       8.9  5635.7 2025.2\n",
            "- Home_OwnershipOTHER             1       9.0  5635.8 2025.2\n",
            "+ Loan_Purposevacation            1       5.1  5621.7 2025.4\n",
            "+ Employment_Length               1       4.9  5621.9 2025.4\n",
            "+ Debt_To_Income_Ratio            1       4.8  5622.0 2025.5\n",
            "+ Loan_Purposesmall_business      1       4.7  5622.1 2025.5\n",
            "- Home_OwnershipRENT              1      10.2  5637.0 2025.6\n",
            "+ Loan_Purposehouse               1       3.9  5623.0 2025.7\n",
            "+ Loan_Purposewedding             1       2.5  5624.3 2026.1\n",
            "+ Loan_Purposehome_improvement    1       1.9  5624.9 2026.3\n",
            "+ Loan_Purposedebt_consolidation  1       1.4  5625.5 2026.4\n",
            "+ Loan_Purposecredit_card         1       1.1  5625.8 2026.5\n",
            "- Revolving_CREDIT_Balance        1      13.9  5640.7 2026.6\n",
            "+ Loan_Purposerenewable_energy    1       0.4  5626.5 2026.7\n",
            "+ Loan_Purposemedical             1       0.2  5626.7 2026.7\n",
            "+ Loan_Purposecar                 1       0.1  5626.8 2026.8\n",
            "- Loan_Purposemajor_purchase      1      15.9  5642.7 2027.1\n",
            "- Loan_Purposeeducational         1      17.4  5644.2 2027.5\n",
            "- Loan_Purposemoving              1      21.2  5648.0 2028.5\n",
            "- Amount_Requested                1      35.7  5662.6 2032.5\n",
            "- Open_CREDIT_Lines               1      44.7  5671.6 2034.9\n",
            "- Loan_Purposeother               1      46.7  5673.6 2035.5\n",
            "- Amount_Funded_By_Investors      1      63.9  5690.7 2040.1\n",
            "- Inquiries_in_the_Last_6_Months  1     368.6  5995.4 2119.9\n",
            "- Loan_Length                     1    2137.5  7764.3 2515.8\n",
            "- Fico_Mean                       1   13553.6 19180.4 3900.3\n"
          ]
        }
      ]
    },
    {
      "cell_type": "code",
      "source": [
        "# Mostrar resumen del modelo final\n",
        "summary(best_model)\n"
      ],
      "metadata": {
        "colab": {
          "base_uri": "https://localhost:8080/",
          "height": 659
        },
        "id": "envefTNsEarJ",
        "outputId": "b945cc1f-0afb-4930-d364-ecb1a8afb4c0"
      },
      "execution_count": 44,
      "outputs": [
        {
          "output_type": "display_data",
          "data": {
            "text/plain": [
              "\n",
              "Call:\n",
              "lm(formula = Interest_Rate ~ Amount_Requested + Amount_Funded_By_Investors + \n",
              "    Loan_Length + Monthly_Income + Open_CREDIT_Lines + Revolving_CREDIT_Balance + \n",
              "    Inquiries_in_the_Last_6_Months + Fico_Mean + Loan_Purposeeducational + \n",
              "    Loan_Purposemajor_purchase + Loan_Purposemoving + Loan_Purposeother + \n",
              "    Home_OwnershipOTHER + Home_OwnershipOWN + Home_OwnershipRENT, \n",
              "    data = train)\n",
              "\n",
              "Residuals:\n",
              "    Min      1Q  Median      3Q     Max \n",
              "-6.6610 -1.2328 -0.1626  1.1472  8.8434 \n",
              "\n",
              "Coefficients:\n",
              "                                 Estimate Std. Error t value Pr(>|t|)    \n",
              "(Intercept)                     7.303e+01  1.172e+00  62.312  < 2e-16 ***\n",
              "Amount_Requested                8.119e-05  2.619e-05   3.101 0.001966 ** \n",
              "Amount_Funded_By_Investors      1.062e-04  2.560e-05   4.147 3.56e-05 ***\n",
              "Loan_Length                     1.327e-01  5.533e-03  23.990  < 2e-16 ***\n",
              "Monthly_Income                 -3.523e-05  2.276e-05  -1.548 0.121828    \n",
              "Open_CREDIT_Lines              -4.755e-02  1.370e-02  -3.471 0.000534 ***\n",
              "Revolving_CREDIT_Balance       -1.102e-05  5.696e-06  -1.935 0.053233 .  \n",
              "Inquiries_in_the_Last_6_Months  4.962e-01  4.981e-02   9.962  < 2e-16 ***\n",
              "Fico_Mean                      -9.544e-02  1.580e-03 -60.409  < 2e-16 ***\n",
              "Loan_Purposeeducational         1.335e+00  6.177e-01   2.162 0.030795 *  \n",
              "Loan_Purposemajor_purchase      5.310e-01  2.569e-01   2.067 0.038927 *  \n",
              "Loan_Purposemoving              1.073e+00  4.492e-01   2.389 0.017030 *  \n",
              "Loan_Purposeother               7.060e-01  1.990e-01   3.547 0.000401 ***\n",
              "Home_OwnershipOTHER             1.741e+00  1.118e+00   1.557 0.119625    \n",
              "Home_OwnershipOWN               2.858e-01  1.902e-01   1.503 0.133079    \n",
              "Home_OwnershipRENT              1.823e-01  1.102e-01   1.654 0.098251 .  \n",
              "---\n",
              "Signif. codes:  0 ‘***’ 0.001 ‘**’ 0.01 ‘*’ 0.05 ‘.’ 0.1 ‘ ’ 1\n",
              "\n",
              "Residual standard error: 1.927 on 1515 degrees of freedom\n",
              "Multiple R-squared:  0.7928,\tAdjusted R-squared:  0.7908 \n",
              "F-statistic: 386.5 on 15 and 1515 DF,  p-value: < 2.2e-16\n"
            ]
          },
          "metadata": {}
        }
      ]
    },
    {
      "cell_type": "markdown",
      "source": [
        "# Reducción de variables en base al p-valor"
      ],
      "metadata": {
        "id": "RtcS1aY_9SNt"
      }
    },
    {
      "cell_type": "code",
      "source": [
        " finalmodel <- lm(Interest_Rate ~ Amount_Requested + Amount_Funded_By_Investors +\n",
        "    Loan_Length + Monthly_Income + Open_CREDIT_Lines + Revolving_CREDIT_Balance +\n",
        "    Inquiries_in_the_Last_6_Months + Fico_Mean + Loan_Purposeeducational +\n",
        "    Loan_Purposemajor_purchase + Loan_Purposemoving + Loan_Purposeother +\n",
        "    Home_OwnershipOTHER + Home_OwnershipOWN + Home_OwnershipRENT,\n",
        "    data = train)\n",
        "\n",
        "# Mostrar el resumen detallado del modelo\n",
        "summary(finalmodel)\n"
      ],
      "metadata": {
        "colab": {
          "base_uri": "https://localhost:8080/",
          "height": 659
        },
        "id": "r4jkp1noJ2XJ",
        "outputId": "cdc2c012-5faa-47c8-8883-35007a42a2f6"
      },
      "execution_count": 45,
      "outputs": [
        {
          "output_type": "display_data",
          "data": {
            "text/plain": [
              "\n",
              "Call:\n",
              "lm(formula = Interest_Rate ~ Amount_Requested + Amount_Funded_By_Investors + \n",
              "    Loan_Length + Monthly_Income + Open_CREDIT_Lines + Revolving_CREDIT_Balance + \n",
              "    Inquiries_in_the_Last_6_Months + Fico_Mean + Loan_Purposeeducational + \n",
              "    Loan_Purposemajor_purchase + Loan_Purposemoving + Loan_Purposeother + \n",
              "    Home_OwnershipOTHER + Home_OwnershipOWN + Home_OwnershipRENT, \n",
              "    data = train)\n",
              "\n",
              "Residuals:\n",
              "    Min      1Q  Median      3Q     Max \n",
              "-6.6610 -1.2328 -0.1626  1.1472  8.8434 \n",
              "\n",
              "Coefficients:\n",
              "                                 Estimate Std. Error t value Pr(>|t|)    \n",
              "(Intercept)                     7.303e+01  1.172e+00  62.312  < 2e-16 ***\n",
              "Amount_Requested                8.119e-05  2.619e-05   3.101 0.001966 ** \n",
              "Amount_Funded_By_Investors      1.062e-04  2.560e-05   4.147 3.56e-05 ***\n",
              "Loan_Length                     1.327e-01  5.533e-03  23.990  < 2e-16 ***\n",
              "Monthly_Income                 -3.523e-05  2.276e-05  -1.548 0.121828    \n",
              "Open_CREDIT_Lines              -4.755e-02  1.370e-02  -3.471 0.000534 ***\n",
              "Revolving_CREDIT_Balance       -1.102e-05  5.696e-06  -1.935 0.053233 .  \n",
              "Inquiries_in_the_Last_6_Months  4.962e-01  4.981e-02   9.962  < 2e-16 ***\n",
              "Fico_Mean                      -9.544e-02  1.580e-03 -60.409  < 2e-16 ***\n",
              "Loan_Purposeeducational         1.335e+00  6.177e-01   2.162 0.030795 *  \n",
              "Loan_Purposemajor_purchase      5.310e-01  2.569e-01   2.067 0.038927 *  \n",
              "Loan_Purposemoving              1.073e+00  4.492e-01   2.389 0.017030 *  \n",
              "Loan_Purposeother               7.060e-01  1.990e-01   3.547 0.000401 ***\n",
              "Home_OwnershipOTHER             1.741e+00  1.118e+00   1.557 0.119625    \n",
              "Home_OwnershipOWN               2.858e-01  1.902e-01   1.503 0.133079    \n",
              "Home_OwnershipRENT              1.823e-01  1.102e-01   1.654 0.098251 .  \n",
              "---\n",
              "Signif. codes:  0 ‘***’ 0.001 ‘**’ 0.01 ‘*’ 0.05 ‘.’ 0.1 ‘ ’ 1\n",
              "\n",
              "Residual standard error: 1.927 on 1515 degrees of freedom\n",
              "Multiple R-squared:  0.7928,\tAdjusted R-squared:  0.7908 \n",
              "F-statistic: 386.5 on 15 and 1515 DF,  p-value: < 2.2e-16\n"
            ]
          },
          "metadata": {}
        }
      ]
    },
    {
      "cell_type": "markdown",
      "source": [
        "# Post model"
      ],
      "metadata": {
        "id": "Ihi_Lw609rH3"
      }
    },
    {
      "cell_type": "code",
      "source": [
        "# Instalar paquetes si no los tienes\n",
        "install.packages(\"Metrics\")\n",
        "install.packages(\"stats\")\n",
        "\n",
        "# Cargar las bibliotecas\n",
        "library(Metrics)\n",
        "library(stats)\n"
      ],
      "metadata": {
        "colab": {
          "base_uri": "https://localhost:8080/"
        },
        "id": "usk9U2kb9dFx",
        "outputId": "205cf544-5dd2-4a96-bf8c-1d1d17bdd0bb"
      },
      "execution_count": 46,
      "outputs": [
        {
          "output_type": "stream",
          "name": "stderr",
          "text": [
            "Installing package into ‘/usr/local/lib/R/site-library’\n",
            "(as ‘lib’ is unspecified)\n",
            "\n",
            "Installing package into ‘/usr/local/lib/R/site-library’\n",
            "(as ‘lib’ is unspecified)\n",
            "\n",
            "\n",
            "Attaching package: ‘Metrics’\n",
            "\n",
            "\n",
            "The following objects are masked from ‘package:caret’:\n",
            "\n",
            "    precision, recall\n",
            "\n",
            "\n"
          ]
        }
      ]
    },
    {
      "cell_type": "code",
      "source": [
        "# Calcular valores ajustados y residuos\n",
        "y_pred <- fitted(finalmodel)\n",
        "residuals <- resid(finalmodel)\n",
        "\n",
        "# Configurar ventana gráfica\n",
        "par(mfrow=c(2,2))\n",
        "\n",
        "# Gráfico 1: Residuos vs Valores Ajustados\n",
        "plot(y_pred, residuals, main=\"Residuos vs Valores Ajustados\",\n",
        "     xlab=\"Valores Ajustados\", ylab=\"Residuos\", pch=16, col=alpha(\"blue\", 0.5))\n",
        "abline(h=0, col=\"red\", lty=2)\n",
        "\n",
        "# Gráfico 2: Residuos Estandarizados vs Valores Ajustados\n",
        "std_residuals <- rstandard(finalmodel)\n",
        "plot(y_pred, std_residuals, main=\"Residuos Estandarizados vs Valores Ajustados\",\n",
        "     xlab=\"Valores Ajustados\", ylab=\"Residuos Estandarizados\", pch=16, col=alpha(\"blue\", 0.5))\n",
        "abline(h=0, col=\"red\", lty=2)\n",
        "\n",
        "# Gráfico 3: Gráfico Q-Q\n",
        "qqnorm(residuals, main=\"Gráfico Q-Q\", pch=16)\n",
        "qqline(residuals, col=\"red\")\n",
        "\n",
        "# Gráfico 4: Histograma de Residuos\n",
        "hist(residuals, probability=TRUE, col=\"lightblue\", main=\"Histograma de Residuos\", xlab=\"Residuos\")\n",
        "lines(density(residuals), col=\"red\", lwd=2)\n",
        "\n",
        "# Restablecer ventana gráfica\n",
        "par(mfrow=c(1,1))\n"
      ],
      "metadata": {
        "colab": {
          "base_uri": "https://localhost:8080/",
          "height": 437
        },
        "id": "zn8vHDch9ymD",
        "outputId": "b00188d1-514e-4ba9-c56b-17135c1e1bbe"
      },
      "execution_count": 48,
      "outputs": [
        {
          "output_type": "display_data",
          "data": {
            "text/plain": [
              "Plot with title “Histograma de Residuos”"
            ],
            "image/png": "[encoded data removed]"
          },
          "metadata": {
            "image/png": {
              "width": 420,
              "height": 420
            }
          }
        }
      ]
    },
    {
      "cell_type": "markdown",
      "source": [
        "Puesto que el p-value es mayor que 0.05, aceptamos la hipótesis nula de que los residuos tienen la varianza constante, luego el modelo de regresión múltiple es apropiado"
      ],
      "metadata": {
        "id": "shJP77B7-IWf"
      }
    },
    {
      "cell_type": "code",
      "source": [
        "# Instalar paquete si no está disponible\n",
        "if (!require(lmtest)) install.packages(\"lmtest\", dependencies=TRUE)\n",
        "\n",
        "# Cargar la librería\n",
        "library(lmtest)\n",
        "\n",
        "# Prueba de Durbin-Watson\n",
        "dw_test <- dwtest(finalmodel)\n",
        "\n",
        "# Mostrar resultados\n",
        "print(dw_test)\n"
      ],
      "metadata": {
        "colab": {
          "base_uri": "https://localhost:8080/"
        },
        "id": "wlc9AZGt-Fx7",
        "outputId": "05f78228-8230-4ab1-ac61-2420f8e8448d"
      },
      "execution_count": 50,
      "outputs": [
        {
          "output_type": "stream",
          "name": "stdout",
          "text": [
            "\n",
            "\tDurbin-Watson test\n",
            "\n",
            "data:  finalmodel\n",
            "DW = 1.9957, p-value = 0.467\n",
            "alternative hypothesis: true autocorrelation is greater than 0\n",
            "\n"
          ]
        }
      ]
    },
    {
      "cell_type": "markdown",
      "source": [
        "Puesto que el indice de Durbin-Watson está entre 1.5 y 2.5, podemos considerar que la autocorrelación de residuos no es problemática en este modelo de regresión"
      ],
      "metadata": {
        "id": "L_FKHDB_-V8T"
      }
    },
    {
      "cell_type": "code",
      "source": [
        "# Agregar valores ajustados al conjunto de entrenamiento\n",
        "train$pred <- finalmodel$fitted.values\n",
        "\n",
        "# Mostrar las primeras 3 filas\n",
        "head(train, 3)\n"
      ],
      "metadata": {
        "colab": {
          "base_uri": "https://localhost:8080/",
          "height": 212
        },
        "id": "MytEZ2EV-iFi",
        "outputId": "74218169-08eb-420a-ecc4-9e2d498b9c55"
      },
      "execution_count": 51,
      "outputs": [
        {
          "output_type": "display_data",
          "data": {
            "text/html": [
              "<table class=\"dataframe\">\n",
              "<caption>A data.frame: 3 × 29</caption>\n",
              "<thead>\n",
              "\t<tr><th></th><th scope=col>Amount_Requested</th><th scope=col>Amount_Funded_By_Investors</th><th scope=col>Loan_Length</th><th scope=col>Debt_To_Income_Ratio</th><th scope=col>Monthly_Income</th><th scope=col>Open_CREDIT_Lines</th><th scope=col>Revolving_CREDIT_Balance</th><th scope=col>Inquiries_in_the_Last_6_Months</th><th scope=col>Employment_Length</th><th scope=col>Fico_Mean</th><th scope=col>⋯</th><th scope=col>Loan_Purposeother</th><th scope=col>Loan_Purposerenewable_energy</th><th scope=col>Loan_Purposesmall_business</th><th scope=col>Loan_Purposevacation</th><th scope=col>Loan_Purposewedding</th><th scope=col>Home_OwnershipOTHER</th><th scope=col>Home_OwnershipOWN</th><th scope=col>Home_OwnershipRENT</th><th scope=col>Interest_Rate</th><th scope=col>pred</th></tr>\n",
              "\t<tr><th></th><th scope=col>&lt;dbl&gt;</th><th scope=col>&lt;dbl&gt;</th><th scope=col>&lt;dbl&gt;</th><th scope=col>&lt;dbl&gt;</th><th scope=col>&lt;dbl&gt;</th><th scope=col>&lt;dbl&gt;</th><th scope=col>&lt;dbl&gt;</th><th scope=col>&lt;dbl&gt;</th><th scope=col>&lt;dbl&gt;</th><th scope=col>&lt;dbl&gt;</th><th scope=col>⋯</th><th scope=col>&lt;dbl&gt;</th><th scope=col>&lt;dbl&gt;</th><th scope=col>&lt;dbl&gt;</th><th scope=col>&lt;dbl&gt;</th><th scope=col>&lt;dbl&gt;</th><th scope=col>&lt;dbl&gt;</th><th scope=col>&lt;dbl&gt;</th><th scope=col>&lt;dbl&gt;</th><th scope=col>&lt;dbl&gt;</th><th scope=col>&lt;dbl&gt;</th></tr>\n",
              "</thead>\n",
              "<tbody>\n",
              "\t<tr><th scope=row>3</th><td> 2800</td><td> 2202.50</td><td>36</td><td> 3.50</td><td>2166.67</td><td>13</td><td> 1040.95</td><td>1</td><td>1</td><td>692</td><td>⋯</td><td>0</td><td>0</td><td>0</td><td>0</td><td>0</td><td>0</td><td>1</td><td>0</td><td>14.33</td><td>12.82991</td></tr>\n",
              "\t<tr><th scope=row>7</th><td>16000</td><td>16000.00</td><td>60</td><td>11.27</td><td>4791.67</td><td> 5</td><td> 8474.00</td><td>0</td><td>2</td><td>667</td><td>⋯</td><td>0</td><td>0</td><td>0</td><td>0</td><td>0</td><td>0</td><td>0</td><td>1</td><td>22.47</td><td>20.01330</td></tr>\n",
              "\t<tr><th scope=row>9</th><td>24000</td><td>23772.15</td><td>60</td><td>15.54</td><td>8333.33</td><td>18</td><td>40695.55</td><td>0</td><td>5</td><td>742</td><td>⋯</td><td>0</td><td>0</td><td>0</td><td>0</td><td>0</td><td>0</td><td>0</td><td>0</td><td>12.99</td><td>13.04999</td></tr>\n",
              "</tbody>\n",
              "</table>\n"
            ],
            "text/markdown": "\nA data.frame: 3 × 29\n\n| <!--/--> | Amount_Requested &lt;dbl&gt; | Amount_Funded_By_Investors &lt;dbl&gt; | Loan_Length &lt;dbl&gt; | Debt_To_Income_Ratio &lt;dbl&gt; | Monthly_Income &lt;dbl&gt; | Open_CREDIT_Lines &lt;dbl&gt; | Revolving_CREDIT_Balance &lt;dbl&gt; | Inquiries_in_the_Last_6_Months &lt;dbl&gt; | Employment_Length &lt;dbl&gt; | Fico_Mean &lt;dbl&gt; | ⋯ ⋯ | Loan_Purposeother &lt;dbl&gt; | Loan_Purposerenewable_energy &lt;dbl&gt; | Loan_Purposesmall_business &lt;dbl&gt; | Loan_Purposevacation &lt;dbl&gt; | Loan_Purposewedding &lt;dbl&gt; | Home_OwnershipOTHER &lt;dbl&gt; | Home_OwnershipOWN &lt;dbl&gt; | Home_OwnershipRENT &lt;dbl&gt; | Interest_Rate &lt;dbl&gt; | pred &lt;dbl&gt; |\n|---|---|---|---|---|---|---|---|---|---|---|---|---|---|---|---|---|---|---|---|---|---|\n| 3 |  2800 |  2202.50 | 36 |  3.50 | 2166.67 | 13 |  1040.95 | 1 | 1 | 692 | ⋯ | 0 | 0 | 0 | 0 | 0 | 0 | 1 | 0 | 14.33 | 12.82991 |\n| 7 | 16000 | 16000.00 | 60 | 11.27 | 4791.67 |  5 |  8474.00 | 0 | 2 | 667 | ⋯ | 0 | 0 | 0 | 0 | 0 | 0 | 0 | 1 | 22.47 | 20.01330 |\n| 9 | 24000 | 23772.15 | 60 | 15.54 | 8333.33 | 18 | 40695.55 | 0 | 5 | 742 | ⋯ | 0 | 0 | 0 | 0 | 0 | 0 | 0 | 0 | 12.99 | 13.04999 |\n\n",
            "text/latex": "A data.frame: 3 × 29\n\\begin{tabular}{r|lllllllllllllllllllll}\n  & Amount\\_Requested & Amount\\_Funded\\_By\\_Investors & Loan\\_Length & Debt\\_To\\_Income\\_Ratio & Monthly\\_Income & Open\\_CREDIT\\_Lines & Revolving\\_CREDIT\\_Balance & Inquiries\\_in\\_the\\_Last\\_6\\_Months & Employment\\_Length & Fico\\_Mean & ⋯ & Loan\\_Purposeother & Loan\\_Purposerenewable\\_energy & Loan\\_Purposesmall\\_business & Loan\\_Purposevacation & Loan\\_Purposewedding & Home\\_OwnershipOTHER & Home\\_OwnershipOWN & Home\\_OwnershipRENT & Interest\\_Rate & pred\\\\\n  & <dbl> & <dbl> & <dbl> & <dbl> & <dbl> & <dbl> & <dbl> & <dbl> & <dbl> & <dbl> & ⋯ & <dbl> & <dbl> & <dbl> & <dbl> & <dbl> & <dbl> & <dbl> & <dbl> & <dbl> & <dbl>\\\\\n\\hline\n\t3 &  2800 &  2202.50 & 36 &  3.50 & 2166.67 & 13 &  1040.95 & 1 & 1 & 692 & ⋯ & 0 & 0 & 0 & 0 & 0 & 0 & 1 & 0 & 14.33 & 12.82991\\\\\n\t7 & 16000 & 16000.00 & 60 & 11.27 & 4791.67 &  5 &  8474.00 & 0 & 2 & 667 & ⋯ & 0 & 0 & 0 & 0 & 0 & 0 & 0 & 1 & 22.47 & 20.01330\\\\\n\t9 & 24000 & 23772.15 & 60 & 15.54 & 8333.33 & 18 & 40695.55 & 0 & 5 & 742 & ⋯ & 0 & 0 & 0 & 0 & 0 & 0 & 0 & 0 & 12.99 & 13.04999\\\\\n\\end{tabular}\n",
            "text/plain": [
              "  Amount_Requested Amount_Funded_By_Investors Loan_Length Debt_To_Income_Ratio\n",
              "3  2800             2202.50                   36           3.50               \n",
              "7 16000            16000.00                   60          11.27               \n",
              "9 24000            23772.15                   60          15.54               \n",
              "  Monthly_Income Open_CREDIT_Lines Revolving_CREDIT_Balance\n",
              "3 2166.67        13                 1040.95                \n",
              "7 4791.67         5                 8474.00                \n",
              "9 8333.33        18                40695.55                \n",
              "  Inquiries_in_the_Last_6_Months Employment_Length Fico_Mean ⋯\n",
              "3 1                              1                 692       ⋯\n",
              "7 0                              2                 667       ⋯\n",
              "9 0                              5                 742       ⋯\n",
              "  Loan_Purposeother Loan_Purposerenewable_energy Loan_Purposesmall_business\n",
              "3 0                 0                            0                         \n",
              "7 0                 0                            0                         \n",
              "9 0                 0                            0                         \n",
              "  Loan_Purposevacation Loan_Purposewedding Home_OwnershipOTHER\n",
              "3 0                    0                   0                  \n",
              "7 0                    0                   0                  \n",
              "9 0                    0                   0                  \n",
              "  Home_OwnershipOWN Home_OwnershipRENT Interest_Rate pred    \n",
              "3 1                 0                  14.33         12.82991\n",
              "7 0                 1                  22.47         20.01330\n",
              "9 0                 0                  12.99         13.04999"
            ]
          },
          "metadata": {}
        }
      ]
    },
    {
      "cell_type": "code",
      "source": [
        "# Hacer predicciones sobre el conjunto de prueba\n",
        "test$pred <- predict(finalmodel, newdata = X_test)\n",
        "\n",
        "# Mostrar las primeras 6 filas\n",
        "head(test, 6)\n"
      ],
      "metadata": {
        "colab": {
          "base_uri": "https://localhost:8080/",
          "height": 306
        },
        "id": "FDWlV3tv-ktd",
        "outputId": "8a81ec9d-dc44-4c65-e4d1-6d33e340d668"
      },
      "execution_count": 53,
      "outputs": [
        {
          "output_type": "display_data",
          "data": {
            "text/html": [
              "<table class=\"dataframe\">\n",
              "<caption>A data.frame: 6 × 29</caption>\n",
              "<thead>\n",
              "\t<tr><th></th><th scope=col>Amount_Requested</th><th scope=col>Amount_Funded_By_Investors</th><th scope=col>Loan_Length</th><th scope=col>Debt_To_Income_Ratio</th><th scope=col>Monthly_Income</th><th scope=col>Open_CREDIT_Lines</th><th scope=col>Revolving_CREDIT_Balance</th><th scope=col>Inquiries_in_the_Last_6_Months</th><th scope=col>Employment_Length</th><th scope=col>Fico_Mean</th><th scope=col>⋯</th><th scope=col>Loan_Purposeother</th><th scope=col>Loan_Purposerenewable_energy</th><th scope=col>Loan_Purposesmall_business</th><th scope=col>Loan_Purposevacation</th><th scope=col>Loan_Purposewedding</th><th scope=col>Home_OwnershipOTHER</th><th scope=col>Home_OwnershipOWN</th><th scope=col>Home_OwnershipRENT</th><th scope=col>Interest_Rate</th><th scope=col>pred</th></tr>\n",
              "\t<tr><th></th><th scope=col>&lt;dbl&gt;</th><th scope=col>&lt;dbl&gt;</th><th scope=col>&lt;dbl&gt;</th><th scope=col>&lt;dbl&gt;</th><th scope=col>&lt;dbl&gt;</th><th scope=col>&lt;dbl&gt;</th><th scope=col>&lt;dbl&gt;</th><th scope=col>&lt;dbl&gt;</th><th scope=col>&lt;dbl&gt;</th><th scope=col>&lt;dbl&gt;</th><th scope=col>⋯</th><th scope=col>&lt;dbl&gt;</th><th scope=col>&lt;dbl&gt;</th><th scope=col>&lt;dbl&gt;</th><th scope=col>&lt;dbl&gt;</th><th scope=col>&lt;dbl&gt;</th><th scope=col>&lt;dbl&gt;</th><th scope=col>&lt;dbl&gt;</th><th scope=col>&lt;dbl&gt;</th><th scope=col>&lt;dbl&gt;</th><th scope=col>&lt;dbl&gt;</th></tr>\n",
              "</thead>\n",
              "<tbody>\n",
              "\t<tr><th scope=row>1</th><td>25000</td><td>25000.00</td><td>60</td><td>27.56</td><td>8606.56</td><td>11</td><td>15210.00</td><td>3</td><td> 5</td><td>722</td><td>⋯</td><td>0</td><td>0</td><td>0</td><td>0</td><td>0</td><td>0</td><td>0</td><td>0</td><td>18.49</td><td>17.263080</td></tr>\n",
              "\t<tr><th scope=row>2</th><td>19750</td><td>19750.00</td><td>60</td><td>13.39</td><td>6737.50</td><td>14</td><td>19070.00</td><td>3</td><td> 4</td><td>712</td><td>⋯</td><td>0</td><td>0</td><td>0</td><td>0</td><td>0</td><td>0</td><td>0</td><td>0</td><td>17.27</td><td>17.114441</td></tr>\n",
              "\t<tr><th scope=row>4</th><td>28000</td><td>27950.00</td><td>36</td><td>19.62</td><td>7083.33</td><td>12</td><td>38194.00</td><td>1</td><td>10</td><td>712</td><td>⋯</td><td>0</td><td>0</td><td>0</td><td>0</td><td>0</td><td>0</td><td>0</td><td>0</td><td>16.29</td><td>14.349088</td></tr>\n",
              "\t<tr><th scope=row>5</th><td>24250</td><td>17431.82</td><td>60</td><td>23.79</td><td>5833.33</td><td> 6</td><td>31061.00</td><td>2</td><td>10</td><td>732</td><td>⋯</td><td>0</td><td>0</td><td>0</td><td>0</td><td>0</td><td>0</td><td>0</td><td>0</td><td>12.23</td><td>15.108750</td></tr>\n",
              "\t<tr><th scope=row>6</th><td> 5400</td><td> 5375.00</td><td>36</td><td> 6.27</td><td>3000.00</td><td> 4</td><td> 1040.95</td><td>2</td><td> 5</td><td>777</td><td>⋯</td><td>0</td><td>0</td><td>1</td><td>0</td><td>0</td><td>0</td><td>0</td><td>1</td><td> 8.90</td><td> 5.525857</td></tr>\n",
              "\t<tr><th scope=row>8</th><td> 6400</td><td> 6400.00</td><td>36</td><td> 9.58</td><td>6400.00</td><td>11</td><td>12306.00</td><td>1</td><td> 1</td><td>737</td><td>⋯</td><td>0</td><td>0</td><td>0</td><td>0</td><td>0</td><td>0</td><td>0</td><td>1</td><td> 7.51</td><td> 8.991435</td></tr>\n",
              "</tbody>\n",
              "</table>\n"
            ],
            "text/markdown": "\nA data.frame: 6 × 29\n\n| <!--/--> | Amount_Requested &lt;dbl&gt; | Amount_Funded_By_Investors &lt;dbl&gt; | Loan_Length &lt;dbl&gt; | Debt_To_Income_Ratio &lt;dbl&gt; | Monthly_Income &lt;dbl&gt; | Open_CREDIT_Lines &lt;dbl&gt; | Revolving_CREDIT_Balance &lt;dbl&gt; | Inquiries_in_the_Last_6_Months &lt;dbl&gt; | Employment_Length &lt;dbl&gt; | Fico_Mean &lt;dbl&gt; | ⋯ ⋯ | Loan_Purposeother &lt;dbl&gt; | Loan_Purposerenewable_energy &lt;dbl&gt; | Loan_Purposesmall_business &lt;dbl&gt; | Loan_Purposevacation &lt;dbl&gt; | Loan_Purposewedding &lt;dbl&gt; | Home_OwnershipOTHER &lt;dbl&gt; | Home_OwnershipOWN &lt;dbl&gt; | Home_OwnershipRENT &lt;dbl&gt; | Interest_Rate &lt;dbl&gt; | pred &lt;dbl&gt; |\n|---|---|---|---|---|---|---|---|---|---|---|---|---|---|---|---|---|---|---|---|---|---|\n| 1 | 25000 | 25000.00 | 60 | 27.56 | 8606.56 | 11 | 15210.00 | 3 |  5 | 722 | ⋯ | 0 | 0 | 0 | 0 | 0 | 0 | 0 | 0 | 18.49 | 17.263080 |\n| 2 | 19750 | 19750.00 | 60 | 13.39 | 6737.50 | 14 | 19070.00 | 3 |  4 | 712 | ⋯ | 0 | 0 | 0 | 0 | 0 | 0 | 0 | 0 | 17.27 | 17.114441 |\n| 4 | 28000 | 27950.00 | 36 | 19.62 | 7083.33 | 12 | 38194.00 | 1 | 10 | 712 | ⋯ | 0 | 0 | 0 | 0 | 0 | 0 | 0 | 0 | 16.29 | 14.349088 |\n| 5 | 24250 | 17431.82 | 60 | 23.79 | 5833.33 |  6 | 31061.00 | 2 | 10 | 732 | ⋯ | 0 | 0 | 0 | 0 | 0 | 0 | 0 | 0 | 12.23 | 15.108750 |\n| 6 |  5400 |  5375.00 | 36 |  6.27 | 3000.00 |  4 |  1040.95 | 2 |  5 | 777 | ⋯ | 0 | 0 | 1 | 0 | 0 | 0 | 0 | 1 |  8.90 |  5.525857 |\n| 8 |  6400 |  6400.00 | 36 |  9.58 | 6400.00 | 11 | 12306.00 | 1 |  1 | 737 | ⋯ | 0 | 0 | 0 | 0 | 0 | 0 | 0 | 1 |  7.51 |  8.991435 |\n\n",
            "text/latex": "A data.frame: 6 × 29\n\\begin{tabular}{r|lllllllllllllllllllll}\n  & Amount\\_Requested & Amount\\_Funded\\_By\\_Investors & Loan\\_Length & Debt\\_To\\_Income\\_Ratio & Monthly\\_Income & Open\\_CREDIT\\_Lines & Revolving\\_CREDIT\\_Balance & Inquiries\\_in\\_the\\_Last\\_6\\_Months & Employment\\_Length & Fico\\_Mean & ⋯ & Loan\\_Purposeother & Loan\\_Purposerenewable\\_energy & Loan\\_Purposesmall\\_business & Loan\\_Purposevacation & Loan\\_Purposewedding & Home\\_OwnershipOTHER & Home\\_OwnershipOWN & Home\\_OwnershipRENT & Interest\\_Rate & pred\\\\\n  & <dbl> & <dbl> & <dbl> & <dbl> & <dbl> & <dbl> & <dbl> & <dbl> & <dbl> & <dbl> & ⋯ & <dbl> & <dbl> & <dbl> & <dbl> & <dbl> & <dbl> & <dbl> & <dbl> & <dbl> & <dbl>\\\\\n\\hline\n\t1 & 25000 & 25000.00 & 60 & 27.56 & 8606.56 & 11 & 15210.00 & 3 &  5 & 722 & ⋯ & 0 & 0 & 0 & 0 & 0 & 0 & 0 & 0 & 18.49 & 17.263080\\\\\n\t2 & 19750 & 19750.00 & 60 & 13.39 & 6737.50 & 14 & 19070.00 & 3 &  4 & 712 & ⋯ & 0 & 0 & 0 & 0 & 0 & 0 & 0 & 0 & 17.27 & 17.114441\\\\\n\t4 & 28000 & 27950.00 & 36 & 19.62 & 7083.33 & 12 & 38194.00 & 1 & 10 & 712 & ⋯ & 0 & 0 & 0 & 0 & 0 & 0 & 0 & 0 & 16.29 & 14.349088\\\\\n\t5 & 24250 & 17431.82 & 60 & 23.79 & 5833.33 &  6 & 31061.00 & 2 & 10 & 732 & ⋯ & 0 & 0 & 0 & 0 & 0 & 0 & 0 & 0 & 12.23 & 15.108750\\\\\n\t6 &  5400 &  5375.00 & 36 &  6.27 & 3000.00 &  4 &  1040.95 & 2 &  5 & 777 & ⋯ & 0 & 0 & 1 & 0 & 0 & 0 & 0 & 1 &  8.90 &  5.525857\\\\\n\t8 &  6400 &  6400.00 & 36 &  9.58 & 6400.00 & 11 & 12306.00 & 1 &  1 & 737 & ⋯ & 0 & 0 & 0 & 0 & 0 & 0 & 0 & 1 &  7.51 &  8.991435\\\\\n\\end{tabular}\n",
            "text/plain": [
              "  Amount_Requested Amount_Funded_By_Investors Loan_Length Debt_To_Income_Ratio\n",
              "1 25000            25000.00                   60          27.56               \n",
              "2 19750            19750.00                   60          13.39               \n",
              "4 28000            27950.00                   36          19.62               \n",
              "5 24250            17431.82                   60          23.79               \n",
              "6  5400             5375.00                   36           6.27               \n",
              "8  6400             6400.00                   36           9.58               \n",
              "  Monthly_Income Open_CREDIT_Lines Revolving_CREDIT_Balance\n",
              "1 8606.56        11                15210.00                \n",
              "2 6737.50        14                19070.00                \n",
              "4 7083.33        12                38194.00                \n",
              "5 5833.33         6                31061.00                \n",
              "6 3000.00         4                 1040.95                \n",
              "8 6400.00        11                12306.00                \n",
              "  Inquiries_in_the_Last_6_Months Employment_Length Fico_Mean ⋯\n",
              "1 3                               5                722       ⋯\n",
              "2 3                               4                712       ⋯\n",
              "4 1                              10                712       ⋯\n",
              "5 2                              10                732       ⋯\n",
              "6 2                               5                777       ⋯\n",
              "8 1                               1                737       ⋯\n",
              "  Loan_Purposeother Loan_Purposerenewable_energy Loan_Purposesmall_business\n",
              "1 0                 0                            0                         \n",
              "2 0                 0                            0                         \n",
              "4 0                 0                            0                         \n",
              "5 0                 0                            0                         \n",
              "6 0                 0                            1                         \n",
              "8 0                 0                            0                         \n",
              "  Loan_Purposevacation Loan_Purposewedding Home_OwnershipOTHER\n",
              "1 0                    0                   0                  \n",
              "2 0                    0                   0                  \n",
              "4 0                    0                   0                  \n",
              "5 0                    0                   0                  \n",
              "6 0                    0                   0                  \n",
              "8 0                    0                   0                  \n",
              "  Home_OwnershipOWN Home_OwnershipRENT Interest_Rate pred     \n",
              "1 0                 0                  18.49         17.263080\n",
              "2 0                 0                  17.27         17.114441\n",
              "4 0                 0                  16.29         14.349088\n",
              "5 0                 0                  12.23         15.108750\n",
              "6 0                 1                   8.90          5.525857\n",
              "8 0                 1                   7.51          8.991435"
            ]
          },
          "metadata": {}
        }
      ]
    },
    {
      "cell_type": "code",
      "source": [
        "# Cargar librerías necesarias\n",
        "library(Metrics)\n",
        "\n",
        "# Error absoluto medio porcentual (MAPE)\n",
        "MAPE_train <- round(mean(abs((train$Interest_Rate - train$pred) / train$Interest_Rate)) * 100, 2)\n",
        "cat(\"MAPE_train:\", MAPE_train, \"\\n\")\n",
        "\n",
        "# Mean Squared Error (MSE)\n",
        "MSE_train <- mean((train$Interest_Rate - train$pred)^2)\n",
        "cat(\"MSE_train:\", MSE_train, \"\\n\")\n",
        "\n",
        "# Coeficiente de correlación de Pearson\n",
        "Corr_train <- cor(train$Interest_Rate, train$pred)\n",
        "cat(\"Corr_train:\", Corr_train, \"\\n\")\n"
      ],
      "metadata": {
        "colab": {
          "base_uri": "https://localhost:8080/"
        },
        "id": "ypGydmfB-o2t",
        "outputId": "f7cbc7da-1a4f-4062-feb3-dd05dae658bd"
      },
      "execution_count": 54,
      "outputs": [
        {
          "output_type": "stream",
          "name": "stdout",
          "text": [
            "MAPE_train: 12.55 \n",
            "MSE_train: 3.675273 \n",
            "Corr_train: 0.8903949 \n"
          ]
        }
      ]
    },
    {
      "cell_type": "code",
      "source": [
        "# Cargar librerías necesarias\n",
        "library(Metrics)\n",
        "\n",
        "# Error absoluto medio porcentual (MAPE)\n",
        "MAPE_test <- round(mean(abs((test$Interest_Rate - test$pred) / test$Interest_Rate)) * 100, 2)\n",
        "cat(\"MAPE_test:\", MAPE_test, \"\\n\")\n",
        "\n",
        "# Mean Squared Error (MSE)\n",
        "MSE_test <- mean((test$Interest_Rate - test$pred)^2)\n",
        "cat(\"MSE_test:\", MSE_test, \"\\n\")\n",
        "\n",
        "# Coeficiente de correlación de Pearson\n",
        "Corr_test <- cor(test$Interest_Rate, test$pred)\n",
        "cat(\"Corr_test:\", Corr_test, \"\\n\")\n"
      ],
      "metadata": {
        "colab": {
          "base_uri": "https://localhost:8080/"
        },
        "id": "5f6F4UtF-xT2",
        "outputId": "81a34e62-38f3-4c2c-b1b7-50fa4275dce7"
      },
      "execution_count": 55,
      "outputs": [
        {
          "output_type": "stream",
          "name": "stdout",
          "text": [
            "MAPE_test: 12.82 \n",
            "MSE_test: 3.749229 \n",
            "Corr_test: 0.8806242 \n"
          ]
        }
      ]
    },
    {
      "cell_type": "markdown",
      "source": [
        "# Decile Analisys"
      ],
      "metadata": {
        "id": "2GgYp42R-6wR"
      }
    },
    {
      "cell_type": "code",
      "source": [
        "# Crear deciles basados en la predicción del modelo\n",
        "train$Deciles <- cut(train$pred,\n",
        "                     breaks = quantile(train$pred, probs = seq(0, 1, by = 0.1), na.rm = TRUE),\n",
        "                     labels = FALSE,\n",
        "                     include.lowest = TRUE)\n",
        "\n",
        "# Ver los primeros valores\n",
        "head(train$Deciles)\n"
      ],
      "metadata": {
        "colab": {
          "base_uri": "https://localhost:8080/",
          "height": 34
        },
        "id": "TkcvLz5k-3QZ",
        "outputId": "baadda47-61e6-4f65-9e81-55b40f59f3b9"
      },
      "execution_count": 56,
      "outputs": [
        {
          "output_type": "display_data",
          "data": {
            "text/html": [
              "<style>\n",
              ".list-inline {list-style: none; margin:0; padding: 0}\n",
              ".list-inline>li {display: inline-block}\n",
              ".list-inline>li:not(:last-child)::after {content: \"\\00b7\"; padding: 0 .5ex}\n",
              "</style>\n",
              "<ol class=list-inline><li>5</li><li>10</li><li>5</li><li>1</li><li>3</li><li>2</li></ol>\n"
            ],
            "text/markdown": "1. 5\n2. 10\n3. 5\n4. 1\n5. 3\n6. 2\n\n\n",
            "text/latex": "\\begin{enumerate*}\n\\item 5\n\\item 10\n\\item 5\n\\item 1\n\\item 3\n\\item 2\n\\end{enumerate*}\n",
            "text/plain": [
              "[1]  5 10  5  1  3  2"
            ]
          },
          "metadata": {}
        }
      ]
    },
    {
      "cell_type": "code",
      "source": [
        "# Calcular el promedio del interés real por decil\n",
        "avg_actual <- aggregate(Interest_Rate ~ Deciles, data = train, FUN = mean)\n",
        "\n",
        "# Calcular el promedio de la predicción por decil\n",
        "avg_pred <- aggregate(pred ~ Deciles, data = train, FUN = mean)\n",
        "\n",
        "# Ordenar los deciles en orden descendente\n",
        "avg_actual <- avg_actual[order(-avg_actual$Deciles), ]\n",
        "avg_pred <- avg_pred[order(-avg_pred$Deciles), ]\n",
        "\n",
        "# Combinar ambos resultados en un solo data frame\n",
        "Decile_analysis_train <- merge(avg_actual, avg_pred, by = \"Deciles\")\n",
        "\n",
        "# Ver los resultados\n",
        "print(Decile_analysis_train)\n"
      ],
      "metadata": {
        "colab": {
          "base_uri": "https://localhost:8080/"
        },
        "id": "oyW0pLq3_C5b",
        "outputId": "f9a32aa5-7967-46b6-c510-a063d4585548"
      },
      "execution_count": 57,
      "outputs": [
        {
          "output_type": "stream",
          "name": "stdout",
          "text": [
            "   Deciles Interest_Rate      pred\n",
            "1        1      7.272078  6.148314\n",
            "2        2      8.626863  8.906078\n",
            "3        3      9.868954 10.556237\n",
            "4        4     11.420523 11.921866\n",
            "5        5     12.715425 13.044994\n",
            "6        6     13.258105 13.878491\n",
            "7        7     14.856993 14.699645\n",
            "8        8     15.973529 15.544442\n",
            "9        9     16.776144 16.662123\n",
            "10      10     20.090654 19.504422\n"
          ]
        }
      ]
    },
    {
      "cell_type": "code",
      "source": [
        "# Cargar librería\n",
        "library(ggplot2)\n",
        "\n",
        "# Crear el gráfico de líneas\n",
        "ggplot(Decile_analysis_train, aes(x = Deciles)) +\n",
        "  geom_line(aes(y = Interest_Rate, color = \"Actual Interest Rate\"), size = 1) +\n",
        "  geom_line(aes(y = pred, color = \"Predicted Interest Rate\"), size = 1) +\n",
        "  labs(title = \"Análisis por Deciles: Tasa de Interés Real vs Predicha\",\n",
        "       x = \"Decil\",\n",
        "       y = \"Tasa de Interés\",\n",
        "       color = \"Leyenda\") +\n",
        "  theme_minimal()\n"
      ],
      "metadata": {
        "colab": {
          "base_uri": "https://localhost:8080/",
          "height": 437
        },
        "id": "QKgQ54Rn_IdE",
        "outputId": "210414b7-d340-48c9-a3cb-87c03e9b4aa8"
      },
      "execution_count": 58,
      "outputs": [
        {
          "output_type": "display_data",
          "data": {
            "text/plain": [
              "plot without title"
            ],
            "image/png": "[encoded data removed]"
          },
          "metadata": {
            "image/png": {
              "width": 420,
              "height": 420
            }
          }
        }
      ]
    },
    {
      "cell_type": "code",
      "source": [
        "# Cargar librerías\n",
        "library(dplyr)\n",
        "\n",
        "# Crear los deciles con qcut en R\n",
        "test$Deciles <- cut(test$pred,\n",
        "                    breaks = quantile(test$pred, probs = seq(0, 1, by = 0.1), na.rm = TRUE),\n",
        "                    labels = FALSE, include.lowest = TRUE)\n",
        "\n",
        "# Calcular el promedio de Interest_Rate y pred por decil\n",
        "Decile_analysis_test <- test %>%\n",
        "  group_by(Deciles) %>%\n",
        "  summarise(Interest_Rate = mean(Interest_Rate, na.rm = TRUE),\n",
        "            pred = mean(pred, na.rm = TRUE)) %>%\n",
        "  arrange(desc(Deciles))\n",
        "\n",
        "# Mostrar resultado\n",
        "print(Decile_analysis_test)\n"
      ],
      "metadata": {
        "colab": {
          "base_uri": "https://localhost:8080/"
        },
        "id": "9vZcNKCb_TEN",
        "outputId": "45f54b39-178d-4851-86be-3ff29ecf6fdf"
      },
      "execution_count": 59,
      "outputs": [
        {
          "output_type": "stream",
          "name": "stdout",
          "text": [
            "\u001b[90m# A tibble: 10 × 3\u001b[39m\n",
            "   Deciles Interest_Rate  pred\n",
            "     \u001b[3m\u001b[90m<int>\u001b[39m\u001b[23m         \u001b[3m\u001b[90m<dbl>\u001b[39m\u001b[23m \u001b[3m\u001b[90m<dbl>\u001b[39m\u001b[23m\n",
            "\u001b[90m 1\u001b[39m      10         19.4  19.5 \n",
            "\u001b[90m 2\u001b[39m       9         16.9  16.6 \n",
            "\u001b[90m 3\u001b[39m       8         15.3  15.5 \n",
            "\u001b[90m 4\u001b[39m       7         14.5  14.7 \n",
            "\u001b[90m 5\u001b[39m       6         13.8  13.8 \n",
            "\u001b[90m 6\u001b[39m       5         12.6  13.0 \n",
            "\u001b[90m 7\u001b[39m       4         11.4  11.9 \n",
            "\u001b[90m 8\u001b[39m       3          9.77 10.7 \n",
            "\u001b[90m 9\u001b[39m       2          8.79  8.87\n",
            "\u001b[90m10\u001b[39m       1          7.42  5.98\n"
          ]
        }
      ]
    },
    {
      "cell_type": "code",
      "source": [
        "SSE <- sum((test$Interest_Rate - test$pred)^2)  # Suma de errores al cuadrado\n",
        "SST <- sum((test$Interest_Rate - mean(test$Interest_Rate))^2)  # Suma total de cuadrados\n",
        "R2_test <- 1 - (SSE / SST)\n",
        "print(R2_test)\n"
      ],
      "metadata": {
        "colab": {
          "base_uri": "https://localhost:8080/"
        },
        "id": "As03IND7PQ2U",
        "outputId": "85ebfda7-a72a-4a8d-dfe2-1a050807b9f9"
      },
      "execution_count": 60,
      "outputs": [
        {
          "output_type": "stream",
          "name": "stdout",
          "text": [
            "[1] 0.7730754\n"
          ]
        }
      ]
    },
    {
      "cell_type": "markdown",
      "source": [
        "# REGULARIZACIÓN"
      ],
      "metadata": {
        "id": "LnlNk5TEWEUQ"
      }
    },
    {
      "cell_type": "code",
      "source": [
        "install.packages(\"glmnet\")"
      ],
      "metadata": {
        "colab": {
          "base_uri": "https://localhost:8080/"
        },
        "id": "f98X_Si3WEAZ",
        "outputId": "2d37485e-fc57-4c4c-f620-dd23b7425d4f"
      },
      "execution_count": 61,
      "outputs": [
        {
          "output_type": "stream",
          "name": "stderr",
          "text": [
            "Installing package into ‘/usr/local/lib/R/site-library’\n",
            "(as ‘lib’ is unspecified)\n",
            "\n"
          ]
        }
      ]
    },
    {
      "cell_type": "code",
      "source": [
        "\n",
        "library(glmnet)"
      ],
      "metadata": {
        "colab": {
          "base_uri": "https://localhost:8080/"
        },
        "id": "bRnDsiWcXe2X",
        "outputId": "fee8c2f3-0222-4a38-f0ac-028597e24ab1"
      },
      "execution_count": 62,
      "outputs": [
        {
          "output_type": "stream",
          "name": "stderr",
          "text": [
            "Loading required package: Matrix\n",
            "\n",
            "\n",
            "Attaching package: ‘Matrix’\n",
            "\n",
            "\n",
            "The following objects are masked from ‘package:tidyr’:\n",
            "\n",
            "    expand, pack, unpack\n",
            "\n",
            "\n",
            "Loaded glmnet 4.1-8\n",
            "\n"
          ]
        }
      ]
    },
    {
      "cell_type": "code",
      "source": [
        "fitlasso<-glmnet(X_train,y_train,alpha = 1)\n",
        "fitridge<-glmnet(X_train,y_train,alpha = 0)\n",
        "\n",
        "#ver la variacion de los coeficientes con el lambda\n",
        "plot(fitlasso, xvar=\"lambda\")"
      ],
      "metadata": {
        "colab": {
          "base_uri": "https://localhost:8080/",
          "height": 437
        },
        "id": "x-ojQOV6tvba",
        "outputId": "cc3314ea-2e82-407d-e4dc-08435e425194"
      },
      "execution_count": 63,
      "outputs": [
        {
          "output_type": "display_data",
          "data": {
            "text/plain": [
              "plot without title"
            ],
            "image/png": "[encoded data removed]"
          },
          "metadata": {
            "image/png": {
              "width": 420,
              "height": 420
            }
          }
        }
      ]
    },
    {
      "cell_type": "code",
      "source": [
        "plot(fitridge, xvar=\"lambda\")"
      ],
      "metadata": {
        "colab": {
          "base_uri": "https://localhost:8080/",
          "height": 437
        },
        "id": "cwen2dPDyEkz",
        "outputId": "6402fab6-b151-4c5f-ecec-3a9158bdaaad"
      },
      "execution_count": 64,
      "outputs": [
        {
          "output_type": "display_data",
          "data": {
            "text/plain": [
              "plot without title"
            ],
            "image/png": "[encoded data removed]"
          },
          "metadata": {
            "image/png": {
              "width": 420,
              "height": 420
            }
          }
        }
      ]
    },
    {
      "cell_type": "code",
      "source": [
        "X_train <- as.matrix(X_train)\n",
        "X_test <- as.matrix(X_test)\n",
        "y_train <- as.numeric(y_train)\n",
        "y_test <- as.numeric(y_test)\n"
      ],
      "metadata": {
        "id": "BgSF4GCUzo80"
      },
      "execution_count": 65,
      "outputs": []
    },
    {
      "cell_type": "code",
      "source": [
        "foundridge<-cv.glmnet(X_train, y_train,alpha=0,nfolds=5)"
      ],
      "metadata": {
        "id": "nk0c0x3_yeI_"
      },
      "execution_count": 66,
      "outputs": []
    },
    {
      "cell_type": "code",
      "source": [
        "plot(foundridge)"
      ],
      "metadata": {
        "colab": {
          "base_uri": "https://localhost:8080/",
          "height": 437
        },
        "id": "YWK_d_3gzs_e",
        "outputId": "103ffbfa-3783-4046-ffc3-42d0ec980348"
      },
      "execution_count": 67,
      "outputs": [
        {
          "output_type": "display_data",
          "data": {
            "text/plain": [
              "plot without title"
            ],
            "image/png": "[encoded data removed]"
          },
          "metadata": {
            "image/png": {
              "width": 420,
              "height": 420
            }
          }
        }
      ]
    },
    {
      "cell_type": "code",
      "source": [
        "#veo los lambda minimos\n",
        "foundridge$lambda.1se"
      ],
      "metadata": {
        "colab": {
          "base_uri": "https://localhost:8080/",
          "height": 34
        },
        "id": "oNU0RP73z8FP",
        "outputId": "80c9e11d-f048-4750-ec2c-423283ebd671"
      },
      "execution_count": 68,
      "outputs": [
        {
          "output_type": "display_data",
          "data": {
            "text/html": [
              "0.586226129471914"
            ],
            "text/markdown": "0.586226129471914",
            "text/latex": "0.586226129471914",
            "text/plain": [
              "[1] 0.5862261"
            ]
          },
          "metadata": {}
        }
      ]
    },
    {
      "cell_type": "code",
      "source": [
        "foundridge$lambda.min"
      ],
      "metadata": {
        "colab": {
          "base_uri": "https://localhost:8080/",
          "height": 34
        },
        "id": "htACgDSUz-yN",
        "outputId": "e21eba2f-9c10-406a-b68a-588a4432c649"
      },
      "execution_count": 69,
      "outputs": [
        {
          "output_type": "display_data",
          "data": {
            "text/html": [
              "0.305658789770854"
            ],
            "text/markdown": "0.305658789770854",
            "text/latex": "0.305658789770854",
            "text/plain": [
              "[1] 0.3056588"
            ]
          },
          "metadata": {}
        }
      ]
    },
    {
      "cell_type": "code",
      "source": [
        "coef(foundridge,s=foundridge$lambda.1se)"
      ],
      "metadata": {
        "colab": {
          "base_uri": "https://localhost:8080/",
          "height": 555
        },
        "id": "xB91e-9-0UeX",
        "outputId": "bc520ee8-a0bd-45d4-88d4-6dc8996fc077"
      },
      "execution_count": 70,
      "outputs": [
        {
          "output_type": "display_data",
          "data": {
            "text/plain": [
              "29 x 1 sparse Matrix of class \"dgCMatrix\"\n",
              "                                          s1\n",
              "(Intercept)                     6.411907e+01\n",
              "Intercept                       .           \n",
              "Amount_Requested                8.121949e-05\n",
              "Amount_Funded_By_Investors      8.744097e-05\n",
              "Loan_Length                     1.192882e-01\n",
              "Debt_To_Income_Ratio            1.624597e-02\n",
              "Monthly_Income                 -2.494172e-05\n",
              "Open_CREDIT_Lines              -3.850773e-02\n",
              "Revolving_CREDIT_Balance       -6.620544e-06\n",
              "Inquiries_in_the_Last_6_Months  4.625045e-01\n",
              "Employment_Length               1.640756e-02\n",
              "Fico_Mean                      -8.237540e-02\n",
              "Loan_Purposecar                -2.208995e-01\n",
              "Loan_Purposecredit_card        -1.506222e-01\n",
              "Loan_Purposedebt_consolidation -7.765810e-02\n",
              "Loan_Purposeeducational         7.523901e-01\n",
              "Loan_Purposehome_improvement   -1.086650e-01\n",
              "Loan_Purposehouse               3.654236e-01\n",
              "Loan_Purposemajor_purchase      1.881806e-01\n",
              "Loan_Purposemedical            -3.265121e-01\n",
              "Loan_Purposemoving              8.851024e-01\n",
              "Loan_Purposeother               4.970589e-01\n",
              "Loan_Purposerenewable_energy   -3.560326e-01\n",
              "Loan_Purposesmall_business      6.986653e-02\n",
              "Loan_Purposevacation            4.953892e-01\n",
              "Loan_Purposewedding            -3.975700e-01\n",
              "Home_OwnershipOTHER             1.861031e+00\n",
              "Home_OwnershipOWN               2.918997e-01\n",
              "Home_OwnershipRENT              2.946526e-01"
            ]
          },
          "metadata": {}
        }
      ]
    },
    {
      "cell_type": "code",
      "source": [
        "foundlasso<-cv.glmnet(X_train, y_train,alpha=0,nfolds=5)\n",
        "\n",
        "#grafico lambda vs mse\n",
        "plot(foundlasso)"
      ],
      "metadata": {
        "colab": {
          "base_uri": "https://localhost:8080/",
          "height": 437
        },
        "id": "xWBwATnQ0tbU",
        "outputId": "69c9cc0b-7888-41f5-bc59-877a8245732d"
      },
      "execution_count": 71,
      "outputs": [
        {
          "output_type": "display_data",
          "data": {
            "text/plain": [
              "plot without title"
            ],
            "image/png": "[encoded data removed]"
          },
          "metadata": {
            "image/png": {
              "width": 420,
              "height": 420
            }
          }
        }
      ]
    },
    {
      "cell_type": "code",
      "source": [
        "#veo los lambda minimos\n",
        "foundlasso$lambda.1se"
      ],
      "metadata": {
        "colab": {
          "base_uri": "https://localhost:8080/",
          "height": 34
        },
        "id": "5xz624zB01zj",
        "outputId": "dd3c0ca3-5411-4ac9-e4c7-b4ee7ef7bc64"
      },
      "execution_count": 72,
      "outputs": [
        {
          "output_type": "display_data",
          "data": {
            "text/html": [
              "0.586226129471914"
            ],
            "text/markdown": "0.586226129471914",
            "text/latex": "0.586226129471914",
            "text/plain": [
              "[1] 0.5862261"
            ]
          },
          "metadata": {}
        }
      ]
    },
    {
      "cell_type": "code",
      "source": [
        "foundlasso$lambda.min"
      ],
      "metadata": {
        "colab": {
          "base_uri": "https://localhost:8080/",
          "height": 34
        },
        "id": "cW9tmMJo0260",
        "outputId": "5adf6049-16bd-445b-a865-67c6d8989958"
      },
      "execution_count": 73,
      "outputs": [
        {
          "output_type": "display_data",
          "data": {
            "text/html": [
              "0.305658789770854"
            ],
            "text/markdown": "0.305658789770854",
            "text/latex": "0.305658789770854",
            "text/plain": [
              "[1] 0.3056588"
            ]
          },
          "metadata": {}
        }
      ]
    },
    {
      "cell_type": "code",
      "source": [
        "coef(fitlasso,s=foundlasso$lambda.min)"
      ],
      "metadata": {
        "colab": {
          "base_uri": "https://localhost:8080/",
          "height": 555
        },
        "id": "s1QtFOO7067J",
        "outputId": "b368f46f-de55-4898-af67-a67cb3fe165e"
      },
      "execution_count": 74,
      "outputs": [
        {
          "output_type": "display_data",
          "data": {
            "text/plain": [
              "29 x 1 sparse Matrix of class \"dgCMatrix\"\n",
              "                                          s1\n",
              "(Intercept)                     6.694210e+01\n",
              "Intercept                       .           \n",
              "Amount_Requested                4.798499e-05\n",
              "Amount_Funded_By_Investors      7.197526e-05\n",
              "Loan_Length                     1.176005e-01\n",
              "Debt_To_Income_Ratio            .           \n",
              "Monthly_Income                  .           \n",
              "Open_CREDIT_Lines               .           \n",
              "Revolving_CREDIT_Balance        .           \n",
              "Inquiries_in_the_Last_6_Months  2.003209e-01\n",
              "Employment_Length               .           \n",
              "Fico_Mean                      -8.532500e-02\n",
              "Loan_Purposecar                 .           \n",
              "Loan_Purposecredit_card         .           \n",
              "Loan_Purposedebt_consolidation  .           \n",
              "Loan_Purposeeducational         .           \n",
              "Loan_Purposehome_improvement    .           \n",
              "Loan_Purposehouse               .           \n",
              "Loan_Purposemajor_purchase      .           \n",
              "Loan_Purposemedical             .           \n",
              "Loan_Purposemoving              .           \n",
              "Loan_Purposeother               .           \n",
              "Loan_Purposerenewable_energy    .           \n",
              "Loan_Purposesmall_business      .           \n",
              "Loan_Purposevacation            .           \n",
              "Loan_Purposewedding             .           \n",
              "Home_OwnershipOTHER             .           \n",
              "Home_OwnershipOWN               .           \n",
              "Home_OwnershipRENT              .           "
            ]
          },
          "metadata": {}
        }
      ]
    },
    {
      "cell_type": "code",
      "source": [
        "coef(fitlasso,s=foundlasso$lambda.1se)"
      ],
      "metadata": {
        "colab": {
          "base_uri": "https://localhost:8080/",
          "height": 555
        },
        "id": "MhHxp5EJeeCu",
        "outputId": "4e9c30b1-20ef-4dc7-a8de-bbd91f4aae87"
      },
      "execution_count": 99,
      "outputs": [
        {
          "output_type": "display_data",
          "data": {
            "text/plain": [
              "29 x 1 sparse Matrix of class \"dgCMatrix\"\n",
              "                                          s1\n",
              "(Intercept)                     6.219846e+01\n",
              "Intercept                       .           \n",
              "Amount_Requested                4.117533e-05\n",
              "Amount_Funded_By_Investors      4.628739e-05\n",
              "Loan_Length                     9.948679e-02\n",
              "Debt_To_Income_Ratio            .           \n",
              "Monthly_Income                  .           \n",
              "Open_CREDIT_Lines               .           \n",
              "Revolving_CREDIT_Balance        .           \n",
              "Inquiries_in_the_Last_6_Months  .           \n",
              "Employment_Length               .           \n",
              "Fico_Mean                      -7.677539e-02\n",
              "Loan_Purposecar                 .           \n",
              "Loan_Purposecredit_card         .           \n",
              "Loan_Purposedebt_consolidation  .           \n",
              "Loan_Purposeeducational         .           \n",
              "Loan_Purposehome_improvement    .           \n",
              "Loan_Purposehouse               .           \n",
              "Loan_Purposemajor_purchase      .           \n",
              "Loan_Purposemedical             .           \n",
              "Loan_Purposemoving              .           \n",
              "Loan_Purposeother               .           \n",
              "Loan_Purposerenewable_energy    .           \n",
              "Loan_Purposesmall_business      .           \n",
              "Loan_Purposevacation            .           \n",
              "Loan_Purposewedding             .           \n",
              "Home_OwnershipOTHER             .           \n",
              "Home_OwnershipOWN               .           \n",
              "Home_OwnershipRENT              .           "
            ]
          },
          "metadata": {}
        }
      ]
    },
    {
      "cell_type": "code",
      "source": [
        "# aqui hago redes elasticas de 0.1 a 0.9\n",
        "for (i in 1:10){\n",
        "  assign(paste(\"found\", i, sep=\"\"), cv.glmnet(X_train, y_train, nfolds=5,\n",
        "                                              alpha=i/10,))}"
      ],
      "metadata": {
        "id": "gVBI_O2r1G2R"
      },
      "execution_count": 75,
      "outputs": []
    },
    {
      "cell_type": "code",
      "source": [
        "min(foundridge$cvm)"
      ],
      "metadata": {
        "colab": {
          "base_uri": "https://localhost:8080/",
          "height": 34
        },
        "id": "VgZRi0kr1PgK",
        "outputId": "475c65c6-2dcf-49f7-c30c-191f394dd200"
      },
      "execution_count": 76,
      "outputs": [
        {
          "output_type": "display_data",
          "data": {
            "text/html": [
              "3.86840700108393"
            ],
            "text/markdown": "3.86840700108393",
            "text/latex": "3.86840700108393",
            "text/plain": [
              "[1] 3.868407"
            ]
          },
          "metadata": {}
        }
      ]
    },
    {
      "cell_type": "code",
      "source": [
        "min(found1$cvm)"
      ],
      "metadata": {
        "colab": {
          "base_uri": "https://localhost:8080/",
          "height": 34
        },
        "id": "5swy7FHj1akZ",
        "outputId": "c27ff025-5246-4b96-8c7e-1e0491019b97"
      },
      "execution_count": 77,
      "outputs": [
        {
          "output_type": "display_data",
          "data": {
            "text/html": [
              "3.81726976609605"
            ],
            "text/markdown": "3.81726976609605",
            "text/latex": "3.81726976609605",
            "text/plain": [
              "[1] 3.81727"
            ]
          },
          "metadata": {}
        }
      ]
    },
    {
      "cell_type": "code",
      "source": [
        "min(found2$cvm)"
      ],
      "metadata": {
        "colab": {
          "base_uri": "https://localhost:8080/",
          "height": 34
        },
        "id": "GxGIIcHQ1byG",
        "outputId": "9cde2389-2ca5-4dc6-d1ac-213de98817c4"
      },
      "execution_count": 78,
      "outputs": [
        {
          "output_type": "display_data",
          "data": {
            "text/html": [
              "3.76528976789822"
            ],
            "text/markdown": "3.76528976789822",
            "text/latex": "3.76528976789822",
            "text/plain": [
              "[1] 3.76529"
            ]
          },
          "metadata": {}
        }
      ]
    },
    {
      "cell_type": "code",
      "source": [
        "min(found3$cvm)"
      ],
      "metadata": {
        "colab": {
          "base_uri": "https://localhost:8080/",
          "height": 34
        },
        "id": "bYxevRYK1cND",
        "outputId": "6a282548-a3ac-4c63-c5b3-85f905a051ce"
      },
      "execution_count": 79,
      "outputs": [
        {
          "output_type": "display_data",
          "data": {
            "text/html": [
              "3.80317913770499"
            ],
            "text/markdown": "3.80317913770499",
            "text/latex": "3.80317913770499",
            "text/plain": [
              "[1] 3.803179"
            ]
          },
          "metadata": {}
        }
      ]
    },
    {
      "cell_type": "code",
      "source": [
        "min(found4$cvm)"
      ],
      "metadata": {
        "colab": {
          "base_uri": "https://localhost:8080/",
          "height": 34
        },
        "id": "JhasxOdA1cbZ",
        "outputId": "e32366da-f60a-4747-e0ca-ebe600a3a7b0"
      },
      "execution_count": 80,
      "outputs": [
        {
          "output_type": "display_data",
          "data": {
            "text/html": [
              "3.80606536802121"
            ],
            "text/markdown": "3.80606536802121",
            "text/latex": "3.80606536802121",
            "text/plain": [
              "[1] 3.806065"
            ]
          },
          "metadata": {}
        }
      ]
    },
    {
      "cell_type": "code",
      "source": [
        "min(found5$cvm)"
      ],
      "metadata": {
        "colab": {
          "base_uri": "https://localhost:8080/",
          "height": 34
        },
        "id": "4svGs8Hi1cp-",
        "outputId": "9c77ad5f-ae5f-4777-e175-067b5ef28ef3"
      },
      "execution_count": 81,
      "outputs": [
        {
          "output_type": "display_data",
          "data": {
            "text/html": [
              "3.78658680298633"
            ],
            "text/markdown": "3.78658680298633",
            "text/latex": "3.78658680298633",
            "text/plain": [
              "[1] 3.786587"
            ]
          },
          "metadata": {}
        }
      ]
    },
    {
      "cell_type": "code",
      "source": [
        "min(found6$cvm)"
      ],
      "metadata": {
        "colab": {
          "base_uri": "https://localhost:8080/",
          "height": 34
        },
        "id": "p7fJ2V-v1c4B",
        "outputId": "d7b81d41-33a7-45f9-fc9e-77bf7ef2028d"
      },
      "execution_count": 82,
      "outputs": [
        {
          "output_type": "display_data",
          "data": {
            "text/html": [
              "3.81114182731872"
            ],
            "text/markdown": "3.81114182731872",
            "text/latex": "3.81114182731872",
            "text/plain": [
              "[1] 3.811142"
            ]
          },
          "metadata": {}
        }
      ]
    },
    {
      "cell_type": "code",
      "source": [
        "min(found7$cvm)"
      ],
      "metadata": {
        "colab": {
          "base_uri": "https://localhost:8080/",
          "height": 34
        },
        "id": "fqSTMURK1dNh",
        "outputId": "734cf134-0d2c-4f96-d4bb-906769bad576"
      },
      "execution_count": 83,
      "outputs": [
        {
          "output_type": "display_data",
          "data": {
            "text/html": [
              "3.78125811485802"
            ],
            "text/markdown": "3.78125811485802",
            "text/latex": "3.78125811485802",
            "text/plain": [
              "[1] 3.781258"
            ]
          },
          "metadata": {}
        }
      ]
    },
    {
      "cell_type": "code",
      "source": [
        "min(found8$cvm)"
      ],
      "metadata": {
        "colab": {
          "base_uri": "https://localhost:8080/",
          "height": 34
        },
        "id": "k5wp1TQk1ddN",
        "outputId": "14ee8a98-130f-47ca-81af-1030a601ef7a"
      },
      "execution_count": 84,
      "outputs": [
        {
          "output_type": "display_data",
          "data": {
            "text/html": [
              "3.81188128319809"
            ],
            "text/markdown": "3.81188128319809",
            "text/latex": "3.81188128319809",
            "text/plain": [
              "[1] 3.811881"
            ]
          },
          "metadata": {}
        }
      ]
    },
    {
      "cell_type": "code",
      "source": [
        "min(found9$cvm)"
      ],
      "metadata": {
        "colab": {
          "base_uri": "https://localhost:8080/",
          "height": 34
        },
        "id": "-DNyANhn1kVH",
        "outputId": "299404cd-598e-4b09-f4d2-ac3479dae1e9"
      },
      "execution_count": 85,
      "outputs": [
        {
          "output_type": "display_data",
          "data": {
            "text/html": [
              "3.79792344564105"
            ],
            "text/markdown": "3.79792344564105",
            "text/latex": "3.79792344564105",
            "text/plain": [
              "[1] 3.797923"
            ]
          },
          "metadata": {}
        }
      ]
    },
    {
      "cell_type": "code",
      "source": [
        "elastic1<-glmnet(X_train,y_train,alpha = 0.1)\n",
        "coef(elastic1,s=found2$lambda.1se)"
      ],
      "metadata": {
        "colab": {
          "base_uri": "https://localhost:8080/",
          "height": 555
        },
        "id": "xpNgEGho1klw",
        "outputId": "8ae5f79a-3146-420b-f196-4ffb360b1e24"
      },
      "execution_count": 90,
      "outputs": [
        {
          "output_type": "display_data",
          "data": {
            "text/plain": [
              "29 x 1 sparse Matrix of class \"dgCMatrix\"\n",
              "                                          s1\n",
              "(Intercept)                     6.700309e+01\n",
              "Intercept                       .           \n",
              "Amount_Requested                7.619534e-05\n",
              "Amount_Funded_By_Investors      8.739669e-05\n",
              "Loan_Length                     1.236193e-01\n",
              "Debt_To_Income_Ratio            6.488356e-03\n",
              "Monthly_Income                 -1.533850e-05\n",
              "Open_CREDIT_Lines              -3.331129e-02\n",
              "Revolving_CREDIT_Balance       -4.799653e-06\n",
              "Inquiries_in_the_Last_6_Months  4.425076e-01\n",
              "Employment_Length               2.583996e-03\n",
              "Fico_Mean                      -8.647097e-02\n",
              "Loan_Purposecar                 .           \n",
              "Loan_Purposecredit_card        -1.996339e-02\n",
              "Loan_Purposedebt_consolidation  .           \n",
              "Loan_Purposeeducational         4.953814e-01\n",
              "Loan_Purposehome_improvement    .           \n",
              "Loan_Purposehouse               1.291248e-01\n",
              "Loan_Purposemajor_purchase      1.162737e-01\n",
              "Loan_Purposemedical             .           \n",
              "Loan_Purposemoving              6.675370e-01\n",
              "Loan_Purposeother               4.424188e-01\n",
              "Loan_Purposerenewable_energy    .           \n",
              "Loan_Purposesmall_business      3.884365e-03\n",
              "Loan_Purposevacation            1.037323e-01\n",
              "Loan_Purposewedding            -1.219388e-01\n",
              "Home_OwnershipOTHER             9.086541e-01\n",
              "Home_OwnershipOWN               1.452408e-01\n",
              "Home_OwnershipRENT              1.862719e-01"
            ]
          },
          "metadata": {}
        }
      ]
    },
    {
      "cell_type": "code",
      "source": [
        "# Convierte X_test a data.frame SOLO para stepwise (lm)\n",
        "predicciones4 <- predict(best_model, as.data.frame(X_test))\n",
        "\n",
        "# Usa X_test como matriz para glmnet (red elástica, ridge y lasso)\n",
        "predicciones1 <- predict.glmnet(elastic1, X_test, s = elastic1$lambda.min)\n",
        "predicciones2 <- predict.glmnet(fitridge, X_test, s = foundridge$lambda.min)\n",
        "predicciones3 <- predict.glmnet(fitlasso, X_test, s = foundlasso$lambda.min)\n",
        "predicciones5 <- predict.glmnet(fitridge, X_test, s = foundridge$lambda.1se)\n",
        "predicciones6 <- predict.glmnet(fitlasso, X_test, s = foundlasso$lambda.1se)\n"
      ],
      "metadata": {
        "id": "iN7n-0CY1xgY"
      },
      "execution_count": 95,
      "outputs": []
    },
    {
      "cell_type": "code",
      "source": [
        "#calcular el MSE\n",
        "erroreselastic=sqrt(mean((predicciones1-X_test[,1])^2))\n",
        "erroresridge=sqrt(mean((predicciones2-X_test[,1])^2))\n",
        "erroreslasso=sqrt(mean((predicciones3-X_test[,1])^2))\n",
        "erroresstep=sqrt(mean((predicciones4-X_test[,1])^2))\n",
        "erroresridge1se=sqrt(mean((predicciones5-X_test[,1])^2))\n",
        "erroreslasso1se=sqrt(mean((predicciones6-X_test[,1])^2))\n"
      ],
      "metadata": {
        "id": "NfPxkaC84IKI"
      },
      "execution_count": 96,
      "outputs": []
    },
    {
      "cell_type": "code",
      "source": [
        "cat(\"\\n Errores de los Modelos \\n\")\n",
        "cat(\"----------------------------------\\n\")\n",
        "cat(\" Elastic Net:\", erroreselastic, \"\\n\")\n",
        "cat(\" Ridge:\", erroresridge, \"\\n\")\n",
        "cat(\" Lasso:\", erroreslasso, \"\\n\")\n",
        "cat(\" Stepwise:\", erroresstep, \"\\n\")\n",
        "cat(\" Ridge (1-SE):\", erroresridge1se, \"\\n\")\n",
        "cat(\" Lasso (1-SE):\", erroreslasso1se, \"\\n\")\n",
        "cat(\"----------------------------------\\n\")\n"
      ],
      "metadata": {
        "colab": {
          "base_uri": "https://localhost:8080/"
        },
        "id": "MznoKwoJde4Z",
        "outputId": "81502398-e5fe-4b6a-cd5e-07a6de939981"
      },
      "execution_count": 98,
      "outputs": [
        {
          "output_type": "stream",
          "name": "stdout",
          "text": [
            "\n",
            " Errores de los Modelos \n",
            "----------------------------------\n",
            " Elastic Net: 12.39012 \n",
            " Ridge: 12.57232 \n",
            " Lasso: 12.45678 \n",
            " Stepwise: 12.62351 \n",
            " Ridge (1-SE): 12.5282 \n",
            " Lasso (1-SE): 12.34931 \n",
            "----------------------------------\n"
          ]
        }
      ]
    },
    {
      "cell_type": "markdown",
      "source": [
        "\n",
        "Los 6 modelos de regresion de: stepwise,lasso,rigde y elastic, lasso con 1se y rigde con 1se, tuvieron un mse que se diferencia por decimas.\n",
        "\n",
        "El mejor modelo que tiene menor MSE es el modelo de regresión lineal Lasso con 1SE CON 12.34931 con un lambda de 0.586\n",
        "\n",
        "El segundo mejor modelo es Elastic Net con MSE = 12.39012, con un alpha de = 0.8, que obtuve el menor error de validación cruzada con 3.765289"
      ],
      "metadata": {
        "id": "MRrt-ZKbZtrP"
      }
    },
    {
      "cell_type": "markdown",
      "source": [
        "Modelo del mejor modelo de regresión Lasso con 1se"
      ],
      "metadata": {
        "id": "fNGEq3P1e94w"
      }
    },
    {
      "cell_type": "code",
      "source": [
        "# 1️ Obtener coeficientes del modelo Lasso en lambda.1se\n",
        "coef_lasso <- coef(fitlasso, s = foundlasso$lambda.1se)\n",
        "\n",
        "# 2️Extraer nombres de las variables seleccionadas (excluyendo el intercepto)\n",
        "vars_seleccionadas <- rownames(coef_lasso)[coef_lasso[, 1] != 0]\n",
        "vars_seleccionadas <- vars_seleccionadas[vars_seleccionadas != \"(Intercept)\"]  # Remover el intercepto\n",
        "\n",
        "# 3️ Filtrar X_train y X_test con las variables seleccionadas\n",
        "X_train_lasso <- X_train[, vars_seleccionadas, drop = FALSE]  # drop = FALSE para mantener el formato de data.frame\n",
        "X_test_lasso <- X_test[, vars_seleccionadas, drop = FALSE]\n",
        "\n",
        "# 4️ Ajustar el modelo de regresión lineal con las variables seleccionadas\n",
        "modelo_lm <- lm(y_train ~ ., data = as.data.frame(cbind(y_train, X_train_lasso)))  # Unimos y_train con X_train_lasso\n",
        "\n",
        "# 5️ Hacer predicciones en el conjunto de prueba\n",
        "y_pred <- predict(modelo_lm, newdata = as.data.frame(X_test_lasso))\n",
        "\n",
        "# 6️ Evaluar el modelo (por ejemplo, con RMSE)\n",
        "rmse <- sqrt(mean((y_test - y_pred)^2))\n",
        "print(paste(\"RMSE del modelo final:\", round(rmse, 4)))\n",
        "\n",
        "# 7️ Resumen del modelo\n",
        "summary(modelo_lm)\n"
      ],
      "metadata": {
        "colab": {
          "base_uri": "https://localhost:8080/",
          "height": 416
        },
        "id": "AQBPxcYWe9Ri",
        "outputId": "47a222e1-df8b-4a27-c67c-b0832254d095"
      },
      "execution_count": 103,
      "outputs": [
        {
          "output_type": "stream",
          "name": "stdout",
          "text": [
            "[1] \"RMSE del modelo final: 2.0193\"\n"
          ]
        },
        {
          "output_type": "display_data",
          "data": {
            "text/plain": [
              "\n",
              "Call:\n",
              "lm(formula = y_train ~ ., data = as.data.frame(cbind(y_train, \n",
              "    X_train_lasso)))\n",
              "\n",
              "Residuals:\n",
              "    Min      1Q  Median      3Q     Max \n",
              "-7.0498 -1.3728 -0.1332  1.2238  8.5121 \n",
              "\n",
              "Coefficients:\n",
              "                             Estimate Std. Error t value Pr(>|t|)    \n",
              "(Intercept)                 7.308e+01  1.136e+00  64.335  < 2e-16 ***\n",
              "Amount_Requested            7.713e-05  2.652e-05   2.908  0.00369 ** \n",
              "Amount_Funded_By_Investors  7.608e-05  2.658e-05   2.862  0.00426 ** \n",
              "Loan_Length                 1.399e-01  5.719e-03  24.462  < 2e-16 ***\n",
              "Fico_Mean                  -9.565e-02  1.579e-03 -60.575  < 2e-16 ***\n",
              "---\n",
              "Signif. codes:  0 ‘***’ 0.001 ‘**’ 0.01 ‘*’ 0.05 ‘.’ 0.1 ‘ ’ 1\n",
              "\n",
              "Residual standard error: 2.021 on 1526 degrees of freedom\n",
              "Multiple R-squared:  0.7706,\tAdjusted R-squared:   0.77 \n",
              "F-statistic:  1281 on 4 and 1526 DF,  p-value: < 2.2e-16\n"
            ]
          },
          "metadata": {}
        }
      ]
    },
    {
      "cell_type": "code",
      "source": [
        "# 1️ Obtener coeficientes del modelo Elastic Net en lambda.1se\n",
        "coef_elastic <- coef(elastic1, s = found2$lambda.1se)\n",
        "\n",
        "# 2️ Extraer nombres de las variables seleccionadas (excluyendo el intercepto)\n",
        "vars_seleccionadas_elastic <- rownames(coef_elastic)[coef_elastic[, 1] != 0]\n",
        "vars_seleccionadas_elastic <- vars_seleccionadas_elastic[vars_seleccionadas_elastic != \"(Intercept)\"]\n",
        "\n",
        "# 3️ Filtrar X_train y X_test con las variables seleccionadas\n",
        "X_train_elastic <- X_train[, vars_seleccionadas_elastic, drop = FALSE]\n",
        "X_test_elastic <- X_test[, vars_seleccionadas_elastic, drop = FALSE]\n",
        "\n",
        "# 4️ Ajustar el modelo de regresión lineal con las variables seleccionadas\n",
        "modelo_elastic_lm <- lm(y_train ~ ., data = as.data.frame(cbind(y_train, X_train_elastic)))\n",
        "\n",
        "# 5️ Hacer predicciones en el conjunto de prueba\n",
        "y_pred_elastic <- predict(modelo_elastic_lm, newdata = as.data.frame(X_test_elastic))\n",
        "\n",
        "# 6️ Evaluar el modelo con RMSE\n",
        "rmse_elastic <- sqrt(mean((y_test - y_pred_elastic)^2))\n",
        "print(paste(\"RMSE del modelo con Elastic Net:\", round(rmse_elastic, 4)))\n",
        "\n",
        "# 7️ Resumen del modelo\n",
        "summary(modelo_elastic_lm)\n"
      ],
      "metadata": {
        "colab": {
          "base_uri": "https://localhost:8080/",
          "height": 728
        },
        "id": "QqXrt0Ikgds4",
        "outputId": "3684e16e-d4b0-4477-bc5a-f4d734bf9d3c"
      },
      "execution_count": 104,
      "outputs": [
        {
          "output_type": "stream",
          "name": "stdout",
          "text": [
            "[1] \"RMSE del modelo con Elastic Net: 1.9366\"\n"
          ]
        },
        {
          "output_type": "display_data",
          "data": {
            "text/plain": [
              "\n",
              "Call:\n",
              "lm(formula = y_train ~ ., data = as.data.frame(cbind(y_train, \n",
              "    X_train_elastic)))\n",
              "\n",
              "Residuals:\n",
              "    Min      1Q  Median      3Q     Max \n",
              "-6.5201 -1.2447 -0.1802  1.1222  8.8706 \n",
              "\n",
              "Coefficients:\n",
              "                                 Estimate Std. Error t value Pr(>|t|)    \n",
              "(Intercept)                     7.276e+01  1.213e+00  59.960  < 2e-16 ***\n",
              "Amount_Requested                8.233e-05  2.626e-05   3.135 0.001751 ** \n",
              "Amount_Funded_By_Investors      1.035e-04  2.574e-05   4.022 6.05e-05 ***\n",
              "Loan_Length                     1.322e-01  5.567e-03  23.740  < 2e-16 ***\n",
              "Debt_To_Income_Ratio            9.913e-03  8.447e-03   1.174 0.240742    \n",
              "Monthly_Income                 -2.834e-05  2.459e-05  -1.152 0.249351    \n",
              "Open_CREDIT_Lines              -5.262e-02  1.464e-02  -3.594 0.000336 ***\n",
              "Revolving_CREDIT_Balance       -1.240e-05  5.929e-06  -2.092 0.036589 *  \n",
              "Inquiries_in_the_Last_6_Months  4.925e-01  5.004e-02   9.841  < 2e-16 ***\n",
              "Employment_Length               1.701e-02  1.523e-02   1.117 0.264247    \n",
              "Fico_Mean                      -9.533e-02  1.604e-03 -59.436  < 2e-16 ***\n",
              "Loan_Purposecredit_card        -5.211e-02  1.335e-01  -0.390 0.696304    \n",
              "Loan_Purposeeducational         1.406e+00  6.201e-01   2.268 0.023487 *  \n",
              "Loan_Purposehouse               5.246e-01  5.212e-01   1.007 0.314331    \n",
              "Loan_Purposemajor_purchase      5.754e-01  2.598e-01   2.215 0.026900 *  \n",
              "Loan_Purposemoving              1.087e+00  4.508e-01   2.412 0.015998 *  \n",
              "Loan_Purposeother               7.234e-01  2.023e-01   3.576 0.000359 ***\n",
              "Loan_Purposesmall_business      3.094e-01  2.674e-01   1.157 0.247466    \n",
              "Loan_Purposevacation            7.061e-01  5.885e-01   1.200 0.230370    \n",
              "Loan_Purposewedding            -2.650e-01  3.722e-01  -0.712 0.476590    \n",
              "Home_OwnershipOTHER             1.837e+00  1.120e+00   1.640 0.101271    \n",
              "Home_OwnershipOWN               2.944e-01  1.909e-01   1.542 0.123322    \n",
              "Home_OwnershipRENT              2.053e-01  1.128e-01   1.820 0.069021 .  \n",
              "---\n",
              "Signif. codes:  0 ‘***’ 0.001 ‘**’ 0.01 ‘*’ 0.05 ‘.’ 0.1 ‘ ’ 1\n",
              "\n",
              "Residual standard error: 1.927 on 1508 degrees of freedom\n",
              "Multiple R-squared:  0.7938,\tAdjusted R-squared:  0.7908 \n",
              "F-statistic: 263.9 on 22 and 1508 DF,  p-value: < 2.2e-16\n"
            ]
          },
          "metadata": {}
        }
      ]
    },
    {
      "cell_type": "markdown",
      "source": [
        "ANALISIS: Comparando los dos modelos con el RMSE: Ahora el mejor modelo es la red-Elastica con RMSE =1.9366, Con Multiple R-squared:  0.7938,\tAdjusted R-squared:  0.7908, mientras que con el modelo de regresion de lasso-1se su RMSE es = 2.019 con Multiple R-squared:  0.7706,\tAdjusted R-squared:   0.77\n",
        "\n",
        "Por lo tanto las variables explicativas de los 2 modelos explican muy bien la variable dependiente. En el caso que uno necesite la mejor explicación del modelo la mejor elección seria La red-elastica, pero  si uno quiere un modelo mas sencillo, con menos varibales, sin perder casi nada de explicación del modelo entonces la mejor obción es Lasso-1se"
      ],
      "metadata": {
        "id": "EkVRteHIhYWB"
      }
    },
    {
      "cell_type": "markdown",
      "source": [
        "RESUMEN GENERADO POR IA:\n",
        "\n",
        "✍️ Revisión y Sugerencias\n",
        "Aquí tienes una versión mejor estructurada y más precisa del análisis:\n",
        "\n",
        "Análisis del Desempeño de los Modelos:\n",
        "Al comparar los dos modelos mediante RMSE, R² y R² ajustado, encontramos lo siguiente:\n",
        "\n",
        "📌 Elastic Net:\n",
        "\n",
        "RMSE = 1.9366\n",
        "\n",
        "𝑅2R2= 0.7938\n",
        "\n",
        "𝑅2R2ajustado = 0.7908\n",
        "\n",
        "📌 Lasso (1-SE):\n",
        "\n",
        "RMSE = 2.019\n",
        "\n",
        "𝑅2R2= 0.7706\n",
        "\n",
        "𝑅2R2ajustado = 0.77\n",
        "\n",
        "Ambos modelos explican bien la variable dependiente, con valores de\n",
        "𝑅2R2 cercanos a 0.80. Sin embargo, Elastic Net ofrece un mejor ajuste, con un menor error cuadrático medio (RMSE más bajo) y una mayor capacidad explicativa (\n",
        "𝑅2R2 superior).\n",
        "\n",
        "Conclusión:\n",
        "\n",
        "Si se busca el mejor ajuste y menor error de predicción, Elastic Net es la mejor opción.\n",
        "\n",
        "Si se prefiere un modelo más simple, con menos variables, sin perder demasiada capacidad predictiva, Lasso (1-SE) es una buena alternativa.\n",
        "\n",
        "🔹 Recomendación: Si la interpretabilidad es clave y se busca reducir la cantidad de variables, Lasso (1-SE) es preferible. Pero si el objetivo es maximizar la precisión del modelo, Elastic Net es la mejor elección"
      ],
      "metadata": {
        "id": "IUWJ1Fl3jBsI"
      }
    }
  ]
}